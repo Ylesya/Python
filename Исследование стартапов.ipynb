{
 "cells": [
  {
   "cell_type": "markdown",
   "metadata": {
    "id": "4mJbK1knrJgz"
   },
   "source": [
    "# Проект: Исследование стартапов\n",
    "- Автор:Мусабаева Алеся Талгатовна\n",
    "- Дата:16.12.2024"
   ]
  },
  {
   "cell_type": "markdown",
   "metadata": {
    "id": "P6j0r3worJg0"
   },
   "source": [
    "### Введение"
   ]
  },
  {
   "cell_type": "markdown",
   "metadata": {
    "id": "8lQtbsIUyFG6"
   },
   "source": [
    "Цель проекта:Подготовить датасет, проверить его на логичность и достоверность, а также предоставить ответы на ключевые вопросы заказчика. \n",
    "\n",
    "В рамках проекта необходимо:\n",
    "- Определить подходы для объединения данных из различных таблиц.\n",
    "- Оценить достоверность информации о сотрудниках стартапов и их образовании.\n",
    "- Проанализировать сделки, проведенные за символические суммы (0 или 1 доллар), и объяснить их возможное значение.\n",
    "- Изучить распределение цен стартапов в зависимости от их категории и количества раундов финансирования.\n",
    "- Рассчитать ключевые показатели и отразить их динамику.\n",
    "\n",
    "Ключевые задачи:\n",
    "Особое внимание будет уделено выявлению признаков и метрик, связанных с повышенной вероятностью успешных сделок. Это включает:\n",
    "- Анализ компаний, которые меняли или готовы поменять владельцев.\n",
    "- Оценку связи между получением финансирования и интересом к продаже/покупке компании.\n",
    "\n",
    "Работа над проектом предполагает не только качественную обработку данных, но и выработку бизнес-значимых выводов, которые помогут заказчику в дальнейшем успешно оперировать на рынке стартапов."
   ]
  },
  {
   "cell_type": "markdown",
   "metadata": {},
   "source": [
    "### Описание данных\n",
    "*Таблица `acquisition`* — Содержит информацию о покупках одними компаниями других компаний:\n",
    "- `id` — идентификатор покупки.     \n",
    "- `acquiring_company_id` — идентификатор покупающей компании.    \n",
    "- `acquired_company_id` — идентификатор покупаемой компании.    \n",
    "- `term_code` — варианты расчёта.     \n",
    "- `price_amount` — сумма сделки.     \n",
    "- `acquired_at` — дата сделки.     \n",
    "\n",
    "*Таблица `company_and_rounds`* — Содержит информацию о компаниях и раундах финансирования:\n",
    "- `company ID` — идентификатор компании.    \n",
    "- `name` — название компании.     \n",
    "- `category code` — категория области деятельности компании.  \n",
    "- `status` — статус компании.     \n",
    "- `founded at` — дата основанияоткрытия компании.    \n",
    "- `closed at` — дата закрытия компании.   \n",
    "- `domain` — официальный сайт компании.    \n",
    "- `network username` — ник компании в сети.  \n",
    "- `country code` — код страны компании.   \n",
    "- `investment rounds` — число инвестиционных раундов.   \n",
    "- `funding rounds` — число раундов финансирования.   \n",
    "- `funding total` — сумма финансирования.    \n",
    "- `milestones` — вехи финансирования.     \n",
    "- `funding round id` — идентификатор этапа финансирования.  \n",
    "- `company id` — идентификатор компании.    \n",
    "- `funded at` — дата финансирования.    \n",
    "- `funding round type` — тип финансирования.   \n",
    "- `raised amount` — сумма финансирования.    \n",
    "- `pre money valuation` — предварительная денежная оценка.  \n",
    "- `participants` — число участников.     \n",
    "- `is first round` — является ли раунд первым. \n",
    "- `is last round` — является раунд последним.  \n",
    "- `milestones` — вехи финансирования.     \n",
    "\n",
    "*Таблица `fund`* — Содержит информацию о фондах:\n",
    "- `id` — идентификатор фонда.     \n",
    "- `name` — название фонда.     \n",
    "- `category_code` — категория области деятельности компании.   \n",
    "- `founded_at` — дата создания фонда.    \n",
    "- `domain` — сайт фонда.     \n",
    "- `network_username` — ник фонда в сети.   \n",
    "- `country_code` — код страны фонда.    \n",
    "- `investment_rounds` — число инвестиционных раундов.    \n",
    "- `invested_companies` — число профинансированных компаний.    \n",
    "- `milestones` — вехи финансирования.     \n",
    "\n",
    "*Таблица `investment`* — Содержит информацию о раундах инвестирования:\n",
    "- `id` — идентификатор этапа инвестирования.    \n",
    "- `funding_round_id` — идентификатор раунда инвестирования.    \n",
    "- `company_id` — индентификатор компании.     \n",
    "- `funding_round_type` — тип финансирования.     \n",
    "- `fund_id` — идентификатор фонда.     \n",
    "\n",
    "\n",
    "*Таблица `education`* — Содержит информацию об образовании сотрудника:\n",
    "- `id` — идентификатор записи об образовании.   \n",
    "- `person_id` — идентификатор работника.     \n",
    "- `instituition` — название учебного заведения.    \n",
    "- `graduated_at` — дата получения образования.    \n",
    "\n",
    "*Таблица `people`* — Содержит информацию о сотрудниках:\n",
    "- `id` — идентификатор сотрудника.     \n",
    "- `first_name` — имя сотрудника.     \n",
    "- `last_name` — фамилия сотрудника.     \n",
    "- `company_id` — идентификатор компании.     \n",
    "- `network_username` — ник в социальных сетях.   \n",
    "- `graduated_at` — дата получения образования.    \n",
    "\n",
    "\n",
    "*Таблица `degrees`* — Содержит информацию о типе образования сотрудника:\n",
    "- `id` — идентификатор записи.     \n",
    "- `object_id` — идентификатор сотрудника.     \n",
    "- `degree_type` — тип образования.     \n",
    "- `subject` — специальность.      \n"
   ]
  },
  {
   "cell_type": "markdown",
   "metadata": {},
   "source": [
    "### Содержимое проекта\n",
    "- Шаг 1. Знакомство с данными: загрузка и первичная предобработка\n",
    "- Шаг 2. Предобработка данных, предварительное исследование\n",
    "- Шаг 3. Исследовательский анализ объединённых таблиц   \n",
    "- Шаг 4. Итоговый вывод и рекомендации"
   ]
  },
  {
   "cell_type": "markdown",
   "metadata": {
    "id": "xqr6uttCrJg0"
   },
   "source": [
    "\n",
    "## Шаг 1. Знакомство с данными: загрузка и первичная предобработка\n",
    "\n",
    "Названия файлов:\n",
    "* acquisition.csv\n",
    "* company_and_rounds.csv\n",
    "* degrees.csv\n",
    "* education.csv\n",
    "* fund.csv\n",
    "* investment.csv\n",
    "* people.csv\n",
    "\n",
    "Они находятся в папке datasets, если вы выполняете работу на платформе. В случае, если вы делаете работу локально, доступ к файлам в папке можно получить по адресу `https://code.s3.yandex.net/datasets/` + имя файла.\n",
    "\n",
    "### 1.1. Вывод общей информации, исправление названия столбцов\n",
    "\n",
    "* Загрузите все данные по проекту.\n",
    "\n",
    "* Проверьте названия столбцов и есть ли в датасетах полные дубликаты строк.\n",
    "\n",
    "* Выведите информацию, которая необходима вам для принятия решений о предобработке, для каждого из датасетов."
   ]
  },
  {
   "cell_type": "code",
   "execution_count": 1,
   "metadata": {},
   "outputs": [],
   "source": [
    "#Устанавливаем инструменты библиотеки phik\n",
    "#!pip install phik"
   ]
  },
  {
   "cell_type": "code",
   "execution_count": 2,
   "metadata": {
    "id": "W_W4jRazrJg0",
    "vscode": {
     "languageId": "plaintext"
    }
   },
   "outputs": [],
   "source": [
    "# Импортируем библиотеки\n",
    "import pandas as pd"
   ]
  },
  {
   "cell_type": "code",
   "execution_count": 3,
   "metadata": {},
   "outputs": [],
   "source": [
    "# Загружаем библиотеки для визуализации данных\n",
    "import matplotlib.pyplot as plt\n",
    "import seaborn as sns"
   ]
  },
  {
   "cell_type": "code",
   "execution_count": 4,
   "metadata": {},
   "outputs": [],
   "source": [
    "# Загружаем библиотеку для расчёта коэффициента корреляции phi_k\n",
    "#from phik import phik_matrix"
   ]
  },
  {
   "cell_type": "code",
   "execution_count": 5,
   "metadata": {},
   "outputs": [],
   "source": [
    "# Выгружаем все данные в переменные\n",
    "ac_df=pd.read_csv('https://code.s3.yandex.net/datasets/acquisition.csv')\n",
    "co_df=pd.read_csv('https://code.s3.yandex.net/datasets/company_and_rounds.csv')\n",
    "de_df=pd.read_csv('https://code.s3.yandex.net/datasets/degrees.csv')\n",
    "ed_df=pd.read_csv('https://code.s3.yandex.net/datasets/education.csv')\n",
    "fu_df=pd.read_csv('https://code.s3.yandex.net/datasets/fund.csv')\n",
    "in_df=pd.read_csv('https://code.s3.yandex.net/datasets/investment.csv')\n",
    "pe_df=pd.read_csv('https://code.s3.yandex.net/datasets/people.csv')"
   ]
  },
  {
   "cell_type": "code",
   "execution_count": 6,
   "metadata": {
    "scrolled": true
   },
   "outputs": [
    {
     "data": {
      "text/plain": [
       "\"Столбцы в датасете 'acquisition':\""
      ]
     },
     "metadata": {},
     "output_type": "display_data"
    },
    {
     "data": {
      "text/plain": [
       "['id',\n",
       " 'acquiring_company_id',\n",
       " 'acquired_company_id',\n",
       " 'term_code',\n",
       " 'price_amount',\n",
       " 'acquired_at']"
      ]
     },
     "metadata": {},
     "output_type": "display_data"
    },
    {
     "data": {
      "text/plain": [
       "\"Столбцы в датасете 'company_and_rounds':\""
      ]
     },
     "metadata": {},
     "output_type": "display_data"
    },
    {
     "data": {
      "text/plain": [
       "['company  ID',\n",
       " 'name',\n",
       " 'category  code',\n",
       " 'status',\n",
       " 'founded  at',\n",
       " 'closed  at',\n",
       " 'domain',\n",
       " 'network  username',\n",
       " 'country  code',\n",
       " 'investment  rounds',\n",
       " 'funding  rounds',\n",
       " 'funding  total',\n",
       " 'milestones',\n",
       " 'funding  round  id',\n",
       " 'company  id',\n",
       " 'funded  at',\n",
       " 'funding  round  type',\n",
       " 'raised  amount',\n",
       " 'pre  money  valuation',\n",
       " 'participants',\n",
       " 'is  first  round',\n",
       " 'is  last  round']"
      ]
     },
     "metadata": {},
     "output_type": "display_data"
    },
    {
     "data": {
      "text/plain": [
       "\"Столбцы в датасете 'degrees':\""
      ]
     },
     "metadata": {},
     "output_type": "display_data"
    },
    {
     "data": {
      "text/plain": [
       "['id', 'object_id', 'degree_type', 'subject']"
      ]
     },
     "metadata": {},
     "output_type": "display_data"
    },
    {
     "data": {
      "text/plain": [
       "\"Столбцы в датасете 'education':\""
      ]
     },
     "metadata": {},
     "output_type": "display_data"
    },
    {
     "data": {
      "text/plain": [
       "['id', 'person_id', 'instituition', 'graduated_at']"
      ]
     },
     "metadata": {},
     "output_type": "display_data"
    },
    {
     "data": {
      "text/plain": [
       "\"Столбцы в датасете 'fund':\""
      ]
     },
     "metadata": {},
     "output_type": "display_data"
    },
    {
     "data": {
      "text/plain": [
       "['id',\n",
       " 'name',\n",
       " 'founded_at',\n",
       " 'domain',\n",
       " 'network_username',\n",
       " 'country_code',\n",
       " 'investment_rounds',\n",
       " 'invested_companies',\n",
       " 'milestones']"
      ]
     },
     "metadata": {},
     "output_type": "display_data"
    },
    {
     "data": {
      "text/plain": [
       "\"Столбцы в датасете 'investment':\""
      ]
     },
     "metadata": {},
     "output_type": "display_data"
    },
    {
     "data": {
      "text/plain": [
       "['id', 'funding_round_id', 'company_id', 'fund_id']"
      ]
     },
     "metadata": {},
     "output_type": "display_data"
    },
    {
     "data": {
      "text/plain": [
       "\"Столбцы в датасете 'people':\""
      ]
     },
     "metadata": {},
     "output_type": "display_data"
    },
    {
     "data": {
      "text/plain": [
       "['id', 'first_name', 'last_name', 'company_id', 'network_username']"
      ]
     },
     "metadata": {},
     "output_type": "display_data"
    }
   ],
   "source": [
    "# Проверяем наименование столбцов\n",
    "display(\"Столбцы в датасете 'acquisition':\", ac_df.columns.tolist()) \n",
    "display(\"Столбцы в датасете 'company_and_rounds':\", co_df.columns.tolist()) \n",
    "display(\"Столбцы в датасете 'degrees':\", de_df.columns.tolist()) \n",
    "display(\"Столбцы в датасете 'education':\", ed_df.columns.tolist()) \n",
    "display(\"Столбцы в датасете 'fund':\", fu_df.columns.tolist()) \n",
    "display(\"Столбцы в датасете 'investment':\", in_df.columns.tolist()) \n",
    "display(\"Столбцы в датасете 'people':\", pe_df.columns.tolist())\n"
   ]
  },
  {
   "cell_type": "markdown",
   "metadata": {},
   "source": [
    "*Столбцы в датасете `company_and_rounds` рекомендуется привести названия к удобному для работы формату, в стиле snake_case*, но сначала обратим внимание, что co_df содержит два столбца с одним смыслом: company ID и 'company id'"
   ]
  },
  {
   "cell_type": "code",
   "execution_count": 7,
   "metadata": {},
   "outputs": [
    {
     "data": {
      "text/plain": [
       "\"Непустых значений в 'company  ID': 217472\""
      ]
     },
     "metadata": {},
     "output_type": "display_data"
    },
    {
     "data": {
      "text/plain": [
       "\"Непустых значений в 'company  id': 52928\""
      ]
     },
     "metadata": {},
     "output_type": "display_data"
    }
   ],
   "source": [
    "# Подсчитываем количество непустых значений в столбцах\n",
    "non_null_company_id = co_df['company  ID'].notnull().sum()\n",
    "non_null_company_id_2 = co_df['company  id'].notnull().sum()\n",
    "\n",
    "display(f\"Непустых значений в 'company  ID': {non_null_company_id}\")\n",
    "display(f\"Непустых значений в 'company  id': {non_null_company_id_2}\")"
   ]
  },
  {
   "cell_type": "markdown",
   "metadata": {},
   "source": [
    "Столбец с пропусками (частично заполненный) может указывать на отсутствие компании в определённых строках. Если в этом столбце отсутствуют значения, это может означать, что для этих записей нет информации о компании, и, следовательно, нет данных по финансовым показателям, связанным с её финансированием."
   ]
  },
  {
   "cell_type": "code",
   "execution_count": 8,
   "metadata": {
    "scrolled": true
   },
   "outputs": [
    {
     "data": {
      "text/plain": [
       "company  ID              302\n",
       "name                     302\n",
       "category  code           302\n",
       "status                   302\n",
       "founded  at              302\n",
       "closed  at               302\n",
       "domain                   302\n",
       "network  username        302\n",
       "country  code            302\n",
       "investment  rounds       302\n",
       "funding  rounds          302\n",
       "funding  total           302\n",
       "milestones               302\n",
       "funding  round  id         0\n",
       "company  id                0\n",
       "funded  at                 4\n",
       "funding  round  type       0\n",
       "raised  amount             0\n",
       "pre  money  valuation      0\n",
       "participants               0\n",
       "is  first  round           0\n",
       "is  last  round            0\n",
       "dtype: int64"
      ]
     },
     "metadata": {},
     "output_type": "display_data"
    }
   ],
   "source": [
    "# Отфильтруем все строки, где значение в столбце 'company  id' пустое\n",
    "c_id_df = co_df[co_df['company  ID'].isnull()]\n",
    "\n",
    "# Подсчитать пустые значения для всех столбцов в отфильтрованном датафрейме\n",
    "missing_values_count = c_id_df.isnull().sum()\n",
    "\n",
    "# Отобразить количество пустых значений по каждому столбцу\n",
    "display(missing_values_count)"
   ]
  },
  {
   "cell_type": "code",
   "execution_count": 9,
   "metadata": {
    "scrolled": true
   },
   "outputs": [
    {
     "data": {
      "text/html": [
       "<div>\n",
       "<style scoped>\n",
       "    .dataframe tbody tr th:only-of-type {\n",
       "        vertical-align: middle;\n",
       "    }\n",
       "\n",
       "    .dataframe tbody tr th {\n",
       "        vertical-align: top;\n",
       "    }\n",
       "\n",
       "    .dataframe thead th {\n",
       "        text-align: right;\n",
       "    }\n",
       "</style>\n",
       "<table border=\"1\" class=\"dataframe\">\n",
       "  <thead>\n",
       "    <tr style=\"text-align: right;\">\n",
       "      <th></th>\n",
       "      <th>funding  round  id</th>\n",
       "      <th>company  id</th>\n",
       "      <th>funded  at</th>\n",
       "      <th>funding  round  type</th>\n",
       "      <th>raised  amount</th>\n",
       "      <th>pre  money  valuation</th>\n",
       "      <th>participants</th>\n",
       "      <th>is  first  round</th>\n",
       "      <th>is  last  round</th>\n",
       "    </tr>\n",
       "  </thead>\n",
       "  <tbody>\n",
       "    <tr>\n",
       "      <th>217472</th>\n",
       "      <td>457.0</td>\n",
       "      <td>1267.0</td>\n",
       "      <td>2005-01-01</td>\n",
       "      <td>series-a</td>\n",
       "      <td>48000000.0</td>\n",
       "      <td>0.0</td>\n",
       "      <td>2.0</td>\n",
       "      <td>1.0</td>\n",
       "      <td>1.0</td>\n",
       "    </tr>\n",
       "    <tr>\n",
       "      <th>217473</th>\n",
       "      <td>471.0</td>\n",
       "      <td>558.0</td>\n",
       "      <td>2007-01-01</td>\n",
       "      <td>angel</td>\n",
       "      <td>300000.0</td>\n",
       "      <td>0.0</td>\n",
       "      <td>1.0</td>\n",
       "      <td>1.0</td>\n",
       "      <td>1.0</td>\n",
       "    </tr>\n",
       "    <tr>\n",
       "      <th>217474</th>\n",
       "      <td>575.0</td>\n",
       "      <td>746.0</td>\n",
       "      <td>2004-09-01</td>\n",
       "      <td>angel</td>\n",
       "      <td>0.0</td>\n",
       "      <td>0.0</td>\n",
       "      <td>0.0</td>\n",
       "      <td>1.0</td>\n",
       "      <td>1.0</td>\n",
       "    </tr>\n",
       "    <tr>\n",
       "      <th>217475</th>\n",
       "      <td>577.0</td>\n",
       "      <td>748.0</td>\n",
       "      <td>2007-01-01</td>\n",
       "      <td>series-a</td>\n",
       "      <td>1500000.0</td>\n",
       "      <td>2250000.0</td>\n",
       "      <td>0.0</td>\n",
       "      <td>1.0</td>\n",
       "      <td>1.0</td>\n",
       "    </tr>\n",
       "    <tr>\n",
       "      <th>217476</th>\n",
       "      <td>597.0</td>\n",
       "      <td>804.0</td>\n",
       "      <td>2007-06-01</td>\n",
       "      <td>series-a</td>\n",
       "      <td>6000000.0</td>\n",
       "      <td>0.0</td>\n",
       "      <td>2.0</td>\n",
       "      <td>1.0</td>\n",
       "      <td>1.0</td>\n",
       "    </tr>\n",
       "    <tr>\n",
       "      <th>...</th>\n",
       "      <td>...</td>\n",
       "      <td>...</td>\n",
       "      <td>...</td>\n",
       "      <td>...</td>\n",
       "      <td>...</td>\n",
       "      <td>...</td>\n",
       "      <td>...</td>\n",
       "      <td>...</td>\n",
       "      <td>...</td>\n",
       "    </tr>\n",
       "    <tr>\n",
       "      <th>217769</th>\n",
       "      <td>56454.0</td>\n",
       "      <td>282847.0</td>\n",
       "      <td>2011-01-31</td>\n",
       "      <td>other</td>\n",
       "      <td>5500000.0</td>\n",
       "      <td>0.0</td>\n",
       "      <td>0.0</td>\n",
       "      <td>1.0</td>\n",
       "      <td>1.0</td>\n",
       "    </tr>\n",
       "    <tr>\n",
       "      <th>217770</th>\n",
       "      <td>56542.0</td>\n",
       "      <td>55477.0</td>\n",
       "      <td>2011-01-13</td>\n",
       "      <td>venture</td>\n",
       "      <td>10633300.0</td>\n",
       "      <td>0.0</td>\n",
       "      <td>0.0</td>\n",
       "      <td>0.0</td>\n",
       "      <td>1.0</td>\n",
       "    </tr>\n",
       "    <tr>\n",
       "      <th>217771</th>\n",
       "      <td>56543.0</td>\n",
       "      <td>55477.0</td>\n",
       "      <td>2012-05-31</td>\n",
       "      <td>venture</td>\n",
       "      <td>2125720.0</td>\n",
       "      <td>0.0</td>\n",
       "      <td>0.0</td>\n",
       "      <td>1.0</td>\n",
       "      <td>0.0</td>\n",
       "    </tr>\n",
       "    <tr>\n",
       "      <th>217772</th>\n",
       "      <td>56928.0</td>\n",
       "      <td>283492.0</td>\n",
       "      <td>2013-12-03</td>\n",
       "      <td>venture</td>\n",
       "      <td>3602480.0</td>\n",
       "      <td>0.0</td>\n",
       "      <td>5.0</td>\n",
       "      <td>1.0</td>\n",
       "      <td>1.0</td>\n",
       "    </tr>\n",
       "    <tr>\n",
       "      <th>217773</th>\n",
       "      <td>57063.0</td>\n",
       "      <td>284191.0</td>\n",
       "      <td>2013-12-04</td>\n",
       "      <td>venture</td>\n",
       "      <td>7000000.0</td>\n",
       "      <td>0.0</td>\n",
       "      <td>4.0</td>\n",
       "      <td>1.0</td>\n",
       "      <td>1.0</td>\n",
       "    </tr>\n",
       "  </tbody>\n",
       "</table>\n",
       "<p>302 rows × 9 columns</p>\n",
       "</div>"
      ],
      "text/plain": [
       "        funding  round  id  company  id  funded  at funding  round  type  \\\n",
       "217472               457.0       1267.0  2005-01-01             series-a   \n",
       "217473               471.0        558.0  2007-01-01                angel   \n",
       "217474               575.0        746.0  2004-09-01                angel   \n",
       "217475               577.0        748.0  2007-01-01             series-a   \n",
       "217476               597.0        804.0  2007-06-01             series-a   \n",
       "...                    ...          ...         ...                  ...   \n",
       "217769             56454.0     282847.0  2011-01-31                other   \n",
       "217770             56542.0      55477.0  2011-01-13              venture   \n",
       "217771             56543.0      55477.0  2012-05-31              venture   \n",
       "217772             56928.0     283492.0  2013-12-03              venture   \n",
       "217773             57063.0     284191.0  2013-12-04              venture   \n",
       "\n",
       "        raised  amount  pre  money  valuation  participants  is  first  round  \\\n",
       "217472      48000000.0                    0.0           2.0               1.0   \n",
       "217473        300000.0                    0.0           1.0               1.0   \n",
       "217474             0.0                    0.0           0.0               1.0   \n",
       "217475       1500000.0              2250000.0           0.0               1.0   \n",
       "217476       6000000.0                    0.0           2.0               1.0   \n",
       "...                ...                    ...           ...               ...   \n",
       "217769       5500000.0                    0.0           0.0               1.0   \n",
       "217770      10633300.0                    0.0           0.0               0.0   \n",
       "217771       2125720.0                    0.0           0.0               1.0   \n",
       "217772       3602480.0                    0.0           5.0               1.0   \n",
       "217773       7000000.0                    0.0           4.0               1.0   \n",
       "\n",
       "        is  last  round  \n",
       "217472              1.0  \n",
       "217473              1.0  \n",
       "217474              1.0  \n",
       "217475              1.0  \n",
       "217476              1.0  \n",
       "...                 ...  \n",
       "217769              1.0  \n",
       "217770              1.0  \n",
       "217771              0.0  \n",
       "217772              1.0  \n",
       "217773              1.0  \n",
       "\n",
       "[302 rows x 9 columns]"
      ]
     },
     "execution_count": 9,
     "metadata": {},
     "output_type": "execute_result"
    }
   ],
   "source": [
    "# проверим строки из исходного DataFrame, где 'company ID' является NaN, а в остальных столбцах есть хотя бы одно ненулевое значение.\n",
    "co_df.query('`company  ID` != `company  ID`').dropna(axis=1, how='all')"
   ]
  },
  {
   "cell_type": "markdown",
   "metadata": {},
   "source": [
    "Пустые значения по столбцу 'company  ID' указывает на то что данные по другим столбцам тоже отсутствуют"
   ]
  },
  {
   "cell_type": "code",
   "execution_count": 10,
   "metadata": {
    "scrolled": true
   },
   "outputs": [
    {
     "data": {
      "text/plain": [
       "company  ID                   0\n",
       "name                          0\n",
       "category  code            72123\n",
       "status                        0\n",
       "founded  at               98086\n",
       "closed  at               164340\n",
       "domain                    68472\n",
       "network  username        103325\n",
       "country  code            106421\n",
       "investment  rounds            0\n",
       "funding  rounds               0\n",
       "funding  total                0\n",
       "milestones                    0\n",
       "funding  round  id       164846\n",
       "company  id              164846\n",
       "funded  at               164846\n",
       "funding  round  type     164846\n",
       "raised  amount           164846\n",
       "pre  money  valuation    164846\n",
       "participants             164846\n",
       "is  first  round         164846\n",
       "is  last  round          164846\n",
       "dtype: int64"
      ]
     },
     "metadata": {},
     "output_type": "display_data"
    }
   ],
   "source": [
    "# Отфильтруем все строки, где значение в столбце 'company  id' пустое\n",
    "c_id_df = co_df[co_df['company  id'].isnull()]\n",
    "\n",
    "# Подсчитать пустые значения для всех столбцов в отфильтрованном датафрейме\n",
    "missing_values_count = c_id_df.isnull().sum()\n",
    "\n",
    "# Отобразить количество пустых значений по каждому столбцу\n",
    "display(missing_values_count)"
   ]
  },
  {
   "cell_type": "code",
   "execution_count": 11,
   "metadata": {
    "scrolled": true
   },
   "outputs": [
    {
     "data": {
      "text/html": [
       "<div>\n",
       "<style scoped>\n",
       "    .dataframe tbody tr th:only-of-type {\n",
       "        vertical-align: middle;\n",
       "    }\n",
       "\n",
       "    .dataframe tbody tr th {\n",
       "        vertical-align: top;\n",
       "    }\n",
       "\n",
       "    .dataframe thead th {\n",
       "        text-align: right;\n",
       "    }\n",
       "</style>\n",
       "<table border=\"1\" class=\"dataframe\">\n",
       "  <thead>\n",
       "    <tr style=\"text-align: right;\">\n",
       "      <th></th>\n",
       "      <th>company  ID</th>\n",
       "      <th>name</th>\n",
       "      <th>category  code</th>\n",
       "      <th>status</th>\n",
       "      <th>founded  at</th>\n",
       "      <th>closed  at</th>\n",
       "      <th>domain</th>\n",
       "      <th>network  username</th>\n",
       "      <th>country  code</th>\n",
       "      <th>investment  rounds</th>\n",
       "      <th>funding  rounds</th>\n",
       "      <th>funding  total</th>\n",
       "      <th>milestones</th>\n",
       "    </tr>\n",
       "  </thead>\n",
       "  <tbody>\n",
       "    <tr>\n",
       "      <th>3</th>\n",
       "      <td>10.0</td>\n",
       "      <td>Flektor</td>\n",
       "      <td>games_video</td>\n",
       "      <td>acquired</td>\n",
       "      <td>NaN</td>\n",
       "      <td>NaN</td>\n",
       "      <td>flektor.com</td>\n",
       "      <td>NaN</td>\n",
       "      <td>USA</td>\n",
       "      <td>0.0</td>\n",
       "      <td>0.0</td>\n",
       "      <td>0.0</td>\n",
       "      <td>0.0</td>\n",
       "    </tr>\n",
       "    <tr>\n",
       "      <th>4</th>\n",
       "      <td>100.0</td>\n",
       "      <td>There</td>\n",
       "      <td>games_video</td>\n",
       "      <td>acquired</td>\n",
       "      <td>NaN</td>\n",
       "      <td>NaN</td>\n",
       "      <td>there.com</td>\n",
       "      <td>NaN</td>\n",
       "      <td>USA</td>\n",
       "      <td>0.0</td>\n",
       "      <td>0.0</td>\n",
       "      <td>0.0</td>\n",
       "      <td>4.0</td>\n",
       "    </tr>\n",
       "    <tr>\n",
       "      <th>5</th>\n",
       "      <td>10000.0</td>\n",
       "      <td>MYWEBBO</td>\n",
       "      <td>network_hosting</td>\n",
       "      <td>operating</td>\n",
       "      <td>2008-07-26</td>\n",
       "      <td>NaN</td>\n",
       "      <td>mywebbo.com</td>\n",
       "      <td>NaN</td>\n",
       "      <td>NaN</td>\n",
       "      <td>0.0</td>\n",
       "      <td>0.0</td>\n",
       "      <td>0.0</td>\n",
       "      <td>0.0</td>\n",
       "    </tr>\n",
       "    <tr>\n",
       "      <th>6</th>\n",
       "      <td>10001.0</td>\n",
       "      <td>THE Movie Streamer</td>\n",
       "      <td>games_video</td>\n",
       "      <td>operating</td>\n",
       "      <td>2008-07-26</td>\n",
       "      <td>NaN</td>\n",
       "      <td>themoviestreamer.com</td>\n",
       "      <td>NaN</td>\n",
       "      <td>NaN</td>\n",
       "      <td>0.0</td>\n",
       "      <td>0.0</td>\n",
       "      <td>0.0</td>\n",
       "      <td>0.0</td>\n",
       "    </tr>\n",
       "    <tr>\n",
       "      <th>7</th>\n",
       "      <td>10002.0</td>\n",
       "      <td>Synergie Media</td>\n",
       "      <td>advertising</td>\n",
       "      <td>operating</td>\n",
       "      <td>2007-06-27</td>\n",
       "      <td>NaN</td>\n",
       "      <td>synergie-media.com</td>\n",
       "      <td>NaN</td>\n",
       "      <td>MAR</td>\n",
       "      <td>0.0</td>\n",
       "      <td>0.0</td>\n",
       "      <td>0.0</td>\n",
       "      <td>0.0</td>\n",
       "    </tr>\n",
       "    <tr>\n",
       "      <th>...</th>\n",
       "      <td>...</td>\n",
       "      <td>...</td>\n",
       "      <td>...</td>\n",
       "      <td>...</td>\n",
       "      <td>...</td>\n",
       "      <td>...</td>\n",
       "      <td>...</td>\n",
       "      <td>...</td>\n",
       "      <td>...</td>\n",
       "      <td>...</td>\n",
       "      <td>...</td>\n",
       "      <td>...</td>\n",
       "      <td>...</td>\n",
       "    </tr>\n",
       "    <tr>\n",
       "      <th>217457</th>\n",
       "      <td>11.0</td>\n",
       "      <td>Fox Interactive Media</td>\n",
       "      <td>web</td>\n",
       "      <td>operating</td>\n",
       "      <td>1979-06-01</td>\n",
       "      <td>NaN</td>\n",
       "      <td>newscorp.com</td>\n",
       "      <td>networkapi</td>\n",
       "      <td>USA</td>\n",
       "      <td>2.0</td>\n",
       "      <td>0.0</td>\n",
       "      <td>0.0</td>\n",
       "      <td>0.0</td>\n",
       "    </tr>\n",
       "    <tr>\n",
       "      <th>217460</th>\n",
       "      <td>150413.0</td>\n",
       "      <td>Infuy</td>\n",
       "      <td>software</td>\n",
       "      <td>operating</td>\n",
       "      <td>2007-01-01</td>\n",
       "      <td>NaN</td>\n",
       "      <td>infuy.com</td>\n",
       "      <td>network</td>\n",
       "      <td>URY</td>\n",
       "      <td>0.0</td>\n",
       "      <td>0.0</td>\n",
       "      <td>0.0</td>\n",
       "      <td>0.0</td>\n",
       "    </tr>\n",
       "    <tr>\n",
       "      <th>217461</th>\n",
       "      <td>155238.0</td>\n",
       "      <td>Sunfra</td>\n",
       "      <td>consulting</td>\n",
       "      <td>operating</td>\n",
       "      <td>NaN</td>\n",
       "      <td>NaN</td>\n",
       "      <td>sunfra.com</td>\n",
       "      <td>network</td>\n",
       "      <td>IND</td>\n",
       "      <td>0.0</td>\n",
       "      <td>0.0</td>\n",
       "      <td>0.0</td>\n",
       "      <td>0.0</td>\n",
       "    </tr>\n",
       "    <tr>\n",
       "      <th>217462</th>\n",
       "      <td>183352.0</td>\n",
       "      <td>Mattress Source</td>\n",
       "      <td>NaN</td>\n",
       "      <td>operating</td>\n",
       "      <td>NaN</td>\n",
       "      <td>NaN</td>\n",
       "      <td>mattresssourcestl.com</td>\n",
       "      <td>network</td>\n",
       "      <td>NaN</td>\n",
       "      <td>0.0</td>\n",
       "      <td>0.0</td>\n",
       "      <td>0.0</td>\n",
       "      <td>0.0</td>\n",
       "    </tr>\n",
       "    <tr>\n",
       "      <th>217468</th>\n",
       "      <td>174536.0</td>\n",
       "      <td>Pphotonet</td>\n",
       "      <td>games_video</td>\n",
       "      <td>operating</td>\n",
       "      <td>2012-05-01</td>\n",
       "      <td>NaN</td>\n",
       "      <td>pPhotonet.co</td>\n",
       "      <td>pPhotonet</td>\n",
       "      <td>NaN</td>\n",
       "      <td>0.0</td>\n",
       "      <td>0.0</td>\n",
       "      <td>0.0</td>\n",
       "      <td>0.0</td>\n",
       "    </tr>\n",
       "  </tbody>\n",
       "</table>\n",
       "<p>164846 rows × 13 columns</p>\n",
       "</div>"
      ],
      "text/plain": [
       "        company  ID                   name   category  code     status  \\\n",
       "3              10.0                Flektor      games_video   acquired   \n",
       "4             100.0                  There      games_video   acquired   \n",
       "5           10000.0                MYWEBBO  network_hosting  operating   \n",
       "6           10001.0     THE Movie Streamer      games_video  operating   \n",
       "7           10002.0         Synergie Media      advertising  operating   \n",
       "...             ...                    ...              ...        ...   \n",
       "217457         11.0  Fox Interactive Media              web  operating   \n",
       "217460     150413.0                  Infuy         software  operating   \n",
       "217461     155238.0                 Sunfra       consulting  operating   \n",
       "217462     183352.0        Mattress Source              NaN  operating   \n",
       "217468     174536.0              Pphotonet      games_video  operating   \n",
       "\n",
       "       founded  at closed  at                 domain network  username  \\\n",
       "3              NaN        NaN            flektor.com               NaN   \n",
       "4              NaN        NaN              there.com               NaN   \n",
       "5       2008-07-26        NaN            mywebbo.com               NaN   \n",
       "6       2008-07-26        NaN   themoviestreamer.com               NaN   \n",
       "7       2007-06-27        NaN     synergie-media.com               NaN   \n",
       "...            ...        ...                    ...               ...   \n",
       "217457  1979-06-01        NaN           newscorp.com        networkapi   \n",
       "217460  2007-01-01        NaN              infuy.com           network   \n",
       "217461         NaN        NaN             sunfra.com           network   \n",
       "217462         NaN        NaN  mattresssourcestl.com           network   \n",
       "217468  2012-05-01        NaN           pPhotonet.co         pPhotonet   \n",
       "\n",
       "       country  code  investment  rounds  funding  rounds  funding  total  \\\n",
       "3                USA                 0.0              0.0             0.0   \n",
       "4                USA                 0.0              0.0             0.0   \n",
       "5                NaN                 0.0              0.0             0.0   \n",
       "6                NaN                 0.0              0.0             0.0   \n",
       "7                MAR                 0.0              0.0             0.0   \n",
       "...              ...                 ...              ...             ...   \n",
       "217457           USA                 2.0              0.0             0.0   \n",
       "217460           URY                 0.0              0.0             0.0   \n",
       "217461           IND                 0.0              0.0             0.0   \n",
       "217462           NaN                 0.0              0.0             0.0   \n",
       "217468           NaN                 0.0              0.0             0.0   \n",
       "\n",
       "        milestones  \n",
       "3              0.0  \n",
       "4              4.0  \n",
       "5              0.0  \n",
       "6              0.0  \n",
       "7              0.0  \n",
       "...            ...  \n",
       "217457         0.0  \n",
       "217460         0.0  \n",
       "217461         0.0  \n",
       "217462         0.0  \n",
       "217468         0.0  \n",
       "\n",
       "[164846 rows x 13 columns]"
      ]
     },
     "execution_count": 11,
     "metadata": {},
     "output_type": "execute_result"
    }
   ],
   "source": [
    "# проверим строки из исходного DataFrame, где 'company  id' является NaN, а в остальных столбцах есть хотя бы одно ненулевое значение.\n",
    "co_df.query('`company  id` != `company  id`').dropna(axis=1, how='all')"
   ]
  },
  {
   "cell_type": "code",
   "execution_count": 12,
   "metadata": {},
   "outputs": [
    {
     "data": {
      "text/plain": [
       "'Количество строк, где оба столбца заполнены: 52626'"
      ]
     },
     "metadata": {},
     "output_type": "display_data"
    },
    {
     "data": {
      "text/plain": [
       "'Количество совпадений: 52626'"
      ]
     },
     "metadata": {},
     "output_type": "display_data"
    },
    {
     "data": {
      "text/plain": [
       "'Количество несовпадений: 0'"
      ]
     },
     "metadata": {},
     "output_type": "display_data"
    }
   ],
   "source": [
    "# Фильтруем строки, где оба столбца заполнены (не NaN)\n",
    "filled_rows = co_df[(co_df['company  ID'].notnull()) & (co_df['company  id'].notnull())]\n",
    "\n",
    "# Используем .loc для добавления столбца 'is_match' в оригинальный DataFrame\n",
    "co_df.loc[filled_rows.index, 'is_match'] = filled_rows['company  ID'] == filled_rows['company  id']\n",
    "\n",
    "# Считаем количество совпадений и несовпадений\n",
    "match_count = co_df.loc[filled_rows.index, 'is_match'].sum()\n",
    "mismatch_count = len(filled_rows) - match_count\n",
    "\n",
    "# Вывод результатов\n",
    "from IPython.display import display\n",
    "display(f\"Количество строк, где оба столбца заполнены: {len(filled_rows)}\")\n",
    "display(f\"Количество совпадений: {match_count}\")\n",
    "display(f\"Количество несовпадений: {mismatch_count}\")\n",
    "\n",
    "# Обработка строк с несовпадениями\n",
    "# Выбираем строки, где 'is_match' равно False (несовпадения)\n",
    "mismatched_rows = co_df.loc[filled_rows.index][co_df.loc[filled_rows.index, 'is_match'] == False]\n"
   ]
  },
  {
   "cell_type": "markdown",
   "metadata": {},
   "source": [
    "*Заполним company_id где пропущено*"
   ]
  },
  {
   "cell_type": "code",
   "execution_count": 13,
   "metadata": {
    "scrolled": true
   },
   "outputs": [
    {
     "data": {
      "text/html": [
       "<div>\n",
       "<style scoped>\n",
       "    .dataframe tbody tr th:only-of-type {\n",
       "        vertical-align: middle;\n",
       "    }\n",
       "\n",
       "    .dataframe tbody tr th {\n",
       "        vertical-align: top;\n",
       "    }\n",
       "\n",
       "    .dataframe thead th {\n",
       "        text-align: right;\n",
       "    }\n",
       "</style>\n",
       "<table border=\"1\" class=\"dataframe\">\n",
       "  <thead>\n",
       "    <tr style=\"text-align: right;\">\n",
       "      <th></th>\n",
       "      <th>old_company_id</th>\n",
       "      <th>company  ID</th>\n",
       "      <th>company  id</th>\n",
       "    </tr>\n",
       "  </thead>\n",
       "  <tbody>\n",
       "    <tr>\n",
       "      <th>217472</th>\n",
       "      <td>NaN</td>\n",
       "      <td>1267.0</td>\n",
       "      <td>1267.0</td>\n",
       "    </tr>\n",
       "    <tr>\n",
       "      <th>217473</th>\n",
       "      <td>NaN</td>\n",
       "      <td>558.0</td>\n",
       "      <td>558.0</td>\n",
       "    </tr>\n",
       "    <tr>\n",
       "      <th>217474</th>\n",
       "      <td>NaN</td>\n",
       "      <td>746.0</td>\n",
       "      <td>746.0</td>\n",
       "    </tr>\n",
       "    <tr>\n",
       "      <th>217475</th>\n",
       "      <td>NaN</td>\n",
       "      <td>748.0</td>\n",
       "      <td>748.0</td>\n",
       "    </tr>\n",
       "    <tr>\n",
       "      <th>217476</th>\n",
       "      <td>NaN</td>\n",
       "      <td>804.0</td>\n",
       "      <td>804.0</td>\n",
       "    </tr>\n",
       "    <tr>\n",
       "      <th>...</th>\n",
       "      <td>...</td>\n",
       "      <td>...</td>\n",
       "      <td>...</td>\n",
       "    </tr>\n",
       "    <tr>\n",
       "      <th>217769</th>\n",
       "      <td>NaN</td>\n",
       "      <td>282847.0</td>\n",
       "      <td>282847.0</td>\n",
       "    </tr>\n",
       "    <tr>\n",
       "      <th>217770</th>\n",
       "      <td>NaN</td>\n",
       "      <td>55477.0</td>\n",
       "      <td>55477.0</td>\n",
       "    </tr>\n",
       "    <tr>\n",
       "      <th>217771</th>\n",
       "      <td>NaN</td>\n",
       "      <td>55477.0</td>\n",
       "      <td>55477.0</td>\n",
       "    </tr>\n",
       "    <tr>\n",
       "      <th>217772</th>\n",
       "      <td>NaN</td>\n",
       "      <td>283492.0</td>\n",
       "      <td>283492.0</td>\n",
       "    </tr>\n",
       "    <tr>\n",
       "      <th>217773</th>\n",
       "      <td>NaN</td>\n",
       "      <td>284191.0</td>\n",
       "      <td>284191.0</td>\n",
       "    </tr>\n",
       "  </tbody>\n",
       "</table>\n",
       "<p>302 rows × 3 columns</p>\n",
       "</div>"
      ],
      "text/plain": [
       "        old_company_id  company  ID  company  id\n",
       "217472             NaN       1267.0       1267.0\n",
       "217473             NaN        558.0        558.0\n",
       "217474             NaN        746.0        746.0\n",
       "217475             NaN        748.0        748.0\n",
       "217476             NaN        804.0        804.0\n",
       "...                ...          ...          ...\n",
       "217769             NaN     282847.0     282847.0\n",
       "217770             NaN      55477.0      55477.0\n",
       "217771             NaN      55477.0      55477.0\n",
       "217772             NaN     283492.0     283492.0\n",
       "217773             NaN     284191.0     284191.0\n",
       "\n",
       "[302 rows x 3 columns]"
      ]
     },
     "metadata": {},
     "output_type": "display_data"
    }
   ],
   "source": [
    "# Создание копии старого столбца для сравнения\n",
    "co_df['old_company_id'] = co_df['company  ID']\n",
    "\n",
    "# Заполнение пропусков в company_id значениями из company  id\n",
    "co_df['company  ID'] = co_df['company  ID'].fillna(co_df['company  id'])\n",
    "\n",
    "# Проверка строк, где 'company  ID' был пуст и был заменен\n",
    "co_df_changes = co_df[co_df['old_company_id'].isnull() & co_df['company  ID'].notnull()][['old_company_id', 'company  ID', 'company  id']]\n",
    "\n",
    "# Отображение строк, где произошли изменения\n",
    "display(co_df_changes)\n"
   ]
  },
  {
   "cell_type": "markdown",
   "metadata": {},
   "source": [
    "Замена произведена, удалим проверочную и задублированную колонку "
   ]
  },
  {
   "cell_type": "code",
   "execution_count": 14,
   "metadata": {},
   "outputs": [],
   "source": [
    "co_df.drop(columns=['old_company_id', 'company  id'], inplace=True)"
   ]
  },
  {
   "cell_type": "code",
   "execution_count": 17,
   "metadata": {},
   "outputs": [],
   "source": [
    "# Убираем лишние пробелы во всех названиях столбцов\n",
    "co_df.columns = co_df.columns.str.replace(r'\\s+', ' ', regex=True).str.strip()\n",
    "\n",
    "# Переименовываем столбцы\n",
    "co_df = co_df.rename(columns={\n",
    "    'company ID': 'company_id',\n",
    "    'category code': 'category_code',\n",
    "    'founded at': 'founded_at',\n",
    "    'closed at': 'closed_at',\n",
    "    'network username': 'network_username',\n",
    "    'country code': 'country_code',\n",
    "    'investment rounds': 'investment_rounds',\n",
    "    'funding rounds': 'funding_rounds',\n",
    "    'funding total': 'funding_total',\n",
    "    'funding round id': 'funding_round_id',\n",
    "    'funded at': 'funded_at',\n",
    "    'funding round type': 'funding_round_type',\n",
    "    'raised amount': 'raised_amount',\n",
    "    'pre money valuation': 'pre_money_valuation',\n",
    "    'is first round': 'is_first_round',\n",
    "    'is last round': 'is_last_round'\n",
    "})\n",
    "\n",
    "# Переводим все столбцы в нижний регистр\n",
    "co_df.columns = co_df.columns.str.lower()\n"
   ]
  },
  {
   "cell_type": "code",
   "execution_count": 18,
   "metadata": {},
   "outputs": [
    {
     "data": {
      "text/plain": [
       "Index(['company_id', 'name', 'category_code', 'status', 'founded_at',\n",
       "       'closed_at', 'domain', 'network_username', 'country_code',\n",
       "       'investment_rounds', 'funding_rounds', 'funding_total', 'milestones',\n",
       "       'funding_round_id', 'funded_at', 'funding_round_type', 'raised_amount',\n",
       "       'pre_money_valuation', 'participants', 'is_first_round',\n",
       "       'is_last_round', 'is_match'],\n",
       "      dtype='object')"
      ]
     },
     "execution_count": 18,
     "metadata": {},
     "output_type": "execute_result"
    }
   ],
   "source": [
    "#Выведем новые наименования столбцов\n",
    "co_df.columns"
   ]
  },
  {
   "cell_type": "code",
   "execution_count": 19,
   "metadata": {},
   "outputs": [
    {
     "data": {
      "text/plain": [
       "'Дубликаты ДО удаления:'"
      ]
     },
     "metadata": {},
     "output_type": "display_data"
    },
    {
     "data": {
      "text/plain": [
       "'acquisition:'"
      ]
     },
     "metadata": {},
     "output_type": "display_data"
    },
    {
     "data": {
      "text/plain": [
       "0"
      ]
     },
     "metadata": {},
     "output_type": "display_data"
    },
    {
     "data": {
      "text/plain": [
       "'company_and_rounds:'"
      ]
     },
     "metadata": {},
     "output_type": "display_data"
    },
    {
     "data": {
      "text/plain": [
       "0"
      ]
     },
     "metadata": {},
     "output_type": "display_data"
    },
    {
     "data": {
      "text/plain": [
       "'degrees:'"
      ]
     },
     "metadata": {},
     "output_type": "display_data"
    },
    {
     "data": {
      "text/plain": [
       "0"
      ]
     },
     "metadata": {},
     "output_type": "display_data"
    },
    {
     "data": {
      "text/plain": [
       "'education:'"
      ]
     },
     "metadata": {},
     "output_type": "display_data"
    },
    {
     "data": {
      "text/plain": [
       "0"
      ]
     },
     "metadata": {},
     "output_type": "display_data"
    },
    {
     "data": {
      "text/plain": [
       "'fund:'"
      ]
     },
     "metadata": {},
     "output_type": "display_data"
    },
    {
     "data": {
      "text/plain": [
       "0"
      ]
     },
     "metadata": {},
     "output_type": "display_data"
    },
    {
     "data": {
      "text/plain": [
       "'investment:'"
      ]
     },
     "metadata": {},
     "output_type": "display_data"
    },
    {
     "data": {
      "text/plain": [
       "0"
      ]
     },
     "metadata": {},
     "output_type": "display_data"
    },
    {
     "data": {
      "text/plain": [
       "'people:'"
      ]
     },
     "metadata": {},
     "output_type": "display_data"
    },
    {
     "data": {
      "text/plain": [
       "0"
      ]
     },
     "metadata": {},
     "output_type": "display_data"
    }
   ],
   "source": [
    "# Подсчет полных дубликатов \n",
    "display(\"Дубликаты ДО удаления:\")\n",
    "display(\"acquisition:\", ac_df.duplicated().sum())\n",
    "display(\"company_and_rounds:\", co_df.duplicated().sum())\n",
    "display(\"degrees:\", de_df.duplicated().sum())\n",
    "display(\"education:\", ed_df.duplicated().sum())\n",
    "display(\"fund:\", fu_df.duplicated().sum())\n",
    "display(\"investment:\", in_df.duplicated().sum())\n",
    "display(\"people:\", pe_df.duplicated().sum())\n"
   ]
  },
  {
   "cell_type": "markdown",
   "metadata": {},
   "source": [
    "*В ходе загрузки всех данных , была проведено переименование к формату, в стиле snake_case. После переименования столбцов полных дубликатов не было выявлено. Для принятия решений о предобработке, для каждого из датасетов нужно вывесьт тип данных и количество заполненных данных для каждого столбца*"
   ]
  },
  {
   "cell_type": "markdown",
   "metadata": {},
   "source": [
    "Таблица `acquisition`"
   ]
  },
  {
   "cell_type": "code",
   "execution_count": 20,
   "metadata": {
    "scrolled": false
   },
   "outputs": [
    {
     "name": "stdout",
     "output_type": "stream",
     "text": [
      "<class 'pandas.core.frame.DataFrame'>\n",
      "RangeIndex: 9407 entries, 0 to 9406\n",
      "Data columns (total 6 columns):\n",
      " #   Column                Non-Null Count  Dtype \n",
      "---  ------                --------------  ----- \n",
      " 0   id                    9407 non-null   int64 \n",
      " 1   acquiring_company_id  9407 non-null   int64 \n",
      " 2   acquired_company_id   9407 non-null   int64 \n",
      " 3   term_code             1831 non-null   object\n",
      " 4   price_amount          9407 non-null   int64 \n",
      " 5   acquired_at           9378 non-null   object\n",
      "dtypes: int64(4), object(2)\n",
      "memory usage: 441.1+ KB\n"
     ]
    }
   ],
   "source": [
    "#Выведим тип данных\n",
    "ac_df.info()"
   ]
  },
  {
   "cell_type": "code",
   "execution_count": 21,
   "metadata": {
    "scrolled": true
   },
   "outputs": [
    {
     "data": {
      "text/plain": [
       "id                      0.000000\n",
       "acquiring_company_id    0.000000\n",
       "acquired_company_id     0.000000\n",
       "term_code               0.805358\n",
       "price_amount            0.000000\n",
       "acquired_at             0.003083\n",
       "dtype: float64"
      ]
     },
     "metadata": {},
     "output_type": "display_data"
    }
   ],
   "source": [
    "# Выводим долю пустых значений в столбцах датафрейма\n",
    "missing_fraction = ac_df.isna().sum() / ac_df.shape[0]\n",
    "\n",
    "# Отображаем результат\n",
    "display(missing_fraction)"
   ]
  },
  {
   "cell_type": "markdown",
   "metadata": {},
   "source": [
    "Характеристика данных  `acquisition`:\n",
    "\n",
    "Всего в датасете  9407 строк, из них пропуски данных в следующих столбцах:\n",
    "- `term_code` 7,576 пропущенных значений. Можно заполнить значением \"Не указано\" \n",
    "- `acquired_at` если дата сделки не указана, есть вероятность что она еще не была осуществлена. Удалить строки с пропусками(<1%) и  преобразовать столбцы с датами в формат datetime."
   ]
  },
  {
   "cell_type": "markdown",
   "metadata": {},
   "source": [
    "Таблица `company_and_rounds`"
   ]
  },
  {
   "cell_type": "code",
   "execution_count": 22,
   "metadata": {
    "scrolled": false
   },
   "outputs": [
    {
     "name": "stdout",
     "output_type": "stream",
     "text": [
      "<class 'pandas.core.frame.DataFrame'>\n",
      "RangeIndex: 217774 entries, 0 to 217773\n",
      "Data columns (total 22 columns):\n",
      " #   Column               Non-Null Count   Dtype  \n",
      "---  ------               --------------   -----  \n",
      " 0   company_id           217774 non-null  float64\n",
      " 1   name                 217472 non-null  object \n",
      " 2   category_code        143886 non-null  object \n",
      " 3   status               217472 non-null  object \n",
      " 4   founded_at           109956 non-null  object \n",
      " 5   closed_at            3449 non-null    object \n",
      " 6   domain               147159 non-null  object \n",
      " 7   network_username     95534 non-null   object \n",
      " 8   country_code         108607 non-null  object \n",
      " 9   investment_rounds    217472 non-null  float64\n",
      " 10  funding_rounds       217472 non-null  float64\n",
      " 11  funding_total        217472 non-null  float64\n",
      " 12  milestones           217472 non-null  float64\n",
      " 13  funding_round_id     52928 non-null   float64\n",
      " 14  funded_at            52680 non-null   object \n",
      " 15  funding_round_type   52928 non-null   object \n",
      " 16  raised_amount        52928 non-null   float64\n",
      " 17  pre_money_valuation  52928 non-null   float64\n",
      " 18  participants         52928 non-null   float64\n",
      " 19  is_first_round       52928 non-null   float64\n",
      " 20  is_last_round        52928 non-null   float64\n",
      " 21  is_match             52626 non-null   object \n",
      "dtypes: float64(11), object(11)\n",
      "memory usage: 36.6+ MB\n"
     ]
    }
   ],
   "source": [
    "#Выведим тип данных для company_and_rounds\n",
    "co_df.info()"
   ]
  },
  {
   "cell_type": "code",
   "execution_count": 23,
   "metadata": {
    "scrolled": true
   },
   "outputs": [
    {
     "data": {
      "text/plain": [
       "company_id             0.000000\n",
       "name                   0.001387\n",
       "category_code          0.339288\n",
       "status                 0.001387\n",
       "founded_at             0.495091\n",
       "closed_at              0.984162\n",
       "domain                 0.324258\n",
       "network_username       0.561316\n",
       "country_code           0.501286\n",
       "investment_rounds      0.001387\n",
       "funding_rounds         0.001387\n",
       "funding_total          0.001387\n",
       "milestones             0.001387\n",
       "funding_round_id       0.756959\n",
       "funded_at              0.758098\n",
       "funding_round_type     0.756959\n",
       "raised_amount          0.756959\n",
       "pre_money_valuation    0.756959\n",
       "participants           0.756959\n",
       "is_first_round         0.756959\n",
       "is_last_round          0.756959\n",
       "is_match               0.758346\n",
       "dtype: float64"
      ]
     },
     "metadata": {},
     "output_type": "display_data"
    }
   ],
   "source": [
    "# Выводим долю пустых значений в столбцах датафрейма\n",
    "missing_fraction = co_df.isna().sum() / co_df.shape[0]\n",
    "\n",
    "# Отображаем результат\n",
    "display(missing_fraction)"
   ]
  },
  {
   "cell_type": "markdown",
   "metadata": {},
   "source": [
    "Характеристика данных  `company_and_rounds`:\n",
    "- Всего в датасете 217 774 строки, из них пропуски данных в следующих столбцах:\n",
    "-  `name`,`status`,`investment _rounds`,`funding_rounds`,`funding_total`,`milestones`) —   т.к. процент потерянных данных незначительный и можно не исправлять.\n",
    "- `category_code` пропущены значения для 73,888 строк (более 33% данных), так как датасет не содержит описательного столбца с компанией дозаполнить текущий столбец нету возможности.Воспользуемся заглушкой \"no category\"\n",
    "- `closed_at`-говрит о том что доля закрытых компаний ~2%, 98%пустых , не казрытых компаний можно либо оставить без изменения либо установить дату в будущем — можно использовать дату, которая явно указывает на отсутствие закрытия, например, 31.12.9999\n",
    "- `founded_at`- 49% можно либо оставить без изменения либо установить минимальную дату — например, 01.01.1900\n",
    "- `domain`, `network_username`, `country_code` — также имеют пропуски для значительного количества строк (например, domain для 70,615 строк). Необходимо продумать, как работать с этими пропусками, возможно, использовать заглушки или пропустить если для последующего анализы в них не будет необходимоть.\n",
    "- схожесть в пропусках данных в столбцах `funding rounds`, `funding_company_id`,`funding_total`, `funded_at`, `funding_round_type`,`raised_amount`,`pre_money_valuation`,`participants`,`is first round`,`is last round`-. Пропуски в этих столбцах могут быть связаны с отсутствием информации о финансировании для некоторых компаний. Стоит рассмотреть возможность фильтрации и присваивания категории было или нет финансирования.\n",
    "- аномально выглядит столбцы `investment_rounds`,`funding_rounds`,`funding_total` и `milestones` которые имеют прямую взаимосвязь с финансированием, но в то время как имеются значительные пропуски данных в выше указанных столбцах, в текущих доля пропусков менее 2%\n",
    "- Столбцы `founded_at`,`closed_at`,`funded_at` привести к формату даты\n",
    "- `funding_total` к целочисленному формату\n"
   ]
  },
  {
   "cell_type": "markdown",
   "metadata": {},
   "source": [
    "Таблица `fund`"
   ]
  },
  {
   "cell_type": "code",
   "execution_count": 24,
   "metadata": {
    "scrolled": false
   },
   "outputs": [
    {
     "name": "stdout",
     "output_type": "stream",
     "text": [
      "<class 'pandas.core.frame.DataFrame'>\n",
      "RangeIndex: 11652 entries, 0 to 11651\n",
      "Data columns (total 9 columns):\n",
      " #   Column              Non-Null Count  Dtype \n",
      "---  ------              --------------  ----- \n",
      " 0   id                  11652 non-null  int64 \n",
      " 1   name                11650 non-null  object\n",
      " 2   founded_at          4605 non-null   object\n",
      " 3   domain              7362 non-null   object\n",
      " 4   network_username    2149 non-null   object\n",
      " 5   country_code        7053 non-null   object\n",
      " 6   investment_rounds   11652 non-null  int64 \n",
      " 7   invested_companies  11652 non-null  int64 \n",
      " 8   milestones          11652 non-null  int64 \n",
      "dtypes: int64(4), object(5)\n",
      "memory usage: 819.4+ KB\n"
     ]
    },
    {
     "data": {
      "text/plain": [
       "'fund:'"
      ]
     },
     "metadata": {},
     "output_type": "display_data"
    },
    {
     "data": {
      "text/plain": [
       "None"
      ]
     },
     "metadata": {},
     "output_type": "display_data"
    }
   ],
   "source": [
    "#Выведим тип данных для fund\n",
    "display(\"fund:\", fu_df.info())"
   ]
  },
  {
   "cell_type": "code",
   "execution_count": 25,
   "metadata": {},
   "outputs": [
    {
     "data": {
      "text/plain": [
       "id                    0.000000\n",
       "name                  0.000172\n",
       "founded_at            0.604789\n",
       "domain                0.368177\n",
       "network_username      0.815568\n",
       "country_code          0.394696\n",
       "investment_rounds     0.000000\n",
       "invested_companies    0.000000\n",
       "milestones            0.000000\n",
       "dtype: float64"
      ]
     },
     "metadata": {},
     "output_type": "display_data"
    }
   ],
   "source": [
    "# Выводим долю пустых значений в столбцах датафрейма\n",
    "missing_fraction = fu_df.isna().sum() /fu_df.shape[0]\n",
    "\n",
    "# Отображаем результат\n",
    "display(missing_fraction)"
   ]
  },
  {
   "cell_type": "markdown",
   "metadata": {},
   "source": [
    "Характеристика данных  `fund`:\n",
    "\n",
    "- Всего в датасете 11652 строки, из них пропуски данных в следующих столбцах:\n",
    "- `name` — Название компании. Есть 2 пропуска. Этот столбец можно использовать для анализа компаний, но нужно очистить данные от возможных пробелов или других ненормализованных значений.Удалить аномальные значения и пустые строки\n",
    "- `founded_at` — Дата основания компании. Здесь большое количество пропусков (7,047 значений отсутствуют).\n",
    "- `domain`, `network_username`, `country_code`-большой объем пропусков, возможно эти данные не являются обязательными"
   ]
  },
  {
   "cell_type": "markdown",
   "metadata": {},
   "source": [
    "Таблица `investment`"
   ]
  },
  {
   "cell_type": "code",
   "execution_count": 26,
   "metadata": {
    "scrolled": true
   },
   "outputs": [
    {
     "name": "stdout",
     "output_type": "stream",
     "text": [
      "<class 'pandas.core.frame.DataFrame'>\n",
      "RangeIndex: 61403 entries, 0 to 61402\n",
      "Data columns (total 4 columns):\n",
      " #   Column            Non-Null Count  Dtype\n",
      "---  ------            --------------  -----\n",
      " 0   id                61403 non-null  int64\n",
      " 1   funding_round_id  61403 non-null  int64\n",
      " 2   company_id        61403 non-null  int64\n",
      " 3   fund_id           61403 non-null  int64\n",
      "dtypes: int64(4)\n",
      "memory usage: 1.9 MB\n"
     ]
    }
   ],
   "source": [
    "#Выведим тип данных\n",
    "in_df.info()"
   ]
  },
  {
   "cell_type": "markdown",
   "metadata": {},
   "source": [
    "Характеристика данных  `investment`:\n",
    "\n",
    "Всего в датасете \" investment\" 61403 строки, нет пропусков в данных"
   ]
  },
  {
   "cell_type": "markdown",
   "metadata": {},
   "source": [
    "Таблица `education`"
   ]
  },
  {
   "cell_type": "code",
   "execution_count": 27,
   "metadata": {
    "scrolled": true
   },
   "outputs": [
    {
     "name": "stdout",
     "output_type": "stream",
     "text": [
      "<class 'pandas.core.frame.DataFrame'>\n",
      "RangeIndex: 109610 entries, 0 to 109609\n",
      "Data columns (total 4 columns):\n",
      " #   Column        Non-Null Count   Dtype \n",
      "---  ------        --------------   ----- \n",
      " 0   id            109610 non-null  int64 \n",
      " 1   person_id     109610 non-null  int64 \n",
      " 2   instituition  109555 non-null  object\n",
      " 3   graduated_at  58054 non-null   object\n",
      "dtypes: int64(2), object(2)\n",
      "memory usage: 3.3+ MB\n"
     ]
    }
   ],
   "source": [
    "#Выведим тип данных для education\n",
    "ed_df.info()"
   ]
  },
  {
   "cell_type": "code",
   "execution_count": 28,
   "metadata": {},
   "outputs": [
    {
     "data": {
      "text/plain": [
       "id              0.000000\n",
       "person_id       0.000000\n",
       "instituition    0.000502\n",
       "graduated_at    0.470359\n",
       "dtype: float64"
      ]
     },
     "metadata": {},
     "output_type": "display_data"
    }
   ],
   "source": [
    "# Выводим долю пустых значений в столбцах датафрейма\n",
    "missing_fraction = ed_df.isna().sum() /ed_df.shape[0]\n",
    "\n",
    "# Отображаем результат\n",
    "display(missing_fraction)"
   ]
  },
  {
   "cell_type": "markdown",
   "metadata": {},
   "source": [
    "Характеристика данных  `education`:\n",
    "- Всего 109 610 строк\n",
    "- Столбцы `id` и `person_id` можно использовать как ключевые, так как они полностью заполнены.\n",
    "- `instituition` Заполнить пропуски значениями (например, \"Unknown\"), если это допустимо.\n",
    "- `graduated_at` перевести в формат даты"
   ]
  },
  {
   "cell_type": "markdown",
   "metadata": {},
   "source": [
    "Таблица `people`"
   ]
  },
  {
   "cell_type": "code",
   "execution_count": 29,
   "metadata": {
    "scrolled": true
   },
   "outputs": [
    {
     "name": "stdout",
     "output_type": "stream",
     "text": [
      "<class 'pandas.core.frame.DataFrame'>\n",
      "RangeIndex: 226709 entries, 0 to 226708\n",
      "Data columns (total 5 columns):\n",
      " #   Column            Non-Null Count   Dtype  \n",
      "---  ------            --------------   -----  \n",
      " 0   id                226709 non-null  int64  \n",
      " 1   first_name        226704 non-null  object \n",
      " 2   last_name         226708 non-null  object \n",
      " 3   company_id        34615 non-null   float64\n",
      " 4   network_username  38867 non-null   object \n",
      "dtypes: float64(1), int64(1), object(3)\n",
      "memory usage: 8.6+ MB\n"
     ]
    },
    {
     "data": {
      "text/plain": [
       "'people:'"
      ]
     },
     "metadata": {},
     "output_type": "display_data"
    },
    {
     "data": {
      "text/plain": [
       "None"
      ]
     },
     "metadata": {},
     "output_type": "display_data"
    }
   ],
   "source": [
    "#Выведим тип данных для people\n",
    "display(\"people:\", pe_df.info())"
   ]
  },
  {
   "cell_type": "code",
   "execution_count": 30,
   "metadata": {},
   "outputs": [
    {
     "data": {
      "text/plain": [
       "id                  0.000000\n",
       "first_name          0.000022\n",
       "last_name           0.000004\n",
       "company_id          0.847315\n",
       "network_username    0.828560\n",
       "dtype: float64"
      ]
     },
     "metadata": {},
     "output_type": "display_data"
    }
   ],
   "source": [
    "# Выводим долю пустых значений в столбцах датафрейма\n",
    "missing_fraction = pe_df.isna().sum() /pe_df.shape[0]\n",
    "\n",
    "# Отображаем результат\n",
    "display(missing_fraction)"
   ]
  },
  {
   "cell_type": "markdown",
   "metadata": {},
   "source": [
    "Характеристика данных  `people`:\n",
    "- Всего 226 709 строк\n",
    "- Столбцы `company_id` и `network_username` имеют значительное количество пропусков (более 80%).\n",
    "Пропуски в столбцах first_name и last_name несущественны.\n",
    "- Проверить распределение и влияние пропусков на анализ.\n",
    "- `company_id` должен быть целым числом."
   ]
  },
  {
   "cell_type": "markdown",
   "metadata": {},
   "source": [
    "Таблица `degrees`"
   ]
  },
  {
   "cell_type": "code",
   "execution_count": 31,
   "metadata": {
    "scrolled": true
   },
   "outputs": [
    {
     "name": "stdout",
     "output_type": "stream",
     "text": [
      "<class 'pandas.core.frame.DataFrame'>\n",
      "RangeIndex: 109610 entries, 0 to 109609\n",
      "Data columns (total 4 columns):\n",
      " #   Column       Non-Null Count   Dtype \n",
      "---  ------       --------------   ----- \n",
      " 0   id           109610 non-null  int64 \n",
      " 1   object_id    109610 non-null  object\n",
      " 2   degree_type  98392 non-null   object\n",
      " 3   subject      81298 non-null   object\n",
      "dtypes: int64(1), object(3)\n",
      "memory usage: 3.3+ MB\n"
     ]
    }
   ],
   "source": [
    "#Выведим тип данных для degrees\n",
    "de_df.info()"
   ]
  },
  {
   "cell_type": "code",
   "execution_count": 32,
   "metadata": {},
   "outputs": [
    {
     "data": {
      "text/plain": [
       "id             0.000000\n",
       "object_id      0.000000\n",
       "degree_type    0.102345\n",
       "subject        0.258298\n",
       "dtype: float64"
      ]
     },
     "metadata": {},
     "output_type": "display_data"
    }
   ],
   "source": [
    "# Выводим долю пустых значений в столбцах датафрейма\n",
    "missing_fraction = de_df.isna().sum() /de_df.shape[0]\n",
    "\n",
    "# Отображаем результат\n",
    "display(missing_fraction)"
   ]
  },
  {
   "cell_type": "markdown",
   "metadata": {},
   "source": [
    "Характеристика данных  `degrees`:\n",
    "- Всего 109 610 строк\n",
    "- Столбцы `degree_type` и `subject` имеют количество пропусков (более 10%).\n",
    "- Проверить распределение и влияние пропусков на анализ."
   ]
  },
  {
   "cell_type": "markdown",
   "metadata": {},
   "source": [
    "#### Промежуточные выводы:\n",
    "\n",
    "На основе проведенной работы с датасетом company_and_rounds и других данных, была сделана важная обработка и реорганизация информации. Все столбцы были переименованы в стиль snake_case, что улучшило читаемость и стандартизировало данные для дальнейшей работы. Были выявлены два столбца с идентичным смыслом: company_id и company id. Пустые значения в столбце company_id бфли заполнены из дублированного столбца.\n",
    "\n",
    "После переименования столбцов не было выявлено полных дубликатов. Важным этапом было также оценивание полноты данных по каждому столбцу, что позволит точно определить, какие из них требуют дополнительной обработки, очистки или заполнения.\n",
    "\n",
    "Это создаёт основу для следующего шага — подготовки данных к анализу, где можно будет более эффективно работать с финансовыми и корпоративными показателями, благодаря структурированным данным.\n"
   ]
  },
  {
   "cell_type": "markdown",
   "metadata": {
    "id": "mg2gEwh0rJg0"
   },
   "source": [
    "### 1.2. Смена типов и анализ пропусков\n",
    "\n",
    "* Обработайте типы данных в столбцах, которые хранят значения даты и времени, если это необходимо.\n",
    "\n",
    "* Оцените полноту данных — сделайте предварительный вывод, достаточно ли данных для решения задач проекта."
   ]
  },
  {
   "cell_type": "code",
   "execution_count": 33,
   "metadata": {
    "id": "FsL0A8RBrJg1",
    "vscode": {
     "languageId": "plaintext"
    }
   },
   "outputs": [
    {
     "data": {
      "text/plain": [
       "'Формат данных столбца acquired_at: datetime64[ns]'"
      ]
     },
     "metadata": {},
     "output_type": "display_data"
    },
    {
     "data": {
      "text/plain": [
       "'Формат данных столбца founded_at: datetime64[ns]'"
      ]
     },
     "metadata": {},
     "output_type": "display_data"
    },
    {
     "data": {
      "text/plain": [
       "'Формат данных столбца closed_at: datetime64[ns]'"
      ]
     },
     "metadata": {},
     "output_type": "display_data"
    },
    {
     "data": {
      "text/plain": [
       "'Формат данных столбца funded_at: datetime64[ns]'"
      ]
     },
     "metadata": {},
     "output_type": "display_data"
    },
    {
     "data": {
      "text/plain": [
       "'Формат данных столбца graduated_at: datetime64[ns]'"
      ]
     },
     "metadata": {},
     "output_type": "display_data"
    }
   ],
   "source": [
    "# Словарь с названиями столбцов для преобразования и соответствующими датафреймами\n",
    "date_columns = {\n",
    "    'acquired_at': ac_df,\n",
    "    'founded_at': co_df,\n",
    "    'closed_at': co_df,\n",
    "    'funded_at': co_df,\n",
    "    'graduated_at': ed_df\n",
    "}\n",
    "\n",
    "# Преобразуем все даты в нужный формат с циклом\n",
    "for column, df in date_columns.items():\n",
    "    df[column] = pd.to_datetime(df[column], errors='coerce')\n",
    "\n",
    "# Отображение измененных форматов\n",
    "for column, df in date_columns.items():\n",
    "    display(f\"Формат данных столбца {column}: {df[column].dtype}\")\n"
   ]
  },
  {
   "cell_type": "code",
   "execution_count": 34,
   "metadata": {},
   "outputs": [
    {
     "data": {
      "text/plain": [
       "'Датасет people:'"
      ]
     },
     "metadata": {},
     "output_type": "display_data"
    },
    {
     "data": {
      "text/plain": [
       "'Формат данных столбца company_id:Int64'"
      ]
     },
     "metadata": {},
     "output_type": "display_data"
    }
   ],
   "source": [
    "# Преобразуем в тип Int64, который поддерживает NaN и является целочисленным\n",
    "pe_df['company_id'] = pe_df['company_id'].astype('Int64')\n",
    "\n",
    "# Проверим результат\n",
    "display(f'Датасет people:')\n",
    "display(f\"Формат данных столбца company_id:{pe_df['company_id'].dtype}\")\n"
   ]
  },
  {
   "cell_type": "code",
   "execution_count": 35,
   "metadata": {},
   "outputs": [
    {
     "data": {
      "text/plain": [
       "'Формат данных столбца object_id: Int64'"
      ]
     },
     "metadata": {},
     "output_type": "display_data"
    }
   ],
   "source": [
    "# Убираем префикс 'p:' из столбца 'object_id'\n",
    "de_df['object_id'] = de_df['object_id'].str.replace('p:', '', regex=False)\n",
    "\n",
    "# Преобразуем в числовой тип, заменяя некорректные значения на NaN\n",
    "de_df['object_id'] = pd.to_numeric(de_df['object_id'], errors='coerce')\n",
    "\n",
    "# Преобразуем NaN в Null (если требуется) и столбец в тип Int64\n",
    "de_df['object_id'] = de_df['object_id'].fillna(pd.NA).astype('Int64')\n",
    "\n",
    "# Проверяем результат\n",
    "display(f\"Формат данных столбца object_id: {de_df['object_id'].dtype}\")\n"
   ]
  },
  {
   "cell_type": "code",
   "execution_count": 36,
   "metadata": {},
   "outputs": [
    {
     "data": {
      "text/plain": [
       "'Пропуски в данных для ac_df:'"
      ]
     },
     "metadata": {},
     "output_type": "display_data"
    },
    {
     "data": {
      "text/html": [
       "<div>\n",
       "<style scoped>\n",
       "    .dataframe tbody tr th:only-of-type {\n",
       "        vertical-align: middle;\n",
       "    }\n",
       "\n",
       "    .dataframe tbody tr th {\n",
       "        vertical-align: top;\n",
       "    }\n",
       "\n",
       "    .dataframe thead th {\n",
       "        text-align: right;\n",
       "    }\n",
       "</style>\n",
       "<table border=\"1\" class=\"dataframe\">\n",
       "  <thead>\n",
       "    <tr style=\"text-align: right;\">\n",
       "      <th></th>\n",
       "      <th>Количество пропусков</th>\n",
       "      <th>Процент пропусков</th>\n",
       "    </tr>\n",
       "  </thead>\n",
       "  <tbody>\n",
       "    <tr>\n",
       "      <th>id</th>\n",
       "      <td>0</td>\n",
       "      <td>0.00</td>\n",
       "    </tr>\n",
       "    <tr>\n",
       "      <th>acquiring_company_id</th>\n",
       "      <td>0</td>\n",
       "      <td>0.00</td>\n",
       "    </tr>\n",
       "    <tr>\n",
       "      <th>acquired_company_id</th>\n",
       "      <td>0</td>\n",
       "      <td>0.00</td>\n",
       "    </tr>\n",
       "    <tr>\n",
       "      <th>term_code</th>\n",
       "      <td>7576</td>\n",
       "      <td>80.54</td>\n",
       "    </tr>\n",
       "    <tr>\n",
       "      <th>price_amount</th>\n",
       "      <td>0</td>\n",
       "      <td>0.00</td>\n",
       "    </tr>\n",
       "    <tr>\n",
       "      <th>acquired_at</th>\n",
       "      <td>29</td>\n",
       "      <td>0.31</td>\n",
       "    </tr>\n",
       "  </tbody>\n",
       "</table>\n",
       "</div>"
      ],
      "text/plain": [
       "                      Количество пропусков  Процент пропусков\n",
       "id                                       0               0.00\n",
       "acquiring_company_id                     0               0.00\n",
       "acquired_company_id                      0               0.00\n",
       "term_code                             7576              80.54\n",
       "price_amount                             0               0.00\n",
       "acquired_at                             29               0.31"
      ]
     },
     "metadata": {},
     "output_type": "display_data"
    },
    {
     "data": {
      "text/plain": [
       "'--------------------------------------------------'"
      ]
     },
     "metadata": {},
     "output_type": "display_data"
    },
    {
     "data": {
      "text/plain": [
       "'Пропуски в данных для co_df:'"
      ]
     },
     "metadata": {},
     "output_type": "display_data"
    },
    {
     "data": {
      "text/html": [
       "<div>\n",
       "<style scoped>\n",
       "    .dataframe tbody tr th:only-of-type {\n",
       "        vertical-align: middle;\n",
       "    }\n",
       "\n",
       "    .dataframe tbody tr th {\n",
       "        vertical-align: top;\n",
       "    }\n",
       "\n",
       "    .dataframe thead th {\n",
       "        text-align: right;\n",
       "    }\n",
       "</style>\n",
       "<table border=\"1\" class=\"dataframe\">\n",
       "  <thead>\n",
       "    <tr style=\"text-align: right;\">\n",
       "      <th></th>\n",
       "      <th>Количество пропусков</th>\n",
       "      <th>Процент пропусков</th>\n",
       "    </tr>\n",
       "  </thead>\n",
       "  <tbody>\n",
       "    <tr>\n",
       "      <th>company_id</th>\n",
       "      <td>0</td>\n",
       "      <td>0.00</td>\n",
       "    </tr>\n",
       "    <tr>\n",
       "      <th>name</th>\n",
       "      <td>302</td>\n",
       "      <td>0.14</td>\n",
       "    </tr>\n",
       "    <tr>\n",
       "      <th>category_code</th>\n",
       "      <td>73888</td>\n",
       "      <td>33.93</td>\n",
       "    </tr>\n",
       "    <tr>\n",
       "      <th>status</th>\n",
       "      <td>302</td>\n",
       "      <td>0.14</td>\n",
       "    </tr>\n",
       "    <tr>\n",
       "      <th>founded_at</th>\n",
       "      <td>107818</td>\n",
       "      <td>49.51</td>\n",
       "    </tr>\n",
       "    <tr>\n",
       "      <th>closed_at</th>\n",
       "      <td>214325</td>\n",
       "      <td>98.42</td>\n",
       "    </tr>\n",
       "    <tr>\n",
       "      <th>domain</th>\n",
       "      <td>70615</td>\n",
       "      <td>32.43</td>\n",
       "    </tr>\n",
       "    <tr>\n",
       "      <th>network_username</th>\n",
       "      <td>122240</td>\n",
       "      <td>56.13</td>\n",
       "    </tr>\n",
       "    <tr>\n",
       "      <th>country_code</th>\n",
       "      <td>109167</td>\n",
       "      <td>50.13</td>\n",
       "    </tr>\n",
       "    <tr>\n",
       "      <th>investment_rounds</th>\n",
       "      <td>302</td>\n",
       "      <td>0.14</td>\n",
       "    </tr>\n",
       "    <tr>\n",
       "      <th>funding_rounds</th>\n",
       "      <td>302</td>\n",
       "      <td>0.14</td>\n",
       "    </tr>\n",
       "    <tr>\n",
       "      <th>funding_total</th>\n",
       "      <td>302</td>\n",
       "      <td>0.14</td>\n",
       "    </tr>\n",
       "    <tr>\n",
       "      <th>milestones</th>\n",
       "      <td>302</td>\n",
       "      <td>0.14</td>\n",
       "    </tr>\n",
       "    <tr>\n",
       "      <th>funding_round_id</th>\n",
       "      <td>164846</td>\n",
       "      <td>75.70</td>\n",
       "    </tr>\n",
       "    <tr>\n",
       "      <th>funded_at</th>\n",
       "      <td>165094</td>\n",
       "      <td>75.81</td>\n",
       "    </tr>\n",
       "    <tr>\n",
       "      <th>funding_round_type</th>\n",
       "      <td>164846</td>\n",
       "      <td>75.70</td>\n",
       "    </tr>\n",
       "    <tr>\n",
       "      <th>raised_amount</th>\n",
       "      <td>164846</td>\n",
       "      <td>75.70</td>\n",
       "    </tr>\n",
       "    <tr>\n",
       "      <th>pre_money_valuation</th>\n",
       "      <td>164846</td>\n",
       "      <td>75.70</td>\n",
       "    </tr>\n",
       "    <tr>\n",
       "      <th>participants</th>\n",
       "      <td>164846</td>\n",
       "      <td>75.70</td>\n",
       "    </tr>\n",
       "    <tr>\n",
       "      <th>is_first_round</th>\n",
       "      <td>164846</td>\n",
       "      <td>75.70</td>\n",
       "    </tr>\n",
       "    <tr>\n",
       "      <th>is_last_round</th>\n",
       "      <td>164846</td>\n",
       "      <td>75.70</td>\n",
       "    </tr>\n",
       "    <tr>\n",
       "      <th>is_match</th>\n",
       "      <td>165148</td>\n",
       "      <td>75.83</td>\n",
       "    </tr>\n",
       "  </tbody>\n",
       "</table>\n",
       "</div>"
      ],
      "text/plain": [
       "                     Количество пропусков  Процент пропусков\n",
       "company_id                              0               0.00\n",
       "name                                  302               0.14\n",
       "category_code                       73888              33.93\n",
       "status                                302               0.14\n",
       "founded_at                         107818              49.51\n",
       "closed_at                          214325              98.42\n",
       "domain                              70615              32.43\n",
       "network_username                   122240              56.13\n",
       "country_code                       109167              50.13\n",
       "investment_rounds                     302               0.14\n",
       "funding_rounds                        302               0.14\n",
       "funding_total                         302               0.14\n",
       "milestones                            302               0.14\n",
       "funding_round_id                   164846              75.70\n",
       "funded_at                          165094              75.81\n",
       "funding_round_type                 164846              75.70\n",
       "raised_amount                      164846              75.70\n",
       "pre_money_valuation                164846              75.70\n",
       "participants                       164846              75.70\n",
       "is_first_round                     164846              75.70\n",
       "is_last_round                      164846              75.70\n",
       "is_match                           165148              75.83"
      ]
     },
     "metadata": {},
     "output_type": "display_data"
    },
    {
     "data": {
      "text/plain": [
       "'--------------------------------------------------'"
      ]
     },
     "metadata": {},
     "output_type": "display_data"
    },
    {
     "data": {
      "text/plain": [
       "'Пропуски в данных для fu_df:'"
      ]
     },
     "metadata": {},
     "output_type": "display_data"
    },
    {
     "data": {
      "text/html": [
       "<div>\n",
       "<style scoped>\n",
       "    .dataframe tbody tr th:only-of-type {\n",
       "        vertical-align: middle;\n",
       "    }\n",
       "\n",
       "    .dataframe tbody tr th {\n",
       "        vertical-align: top;\n",
       "    }\n",
       "\n",
       "    .dataframe thead th {\n",
       "        text-align: right;\n",
       "    }\n",
       "</style>\n",
       "<table border=\"1\" class=\"dataframe\">\n",
       "  <thead>\n",
       "    <tr style=\"text-align: right;\">\n",
       "      <th></th>\n",
       "      <th>Количество пропусков</th>\n",
       "      <th>Процент пропусков</th>\n",
       "    </tr>\n",
       "  </thead>\n",
       "  <tbody>\n",
       "    <tr>\n",
       "      <th>id</th>\n",
       "      <td>0</td>\n",
       "      <td>0.00</td>\n",
       "    </tr>\n",
       "    <tr>\n",
       "      <th>name</th>\n",
       "      <td>2</td>\n",
       "      <td>0.02</td>\n",
       "    </tr>\n",
       "    <tr>\n",
       "      <th>founded_at</th>\n",
       "      <td>7047</td>\n",
       "      <td>60.48</td>\n",
       "    </tr>\n",
       "    <tr>\n",
       "      <th>domain</th>\n",
       "      <td>4290</td>\n",
       "      <td>36.82</td>\n",
       "    </tr>\n",
       "    <tr>\n",
       "      <th>network_username</th>\n",
       "      <td>9503</td>\n",
       "      <td>81.56</td>\n",
       "    </tr>\n",
       "    <tr>\n",
       "      <th>country_code</th>\n",
       "      <td>4599</td>\n",
       "      <td>39.47</td>\n",
       "    </tr>\n",
       "    <tr>\n",
       "      <th>investment_rounds</th>\n",
       "      <td>0</td>\n",
       "      <td>0.00</td>\n",
       "    </tr>\n",
       "    <tr>\n",
       "      <th>invested_companies</th>\n",
       "      <td>0</td>\n",
       "      <td>0.00</td>\n",
       "    </tr>\n",
       "    <tr>\n",
       "      <th>milestones</th>\n",
       "      <td>0</td>\n",
       "      <td>0.00</td>\n",
       "    </tr>\n",
       "  </tbody>\n",
       "</table>\n",
       "</div>"
      ],
      "text/plain": [
       "                    Количество пропусков  Процент пропусков\n",
       "id                                     0               0.00\n",
       "name                                   2               0.02\n",
       "founded_at                          7047              60.48\n",
       "domain                              4290              36.82\n",
       "network_username                    9503              81.56\n",
       "country_code                        4599              39.47\n",
       "investment_rounds                      0               0.00\n",
       "invested_companies                     0               0.00\n",
       "milestones                             0               0.00"
      ]
     },
     "metadata": {},
     "output_type": "display_data"
    },
    {
     "data": {
      "text/plain": [
       "'--------------------------------------------------'"
      ]
     },
     "metadata": {},
     "output_type": "display_data"
    },
    {
     "data": {
      "text/plain": [
       "'Пропуски в данных для in_df:'"
      ]
     },
     "metadata": {},
     "output_type": "display_data"
    },
    {
     "data": {
      "text/html": [
       "<div>\n",
       "<style scoped>\n",
       "    .dataframe tbody tr th:only-of-type {\n",
       "        vertical-align: middle;\n",
       "    }\n",
       "\n",
       "    .dataframe tbody tr th {\n",
       "        vertical-align: top;\n",
       "    }\n",
       "\n",
       "    .dataframe thead th {\n",
       "        text-align: right;\n",
       "    }\n",
       "</style>\n",
       "<table border=\"1\" class=\"dataframe\">\n",
       "  <thead>\n",
       "    <tr style=\"text-align: right;\">\n",
       "      <th></th>\n",
       "      <th>Количество пропусков</th>\n",
       "      <th>Процент пропусков</th>\n",
       "    </tr>\n",
       "  </thead>\n",
       "  <tbody>\n",
       "    <tr>\n",
       "      <th>id</th>\n",
       "      <td>0</td>\n",
       "      <td>0.0</td>\n",
       "    </tr>\n",
       "    <tr>\n",
       "      <th>funding_round_id</th>\n",
       "      <td>0</td>\n",
       "      <td>0.0</td>\n",
       "    </tr>\n",
       "    <tr>\n",
       "      <th>company_id</th>\n",
       "      <td>0</td>\n",
       "      <td>0.0</td>\n",
       "    </tr>\n",
       "    <tr>\n",
       "      <th>fund_id</th>\n",
       "      <td>0</td>\n",
       "      <td>0.0</td>\n",
       "    </tr>\n",
       "  </tbody>\n",
       "</table>\n",
       "</div>"
      ],
      "text/plain": [
       "                  Количество пропусков  Процент пропусков\n",
       "id                                   0                0.0\n",
       "funding_round_id                     0                0.0\n",
       "company_id                           0                0.0\n",
       "fund_id                              0                0.0"
      ]
     },
     "metadata": {},
     "output_type": "display_data"
    },
    {
     "data": {
      "text/plain": [
       "'--------------------------------------------------'"
      ]
     },
     "metadata": {},
     "output_type": "display_data"
    },
    {
     "data": {
      "text/plain": [
       "'Пропуски в данных для ed_df:'"
      ]
     },
     "metadata": {},
     "output_type": "display_data"
    },
    {
     "data": {
      "text/html": [
       "<div>\n",
       "<style scoped>\n",
       "    .dataframe tbody tr th:only-of-type {\n",
       "        vertical-align: middle;\n",
       "    }\n",
       "\n",
       "    .dataframe tbody tr th {\n",
       "        vertical-align: top;\n",
       "    }\n",
       "\n",
       "    .dataframe thead th {\n",
       "        text-align: right;\n",
       "    }\n",
       "</style>\n",
       "<table border=\"1\" class=\"dataframe\">\n",
       "  <thead>\n",
       "    <tr style=\"text-align: right;\">\n",
       "      <th></th>\n",
       "      <th>Количество пропусков</th>\n",
       "      <th>Процент пропусков</th>\n",
       "    </tr>\n",
       "  </thead>\n",
       "  <tbody>\n",
       "    <tr>\n",
       "      <th>id</th>\n",
       "      <td>0</td>\n",
       "      <td>0.00</td>\n",
       "    </tr>\n",
       "    <tr>\n",
       "      <th>person_id</th>\n",
       "      <td>0</td>\n",
       "      <td>0.00</td>\n",
       "    </tr>\n",
       "    <tr>\n",
       "      <th>instituition</th>\n",
       "      <td>55</td>\n",
       "      <td>0.05</td>\n",
       "    </tr>\n",
       "    <tr>\n",
       "      <th>graduated_at</th>\n",
       "      <td>51556</td>\n",
       "      <td>47.04</td>\n",
       "    </tr>\n",
       "  </tbody>\n",
       "</table>\n",
       "</div>"
      ],
      "text/plain": [
       "              Количество пропусков  Процент пропусков\n",
       "id                               0               0.00\n",
       "person_id                        0               0.00\n",
       "instituition                    55               0.05\n",
       "graduated_at                 51556              47.04"
      ]
     },
     "metadata": {},
     "output_type": "display_data"
    },
    {
     "data": {
      "text/plain": [
       "'--------------------------------------------------'"
      ]
     },
     "metadata": {},
     "output_type": "display_data"
    },
    {
     "data": {
      "text/plain": [
       "'Пропуски в данных для pe_df:'"
      ]
     },
     "metadata": {},
     "output_type": "display_data"
    },
    {
     "data": {
      "text/html": [
       "<div>\n",
       "<style scoped>\n",
       "    .dataframe tbody tr th:only-of-type {\n",
       "        vertical-align: middle;\n",
       "    }\n",
       "\n",
       "    .dataframe tbody tr th {\n",
       "        vertical-align: top;\n",
       "    }\n",
       "\n",
       "    .dataframe thead th {\n",
       "        text-align: right;\n",
       "    }\n",
       "</style>\n",
       "<table border=\"1\" class=\"dataframe\">\n",
       "  <thead>\n",
       "    <tr style=\"text-align: right;\">\n",
       "      <th></th>\n",
       "      <th>Количество пропусков</th>\n",
       "      <th>Процент пропусков</th>\n",
       "    </tr>\n",
       "  </thead>\n",
       "  <tbody>\n",
       "    <tr>\n",
       "      <th>id</th>\n",
       "      <td>0</td>\n",
       "      <td>0.00</td>\n",
       "    </tr>\n",
       "    <tr>\n",
       "      <th>first_name</th>\n",
       "      <td>5</td>\n",
       "      <td>0.00</td>\n",
       "    </tr>\n",
       "    <tr>\n",
       "      <th>last_name</th>\n",
       "      <td>1</td>\n",
       "      <td>0.00</td>\n",
       "    </tr>\n",
       "    <tr>\n",
       "      <th>company_id</th>\n",
       "      <td>192094</td>\n",
       "      <td>84.73</td>\n",
       "    </tr>\n",
       "    <tr>\n",
       "      <th>network_username</th>\n",
       "      <td>187842</td>\n",
       "      <td>82.86</td>\n",
       "    </tr>\n",
       "  </tbody>\n",
       "</table>\n",
       "</div>"
      ],
      "text/plain": [
       "                  Количество пропусков  Процент пропусков\n",
       "id                                   0               0.00\n",
       "first_name                           5               0.00\n",
       "last_name                            1               0.00\n",
       "company_id                      192094              84.73\n",
       "network_username                187842              82.86"
      ]
     },
     "metadata": {},
     "output_type": "display_data"
    },
    {
     "data": {
      "text/plain": [
       "'--------------------------------------------------'"
      ]
     },
     "metadata": {},
     "output_type": "display_data"
    },
    {
     "data": {
      "text/plain": [
       "'Пропуски в данных для de_df:'"
      ]
     },
     "metadata": {},
     "output_type": "display_data"
    },
    {
     "data": {
      "text/html": [
       "<div>\n",
       "<style scoped>\n",
       "    .dataframe tbody tr th:only-of-type {\n",
       "        vertical-align: middle;\n",
       "    }\n",
       "\n",
       "    .dataframe tbody tr th {\n",
       "        vertical-align: top;\n",
       "    }\n",
       "\n",
       "    .dataframe thead th {\n",
       "        text-align: right;\n",
       "    }\n",
       "</style>\n",
       "<table border=\"1\" class=\"dataframe\">\n",
       "  <thead>\n",
       "    <tr style=\"text-align: right;\">\n",
       "      <th></th>\n",
       "      <th>Количество пропусков</th>\n",
       "      <th>Процент пропусков</th>\n",
       "    </tr>\n",
       "  </thead>\n",
       "  <tbody>\n",
       "    <tr>\n",
       "      <th>id</th>\n",
       "      <td>0</td>\n",
       "      <td>0.00</td>\n",
       "    </tr>\n",
       "    <tr>\n",
       "      <th>object_id</th>\n",
       "      <td>0</td>\n",
       "      <td>0.00</td>\n",
       "    </tr>\n",
       "    <tr>\n",
       "      <th>degree_type</th>\n",
       "      <td>11218</td>\n",
       "      <td>10.23</td>\n",
       "    </tr>\n",
       "    <tr>\n",
       "      <th>subject</th>\n",
       "      <td>28312</td>\n",
       "      <td>25.83</td>\n",
       "    </tr>\n",
       "  </tbody>\n",
       "</table>\n",
       "</div>"
      ],
      "text/plain": [
       "             Количество пропусков  Процент пропусков\n",
       "id                              0               0.00\n",
       "object_id                       0               0.00\n",
       "degree_type                 11218              10.23\n",
       "subject                     28312              25.83"
      ]
     },
     "metadata": {},
     "output_type": "display_data"
    },
    {
     "data": {
      "text/plain": [
       "'--------------------------------------------------'"
      ]
     },
     "metadata": {},
     "output_type": "display_data"
    }
   ],
   "source": [
    "# Список датафреймов и их названий\n",
    "dfs = {'ac_df': ac_df, 'co_df': co_df, 'fu_df': fu_df, \n",
    "       'in_df': in_df, 'ed_df': ed_df, 'pe_df': pe_df, 'de_df': de_df}\n",
    "\n",
    "# Цикл для проверки пропусков и относительных значений\n",
    "for name, df in dfs.items():\n",
    "    nulls = df.isnull().sum()\n",
    "    nulls_percentage = (df.isnull().sum() / len(df)) * 100\n",
    "    \n",
    "    display(f\"Пропуски в данных для {name}:\")\n",
    "    display(pd.DataFrame({'Количество пропусков': nulls, \n",
    "                        'Процент пропусков': nulls_percentage.round(2)}))\n",
    "    display(\"-\" * 50)"
   ]
  },
  {
   "cell_type": "markdown",
   "metadata": {},
   "source": [
    "\n",
    "#### Промежуточные выводы:\n",
    "\n",
    "Для всех датасетов  столбцы с датами привели к формату datetime, а id данные — к целочисленному формату, что улучшит их анализ. Также стоит внимательно следить за пропусками и возможностью их заполнения или удаления, чтобы минимизировать их влияние на результаты анализа.\n",
    "\n",
    "ценка полноты данных по представленным датасетам:\n",
    "\n",
    "Пропуски в значительном количестве столбцов могут повлиять на полноту и точность анализа данных. Для окончательного вывода требуется дополнительная обработка пропусков, например, их удаление или заполнение, в зависимости от важности столбцов для анализа. Важно также учитывать контекст данных, например, для некоторых столбцов может быть приемлемо оставить пропуски, если они не критичны для решения задач проекта.\n",
    "\n"
   ]
  },
  {
   "cell_type": "markdown",
   "metadata": {},
   "source": [
    "### Общий промежуточный вывод\n",
    "На основе проведенной работы с датасетом company_and_rounds и другими данными была выполнена стандартизация столбцов в формат snake_case, что улучшило структурированность и читаемость данных. Выявленные дублирующиеся столбцы company_id и company id были обработаны. Полные дубликаты в данных отсутствуют, а столбцы с датами и числовыми значениями были приведены к формату datetime и целочисленному типу соответственно. Проведён анализ пропусков, что выявило значительное количество отсутствующих данных в отдельных столбцах, особенно тех, что связаны с финансированием и корпоративной информацией. Пропуски будут обрабатываться индивидуально: либо удалением, либо заполнением, в зависимости от критичности данных для аналитических задач. Это создаёт прочную основу для дальнейшей подготовки данных и их анализа, с учётом особенностей полноты и качества представленных данных."
   ]
  },
  {
   "cell_type": "markdown",
   "metadata": {
    "id": "u60cHsn6rJg1"
   },
   "source": [
    "## Шаг 2. Предобработка данных, предварительное исследование\n",
    "\n",
    "### 2.1. Объединять или не объединять — вот в чём вопрос\n",
    "\n",
    "Некоторые названия столбцов встречаются в датасетах чаще других. И, например, в результате предварительной проверки датасетов было выяснено, что столбец `company_id` подходит для объединения данных, так как большая часть значений встречается в разных датасетах не один, а несколько раз. Этот столбец может быть использован для объединения данных.\n",
    "\n",
    "* Установите, подходит ли для объединения данных столбец `network_username`, который встречается в нескольких датасетах. Нам необходимо понимать, дублируется ли для разных датасетов информация в столбцах с таким названием, и если да — то насколько часто.\n",
    "\n",
    "* Оцените, можно ли использовать столбцы с именем `network_username` для объединения данных."
   ]
  },
  {
   "cell_type": "code",
   "execution_count": 37,
   "metadata": {
    "id": "Cf5IjfOQrJg1",
    "vscode": {
     "languageId": "plaintext"
    }
   },
   "outputs": [
    {
     "data": {
      "text/plain": [
       "'co_df: Уникальные значения 79571, всего значений 95534, дублирующихся: 15963'"
      ]
     },
     "metadata": {},
     "output_type": "display_data"
    },
    {
     "data": {
      "text/plain": [
       "'pe_df: Уникальные значения 38421, всего значений 38867, дублирующихся: 446'"
      ]
     },
     "metadata": {},
     "output_type": "display_data"
    },
    {
     "data": {
      "text/plain": [
       "'fu_df: Уникальные значения 2098, всего значений 2149, дублирующихся: 51'"
      ]
     },
     "metadata": {},
     "output_type": "display_data"
    }
   ],
   "source": [
    "# Проверка уникальности значений network_username в каждом датасете\n",
    "for name, df in [('co_df', co_df), ('pe_df', pe_df), ('fu_df', fu_df)]:\n",
    "    unique_count = df['network_username'].nunique()  # Количество уникальных значений\n",
    "    total_count = df['network_username'].count()     # Общее количество ненулевых значений\n",
    "    display(f\"{name}: Уникальные значения {unique_count}, всего значений {total_count}, дублирующихся: {total_count - unique_count}\")\n"
   ]
  },
  {
   "cell_type": "code",
   "execution_count": 38,
   "metadata": {},
   "outputs": [
    {
     "data": {
      "text/plain": [
       "'Пересечение co_df и fu_df: 70 значений'"
      ]
     },
     "metadata": {},
     "output_type": "display_data"
    },
    {
     "data": {
      "text/plain": [
       "'Пересечение co_df и pe_df: 2199 значений'"
      ]
     },
     "metadata": {},
     "output_type": "display_data"
    },
    {
     "data": {
      "text/plain": [
       "'Пересечение fu_df и co_df: 70 значений'"
      ]
     },
     "metadata": {},
     "output_type": "display_data"
    },
    {
     "data": {
      "text/plain": [
       "'Пересечение fu_df и pe_df: 79 значений'"
      ]
     },
     "metadata": {},
     "output_type": "display_data"
    },
    {
     "data": {
      "text/plain": [
       "'Пересечение pe_df и co_df: 2199 значений'"
      ]
     },
     "metadata": {},
     "output_type": "display_data"
    },
    {
     "data": {
      "text/plain": [
       "'Пересечение pe_df и fu_df: 79 значений'"
      ]
     },
     "metadata": {},
     "output_type": "display_data"
    }
   ],
   "source": [
    "# Создание множества network_username для каждого датасета\n",
    "network_usernames = {\n",
    "    'co_df': set(co_df['network_username'].dropna()),\n",
    "    'fu_df': set(fu_df['network_username'].dropna()),\n",
    "    'pe_df': set(pe_df['network_username'].dropna()),\n",
    "}\n",
    "\n",
    "# Сравнение пересечений между датасетами\n",
    "for df1_name, df1_set in network_usernames.items():\n",
    "    for df2_name, df2_set in network_usernames.items():\n",
    "        if df1_name != df2_name:\n",
    "            intersection = len(df1_set.intersection(df2_set))\n",
    "            display(f\"Пересечение {df1_name} и {df2_name}: {intersection} значений\")"
   ]
  },
  {
   "cell_type": "markdown",
   "metadata": {},
   "source": [
    "#### Промежуточные выводы:\n",
    "несмотря на наличие определенного пересечения, использование столбца network_usernames для объединения данных имеет ограничения из-за низкого процента совпадений и возможных дубликатов. Для объединения данных между co_df и pe_df данный столбец имеет потенциал, но объединение только по нему может быть неэффективным, и возможно потребуется поиск других переменных для более качественного объединения.\n",
    "\n",
    "Необходимо также учесть возможную потерю значительного объема данных из-за пропусков в этом столбце, что может повлиять на полноту объединенной выборки."
   ]
  },
  {
   "cell_type": "markdown",
   "metadata": {
    "id": "EHcODomVrJg1"
   },
   "source": [
    "\n",
    "### 2.2. Проблемный датасет и причина возникновения пропусков\n",
    "\n",
    "Во время собственного анализа данных у заказчика больше всего вопросов возникло к датасету `company_and_rounds.csv`. В нём много пропусков как раз в информации о раундах, которая заказчику важна. Хотя информация об общем объёме финансирования по раундам присутствует в других датасетах, заказчик считает данные `company_and_rounds.csv` о размере средств наиболее верными.\n",
    "\n",
    "* Любым удобным способом приведите данные в вид, который позволяет проводить анализ в разрезе отдельных компаний. Можно изменять форму данных, порядок их хранения. Обратите внимание на структуру датасета, порядок и названия столбцов, проанализируйте значения.\n",
    "\n",
    "По гипотезе заказчика данные по компаниям из этой таблицы раньше хранились иначе, более удобным для исследования образом.\n",
    "\n",
    "* Максимальным образом сохраняя данные, сохранив их связность и исключив возможные возникающие при этом ошибки, подготовьте данные так, чтобы удобно было отобрать компании по параметрам и рассчитать показатели из расчёта на одну компанию."
   ]
  },
  {
   "cell_type": "code",
   "execution_count": 40,
   "metadata": {
    "scrolled": true
   },
   "outputs": [
    {
     "data": {
      "text/html": [
       "<div>\n",
       "<style scoped>\n",
       "    .dataframe tbody tr th:only-of-type {\n",
       "        vertical-align: middle;\n",
       "    }\n",
       "\n",
       "    .dataframe tbody tr th {\n",
       "        vertical-align: top;\n",
       "    }\n",
       "\n",
       "    .dataframe thead th {\n",
       "        text-align: right;\n",
       "    }\n",
       "</style>\n",
       "<table border=\"1\" class=\"dataframe\">\n",
       "  <thead>\n",
       "    <tr style=\"text-align: right;\">\n",
       "      <th></th>\n",
       "      <th>company_id</th>\n",
       "      <th>name</th>\n",
       "      <th>category_code</th>\n",
       "      <th>status</th>\n",
       "      <th>founded_at</th>\n",
       "      <th>closed_at</th>\n",
       "      <th>domain</th>\n",
       "      <th>network_username</th>\n",
       "      <th>country_code</th>\n",
       "      <th>investment_rounds</th>\n",
       "      <th>...</th>\n",
       "      <th>milestones</th>\n",
       "      <th>funding_round_id</th>\n",
       "      <th>funded_at</th>\n",
       "      <th>funding_round_type</th>\n",
       "      <th>raised_amount</th>\n",
       "      <th>pre_money_valuation</th>\n",
       "      <th>participants</th>\n",
       "      <th>is_first_round</th>\n",
       "      <th>is_last_round</th>\n",
       "      <th>is_match</th>\n",
       "    </tr>\n",
       "  </thead>\n",
       "  <tbody>\n",
       "    <tr>\n",
       "      <th>0</th>\n",
       "      <td>1.0</td>\n",
       "      <td>Wetpaint</td>\n",
       "      <td>web</td>\n",
       "      <td>operating</td>\n",
       "      <td>2005-10-17</td>\n",
       "      <td>NaT</td>\n",
       "      <td>wetpaint-inc.com</td>\n",
       "      <td>BachelrWetpaint</td>\n",
       "      <td>USA</td>\n",
       "      <td>0.0</td>\n",
       "      <td>...</td>\n",
       "      <td>5.0</td>\n",
       "      <td>888.0</td>\n",
       "      <td>2005-10-01</td>\n",
       "      <td>series-a</td>\n",
       "      <td>5250000.0</td>\n",
       "      <td>0.0</td>\n",
       "      <td>2.0</td>\n",
       "      <td>0.0</td>\n",
       "      <td>1.0</td>\n",
       "      <td>True</td>\n",
       "    </tr>\n",
       "    <tr>\n",
       "      <th>1</th>\n",
       "      <td>1.0</td>\n",
       "      <td>Wetpaint</td>\n",
       "      <td>web</td>\n",
       "      <td>operating</td>\n",
       "      <td>2005-10-17</td>\n",
       "      <td>NaT</td>\n",
       "      <td>wetpaint-inc.com</td>\n",
       "      <td>BachelrWetpaint</td>\n",
       "      <td>USA</td>\n",
       "      <td>0.0</td>\n",
       "      <td>...</td>\n",
       "      <td>5.0</td>\n",
       "      <td>889.0</td>\n",
       "      <td>2007-01-01</td>\n",
       "      <td>series-b</td>\n",
       "      <td>9500000.0</td>\n",
       "      <td>0.0</td>\n",
       "      <td>3.0</td>\n",
       "      <td>0.0</td>\n",
       "      <td>0.0</td>\n",
       "      <td>True</td>\n",
       "    </tr>\n",
       "    <tr>\n",
       "      <th>2</th>\n",
       "      <td>1.0</td>\n",
       "      <td>Wetpaint</td>\n",
       "      <td>web</td>\n",
       "      <td>operating</td>\n",
       "      <td>2005-10-17</td>\n",
       "      <td>NaT</td>\n",
       "      <td>wetpaint-inc.com</td>\n",
       "      <td>BachelrWetpaint</td>\n",
       "      <td>USA</td>\n",
       "      <td>0.0</td>\n",
       "      <td>...</td>\n",
       "      <td>5.0</td>\n",
       "      <td>2312.0</td>\n",
       "      <td>2008-05-19</td>\n",
       "      <td>series-c+</td>\n",
       "      <td>25000000.0</td>\n",
       "      <td>0.0</td>\n",
       "      <td>4.0</td>\n",
       "      <td>1.0</td>\n",
       "      <td>0.0</td>\n",
       "      <td>True</td>\n",
       "    </tr>\n",
       "    <tr>\n",
       "      <th>3</th>\n",
       "      <td>10.0</td>\n",
       "      <td>Flektor</td>\n",
       "      <td>games_video</td>\n",
       "      <td>acquired</td>\n",
       "      <td>NaT</td>\n",
       "      <td>NaT</td>\n",
       "      <td>flektor.com</td>\n",
       "      <td>NaN</td>\n",
       "      <td>USA</td>\n",
       "      <td>0.0</td>\n",
       "      <td>...</td>\n",
       "      <td>0.0</td>\n",
       "      <td>NaN</td>\n",
       "      <td>NaT</td>\n",
       "      <td>NaN</td>\n",
       "      <td>NaN</td>\n",
       "      <td>NaN</td>\n",
       "      <td>NaN</td>\n",
       "      <td>NaN</td>\n",
       "      <td>NaN</td>\n",
       "      <td>NaN</td>\n",
       "    </tr>\n",
       "    <tr>\n",
       "      <th>4</th>\n",
       "      <td>100.0</td>\n",
       "      <td>There</td>\n",
       "      <td>games_video</td>\n",
       "      <td>acquired</td>\n",
       "      <td>NaT</td>\n",
       "      <td>NaT</td>\n",
       "      <td>there.com</td>\n",
       "      <td>NaN</td>\n",
       "      <td>USA</td>\n",
       "      <td>0.0</td>\n",
       "      <td>...</td>\n",
       "      <td>4.0</td>\n",
       "      <td>NaN</td>\n",
       "      <td>NaT</td>\n",
       "      <td>NaN</td>\n",
       "      <td>NaN</td>\n",
       "      <td>NaN</td>\n",
       "      <td>NaN</td>\n",
       "      <td>NaN</td>\n",
       "      <td>NaN</td>\n",
       "      <td>NaN</td>\n",
       "    </tr>\n",
       "  </tbody>\n",
       "</table>\n",
       "<p>5 rows × 22 columns</p>\n",
       "</div>"
      ],
      "text/plain": [
       "   company_id      name category_code     status founded_at closed_at  \\\n",
       "0         1.0  Wetpaint           web  operating 2005-10-17       NaT   \n",
       "1         1.0  Wetpaint           web  operating 2005-10-17       NaT   \n",
       "2         1.0  Wetpaint           web  operating 2005-10-17       NaT   \n",
       "3        10.0   Flektor   games_video   acquired        NaT       NaT   \n",
       "4       100.0     There   games_video   acquired        NaT       NaT   \n",
       "\n",
       "             domain network_username country_code  investment_rounds  ...  \\\n",
       "0  wetpaint-inc.com  BachelrWetpaint          USA                0.0  ...   \n",
       "1  wetpaint-inc.com  BachelrWetpaint          USA                0.0  ...   \n",
       "2  wetpaint-inc.com  BachelrWetpaint          USA                0.0  ...   \n",
       "3       flektor.com              NaN          USA                0.0  ...   \n",
       "4         there.com              NaN          USA                0.0  ...   \n",
       "\n",
       "   milestones  funding_round_id  funded_at  funding_round_type raised_amount  \\\n",
       "0         5.0             888.0 2005-10-01            series-a     5250000.0   \n",
       "1         5.0             889.0 2007-01-01            series-b     9500000.0   \n",
       "2         5.0            2312.0 2008-05-19           series-c+    25000000.0   \n",
       "3         0.0               NaN        NaT                 NaN           NaN   \n",
       "4         4.0               NaN        NaT                 NaN           NaN   \n",
       "\n",
       "  pre_money_valuation  participants  is_first_round  is_last_round  is_match  \n",
       "0                 0.0           2.0             0.0            1.0      True  \n",
       "1                 0.0           3.0             0.0            0.0      True  \n",
       "2                 0.0           4.0             1.0            0.0      True  \n",
       "3                 NaN           NaN             NaN            NaN       NaN  \n",
       "4                 NaN           NaN             NaN            NaN       NaN  \n",
       "\n",
       "[5 rows x 22 columns]"
      ]
     },
     "execution_count": 40,
     "metadata": {},
     "output_type": "execute_result"
    }
   ],
   "source": [
    "#Выведем первые пять строк датасета\n",
    "co_df.head()"
   ]
  },
  {
   "cell_type": "markdown",
   "metadata": {},
   "source": [
    "*Преобразуем числовые данные*"
   ]
  },
  {
   "cell_type": "code",
   "execution_count": 41,
   "metadata": {
    "id": "tJ6Sl6MKrJg1",
    "vscode": {
     "languageId": "plaintext"
    }
   },
   "outputs": [
    {
     "data": {
      "text/plain": [
       "'Датасет company and rounds:'"
      ]
     },
     "metadata": {},
     "output_type": "display_data"
    },
    {
     "data": {
      "text/plain": [
       "'Формат данных столбца company_id: Int64'"
      ]
     },
     "metadata": {},
     "output_type": "display_data"
    },
    {
     "data": {
      "text/plain": [
       "'Формат данных столбца investment_rounds: Int64'"
      ]
     },
     "metadata": {},
     "output_type": "display_data"
    },
    {
     "data": {
      "text/plain": [
       "'Формат данных столбца funding_rounds: Int64'"
      ]
     },
     "metadata": {},
     "output_type": "display_data"
    },
    {
     "data": {
      "text/plain": [
       "'Формат данных столбца funding_total: Int64'"
      ]
     },
     "metadata": {},
     "output_type": "display_data"
    },
    {
     "data": {
      "text/plain": [
       "'Формат данных столбца milestones: Int64'"
      ]
     },
     "metadata": {},
     "output_type": "display_data"
    },
    {
     "data": {
      "text/plain": [
       "'Формат данных столбца funding_round_id: Int64'"
      ]
     },
     "metadata": {},
     "output_type": "display_data"
    },
    {
     "data": {
      "text/plain": [
       "'Формат данных столбца raised_amount: Int64'"
      ]
     },
     "metadata": {},
     "output_type": "display_data"
    },
    {
     "data": {
      "text/plain": [
       "'Формат данных столбца pre_money_valuation: Int64'"
      ]
     },
     "metadata": {},
     "output_type": "display_data"
    },
    {
     "data": {
      "text/plain": [
       "'Формат данных столбца participants: Int64'"
      ]
     },
     "metadata": {},
     "output_type": "display_data"
    },
    {
     "data": {
      "text/plain": [
       "'Формат данных столбца is_first_round: Int64'"
      ]
     },
     "metadata": {},
     "output_type": "display_data"
    },
    {
     "data": {
      "text/plain": [
       "'Формат данных столбца is_last_round: Int64'"
      ]
     },
     "metadata": {},
     "output_type": "display_data"
    }
   ],
   "source": [
    "# Список столбцов для преобразования в тип Int64\n",
    "columns_to_convert = [\n",
    "    'company_id', 'investment_rounds', 'funding_rounds', 'funding_total', \n",
    "    'milestones', 'funding_round_id', 'raised_amount', 'pre_money_valuation', \n",
    "    'participants', 'is_first_round', 'is_last_round'\n",
    "]\n",
    "\n",
    "# Преобразуем столбцы в тип Int64 для датасетов\n",
    "for column in columns_to_convert:\n",
    "    if column in co_df.columns:\n",
    "        co_df[column] = co_df[column].astype('Int64')\n",
    "\n",
    "# Выводим новые форматы данных\n",
    "display(f'Датасет company and rounds:')\n",
    "for column in columns_to_convert:\n",
    "    if column in co_df.columns:\n",
    "        display(f\"Формат данных столбца {column}: {co_df[column].dtype}\")"
   ]
  },
  {
   "cell_type": "markdown",
   "metadata": {},
   "source": [
    "*Другие столбцы с пропусками, такие как network_username, domain или category_code, country_code можно заполнить заглушками \"unknown\"*"
   ]
  },
  {
   "cell_type": "code",
   "execution_count": 42,
   "metadata": {},
   "outputs": [],
   "source": [
    "co_df['network_username'] = co_df['network_username'].fillna('unknown')\n",
    "co_df['category_code'] = co_df['category_code'].fillna('unknown')\n",
    "co_df['domain'] = co_df['domain'].fillna('unknown')\n",
    "co_df['country_code'] = co_df['country_code'].fillna('unknown')"
   ]
  },
  {
   "cell_type": "markdown",
   "metadata": {},
   "source": [
    "Проверка данных перед агрегацией"
   ]
  },
  {
   "cell_type": "code",
   "execution_count": 44,
   "metadata": {},
   "outputs": [
    {
     "name": "stdout",
     "output_type": "stream",
     "text": [
      "<class 'pandas.core.frame.DataFrame'>\n",
      "RangeIndex: 217774 entries, 0 to 217773\n",
      "Data columns (total 22 columns):\n",
      " #   Column               Non-Null Count   Dtype         \n",
      "---  ------               --------------   -----         \n",
      " 0   company_id           217774 non-null  Int64         \n",
      " 1   name                 217472 non-null  object        \n",
      " 2   category_code        217774 non-null  object        \n",
      " 3   status               217472 non-null  object        \n",
      " 4   founded_at           109956 non-null  datetime64[ns]\n",
      " 5   closed_at            3449 non-null    datetime64[ns]\n",
      " 6   domain               217774 non-null  object        \n",
      " 7   network_username     217774 non-null  object        \n",
      " 8   country_code         217774 non-null  object        \n",
      " 9   investment_rounds    217472 non-null  Int64         \n",
      " 10  funding_rounds       217472 non-null  Int64         \n",
      " 11  funding_total        217472 non-null  Int64         \n",
      " 12  milestones           217472 non-null  Int64         \n",
      " 13  funding_round_id     52928 non-null   Int64         \n",
      " 14  funded_at            52680 non-null   datetime64[ns]\n",
      " 15  funding_round_type   52928 non-null   object        \n",
      " 16  raised_amount        52928 non-null   Int64         \n",
      " 17  pre_money_valuation  52928 non-null   Int64         \n",
      " 18  participants         52928 non-null   Int64         \n",
      " 19  is_first_round       52928 non-null   Int64         \n",
      " 20  is_last_round        52928 non-null   Int64         \n",
      " 21  is_match             52626 non-null   object        \n",
      "dtypes: Int64(11), datetime64[ns](3), object(8)\n",
      "memory usage: 38.8+ MB\n"
     ]
    }
   ],
   "source": [
    "co_df.info()"
   ]
  },
  {
   "cell_type": "markdown",
   "metadata": {},
   "source": [
    "Агрегация данных по компаниям и фильтрация "
   ]
  },
  {
   "cell_type": "code",
   "execution_count": 45,
   "metadata": {},
   "outputs": [],
   "source": [
    "aggregated_co_df = co_df.groupby('company_id').agg({\n",
    "    'name': 'first',\n",
    "    'category_code': 'first',\n",
    "    'country_code': 'first',\n",
    "    'status': 'first',\n",
    "    'founded_at': 'first',\n",
    "    'closed_at': 'first',\n",
    "    'investment_rounds': 'max',\n",
    "    'funding_rounds': 'max',\n",
    "    'funding_total':'max',  # Признак консистентности данных\n",
    "    'milestones':'max',\n",
    "    'raised_amount': 'sum',\n",
    "    'funded_at': ['min', 'max'],\n",
    "    'participants': 'sum'\n",
    "}).reset_index()"
   ]
  },
  {
   "cell_type": "code",
   "execution_count": 47,
   "metadata": {
    "scrolled": true
   },
   "outputs": [
    {
     "data": {
      "text/html": [
       "<div>\n",
       "<style scoped>\n",
       "    .dataframe tbody tr th:only-of-type {\n",
       "        vertical-align: middle;\n",
       "    }\n",
       "\n",
       "    .dataframe tbody tr th {\n",
       "        vertical-align: top;\n",
       "    }\n",
       "\n",
       "    .dataframe thead tr th {\n",
       "        text-align: left;\n",
       "    }\n",
       "</style>\n",
       "<table border=\"1\" class=\"dataframe\">\n",
       "  <thead>\n",
       "    <tr>\n",
       "      <th></th>\n",
       "      <th>company_id</th>\n",
       "      <th>name</th>\n",
       "      <th>category_code</th>\n",
       "      <th>country_code</th>\n",
       "      <th>status</th>\n",
       "      <th>founded_at</th>\n",
       "      <th>closed_at</th>\n",
       "      <th>investment_rounds</th>\n",
       "      <th>funding_rounds</th>\n",
       "      <th>funding_total</th>\n",
       "      <th>milestones</th>\n",
       "      <th>raised_amount</th>\n",
       "      <th colspan=\"2\" halign=\"left\">funded_at</th>\n",
       "      <th>participants</th>\n",
       "    </tr>\n",
       "    <tr>\n",
       "      <th></th>\n",
       "      <th></th>\n",
       "      <th>first</th>\n",
       "      <th>first</th>\n",
       "      <th>first</th>\n",
       "      <th>first</th>\n",
       "      <th>first</th>\n",
       "      <th>first</th>\n",
       "      <th>max</th>\n",
       "      <th>max</th>\n",
       "      <th>max</th>\n",
       "      <th>max</th>\n",
       "      <th>sum</th>\n",
       "      <th>min</th>\n",
       "      <th>max</th>\n",
       "      <th>sum</th>\n",
       "    </tr>\n",
       "  </thead>\n",
       "  <tbody>\n",
       "    <tr>\n",
       "      <th>0</th>\n",
       "      <td>1</td>\n",
       "      <td>Wetpaint</td>\n",
       "      <td>web</td>\n",
       "      <td>USA</td>\n",
       "      <td>operating</td>\n",
       "      <td>2005-10-17</td>\n",
       "      <td>NaT</td>\n",
       "      <td>0</td>\n",
       "      <td>3</td>\n",
       "      <td>39750000</td>\n",
       "      <td>5</td>\n",
       "      <td>39750000</td>\n",
       "      <td>2005-10-01</td>\n",
       "      <td>2008-05-19</td>\n",
       "      <td>9</td>\n",
       "    </tr>\n",
       "    <tr>\n",
       "      <th>1</th>\n",
       "      <td>2</td>\n",
       "      <td>AdventNet</td>\n",
       "      <td>enterprise</td>\n",
       "      <td>USA</td>\n",
       "      <td>operating</td>\n",
       "      <td>1996-01-01</td>\n",
       "      <td>NaT</td>\n",
       "      <td>0</td>\n",
       "      <td>0</td>\n",
       "      <td>0</td>\n",
       "      <td>0</td>\n",
       "      <td>0</td>\n",
       "      <td>NaT</td>\n",
       "      <td>NaT</td>\n",
       "      <td>0</td>\n",
       "    </tr>\n",
       "    <tr>\n",
       "      <th>2</th>\n",
       "      <td>3</td>\n",
       "      <td>Zoho</td>\n",
       "      <td>software</td>\n",
       "      <td>USA</td>\n",
       "      <td>operating</td>\n",
       "      <td>2005-09-15</td>\n",
       "      <td>NaT</td>\n",
       "      <td>0</td>\n",
       "      <td>0</td>\n",
       "      <td>0</td>\n",
       "      <td>5</td>\n",
       "      <td>0</td>\n",
       "      <td>NaT</td>\n",
       "      <td>NaT</td>\n",
       "      <td>0</td>\n",
       "    </tr>\n",
       "    <tr>\n",
       "      <th>3</th>\n",
       "      <td>4</td>\n",
       "      <td>Digg</td>\n",
       "      <td>news</td>\n",
       "      <td>USA</td>\n",
       "      <td>acquired</td>\n",
       "      <td>2004-10-11</td>\n",
       "      <td>NaT</td>\n",
       "      <td>0</td>\n",
       "      <td>4</td>\n",
       "      <td>45000000</td>\n",
       "      <td>8</td>\n",
       "      <td>45000000</td>\n",
       "      <td>2005-10-01</td>\n",
       "      <td>2011-07-12</td>\n",
       "      <td>14</td>\n",
       "    </tr>\n",
       "    <tr>\n",
       "      <th>4</th>\n",
       "      <td>5</td>\n",
       "      <td>Socialnet</td>\n",
       "      <td>social</td>\n",
       "      <td>USA</td>\n",
       "      <td>ipo</td>\n",
       "      <td>2004-02-01</td>\n",
       "      <td>NaT</td>\n",
       "      <td>3</td>\n",
       "      <td>11</td>\n",
       "      <td>2425700000</td>\n",
       "      <td>5</td>\n",
       "      <td>2425700000</td>\n",
       "      <td>2004-09-01</td>\n",
       "      <td>2011-01-21</td>\n",
       "      <td>20</td>\n",
       "    </tr>\n",
       "  </tbody>\n",
       "</table>\n",
       "</div>"
      ],
      "text/plain": [
       "  company_id       name category_code country_code     status founded_at  \\\n",
       "                  first         first        first      first      first   \n",
       "0          1   Wetpaint           web          USA  operating 2005-10-17   \n",
       "1          2  AdventNet    enterprise          USA  operating 1996-01-01   \n",
       "2          3       Zoho      software          USA  operating 2005-09-15   \n",
       "3          4       Digg          news          USA   acquired 2004-10-11   \n",
       "4          5  Socialnet        social          USA        ipo 2004-02-01   \n",
       "\n",
       "  closed_at investment_rounds funding_rounds funding_total milestones  \\\n",
       "      first               max            max           max        max   \n",
       "0       NaT                 0              3      39750000          5   \n",
       "1       NaT                 0              0             0          0   \n",
       "2       NaT                 0              0             0          5   \n",
       "3       NaT                 0              4      45000000          8   \n",
       "4       NaT                 3             11    2425700000          5   \n",
       "\n",
       "  raised_amount  funded_at            participants  \n",
       "            sum        min        max          sum  \n",
       "0      39750000 2005-10-01 2008-05-19            9  \n",
       "1             0        NaT        NaT            0  \n",
       "2             0        NaT        NaT            0  \n",
       "3      45000000 2005-10-01 2011-07-12           14  \n",
       "4    2425700000 2004-09-01 2011-01-21           20  "
      ]
     },
     "metadata": {},
     "output_type": "display_data"
    }
   ],
   "source": [
    "display(aggregated_co_df.head())"
   ]
  },
  {
   "cell_type": "code",
   "execution_count": 48,
   "metadata": {},
   "outputs": [],
   "source": [
    "# Преобразуем многоуровневый индекс столбцов в плоский\n",
    "aggregated_co_df.columns = ['_'.join(col).strip() if isinstance(col, tuple) else col for col in aggregated_co_df.columns]\n",
    "# Удаляем суффиксы '_sum', '_first', '_max' и т.д. из названий столбцов\n",
    "aggregated_co_df.columns = aggregated_co_df.columns.str.replace(r'_(sum|max|min|first)', '', regex=True)"
   ]
  },
  {
   "cell_type": "markdown",
   "metadata": {},
   "source": [
    "#### Промежуточные выводы:\n",
    "\n",
    "- Пропуски были обработаны и заполнены в зависимости от контекста столбца.\n",
    "- Структура данных была упрощена с помощью агрегирования по компаниям.\n",
    "- Финальный датасет позволяет эффективно анализировать данные по отдельным компаниям, включая их финансовые показатели и ключевые даты.\n",
    "\n",
    "Такой подход обеспечит чистоту и удобство для дальнейшего анализа или визуализации данных."
   ]
  },
  {
   "cell_type": "markdown",
   "metadata": {
    "id": "g2bHIIjcrJg1"
   },
   "source": [
    "\n",
    "### 2.3. Раунды финансирования по годам\n",
    "\n",
    "* Составьте сводную таблицу по годам, в которой на основании столбца `raised_amount` для каждого года указан:\n",
    "\n",
    "  * типичный размер средств, выделяемый в рамках одного раунда;\n",
    "  * общее количество раундов финансирования за этот год.\n",
    "\n",
    "* Оставьте в таблице информацию только для тех лет, для которых есть информация о более чем 50 раундах финансирования.\n",
    "\n",
    "* На основе получившейся таблицы постройте график, который будет отражать динамику типичного размера средств, которые стартапы получали в рамках одного раунда финансирования.\n",
    "\n",
    "На основе полученных данных ответьте на вопросы:\n",
    "\n",
    "* В каком году типичный размер собранных в рамках одного раунда средств был максимален?\n",
    "\n",
    "* Какая тенденция по количеству раундов и выделяемых в рамках каждого раунда средств наблюдалась в 2013 году?"
   ]
  },
  {
   "cell_type": "code",
   "execution_count": 49,
   "metadata": {},
   "outputs": [
    {
     "data": {
      "text/plain": [
       "count           52,928.00\n",
       "mean         7,946,092.26\n",
       "std         42,168,205.89\n",
       "min                  0.00\n",
       "25%            246,330.00\n",
       "50%          1,600,000.00\n",
       "75%          6,700,000.00\n",
       "max      3,835,050,000.00\n",
       "Name: raised_amount, dtype: object"
      ]
     },
     "metadata": {},
     "output_type": "display_data"
    }
   ],
   "source": [
    "# Получаем описание столбца 'raised_amount'\n",
    "description = co_df['raised_amount'].describe()\n",
    "\n",
    "# Форматируем вывод с округлением\n",
    "formatted_description = description.apply(lambda x: f'{x:,.2f}' if isinstance(x, (int, float)) else x)\n",
    "\n",
    "# Выводим красиво отформатированное описание\n",
    "display(formatted_description)\n"
   ]
  },
  {
   "cell_type": "markdown",
   "metadata": {},
   "source": [
    "Данные о суммах привлечённых средств сильно варьируются, что подтверждается как большим стандартным отклонением, так и крайне высокими значениями максимума. Основная часть компаний находится в диапазоне от нескольких сотен тысяч до нескольких миллионов, однако есть несколько исключений с крайне высокими суммами. Это может указывать на наличие крупных сделок или несколько очень успешных компаний, что сильно влияет на общее распределение данных. \n",
    "\n",
    "Основной диапазон данных для привлечённых средств составляет от 246,330 до 6,700,000, охватывая большинство компаний с относительно небольшими и средними суммами финансирования."
   ]
  },
  {
   "cell_type": "code",
   "execution_count": 50,
   "metadata": {
    "scrolled": true
   },
   "outputs": [
    {
     "data": {
      "text/html": [
       "<div>\n",
       "<style scoped>\n",
       "    .dataframe tbody tr th:only-of-type {\n",
       "        vertical-align: middle;\n",
       "    }\n",
       "\n",
       "    .dataframe tbody tr th {\n",
       "        vertical-align: top;\n",
       "    }\n",
       "\n",
       "    .dataframe thead th {\n",
       "        text-align: right;\n",
       "    }\n",
       "</style>\n",
       "<table border=\"1\" class=\"dataframe\">\n",
       "  <thead>\n",
       "    <tr style=\"text-align: right;\">\n",
       "      <th></th>\n",
       "      <th>company_id</th>\n",
       "      <th>raised_amount</th>\n",
       "      <th>funded_at</th>\n",
       "    </tr>\n",
       "  </thead>\n",
       "  <tbody>\n",
       "    <tr>\n",
       "      <th>2</th>\n",
       "      <td>1</td>\n",
       "      <td>25000000</td>\n",
       "      <td>2008-05-19</td>\n",
       "    </tr>\n",
       "    <tr>\n",
       "      <th>24</th>\n",
       "      <td>10015</td>\n",
       "      <td>43000000</td>\n",
       "      <td>2013-08-13</td>\n",
       "    </tr>\n",
       "    <tr>\n",
       "      <th>79</th>\n",
       "      <td>10054</td>\n",
       "      <td>26000000</td>\n",
       "      <td>2008-08-26</td>\n",
       "    </tr>\n",
       "    <tr>\n",
       "      <th>81</th>\n",
       "      <td>10054</td>\n",
       "      <td>17000000</td>\n",
       "      <td>2005-12-06</td>\n",
       "    </tr>\n",
       "    <tr>\n",
       "      <th>82</th>\n",
       "      <td>10054</td>\n",
       "      <td>22000000</td>\n",
       "      <td>2006-10-04</td>\n",
       "    </tr>\n",
       "    <tr>\n",
       "      <th>...</th>\n",
       "      <td>...</td>\n",
       "      <td>...</td>\n",
       "      <td>...</td>\n",
       "    </tr>\n",
       "    <tr>\n",
       "      <th>217730</th>\n",
       "      <td>44254</td>\n",
       "      <td>80000000</td>\n",
       "      <td>2013-06-19</td>\n",
       "    </tr>\n",
       "    <tr>\n",
       "      <th>217731</th>\n",
       "      <td>44254</td>\n",
       "      <td>23232300</td>\n",
       "      <td>2013-06-19</td>\n",
       "    </tr>\n",
       "    <tr>\n",
       "      <th>217737</th>\n",
       "      <td>216492</td>\n",
       "      <td>3822520000</td>\n",
       "      <td>2013-03-01</td>\n",
       "    </tr>\n",
       "    <tr>\n",
       "      <th>217753</th>\n",
       "      <td>68946</td>\n",
       "      <td>38097100</td>\n",
       "      <td>2012-04-01</td>\n",
       "    </tr>\n",
       "    <tr>\n",
       "      <th>217759</th>\n",
       "      <td>277672</td>\n",
       "      <td>20000000</td>\n",
       "      <td>2013-11-07</td>\n",
       "    </tr>\n",
       "  </tbody>\n",
       "</table>\n",
       "<p>5400 rows × 3 columns</p>\n",
       "</div>"
      ],
      "text/plain": [
       "        company_id  raised_amount  funded_at\n",
       "2                1       25000000 2008-05-19\n",
       "24           10015       43000000 2013-08-13\n",
       "79           10054       26000000 2008-08-26\n",
       "81           10054       17000000 2005-12-06\n",
       "82           10054       22000000 2006-10-04\n",
       "...            ...            ...        ...\n",
       "217730       44254       80000000 2013-06-19\n",
       "217731       44254       23232300 2013-06-19\n",
       "217737      216492     3822520000 2013-03-01\n",
       "217753       68946       38097100 2012-04-01\n",
       "217759      277672       20000000 2013-11-07\n",
       "\n",
       "[5400 rows x 3 columns]"
      ]
     },
     "metadata": {},
     "output_type": "display_data"
    }
   ],
   "source": [
    "# Проверим выбросы в столбце 'raised_amount' с помощью IQR\n",
    "Q1 = co_df['raised_amount'].quantile(0.25)\n",
    "Q3 = co_df['raised_amount'].quantile(0.75)\n",
    "IQR = Q3 - Q1\n",
    "\n",
    "# Определяем границы для выбросов\n",
    "lower_bound = Q1 - 1.5 * IQR\n",
    "upper_bound = Q3 + 1.5 * IQR\n",
    "\n",
    "# Отображаем выбросы, которые находятся за пределами расчетных границ\n",
    "outliers = co_df[(co_df['raised_amount'] < lower_bound) | (co_df['raised_amount'] > upper_bound)]\n",
    "\n",
    "# Выводим выбросы для анализа\n",
    "display(outliers[['company_id', 'raised_amount', 'funded_at']])  # Показываем ID компании и сумму для анализа выбросов"
   ]
  },
  {
   "cell_type": "markdown",
   "metadata": {},
   "source": [
    "*В связи с тем что присутствуют выбросы, для подсчета raised_amount будет использовать медианное значение*"
   ]
  },
  {
   "cell_type": "code",
   "execution_count": 51,
   "metadata": {
    "id": "ovyDibxNrJg1",
    "scrolled": true,
    "vscode": {
     "languageId": "plaintext"
    }
   },
   "outputs": [
    {
     "data": {
      "text/html": [
       "<div>\n",
       "<style scoped>\n",
       "    .dataframe tbody tr th:only-of-type {\n",
       "        vertical-align: middle;\n",
       "    }\n",
       "\n",
       "    .dataframe tbody tr th {\n",
       "        vertical-align: top;\n",
       "    }\n",
       "\n",
       "    .dataframe thead th {\n",
       "        text-align: right;\n",
       "    }\n",
       "</style>\n",
       "<table border=\"1\" class=\"dataframe\">\n",
       "  <thead>\n",
       "    <tr style=\"text-align: right;\">\n",
       "      <th></th>\n",
       "      <th>funding_year</th>\n",
       "      <th>typical_raised_amount</th>\n",
       "      <th>total_rounds</th>\n",
       "    </tr>\n",
       "  </thead>\n",
       "  <tbody>\n",
       "    <tr>\n",
       "      <th>15</th>\n",
       "      <td>1999.0</td>\n",
       "      <td>2000000.0</td>\n",
       "      <td>76</td>\n",
       "    </tr>\n",
       "    <tr>\n",
       "      <th>16</th>\n",
       "      <td>2000.0</td>\n",
       "      <td>4200000.0</td>\n",
       "      <td>125</td>\n",
       "    </tr>\n",
       "    <tr>\n",
       "      <th>17</th>\n",
       "      <td>2001.0</td>\n",
       "      <td>3000000.0</td>\n",
       "      <td>96</td>\n",
       "    </tr>\n",
       "    <tr>\n",
       "      <th>18</th>\n",
       "      <td>2002.0</td>\n",
       "      <td>4200000.0</td>\n",
       "      <td>116</td>\n",
       "    </tr>\n",
       "    <tr>\n",
       "      <th>19</th>\n",
       "      <td>2003.0</td>\n",
       "      <td>3000000.0</td>\n",
       "      <td>159</td>\n",
       "    </tr>\n",
       "    <tr>\n",
       "      <th>20</th>\n",
       "      <td>2004.0</td>\n",
       "      <td>5000000.0</td>\n",
       "      <td>291</td>\n",
       "    </tr>\n",
       "    <tr>\n",
       "      <th>21</th>\n",
       "      <td>2005.0</td>\n",
       "      <td>5500000.0</td>\n",
       "      <td>1633</td>\n",
       "    </tr>\n",
       "    <tr>\n",
       "      <th>22</th>\n",
       "      <td>2006.0</td>\n",
       "      <td>5000000.0</td>\n",
       "      <td>2436</td>\n",
       "    </tr>\n",
       "    <tr>\n",
       "      <th>23</th>\n",
       "      <td>2007.0</td>\n",
       "      <td>3973320.0</td>\n",
       "      <td>3279</td>\n",
       "    </tr>\n",
       "    <tr>\n",
       "      <th>24</th>\n",
       "      <td>2008.0</td>\n",
       "      <td>3110000.0</td>\n",
       "      <td>3774</td>\n",
       "    </tr>\n",
       "    <tr>\n",
       "      <th>25</th>\n",
       "      <td>2009.0</td>\n",
       "      <td>2000000.0</td>\n",
       "      <td>4151</td>\n",
       "    </tr>\n",
       "    <tr>\n",
       "      <th>26</th>\n",
       "      <td>2010.0</td>\n",
       "      <td>1602500.0</td>\n",
       "      <td>6221</td>\n",
       "    </tr>\n",
       "    <tr>\n",
       "      <th>27</th>\n",
       "      <td>2011.0</td>\n",
       "      <td>1200000.0</td>\n",
       "      <td>9204</td>\n",
       "    </tr>\n",
       "    <tr>\n",
       "      <th>28</th>\n",
       "      <td>2012.0</td>\n",
       "      <td>1000000.0</td>\n",
       "      <td>9970</td>\n",
       "    </tr>\n",
       "    <tr>\n",
       "      <th>29</th>\n",
       "      <td>2013.0</td>\n",
       "      <td>1200000.0</td>\n",
       "      <td>11072</td>\n",
       "    </tr>\n",
       "  </tbody>\n",
       "</table>\n",
       "</div>"
      ],
      "text/plain": [
       "    funding_year  typical_raised_amount  total_rounds\n",
       "15        1999.0              2000000.0            76\n",
       "16        2000.0              4200000.0           125\n",
       "17        2001.0              3000000.0            96\n",
       "18        2002.0              4200000.0           116\n",
       "19        2003.0              3000000.0           159\n",
       "20        2004.0              5000000.0           291\n",
       "21        2005.0              5500000.0          1633\n",
       "22        2006.0              5000000.0          2436\n",
       "23        2007.0              3973320.0          3279\n",
       "24        2008.0              3110000.0          3774\n",
       "25        2009.0              2000000.0          4151\n",
       "26        2010.0              1602500.0          6221\n",
       "27        2011.0              1200000.0          9204\n",
       "28        2012.0              1000000.0          9970\n",
       "29        2013.0              1200000.0         11072"
      ]
     },
     "metadata": {},
     "output_type": "display_data"
    }
   ],
   "source": [
    "# Извлекаем год из столбца 'funded_at'\n",
    "co_df['funding_year'] = co_df['funded_at'].dt.year\n",
    "\n",
    "# Создаем сводную таблицу\n",
    "co_pivot_table = co_df.groupby('funding_year').agg(\n",
    "    typical_raised_amount=('raised_amount', 'median'), # Медиана для типичного значения\n",
    "    total_rounds=('funding_round_id', 'nunique')      # Общее количество уникальных раундов\n",
    ").reset_index()\n",
    "\n",
    "# Фильтруем данные, где есть информация о более чем 50 раундах финансирования.\n",
    "filtered_co_pivot_table = co_pivot_table[co_pivot_table['total_rounds'] > 50].copy()\n",
    "\n",
    "# Преобразуем столбец 'typical_raised_amount' в тип float и округляем до 2 знаков после запятой\n",
    "filtered_co_pivot_table['typical_raised_amount'] = filtered_co_pivot_table['typical_raised_amount'].astype(float).round(2)\n",
    "\n",
    "# Выводим отфильтрованную и округленную сводную таблицу\n",
    "display(filtered_co_pivot_table)\n",
    "\n"
   ]
  },
  {
   "cell_type": "code",
   "execution_count": 52,
   "metadata": {
    "scrolled": true
   },
   "outputs": [
    {
     "data": {
      "image/png": "[encoded data removed]",
      "text/plain": [
       "<Figure size 720x432 with 1 Axes>"
      ]
     },
     "metadata": {
      "needs_background": "light"
     },
     "output_type": "display_data"
    }
   ],
   "source": [
    "\n",
    "# Устанавливаем размер графика\n",
    "plt.figure(figsize=(10, 6))\n",
    "plt.plot(filtered_co_pivot_table['funding_year'], \n",
    "         filtered_co_pivot_table['typical_raised_amount'], \n",
    "         marker='o', \n",
    "         color='b', \n",
    "         linestyle='-', \n",
    "         linewidth=2)\n",
    "\n",
    "# Добавляем наименование графика и осей\n",
    "plt.title('Динамика типичного размера средств в одном раунде финансирования', fontsize=14)\n",
    "plt.xlabel('Год', fontsize=12)\n",
    "plt.ylabel('Типичный размер средств (в миллионах)', fontsize=12)\n",
    "plt.grid(True)\n",
    "\n",
    "# Отображаем график\n",
    "plt.show()\n"
   ]
  },
  {
   "cell_type": "markdown",
   "metadata": {},
   "source": [
    "#### Промежуточные выводы:\n",
    "Максимальный типичный размер средств: Максимальный типичный размер собранных средств в рамках одного раунда был в 2005 году, когда он составил 5,500,000.00.\n",
    "\n",
    "Тенденция по количеству раундов и средств в 2013 году: В 2013 году было проведено 11,072 раунда финансирования, а типичный размер средств на один раунд составил 1,200,000.00. Это показывает, что в 2013 году количество раундов продолжало расти, но типичный размер финансирования в каждом раунде был несколько ниже по сравнению с предыдущими годами (например, в 2000 году был значительно выше)."
   ]
  },
  {
   "cell_type": "markdown",
   "metadata": {
    "id": "45if1en1rJg2"
   },
   "source": [
    "\n",
    "### 2.4. Люди и их образование\n",
    "\n",
    "Заказчик хочет понять, зависит ли полнота сведений о сотрудниках (например, об их образовании) от размера компаний.\n",
    "\n",
    "* Оцените, насколько информация об образовании сотрудников полна. Используя датасеты `people.csv` и `education.csv`, разделите все компании на несколько групп по количеству сотрудников и оцените среднюю долю сотрудников без информации об образовании в каждой из групп.\n",
    "\n",
    "* Оцените, возможно ли для выполнения задания присоединить к этим таблицам ещё и таблицу `degrees.csv`."
   ]
  },
  {
   "cell_type": "markdown",
   "metadata": {},
   "source": [
    "*Разделим все компании на несколько групп по количеству сотрудников*"
   ]
  },
  {
   "cell_type": "code",
   "execution_count": 53,
   "metadata": {},
   "outputs": [
    {
     "data": {
      "text/plain": [
       "1      18117\n",
       "2       2709\n",
       "3        921\n",
       "4        450\n",
       "5        237\n",
       "6        138\n",
       "7        100\n",
       "8         59\n",
       "9         46\n",
       "11        30\n",
       "10        25\n",
       "13        17\n",
       "12        16\n",
       "14         8\n",
       "17         5\n",
       "16         4\n",
       "23         3\n",
       "15         3\n",
       "20         3\n",
       "18         3\n",
       "19         3\n",
       "21         2\n",
       "22         2\n",
       "56         2\n",
       "25         2\n",
       "29         2\n",
       "35         1\n",
       "47         1\n",
       "31         1\n",
       "48         1\n",
       "61         1\n",
       "51         1\n",
       "138        1\n",
       "26         1\n",
       "244        1\n",
       "72         1\n",
       "36         1\n",
       "39         1\n",
       "32         1\n",
       "150        1\n",
       "63         1\n",
       "Name: id, dtype: int64"
      ]
     },
     "metadata": {},
     "output_type": "display_data"
    }
   ],
   "source": [
    "#Категоризация по количеству сотрудников в компании\n",
    "company_sizes = pe_df.groupby('company_id')['id'].nunique()\n",
    "# Считаем количество компаний в каждой категории\n",
    "category_counts = company_sizes.value_counts()\n",
    "# Выводим результат\n",
    "display(category_counts)"
   ]
  },
  {
   "cell_type": "markdown",
   "metadata": {},
   "source": [
    "Малые компании: 1–10 сотрудников\n",
    "Средние компании: 11–50 сотрудников\n",
    "Крупные компании: 51 и более сотрудников"
   ]
  },
  {
   "cell_type": "code",
   "execution_count": 54,
   "metadata": {
    "scrolled": true
   },
   "outputs": [
    {
     "data": {
      "text/plain": [
       "'Количество уникальных сотрудников: 226708'"
      ]
     },
     "metadata": {},
     "output_type": "display_data"
    },
    {
     "data": {
      "text/html": [
       "<div>\n",
       "<style scoped>\n",
       "    .dataframe tbody tr th:only-of-type {\n",
       "        vertical-align: middle;\n",
       "    }\n",
       "\n",
       "    .dataframe tbody tr th {\n",
       "        vertical-align: top;\n",
       "    }\n",
       "\n",
       "    .dataframe thead th {\n",
       "        text-align: right;\n",
       "    }\n",
       "</style>\n",
       "<table border=\"1\" class=\"dataframe\">\n",
       "  <thead>\n",
       "    <tr style=\"text-align: right;\">\n",
       "      <th></th>\n",
       "      <th>id</th>\n",
       "      <th>first_name</th>\n",
       "      <th>last_name</th>\n",
       "      <th>company_id</th>\n",
       "      <th>network_username</th>\n",
       "      <th>company_size_category</th>\n",
       "    </tr>\n",
       "  </thead>\n",
       "  <tbody>\n",
       "    <tr>\n",
       "      <th>0</th>\n",
       "      <td>10</td>\n",
       "      <td>Mark</td>\n",
       "      <td>Zuckerberg</td>\n",
       "      <td>5</td>\n",
       "      <td>NaN</td>\n",
       "      <td>Large</td>\n",
       "    </tr>\n",
       "    <tr>\n",
       "      <th>1</th>\n",
       "      <td>100</td>\n",
       "      <td>Peter</td>\n",
       "      <td>Lester</td>\n",
       "      <td>27</td>\n",
       "      <td>NaN</td>\n",
       "      <td>Medium</td>\n",
       "    </tr>\n",
       "    <tr>\n",
       "      <th>2</th>\n",
       "      <td>1000</td>\n",
       "      <td>Dr. Steven</td>\n",
       "      <td>E. Saunders</td>\n",
       "      <td>292</td>\n",
       "      <td>NaN</td>\n",
       "      <td>Small</td>\n",
       "    </tr>\n",
       "    <tr>\n",
       "      <th>3</th>\n",
       "      <td>10000</td>\n",
       "      <td>Neil</td>\n",
       "      <td>Capel</td>\n",
       "      <td>2526</td>\n",
       "      <td>NaN</td>\n",
       "      <td>Small</td>\n",
       "    </tr>\n",
       "    <tr>\n",
       "      <th>4</th>\n",
       "      <td>100000</td>\n",
       "      <td>Sue</td>\n",
       "      <td>Pilsch</td>\n",
       "      <td>&lt;NA&gt;</td>\n",
       "      <td>NaN</td>\n",
       "      <td>NaN</td>\n",
       "    </tr>\n",
       "    <tr>\n",
       "      <th>...</th>\n",
       "      <td>...</td>\n",
       "      <td>...</td>\n",
       "      <td>...</td>\n",
       "      <td>...</td>\n",
       "      <td>...</td>\n",
       "      <td>...</td>\n",
       "    </tr>\n",
       "    <tr>\n",
       "      <th>226704</th>\n",
       "      <td>99999</td>\n",
       "      <td>Ramon</td>\n",
       "      <td>Peypoch</td>\n",
       "      <td>&lt;NA&gt;</td>\n",
       "      <td>NaN</td>\n",
       "      <td>NaN</td>\n",
       "    </tr>\n",
       "    <tr>\n",
       "      <th>226705</th>\n",
       "      <td>174088</td>\n",
       "      <td>Dr. Ray</td>\n",
       "      <td>Woods</td>\n",
       "      <td>188200</td>\n",
       "      <td>network</td>\n",
       "      <td>Small</td>\n",
       "    </tr>\n",
       "    <tr>\n",
       "      <th>226706</th>\n",
       "      <td>118386</td>\n",
       "      <td>Ricardo</td>\n",
       "      <td>Durand</td>\n",
       "      <td>143419</td>\n",
       "      <td>itechsocialnet</td>\n",
       "      <td>Small</td>\n",
       "    </tr>\n",
       "    <tr>\n",
       "      <th>226707</th>\n",
       "      <td>175827</td>\n",
       "      <td>mahesh</td>\n",
       "      <td>kumar</td>\n",
       "      <td>&lt;NA&gt;</td>\n",
       "      <td>socialnethubs</td>\n",
       "      <td>NaN</td>\n",
       "    </tr>\n",
       "    <tr>\n",
       "      <th>226708</th>\n",
       "      <td>178190</td>\n",
       "      <td>Alex</td>\n",
       "      <td>Smith</td>\n",
       "      <td>&lt;NA&gt;</td>\n",
       "      <td>esocialnetlike</td>\n",
       "      <td>NaN</td>\n",
       "    </tr>\n",
       "  </tbody>\n",
       "</table>\n",
       "<p>226709 rows × 6 columns</p>\n",
       "</div>"
      ],
      "text/plain": [
       "            id  first_name    last_name  company_id network_username  \\\n",
       "0           10        Mark   Zuckerberg           5              NaN   \n",
       "1          100       Peter       Lester          27              NaN   \n",
       "2         1000  Dr. Steven  E. Saunders         292              NaN   \n",
       "3        10000        Neil        Capel        2526              NaN   \n",
       "4       100000         Sue       Pilsch        <NA>              NaN   \n",
       "...        ...         ...          ...         ...              ...   \n",
       "226704   99999       Ramon      Peypoch        <NA>              NaN   \n",
       "226705  174088     Dr. Ray        Woods      188200          network   \n",
       "226706  118386     Ricardo       Durand      143419   itechsocialnet   \n",
       "226707  175827      mahesh        kumar        <NA>    socialnethubs   \n",
       "226708  178190        Alex        Smith        <NA>   esocialnetlike   \n",
       "\n",
       "       company_size_category  \n",
       "0                      Large  \n",
       "1                     Medium  \n",
       "2                      Small  \n",
       "3                      Small  \n",
       "4                        NaN  \n",
       "...                      ...  \n",
       "226704                   NaN  \n",
       "226705                 Small  \n",
       "226706                 Small  \n",
       "226707                   NaN  \n",
       "226708                   NaN  \n",
       "\n",
       "[226709 rows x 6 columns]"
      ]
     },
     "metadata": {},
     "output_type": "display_data"
    }
   ],
   "source": [
    "#Посчитаем количество уникальных сотрудников\n",
    "unique_employees = pe_df['id'].nunique()\n",
    "display(f\"Количество уникальных сотрудников: {unique_employees}\")\n",
    "\n",
    "#Категоризация по количеству сотрудников в компании\n",
    "company_sizes = pe_df.groupby('company_id')['id'].nunique()\n",
    "\n",
    "#Категоризация компаний по размерам\n",
    "bins = [0, 10, 50, 1000]  # Примерные категории по количеству сотрудников\n",
    "labels = ['Small', 'Medium', 'Large']\n",
    "company_sizes_category = pd.cut(company_sizes, bins=bins, labels=labels, right=False)\n",
    "\n",
    "#Добавляем категорию компании в исходный DataFrame\n",
    "pe_df['company_size_category'] = pe_df['company_id'].map(company_sizes_category)\n",
    "\n",
    "# Выводим DataFrame с добавленным столбцом\n",
    "display(pe_df)"
   ]
  },
  {
   "cell_type": "code",
   "execution_count": 56,
   "metadata": {
    "id": "psPO7C4MrJg2",
    "vscode": {
     "languageId": "plaintext"
    }
   },
   "outputs": [
    {
     "data": {
      "text/html": [
       "<div>\n",
       "<style scoped>\n",
       "    .dataframe tbody tr th:only-of-type {\n",
       "        vertical-align: middle;\n",
       "    }\n",
       "\n",
       "    .dataframe tbody tr th {\n",
       "        vertical-align: top;\n",
       "    }\n",
       "\n",
       "    .dataframe thead th {\n",
       "        text-align: right;\n",
       "    }\n",
       "</style>\n",
       "<table border=\"1\" class=\"dataframe\">\n",
       "  <thead>\n",
       "    <tr style=\"text-align: right;\">\n",
       "      <th></th>\n",
       "      <th>id_x</th>\n",
       "      <th>person_id</th>\n",
       "      <th>instituition</th>\n",
       "      <th>graduated_at</th>\n",
       "      <th>id_y</th>\n",
       "      <th>first_name</th>\n",
       "      <th>last_name</th>\n",
       "      <th>company_id</th>\n",
       "      <th>network_username</th>\n",
       "      <th>company_size_category</th>\n",
       "      <th>id</th>\n",
       "      <th>object_id</th>\n",
       "      <th>degree_type</th>\n",
       "      <th>subject</th>\n",
       "    </tr>\n",
       "  </thead>\n",
       "  <tbody>\n",
       "    <tr>\n",
       "      <th>0</th>\n",
       "      <td>1.0</td>\n",
       "      <td>6117</td>\n",
       "      <td>NaN</td>\n",
       "      <td>NaT</td>\n",
       "      <td>6117.0</td>\n",
       "      <td>Maurice</td>\n",
       "      <td>Rompre</td>\n",
       "      <td>2430</td>\n",
       "      <td>NaN</td>\n",
       "      <td>Small</td>\n",
       "      <td>1.0</td>\n",
       "      <td>6117</td>\n",
       "      <td>MBA</td>\n",
       "      <td>NaN</td>\n",
       "    </tr>\n",
       "    <tr>\n",
       "      <th>1</th>\n",
       "      <td>2.0</td>\n",
       "      <td>6136</td>\n",
       "      <td>Washington University, St. Louis</td>\n",
       "      <td>1990-01-01</td>\n",
       "      <td>6136.0</td>\n",
       "      <td>John</td>\n",
       "      <td>Green</td>\n",
       "      <td>2454</td>\n",
       "      <td>NaN</td>\n",
       "      <td>Small</td>\n",
       "      <td>2.0</td>\n",
       "      <td>6136</td>\n",
       "      <td>BA</td>\n",
       "      <td>English, French</td>\n",
       "    </tr>\n",
       "    <tr>\n",
       "      <th>2</th>\n",
       "      <td>3.0</td>\n",
       "      <td>6136</td>\n",
       "      <td>Boston University</td>\n",
       "      <td>1992-01-01</td>\n",
       "      <td>6136.0</td>\n",
       "      <td>John</td>\n",
       "      <td>Green</td>\n",
       "      <td>2454</td>\n",
       "      <td>NaN</td>\n",
       "      <td>Small</td>\n",
       "      <td>3.0</td>\n",
       "      <td>6136</td>\n",
       "      <td>MS</td>\n",
       "      <td>Mass Communication</td>\n",
       "    </tr>\n",
       "    <tr>\n",
       "      <th>3</th>\n",
       "      <td>4.0</td>\n",
       "      <td>6005</td>\n",
       "      <td>University of Greenwich</td>\n",
       "      <td>2006-01-01</td>\n",
       "      <td>6005.0</td>\n",
       "      <td>Sridhar</td>\n",
       "      <td>Gundaiah</td>\n",
       "      <td>2360</td>\n",
       "      <td>NaN</td>\n",
       "      <td>Small</td>\n",
       "      <td>4.0</td>\n",
       "      <td>6005</td>\n",
       "      <td>MS</td>\n",
       "      <td>Internet Technology</td>\n",
       "    </tr>\n",
       "    <tr>\n",
       "      <th>4</th>\n",
       "      <td>5.0</td>\n",
       "      <td>5832</td>\n",
       "      <td>Rice University</td>\n",
       "      <td>NaT</td>\n",
       "      <td>5832.0</td>\n",
       "      <td>David</td>\n",
       "      <td>Peters</td>\n",
       "      <td>2033</td>\n",
       "      <td>NaN</td>\n",
       "      <td>Small</td>\n",
       "      <td>5.0</td>\n",
       "      <td>5832</td>\n",
       "      <td>BCS</td>\n",
       "      <td>Computer Science, Psychology</td>\n",
       "    </tr>\n",
       "  </tbody>\n",
       "</table>\n",
       "</div>"
      ],
      "text/plain": [
       "   id_x  person_id                      instituition graduated_at    id_y  \\\n",
       "0   1.0       6117                               NaN          NaT  6117.0   \n",
       "1   2.0       6136  Washington University, St. Louis   1990-01-01  6136.0   \n",
       "2   3.0       6136                 Boston University   1992-01-01  6136.0   \n",
       "3   4.0       6005           University of Greenwich   2006-01-01  6005.0   \n",
       "4   5.0       5832                   Rice University          NaT  5832.0   \n",
       "\n",
       "  first_name last_name  company_id network_username company_size_category  \\\n",
       "0    Maurice    Rompre        2430              NaN                 Small   \n",
       "1       John     Green        2454              NaN                 Small   \n",
       "2       John     Green        2454              NaN                 Small   \n",
       "3    Sridhar  Gundaiah        2360              NaN                 Small   \n",
       "4      David    Peters        2033              NaN                 Small   \n",
       "\n",
       "    id  object_id degree_type                       subject  \n",
       "0  1.0       6117         MBA                           NaN  \n",
       "1  2.0       6136          BA               English, French  \n",
       "2  3.0       6136          MS            Mass Communication  \n",
       "3  4.0       6005          MS           Internet Technology  \n",
       "4  5.0       5832         BCS  Computer Science, Psychology  "
      ]
     },
     "metadata": {},
     "output_type": "display_data"
    }
   ],
   "source": [
    "# Преобразование столбцов к типу Int64 (с поддержкой NaN)\n",
    "pe_df['company_id'] = pe_df['company_id'].astype('Int64')\n",
    "ed_df['person_id'] = ed_df['person_id'].astype('Int64')\n",
    "\n",
    "# Объединяем данные о сотрудниках и их образовании\n",
    "ped_merged_df = pd.merge(ed_df, pe_df, left_on='person_id', right_on='id', how='outer')\n",
    "ped_merged_df = pd.merge(\n",
    "    ped_merged_df, \n",
    "    de_df, \n",
    "    left_on=['id_x', 'person_id'],  # Колонки для объединения в ed_df\n",
    "    right_on=['id', 'object_id'],  # Колонки для объединения в de_df\n",
    "    how='left'\n",
    ")\n",
    "display(ped_merged_df.head())\n"
   ]
  },
  {
   "cell_type": "code",
   "execution_count": 57,
   "metadata": {},
   "outputs": [],
   "source": [
    "# Убираем задублированные столбцы\n",
    "ped_merged_df.drop(columns=['object_id', 'id_y', 'id_x'], inplace=True)"
   ]
  },
  {
   "cell_type": "code",
   "execution_count": 58,
   "metadata": {},
   "outputs": [],
   "source": [
    "# Фильтрация строк, где company_id и person_id не являются NaN\n",
    "filtered_pe_df = ped_merged_df[ped_merged_df['company_id'].notnull() & ped_merged_df['person_id'].notnull()].copy()\n"
   ]
  },
  {
   "cell_type": "code",
   "execution_count": 59,
   "metadata": {},
   "outputs": [],
   "source": [
    "# Добавляем категориальную колонку 'is_graduated', если instituition = NaN, то 0, иначе 1\n",
    "filtered_pe_df['is_graduated'] = filtered_pe_df['instituition'].apply(lambda x: 0 if pd.isna(x) else 1)"
   ]
  },
  {
   "cell_type": "code",
   "execution_count": 60,
   "metadata": {},
   "outputs": [
    {
     "data": {
      "text/plain": [
       "'Общее количество уникальных комбинаций (person_id, company_id): 18464'"
      ]
     },
     "metadata": {},
     "output_type": "display_data"
    }
   ],
   "source": [
    "# Убираем фильтр по is_graduated и сохраняем уникальные пары person_id и company_id\n",
    "unique_person_company = filtered_pe_df.drop_duplicates(subset=['person_id', 'company_id'])\n",
    "\n",
    "# Считаем количество таких уникальных комбинаций\n",
    "unique_count = unique_person_company.shape[0]\n",
    "\n",
    "# Выводим результат\n",
    "display(f\"Общее количество уникальных комбинаций (person_id, company_id): {unique_count}\")\n"
   ]
  },
  {
   "cell_type": "markdown",
   "metadata": {},
   "source": [
    "*Группируем по людям*"
   ]
  },
  {
   "cell_type": "code",
   "execution_count": 61,
   "metadata": {},
   "outputs": [],
   "source": [
    "person_id_grouped = filtered_pe_df.groupby(['person_id','company_size_category']).agg(\n",
    "    avg_graduated=('is_graduated', 'mean'),  # Средняя доля людей с образованием в компании\n",
    "    person_count=('person_id', 'nunique')  # Количество сотрудников в компании\n",
    ").reset_index()"
   ]
  },
  {
   "cell_type": "markdown",
   "metadata": {},
   "source": [
    "*Группируем по компаниям*"
   ]
  },
  {
   "cell_type": "code",
   "execution_count": 62,
   "metadata": {},
   "outputs": [],
   "source": [
    "# Теперь агрегируем по company_id, используя person_count и avg_graduated\n",
    "company_grouped = person_id_grouped.groupby('company_size_category').agg(\n",
    "    avg_graduated=('avg_graduated', 'sum'),  # Средняя доля людей с образованием по компании\n",
    "    unique_person_count=('person_count', 'sum')  # Количество уникальных сотрудников в каждой компании\n",
    ").reset_index()\n"
   ]
  },
  {
   "cell_type": "code",
   "execution_count": 63,
   "metadata": {},
   "outputs": [
    {
     "data": {
      "text/plain": [
       "'Сумма person_count в company_grouped: 18464'"
      ]
     },
     "metadata": {},
     "output_type": "display_data"
    }
   ],
   "source": [
    "#Проверяем данные чтобы никого не потеряли\n",
    "grouped_persons = company_grouped['unique_person_count'].sum()\n",
    "display(f\"Сумма person_count в company_grouped: {grouped_persons}\")"
   ]
  },
  {
   "cell_type": "markdown",
   "metadata": {},
   "source": [
    "*Группируем по размеру*"
   ]
  },
  {
   "cell_type": "code",
   "execution_count": 64,
   "metadata": {
    "scrolled": false
   },
   "outputs": [
    {
     "data": {
      "text/html": [
       "<div>\n",
       "<style scoped>\n",
       "    .dataframe tbody tr th:only-of-type {\n",
       "        vertical-align: middle;\n",
       "    }\n",
       "\n",
       "    .dataframe tbody tr th {\n",
       "        vertical-align: top;\n",
       "    }\n",
       "\n",
       "    .dataframe thead th {\n",
       "        text-align: right;\n",
       "    }\n",
       "</style>\n",
       "<table border=\"1\" class=\"dataframe\">\n",
       "  <thead>\n",
       "    <tr style=\"text-align: right;\">\n",
       "      <th></th>\n",
       "      <th>company_size_category</th>\n",
       "      <th>avg_graduated</th>\n",
       "      <th>total_person_count</th>\n",
       "      <th>graduated_share</th>\n",
       "    </tr>\n",
       "  </thead>\n",
       "  <tbody>\n",
       "    <tr>\n",
       "      <th>0</th>\n",
       "      <td>Small</td>\n",
       "      <td>16656.766667</td>\n",
       "      <td>16677</td>\n",
       "      <td>0.998787</td>\n",
       "    </tr>\n",
       "    <tr>\n",
       "      <th>1</th>\n",
       "      <td>Medium</td>\n",
       "      <td>1149.000000</td>\n",
       "      <td>1151</td>\n",
       "      <td>0.998262</td>\n",
       "    </tr>\n",
       "    <tr>\n",
       "      <th>2</th>\n",
       "      <td>Large</td>\n",
       "      <td>636.000000</td>\n",
       "      <td>636</td>\n",
       "      <td>1.000000</td>\n",
       "    </tr>\n",
       "  </tbody>\n",
       "</table>\n",
       "</div>"
      ],
      "text/plain": [
       "  company_size_category  avg_graduated  total_person_count  graduated_share\n",
       "0                 Small   16656.766667               16677         0.998787\n",
       "1                Medium    1149.000000                1151         0.998262\n",
       "2                 Large     636.000000                 636         1.000000"
      ]
     },
     "metadata": {},
     "output_type": "display_data"
    }
   ],
   "source": [
    "company_size_grouped = company_grouped.groupby('company_size_category').agg(\n",
    "    avg_graduated=('avg_graduated', 'mean'),  # Средняя доля людей с образованием в категории размера компании\n",
    "    total_person_count=('unique_person_count', 'sum')  # Общее количество сотрудников в категории размера компании\n",
    ").reset_index()\n",
    "# Дополнительный расчет доли сотрудников с образованием в каждой категории размера компании\n",
    "company_size_grouped['graduated_share'] = company_size_grouped['avg_graduated'] / company_size_grouped['total_person_count']\n",
    "\n",
    "display(company_size_grouped)"
   ]
  },
  {
   "cell_type": "markdown",
   "metadata": {},
   "source": [
    "#### Промежуточные выводы:\n",
    "Во всех категориях доля сотрудников закончивших образования в диапазоне 99-100%"
   ]
  },
  {
   "cell_type": "markdown",
   "metadata": {},
   "source": [
    "### Общий промежуточный вывод\n",
    "- Пропуски были обработаны в зависимости от контекста столбцов, и структура данных была упрощена через агрегирование по компаниям, что позволяет эффективно анализировать ключевые показатели и даты для каждой компании. \n",
    "- Максимальный типичный размер средств: Максимальный типичный размер собранных средств в рамках одного раунда был в 2005 году, когда он составил 5,500,000.00.\n",
    "- Тенденция по количеству раундов и средств в 2013 году: В 2013 году было проведено 11,072 раунда финансирования, а типичный размер средств на один раунд составил 1,200,000.00. Это показывает, что в 2013 году количество раундов продолжало расти, но типичный размер финансирования в каждом раунде был несколько ниже по сравнению с предыдущими годами (например, в 2000 году был значительно выше).\n",
    "- Доля сотрудников, завершивших образование, составляет 99-100% во всех категориях, что указывает на высокий уровень образования среди работников."
   ]
  },
  {
   "cell_type": "markdown",
   "metadata": {
    "id": "bmVYhphNrJg2"
   },
   "source": [
    "\n",
    "## Шаг 3. Исследовательский анализ объединённых таблиц\n",
    "\n",
    "<big>Приступите к шагу 3 после проверки ревьюера.</big>"
   ]
  },
  {
   "cell_type": "markdown",
   "metadata": {
    "id": "3Di6tCT3rJg2"
   },
   "source": [
    "### 3.1. Объединение данных\n",
    "\n",
    "Объедините данные для ответа на вопросы заказчика, которые касаются интересующих его компаний.\n",
    "\n",
    "В качестве основы для объединённой таблицы возьмите данные из обработанного датасета `company_and_rounds.csv` — выберите только те компании, у которых указаны значения `funding_rounds` или `investment_rounds` больше нуля, и те, у которых в колонке `status` указано `acquired`.\n",
    "\n",
    "Далее работайте только с этими данными."
   ]
  },
  {
   "cell_type": "code",
   "execution_count": 65,
   "metadata": {
    "id": "mGYqoHS7rJg2",
    "scrolled": true,
    "vscode": {
     "languageId": "plaintext"
    }
   },
   "outputs": [
    {
     "data": {
      "text/html": [
       "<div>\n",
       "<style scoped>\n",
       "    .dataframe tbody tr th:only-of-type {\n",
       "        vertical-align: middle;\n",
       "    }\n",
       "\n",
       "    .dataframe tbody tr th {\n",
       "        vertical-align: top;\n",
       "    }\n",
       "\n",
       "    .dataframe thead th {\n",
       "        text-align: right;\n",
       "    }\n",
       "</style>\n",
       "<table border=\"1\" class=\"dataframe\">\n",
       "  <thead>\n",
       "    <tr style=\"text-align: right;\">\n",
       "      <th></th>\n",
       "      <th>company_id_</th>\n",
       "      <th>name</th>\n",
       "      <th>category_code</th>\n",
       "      <th>country_code</th>\n",
       "      <th>status</th>\n",
       "      <th>founded_at</th>\n",
       "      <th>closed_at</th>\n",
       "      <th>investment_rounds</th>\n",
       "      <th>funding_rounds</th>\n",
       "      <th>funding_total</th>\n",
       "      <th>milestones</th>\n",
       "      <th>raised_amount</th>\n",
       "      <th>funded_at</th>\n",
       "      <th>funded_at</th>\n",
       "      <th>participants</th>\n",
       "    </tr>\n",
       "  </thead>\n",
       "  <tbody>\n",
       "    <tr>\n",
       "      <th>0</th>\n",
       "      <td>1</td>\n",
       "      <td>Wetpaint</td>\n",
       "      <td>web</td>\n",
       "      <td>USA</td>\n",
       "      <td>operating</td>\n",
       "      <td>2005-10-17</td>\n",
       "      <td>NaT</td>\n",
       "      <td>0</td>\n",
       "      <td>3</td>\n",
       "      <td>39750000</td>\n",
       "      <td>5</td>\n",
       "      <td>39750000</td>\n",
       "      <td>2005-10-01</td>\n",
       "      <td>2008-05-19</td>\n",
       "      <td>9</td>\n",
       "    </tr>\n",
       "    <tr>\n",
       "      <th>3</th>\n",
       "      <td>4</td>\n",
       "      <td>Digg</td>\n",
       "      <td>news</td>\n",
       "      <td>USA</td>\n",
       "      <td>acquired</td>\n",
       "      <td>2004-10-11</td>\n",
       "      <td>NaT</td>\n",
       "      <td>0</td>\n",
       "      <td>4</td>\n",
       "      <td>45000000</td>\n",
       "      <td>8</td>\n",
       "      <td>45000000</td>\n",
       "      <td>2005-10-01</td>\n",
       "      <td>2011-07-12</td>\n",
       "      <td>14</td>\n",
       "    </tr>\n",
       "    <tr>\n",
       "      <th>4</th>\n",
       "      <td>5</td>\n",
       "      <td>Socialnet</td>\n",
       "      <td>social</td>\n",
       "      <td>USA</td>\n",
       "      <td>ipo</td>\n",
       "      <td>2004-02-01</td>\n",
       "      <td>NaT</td>\n",
       "      <td>3</td>\n",
       "      <td>11</td>\n",
       "      <td>2425700000</td>\n",
       "      <td>5</td>\n",
       "      <td>2425700000</td>\n",
       "      <td>2004-09-01</td>\n",
       "      <td>2011-01-21</td>\n",
       "      <td>20</td>\n",
       "    </tr>\n",
       "    <tr>\n",
       "      <th>5</th>\n",
       "      <td>7</td>\n",
       "      <td>Omnidrive</td>\n",
       "      <td>network_hosting</td>\n",
       "      <td>ISR</td>\n",
       "      <td>closed</td>\n",
       "      <td>2005-11-01</td>\n",
       "      <td>2008-09-15</td>\n",
       "      <td>0</td>\n",
       "      <td>1</td>\n",
       "      <td>800000</td>\n",
       "      <td>4</td>\n",
       "      <td>800000</td>\n",
       "      <td>2006-12-01</td>\n",
       "      <td>2006-12-01</td>\n",
       "      <td>4</td>\n",
       "    </tr>\n",
       "    <tr>\n",
       "      <th>6</th>\n",
       "      <td>8</td>\n",
       "      <td>Postini</td>\n",
       "      <td>web</td>\n",
       "      <td>USA</td>\n",
       "      <td>acquired</td>\n",
       "      <td>1999-06-02</td>\n",
       "      <td>NaT</td>\n",
       "      <td>0</td>\n",
       "      <td>0</td>\n",
       "      <td>0</td>\n",
       "      <td>0</td>\n",
       "      <td>0</td>\n",
       "      <td>NaT</td>\n",
       "      <td>NaT</td>\n",
       "      <td>0</td>\n",
       "    </tr>\n",
       "  </tbody>\n",
       "</table>\n",
       "</div>"
      ],
      "text/plain": [
       "   company_id_       name    category_code country_code     status founded_at  \\\n",
       "0            1   Wetpaint              web          USA  operating 2005-10-17   \n",
       "3            4       Digg             news          USA   acquired 2004-10-11   \n",
       "4            5  Socialnet           social          USA        ipo 2004-02-01   \n",
       "5            7  Omnidrive  network_hosting          ISR     closed 2005-11-01   \n",
       "6            8    Postini              web          USA   acquired 1999-06-02   \n",
       "\n",
       "   closed_at  investment_rounds  funding_rounds  funding_total  milestones  \\\n",
       "0        NaT                  0               3       39750000           5   \n",
       "3        NaT                  0               4       45000000           8   \n",
       "4        NaT                  3              11     2425700000           5   \n",
       "5 2008-09-15                  0               1         800000           4   \n",
       "6        NaT                  0               0              0           0   \n",
       "\n",
       "   raised_amount  funded_at  funded_at  participants  \n",
       "0       39750000 2005-10-01 2008-05-19             9  \n",
       "3       45000000 2005-10-01 2011-07-12            14  \n",
       "4     2425700000 2004-09-01 2011-01-21            20  \n",
       "5         800000 2006-12-01 2006-12-01             4  \n",
       "6              0        NaT        NaT             0  "
      ]
     },
     "metadata": {},
     "output_type": "display_data"
    },
    {
     "name": "stdout",
     "output_type": "stream",
     "text": [
      "<class 'pandas.core.frame.DataFrame'>\n",
      "Int64Index: 40747 entries, 0 to 196784\n",
      "Data columns (total 15 columns):\n",
      " #   Column             Non-Null Count  Dtype         \n",
      "---  ------             --------------  -----         \n",
      " 0   company_id_        40747 non-null  int64         \n",
      " 1   name               40747 non-null  object        \n",
      " 2   category_code      40747 non-null  object        \n",
      " 3   country_code       40747 non-null  object        \n",
      " 4   status             40747 non-null  object        \n",
      " 5   founded_at         27807 non-null  datetime64[ns]\n",
      " 6   closed_at          2128 non-null   datetime64[ns]\n",
      " 7   investment_rounds  40747 non-null  Int64         \n",
      " 8   funding_rounds     40747 non-null  Int64         \n",
      " 9   funding_total      40747 non-null  Int64         \n",
      " 10  milestones         40747 non-null  Int64         \n",
      " 11  raised_amount      40747 non-null  Int64         \n",
      " 12  funded_at          31507 non-null  datetime64[ns]\n",
      " 13  funded_at          31507 non-null  datetime64[ns]\n",
      " 14  participants       40747 non-null  Int64         \n",
      "dtypes: Int64(6), datetime64[ns](4), int64(1), object(4)\n",
      "memory usage: 5.2+ MB\n"
     ]
    },
    {
     "data": {
      "text/plain": [
       "None"
      ]
     },
     "metadata": {},
     "output_type": "display_data"
    },
    {
     "data": {
      "text/plain": [
       "40747"
      ]
     },
     "metadata": {},
     "output_type": "display_data"
    }
   ],
   "source": [
    "# Фильтруем датафрейм\n",
    "filtered_df = aggregated_co_df[\n",
    "    (aggregated_co_df['funding_rounds']> 0) | \n",
    "    ((aggregated_co_df['investment_rounds'] > 0) | \n",
    "    (aggregated_co_df['status'] == 'acquired'))\n",
    "]\n",
    "\n",
    "# Выводим первые 5 строк отфильтрованного DataFrame\n",
    "display(filtered_df.head())\n",
    "display(filtered_df.info())\n",
    "display(filtered_df.shape[0])"
   ]
  },
  {
   "cell_type": "markdown",
   "metadata": {},
   "source": [
    "Объединяем два датасета ля ответа на вопросы заказчика"
   ]
  },
  {
   "cell_type": "code",
   "execution_count": 66,
   "metadata": {},
   "outputs": [
    {
     "name": "stdout",
     "output_type": "stream",
     "text": [
      "<class 'pandas.core.frame.DataFrame'>\n",
      "Int64Index: 40747 entries, 0 to 40746\n",
      "Data columns (total 21 columns):\n",
      " #   Column                Non-Null Count  Dtype         \n",
      "---  ------                --------------  -----         \n",
      " 0   company_id_           40747 non-null  int64         \n",
      " 1   name                  40747 non-null  object        \n",
      " 2   category_code         40747 non-null  object        \n",
      " 3   country_code          40747 non-null  object        \n",
      " 4   status                40747 non-null  object        \n",
      " 5   founded_at            27807 non-null  datetime64[ns]\n",
      " 6   closed_at             2128 non-null   datetime64[ns]\n",
      " 7   investment_rounds     40747 non-null  Int64         \n",
      " 8   funding_rounds        40747 non-null  Int64         \n",
      " 9   funding_total         40747 non-null  Int64         \n",
      " 10  milestones            40747 non-null  Int64         \n",
      " 11  raised_amount         40747 non-null  Int64         \n",
      " 12  funded_at             31507 non-null  datetime64[ns]\n",
      " 13  funded_at             31507 non-null  datetime64[ns]\n",
      " 14  participants          40747 non-null  Int64         \n",
      " 15  id                    3098 non-null   float64       \n",
      " 16  acquiring_company_id  3098 non-null   float64       \n",
      " 17  acquired_company_id   3098 non-null   float64       \n",
      " 18  term_code             719 non-null    object        \n",
      " 19  price_amount          3098 non-null   float64       \n",
      " 20  acquired_at           3084 non-null   datetime64[ns]\n",
      "dtypes: Int64(6), datetime64[ns](5), float64(4), int64(1), object(5)\n",
      "memory usage: 7.1+ MB\n"
     ]
    },
    {
     "data": {
      "text/plain": [
       "None"
      ]
     },
     "metadata": {},
     "output_type": "display_data"
    },
    {
     "data": {
      "text/plain": [
       "40747"
      ]
     },
     "metadata": {},
     "output_type": "display_data"
    }
   ],
   "source": [
    "ac_merged_df = pd.merge(filtered_df, ac_df, left_on='company_id_', right_on='id', how='left')\n",
    "display(ac_merged_df.info())\n",
    "display(ac_merged_df.shape[0])"
   ]
  },
  {
   "cell_type": "markdown",
   "metadata": {},
   "source": [
    "#### Промежуточные выводы:\n",
    "После объединения датасетов, количество строк не изменилось, количество колонок увеличилось на 6, верно."
   ]
  },
  {
   "cell_type": "markdown",
   "metadata": {
    "id": "DFHINkV3rJg2"
   },
   "source": [
    "\n",
    "### 3.2. Анализ выбросов\n",
    "\n",
    "Заказчика интересует обычный для рассматриваемого периода размер средств, который предоставлялся компаниям.\n",
    "\n",
    "* По предобработанному столбцу `funding_total` оцените, какой размер общего финансирования для одной компании будет типичным, а какой — выбивающимся.\n",
    "\n",
    "* Аномальные значения установите графически, а типичные при помощи таблиц и формул.\n",
    "\n",
    "* В процессе расчёта значений обратите внимание, например, на показатели, возвращаемые методом `.describe()`, — объясните их. Применимы ли к таким данным обычные способы нахождения типичных значений?"
   ]
  },
  {
   "cell_type": "code",
   "execution_count": 67,
   "metadata": {
    "id": "8jm75fKXrJg2",
    "vscode": {
     "languageId": "plaintext"
    }
   },
   "outputs": [
    {
     "data": {
      "text/plain": [
       "count           40,747\n",
       "mean        10,135,610\n",
       "std         56,464,360\n",
       "min                  0\n",
       "25%                  0\n",
       "50%            600,000\n",
       "75%          5,650,650\n",
       "max      5,700,000,000\n",
       "Name: funding_total, dtype: object"
      ]
     },
     "metadata": {},
     "output_type": "display_data"
    }
   ],
   "source": [
    "# Создаем копию DataFrame, чтобы избежать предупреждения\n",
    "filtered_df = filtered_df.copy()\n",
    "\n",
    "# Используем .loc для изменения значений\n",
    "filtered_df.loc[:, 'funding_total'] = filtered_df['funding_total'].astype(int)\n",
    "\n",
    "# Получаем статистику для столбца 'funding_total'\n",
    "description = filtered_df['funding_total'].describe()\n",
    "\n",
    "# Применяем форматирование для более читаемого вывода\n",
    "formatted_description = description.apply(lambda x: f'{x:,.0f}')  # Формат с разделителем тысяч\n",
    "\n",
    "# Отображаем результат\n",
    "display(formatted_description)\n"
   ]
  },
  {
   "cell_type": "markdown",
   "metadata": {},
   "source": [
    "Выводы:\n",
    "Сильная асимметрия: Среднее значение значительно больше медианы (10.14 млн против 0.6 млн), что указывает на асимметрию распределения, вызванную большими значениями (выбросами).\n",
    "Много компаний с нулевым финансированием: Как минимум четверть записей имеют funding_total = 0.\n",
    "Выбросы: Очень высокое максимальное значение (5.7 млрд) существенно превышает 75-й перцентиль (5.65 млн)."
   ]
  },
  {
   "cell_type": "code",
   "execution_count": 68,
   "metadata": {},
   "outputs": [
    {
     "data": {
      "image/png": "[encoded data removed]",
      "text/plain": [
       "<Figure size 720x432 with 1 Axes>"
      ]
     },
     "metadata": {
      "needs_background": "light"
     },
     "output_type": "display_data"
    },
    {
     "data": {
      "text/plain": [
       "'Нижняя граница выбросов: 0'"
      ]
     },
     "metadata": {},
     "output_type": "display_data"
    },
    {
     "data": {
      "text/plain": [
       "'Верхняя граница выбросов: 14126625.0'"
      ]
     },
     "metadata": {},
     "output_type": "display_data"
    },
    {
     "data": {
      "text/html": [
       "<div>\n",
       "<style scoped>\n",
       "    .dataframe tbody tr th:only-of-type {\n",
       "        vertical-align: middle;\n",
       "    }\n",
       "\n",
       "    .dataframe tbody tr th {\n",
       "        vertical-align: top;\n",
       "    }\n",
       "\n",
       "    .dataframe thead th {\n",
       "        text-align: right;\n",
       "    }\n",
       "</style>\n",
       "<table border=\"1\" class=\"dataframe\">\n",
       "  <thead>\n",
       "    <tr style=\"text-align: right;\">\n",
       "      <th></th>\n",
       "      <th>company_id_</th>\n",
       "      <th>name</th>\n",
       "      <th>category_code</th>\n",
       "      <th>country_code</th>\n",
       "      <th>status</th>\n",
       "      <th>founded_at</th>\n",
       "      <th>closed_at</th>\n",
       "      <th>investment_rounds</th>\n",
       "      <th>funding_rounds</th>\n",
       "      <th>funding_total</th>\n",
       "      <th>milestones</th>\n",
       "      <th>raised_amount</th>\n",
       "      <th>funded_at</th>\n",
       "      <th>funded_at</th>\n",
       "      <th>participants</th>\n",
       "    </tr>\n",
       "  </thead>\n",
       "  <tbody>\n",
       "    <tr>\n",
       "      <th>5</th>\n",
       "      <td>7</td>\n",
       "      <td>Omnidrive</td>\n",
       "      <td>network_hosting</td>\n",
       "      <td>ISR</td>\n",
       "      <td>closed</td>\n",
       "      <td>2005-11-01</td>\n",
       "      <td>2008-09-15</td>\n",
       "      <td>0</td>\n",
       "      <td>1</td>\n",
       "      <td>800000</td>\n",
       "      <td>4</td>\n",
       "      <td>800000</td>\n",
       "      <td>2006-12-01</td>\n",
       "      <td>2006-12-01</td>\n",
       "      <td>4</td>\n",
       "    </tr>\n",
       "    <tr>\n",
       "      <th>6</th>\n",
       "      <td>8</td>\n",
       "      <td>Postini</td>\n",
       "      <td>web</td>\n",
       "      <td>USA</td>\n",
       "      <td>acquired</td>\n",
       "      <td>1999-06-02</td>\n",
       "      <td>NaT</td>\n",
       "      <td>0</td>\n",
       "      <td>0</td>\n",
       "      <td>0</td>\n",
       "      <td>0</td>\n",
       "      <td>0</td>\n",
       "      <td>NaT</td>\n",
       "      <td>NaT</td>\n",
       "      <td>0</td>\n",
       "    </tr>\n",
       "    <tr>\n",
       "      <th>8</th>\n",
       "      <td>10</td>\n",
       "      <td>Flektor</td>\n",
       "      <td>games_video</td>\n",
       "      <td>USA</td>\n",
       "      <td>acquired</td>\n",
       "      <td>NaT</td>\n",
       "      <td>NaT</td>\n",
       "      <td>0</td>\n",
       "      <td>0</td>\n",
       "      <td>0</td>\n",
       "      <td>0</td>\n",
       "      <td>0</td>\n",
       "      <td>NaT</td>\n",
       "      <td>NaT</td>\n",
       "      <td>0</td>\n",
       "    </tr>\n",
       "    <tr>\n",
       "      <th>9</th>\n",
       "      <td>11</td>\n",
       "      <td>Fox Interactive Media</td>\n",
       "      <td>web</td>\n",
       "      <td>USA</td>\n",
       "      <td>operating</td>\n",
       "      <td>1979-06-01</td>\n",
       "      <td>NaT</td>\n",
       "      <td>2</td>\n",
       "      <td>0</td>\n",
       "      <td>0</td>\n",
       "      <td>0</td>\n",
       "      <td>0</td>\n",
       "      <td>NaT</td>\n",
       "      <td>NaT</td>\n",
       "      <td>0</td>\n",
       "    </tr>\n",
       "    <tr>\n",
       "      <th>16</th>\n",
       "      <td>19</td>\n",
       "      <td>Helio</td>\n",
       "      <td>mobile</td>\n",
       "      <td>USA</td>\n",
       "      <td>acquired</td>\n",
       "      <td>2005-02-01</td>\n",
       "      <td>NaT</td>\n",
       "      <td>0</td>\n",
       "      <td>0</td>\n",
       "      <td>0</td>\n",
       "      <td>0</td>\n",
       "      <td>0</td>\n",
       "      <td>NaT</td>\n",
       "      <td>NaT</td>\n",
       "      <td>0</td>\n",
       "    </tr>\n",
       "  </tbody>\n",
       "</table>\n",
       "</div>"
      ],
      "text/plain": [
       "    company_id_                   name    category_code country_code  \\\n",
       "5             7              Omnidrive  network_hosting          ISR   \n",
       "6             8                Postini              web          USA   \n",
       "8            10                Flektor      games_video          USA   \n",
       "9            11  Fox Interactive Media              web          USA   \n",
       "16           19                  Helio           mobile          USA   \n",
       "\n",
       "       status founded_at  closed_at  investment_rounds  funding_rounds  \\\n",
       "5      closed 2005-11-01 2008-09-15                  0               1   \n",
       "6    acquired 1999-06-02        NaT                  0               0   \n",
       "8    acquired        NaT        NaT                  0               0   \n",
       "9   operating 1979-06-01        NaT                  2               0   \n",
       "16   acquired 2005-02-01        NaT                  0               0   \n",
       "\n",
       "    funding_total  milestones  raised_amount  funded_at  funded_at  \\\n",
       "5          800000           4         800000 2006-12-01 2006-12-01   \n",
       "6               0           0              0        NaT        NaT   \n",
       "8               0           0              0        NaT        NaT   \n",
       "9               0           0              0        NaT        NaT   \n",
       "16              0           0              0        NaT        NaT   \n",
       "\n",
       "    participants  \n",
       "5              4  \n",
       "6              0  \n",
       "8              0  \n",
       "9              0  \n",
       "16             0  "
      ]
     },
     "metadata": {},
     "output_type": "display_data"
    },
    {
     "data": {
      "image/png": "[encoded data removed]",
      "text/plain": [
       "<Figure size 720x432 with 1 Axes>"
      ]
     },
     "metadata": {
      "needs_background": "light"
     },
     "output_type": "display_data"
    }
   ],
   "source": [
    "# Рассчитываем Q1, Q3 и IQR\n",
    "Q1 = filtered_df['funding_total'].quantile(0.25)\n",
    "Q3 = filtered_df['funding_total'].quantile(0.75)\n",
    "IQR = Q3 - Q1\n",
    "\n",
    "# Визуализация с помощью boxplot\n",
    "plt.figure(figsize=(10, 6))\n",
    "sns.boxplot(x=filtered_df['funding_total'])\n",
    "plt.title('Boxplot для переменной funding_total')\n",
    "plt.xlabel('Размер общего финансирования для одной компании, 10^6')\n",
    "plt.show()\n",
    "\n",
    "# Границы выбросов\n",
    "lower_bound = max(0, Q1 - 1.5 * IQR)\n",
    "upper_bound = Q3 + 1.5 * IQR\n",
    "\n",
    "# Выводим границы выбросов\n",
    "display(f\"Нижняя граница выбросов: {lower_bound}\")\n",
    "display(f\"Верхняя граница выбросов: {upper_bound}\")\n",
    "\n",
    "# Идентифицируем типичные значения (в пределах границ выбросов)\n",
    "typical_funding = filtered_df[(filtered_df['funding_total'] >= lower_bound) & (filtered_df['funding_total'] <= upper_bound)]\n",
    "\n",
    "# Выводим таблицу с типичным финансированием \n",
    "display(typical_funding.head())\n",
    "\n",
    "# Визуализация с ограничением оси X\n",
    "plt.figure(figsize=(10, 6))\n",
    "sns.boxplot(x=filtered_df['funding_total'])\n",
    "plt.title('Boxplot для переменной funding_total')\n",
    "plt.xlabel('Размер общего финансирования для одной компании, 10^6')\n",
    "\n",
    "# Установка предела для оси X (например, до 100 млн)\n",
    "plt.xlim([0, 1e8])\n",
    "plt.show()"
   ]
  },
  {
   "cell_type": "markdown",
   "metadata": {},
   "source": [
    "Основная часть значений (до Q3) находится в нижнем диапазоне.\n",
    "Выбросы значительно превышают верхний предел, уходя к правой части графика."
   ]
  },
  {
   "cell_type": "markdown",
   "metadata": {},
   "source": [
    "#### Промежуточные выводы:\n",
    "Данные демонстрируют сильную асимметрию, с средним значением (10.14 млн) значительно большим медианы (0.6 млн), что указывает на влияние выбросов, в том числе нескольких стартапов с аномально большими суммами финансирования. Примерно четверть компаний имеют финансирование, равное 0, а максимальное значение (5.7 млрд) значительно превышает 75-й перцентиль (5.65 млн), что подтверждает наличие выбросов. Основная масса стартапов сосредоточена в нижнем диапазоне (до 5.65 млн), в то время как выбросы значительно увеличивают среднее значение и создают искажения в распределении."
   ]
  },
  {
   "cell_type": "markdown",
   "metadata": {
    "id": "JqkRAQrIrJg2"
   },
   "source": [
    "\n",
    "### 3.3. Куплены забесплатно?\n",
    "\n",
    "* Исследуйте компании, которые были проданы за ноль или за один доллар, и при этом известно, что у них был ненулевой общий объём финансирования.\n",
    "\n",
    "Кроме этого, заказчик скоро получит доступ к базе данных SQLite, которая содержит данные по ценам покупки стартапов и размерам предварительного финансирования.\n",
    "\n",
    "Известно, что данные в базе похожи на имеющиеся, однако в ней отсутствуют как оконные функции, так и встроенные функции для расчёта квартилей и процентилей. Эту работу придётся делать вручную. Для облегчения расчётов заказчик хочет определить, каким процентилям соответствуют выбросы.\n",
    "\n",
    "* Рассчитайте аналитически верхнюю и нижнюю границу выбросов для столбца `funding_total` и укажите, каким процентилям границы соответствуют. Учитывая озвученные выше предпосылки и собственные соображения, сделайте выводы о корректности планируемой заказчиком замены нижней и верхней границы выбросов на значения, рассчитанные по процентилям."
   ]
  },
  {
   "cell_type": "code",
   "execution_count": 69,
   "metadata": {
    "id": "wJHXCBwwrJg2",
    "vscode": {
     "languageId": "plaintext"
    }
   },
   "outputs": [
    {
     "data": {
      "text/html": [
       "<div>\n",
       "<style scoped>\n",
       "    .dataframe tbody tr th:only-of-type {\n",
       "        vertical-align: middle;\n",
       "    }\n",
       "\n",
       "    .dataframe tbody tr th {\n",
       "        vertical-align: top;\n",
       "    }\n",
       "\n",
       "    .dataframe thead th {\n",
       "        text-align: right;\n",
       "    }\n",
       "</style>\n",
       "<table border=\"1\" class=\"dataframe\">\n",
       "  <thead>\n",
       "    <tr style=\"text-align: right;\">\n",
       "      <th></th>\n",
       "      <th>company_id_</th>\n",
       "      <th>percentage</th>\n",
       "    </tr>\n",
       "    <tr>\n",
       "      <th>category_code</th>\n",
       "      <th></th>\n",
       "      <th></th>\n",
       "    </tr>\n",
       "  </thead>\n",
       "  <tbody>\n",
       "    <tr>\n",
       "      <th>web</th>\n",
       "      <td>606</td>\n",
       "      <td>1.487226</td>\n",
       "    </tr>\n",
       "    <tr>\n",
       "      <th>software</th>\n",
       "      <td>274</td>\n",
       "      <td>0.672442</td>\n",
       "    </tr>\n",
       "    <tr>\n",
       "      <th>games_video</th>\n",
       "      <td>179</td>\n",
       "      <td>0.439296</td>\n",
       "    </tr>\n",
       "    <tr>\n",
       "      <th>advertising</th>\n",
       "      <td>151</td>\n",
       "      <td>0.370579</td>\n",
       "    </tr>\n",
       "    <tr>\n",
       "      <th>mobile</th>\n",
       "      <td>132</td>\n",
       "      <td>0.323950</td>\n",
       "    </tr>\n",
       "    <tr>\n",
       "      <th>enterprise</th>\n",
       "      <td>131</td>\n",
       "      <td>0.321496</td>\n",
       "    </tr>\n",
       "    <tr>\n",
       "      <th>unknown</th>\n",
       "      <td>103</td>\n",
       "      <td>0.252779</td>\n",
       "    </tr>\n",
       "    <tr>\n",
       "      <th>ecommerce</th>\n",
       "      <td>86</td>\n",
       "      <td>0.211058</td>\n",
       "    </tr>\n",
       "    <tr>\n",
       "      <th>network_hosting</th>\n",
       "      <td>83</td>\n",
       "      <td>0.203696</td>\n",
       "    </tr>\n",
       "    <tr>\n",
       "      <th>public_relations</th>\n",
       "      <td>55</td>\n",
       "      <td>0.134979</td>\n",
       "    </tr>\n",
       "    <tr>\n",
       "      <th>hardware</th>\n",
       "      <td>50</td>\n",
       "      <td>0.122708</td>\n",
       "    </tr>\n",
       "    <tr>\n",
       "      <th>search</th>\n",
       "      <td>44</td>\n",
       "      <td>0.107983</td>\n",
       "    </tr>\n",
       "    <tr>\n",
       "      <th>other</th>\n",
       "      <td>34</td>\n",
       "      <td>0.083442</td>\n",
       "    </tr>\n",
       "    <tr>\n",
       "      <th>security</th>\n",
       "      <td>24</td>\n",
       "      <td>0.058900</td>\n",
       "    </tr>\n",
       "    <tr>\n",
       "      <th>cleantech</th>\n",
       "      <td>23</td>\n",
       "      <td>0.056446</td>\n",
       "    </tr>\n",
       "    <tr>\n",
       "      <th>analytics</th>\n",
       "      <td>22</td>\n",
       "      <td>0.053992</td>\n",
       "    </tr>\n",
       "    <tr>\n",
       "      <th>semiconductor</th>\n",
       "      <td>16</td>\n",
       "      <td>0.039267</td>\n",
       "    </tr>\n",
       "    <tr>\n",
       "      <th>music</th>\n",
       "      <td>15</td>\n",
       "      <td>0.036813</td>\n",
       "    </tr>\n",
       "    <tr>\n",
       "      <th>social</th>\n",
       "      <td>14</td>\n",
       "      <td>0.034358</td>\n",
       "    </tr>\n",
       "    <tr>\n",
       "      <th>news</th>\n",
       "      <td>14</td>\n",
       "      <td>0.034358</td>\n",
       "    </tr>\n",
       "    <tr>\n",
       "      <th>finance</th>\n",
       "      <td>14</td>\n",
       "      <td>0.034358</td>\n",
       "    </tr>\n",
       "    <tr>\n",
       "      <th>messaging</th>\n",
       "      <td>12</td>\n",
       "      <td>0.029450</td>\n",
       "    </tr>\n",
       "    <tr>\n",
       "      <th>travel</th>\n",
       "      <td>9</td>\n",
       "      <td>0.022088</td>\n",
       "    </tr>\n",
       "    <tr>\n",
       "      <th>photo_video</th>\n",
       "      <td>8</td>\n",
       "      <td>0.019633</td>\n",
       "    </tr>\n",
       "    <tr>\n",
       "      <th>education</th>\n",
       "      <td>8</td>\n",
       "      <td>0.019633</td>\n",
       "    </tr>\n",
       "    <tr>\n",
       "      <th>health</th>\n",
       "      <td>8</td>\n",
       "      <td>0.019633</td>\n",
       "    </tr>\n",
       "    <tr>\n",
       "      <th>consulting</th>\n",
       "      <td>8</td>\n",
       "      <td>0.019633</td>\n",
       "    </tr>\n",
       "    <tr>\n",
       "      <th>biotech</th>\n",
       "      <td>6</td>\n",
       "      <td>0.014725</td>\n",
       "    </tr>\n",
       "    <tr>\n",
       "      <th>real_estate</th>\n",
       "      <td>5</td>\n",
       "      <td>0.012271</td>\n",
       "    </tr>\n",
       "    <tr>\n",
       "      <th>sports</th>\n",
       "      <td>5</td>\n",
       "      <td>0.012271</td>\n",
       "    </tr>\n",
       "    <tr>\n",
       "      <th>legal</th>\n",
       "      <td>4</td>\n",
       "      <td>0.009817</td>\n",
       "    </tr>\n",
       "    <tr>\n",
       "      <th>nonprofit</th>\n",
       "      <td>2</td>\n",
       "      <td>0.004908</td>\n",
       "    </tr>\n",
       "    <tr>\n",
       "      <th>automotive</th>\n",
       "      <td>2</td>\n",
       "      <td>0.004908</td>\n",
       "    </tr>\n",
       "    <tr>\n",
       "      <th>transportation</th>\n",
       "      <td>2</td>\n",
       "      <td>0.004908</td>\n",
       "    </tr>\n",
       "    <tr>\n",
       "      <th>nanotech</th>\n",
       "      <td>2</td>\n",
       "      <td>0.004908</td>\n",
       "    </tr>\n",
       "    <tr>\n",
       "      <th>medical</th>\n",
       "      <td>1</td>\n",
       "      <td>0.002454</td>\n",
       "    </tr>\n",
       "    <tr>\n",
       "      <th>hospitality</th>\n",
       "      <td>1</td>\n",
       "      <td>0.002454</td>\n",
       "    </tr>\n",
       "    <tr>\n",
       "      <th>manufacturing</th>\n",
       "      <td>1</td>\n",
       "      <td>0.002454</td>\n",
       "    </tr>\n",
       "  </tbody>\n",
       "</table>\n",
       "</div>"
      ],
      "text/plain": [
       "                  company_id_  percentage\n",
       "category_code                            \n",
       "web                       606    1.487226\n",
       "software                  274    0.672442\n",
       "games_video               179    0.439296\n",
       "advertising               151    0.370579\n",
       "mobile                    132    0.323950\n",
       "enterprise                131    0.321496\n",
       "unknown                   103    0.252779\n",
       "ecommerce                  86    0.211058\n",
       "network_hosting            83    0.203696\n",
       "public_relations           55    0.134979\n",
       "hardware                   50    0.122708\n",
       "search                     44    0.107983\n",
       "other                      34    0.083442\n",
       "security                   24    0.058900\n",
       "cleantech                  23    0.056446\n",
       "analytics                  22    0.053992\n",
       "semiconductor              16    0.039267\n",
       "music                      15    0.036813\n",
       "social                     14    0.034358\n",
       "news                       14    0.034358\n",
       "finance                    14    0.034358\n",
       "messaging                  12    0.029450\n",
       "travel                      9    0.022088\n",
       "photo_video                 8    0.019633\n",
       "education                   8    0.019633\n",
       "health                      8    0.019633\n",
       "consulting                  8    0.019633\n",
       "biotech                     6    0.014725\n",
       "real_estate                 5    0.012271\n",
       "sports                      5    0.012271\n",
       "legal                       4    0.009817\n",
       "nonprofit                   2    0.004908\n",
       "automotive                  2    0.004908\n",
       "transportation              2    0.004908\n",
       "nanotech                    2    0.004908\n",
       "medical                     1    0.002454\n",
       "hospitality                 1    0.002454\n",
       "manufacturing               1    0.002454"
      ]
     },
     "metadata": {},
     "output_type": "display_data"
    }
   ],
   "source": [
    "#Считает всего проданных стартапов\n",
    "total_companies = ac_merged_df['company_id_'].nunique()\n",
    "# Фильтруем строки, где значение price_amount равно 0 или 1\n",
    "filtered_ac = ac_merged_df[(ac_merged_df['price_amount'] == 0) | (ac_merged_df['price_amount'] == 1)]\n",
    "# Создание сводной таблицы\n",
    "pivot_ac = pd.pivot_table(filtered_ac,\n",
    "                          values='company_id_',\n",
    "                          index='category_code',\n",
    "                          aggfunc='count')\n",
    "#Добавляем колонку с процентом от общего числа компаний\n",
    "pivot_ac['percentage'] = (pivot_ac['company_id_'] / total_companies) * 100\n",
    "\n",
    "# Сортируем по проценту в порядке убывания\n",
    "pivot_ac = pivot_ac.sort_values(by='company_id_', ascending=False)\n",
    "\n",
    "# Отображаем таблицу\n",
    "display(pivot_ac)"
   ]
  },
  {
   "cell_type": "code",
   "execution_count": 70,
   "metadata": {},
   "outputs": [],
   "source": [
    "# Сортировка для выбора топ-10 и bottom-10 категорий\n",
    "top_5 = pivot_ac.nlargest(5, \"company_id_\")"
   ]
  },
  {
   "cell_type": "code",
   "execution_count": 71,
   "metadata": {},
   "outputs": [
    {
     "data": {
      "image/png": "[encoded data removed]",
      "text/plain": [
       "<Figure size 720x432 with 2 Axes>"
      ]
     },
     "metadata": {
      "needs_background": "light"
     },
     "output_type": "display_data"
    }
   ],
   "source": [
    "# Сбрасываем индекс, если category_code стал индексом\n",
    "pivot_ac = pivot_ac.reset_index()\n",
    "\n",
    "# Функция для визуализации\n",
    "def plot_top_bottom(pivot_ac, title):\n",
    "    fig, ax1 = plt.subplots(figsize=(10, 6))\n",
    "\n",
    "    # Столбчатая диаграмма для количества компаний\n",
    "    sns.barplot(x=\"category_code\", y=\"company_id_\", data=pivot_ac, ax=ax1, color='c', label='Количество компаний')\n",
    "\n",
    "    # Ось Y для процента\n",
    "    ax2 = ax1.twinx()\n",
    "    sns.lineplot(x=\"category_code\", y=\"percentage\", data=pivot_ac, ax=ax2, color='m', marker='o', label='Процент от общего числа')\n",
    "\n",
    "    # Добавляем подписи процентов\n",
    "    for i, value in enumerate(pivot_ac[\"percentage\"]):  # Используем pivot_ac вместо data\n",
    "        ax2.annotate(f'{value:.2f}%',  # Подпись с двумя знаками после запятой\n",
    "                     (i, value),  # Координаты (x, y)\n",
    "                     textcoords=\"offset points\",  # Отступ\n",
    "                     xytext=(0, 10),  # Отступ по оси Y\n",
    "                     ha='center', color='m', fontsize=10)\n",
    "\n",
    "    # Подписываем оси\n",
    "    ax1.set_xlabel('Категория')\n",
    "    ax1.set_ylabel('Количество компаний')\n",
    "    ax2.set_ylabel('Процент (%)')\n",
    "\n",
    "    # Устанавливаем заголовок\n",
    "    plt.title(title)\n",
    "\n",
    "    # Поворот меток на оси X\n",
    "    plt.xticks(rotation=45, ha='right')\n",
    "\n",
    "    # Отображаем график\n",
    "    plt.tight_layout()\n",
    "    plt.show()\n",
    "\n",
    "# Сортировка для выбора топ-5 и bottom-5 категорий\n",
    "top_5 = pivot_ac.nlargest(5, \"company_id_\")\n",
    "\n",
    "\n",
    "# Визуализация\n",
    "plot_top_bottom(top_5, \"Топ-5 категорий по большему количеству компаний\")\n"
   ]
  },
  {
   "cell_type": "markdown",
   "metadata": {},
   "source": [
    "- Топ 5 категорий компаний (web, software, games_video, advertising, mobile.).\n",
    "\n",
    "- В каждой из этих категорий есть определенное количество компаний, которые попадают под условие (продажа за 0 или 1 доллар и ненулевой объем финансирования). Например:\n",
    "\n",
    "Таким образом, можно сделать вывод, что компании с ненулевым объемом финансирования, проданные за минимальные суммы, распределены по различным категориям, с преобладанием в сфере web, что может говорить о большом количестве стартапов в этой области."
   ]
  },
  {
   "cell_type": "markdown",
   "metadata": {},
   "source": [
    "*Для расчёта верхней и нижней границы выбросов и определения, каким процентилям эти границы соответствуют, можно воспользоваться описанными характеристиками данных, такими как 25-й (Q1), 75-й (Q3) процентиль и межквартильный размах (IQR). Рассмотрим, как это можно сделать:*"
   ]
  },
  {
   "cell_type": "code",
   "execution_count": 72,
   "metadata": {
    "scrolled": true
   },
   "outputs": [
    {
     "data": {
      "text/plain": [
       "'Q1 (25-й процентиль): 0.0'"
      ]
     },
     "metadata": {},
     "output_type": "display_data"
    },
    {
     "data": {
      "text/plain": [
       "'Q3 (75-й процентиль): 5650650.0'"
      ]
     },
     "metadata": {},
     "output_type": "display_data"
    },
    {
     "data": {
      "text/plain": [
       "'IQR (межквартильный размах): 5650650.0'"
      ]
     },
     "metadata": {},
     "output_type": "display_data"
    },
    {
     "data": {
      "text/plain": [
       "'Нижняя граница выбросов: 0'"
      ]
     },
     "metadata": {},
     "output_type": "display_data"
    },
    {
     "data": {
      "text/plain": [
       "'Верхняя граница выбросов: 14126625.0'"
      ]
     },
     "metadata": {},
     "output_type": "display_data"
    },
    {
     "data": {
      "text/plain": [
       "'Типичный размер финансирования: от 0.0 до 5650650.0'"
      ]
     },
     "metadata": {},
     "output_type": "display_data"
    },
    {
     "data": {
      "text/plain": [
       "'Количество выбросов: 5858'"
      ]
     },
     "metadata": {},
     "output_type": "display_data"
    },
    {
     "data": {
      "text/html": [
       "<div>\n",
       "<style scoped>\n",
       "    .dataframe tbody tr th:only-of-type {\n",
       "        vertical-align: middle;\n",
       "    }\n",
       "\n",
       "    .dataframe tbody tr th {\n",
       "        vertical-align: top;\n",
       "    }\n",
       "\n",
       "    .dataframe thead th {\n",
       "        text-align: right;\n",
       "    }\n",
       "</style>\n",
       "<table border=\"1\" class=\"dataframe\">\n",
       "  <thead>\n",
       "    <tr style=\"text-align: right;\">\n",
       "      <th></th>\n",
       "      <th>company_id_</th>\n",
       "      <th>name</th>\n",
       "      <th>category_code</th>\n",
       "      <th>country_code</th>\n",
       "      <th>status</th>\n",
       "      <th>founded_at</th>\n",
       "      <th>closed_at</th>\n",
       "      <th>investment_rounds</th>\n",
       "      <th>funding_rounds</th>\n",
       "      <th>funding_total</th>\n",
       "      <th>milestones</th>\n",
       "      <th>raised_amount</th>\n",
       "      <th>funded_at</th>\n",
       "      <th>funded_at</th>\n",
       "      <th>participants</th>\n",
       "    </tr>\n",
       "  </thead>\n",
       "  <tbody>\n",
       "    <tr>\n",
       "      <th>0</th>\n",
       "      <td>1</td>\n",
       "      <td>Wetpaint</td>\n",
       "      <td>web</td>\n",
       "      <td>USA</td>\n",
       "      <td>operating</td>\n",
       "      <td>2005-10-17</td>\n",
       "      <td>NaT</td>\n",
       "      <td>0</td>\n",
       "      <td>3</td>\n",
       "      <td>39750000</td>\n",
       "      <td>5</td>\n",
       "      <td>39750000</td>\n",
       "      <td>2005-10-01</td>\n",
       "      <td>2008-05-19</td>\n",
       "      <td>9</td>\n",
       "    </tr>\n",
       "    <tr>\n",
       "      <th>3</th>\n",
       "      <td>4</td>\n",
       "      <td>Digg</td>\n",
       "      <td>news</td>\n",
       "      <td>USA</td>\n",
       "      <td>acquired</td>\n",
       "      <td>2004-10-11</td>\n",
       "      <td>NaT</td>\n",
       "      <td>0</td>\n",
       "      <td>4</td>\n",
       "      <td>45000000</td>\n",
       "      <td>8</td>\n",
       "      <td>45000000</td>\n",
       "      <td>2005-10-01</td>\n",
       "      <td>2011-07-12</td>\n",
       "      <td>14</td>\n",
       "    </tr>\n",
       "    <tr>\n",
       "      <th>4</th>\n",
       "      <td>5</td>\n",
       "      <td>Socialnet</td>\n",
       "      <td>social</td>\n",
       "      <td>USA</td>\n",
       "      <td>ipo</td>\n",
       "      <td>2004-02-01</td>\n",
       "      <td>NaT</td>\n",
       "      <td>3</td>\n",
       "      <td>11</td>\n",
       "      <td>2425700000</td>\n",
       "      <td>5</td>\n",
       "      <td>2425700000</td>\n",
       "      <td>2004-09-01</td>\n",
       "      <td>2011-01-21</td>\n",
       "      <td>20</td>\n",
       "    </tr>\n",
       "    <tr>\n",
       "      <th>7</th>\n",
       "      <td>9</td>\n",
       "      <td>Geni</td>\n",
       "      <td>web</td>\n",
       "      <td>USA</td>\n",
       "      <td>acquired</td>\n",
       "      <td>2006-06-01</td>\n",
       "      <td>NaT</td>\n",
       "      <td>0</td>\n",
       "      <td>3</td>\n",
       "      <td>16500000</td>\n",
       "      <td>4</td>\n",
       "      <td>16500000</td>\n",
       "      <td>2007-01-01</td>\n",
       "      <td>2009-01-19</td>\n",
       "      <td>4</td>\n",
       "    </tr>\n",
       "    <tr>\n",
       "      <th>10</th>\n",
       "      <td>12</td>\n",
       "      <td>Network</td>\n",
       "      <td>social</td>\n",
       "      <td>USA</td>\n",
       "      <td>ipo</td>\n",
       "      <td>2006-03-21</td>\n",
       "      <td>NaT</td>\n",
       "      <td>0</td>\n",
       "      <td>8</td>\n",
       "      <td>1160170000</td>\n",
       "      <td>6</td>\n",
       "      <td>1160166510</td>\n",
       "      <td>2007-07-01</td>\n",
       "      <td>2011-09-08</td>\n",
       "      <td>34</td>\n",
       "    </tr>\n",
       "    <tr>\n",
       "      <th>...</th>\n",
       "      <td>...</td>\n",
       "      <td>...</td>\n",
       "      <td>...</td>\n",
       "      <td>...</td>\n",
       "      <td>...</td>\n",
       "      <td>...</td>\n",
       "      <td>...</td>\n",
       "      <td>...</td>\n",
       "      <td>...</td>\n",
       "      <td>...</td>\n",
       "      <td>...</td>\n",
       "      <td>...</td>\n",
       "      <td>...</td>\n",
       "      <td>...</td>\n",
       "      <td>...</td>\n",
       "    </tr>\n",
       "    <tr>\n",
       "      <th>196467</th>\n",
       "      <td>285737</td>\n",
       "      <td>DBL Acquisition</td>\n",
       "      <td>unknown</td>\n",
       "      <td>USA</td>\n",
       "      <td>operating</td>\n",
       "      <td>NaT</td>\n",
       "      <td>NaT</td>\n",
       "      <td>0</td>\n",
       "      <td>1</td>\n",
       "      <td>15000000</td>\n",
       "      <td>0</td>\n",
       "      <td>15000000</td>\n",
       "      <td>2010-05-03</td>\n",
       "      <td>2010-05-03</td>\n",
       "      <td>0</td>\n",
       "    </tr>\n",
       "    <tr>\n",
       "      <th>196570</th>\n",
       "      <td>285949</td>\n",
       "      <td>Freedom Financial Network</td>\n",
       "      <td>local</td>\n",
       "      <td>USA</td>\n",
       "      <td>operating</td>\n",
       "      <td>2002-01-01</td>\n",
       "      <td>NaT</td>\n",
       "      <td>0</td>\n",
       "      <td>1</td>\n",
       "      <td>125000000</td>\n",
       "      <td>0</td>\n",
       "      <td>125000000</td>\n",
       "      <td>2013-12-11</td>\n",
       "      <td>2013-12-11</td>\n",
       "      <td>1</td>\n",
       "    </tr>\n",
       "    <tr>\n",
       "      <th>196689</th>\n",
       "      <td>286096</td>\n",
       "      <td>United Way of Central Alabama</td>\n",
       "      <td>government</td>\n",
       "      <td>USA</td>\n",
       "      <td>operating</td>\n",
       "      <td>1923-01-01</td>\n",
       "      <td>NaT</td>\n",
       "      <td>0</td>\n",
       "      <td>1</td>\n",
       "      <td>37900000</td>\n",
       "      <td>0</td>\n",
       "      <td>37900000</td>\n",
       "      <td>2013-12-12</td>\n",
       "      <td>2013-12-12</td>\n",
       "      <td>0</td>\n",
       "    </tr>\n",
       "    <tr>\n",
       "      <th>196736</th>\n",
       "      <td>286155</td>\n",
       "      <td>U.S. Healthworks</td>\n",
       "      <td>biotech</td>\n",
       "      <td>USA</td>\n",
       "      <td>operating</td>\n",
       "      <td>NaT</td>\n",
       "      <td>NaT</td>\n",
       "      <td>0</td>\n",
       "      <td>1</td>\n",
       "      <td>40500000</td>\n",
       "      <td>0</td>\n",
       "      <td>40500000</td>\n",
       "      <td>2010-02-02</td>\n",
       "      <td>2010-02-02</td>\n",
       "      <td>0</td>\n",
       "    </tr>\n",
       "    <tr>\n",
       "      <th>196755</th>\n",
       "      <td>286178</td>\n",
       "      <td>Senhwa Biosciences</td>\n",
       "      <td>biotech</td>\n",
       "      <td>USA</td>\n",
       "      <td>operating</td>\n",
       "      <td>NaT</td>\n",
       "      <td>NaT</td>\n",
       "      <td>0</td>\n",
       "      <td>1</td>\n",
       "      <td>17000000</td>\n",
       "      <td>0</td>\n",
       "      <td>17000000</td>\n",
       "      <td>2013-12-12</td>\n",
       "      <td>2013-12-12</td>\n",
       "      <td>3</td>\n",
       "    </tr>\n",
       "  </tbody>\n",
       "</table>\n",
       "<p>5858 rows × 15 columns</p>\n",
       "</div>"
      ],
      "text/plain": [
       "        company_id_                           name category_code country_code  \\\n",
       "0                 1                       Wetpaint           web          USA   \n",
       "3                 4                           Digg          news          USA   \n",
       "4                 5                      Socialnet        social          USA   \n",
       "7                 9                           Geni           web          USA   \n",
       "10               12                        Network        social          USA   \n",
       "...             ...                            ...           ...          ...   \n",
       "196467       285737                DBL Acquisition       unknown          USA   \n",
       "196570       285949      Freedom Financial Network         local          USA   \n",
       "196689       286096  United Way of Central Alabama    government          USA   \n",
       "196736       286155               U.S. Healthworks       biotech          USA   \n",
       "196755       286178             Senhwa Biosciences       biotech          USA   \n",
       "\n",
       "           status founded_at closed_at  investment_rounds  funding_rounds  \\\n",
       "0       operating 2005-10-17       NaT                  0               3   \n",
       "3        acquired 2004-10-11       NaT                  0               4   \n",
       "4             ipo 2004-02-01       NaT                  3              11   \n",
       "7        acquired 2006-06-01       NaT                  0               3   \n",
       "10            ipo 2006-03-21       NaT                  0               8   \n",
       "...           ...        ...       ...                ...             ...   \n",
       "196467  operating        NaT       NaT                  0               1   \n",
       "196570  operating 2002-01-01       NaT                  0               1   \n",
       "196689  operating 1923-01-01       NaT                  0               1   \n",
       "196736  operating        NaT       NaT                  0               1   \n",
       "196755  operating        NaT       NaT                  0               1   \n",
       "\n",
       "        funding_total  milestones  raised_amount  funded_at  funded_at  \\\n",
       "0            39750000           5       39750000 2005-10-01 2008-05-19   \n",
       "3            45000000           8       45000000 2005-10-01 2011-07-12   \n",
       "4          2425700000           5     2425700000 2004-09-01 2011-01-21   \n",
       "7            16500000           4       16500000 2007-01-01 2009-01-19   \n",
       "10         1160170000           6     1160166510 2007-07-01 2011-09-08   \n",
       "...               ...         ...            ...        ...        ...   \n",
       "196467       15000000           0       15000000 2010-05-03 2010-05-03   \n",
       "196570      125000000           0      125000000 2013-12-11 2013-12-11   \n",
       "196689       37900000           0       37900000 2013-12-12 2013-12-12   \n",
       "196736       40500000           0       40500000 2010-02-02 2010-02-02   \n",
       "196755       17000000           0       17000000 2013-12-12 2013-12-12   \n",
       "\n",
       "        participants  \n",
       "0                  9  \n",
       "3                 14  \n",
       "4                 20  \n",
       "7                  4  \n",
       "10                34  \n",
       "...              ...  \n",
       "196467             0  \n",
       "196570             1  \n",
       "196689             0  \n",
       "196736             0  \n",
       "196755             3  \n",
       "\n",
       "[5858 rows x 15 columns]"
      ]
     },
     "metadata": {},
     "output_type": "display_data"
    }
   ],
   "source": [
    "# Рассчитываем Q1, Q3 и IQR\n",
    "Q1 = filtered_df['funding_total'].quantile(0.25)\n",
    "Q3 = filtered_df['funding_total'].quantile(0.75)\n",
    "IQR = Q3 - Q1\n",
    "\n",
    "# Границы выбросов\n",
    "lower_bound = max(0, Q1 - 1.5 * IQR)\n",
    "upper_bound = Q3 + 1.5 * IQR\n",
    "\n",
    "# Идентифицируем выбросы\n",
    "outliers = filtered_df[(filtered_df['funding_total'] < lower_bound) | (filtered_df['funding_total'] > upper_bound)]\n",
    "\n",
    "# Печатаем результаты\n",
    "display(f'Q1 (25-й процентиль): {Q1}')\n",
    "display(f'Q3 (75-й процентиль): {Q3}')\n",
    "display(f'IQR (межквартильный размах): {IQR}')\n",
    "display(f'Нижняя граница выбросов: {lower_bound}')\n",
    "display(f'Верхняя граница выбросов: {upper_bound}')\n",
    "display(f'Типичный размер финансирования: от {Q1} до {Q3}')\n",
    "display(f'Количество выбросов: {len(outliers)}')\n",
    "\n",
    "# Выводим таблицу с выбросами\n",
    "display(outliers)"
   ]
  },
  {
   "cell_type": "markdown",
   "metadata": {},
   "source": [
    "Данные о размере финансирования для компаний имеют следующие ключевые характеристики:\n",
    "\n",
    "- 25-й процентиль (Q1): 0 — это значение, ниже которого находится 25% всех наблюдений.\n",
    "- 75-й процентиль (Q3): 5,650,650.0 — это значение, ниже которого находится 75% всех наблюдений.\n",
    "- Межквартильный размах (IQR): 5,650,650.0 — разница между 75-м и 25-м процентилем, показывающая разброс типичных значений.\n",
    "- Количество выбросов: 5858 — количество наблюдений, которые выходят за пределы типичного диапазона и считаются выбросами.\n",
    "Границы выбросов:\n",
    "- Нижняя граница: 0 \n",
    "- Верхняя граница: 14,126,625 — значения выше этой границы считаются выбросами."
   ]
  },
  {
   "cell_type": "markdown",
   "metadata": {},
   "source": [
    "Процентиль для границ выбросов\n",
    "Чтобы рассчитать процентиль, соответствующий границам выбросов, можно вручную подсчитать, сколько данных лежат ниже нижней границы или выше верхней. Вот как это можно сделать:"
   ]
  },
  {
   "cell_type": "code",
   "execution_count": 73,
   "metadata": {
    "scrolled": true
   },
   "outputs": [
    {
     "data": {
      "text/plain": [
       "'Процент данных ниже нижней границы выбросов: 0.00%'"
      ]
     },
     "metadata": {},
     "output_type": "display_data"
    },
    {
     "data": {
      "text/plain": [
       "'Процент данных выше верхней границы выбросов: 14.38%'"
      ]
     },
     "metadata": {},
     "output_type": "display_data"
    }
   ],
   "source": [
    "# Рассчитаем процент данных ниже нижней границы выбросов\n",
    "lower_percentile = (filtered_df[filtered_df['funding_total'] < lower_bound].shape[0] / filtered_df.shape[0]) * 100\n",
    "\n",
    "# Рассчитаем процент данных выше верхней границы выбросов\n",
    "upper_percentile = (filtered_df[filtered_df['funding_total'] > upper_bound].shape[0] / filtered_df.shape[0]) * 100\n",
    "\n",
    "display(f\"Процент данных ниже нижней границы выбросов: {lower_percentile:.2f}%\")\n",
    "display(f\"Процент данных выше верхней границы выбросов: {upper_percentile:.2f}%\")"
   ]
  },
  {
   "cell_type": "markdown",
   "metadata": {},
   "source": [
    "#### Промежуточные выводы:\n",
    "\n",
    "- Таким образом, можно сделать вывод, что компании, проданные за 0 или 1 доллар, вероятно, столкнулись с определенными проблемами, которые затруднили их успешное развитие или коммерциализацию, несмотря на наличие первоначальных инвестиций.\n",
    "- Процент данных ниже нижней границы выбросов равен 0%, что означает, что в данных нет значений, которые ниже этой границы.\n",
    "- Процент данных выше верхней границы выбросов равен 7.14%, что указывает на наличие значительного количества выбросов, превышающих верхнюю границу.\n",
    "- Замена значений, выходящих за пределы границ выбросов, на значения, рассчитанные по процентилям, может быть разумной, но важно учитывать контекст данных. Если выбросы значимы для анализа, то их замена может привести к потере важной информации. Если выбросы не имеют смысла в контексте задачи, такая замена может улучшить качество модели или анализа."
   ]
  },
  {
   "cell_type": "markdown",
   "metadata": {
    "id": "mEiWpROjrJg2"
   },
   "source": [
    "\n",
    "### 3.4. Цены стартапов по категориям\n",
    "\n",
    "Категории стартапов с наибольшими ценами и значительным разбросом цен могут быть наиболее привлекательными для крупных инвесторов, которые готовы к высоким рискам ради потенциально больших доходов. Среди категорий стартапов выделите категории стартапов, характеризующиеся:\n",
    "\n",
    "* наибольшими ценами;\n",
    "* и наибольшим разбросом цен за стартап.\n",
    "\n",
    "Объясните, почему решили составить топ именно из такого числа категорий и почему рассчитывали именно так."
   ]
  },
  {
   "cell_type": "code",
   "execution_count": 74,
   "metadata": {
    "id": "jQ09dYUWrJg2",
    "scrolled": true,
    "vscode": {
     "languageId": "plaintext"
    }
   },
   "outputs": [
    {
     "data": {
      "text/html": [
       "<div>\n",
       "<style scoped>\n",
       "    .dataframe tbody tr th:only-of-type {\n",
       "        vertical-align: middle;\n",
       "    }\n",
       "\n",
       "    .dataframe tbody tr th {\n",
       "        vertical-align: top;\n",
       "    }\n",
       "\n",
       "    .dataframe thead th {\n",
       "        text-align: right;\n",
       "    }\n",
       "</style>\n",
       "<table border=\"1\" class=\"dataframe\">\n",
       "  <thead>\n",
       "    <tr style=\"text-align: right;\">\n",
       "      <th></th>\n",
       "      <th>price_amount</th>\n",
       "    </tr>\n",
       "    <tr>\n",
       "      <th>category_code</th>\n",
       "      <th></th>\n",
       "    </tr>\n",
       "  </thead>\n",
       "  <tbody>\n",
       "    <tr>\n",
       "      <th>web</th>\n",
       "      <td>101,729,542,655.00</td>\n",
       "    </tr>\n",
       "    <tr>\n",
       "      <th>games_video</th>\n",
       "      <td>86,525,911,701.00</td>\n",
       "    </tr>\n",
       "    <tr>\n",
       "      <th>advertising</th>\n",
       "      <td>68,093,663,400.00</td>\n",
       "    </tr>\n",
       "    <tr>\n",
       "      <th>software</th>\n",
       "      <td>35,341,733,660.00</td>\n",
       "    </tr>\n",
       "    <tr>\n",
       "      <th>ecommerce</th>\n",
       "      <td>31,106,235,000.00</td>\n",
       "    </tr>\n",
       "    <tr>\n",
       "      <th>travel</th>\n",
       "      <td>28,356,100,000.00</td>\n",
       "    </tr>\n",
       "    <tr>\n",
       "      <th>finance</th>\n",
       "      <td>26,807,220,000.00</td>\n",
       "    </tr>\n",
       "    <tr>\n",
       "      <th>unknown</th>\n",
       "      <td>21,349,112,765.00</td>\n",
       "    </tr>\n",
       "    <tr>\n",
       "      <th>mobile</th>\n",
       "      <td>14,824,203,650.00</td>\n",
       "    </tr>\n",
       "    <tr>\n",
       "      <th>network_hosting</th>\n",
       "      <td>12,694,293,000.00</td>\n",
       "    </tr>\n",
       "    <tr>\n",
       "      <th>enterprise</th>\n",
       "      <td>9,093,767,300.00</td>\n",
       "    </tr>\n",
       "    <tr>\n",
       "      <th>search</th>\n",
       "      <td>5,201,486,000.00</td>\n",
       "    </tr>\n",
       "    <tr>\n",
       "      <th>messaging</th>\n",
       "      <td>4,461,000,000.00</td>\n",
       "    </tr>\n",
       "    <tr>\n",
       "      <th>public_relations</th>\n",
       "      <td>4,361,040,000.00</td>\n",
       "    </tr>\n",
       "    <tr>\n",
       "      <th>hardware</th>\n",
       "      <td>3,163,325,000.00</td>\n",
       "    </tr>\n",
       "    <tr>\n",
       "      <th>security</th>\n",
       "      <td>3,039,700,000.00</td>\n",
       "    </tr>\n",
       "    <tr>\n",
       "      <th>news</th>\n",
       "      <td>2,724,150,000.00</td>\n",
       "    </tr>\n",
       "    <tr>\n",
       "      <th>other</th>\n",
       "      <td>1,739,375,000.00</td>\n",
       "    </tr>\n",
       "    <tr>\n",
       "      <th>social</th>\n",
       "      <td>1,713,040,000.00</td>\n",
       "    </tr>\n",
       "    <tr>\n",
       "      <th>music</th>\n",
       "      <td>951,750,000.00</td>\n",
       "    </tr>\n",
       "    <tr>\n",
       "      <th>semiconductor</th>\n",
       "      <td>944,000,001.00</td>\n",
       "    </tr>\n",
       "    <tr>\n",
       "      <th>analytics</th>\n",
       "      <td>883,930,000.00</td>\n",
       "    </tr>\n",
       "    <tr>\n",
       "      <th>cleantech</th>\n",
       "      <td>853,100,000.00</td>\n",
       "    </tr>\n",
       "    <tr>\n",
       "      <th>education</th>\n",
       "      <td>657,163,000.00</td>\n",
       "    </tr>\n",
       "    <tr>\n",
       "      <th>biotech</th>\n",
       "      <td>548,400,000.00</td>\n",
       "    </tr>\n",
       "    <tr>\n",
       "      <th>consulting</th>\n",
       "      <td>441,960,000.00</td>\n",
       "    </tr>\n",
       "    <tr>\n",
       "      <th>health</th>\n",
       "      <td>429,200,000.00</td>\n",
       "    </tr>\n",
       "    <tr>\n",
       "      <th>fashion</th>\n",
       "      <td>406,950,000.00</td>\n",
       "    </tr>\n",
       "    <tr>\n",
       "      <th>sports</th>\n",
       "      <td>210,000,000.00</td>\n",
       "    </tr>\n",
       "    <tr>\n",
       "      <th>legal</th>\n",
       "      <td>171,900,000.00</td>\n",
       "    </tr>\n",
       "    <tr>\n",
       "      <th>hospitality</th>\n",
       "      <td>101,900,000.00</td>\n",
       "    </tr>\n",
       "    <tr>\n",
       "      <th>nonprofit</th>\n",
       "      <td>19,900,000.00</td>\n",
       "    </tr>\n",
       "    <tr>\n",
       "      <th>automotive</th>\n",
       "      <td>7,620,000.00</td>\n",
       "    </tr>\n",
       "    <tr>\n",
       "      <th>photo_video</th>\n",
       "      <td>200,000.00</td>\n",
       "    </tr>\n",
       "    <tr>\n",
       "      <th>real_estate</th>\n",
       "      <td>17,000.00</td>\n",
       "    </tr>\n",
       "    <tr>\n",
       "      <th>pets</th>\n",
       "      <td>0.00</td>\n",
       "    </tr>\n",
       "    <tr>\n",
       "      <th>government</th>\n",
       "      <td>0.00</td>\n",
       "    </tr>\n",
       "    <tr>\n",
       "      <th>local</th>\n",
       "      <td>0.00</td>\n",
       "    </tr>\n",
       "    <tr>\n",
       "      <th>nanotech</th>\n",
       "      <td>0.00</td>\n",
       "    </tr>\n",
       "    <tr>\n",
       "      <th>transportation</th>\n",
       "      <td>0.00</td>\n",
       "    </tr>\n",
       "    <tr>\n",
       "      <th>design</th>\n",
       "      <td>0.00</td>\n",
       "    </tr>\n",
       "    <tr>\n",
       "      <th>manufacturing</th>\n",
       "      <td>0.00</td>\n",
       "    </tr>\n",
       "    <tr>\n",
       "      <th>medical</th>\n",
       "      <td>0.00</td>\n",
       "    </tr>\n",
       "  </tbody>\n",
       "</table>\n",
       "</div>"
      ],
      "text/plain": [
       "                        price_amount\n",
       "category_code                       \n",
       "web               101,729,542,655.00\n",
       "games_video        86,525,911,701.00\n",
       "advertising        68,093,663,400.00\n",
       "software           35,341,733,660.00\n",
       "ecommerce          31,106,235,000.00\n",
       "travel             28,356,100,000.00\n",
       "finance            26,807,220,000.00\n",
       "unknown            21,349,112,765.00\n",
       "mobile             14,824,203,650.00\n",
       "network_hosting    12,694,293,000.00\n",
       "enterprise          9,093,767,300.00\n",
       "search              5,201,486,000.00\n",
       "messaging           4,461,000,000.00\n",
       "public_relations    4,361,040,000.00\n",
       "hardware            3,163,325,000.00\n",
       "security            3,039,700,000.00\n",
       "news                2,724,150,000.00\n",
       "other               1,739,375,000.00\n",
       "social              1,713,040,000.00\n",
       "music                 951,750,000.00\n",
       "semiconductor         944,000,001.00\n",
       "analytics             883,930,000.00\n",
       "cleantech             853,100,000.00\n",
       "education             657,163,000.00\n",
       "biotech               548,400,000.00\n",
       "consulting            441,960,000.00\n",
       "health                429,200,000.00\n",
       "fashion               406,950,000.00\n",
       "sports                210,000,000.00\n",
       "legal                 171,900,000.00\n",
       "hospitality           101,900,000.00\n",
       "nonprofit              19,900,000.00\n",
       "automotive              7,620,000.00\n",
       "photo_video               200,000.00\n",
       "real_estate                17,000.00\n",
       "pets                            0.00\n",
       "government                      0.00\n",
       "local                           0.00\n",
       "nanotech                        0.00\n",
       "transportation                  0.00\n",
       "design                          0.00\n",
       "manufacturing                   0.00\n",
       "medical                         0.00"
      ]
     },
     "metadata": {},
     "output_type": "display_data"
    }
   ],
   "source": [
    "# Создание сводной таблицы\n",
    "pivot_ac = pd.pivot_table(ac_merged_df,\n",
    "                          values='price_amount',\n",
    "                          index='category_code',\n",
    "                          aggfunc='sum')\n",
    "\n",
    "# Сортируем по проценту в порядке убывания\n",
    "pivot_ac = pivot_ac.sort_values(by='price_amount', ascending=False)\n",
    "\n",
    "# Форматируем числа для лучшего отображения\n",
    "pivot_ac['price_amount'] = pivot_ac['price_amount'].apply(lambda x: f'{x:,.2f}')\n",
    "\n",
    "# Отображаем таблицу\n",
    "display(pivot_ac)"
   ]
  },
  {
   "cell_type": "code",
   "execution_count": 75,
   "metadata": {},
   "outputs": [
    {
     "data": {
      "text/html": [
       "<div>\n",
       "<style scoped>\n",
       "    .dataframe tbody tr th:only-of-type {\n",
       "        vertical-align: middle;\n",
       "    }\n",
       "\n",
       "    .dataframe tbody tr th {\n",
       "        vertical-align: top;\n",
       "    }\n",
       "\n",
       "    .dataframe thead th {\n",
       "        text-align: right;\n",
       "    }\n",
       "</style>\n",
       "<table border=\"1\" class=\"dataframe\">\n",
       "  <thead>\n",
       "    <tr style=\"text-align: right;\">\n",
       "      <th></th>\n",
       "      <th>category_code</th>\n",
       "      <th>median</th>\n",
       "      <th>max</th>\n",
       "      <th>min</th>\n",
       "      <th>price_range</th>\n",
       "      <th>std_dev</th>\n",
       "    </tr>\n",
       "  </thead>\n",
       "  <tbody>\n",
       "    <tr>\n",
       "      <th>0</th>\n",
       "      <td>advertising</td>\n",
       "      <td>0.00</td>\n",
       "      <td>39,000,000,000.00</td>\n",
       "      <td>0.00</td>\n",
       "      <td>39,000,000,000.00</td>\n",
       "      <td>2,576,116,339.31</td>\n",
       "    </tr>\n",
       "    <tr>\n",
       "      <th>1</th>\n",
       "      <td>analytics</td>\n",
       "      <td>0.00</td>\n",
       "      <td>337,000,000.00</td>\n",
       "      <td>0.00</td>\n",
       "      <td>337,000,000.00</td>\n",
       "      <td>81,096,460.13</td>\n",
       "    </tr>\n",
       "    <tr>\n",
       "      <th>2</th>\n",
       "      <td>automotive</td>\n",
       "      <td>1,250,000.00</td>\n",
       "      <td>5,120,000.00</td>\n",
       "      <td>0.00</td>\n",
       "      <td>5,120,000.00</td>\n",
       "      <td>2,445,969.47</td>\n",
       "    </tr>\n",
       "    <tr>\n",
       "      <th>3</th>\n",
       "      <td>biotech</td>\n",
       "      <td>0.00</td>\n",
       "      <td>315,000,000.00</td>\n",
       "      <td>0.00</td>\n",
       "      <td>315,000,000.00</td>\n",
       "      <td>114,350,680.90</td>\n",
       "    </tr>\n",
       "    <tr>\n",
       "      <th>4</th>\n",
       "      <td>cleantech</td>\n",
       "      <td>0.00</td>\n",
       "      <td>316,000,000.00</td>\n",
       "      <td>0.00</td>\n",
       "      <td>316,000,000.00</td>\n",
       "      <td>76,163,048.71</td>\n",
       "    </tr>\n",
       "    <tr>\n",
       "      <th>5</th>\n",
       "      <td>consulting</td>\n",
       "      <td>0.00</td>\n",
       "      <td>338,460,000.00</td>\n",
       "      <td>0.00</td>\n",
       "      <td>338,460,000.00</td>\n",
       "      <td>97,344,297.49</td>\n",
       "    </tr>\n",
       "    <tr>\n",
       "      <th>6</th>\n",
       "      <td>design</td>\n",
       "      <td>0.00</td>\n",
       "      <td>nan</td>\n",
       "      <td>nan</td>\n",
       "      <td>0.00</td>\n",
       "      <td>0.00</td>\n",
       "    </tr>\n",
       "    <tr>\n",
       "      <th>7</th>\n",
       "      <td>ecommerce</td>\n",
       "      <td>0.00</td>\n",
       "      <td>13,900,000,000.00</td>\n",
       "      <td>0.00</td>\n",
       "      <td>13,900,000,000.00</td>\n",
       "      <td>1,425,344,199.04</td>\n",
       "    </tr>\n",
       "    <tr>\n",
       "      <th>8</th>\n",
       "      <td>education</td>\n",
       "      <td>0.00</td>\n",
       "      <td>471,390,000.00</td>\n",
       "      <td>0.00</td>\n",
       "      <td>471,390,000.00</td>\n",
       "      <td>140,985,340.60</td>\n",
       "    </tr>\n",
       "    <tr>\n",
       "      <th>9</th>\n",
       "      <td>enterprise</td>\n",
       "      <td>0.00</td>\n",
       "      <td>915,000,000.00</td>\n",
       "      <td>0.00</td>\n",
       "      <td>915,000,000.00</td>\n",
       "      <td>153,849,588.81</td>\n",
       "    </tr>\n",
       "    <tr>\n",
       "      <th>10</th>\n",
       "      <td>fashion</td>\n",
       "      <td>203,475,000.00</td>\n",
       "      <td>400,000,000.00</td>\n",
       "      <td>6,950,000.00</td>\n",
       "      <td>393,050,000.00</td>\n",
       "      <td>277,928,320.35</td>\n",
       "    </tr>\n",
       "    <tr>\n",
       "      <th>11</th>\n",
       "      <td>finance</td>\n",
       "      <td>0.00</td>\n",
       "      <td>26,000,000,000.00</td>\n",
       "      <td>0.00</td>\n",
       "      <td>26,000,000,000.00</td>\n",
       "      <td>5,300,824,519.72</td>\n",
       "    </tr>\n",
       "    <tr>\n",
       "      <th>12</th>\n",
       "      <td>games_video</td>\n",
       "      <td>0.00</td>\n",
       "      <td>35,000,000,000.00</td>\n",
       "      <td>0.00</td>\n",
       "      <td>35,000,000,000.00</td>\n",
       "      <td>2,352,215,936.12</td>\n",
       "    </tr>\n",
       "    <tr>\n",
       "      <th>13</th>\n",
       "      <td>government</td>\n",
       "      <td>0.00</td>\n",
       "      <td>nan</td>\n",
       "      <td>nan</td>\n",
       "      <td>0.00</td>\n",
       "      <td>0.00</td>\n",
       "    </tr>\n",
       "    <tr>\n",
       "      <th>14</th>\n",
       "      <td>hardware</td>\n",
       "      <td>0.00</td>\n",
       "      <td>2,000,000,000.00</td>\n",
       "      <td>0.00</td>\n",
       "      <td>2,000,000,000.00</td>\n",
       "      <td>264,391,274.42</td>\n",
       "    </tr>\n",
       "    <tr>\n",
       "      <th>15</th>\n",
       "      <td>health</td>\n",
       "      <td>0.00</td>\n",
       "      <td>350,000,000.00</td>\n",
       "      <td>0.00</td>\n",
       "      <td>350,000,000.00</td>\n",
       "      <td>105,544,320.72</td>\n",
       "    </tr>\n",
       "    <tr>\n",
       "      <th>16</th>\n",
       "      <td>hospitality</td>\n",
       "      <td>50,950,000.00</td>\n",
       "      <td>101,900,000.00</td>\n",
       "      <td>0.00</td>\n",
       "      <td>101,900,000.00</td>\n",
       "      <td>72,054,181.00</td>\n",
       "    </tr>\n",
       "    <tr>\n",
       "      <th>17</th>\n",
       "      <td>legal</td>\n",
       "      <td>0.00</td>\n",
       "      <td>171,900,000.00</td>\n",
       "      <td>0.00</td>\n",
       "      <td>171,900,000.00</td>\n",
       "      <td>76,876,017.07</td>\n",
       "    </tr>\n",
       "    <tr>\n",
       "      <th>18</th>\n",
       "      <td>local</td>\n",
       "      <td>0.00</td>\n",
       "      <td>nan</td>\n",
       "      <td>nan</td>\n",
       "      <td>0.00</td>\n",
       "      <td>0.00</td>\n",
       "    </tr>\n",
       "    <tr>\n",
       "      <th>19</th>\n",
       "      <td>manufacturing</td>\n",
       "      <td>0.00</td>\n",
       "      <td>0.00</td>\n",
       "      <td>0.00</td>\n",
       "      <td>0.00</td>\n",
       "      <td>0.00</td>\n",
       "    </tr>\n",
       "    <tr>\n",
       "      <th>20</th>\n",
       "      <td>medical</td>\n",
       "      <td>0.00</td>\n",
       "      <td>0.00</td>\n",
       "      <td>0.00</td>\n",
       "      <td>0.00</td>\n",
       "      <td>0.00</td>\n",
       "    </tr>\n",
       "    <tr>\n",
       "      <th>21</th>\n",
       "      <td>messaging</td>\n",
       "      <td>0.00</td>\n",
       "      <td>3,500,000,000.00</td>\n",
       "      <td>0.00</td>\n",
       "      <td>3,500,000,000.00</td>\n",
       "      <td>782,396,175.39</td>\n",
       "    </tr>\n",
       "    <tr>\n",
       "      <th>22</th>\n",
       "      <td>mobile</td>\n",
       "      <td>0.00</td>\n",
       "      <td>3,400,000,000.00</td>\n",
       "      <td>0.00</td>\n",
       "      <td>3,400,000,000.00</td>\n",
       "      <td>337,639,199.86</td>\n",
       "    </tr>\n",
       "    <tr>\n",
       "      <th>23</th>\n",
       "      <td>music</td>\n",
       "      <td>0.00</td>\n",
       "      <td>415,000,000.00</td>\n",
       "      <td>0.00</td>\n",
       "      <td>415,000,000.00</td>\n",
       "      <td>116,693,499.57</td>\n",
       "    </tr>\n",
       "    <tr>\n",
       "      <th>24</th>\n",
       "      <td>nanotech</td>\n",
       "      <td>0.00</td>\n",
       "      <td>0.00</td>\n",
       "      <td>0.00</td>\n",
       "      <td>0.00</td>\n",
       "      <td>0.00</td>\n",
       "    </tr>\n",
       "    <tr>\n",
       "      <th>25</th>\n",
       "      <td>network_hosting</td>\n",
       "      <td>0.00</td>\n",
       "      <td>4,200,000,000.00</td>\n",
       "      <td>0.00</td>\n",
       "      <td>4,200,000,000.00</td>\n",
       "      <td>537,208,573.28</td>\n",
       "    </tr>\n",
       "    <tr>\n",
       "      <th>26</th>\n",
       "      <td>news</td>\n",
       "      <td>0.00</td>\n",
       "      <td>1,500,000,000.00</td>\n",
       "      <td>0.00</td>\n",
       "      <td>1,500,000,000.00</td>\n",
       "      <td>299,448,645.10</td>\n",
       "    </tr>\n",
       "    <tr>\n",
       "      <th>27</th>\n",
       "      <td>nonprofit</td>\n",
       "      <td>0.00</td>\n",
       "      <td>19,900,000.00</td>\n",
       "      <td>0.00</td>\n",
       "      <td>19,900,000.00</td>\n",
       "      <td>11,489,270.36</td>\n",
       "    </tr>\n",
       "    <tr>\n",
       "      <th>28</th>\n",
       "      <td>other</td>\n",
       "      <td>0.00</td>\n",
       "      <td>460,000,000.00</td>\n",
       "      <td>0.00</td>\n",
       "      <td>460,000,000.00</td>\n",
       "      <td>94,122,846.19</td>\n",
       "    </tr>\n",
       "    <tr>\n",
       "      <th>29</th>\n",
       "      <td>pets</td>\n",
       "      <td>0.00</td>\n",
       "      <td>nan</td>\n",
       "      <td>nan</td>\n",
       "      <td>0.00</td>\n",
       "      <td>0.00</td>\n",
       "    </tr>\n",
       "    <tr>\n",
       "      <th>30</th>\n",
       "      <td>photo_video</td>\n",
       "      <td>0.00</td>\n",
       "      <td>200,000.00</td>\n",
       "      <td>0.00</td>\n",
       "      <td>200,000.00</td>\n",
       "      <td>66,666.67</td>\n",
       "    </tr>\n",
       "    <tr>\n",
       "      <th>31</th>\n",
       "      <td>public_relations</td>\n",
       "      <td>0.00</td>\n",
       "      <td>1,360,000,000.00</td>\n",
       "      <td>0.00</td>\n",
       "      <td>1,360,000,000.00</td>\n",
       "      <td>258,602,900.74</td>\n",
       "    </tr>\n",
       "    <tr>\n",
       "      <th>32</th>\n",
       "      <td>real_estate</td>\n",
       "      <td>0.00</td>\n",
       "      <td>17,000.00</td>\n",
       "      <td>0.00</td>\n",
       "      <td>17,000.00</td>\n",
       "      <td>6,940.22</td>\n",
       "    </tr>\n",
       "    <tr>\n",
       "      <th>33</th>\n",
       "      <td>search</td>\n",
       "      <td>0.00</td>\n",
       "      <td>1,400,000,000.00</td>\n",
       "      <td>0.00</td>\n",
       "      <td>1,400,000,000.00</td>\n",
       "      <td>216,837,091.54</td>\n",
       "    </tr>\n",
       "    <tr>\n",
       "      <th>34</th>\n",
       "      <td>security</td>\n",
       "      <td>0.00</td>\n",
       "      <td>2,300,000,000.00</td>\n",
       "      <td>0.00</td>\n",
       "      <td>2,300,000,000.00</td>\n",
       "      <td>403,153,275.56</td>\n",
       "    </tr>\n",
       "    <tr>\n",
       "      <th>35</th>\n",
       "      <td>semiconductor</td>\n",
       "      <td>0.00</td>\n",
       "      <td>720,000,000.00</td>\n",
       "      <td>0.00</td>\n",
       "      <td>720,000,000.00</td>\n",
       "      <td>166,099,719.91</td>\n",
       "    </tr>\n",
       "    <tr>\n",
       "      <th>36</th>\n",
       "      <td>social</td>\n",
       "      <td>0.00</td>\n",
       "      <td>800,000,000.00</td>\n",
       "      <td>0.00</td>\n",
       "      <td>800,000,000.00</td>\n",
       "      <td>195,940,777.17</td>\n",
       "    </tr>\n",
       "    <tr>\n",
       "      <th>37</th>\n",
       "      <td>software</td>\n",
       "      <td>0.00</td>\n",
       "      <td>7,133,620,000.00</td>\n",
       "      <td>0.00</td>\n",
       "      <td>7,133,620,000.00</td>\n",
       "      <td>467,892,733.90</td>\n",
       "    </tr>\n",
       "    <tr>\n",
       "      <th>38</th>\n",
       "      <td>sports</td>\n",
       "      <td>0.00</td>\n",
       "      <td>207,000,000.00</td>\n",
       "      <td>0.00</td>\n",
       "      <td>207,000,000.00</td>\n",
       "      <td>78,057,670.99</td>\n",
       "    </tr>\n",
       "    <tr>\n",
       "      <th>39</th>\n",
       "      <td>transportation</td>\n",
       "      <td>0.00</td>\n",
       "      <td>0.00</td>\n",
       "      <td>0.00</td>\n",
       "      <td>0.00</td>\n",
       "      <td>0.00</td>\n",
       "    </tr>\n",
       "    <tr>\n",
       "      <th>40</th>\n",
       "      <td>travel</td>\n",
       "      <td>0.00</td>\n",
       "      <td>28,100,000,000.00</td>\n",
       "      <td>0.00</td>\n",
       "      <td>28,100,000,000.00</td>\n",
       "      <td>7,787,758,888.53</td>\n",
       "    </tr>\n",
       "    <tr>\n",
       "      <th>41</th>\n",
       "      <td>unknown</td>\n",
       "      <td>0.00</td>\n",
       "      <td>7,400,000,000.00</td>\n",
       "      <td>0.00</td>\n",
       "      <td>7,400,000,000.00</td>\n",
       "      <td>750,980,653.40</td>\n",
       "    </tr>\n",
       "    <tr>\n",
       "      <th>42</th>\n",
       "      <td>web</td>\n",
       "      <td>0.00</td>\n",
       "      <td>7,400,000,000.00</td>\n",
       "      <td>0.00</td>\n",
       "      <td>7,400,000,000.00</td>\n",
       "      <td>554,650,455.65</td>\n",
       "    </tr>\n",
       "  </tbody>\n",
       "</table>\n",
       "</div>"
      ],
      "text/plain": [
       "       category_code          median                max           min  \\\n",
       "0        advertising            0.00  39,000,000,000.00          0.00   \n",
       "1          analytics            0.00     337,000,000.00          0.00   \n",
       "2         automotive    1,250,000.00       5,120,000.00          0.00   \n",
       "3            biotech            0.00     315,000,000.00          0.00   \n",
       "4          cleantech            0.00     316,000,000.00          0.00   \n",
       "5         consulting            0.00     338,460,000.00          0.00   \n",
       "6             design            0.00                nan           nan   \n",
       "7          ecommerce            0.00  13,900,000,000.00          0.00   \n",
       "8          education            0.00     471,390,000.00          0.00   \n",
       "9         enterprise            0.00     915,000,000.00          0.00   \n",
       "10           fashion  203,475,000.00     400,000,000.00  6,950,000.00   \n",
       "11           finance            0.00  26,000,000,000.00          0.00   \n",
       "12       games_video            0.00  35,000,000,000.00          0.00   \n",
       "13        government            0.00                nan           nan   \n",
       "14          hardware            0.00   2,000,000,000.00          0.00   \n",
       "15            health            0.00     350,000,000.00          0.00   \n",
       "16       hospitality   50,950,000.00     101,900,000.00          0.00   \n",
       "17             legal            0.00     171,900,000.00          0.00   \n",
       "18             local            0.00                nan           nan   \n",
       "19     manufacturing            0.00               0.00          0.00   \n",
       "20           medical            0.00               0.00          0.00   \n",
       "21         messaging            0.00   3,500,000,000.00          0.00   \n",
       "22            mobile            0.00   3,400,000,000.00          0.00   \n",
       "23             music            0.00     415,000,000.00          0.00   \n",
       "24          nanotech            0.00               0.00          0.00   \n",
       "25   network_hosting            0.00   4,200,000,000.00          0.00   \n",
       "26              news            0.00   1,500,000,000.00          0.00   \n",
       "27         nonprofit            0.00      19,900,000.00          0.00   \n",
       "28             other            0.00     460,000,000.00          0.00   \n",
       "29              pets            0.00                nan           nan   \n",
       "30       photo_video            0.00         200,000.00          0.00   \n",
       "31  public_relations            0.00   1,360,000,000.00          0.00   \n",
       "32       real_estate            0.00          17,000.00          0.00   \n",
       "33            search            0.00   1,400,000,000.00          0.00   \n",
       "34          security            0.00   2,300,000,000.00          0.00   \n",
       "35     semiconductor            0.00     720,000,000.00          0.00   \n",
       "36            social            0.00     800,000,000.00          0.00   \n",
       "37          software            0.00   7,133,620,000.00          0.00   \n",
       "38            sports            0.00     207,000,000.00          0.00   \n",
       "39    transportation            0.00               0.00          0.00   \n",
       "40            travel            0.00  28,100,000,000.00          0.00   \n",
       "41           unknown            0.00   7,400,000,000.00          0.00   \n",
       "42               web            0.00   7,400,000,000.00          0.00   \n",
       "\n",
       "          price_range           std_dev  \n",
       "0   39,000,000,000.00  2,576,116,339.31  \n",
       "1      337,000,000.00     81,096,460.13  \n",
       "2        5,120,000.00      2,445,969.47  \n",
       "3      315,000,000.00    114,350,680.90  \n",
       "4      316,000,000.00     76,163,048.71  \n",
       "5      338,460,000.00     97,344,297.49  \n",
       "6                0.00              0.00  \n",
       "7   13,900,000,000.00  1,425,344,199.04  \n",
       "8      471,390,000.00    140,985,340.60  \n",
       "9      915,000,000.00    153,849,588.81  \n",
       "10     393,050,000.00    277,928,320.35  \n",
       "11  26,000,000,000.00  5,300,824,519.72  \n",
       "12  35,000,000,000.00  2,352,215,936.12  \n",
       "13               0.00              0.00  \n",
       "14   2,000,000,000.00    264,391,274.42  \n",
       "15     350,000,000.00    105,544,320.72  \n",
       "16     101,900,000.00     72,054,181.00  \n",
       "17     171,900,000.00     76,876,017.07  \n",
       "18               0.00              0.00  \n",
       "19               0.00              0.00  \n",
       "20               0.00              0.00  \n",
       "21   3,500,000,000.00    782,396,175.39  \n",
       "22   3,400,000,000.00    337,639,199.86  \n",
       "23     415,000,000.00    116,693,499.57  \n",
       "24               0.00              0.00  \n",
       "25   4,200,000,000.00    537,208,573.28  \n",
       "26   1,500,000,000.00    299,448,645.10  \n",
       "27      19,900,000.00     11,489,270.36  \n",
       "28     460,000,000.00     94,122,846.19  \n",
       "29               0.00              0.00  \n",
       "30         200,000.00         66,666.67  \n",
       "31   1,360,000,000.00    258,602,900.74  \n",
       "32          17,000.00          6,940.22  \n",
       "33   1,400,000,000.00    216,837,091.54  \n",
       "34   2,300,000,000.00    403,153,275.56  \n",
       "35     720,000,000.00    166,099,719.91  \n",
       "36     800,000,000.00    195,940,777.17  \n",
       "37   7,133,620,000.00    467,892,733.90  \n",
       "38     207,000,000.00     78,057,670.99  \n",
       "39               0.00              0.00  \n",
       "40  28,100,000,000.00  7,787,758,888.53  \n",
       "41   7,400,000,000.00    750,980,653.40  \n",
       "42   7,400,000,000.00    554,650,455.65  "
      ]
     },
     "metadata": {},
     "output_type": "display_data"
    }
   ],
   "source": [
    "# Создание нового DataFrame для статистических показателей\n",
    "category_prices = ac_merged_df.groupby('category_code')['price_amount'].agg(\n",
    "    median='median',\n",
    "    max='max',\n",
    "    min='min',\n",
    "    price_range=lambda x: x.max() - x.min(),\n",
    "    std_dev='std'\n",
    ").reset_index()\n",
    "\n",
    "# Округляем данные до двух знаков после запятой для улучшения читаемости\n",
    "category_prices = category_prices.round({'median': 2, 'max': 2, 'min': 2, 'price_range': 2, 'std_dev': 2})\n",
    "\n",
    "# Заполняем NaN значениями 0 для столбцов 'std_dev', 'mean', 'price_range', если они отсутствуют\n",
    "category_prices.fillna({'std_dev': 0, 'median': 0, 'price_range': 0}, inplace=True)\n",
    "\n",
    "# Форматируем числа для более удобного восприятия: добавляем разделители тысяч и округляем до двух знаков\n",
    "category_prices['median'] = category_prices['median'].apply(lambda x: f'{x:,.2f}')\n",
    "category_prices['max'] = category_prices['max'].apply(lambda x: f'{x:,.2f}')\n",
    "category_prices['min'] = category_prices['min'].apply(lambda x: f'{x:,.2f}')\n",
    "category_prices['price_range'] = category_prices['price_range'].apply(lambda x: f'{x:,.2f}')\n",
    "category_prices['std_dev'] = category_prices['std_dev'].apply(lambda x: f'{x:,.2f}')\n",
    "\n",
    "# Отображаем таблицу с улучшенным форматом\n",
    "display(category_prices)\n"
   ]
  },
  {
   "cell_type": "markdown",
   "metadata": {},
   "source": [
    "#### Промежуточные выводы:\n",
    "\n",
    "Категории с наибольшими ценами:\n",
    "- advertising: 39,000,000,000\n",
    "- games_video: 35,000,000,000\n",
    "- travel: 28,100,000,000\n",
    "- finance: 26,000,000,000\n",
    "- web: 7,400,000,000\n",
    "\n",
    "Категории с наибольшим разбросом цен:\n",
    "\n",
    "- advertising: 39,000,000,000 (разброс = 39,000,000,000)\n",
    "- games_video: 35,000,000,000 (разброс = 35,000,000,000)\n",
    "- travel: 28,100,000,000 (разброс = 28,100,000,000)\n",
    "- finance: 26,000,000,000 (разброс = 26,000,000,000)\n",
    "- web: 7,400,000,000 (разброс = 7,400,000,000)\n",
    "\n",
    "Вывод:\n",
    "Наибольшие цены (по максимальным ценам) имеют категории: advertising, games_video, travel, finance, web.\n",
    "Наибольший разброс цен (по разнице между максимальной и минимальной ценой) также наблюдается в категориях: advertising, games_video, travel, finance, web.\n",
    "Таким образом, категории, такие как advertising и games_video, отличаются и по величине цен, и по величине разброса цен, что делает их значимыми для анализа стартапов с высокими ценами и высокими рисками из-за большого разброса цен."
   ]
  },
  {
   "cell_type": "markdown",
   "metadata": {
    "id": "ADOfyVY_rJg3"
   },
   "source": [
    "\n",
    "### 3.5. Сколько раундов продержится стартап перед покупкой\n",
    "\n",
    "* Необходимо проанализировать столбец `funding_rounds`. Исследуйте значения столбца. Заказчика интересует типичное значение количества раундов для каждого возможного статуса стартапа.\n",
    "\n",
    "* Постройте график, который отображает, сколько в среднем раундов финансирования проходило для стартапов из каждой группы. Сделайте выводы."
   ]
  },
  {
   "cell_type": "code",
   "execution_count": 76,
   "metadata": {
    "id": "hgXMPC4WrJg3",
    "scrolled": true,
    "vscode": {
     "languageId": "plaintext"
    }
   },
   "outputs": [
    {
     "data": {
      "text/plain": [
       "count    40747.000000\n",
       "mean         1.291531\n",
       "std          1.264604\n",
       "min          0.000000\n",
       "25%          1.000000\n",
       "50%          1.000000\n",
       "75%          2.000000\n",
       "max         15.000000\n",
       "Name: funding_rounds, dtype: float64"
      ]
     },
     "metadata": {},
     "output_type": "display_data"
    }
   ],
   "source": [
    "# Изучаем значения столбца funding_rounds\n",
    "display(filtered_df['funding_rounds'].describe())"
   ]
  },
  {
   "cell_type": "code",
   "execution_count": 77,
   "metadata": {},
   "outputs": [
    {
     "data": {
      "text/html": [
       "<div>\n",
       "<style scoped>\n",
       "    .dataframe tbody tr th:only-of-type {\n",
       "        vertical-align: middle;\n",
       "    }\n",
       "\n",
       "    .dataframe tbody tr th {\n",
       "        vertical-align: top;\n",
       "    }\n",
       "\n",
       "    .dataframe thead th {\n",
       "        text-align: right;\n",
       "    }\n",
       "</style>\n",
       "<table border=\"1\" class=\"dataframe\">\n",
       "  <thead>\n",
       "    <tr style=\"text-align: right;\">\n",
       "      <th></th>\n",
       "      <th>status</th>\n",
       "      <th>funding_rounds</th>\n",
       "    </tr>\n",
       "  </thead>\n",
       "  <tbody>\n",
       "    <tr>\n",
       "      <th>2</th>\n",
       "      <td>ipo</td>\n",
       "      <td>1.934375</td>\n",
       "    </tr>\n",
       "    <tr>\n",
       "      <th>3</th>\n",
       "      <td>operating</td>\n",
       "      <td>1.522658</td>\n",
       "    </tr>\n",
       "    <tr>\n",
       "      <th>1</th>\n",
       "      <td>closed</td>\n",
       "      <td>1.381453</td>\n",
       "    </tr>\n",
       "    <tr>\n",
       "      <th>0</th>\n",
       "      <td>acquired</td>\n",
       "      <td>0.523526</td>\n",
       "    </tr>\n",
       "  </tbody>\n",
       "</table>\n",
       "</div>"
      ],
      "text/plain": [
       "      status  funding_rounds\n",
       "2        ipo        1.934375\n",
       "3  operating        1.522658\n",
       "1     closed        1.381453\n",
       "0   acquired        0.523526"
      ]
     },
     "metadata": {},
     "output_type": "display_data"
    },
    {
     "data": {
      "image/png": "[encoded data removed]",
      "text/plain": [
       "<Figure size 864x432 with 1 Axes>"
      ]
     },
     "metadata": {
      "needs_background": "light"
     },
     "output_type": "display_data"
    }
   ],
   "source": [
    "# 2. Смотрим распределение по статусу стартапа\n",
    "funding_by_status = filtered_df.groupby('status')['funding_rounds'].mean().reset_index()\n",
    "funding_by_status = funding_by_status.sort_values(by='funding_rounds', ascending=False) \n",
    "display(funding_by_status)\n",
    "# 3. Строим график\n",
    "plt.figure(figsize=(12, 6))\n",
    "sns.barplot(x='status', y='funding_rounds', data=funding_by_status,color='c')\n",
    "\n",
    "# Настройки графика\n",
    "plt.title('Среднее количество раундов финансирования по статусу стартапа')\n",
    "plt.xlabel('Статус стартапа')\n",
    "plt.ylabel('Среднее количество раундов финансирования')\n",
    "plt.xticks(rotation=45)\n",
    "plt.tight_layout()\n",
    "\n",
    "# Показываем график\n",
    "plt.show()"
   ]
  },
  {
   "cell_type": "markdown",
   "metadata": {},
   "source": [
    "#### Промежуточные выводы:\n",
    "\n",
    "- Стартапы, которые проходят несколько раундов, как правило, становятся более зрелыми и устойчивыми, что соответствует IPO и операционным компаниям.\n",
    "- Закрытые стартапы, как правило, не успевают пройти столько раундов, а стартапы, приобретенные другими компаниями, часто привлекают финансирование на ранних этапах, что также может быть связано с тем, что крупные игроки покупают перспективные проекты на стадии их роста."
   ]
  },
  {
   "cell_type": "markdown",
   "metadata": {},
   "source": [
    "### Общий промежуточный вывод\n",
    "После объединения данных количество строк не изменилось, но количество колонок увеличилось на 6. Основная часть финансирования стартапов находится в диапазоне от 2 до 34 миллионов, с двумя значительными выбросами, что указывает на возможные проблемы у компаний, проданных за 0 или 1 доллар. Большинство стартапов не привлекали раунды финансирования, с средним количеством раундов 0.27 и стандартным отклонением 0.78. Выбросы, превышающие верхнюю границу, составляют 7.14%, что говорит о наличии значительных аномалий. Категория \"Software\" представляет собой перспективную отрасль для анализа и выявления инвестиционных возможностей."
   ]
  },
  {
   "cell_type": "markdown",
   "metadata": {
    "id": "VAFEZ2HBrJg3"
   },
   "source": [
    "\n",
    "## Шаг 4. Итоговый вывод и рекомендации\n",
    "\n",
    "Опишите, что было сделано в проекте, какие были сделаны выводы, подкрепляют ли они друг друга или заставляют сомневаться в полученных результатах."
   ]
  },
  {
   "cell_type": "markdown",
   "metadata": {},
   "source": [
    "\n",
    "В проекте была проведена стандартизация данных, включая преобразование названий столбцов в формат snake_case, что улучшило их структурированность и читаемость. Дублирующиеся столбцы, такие как company_id и company id, были обработаны. Приведены данные к соответствующему формату, включая преобразование столбцов с датами и числовыми значениями. В ходе агрегирования по компаниям были выявлены ключевые показатели, такие как средства, раунды и образование сотрудников.\n",
    "\n",
    "Данные демонстрируют сильную асимметрию с высоким средним значением (10.14 млн), что обусловлено выбросами, особенно стартапами с большими суммами финансирования. Четверть компаний имеют нулевое финансирование, а максимальное значение (5.7 млрд) значительно превышает 75-й перцентиль (5.65 млн), что подтверждает наличие выбросов. Основная масса данных сосредоточена в нижнем диапазоне (до 5.65 млн), а 7.14% значений превышают верхнюю границу выбросов. Категории с высокими ценами и разбросом (advertising, games_video, travel, finance, web) требуют особого внимания из-за ценовой нестабильности. Стартапы, прошедшие несколько раундов, как правило, более зрелые, в то время как закрытые и приобретенные компании часто имеют меньший потенциал для роста.\n",
    "- Обратить внимание на стартапы в категориях с высокими ценами и большим разбросом (advertising, games_video, travel, finance, web), так как они могут иметь высокие риски из-за нестабильности цен.\n",
    "- Стартапы, прошедшие несколько раундов, обычно более зрелые. "
   ]
  }
 ],
 "metadata": {
  "ExecuteTimeLog": [
   {
    "duration": 55,
    "start_time": "2024-12-16T08:16:52.320Z"
   },
   {
    "duration": 385,
    "start_time": "2024-12-16T08:20:15.015Z"
   },
   {
    "duration": 865,
    "start_time": "2024-12-16T08:20:53.565Z"
   },
   {
    "duration": 107,
    "start_time": "2024-12-16T08:20:54.431Z"
   },
   {
    "duration": 3735,
    "start_time": "2024-12-16T08:21:44.283Z"
   },
   {
    "duration": 2,
    "start_time": "2024-12-16T08:21:48.021Z"
   },
   {
    "duration": 7,
    "start_time": "2024-12-16T08:21:48.025Z"
   },
   {
    "duration": 61,
    "start_time": "2024-12-16T08:21:48.034Z"
   },
   {
    "duration": 63,
    "start_time": "2024-12-16T08:31:43.697Z"
   },
   {
    "duration": 24,
    "start_time": "2024-12-16T08:32:16.199Z"
   },
   {
    "duration": 2283,
    "start_time": "2024-12-16T08:33:45.734Z"
   },
   {
    "duration": 22,
    "start_time": "2024-12-16T08:37:30.380Z"
   },
   {
    "duration": 67,
    "start_time": "2024-12-16T08:51:42.696Z"
   },
   {
    "duration": 30,
    "start_time": "2024-12-16T08:53:16.489Z"
   },
   {
    "duration": 5,
    "start_time": "2024-12-16T08:53:36.919Z"
   },
   {
    "duration": 56,
    "start_time": "2024-12-16T08:54:56.786Z"
   },
   {
    "duration": 4,
    "start_time": "2024-12-16T08:54:57.313Z"
   },
   {
    "duration": 24,
    "start_time": "2024-12-16T08:56:43.007Z"
   },
   {
    "duration": 4,
    "start_time": "2024-12-16T08:56:43.474Z"
   },
   {
    "duration": 26,
    "start_time": "2024-12-16T08:57:30.116Z"
   },
   {
    "duration": 4,
    "start_time": "2024-12-16T08:57:33.179Z"
   },
   {
    "duration": 20,
    "start_time": "2024-12-16T09:00:15.111Z"
   },
   {
    "duration": 13,
    "start_time": "2024-12-16T09:01:22.746Z"
   },
   {
    "duration": 1491,
    "start_time": "2024-12-16T09:03:33.463Z"
   },
   {
    "duration": 2699,
    "start_time": "2024-12-16T09:04:11.804Z"
   },
   {
    "duration": 386,
    "start_time": "2024-12-16T09:04:14.505Z"
   },
   {
    "duration": 762,
    "start_time": "2024-12-16T09:04:14.893Z"
   },
   {
    "duration": 134,
    "start_time": "2024-12-16T09:04:15.656Z"
   },
   {
    "duration": 2164,
    "start_time": "2024-12-16T09:04:15.791Z"
   },
   {
    "duration": 25,
    "start_time": "2024-12-16T09:04:17.957Z"
   },
   {
    "duration": 56,
    "start_time": "2024-12-16T09:04:18.010Z"
   },
   {
    "duration": 4,
    "start_time": "2024-12-16T09:04:18.067Z"
   },
   {
    "duration": 552,
    "start_time": "2024-12-16T09:04:18.072Z"
   },
   {
    "duration": 546,
    "start_time": "2024-12-16T09:10:22.930Z"
   },
   {
    "duration": 482,
    "start_time": "2024-12-16T09:10:39.059Z"
   },
   {
    "duration": 485,
    "start_time": "2024-12-16T09:10:44.227Z"
   },
   {
    "duration": 117,
    "start_time": "2024-12-16T09:11:42.397Z"
   },
   {
    "duration": 182,
    "start_time": "2024-12-16T09:12:18.987Z"
   },
   {
    "duration": 174,
    "start_time": "2024-12-16T09:31:49.273Z"
   },
   {
    "duration": 11,
    "start_time": "2024-12-16T09:34:40.554Z"
   },
   {
    "duration": 95,
    "start_time": "2024-12-16T09:35:06.173Z"
   },
   {
    "duration": 20,
    "start_time": "2024-12-16T09:35:37.425Z"
   },
   {
    "duration": 15,
    "start_time": "2024-12-16T09:36:14.310Z"
   },
   {
    "duration": 1172,
    "start_time": "2024-12-16T09:46:22.604Z"
   },
   {
    "duration": 986,
    "start_time": "2024-12-16T09:46:25.754Z"
   },
   {
    "duration": 784,
    "start_time": "2024-12-16T09:46:48.386Z"
   },
   {
    "duration": 2619,
    "start_time": "2024-12-16T09:46:55.991Z"
   },
   {
    "duration": 395,
    "start_time": "2024-12-16T09:46:58.612Z"
   },
   {
    "duration": 675,
    "start_time": "2024-12-16T09:46:59.008Z"
   },
   {
    "duration": 39,
    "start_time": "2024-12-16T09:46:59.684Z"
   },
   {
    "duration": 2099,
    "start_time": "2024-12-16T09:46:59.725Z"
   },
   {
    "duration": 17,
    "start_time": "2024-12-16T09:47:01.826Z"
   },
   {
    "duration": 13,
    "start_time": "2024-12-16T09:47:01.845Z"
   },
   {
    "duration": 76,
    "start_time": "2024-12-16T09:47:01.859Z"
   },
   {
    "duration": 5,
    "start_time": "2024-12-16T09:47:01.937Z"
   },
   {
    "duration": 583,
    "start_time": "2024-12-16T09:47:01.944Z"
   },
   {
    "duration": 11,
    "start_time": "2024-12-16T09:47:02.528Z"
   },
   {
    "duration": 119,
    "start_time": "2024-12-16T09:47:02.540Z"
   },
   {
    "duration": 18,
    "start_time": "2024-12-16T09:47:02.660Z"
   },
   {
    "duration": 58,
    "start_time": "2024-12-16T09:47:02.680Z"
   },
   {
    "duration": 41,
    "start_time": "2024-12-16T09:47:02.740Z"
   },
   {
    "duration": 51,
    "start_time": "2024-12-16T09:47:02.782Z"
   },
   {
    "duration": 67,
    "start_time": "2024-12-16T09:47:02.834Z"
   },
   {
    "duration": 856,
    "start_time": "2024-12-16T09:48:22.492Z"
   },
   {
    "duration": 2588,
    "start_time": "2024-12-16T09:48:31.504Z"
   },
   {
    "duration": 435,
    "start_time": "2024-12-16T09:48:34.095Z"
   },
   {
    "duration": 706,
    "start_time": "2024-12-16T09:48:34.532Z"
   },
   {
    "duration": 40,
    "start_time": "2024-12-16T09:48:35.239Z"
   },
   {
    "duration": 2937,
    "start_time": "2024-12-16T09:48:35.281Z"
   },
   {
    "duration": 27,
    "start_time": "2024-12-16T09:48:38.219Z"
   },
   {
    "duration": 7,
    "start_time": "2024-12-16T09:48:38.248Z"
   },
   {
    "duration": 97,
    "start_time": "2024-12-16T09:48:38.257Z"
   },
   {
    "duration": 5,
    "start_time": "2024-12-16T09:48:38.355Z"
   },
   {
    "duration": 574,
    "start_time": "2024-12-16T09:48:38.362Z"
   },
   {
    "duration": 10,
    "start_time": "2024-12-16T09:48:38.938Z"
   },
   {
    "duration": 95,
    "start_time": "2024-12-16T09:48:38.950Z"
   },
   {
    "duration": 18,
    "start_time": "2024-12-16T09:48:39.047Z"
   },
   {
    "duration": 14,
    "start_time": "2024-12-16T09:48:39.067Z"
   },
   {
    "duration": 29,
    "start_time": "2024-12-16T09:48:39.083Z"
   },
   {
    "duration": 17,
    "start_time": "2024-12-16T09:48:39.114Z"
   },
   {
    "duration": 35,
    "start_time": "2024-12-16T09:48:39.133Z"
   },
   {
    "duration": 919,
    "start_time": "2024-12-16T09:49:21.646Z"
   },
   {
    "duration": 2592,
    "start_time": "2024-12-16T09:49:31.270Z"
   },
   {
    "duration": 354,
    "start_time": "2024-12-16T09:49:33.864Z"
   },
   {
    "duration": 707,
    "start_time": "2024-12-16T09:49:34.219Z"
   },
   {
    "duration": 39,
    "start_time": "2024-12-16T09:49:34.927Z"
   },
   {
    "duration": 1750,
    "start_time": "2024-12-16T09:49:34.968Z"
   },
   {
    "duration": 23,
    "start_time": "2024-12-16T09:49:36.719Z"
   },
   {
    "duration": 47,
    "start_time": "2024-12-16T09:49:36.744Z"
   },
   {
    "duration": 52,
    "start_time": "2024-12-16T09:49:36.792Z"
   },
   {
    "duration": 4,
    "start_time": "2024-12-16T09:49:36.846Z"
   },
   {
    "duration": 645,
    "start_time": "2024-12-16T09:49:36.851Z"
   },
   {
    "duration": 23,
    "start_time": "2024-12-16T09:49:37.498Z"
   },
   {
    "duration": 93,
    "start_time": "2024-12-16T09:49:37.522Z"
   },
   {
    "duration": 18,
    "start_time": "2024-12-16T09:49:37.616Z"
   },
   {
    "duration": 16,
    "start_time": "2024-12-16T09:49:37.636Z"
   },
   {
    "duration": 11,
    "start_time": "2024-12-16T09:49:37.653Z"
   },
   {
    "duration": 19,
    "start_time": "2024-12-16T09:49:37.666Z"
   },
   {
    "duration": 55,
    "start_time": "2024-12-16T09:49:37.686Z"
   },
   {
    "duration": 880,
    "start_time": "2024-12-16T09:52:01.020Z"
   },
   {
    "duration": 2543,
    "start_time": "2024-12-16T09:52:11.681Z"
   },
   {
    "duration": 367,
    "start_time": "2024-12-16T09:52:14.226Z"
   },
   {
    "duration": 692,
    "start_time": "2024-12-16T09:52:14.594Z"
   },
   {
    "duration": 44,
    "start_time": "2024-12-16T09:52:15.289Z"
   },
   {
    "duration": 1809,
    "start_time": "2024-12-16T09:52:15.334Z"
   },
   {
    "duration": 19,
    "start_time": "2024-12-16T09:52:17.145Z"
   },
   {
    "duration": 8,
    "start_time": "2024-12-16T09:52:17.166Z"
   },
   {
    "duration": 269,
    "start_time": "2024-12-16T09:52:17.175Z"
   },
   {
    "duration": 28,
    "start_time": "2024-12-16T09:52:17.446Z"
   },
   {
    "duration": 4,
    "start_time": "2024-12-16T09:52:17.476Z"
   },
   {
    "duration": 624,
    "start_time": "2024-12-16T09:52:17.481Z"
   },
   {
    "duration": 12,
    "start_time": "2024-12-16T09:52:18.107Z"
   },
   {
    "duration": 99,
    "start_time": "2024-12-16T09:52:18.121Z"
   },
   {
    "duration": 21,
    "start_time": "2024-12-16T09:52:18.221Z"
   },
   {
    "duration": 18,
    "start_time": "2024-12-16T09:52:18.243Z"
   },
   {
    "duration": 12,
    "start_time": "2024-12-16T09:52:18.262Z"
   },
   {
    "duration": 39,
    "start_time": "2024-12-16T09:52:18.275Z"
   },
   {
    "duration": 34,
    "start_time": "2024-12-16T09:52:18.315Z"
   },
   {
    "duration": 86,
    "start_time": "2024-12-16T09:53:27.565Z"
   },
   {
    "duration": 925,
    "start_time": "2024-12-16T09:57:47.414Z"
   },
   {
    "duration": 826,
    "start_time": "2024-12-16T09:58:14.856Z"
   },
   {
    "duration": 2590,
    "start_time": "2024-12-16T09:58:22.390Z"
   },
   {
    "duration": 421,
    "start_time": "2024-12-16T09:58:24.982Z"
   },
   {
    "duration": 694,
    "start_time": "2024-12-16T09:58:25.405Z"
   },
   {
    "duration": 48,
    "start_time": "2024-12-16T09:58:26.101Z"
   },
   {
    "duration": 2055,
    "start_time": "2024-12-16T09:58:26.151Z"
   },
   {
    "duration": 24,
    "start_time": "2024-12-16T09:58:28.208Z"
   },
   {
    "duration": 7,
    "start_time": "2024-12-16T09:58:28.233Z"
   },
   {
    "duration": 118,
    "start_time": "2024-12-16T09:58:28.241Z"
   },
   {
    "duration": 50,
    "start_time": "2024-12-16T09:58:28.361Z"
   },
   {
    "duration": 4,
    "start_time": "2024-12-16T09:58:28.413Z"
   },
   {
    "duration": 565,
    "start_time": "2024-12-16T09:58:28.418Z"
   },
   {
    "duration": 13,
    "start_time": "2024-12-16T09:58:28.984Z"
   },
   {
    "duration": 100,
    "start_time": "2024-12-16T09:58:28.998Z"
   },
   {
    "duration": 29,
    "start_time": "2024-12-16T09:58:29.101Z"
   },
   {
    "duration": 17,
    "start_time": "2024-12-16T09:58:29.132Z"
   },
   {
    "duration": 13,
    "start_time": "2024-12-16T09:58:29.150Z"
   },
   {
    "duration": 11,
    "start_time": "2024-12-16T09:58:29.164Z"
   },
   {
    "duration": 73,
    "start_time": "2024-12-16T09:58:29.177Z"
   },
   {
    "duration": 24,
    "start_time": "2024-12-16T10:03:06.089Z"
   },
   {
    "duration": 2625,
    "start_time": "2024-12-16T10:03:12.826Z"
   },
   {
    "duration": 348,
    "start_time": "2024-12-16T10:03:15.453Z"
   },
   {
    "duration": 697,
    "start_time": "2024-12-16T10:03:15.802Z"
   },
   {
    "duration": 47,
    "start_time": "2024-12-16T10:03:16.501Z"
   },
   {
    "duration": 2217,
    "start_time": "2024-12-16T10:03:16.550Z"
   },
   {
    "duration": 42,
    "start_time": "2024-12-16T10:03:18.769Z"
   },
   {
    "duration": 6,
    "start_time": "2024-12-16T10:03:18.812Z"
   },
   {
    "duration": 93,
    "start_time": "2024-12-16T10:03:18.820Z"
   },
   {
    "duration": 51,
    "start_time": "2024-12-16T10:03:18.914Z"
   },
   {
    "duration": 4,
    "start_time": "2024-12-16T10:03:18.966Z"
   },
   {
    "duration": 543,
    "start_time": "2024-12-16T10:03:18.971Z"
   },
   {
    "duration": 10,
    "start_time": "2024-12-16T10:03:19.515Z"
   },
   {
    "duration": 90,
    "start_time": "2024-12-16T10:03:19.526Z"
   },
   {
    "duration": 23,
    "start_time": "2024-12-16T10:03:19.618Z"
   },
   {
    "duration": 20,
    "start_time": "2024-12-16T10:03:19.643Z"
   },
   {
    "duration": 12,
    "start_time": "2024-12-16T10:03:19.664Z"
   },
   {
    "duration": 8,
    "start_time": "2024-12-16T10:03:19.677Z"
   },
   {
    "duration": 32,
    "start_time": "2024-12-16T10:03:19.711Z"
   },
   {
    "duration": 8,
    "start_time": "2024-12-16T10:16:13.496Z"
   },
   {
    "duration": 94,
    "start_time": "2024-12-16T10:18:05.897Z"
   },
   {
    "duration": 1087,
    "start_time": "2024-12-16T10:29:18.992Z"
   },
   {
    "duration": 2566,
    "start_time": "2024-12-16T10:29:27.695Z"
   },
   {
    "duration": 330,
    "start_time": "2024-12-16T10:29:30.263Z"
   },
   {
    "duration": 686,
    "start_time": "2024-12-16T10:29:30.595Z"
   },
   {
    "duration": 42,
    "start_time": "2024-12-16T10:29:31.282Z"
   },
   {
    "duration": 2345,
    "start_time": "2024-12-16T10:29:31.326Z"
   },
   {
    "duration": 16,
    "start_time": "2024-12-16T10:29:33.673Z"
   },
   {
    "duration": 7,
    "start_time": "2024-12-16T10:29:33.711Z"
   },
   {
    "duration": 29,
    "start_time": "2024-12-16T10:29:33.719Z"
   },
   {
    "duration": 88,
    "start_time": "2024-12-16T10:29:33.749Z"
   },
   {
    "duration": 50,
    "start_time": "2024-12-16T10:29:33.839Z"
   },
   {
    "duration": 4,
    "start_time": "2024-12-16T10:29:33.890Z"
   },
   {
    "duration": 528,
    "start_time": "2024-12-16T10:29:33.911Z"
   },
   {
    "duration": 9,
    "start_time": "2024-12-16T10:29:34.440Z"
   },
   {
    "duration": 11,
    "start_time": "2024-12-16T10:29:34.451Z"
   },
   {
    "duration": 92,
    "start_time": "2024-12-16T10:29:34.463Z"
   },
   {
    "duration": 78,
    "start_time": "2024-12-16T10:29:34.557Z"
   },
   {
    "duration": 59,
    "start_time": "2024-12-16T10:29:34.636Z"
   },
   {
    "duration": 0,
    "start_time": "2024-12-16T10:29:34.696Z"
   },
   {
    "duration": 0,
    "start_time": "2024-12-16T10:29:34.697Z"
   },
   {
    "duration": 0,
    "start_time": "2024-12-16T10:29:34.697Z"
   },
   {
    "duration": 0,
    "start_time": "2024-12-16T10:29:34.698Z"
   },
   {
    "duration": 0,
    "start_time": "2024-12-16T10:29:34.699Z"
   },
   {
    "duration": 20,
    "start_time": "2024-12-16T11:41:14.490Z"
   },
   {
    "duration": 13,
    "start_time": "2024-12-16T12:02:04.097Z"
   },
   {
    "duration": 119,
    "start_time": "2024-12-16T12:14:40.402Z"
   },
   {
    "duration": 9,
    "start_time": "2024-12-16T12:14:48.279Z"
   },
   {
    "duration": 78,
    "start_time": "2024-12-16T12:20:56.592Z"
   },
   {
    "duration": 48,
    "start_time": "2024-12-16T12:21:11.980Z"
   },
   {
    "duration": 11,
    "start_time": "2024-12-16T12:25:07.703Z"
   },
   {
    "duration": 8,
    "start_time": "2024-12-16T12:28:30.666Z"
   },
   {
    "duration": 10,
    "start_time": "2024-12-16T12:29:14.195Z"
   },
   {
    "duration": 28,
    "start_time": "2024-12-16T12:29:14.211Z"
   },
   {
    "duration": 9,
    "start_time": "2024-12-16T12:29:41.593Z"
   },
   {
    "duration": 8,
    "start_time": "2024-12-16T12:30:03.828Z"
   },
   {
    "duration": 294,
    "start_time": "2024-12-16T12:33:45.716Z"
   },
   {
    "duration": 10,
    "start_time": "2024-12-16T12:49:33.447Z"
   },
   {
    "duration": 1031,
    "start_time": "2024-12-16T12:55:25.464Z"
   },
   {
    "duration": 5,
    "start_time": "2024-12-16T12:55:32.904Z"
   },
   {
    "duration": 4,
    "start_time": "2024-12-16T12:57:26.696Z"
   },
   {
    "duration": 5,
    "start_time": "2024-12-16T13:03:05.203Z"
   },
   {
    "duration": 10,
    "start_time": "2024-12-16T13:14:36.344Z"
   },
   {
    "duration": 95,
    "start_time": "2024-12-16T13:14:44.163Z"
   },
   {
    "duration": 11,
    "start_time": "2024-12-16T13:14:48.920Z"
   },
   {
    "duration": 11,
    "start_time": "2024-12-16T13:14:54.267Z"
   },
   {
    "duration": 3,
    "start_time": "2024-12-16T13:18:19.953Z"
   },
   {
    "duration": 18,
    "start_time": "2024-12-16T13:18:27.654Z"
   },
   {
    "duration": 10,
    "start_time": "2024-12-16T13:18:56.337Z"
   },
   {
    "duration": 15,
    "start_time": "2024-12-16T13:19:04.187Z"
   },
   {
    "duration": 65,
    "start_time": "2024-12-16T13:25:47.569Z"
   },
   {
    "duration": 50,
    "start_time": "2024-12-16T13:26:13.616Z"
   },
   {
    "duration": 56,
    "start_time": "2024-12-16T13:29:01.672Z"
   },
   {
    "duration": 21,
    "start_time": "2024-12-16T13:29:48.835Z"
   },
   {
    "duration": 31,
    "start_time": "2024-12-16T13:30:10.622Z"
   },
   {
    "duration": 231,
    "start_time": "2024-12-16T13:31:42.753Z"
   },
   {
    "duration": 177,
    "start_time": "2024-12-16T13:40:18.201Z"
   },
   {
    "duration": 44,
    "start_time": "2024-12-16T13:40:28.699Z"
   },
   {
    "duration": 38,
    "start_time": "2024-12-16T13:40:59.743Z"
   },
   {
    "duration": 46,
    "start_time": "2024-12-16T13:41:31.792Z"
   },
   {
    "duration": 32,
    "start_time": "2024-12-16T13:42:05.739Z"
   },
   {
    "duration": 98,
    "start_time": "2024-12-16T13:42:38.747Z"
   },
   {
    "duration": 46,
    "start_time": "2024-12-16T13:49:00.510Z"
   },
   {
    "duration": 45,
    "start_time": "2024-12-16T13:49:21.423Z"
   },
   {
    "duration": 27,
    "start_time": "2024-12-16T13:53:00.611Z"
   },
   {
    "duration": 7,
    "start_time": "2024-12-16T13:53:29.042Z"
   },
   {
    "duration": 7,
    "start_time": "2024-12-16T13:53:52.747Z"
   },
   {
    "duration": 75,
    "start_time": "2024-12-16T13:54:20.602Z"
   },
   {
    "duration": 5,
    "start_time": "2024-12-16T13:54:35.841Z"
   },
   {
    "duration": 11,
    "start_time": "2024-12-16T13:56:13.052Z"
   },
   {
    "duration": 35,
    "start_time": "2024-12-16T13:57:19.213Z"
   },
   {
    "duration": 25,
    "start_time": "2024-12-16T13:57:53.422Z"
   },
   {
    "duration": 24,
    "start_time": "2024-12-16T13:58:06.717Z"
   },
   {
    "duration": 31,
    "start_time": "2024-12-16T13:58:18.523Z"
   },
   {
    "duration": 958,
    "start_time": "2024-12-16T14:01:22.768Z"
   },
   {
    "duration": 26,
    "start_time": "2024-12-16T14:02:48.631Z"
   },
   {
    "duration": 4,
    "start_time": "2024-12-16T14:02:49.271Z"
   },
   {
    "duration": 3532,
    "start_time": "2024-12-16T14:03:26.731Z"
   },
   {
    "duration": 354,
    "start_time": "2024-12-16T14:03:30.265Z"
   },
   {
    "duration": 743,
    "start_time": "2024-12-16T14:03:30.621Z"
   },
   {
    "duration": 40,
    "start_time": "2024-12-16T14:03:31.366Z"
   },
   {
    "duration": 2773,
    "start_time": "2024-12-16T14:03:31.408Z"
   },
   {
    "duration": 35,
    "start_time": "2024-12-16T14:03:34.183Z"
   },
   {
    "duration": 10,
    "start_time": "2024-12-16T14:03:34.221Z"
   },
   {
    "duration": 32,
    "start_time": "2024-12-16T14:03:34.233Z"
   },
   {
    "duration": 107,
    "start_time": "2024-12-16T14:03:34.267Z"
   },
   {
    "duration": 61,
    "start_time": "2024-12-16T14:03:34.377Z"
   },
   {
    "duration": 5,
    "start_time": "2024-12-16T14:03:34.439Z"
   },
   {
    "duration": 625,
    "start_time": "2024-12-16T14:03:34.445Z"
   },
   {
    "duration": 10,
    "start_time": "2024-12-16T14:03:35.072Z"
   },
   {
    "duration": 7,
    "start_time": "2024-12-16T14:03:35.083Z"
   },
   {
    "duration": 40,
    "start_time": "2024-12-16T14:03:35.091Z"
   },
   {
    "duration": 92,
    "start_time": "2024-12-16T14:03:35.133Z"
   },
   {
    "duration": 84,
    "start_time": "2024-12-16T14:03:35.227Z"
   },
   {
    "duration": 16,
    "start_time": "2024-12-16T14:03:35.313Z"
   },
   {
    "duration": 9,
    "start_time": "2024-12-16T14:03:35.331Z"
   },
   {
    "duration": 32,
    "start_time": "2024-12-16T14:03:35.341Z"
   },
   {
    "duration": 54,
    "start_time": "2024-12-16T14:03:35.374Z"
   },
   {
    "duration": 28,
    "start_time": "2024-12-16T14:03:35.430Z"
   },
   {
    "duration": 43,
    "start_time": "2024-12-16T14:03:35.460Z"
   },
   {
    "duration": 41,
    "start_time": "2024-12-16T14:03:35.504Z"
   },
   {
    "duration": 25,
    "start_time": "2024-12-16T14:03:35.547Z"
   },
   {
    "duration": 25,
    "start_time": "2024-12-16T14:03:35.573Z"
   },
   {
    "duration": 144,
    "start_time": "2024-12-16T14:03:35.599Z"
   },
   {
    "duration": 1258,
    "start_time": "2024-12-16T14:03:35.746Z"
   },
   {
    "duration": 15,
    "start_time": "2024-12-16T14:03:57.970Z"
   },
   {
    "duration": 7,
    "start_time": "2024-12-16T14:04:07.279Z"
   },
   {
    "duration": 57,
    "start_time": "2024-12-16T14:14:18.218Z"
   },
   {
    "duration": 19,
    "start_time": "2024-12-16T14:15:51.898Z"
   },
   {
    "duration": 26,
    "start_time": "2024-12-16T14:16:22.899Z"
   },
   {
    "duration": 45,
    "start_time": "2024-12-16T14:18:12.145Z"
   },
   {
    "duration": 2,
    "start_time": "2024-12-16T17:25:27.627Z"
   },
   {
    "duration": 6,
    "start_time": "2024-12-16T17:38:41.656Z"
   },
   {
    "duration": 211,
    "start_time": "2024-12-16T17:42:12.337Z"
   },
   {
    "duration": 897,
    "start_time": "2024-12-16T17:50:12.162Z"
   },
   {
    "duration": 56,
    "start_time": "2024-12-16T17:51:13.200Z"
   },
   {
    "duration": 71,
    "start_time": "2024-12-16T17:51:36.703Z"
   },
   {
    "duration": 54,
    "start_time": "2024-12-16T17:52:23.399Z"
   },
   {
    "duration": 6,
    "start_time": "2024-12-16T18:25:50.052Z"
   },
   {
    "duration": 23,
    "start_time": "2024-12-16T18:27:09.271Z"
   },
   {
    "duration": 4,
    "start_time": "2024-12-16T18:29:08.301Z"
   },
   {
    "duration": 4,
    "start_time": "2024-12-16T18:29:14.845Z"
   },
   {
    "duration": 68,
    "start_time": "2024-12-16T18:29:38.417Z"
   },
   {
    "duration": 17,
    "start_time": "2024-12-16T18:32:52.896Z"
   },
   {
    "duration": 2494,
    "start_time": "2024-12-16T18:33:00.285Z"
   },
   {
    "duration": 408,
    "start_time": "2024-12-16T18:33:02.782Z"
   },
   {
    "duration": 670,
    "start_time": "2024-12-16T18:33:03.191Z"
   },
   {
    "duration": 38,
    "start_time": "2024-12-16T18:33:03.863Z"
   },
   {
    "duration": 2572,
    "start_time": "2024-12-16T18:33:03.902Z"
   },
   {
    "duration": 38,
    "start_time": "2024-12-16T18:33:06.475Z"
   },
   {
    "duration": 7,
    "start_time": "2024-12-16T18:33:06.514Z"
   },
   {
    "duration": 29,
    "start_time": "2024-12-16T18:33:06.523Z"
   },
   {
    "duration": 86,
    "start_time": "2024-12-16T18:33:06.553Z"
   },
   {
    "duration": 48,
    "start_time": "2024-12-16T18:33:06.641Z"
   },
   {
    "duration": 3,
    "start_time": "2024-12-16T18:33:06.691Z"
   },
   {
    "duration": 528,
    "start_time": "2024-12-16T18:33:06.710Z"
   },
   {
    "duration": 10,
    "start_time": "2024-12-16T18:33:07.239Z"
   },
   {
    "duration": 36,
    "start_time": "2024-12-16T18:33:07.250Z"
   },
   {
    "duration": 84,
    "start_time": "2024-12-16T18:33:07.287Z"
   },
   {
    "duration": 75,
    "start_time": "2024-12-16T18:33:07.373Z"
   },
   {
    "duration": 13,
    "start_time": "2024-12-16T18:33:07.450Z"
   },
   {
    "duration": 14,
    "start_time": "2024-12-16T18:33:07.465Z"
   },
   {
    "duration": 15,
    "start_time": "2024-12-16T18:33:07.480Z"
   },
   {
    "duration": 24,
    "start_time": "2024-12-16T18:33:07.497Z"
   },
   {
    "duration": 12,
    "start_time": "2024-12-16T18:33:07.522Z"
   },
   {
    "duration": 41,
    "start_time": "2024-12-16T18:33:07.535Z"
   },
   {
    "duration": 42,
    "start_time": "2024-12-16T18:33:07.578Z"
   },
   {
    "duration": 20,
    "start_time": "2024-12-16T18:33:07.621Z"
   },
   {
    "duration": 16,
    "start_time": "2024-12-16T18:33:07.642Z"
   },
   {
    "duration": 145,
    "start_time": "2024-12-16T18:33:07.659Z"
   },
   {
    "duration": 10,
    "start_time": "2024-12-16T18:33:07.806Z"
   },
   {
    "duration": 249,
    "start_time": "2024-12-16T18:33:07.818Z"
   },
   {
    "duration": 65,
    "start_time": "2024-12-16T18:33:08.069Z"
   },
   {
    "duration": 39,
    "start_time": "2024-12-16T18:33:08.135Z"
   },
   {
    "duration": 46,
    "start_time": "2024-12-16T18:33:08.176Z"
   },
   {
    "duration": 56,
    "start_time": "2024-12-16T18:33:08.223Z"
   },
   {
    "duration": 39,
    "start_time": "2024-12-16T18:33:08.280Z"
   },
   {
    "duration": 61,
    "start_time": "2024-12-16T18:33:08.320Z"
   },
   {
    "duration": 17,
    "start_time": "2024-12-16T18:33:15.955Z"
   },
   {
    "duration": 58,
    "start_time": "2024-12-16T18:33:22.276Z"
   },
   {
    "duration": 58,
    "start_time": "2024-12-16T18:34:09.533Z"
   },
   {
    "duration": 60,
    "start_time": "2024-12-16T18:34:38.042Z"
   },
   {
    "duration": 54,
    "start_time": "2024-12-16T18:35:52.672Z"
   },
   {
    "duration": 1039,
    "start_time": "2024-12-16T18:39:57.612Z"
   },
   {
    "duration": 39,
    "start_time": "2024-12-16T18:40:14.994Z"
   },
   {
    "duration": 57,
    "start_time": "2024-12-16T18:40:20.981Z"
   },
   {
    "duration": 41,
    "start_time": "2024-12-16T18:41:06.775Z"
   },
   {
    "duration": 54,
    "start_time": "2024-12-16T18:41:10.019Z"
   },
   {
    "duration": 110,
    "start_time": "2024-12-16T18:45:31.563Z"
   },
   {
    "duration": 112,
    "start_time": "2024-12-16T18:45:34.261Z"
   },
   {
    "duration": 61,
    "start_time": "2024-12-16T18:45:34.946Z"
   },
   {
    "duration": 182,
    "start_time": "2024-12-16T18:46:46.242Z"
   },
   {
    "duration": 798,
    "start_time": "2024-12-16T18:56:46.462Z"
   },
   {
    "duration": 10,
    "start_time": "2024-12-16T18:57:11.392Z"
   },
   {
    "duration": 785,
    "start_time": "2024-12-16T18:57:25.271Z"
   },
   {
    "duration": 17,
    "start_time": "2024-12-16T18:57:26.058Z"
   },
   {
    "duration": 790,
    "start_time": "2024-12-16T18:58:51.677Z"
   },
   {
    "duration": 22,
    "start_time": "2024-12-16T18:58:53.562Z"
   },
   {
    "duration": 815,
    "start_time": "2024-12-16T19:00:11.637Z"
   },
   {
    "duration": 17,
    "start_time": "2024-12-16T19:00:15.890Z"
   },
   {
    "duration": 825,
    "start_time": "2024-12-16T19:01:05.332Z"
   },
   {
    "duration": 17,
    "start_time": "2024-12-16T19:01:06.159Z"
   },
   {
    "duration": 36,
    "start_time": "2024-12-16T19:22:22.971Z"
   },
   {
    "duration": 35,
    "start_time": "2024-12-16T19:23:05.629Z"
   },
   {
    "duration": 46,
    "start_time": "2024-12-16T19:23:22.277Z"
   },
   {
    "duration": 38,
    "start_time": "2024-12-16T19:24:19.151Z"
   },
   {
    "duration": 49,
    "start_time": "2024-12-16T19:31:37.925Z"
   },
   {
    "duration": 39,
    "start_time": "2024-12-16T19:32:38.254Z"
   },
   {
    "duration": 49,
    "start_time": "2024-12-16T19:32:45.524Z"
   },
   {
    "duration": 37,
    "start_time": "2024-12-16T19:33:22.892Z"
   },
   {
    "duration": 37,
    "start_time": "2024-12-16T19:34:04.911Z"
   },
   {
    "duration": 37,
    "start_time": "2024-12-16T19:34:35.475Z"
   },
   {
    "duration": 37,
    "start_time": "2024-12-16T19:34:59.196Z"
   },
   {
    "duration": 147,
    "start_time": "2024-12-16T19:36:36.749Z"
   },
   {
    "duration": 16,
    "start_time": "2024-12-16T19:44:08.641Z"
   },
   {
    "duration": 1635,
    "start_time": "2024-12-16T19:46:33.726Z"
   },
   {
    "duration": 319,
    "start_time": "2024-12-16T19:47:59.515Z"
   },
   {
    "duration": 2558,
    "start_time": "2024-12-16T19:48:56.838Z"
   },
   {
    "duration": 403,
    "start_time": "2024-12-16T19:48:59.398Z"
   },
   {
    "duration": 674,
    "start_time": "2024-12-16T19:48:59.803Z"
   },
   {
    "duration": 41,
    "start_time": "2024-12-16T19:49:00.478Z"
   },
   {
    "duration": 1975,
    "start_time": "2024-12-16T19:49:00.520Z"
   },
   {
    "duration": 26,
    "start_time": "2024-12-16T19:49:02.496Z"
   },
   {
    "duration": 7,
    "start_time": "2024-12-16T19:49:02.523Z"
   },
   {
    "duration": 34,
    "start_time": "2024-12-16T19:49:02.532Z"
   },
   {
    "duration": 93,
    "start_time": "2024-12-16T19:49:02.567Z"
   },
   {
    "duration": 53,
    "start_time": "2024-12-16T19:49:02.662Z"
   },
   {
    "duration": 3,
    "start_time": "2024-12-16T19:49:02.717Z"
   },
   {
    "duration": 554,
    "start_time": "2024-12-16T19:49:02.722Z"
   },
   {
    "duration": 10,
    "start_time": "2024-12-16T19:49:03.278Z"
   },
   {
    "duration": 20,
    "start_time": "2024-12-16T19:49:03.289Z"
   },
   {
    "duration": 88,
    "start_time": "2024-12-16T19:49:03.311Z"
   },
   {
    "duration": 72,
    "start_time": "2024-12-16T19:49:03.400Z"
   },
   {
    "duration": 12,
    "start_time": "2024-12-16T19:49:03.473Z"
   },
   {
    "duration": 37,
    "start_time": "2024-12-16T19:49:03.486Z"
   },
   {
    "duration": 38,
    "start_time": "2024-12-16T19:49:03.524Z"
   },
   {
    "duration": 31,
    "start_time": "2024-12-16T19:49:03.563Z"
   },
   {
    "duration": 19,
    "start_time": "2024-12-16T19:49:03.595Z"
   },
   {
    "duration": 30,
    "start_time": "2024-12-16T19:49:03.615Z"
   },
   {
    "duration": 25,
    "start_time": "2024-12-16T19:49:03.647Z"
   },
   {
    "duration": 37,
    "start_time": "2024-12-16T19:49:03.674Z"
   },
   {
    "duration": 15,
    "start_time": "2024-12-16T19:49:03.712Z"
   },
   {
    "duration": 141,
    "start_time": "2024-12-16T19:49:03.729Z"
   },
   {
    "duration": 8,
    "start_time": "2024-12-16T19:49:03.871Z"
   },
   {
    "duration": 241,
    "start_time": "2024-12-16T19:49:03.882Z"
   },
   {
    "duration": 54,
    "start_time": "2024-12-16T19:49:04.125Z"
   },
   {
    "duration": 53,
    "start_time": "2024-12-16T19:49:04.180Z"
   },
   {
    "duration": 27,
    "start_time": "2024-12-16T19:49:04.235Z"
   },
   {
    "duration": 72,
    "start_time": "2024-12-16T19:49:04.263Z"
   },
   {
    "duration": 13,
    "start_time": "2024-12-16T19:49:04.336Z"
   },
   {
    "duration": 18,
    "start_time": "2024-12-16T19:49:04.350Z"
   },
   {
    "duration": 79,
    "start_time": "2024-12-16T19:49:04.370Z"
   },
   {
    "duration": 184,
    "start_time": "2024-12-16T19:49:04.451Z"
   },
   {
    "duration": 60,
    "start_time": "2024-12-16T19:49:04.636Z"
   },
   {
    "duration": 810,
    "start_time": "2024-12-16T19:49:04.697Z"
   },
   {
    "duration": 15,
    "start_time": "2024-12-16T19:49:05.511Z"
   },
   {
    "duration": 71,
    "start_time": "2024-12-16T19:49:05.527Z"
   },
   {
    "duration": 138,
    "start_time": "2024-12-16T19:49:05.599Z"
   },
   {
    "duration": 397,
    "start_time": "2024-12-16T19:49:05.738Z"
   },
   {
    "duration": 802,
    "start_time": "2024-12-16T19:49:30.980Z"
   },
   {
    "duration": 3,
    "start_time": "2024-12-16T19:50:07.037Z"
   },
   {
    "duration": 517,
    "start_time": "2024-12-16T19:52:06.100Z"
   },
   {
    "duration": 62,
    "start_time": "2024-12-16T19:53:01.076Z"
   },
   {
    "duration": 89,
    "start_time": "2024-12-16T19:56:46.476Z"
   },
   {
    "duration": 881,
    "start_time": "2024-12-16T20:00:20.130Z"
   },
   {
    "duration": 45,
    "start_time": "2024-12-16T20:00:45.545Z"
   },
   {
    "duration": 72,
    "start_time": "2024-12-16T20:02:29.994Z"
   },
   {
    "duration": 2540,
    "start_time": "2024-12-16T20:02:46.591Z"
   },
   {
    "duration": 367,
    "start_time": "2024-12-16T20:02:49.133Z"
   },
   {
    "duration": 664,
    "start_time": "2024-12-16T20:02:49.502Z"
   },
   {
    "duration": 40,
    "start_time": "2024-12-16T20:02:50.168Z"
   },
   {
    "duration": 2051,
    "start_time": "2024-12-16T20:02:50.210Z"
   },
   {
    "duration": 17,
    "start_time": "2024-12-16T20:02:52.262Z"
   },
   {
    "duration": 8,
    "start_time": "2024-12-16T20:02:52.280Z"
   },
   {
    "duration": 7,
    "start_time": "2024-12-16T20:02:52.311Z"
   },
   {
    "duration": 110,
    "start_time": "2024-12-16T20:02:52.319Z"
   },
   {
    "duration": 54,
    "start_time": "2024-12-16T20:02:52.431Z"
   },
   {
    "duration": 4,
    "start_time": "2024-12-16T20:02:52.486Z"
   },
   {
    "duration": 533,
    "start_time": "2024-12-16T20:02:52.491Z"
   },
   {
    "duration": 11,
    "start_time": "2024-12-16T20:02:53.025Z"
   },
   {
    "duration": 7,
    "start_time": "2024-12-16T20:02:53.038Z"
   },
   {
    "duration": 95,
    "start_time": "2024-12-16T20:02:53.046Z"
   },
   {
    "duration": 88,
    "start_time": "2024-12-16T20:02:53.142Z"
   },
   {
    "duration": 12,
    "start_time": "2024-12-16T20:02:53.232Z"
   },
   {
    "duration": 8,
    "start_time": "2024-12-16T20:02:53.245Z"
   },
   {
    "duration": 9,
    "start_time": "2024-12-16T20:02:53.254Z"
   },
   {
    "duration": 14,
    "start_time": "2024-12-16T20:02:53.264Z"
   },
   {
    "duration": 41,
    "start_time": "2024-12-16T20:02:53.280Z"
   },
   {
    "duration": 32,
    "start_time": "2024-12-16T20:02:53.322Z"
   },
   {
    "duration": 27,
    "start_time": "2024-12-16T20:02:53.355Z"
   },
   {
    "duration": 40,
    "start_time": "2024-12-16T20:02:53.384Z"
   },
   {
    "duration": 16,
    "start_time": "2024-12-16T20:02:53.426Z"
   },
   {
    "duration": 149,
    "start_time": "2024-12-16T20:02:53.444Z"
   },
   {
    "duration": 20,
    "start_time": "2024-12-16T20:02:53.595Z"
   },
   {
    "duration": 41,
    "start_time": "2024-12-16T20:02:53.616Z"
   },
   {
    "duration": 226,
    "start_time": "2024-12-16T20:02:53.659Z"
   },
   {
    "duration": 61,
    "start_time": "2024-12-16T20:02:53.887Z"
   },
   {
    "duration": 39,
    "start_time": "2024-12-16T20:02:53.949Z"
   },
   {
    "duration": 34,
    "start_time": "2024-12-16T20:02:53.990Z"
   },
   {
    "duration": 87,
    "start_time": "2024-12-16T20:02:54.025Z"
   },
   {
    "duration": 14,
    "start_time": "2024-12-16T20:02:54.114Z"
   },
   {
    "duration": 19,
    "start_time": "2024-12-16T20:02:54.129Z"
   },
   {
    "duration": 66,
    "start_time": "2024-12-16T20:02:54.150Z"
   },
   {
    "duration": 194,
    "start_time": "2024-12-16T20:02:54.218Z"
   },
   {
    "duration": 65,
    "start_time": "2024-12-16T20:02:54.414Z"
   },
   {
    "duration": 844,
    "start_time": "2024-12-16T20:02:54.480Z"
   },
   {
    "duration": 16,
    "start_time": "2024-12-16T20:02:55.326Z"
   },
   {
    "duration": 35,
    "start_time": "2024-12-16T20:02:55.345Z"
   },
   {
    "duration": 158,
    "start_time": "2024-12-16T20:02:55.381Z"
   },
   {
    "duration": 158,
    "start_time": "2024-12-16T20:02:55.540Z"
   },
   {
    "duration": 54,
    "start_time": "2024-12-16T20:04:26.541Z"
   },
   {
    "duration": 95,
    "start_time": "2024-12-16T20:05:16.946Z"
   },
   {
    "duration": 105,
    "start_time": "2024-12-16T20:05:34.686Z"
   },
   {
    "duration": 93,
    "start_time": "2024-12-16T20:06:51.845Z"
   },
   {
    "duration": 13,
    "start_time": "2024-12-16T20:06:52.815Z"
   },
   {
    "duration": 11,
    "start_time": "2024-12-16T20:06:59.270Z"
   },
   {
    "duration": 10,
    "start_time": "2024-12-16T20:07:16.431Z"
   },
   {
    "duration": 2511,
    "start_time": "2024-12-16T20:08:58.021Z"
   },
   {
    "duration": 357,
    "start_time": "2024-12-16T20:09:00.535Z"
   },
   {
    "duration": 692,
    "start_time": "2024-12-16T20:09:00.893Z"
   },
   {
    "duration": 44,
    "start_time": "2024-12-16T20:09:01.587Z"
   },
   {
    "duration": 2108,
    "start_time": "2024-12-16T20:09:01.632Z"
   },
   {
    "duration": 18,
    "start_time": "2024-12-16T20:09:03.741Z"
   },
   {
    "duration": 17,
    "start_time": "2024-12-16T20:09:03.761Z"
   },
   {
    "duration": 31,
    "start_time": "2024-12-16T20:09:03.780Z"
   },
   {
    "duration": 80,
    "start_time": "2024-12-16T20:09:03.813Z"
   },
   {
    "duration": 58,
    "start_time": "2024-12-16T20:09:03.896Z"
   },
   {
    "duration": 4,
    "start_time": "2024-12-16T20:09:03.955Z"
   },
   {
    "duration": 546,
    "start_time": "2024-12-16T20:09:03.960Z"
   },
   {
    "duration": 10,
    "start_time": "2024-12-16T20:09:04.511Z"
   },
   {
    "duration": 55,
    "start_time": "2024-12-16T20:09:04.522Z"
   },
   {
    "duration": 72,
    "start_time": "2024-12-16T20:09:04.578Z"
   },
   {
    "duration": 73,
    "start_time": "2024-12-16T20:09:04.651Z"
   },
   {
    "duration": 13,
    "start_time": "2024-12-16T20:09:04.725Z"
   },
   {
    "duration": 19,
    "start_time": "2024-12-16T20:09:04.739Z"
   },
   {
    "duration": 8,
    "start_time": "2024-12-16T20:09:04.759Z"
   },
   {
    "duration": 24,
    "start_time": "2024-12-16T20:09:04.768Z"
   },
   {
    "duration": 27,
    "start_time": "2024-12-16T20:09:04.794Z"
   },
   {
    "duration": 52,
    "start_time": "2024-12-16T20:09:04.822Z"
   },
   {
    "duration": 25,
    "start_time": "2024-12-16T20:09:04.875Z"
   },
   {
    "duration": 40,
    "start_time": "2024-12-16T20:09:04.901Z"
   },
   {
    "duration": 31,
    "start_time": "2024-12-16T20:09:04.943Z"
   },
   {
    "duration": 130,
    "start_time": "2024-12-16T20:09:04.975Z"
   },
   {
    "duration": 9,
    "start_time": "2024-12-16T20:09:05.111Z"
   },
   {
    "duration": 117,
    "start_time": "2024-12-16T20:09:05.123Z"
   },
   {
    "duration": 203,
    "start_time": "2024-12-16T20:09:05.242Z"
   },
   {
    "duration": 53,
    "start_time": "2024-12-16T20:09:05.446Z"
   },
   {
    "duration": 39,
    "start_time": "2024-12-16T20:09:05.510Z"
   },
   {
    "duration": 59,
    "start_time": "2024-12-16T20:09:05.550Z"
   },
   {
    "duration": 62,
    "start_time": "2024-12-16T20:09:05.611Z"
   },
   {
    "duration": 14,
    "start_time": "2024-12-16T20:09:05.674Z"
   },
   {
    "duration": 44,
    "start_time": "2024-12-16T20:09:05.689Z"
   },
   {
    "duration": 45,
    "start_time": "2024-12-16T20:09:05.735Z"
   },
   {
    "duration": 189,
    "start_time": "2024-12-16T20:09:05.782Z"
   },
   {
    "duration": 72,
    "start_time": "2024-12-16T20:09:05.972Z"
   },
   {
    "duration": 830,
    "start_time": "2024-12-16T20:09:06.046Z"
   },
   {
    "duration": 15,
    "start_time": "2024-12-16T20:09:06.878Z"
   },
   {
    "duration": 47,
    "start_time": "2024-12-16T20:09:06.895Z"
   },
   {
    "duration": 150,
    "start_time": "2024-12-16T20:09:06.944Z"
   },
   {
    "duration": 102,
    "start_time": "2024-12-16T20:09:07.096Z"
   },
   {
    "duration": 12,
    "start_time": "2024-12-16T20:09:07.200Z"
   },
   {
    "duration": 102,
    "start_time": "2024-12-16T20:11:45.005Z"
   },
   {
    "duration": 105,
    "start_time": "2024-12-16T20:15:53.236Z"
   },
   {
    "duration": 50,
    "start_time": "2024-12-16T20:16:04.635Z"
   },
   {
    "duration": 17,
    "start_time": "2024-12-16T20:16:07.901Z"
   },
   {
    "duration": 921,
    "start_time": "2024-12-16T20:18:39.064Z"
   },
   {
    "duration": 751,
    "start_time": "2024-12-16T20:19:18.931Z"
   },
   {
    "duration": 49,
    "start_time": "2024-12-16T20:25:27.824Z"
   },
   {
    "duration": 12,
    "start_time": "2024-12-16T20:25:40.617Z"
   },
   {
    "duration": 46,
    "start_time": "2024-12-16T20:26:02.633Z"
   },
   {
    "duration": 45,
    "start_time": "2024-12-16T20:26:27.027Z"
   },
   {
    "duration": 101,
    "start_time": "2024-12-16T20:29:33.895Z"
   },
   {
    "duration": 98,
    "start_time": "2024-12-16T20:31:16.515Z"
   },
   {
    "duration": 104,
    "start_time": "2024-12-16T20:31:33.081Z"
   },
   {
    "duration": 62,
    "start_time": "2024-12-16T20:32:55.242Z"
   },
   {
    "duration": 63,
    "start_time": "2024-12-16T20:34:33.986Z"
   },
   {
    "duration": 124,
    "start_time": "2024-12-16T20:36:26.243Z"
   },
   {
    "duration": 18,
    "start_time": "2024-12-16T20:37:15.857Z"
   },
   {
    "duration": 51,
    "start_time": "2024-12-16T20:38:31.031Z"
   },
   {
    "duration": 2459,
    "start_time": "2024-12-16T20:38:38.151Z"
   },
   {
    "duration": 392,
    "start_time": "2024-12-16T20:38:40.613Z"
   },
   {
    "duration": 671,
    "start_time": "2024-12-16T20:38:41.006Z"
   },
   {
    "duration": 37,
    "start_time": "2024-12-16T20:38:41.679Z"
   },
   {
    "duration": 1724,
    "start_time": "2024-12-16T20:38:41.718Z"
   },
   {
    "duration": 19,
    "start_time": "2024-12-16T20:38:43.444Z"
   },
   {
    "duration": 7,
    "start_time": "2024-12-16T20:38:43.465Z"
   },
   {
    "duration": 38,
    "start_time": "2024-12-16T20:38:43.474Z"
   },
   {
    "duration": 80,
    "start_time": "2024-12-16T20:38:43.513Z"
   },
   {
    "duration": 59,
    "start_time": "2024-12-16T20:38:43.595Z"
   },
   {
    "duration": 4,
    "start_time": "2024-12-16T20:38:43.655Z"
   },
   {
    "duration": 530,
    "start_time": "2024-12-16T20:38:43.660Z"
   },
   {
    "duration": 20,
    "start_time": "2024-12-16T20:38:44.192Z"
   },
   {
    "duration": 8,
    "start_time": "2024-12-16T20:38:44.214Z"
   },
   {
    "duration": 87,
    "start_time": "2024-12-16T20:38:44.224Z"
   },
   {
    "duration": 69,
    "start_time": "2024-12-16T20:38:44.312Z"
   },
   {
    "duration": 11,
    "start_time": "2024-12-16T20:38:44.382Z"
   },
   {
    "duration": 23,
    "start_time": "2024-12-16T20:38:44.394Z"
   },
   {
    "duration": 7,
    "start_time": "2024-12-16T20:38:44.419Z"
   },
   {
    "duration": 14,
    "start_time": "2024-12-16T20:38:44.427Z"
   },
   {
    "duration": 11,
    "start_time": "2024-12-16T20:38:44.443Z"
   },
   {
    "duration": 57,
    "start_time": "2024-12-16T20:38:44.455Z"
   },
   {
    "duration": 24,
    "start_time": "2024-12-16T20:38:44.513Z"
   },
   {
    "duration": 17,
    "start_time": "2024-12-16T20:38:44.539Z"
   },
   {
    "duration": 14,
    "start_time": "2024-12-16T20:38:44.557Z"
   },
   {
    "duration": 170,
    "start_time": "2024-12-16T20:38:44.573Z"
   },
   {
    "duration": 8,
    "start_time": "2024-12-16T20:38:44.745Z"
   },
   {
    "duration": 115,
    "start_time": "2024-12-16T20:38:44.757Z"
   },
   {
    "duration": 206,
    "start_time": "2024-12-16T20:38:44.873Z"
   },
   {
    "duration": 58,
    "start_time": "2024-12-16T20:38:45.081Z"
   },
   {
    "duration": 56,
    "start_time": "2024-12-16T20:38:45.140Z"
   },
   {
    "duration": 36,
    "start_time": "2024-12-16T20:38:45.197Z"
   },
   {
    "duration": 86,
    "start_time": "2024-12-16T20:38:45.234Z"
   },
   {
    "duration": 13,
    "start_time": "2024-12-16T20:38:45.322Z"
   },
   {
    "duration": 15,
    "start_time": "2024-12-16T20:38:45.337Z"
   },
   {
    "duration": 76,
    "start_time": "2024-12-16T20:38:45.354Z"
   },
   {
    "duration": 199,
    "start_time": "2024-12-16T20:38:45.432Z"
   },
   {
    "duration": 61,
    "start_time": "2024-12-16T20:38:45.633Z"
   },
   {
    "duration": 864,
    "start_time": "2024-12-16T20:38:45.695Z"
   },
   {
    "duration": 15,
    "start_time": "2024-12-16T20:38:46.561Z"
   },
   {
    "duration": 52,
    "start_time": "2024-12-16T20:38:46.578Z"
   },
   {
    "duration": 153,
    "start_time": "2024-12-16T20:38:46.631Z"
   },
   {
    "duration": 105,
    "start_time": "2024-12-16T20:38:46.786Z"
   },
   {
    "duration": 115,
    "start_time": "2024-12-16T20:38:46.893Z"
   },
   {
    "duration": 41,
    "start_time": "2024-12-16T20:38:47.012Z"
   },
   {
    "duration": 69,
    "start_time": "2024-12-16T20:38:47.055Z"
   },
   {
    "duration": 45,
    "start_time": "2024-12-16T20:38:47.125Z"
   },
   {
    "duration": 117,
    "start_time": "2024-12-16T20:38:56.776Z"
   },
   {
    "duration": 108,
    "start_time": "2024-12-16T20:39:46.846Z"
   },
   {
    "duration": 54,
    "start_time": "2024-12-16T20:40:02.186Z"
   },
   {
    "duration": 2431,
    "start_time": "2024-12-16T20:40:10.981Z"
   },
   {
    "duration": 375,
    "start_time": "2024-12-16T20:40:13.414Z"
   },
   {
    "duration": 675,
    "start_time": "2024-12-16T20:40:13.790Z"
   },
   {
    "duration": 38,
    "start_time": "2024-12-16T20:40:14.467Z"
   },
   {
    "duration": 2082,
    "start_time": "2024-12-16T20:40:14.506Z"
   },
   {
    "duration": 26,
    "start_time": "2024-12-16T20:40:16.590Z"
   },
   {
    "duration": 6,
    "start_time": "2024-12-16T20:40:16.618Z"
   },
   {
    "duration": 8,
    "start_time": "2024-12-16T20:40:16.625Z"
   },
   {
    "duration": 112,
    "start_time": "2024-12-16T20:40:16.634Z"
   },
   {
    "duration": 52,
    "start_time": "2024-12-16T20:40:16.748Z"
   },
   {
    "duration": 4,
    "start_time": "2024-12-16T20:40:16.811Z"
   },
   {
    "duration": 535,
    "start_time": "2024-12-16T20:40:16.816Z"
   },
   {
    "duration": 9,
    "start_time": "2024-12-16T20:40:17.352Z"
   },
   {
    "duration": 33,
    "start_time": "2024-12-16T20:40:17.363Z"
   },
   {
    "duration": 75,
    "start_time": "2024-12-16T20:40:17.397Z"
   },
   {
    "duration": 82,
    "start_time": "2024-12-16T20:40:17.474Z"
   },
   {
    "duration": 12,
    "start_time": "2024-12-16T20:40:17.557Z"
   },
   {
    "duration": 9,
    "start_time": "2024-12-16T20:40:17.570Z"
   },
   {
    "duration": 31,
    "start_time": "2024-12-16T20:40:17.581Z"
   },
   {
    "duration": 15,
    "start_time": "2024-12-16T20:40:17.613Z"
   },
   {
    "duration": 11,
    "start_time": "2024-12-16T20:40:17.629Z"
   },
   {
    "duration": 31,
    "start_time": "2024-12-16T20:40:17.641Z"
   },
   {
    "duration": 51,
    "start_time": "2024-12-16T20:40:17.673Z"
   },
   {
    "duration": 41,
    "start_time": "2024-12-16T20:40:17.725Z"
   },
   {
    "duration": 17,
    "start_time": "2024-12-16T20:40:17.768Z"
   },
   {
    "duration": 149,
    "start_time": "2024-12-16T20:40:17.787Z"
   },
   {
    "duration": 10,
    "start_time": "2024-12-16T20:40:17.941Z"
   },
   {
    "duration": 111,
    "start_time": "2024-12-16T20:40:17.956Z"
   },
   {
    "duration": 212,
    "start_time": "2024-12-16T20:40:18.068Z"
   },
   {
    "duration": 60,
    "start_time": "2024-12-16T20:40:18.282Z"
   },
   {
    "duration": 38,
    "start_time": "2024-12-16T20:40:18.344Z"
   },
   {
    "duration": 39,
    "start_time": "2024-12-16T20:40:18.384Z"
   },
   {
    "duration": 58,
    "start_time": "2024-12-16T20:40:18.424Z"
   },
   {
    "duration": 39,
    "start_time": "2024-12-16T20:40:18.483Z"
   },
   {
    "duration": 19,
    "start_time": "2024-12-16T20:40:18.524Z"
   },
   {
    "duration": 66,
    "start_time": "2024-12-16T20:40:18.545Z"
   },
   {
    "duration": 191,
    "start_time": "2024-12-16T20:40:18.613Z"
   },
   {
    "duration": 63,
    "start_time": "2024-12-16T20:40:18.811Z"
   },
   {
    "duration": 812,
    "start_time": "2024-12-16T20:40:18.876Z"
   },
   {
    "duration": 24,
    "start_time": "2024-12-16T20:40:19.689Z"
   },
   {
    "duration": 36,
    "start_time": "2024-12-16T20:40:19.714Z"
   },
   {
    "duration": 166,
    "start_time": "2024-12-16T20:40:19.751Z"
   },
   {
    "duration": 105,
    "start_time": "2024-12-16T20:40:19.919Z"
   },
   {
    "duration": 110,
    "start_time": "2024-12-16T20:40:20.025Z"
   },
   {
    "duration": 28,
    "start_time": "2024-12-16T20:40:20.136Z"
   },
   {
    "duration": 67,
    "start_time": "2024-12-16T20:40:20.165Z"
   },
   {
    "duration": 11,
    "start_time": "2024-12-16T20:40:20.234Z"
   },
   {
    "duration": 20,
    "start_time": "2024-12-16T20:42:10.405Z"
   },
   {
    "duration": 17,
    "start_time": "2024-12-16T20:43:14.694Z"
   },
   {
    "duration": 40,
    "start_time": "2024-12-16T20:43:50.439Z"
   },
   {
    "duration": 25,
    "start_time": "2024-12-16T20:44:23.986Z"
   },
   {
    "duration": 28,
    "start_time": "2024-12-16T20:45:17.213Z"
   },
   {
    "duration": 7,
    "start_time": "2024-12-16T20:46:21.789Z"
   },
   {
    "duration": 2500,
    "start_time": "2024-12-16T20:46:34.963Z"
   },
   {
    "duration": 356,
    "start_time": "2024-12-16T20:46:37.465Z"
   },
   {
    "duration": 698,
    "start_time": "2024-12-16T20:46:37.823Z"
   },
   {
    "duration": 37,
    "start_time": "2024-12-16T20:46:38.523Z"
   },
   {
    "duration": 1862,
    "start_time": "2024-12-16T20:46:38.562Z"
   },
   {
    "duration": 18,
    "start_time": "2024-12-16T20:46:40.426Z"
   },
   {
    "duration": 6,
    "start_time": "2024-12-16T20:46:40.446Z"
   },
   {
    "duration": 7,
    "start_time": "2024-12-16T20:46:40.454Z"
   },
   {
    "duration": 118,
    "start_time": "2024-12-16T20:46:40.462Z"
   },
   {
    "duration": 58,
    "start_time": "2024-12-16T20:46:40.582Z"
   },
   {
    "duration": 4,
    "start_time": "2024-12-16T20:46:40.642Z"
   },
   {
    "duration": 557,
    "start_time": "2024-12-16T20:46:40.647Z"
   },
   {
    "duration": 10,
    "start_time": "2024-12-16T20:46:41.210Z"
   },
   {
    "duration": 8,
    "start_time": "2024-12-16T20:46:41.221Z"
   },
   {
    "duration": 92,
    "start_time": "2024-12-16T20:46:41.231Z"
   },
   {
    "duration": 76,
    "start_time": "2024-12-16T20:46:41.324Z"
   },
   {
    "duration": 21,
    "start_time": "2024-12-16T20:46:41.401Z"
   },
   {
    "duration": 8,
    "start_time": "2024-12-16T20:46:41.423Z"
   },
   {
    "duration": 10,
    "start_time": "2024-12-16T20:46:41.433Z"
   },
   {
    "duration": 15,
    "start_time": "2024-12-16T20:46:41.445Z"
   },
   {
    "duration": 11,
    "start_time": "2024-12-16T20:46:41.462Z"
   },
   {
    "duration": 63,
    "start_time": "2024-12-16T20:46:41.474Z"
   },
   {
    "duration": 27,
    "start_time": "2024-12-16T20:46:41.538Z"
   },
   {
    "duration": 18,
    "start_time": "2024-12-16T20:46:41.566Z"
   },
   {
    "duration": 35,
    "start_time": "2024-12-16T20:46:41.586Z"
   },
   {
    "duration": 146,
    "start_time": "2024-12-16T20:46:41.622Z"
   },
   {
    "duration": 8,
    "start_time": "2024-12-16T20:46:41.769Z"
   },
   {
    "duration": 96,
    "start_time": "2024-12-16T20:46:41.780Z"
   },
   {
    "duration": 208,
    "start_time": "2024-12-16T20:46:41.878Z"
   },
   {
    "duration": 61,
    "start_time": "2024-12-16T20:46:42.087Z"
   },
   {
    "duration": 37,
    "start_time": "2024-12-16T20:46:42.150Z"
   },
   {
    "duration": 35,
    "start_time": "2024-12-16T20:46:42.189Z"
   },
   {
    "duration": 63,
    "start_time": "2024-12-16T20:46:42.225Z"
   },
   {
    "duration": 13,
    "start_time": "2024-12-16T20:46:42.312Z"
   },
   {
    "duration": 14,
    "start_time": "2024-12-16T20:46:42.326Z"
   },
   {
    "duration": 48,
    "start_time": "2024-12-16T20:46:42.341Z"
   },
   {
    "duration": 195,
    "start_time": "2024-12-16T20:46:42.391Z"
   },
   {
    "duration": 64,
    "start_time": "2024-12-16T20:46:42.587Z"
   },
   {
    "duration": 915,
    "start_time": "2024-12-16T20:46:42.653Z"
   },
   {
    "duration": 15,
    "start_time": "2024-12-16T20:46:43.570Z"
   },
   {
    "duration": 45,
    "start_time": "2024-12-16T20:46:43.587Z"
   },
   {
    "duration": 156,
    "start_time": "2024-12-16T20:46:43.633Z"
   },
   {
    "duration": 105,
    "start_time": "2024-12-16T20:46:43.791Z"
   },
   {
    "duration": 103,
    "start_time": "2024-12-16T20:46:43.897Z"
   },
   {
    "duration": 31,
    "start_time": "2024-12-16T20:46:44.002Z"
   },
   {
    "duration": 50,
    "start_time": "2024-12-16T20:46:44.035Z"
   },
   {
    "duration": 7,
    "start_time": "2024-12-16T20:46:44.087Z"
   },
   {
    "duration": 27,
    "start_time": "2024-12-16T20:46:44.110Z"
   },
   {
    "duration": 8,
    "start_time": "2024-12-16T20:47:06.214Z"
   },
   {
    "duration": 9,
    "start_time": "2024-12-16T20:47:17.162Z"
   },
   {
    "duration": 2502,
    "start_time": "2024-12-16T20:47:24.240Z"
   },
   {
    "duration": 360,
    "start_time": "2024-12-16T20:47:26.744Z"
   },
   {
    "duration": 681,
    "start_time": "2024-12-16T20:47:27.106Z"
   },
   {
    "duration": 43,
    "start_time": "2024-12-16T20:47:27.790Z"
   },
   {
    "duration": 1706,
    "start_time": "2024-12-16T20:47:27.834Z"
   },
   {
    "duration": 20,
    "start_time": "2024-12-16T20:47:29.542Z"
   },
   {
    "duration": 13,
    "start_time": "2024-12-16T20:47:29.563Z"
   },
   {
    "duration": 8,
    "start_time": "2024-12-16T20:47:29.578Z"
   },
   {
    "duration": 79,
    "start_time": "2024-12-16T20:47:29.612Z"
   },
   {
    "duration": 65,
    "start_time": "2024-12-16T20:47:29.695Z"
   },
   {
    "duration": 6,
    "start_time": "2024-12-16T20:47:29.762Z"
   },
   {
    "duration": 596,
    "start_time": "2024-12-16T20:47:29.770Z"
   },
   {
    "duration": 9,
    "start_time": "2024-12-16T20:47:30.367Z"
   },
   {
    "duration": 23,
    "start_time": "2024-12-16T20:47:30.378Z"
   },
   {
    "duration": 119,
    "start_time": "2024-12-16T20:47:30.403Z"
   },
   {
    "duration": 74,
    "start_time": "2024-12-16T20:47:30.524Z"
   },
   {
    "duration": 23,
    "start_time": "2024-12-16T20:47:30.599Z"
   },
   {
    "duration": 25,
    "start_time": "2024-12-16T20:47:30.624Z"
   },
   {
    "duration": 23,
    "start_time": "2024-12-16T20:47:30.651Z"
   },
   {
    "duration": 19,
    "start_time": "2024-12-16T20:47:30.676Z"
   },
   {
    "duration": 26,
    "start_time": "2024-12-16T20:47:30.697Z"
   },
   {
    "duration": 62,
    "start_time": "2024-12-16T20:47:30.725Z"
   },
   {
    "duration": 47,
    "start_time": "2024-12-16T20:47:30.789Z"
   },
   {
    "duration": 38,
    "start_time": "2024-12-16T20:47:30.838Z"
   },
   {
    "duration": 33,
    "start_time": "2024-12-16T20:47:30.878Z"
   },
   {
    "duration": 160,
    "start_time": "2024-12-16T20:47:30.913Z"
   },
   {
    "duration": 8,
    "start_time": "2024-12-16T20:47:31.074Z"
   },
   {
    "duration": 110,
    "start_time": "2024-12-16T20:47:31.085Z"
   },
   {
    "duration": 209,
    "start_time": "2024-12-16T20:47:31.196Z"
   },
   {
    "duration": 54,
    "start_time": "2024-12-16T20:47:31.411Z"
   },
   {
    "duration": 56,
    "start_time": "2024-12-16T20:47:31.466Z"
   },
   {
    "duration": 24,
    "start_time": "2024-12-16T20:47:31.523Z"
   },
   {
    "duration": 84,
    "start_time": "2024-12-16T20:47:31.549Z"
   },
   {
    "duration": 13,
    "start_time": "2024-12-16T20:47:31.635Z"
   },
   {
    "duration": 24,
    "start_time": "2024-12-16T20:47:31.650Z"
   },
   {
    "duration": 68,
    "start_time": "2024-12-16T20:47:31.675Z"
   },
   {
    "duration": 188,
    "start_time": "2024-12-16T20:47:31.745Z"
   },
   {
    "duration": 64,
    "start_time": "2024-12-16T20:47:31.935Z"
   },
   {
    "duration": 832,
    "start_time": "2024-12-16T20:47:32.012Z"
   },
   {
    "duration": 23,
    "start_time": "2024-12-16T20:47:32.846Z"
   },
   {
    "duration": 56,
    "start_time": "2024-12-16T20:47:32.871Z"
   },
   {
    "duration": 158,
    "start_time": "2024-12-16T20:47:32.929Z"
   },
   {
    "duration": 109,
    "start_time": "2024-12-16T20:47:33.089Z"
   },
   {
    "duration": 112,
    "start_time": "2024-12-16T20:47:33.200Z"
   },
   {
    "duration": 36,
    "start_time": "2024-12-16T20:47:33.314Z"
   },
   {
    "duration": 62,
    "start_time": "2024-12-16T20:47:33.351Z"
   },
   {
    "duration": 9,
    "start_time": "2024-12-16T20:47:33.414Z"
   },
   {
    "duration": 33,
    "start_time": "2024-12-16T20:47:33.424Z"
   },
   {
    "duration": 264,
    "start_time": "2024-12-16T20:49:27.534Z"
   },
   {
    "duration": 13,
    "start_time": "2024-12-16T20:50:47.561Z"
   },
   {
    "duration": 11,
    "start_time": "2024-12-16T20:51:01.288Z"
   },
   {
    "duration": 28,
    "start_time": "2024-12-16T20:55:29.013Z"
   },
   {
    "duration": 10,
    "start_time": "2024-12-16T20:55:30.587Z"
   },
   {
    "duration": 236,
    "start_time": "2024-12-16T21:05:55.221Z"
   },
   {
    "duration": 2544,
    "start_time": "2024-12-16T21:06:05.930Z"
   },
   {
    "duration": 398,
    "start_time": "2024-12-16T21:06:08.476Z"
   },
   {
    "duration": 988,
    "start_time": "2024-12-16T21:06:08.875Z"
   },
   {
    "duration": 54,
    "start_time": "2024-12-16T21:06:09.865Z"
   },
   {
    "duration": 2240,
    "start_time": "2024-12-16T21:06:09.920Z"
   },
   {
    "duration": 16,
    "start_time": "2024-12-16T21:06:12.161Z"
   },
   {
    "duration": 9,
    "start_time": "2024-12-16T21:06:12.179Z"
   },
   {
    "duration": 26,
    "start_time": "2024-12-16T21:06:12.189Z"
   },
   {
    "duration": 95,
    "start_time": "2024-12-16T21:06:12.216Z"
   },
   {
    "duration": 49,
    "start_time": "2024-12-16T21:06:12.313Z"
   },
   {
    "duration": 3,
    "start_time": "2024-12-16T21:06:12.364Z"
   },
   {
    "duration": 519,
    "start_time": "2024-12-16T21:06:12.369Z"
   },
   {
    "duration": 10,
    "start_time": "2024-12-16T21:06:12.889Z"
   },
   {
    "duration": 16,
    "start_time": "2024-12-16T21:06:12.900Z"
   },
   {
    "duration": 76,
    "start_time": "2024-12-16T21:06:12.917Z"
   },
   {
    "duration": 86,
    "start_time": "2024-12-16T21:06:12.995Z"
   },
   {
    "duration": 14,
    "start_time": "2024-12-16T21:06:13.083Z"
   },
   {
    "duration": 19,
    "start_time": "2024-12-16T21:06:13.098Z"
   },
   {
    "duration": 14,
    "start_time": "2024-12-16T21:06:13.118Z"
   },
   {
    "duration": 16,
    "start_time": "2024-12-16T21:06:13.133Z"
   },
   {
    "duration": 13,
    "start_time": "2024-12-16T21:06:13.151Z"
   },
   {
    "duration": 61,
    "start_time": "2024-12-16T21:06:13.166Z"
   },
   {
    "duration": 27,
    "start_time": "2024-12-16T21:06:13.229Z"
   },
   {
    "duration": 18,
    "start_time": "2024-12-16T21:06:13.257Z"
   },
   {
    "duration": 36,
    "start_time": "2024-12-16T21:06:13.276Z"
   },
   {
    "duration": 134,
    "start_time": "2024-12-16T21:06:13.314Z"
   },
   {
    "duration": 8,
    "start_time": "2024-12-16T21:06:13.450Z"
   },
   {
    "duration": 107,
    "start_time": "2024-12-16T21:06:13.462Z"
   },
   {
    "duration": 258,
    "start_time": "2024-12-16T21:06:13.571Z"
   },
   {
    "duration": 52,
    "start_time": "2024-12-16T21:06:13.831Z"
   },
   {
    "duration": 58,
    "start_time": "2024-12-16T21:06:13.885Z"
   },
   {
    "duration": 20,
    "start_time": "2024-12-16T21:06:13.945Z"
   },
   {
    "duration": 74,
    "start_time": "2024-12-16T21:06:13.966Z"
   },
   {
    "duration": 13,
    "start_time": "2024-12-16T21:06:14.041Z"
   },
   {
    "duration": 24,
    "start_time": "2024-12-16T21:06:14.055Z"
   },
   {
    "duration": 71,
    "start_time": "2024-12-16T21:06:14.080Z"
   },
   {
    "duration": 191,
    "start_time": "2024-12-16T21:06:14.153Z"
   },
   {
    "duration": 70,
    "start_time": "2024-12-16T21:06:14.345Z"
   },
   {
    "duration": 805,
    "start_time": "2024-12-16T21:06:14.416Z"
   },
   {
    "duration": 15,
    "start_time": "2024-12-16T21:06:15.223Z"
   },
   {
    "duration": 40,
    "start_time": "2024-12-16T21:06:15.240Z"
   },
   {
    "duration": 160,
    "start_time": "2024-12-16T21:06:15.281Z"
   },
   {
    "duration": 97,
    "start_time": "2024-12-16T21:06:15.443Z"
   },
   {
    "duration": 115,
    "start_time": "2024-12-16T21:06:15.541Z"
   },
   {
    "duration": 29,
    "start_time": "2024-12-16T21:06:15.657Z"
   },
   {
    "duration": 62,
    "start_time": "2024-12-16T21:06:15.688Z"
   },
   {
    "duration": 28,
    "start_time": "2024-12-16T21:06:15.751Z"
   },
   {
    "duration": 26,
    "start_time": "2024-12-16T21:06:15.780Z"
   },
   {
    "duration": 102,
    "start_time": "2024-12-16T21:06:28.132Z"
   },
   {
    "duration": 2551,
    "start_time": "2024-12-16T21:06:35.876Z"
   },
   {
    "duration": 366,
    "start_time": "2024-12-16T21:06:38.429Z"
   },
   {
    "duration": 674,
    "start_time": "2024-12-16T21:06:38.797Z"
   },
   {
    "duration": 39,
    "start_time": "2024-12-16T21:06:39.472Z"
   },
   {
    "duration": 2408,
    "start_time": "2024-12-16T21:06:39.512Z"
   },
   {
    "duration": 22,
    "start_time": "2024-12-16T21:06:41.922Z"
   },
   {
    "duration": 7,
    "start_time": "2024-12-16T21:06:41.946Z"
   },
   {
    "duration": 8,
    "start_time": "2024-12-16T21:06:41.955Z"
   },
   {
    "duration": 127,
    "start_time": "2024-12-16T21:06:41.964Z"
   },
   {
    "duration": 59,
    "start_time": "2024-12-16T21:06:42.093Z"
   },
   {
    "duration": 4,
    "start_time": "2024-12-16T21:06:42.154Z"
   },
   {
    "duration": 552,
    "start_time": "2024-12-16T21:06:42.160Z"
   },
   {
    "duration": 10,
    "start_time": "2024-12-16T21:06:42.713Z"
   },
   {
    "duration": 7,
    "start_time": "2024-12-16T21:06:42.725Z"
   },
   {
    "duration": 100,
    "start_time": "2024-12-16T21:06:42.733Z"
   },
   {
    "duration": 82,
    "start_time": "2024-12-16T21:06:42.835Z"
   },
   {
    "duration": 13,
    "start_time": "2024-12-16T21:06:42.919Z"
   },
   {
    "duration": 8,
    "start_time": "2024-12-16T21:06:42.933Z"
   },
   {
    "duration": 8,
    "start_time": "2024-12-16T21:06:42.942Z"
   },
   {
    "duration": 14,
    "start_time": "2024-12-16T21:06:42.951Z"
   },
   {
    "duration": 45,
    "start_time": "2024-12-16T21:06:42.967Z"
   },
   {
    "duration": 30,
    "start_time": "2024-12-16T21:06:43.013Z"
   },
   {
    "duration": 30,
    "start_time": "2024-12-16T21:06:43.044Z"
   },
   {
    "duration": 36,
    "start_time": "2024-12-16T21:06:43.075Z"
   },
   {
    "duration": 17,
    "start_time": "2024-12-16T21:06:43.112Z"
   },
   {
    "duration": 150,
    "start_time": "2024-12-16T21:06:43.131Z"
   },
   {
    "duration": 7,
    "start_time": "2024-12-16T21:06:43.283Z"
   },
   {
    "duration": 98,
    "start_time": "2024-12-16T21:06:43.292Z"
   },
   {
    "duration": 255,
    "start_time": "2024-12-16T21:06:43.392Z"
   },
   {
    "duration": 66,
    "start_time": "2024-12-16T21:06:43.649Z"
   },
   {
    "duration": 45,
    "start_time": "2024-12-16T21:06:43.716Z"
   },
   {
    "duration": 21,
    "start_time": "2024-12-16T21:06:43.762Z"
   },
   {
    "duration": 80,
    "start_time": "2024-12-16T21:06:43.811Z"
   },
   {
    "duration": 26,
    "start_time": "2024-12-16T21:06:43.892Z"
   },
   {
    "duration": 19,
    "start_time": "2024-12-16T21:06:43.919Z"
   },
   {
    "duration": 48,
    "start_time": "2024-12-16T21:06:43.939Z"
   },
   {
    "duration": 202,
    "start_time": "2024-12-16T21:06:43.989Z"
   },
   {
    "duration": 70,
    "start_time": "2024-12-16T21:06:44.192Z"
   },
   {
    "duration": 808,
    "start_time": "2024-12-16T21:06:44.264Z"
   },
   {
    "duration": 14,
    "start_time": "2024-12-16T21:06:45.074Z"
   },
   {
    "duration": 70,
    "start_time": "2024-12-16T21:06:45.091Z"
   },
   {
    "duration": 141,
    "start_time": "2024-12-16T21:06:45.162Z"
   },
   {
    "duration": 95,
    "start_time": "2024-12-16T21:06:45.305Z"
   },
   {
    "duration": 107,
    "start_time": "2024-12-16T21:06:45.411Z"
   },
   {
    "duration": 27,
    "start_time": "2024-12-16T21:06:45.519Z"
   },
   {
    "duration": 65,
    "start_time": "2024-12-16T21:06:45.547Z"
   },
   {
    "duration": 28,
    "start_time": "2024-12-16T21:06:45.613Z"
   },
   {
    "duration": 10,
    "start_time": "2024-12-16T21:06:45.643Z"
   },
   {
    "duration": 47,
    "start_time": "2024-12-18T08:43:43.042Z"
   },
   {
    "duration": 3728,
    "start_time": "2024-12-18T08:43:46.519Z"
   },
   {
    "duration": 393,
    "start_time": "2024-12-18T08:43:50.250Z"
   },
   {
    "duration": 924,
    "start_time": "2024-12-18T08:43:50.645Z"
   },
   {
    "duration": 1055,
    "start_time": "2024-12-18T08:43:51.571Z"
   },
   {
    "duration": 2488,
    "start_time": "2024-12-18T08:43:52.628Z"
   },
   {
    "duration": 16,
    "start_time": "2024-12-18T08:43:55.118Z"
   },
   {
    "duration": 6,
    "start_time": "2024-12-18T08:43:55.136Z"
   },
   {
    "duration": 24,
    "start_time": "2024-12-18T08:43:55.144Z"
   },
   {
    "duration": 32,
    "start_time": "2024-12-18T08:44:23.328Z"
   },
   {
    "duration": 20,
    "start_time": "2024-12-18T08:44:49.401Z"
   },
   {
    "duration": 118,
    "start_time": "2024-12-18T08:45:08.555Z"
   },
   {
    "duration": 5,
    "start_time": "2024-12-18T08:47:24.643Z"
   },
   {
    "duration": 4,
    "start_time": "2024-12-18T09:15:47.454Z"
   },
   {
    "duration": 1093,
    "start_time": "2024-12-18T09:18:17.488Z"
   },
   {
    "duration": 139,
    "start_time": "2024-12-18T09:19:05.613Z"
   },
   {
    "duration": 4,
    "start_time": "2024-12-18T09:19:29.089Z"
   },
   {
    "duration": 68,
    "start_time": "2024-12-18T09:20:32.721Z"
   },
   {
    "duration": 915,
    "start_time": "2024-12-18T09:20:48.142Z"
   },
   {
    "duration": 1004,
    "start_time": "2024-12-18T09:21:14.680Z"
   },
   {
    "duration": 898,
    "start_time": "2024-12-18T09:21:35.873Z"
   },
   {
    "duration": 2648,
    "start_time": "2024-12-18T09:22:28.217Z"
   },
   {
    "duration": 406,
    "start_time": "2024-12-18T09:22:30.867Z"
   },
   {
    "duration": 694,
    "start_time": "2024-12-18T09:22:31.275Z"
   },
   {
    "duration": 99,
    "start_time": "2024-12-18T09:22:31.972Z"
   },
   {
    "duration": 2675,
    "start_time": "2024-12-18T09:22:32.073Z"
   },
   {
    "duration": 40,
    "start_time": "2024-12-18T09:22:34.750Z"
   },
   {
    "duration": 47,
    "start_time": "2024-12-18T09:22:34.792Z"
   },
   {
    "duration": 7,
    "start_time": "2024-12-18T09:22:34.841Z"
   },
   {
    "duration": 24,
    "start_time": "2024-12-18T09:22:34.849Z"
   },
   {
    "duration": 116,
    "start_time": "2024-12-18T09:22:34.876Z"
   },
   {
    "duration": 74,
    "start_time": "2024-12-18T09:22:34.993Z"
   },
   {
    "duration": 62,
    "start_time": "2024-12-18T09:22:35.069Z"
   },
   {
    "duration": 4,
    "start_time": "2024-12-18T09:22:35.133Z"
   },
   {
    "duration": 598,
    "start_time": "2024-12-18T09:22:35.138Z"
   },
   {
    "duration": 10,
    "start_time": "2024-12-18T09:22:35.738Z"
   },
   {
    "duration": 6,
    "start_time": "2024-12-18T09:22:35.749Z"
   },
   {
    "duration": 99,
    "start_time": "2024-12-18T09:22:35.757Z"
   },
   {
    "duration": 84,
    "start_time": "2024-12-18T09:22:35.858Z"
   },
   {
    "duration": 12,
    "start_time": "2024-12-18T09:22:35.944Z"
   },
   {
    "duration": 9,
    "start_time": "2024-12-18T09:22:35.957Z"
   },
   {
    "duration": 11,
    "start_time": "2024-12-18T09:22:35.986Z"
   },
   {
    "duration": 18,
    "start_time": "2024-12-18T09:22:35.999Z"
   },
   {
    "duration": 48,
    "start_time": "2024-12-18T09:22:36.018Z"
   },
   {
    "duration": 56,
    "start_time": "2024-12-18T09:22:36.067Z"
   },
   {
    "duration": 27,
    "start_time": "2024-12-18T09:22:36.124Z"
   },
   {
    "duration": 18,
    "start_time": "2024-12-18T09:22:36.153Z"
   },
   {
    "duration": 61,
    "start_time": "2024-12-18T09:22:36.172Z"
   },
   {
    "duration": 134,
    "start_time": "2024-12-18T09:22:36.236Z"
   },
   {
    "duration": 19,
    "start_time": "2024-12-18T09:22:36.372Z"
   },
   {
    "duration": 120,
    "start_time": "2024-12-18T09:22:36.392Z"
   },
   {
    "duration": 275,
    "start_time": "2024-12-18T09:22:36.513Z"
   },
   {
    "duration": 56,
    "start_time": "2024-12-18T09:22:36.790Z"
   },
   {
    "duration": 113,
    "start_time": "2024-12-18T09:22:36.847Z"
   },
   {
    "duration": 115,
    "start_time": "2024-12-18T09:22:36.961Z"
   },
   {
    "duration": 76,
    "start_time": "2024-12-18T09:24:07.060Z"
   },
   {
    "duration": 156,
    "start_time": "2024-12-18T09:32:36.800Z"
   },
   {
    "duration": 4,
    "start_time": "2024-12-18T09:34:06.199Z"
   },
   {
    "duration": 158,
    "start_time": "2024-12-18T09:34:32.518Z"
   },
   {
    "duration": 47,
    "start_time": "2024-12-18T09:34:54.672Z"
   },
   {
    "duration": 2608,
    "start_time": "2024-12-18T09:39:09.651Z"
   },
   {
    "duration": 3,
    "start_time": "2024-12-18T09:39:12.262Z"
   },
   {
    "duration": 13,
    "start_time": "2024-12-18T09:39:12.267Z"
   },
   {
    "duration": 3,
    "start_time": "2024-12-18T09:39:12.282Z"
   },
   {
    "duration": 3483,
    "start_time": "2024-12-18T09:39:12.287Z"
   },
   {
    "duration": 25,
    "start_time": "2024-12-18T09:39:15.772Z"
   },
   {
    "duration": 7,
    "start_time": "2024-12-18T09:39:15.799Z"
   },
   {
    "duration": 26,
    "start_time": "2024-12-18T09:39:15.807Z"
   },
   {
    "duration": 72,
    "start_time": "2024-12-18T09:39:15.834Z"
   },
   {
    "duration": 117,
    "start_time": "2024-12-18T09:39:15.908Z"
   },
   {
    "duration": 86,
    "start_time": "2024-12-18T09:39:16.027Z"
   },
   {
    "duration": 45,
    "start_time": "2024-12-18T09:39:16.115Z"
   },
   {
    "duration": 4,
    "start_time": "2024-12-18T09:39:16.162Z"
   },
   {
    "duration": 527,
    "start_time": "2024-12-18T09:39:16.168Z"
   },
   {
    "duration": 11,
    "start_time": "2024-12-18T09:39:16.696Z"
   },
   {
    "duration": 10,
    "start_time": "2024-12-18T09:39:16.708Z"
   },
   {
    "duration": 97,
    "start_time": "2024-12-18T09:39:16.719Z"
   },
   {
    "duration": 81,
    "start_time": "2024-12-18T09:39:16.817Z"
   },
   {
    "duration": 13,
    "start_time": "2024-12-18T09:39:16.899Z"
   },
   {
    "duration": 34,
    "start_time": "2024-12-18T09:39:16.913Z"
   },
   {
    "duration": 8,
    "start_time": "2024-12-18T09:39:16.948Z"
   },
   {
    "duration": 15,
    "start_time": "2024-12-18T09:39:16.958Z"
   },
   {
    "duration": 46,
    "start_time": "2024-12-18T09:39:16.974Z"
   },
   {
    "duration": 83,
    "start_time": "2024-12-18T09:39:17.021Z"
   },
   {
    "duration": 27,
    "start_time": "2024-12-18T09:39:17.105Z"
   },
   {
    "duration": 18,
    "start_time": "2024-12-18T09:39:17.134Z"
   },
   {
    "duration": 32,
    "start_time": "2024-12-18T09:39:17.154Z"
   },
   {
    "duration": 168,
    "start_time": "2024-12-18T09:39:17.188Z"
   },
   {
    "duration": 7,
    "start_time": "2024-12-18T09:39:17.357Z"
   },
   {
    "duration": 107,
    "start_time": "2024-12-18T09:39:17.366Z"
   },
   {
    "duration": 273,
    "start_time": "2024-12-18T09:39:17.474Z"
   },
   {
    "duration": 68,
    "start_time": "2024-12-18T09:39:17.749Z"
   },
   {
    "duration": 48,
    "start_time": "2024-12-18T09:39:17.818Z"
   },
   {
    "duration": 91,
    "start_time": "2024-12-18T09:39:17.886Z"
   },
   {
    "duration": 22,
    "start_time": "2024-12-18T09:39:17.986Z"
   },
   {
    "duration": 80,
    "start_time": "2024-12-18T09:39:18.010Z"
   },
   {
    "duration": 13,
    "start_time": "2024-12-18T09:39:18.092Z"
   },
   {
    "duration": 14,
    "start_time": "2024-12-18T09:39:18.107Z"
   },
   {
    "duration": 71,
    "start_time": "2024-12-18T09:39:18.122Z"
   },
   {
    "duration": 180,
    "start_time": "2024-12-18T09:39:18.195Z"
   },
   {
    "duration": 53,
    "start_time": "2024-12-18T09:39:18.378Z"
   },
   {
    "duration": 72,
    "start_time": "2024-12-18T09:39:18.433Z"
   },
   {
    "duration": 895,
    "start_time": "2024-12-18T09:39:18.506Z"
   },
   {
    "duration": 120,
    "start_time": "2024-12-18T09:39:25.797Z"
   },
   {
    "duration": 26,
    "start_time": "2024-12-18T09:39:42.781Z"
   },
   {
    "duration": 29,
    "start_time": "2024-12-18T09:39:55.702Z"
   },
   {
    "duration": 26,
    "start_time": "2024-12-18T09:39:59.140Z"
   },
   {
    "duration": 8,
    "start_time": "2024-12-18T09:40:13.855Z"
   },
   {
    "duration": 13,
    "start_time": "2024-12-18T09:40:20.694Z"
   },
   {
    "duration": 73,
    "start_time": "2024-12-18T09:40:25.933Z"
   },
   {
    "duration": 17,
    "start_time": "2024-12-18T09:41:15.186Z"
   },
   {
    "duration": 21,
    "start_time": "2024-12-18T09:41:21.341Z"
   },
   {
    "duration": 21,
    "start_time": "2024-12-18T09:42:03.436Z"
   },
   {
    "duration": 26,
    "start_time": "2024-12-18T09:43:21.517Z"
   },
   {
    "duration": 23,
    "start_time": "2024-12-18T09:44:48.215Z"
   },
   {
    "duration": 7,
    "start_time": "2024-12-18T09:44:58.625Z"
   },
   {
    "duration": 5,
    "start_time": "2024-12-18T09:45:07.506Z"
   },
   {
    "duration": 4,
    "start_time": "2024-12-18T09:50:03.746Z"
   },
   {
    "duration": 3,
    "start_time": "2024-12-18T09:50:11.635Z"
   },
   {
    "duration": 4,
    "start_time": "2024-12-18T09:53:16.954Z"
   },
   {
    "duration": 2624,
    "start_time": "2024-12-18T09:56:30.343Z"
   },
   {
    "duration": 417,
    "start_time": "2024-12-18T09:56:32.969Z"
   },
   {
    "duration": 694,
    "start_time": "2024-12-18T09:56:33.388Z"
   },
   {
    "duration": 93,
    "start_time": "2024-12-18T09:56:34.083Z"
   },
   {
    "duration": 2075,
    "start_time": "2024-12-18T09:56:34.178Z"
   },
   {
    "duration": 33,
    "start_time": "2024-12-18T09:56:36.255Z"
   },
   {
    "duration": 14,
    "start_time": "2024-12-18T09:56:36.290Z"
   },
   {
    "duration": 18,
    "start_time": "2024-12-18T09:56:36.305Z"
   },
   {
    "duration": 30,
    "start_time": "2024-12-18T09:56:36.325Z"
   },
   {
    "duration": 131,
    "start_time": "2024-12-18T09:56:36.357Z"
   },
   {
    "duration": 76,
    "start_time": "2024-12-18T09:56:36.490Z"
   },
   {
    "duration": 64,
    "start_time": "2024-12-18T09:56:36.567Z"
   },
   {
    "duration": 8,
    "start_time": "2024-12-18T09:56:36.633Z"
   },
   {
    "duration": 578,
    "start_time": "2024-12-18T09:56:36.644Z"
   },
   {
    "duration": 10,
    "start_time": "2024-12-18T09:56:37.224Z"
   },
   {
    "duration": 7,
    "start_time": "2024-12-18T09:56:37.236Z"
   },
   {
    "duration": 100,
    "start_time": "2024-12-18T09:56:37.245Z"
   },
   {
    "duration": 85,
    "start_time": "2024-12-18T09:56:37.347Z"
   },
   {
    "duration": 12,
    "start_time": "2024-12-18T09:56:37.434Z"
   },
   {
    "duration": 15,
    "start_time": "2024-12-18T09:56:37.447Z"
   },
   {
    "duration": 23,
    "start_time": "2024-12-18T09:56:37.463Z"
   },
   {
    "duration": 14,
    "start_time": "2024-12-18T09:56:37.487Z"
   },
   {
    "duration": 23,
    "start_time": "2024-12-18T09:56:37.503Z"
   },
   {
    "duration": 32,
    "start_time": "2024-12-18T09:56:37.528Z"
   },
   {
    "duration": 39,
    "start_time": "2024-12-18T09:56:37.562Z"
   },
   {
    "duration": 19,
    "start_time": "2024-12-18T09:56:37.602Z"
   },
   {
    "duration": 20,
    "start_time": "2024-12-18T09:56:37.622Z"
   },
   {
    "duration": 174,
    "start_time": "2024-12-18T09:56:37.644Z"
   },
   {
    "duration": 8,
    "start_time": "2024-12-18T09:56:37.820Z"
   },
   {
    "duration": 117,
    "start_time": "2024-12-18T09:56:37.830Z"
   },
   {
    "duration": 281,
    "start_time": "2024-12-18T09:56:37.949Z"
   },
   {
    "duration": 69,
    "start_time": "2024-12-18T09:56:38.232Z"
   },
   {
    "duration": 46,
    "start_time": "2024-12-18T09:56:38.302Z"
   },
   {
    "duration": 99,
    "start_time": "2024-12-18T09:56:38.350Z"
   },
   {
    "duration": 36,
    "start_time": "2024-12-18T09:56:38.451Z"
   },
   {
    "duration": 62,
    "start_time": "2024-12-18T09:56:38.488Z"
   },
   {
    "duration": 36,
    "start_time": "2024-12-18T09:56:38.551Z"
   },
   {
    "duration": 25,
    "start_time": "2024-12-18T09:56:38.589Z"
   },
   {
    "duration": 50,
    "start_time": "2024-12-18T09:56:38.615Z"
   },
   {
    "duration": 210,
    "start_time": "2024-12-18T09:56:38.666Z"
   },
   {
    "duration": 50,
    "start_time": "2024-12-18T09:56:38.886Z"
   },
   {
    "duration": 77,
    "start_time": "2024-12-18T09:56:38.937Z"
   },
   {
    "duration": 894,
    "start_time": "2024-12-18T09:56:39.015Z"
   },
   {
    "duration": 36,
    "start_time": "2024-12-18T09:56:39.911Z"
   },
   {
    "duration": 16,
    "start_time": "2024-12-18T09:56:39.948Z"
   },
   {
    "duration": 63,
    "start_time": "2024-12-18T09:56:39.966Z"
   },
   {
    "duration": 169,
    "start_time": "2024-12-18T09:56:40.031Z"
   },
   {
    "duration": 4,
    "start_time": "2024-12-18T09:56:40.201Z"
   },
   {
    "duration": 119,
    "start_time": "2024-12-18T09:56:40.206Z"
   },
   {
    "duration": 3,
    "start_time": "2024-12-18T09:56:40.327Z"
   },
   {
    "duration": 119,
    "start_time": "2024-12-18T09:56:40.331Z"
   },
   {
    "duration": 39,
    "start_time": "2024-12-18T09:56:40.451Z"
   },
   {
    "duration": 56,
    "start_time": "2024-12-18T09:56:40.491Z"
   },
   {
    "duration": 38,
    "start_time": "2024-12-18T09:56:40.549Z"
   },
   {
    "duration": 10,
    "start_time": "2024-12-18T09:56:40.589Z"
   },
   {
    "duration": 93,
    "start_time": "2024-12-18T10:17:10.798Z"
   },
   {
    "duration": 2,
    "start_time": "2024-12-18T10:18:45.841Z"
   },
   {
    "duration": 4,
    "start_time": "2024-12-18T10:21:28.494Z"
   },
   {
    "duration": 449,
    "start_time": "2024-12-18T10:21:28.501Z"
   },
   {
    "duration": 968,
    "start_time": "2024-12-18T10:21:28.953Z"
   },
   {
    "duration": 104,
    "start_time": "2024-12-18T10:21:29.923Z"
   },
   {
    "duration": 0,
    "start_time": "2024-12-18T10:21:30.029Z"
   },
   {
    "duration": 0,
    "start_time": "2024-12-18T10:21:30.031Z"
   },
   {
    "duration": 0,
    "start_time": "2024-12-18T10:21:30.032Z"
   },
   {
    "duration": 0,
    "start_time": "2024-12-18T10:21:30.033Z"
   },
   {
    "duration": 0,
    "start_time": "2024-12-18T10:21:30.034Z"
   },
   {
    "duration": 0,
    "start_time": "2024-12-18T10:21:30.035Z"
   },
   {
    "duration": 0,
    "start_time": "2024-12-18T10:21:30.036Z"
   },
   {
    "duration": 0,
    "start_time": "2024-12-18T10:21:30.037Z"
   },
   {
    "duration": 0,
    "start_time": "2024-12-18T10:21:30.038Z"
   },
   {
    "duration": 0,
    "start_time": "2024-12-18T10:21:30.054Z"
   },
   {
    "duration": 0,
    "start_time": "2024-12-18T10:21:30.055Z"
   },
   {
    "duration": 0,
    "start_time": "2024-12-18T10:21:30.056Z"
   },
   {
    "duration": 0,
    "start_time": "2024-12-18T10:21:30.058Z"
   },
   {
    "duration": 0,
    "start_time": "2024-12-18T10:21:30.059Z"
   },
   {
    "duration": 0,
    "start_time": "2024-12-18T10:21:30.059Z"
   },
   {
    "duration": 0,
    "start_time": "2024-12-18T10:21:30.061Z"
   },
   {
    "duration": 0,
    "start_time": "2024-12-18T10:21:30.062Z"
   },
   {
    "duration": 0,
    "start_time": "2024-12-18T10:21:30.062Z"
   },
   {
    "duration": 0,
    "start_time": "2024-12-18T10:21:30.063Z"
   },
   {
    "duration": 0,
    "start_time": "2024-12-18T10:21:30.065Z"
   },
   {
    "duration": 0,
    "start_time": "2024-12-18T10:21:30.066Z"
   },
   {
    "duration": 0,
    "start_time": "2024-12-18T10:21:30.068Z"
   },
   {
    "duration": 0,
    "start_time": "2024-12-18T10:21:30.070Z"
   },
   {
    "duration": 0,
    "start_time": "2024-12-18T10:21:30.071Z"
   },
   {
    "duration": 0,
    "start_time": "2024-12-18T10:21:30.072Z"
   },
   {
    "duration": 10,
    "start_time": "2024-12-18T10:21:30.075Z"
   },
   {
    "duration": 0,
    "start_time": "2024-12-18T10:21:30.086Z"
   },
   {
    "duration": 0,
    "start_time": "2024-12-18T10:21:30.087Z"
   },
   {
    "duration": 0,
    "start_time": "2024-12-18T10:21:30.088Z"
   },
   {
    "duration": 0,
    "start_time": "2024-12-18T10:21:30.089Z"
   },
   {
    "duration": 0,
    "start_time": "2024-12-18T10:21:30.090Z"
   },
   {
    "duration": 0,
    "start_time": "2024-12-18T10:21:30.091Z"
   },
   {
    "duration": 0,
    "start_time": "2024-12-18T10:21:30.092Z"
   },
   {
    "duration": 0,
    "start_time": "2024-12-18T10:21:30.154Z"
   },
   {
    "duration": 0,
    "start_time": "2024-12-18T10:21:30.156Z"
   },
   {
    "duration": 0,
    "start_time": "2024-12-18T10:21:30.157Z"
   },
   {
    "duration": 0,
    "start_time": "2024-12-18T10:21:30.158Z"
   },
   {
    "duration": 0,
    "start_time": "2024-12-18T10:21:30.160Z"
   },
   {
    "duration": 0,
    "start_time": "2024-12-18T10:21:30.161Z"
   },
   {
    "duration": 0,
    "start_time": "2024-12-18T10:21:30.162Z"
   },
   {
    "duration": 0,
    "start_time": "2024-12-18T10:21:30.163Z"
   },
   {
    "duration": 0,
    "start_time": "2024-12-18T10:21:30.164Z"
   },
   {
    "duration": 14,
    "start_time": "2024-12-18T10:21:30.174Z"
   },
   {
    "duration": 0,
    "start_time": "2024-12-18T10:21:30.190Z"
   },
   {
    "duration": 11,
    "start_time": "2024-12-18T10:21:30.472Z"
   },
   {
    "duration": 0,
    "start_time": "2024-12-18T10:21:30.484Z"
   },
   {
    "duration": 0,
    "start_time": "2024-12-18T10:21:30.485Z"
   },
   {
    "duration": 0,
    "start_time": "2024-12-18T10:21:30.486Z"
   },
   {
    "duration": 0,
    "start_time": "2024-12-18T10:21:30.487Z"
   },
   {
    "duration": 0,
    "start_time": "2024-12-18T10:21:30.488Z"
   },
   {
    "duration": 0,
    "start_time": "2024-12-18T10:21:30.489Z"
   },
   {
    "duration": 4,
    "start_time": "2024-12-18T10:22:06.946Z"
   },
   {
    "duration": 400,
    "start_time": "2024-12-18T10:22:06.951Z"
   },
   {
    "duration": 700,
    "start_time": "2024-12-18T10:22:07.354Z"
   },
   {
    "duration": 100,
    "start_time": "2024-12-18T10:22:08.055Z"
   },
   {
    "duration": 0,
    "start_time": "2024-12-18T10:22:08.157Z"
   },
   {
    "duration": 0,
    "start_time": "2024-12-18T10:22:08.158Z"
   },
   {
    "duration": 0,
    "start_time": "2024-12-18T10:22:08.159Z"
   },
   {
    "duration": 0,
    "start_time": "2024-12-18T10:22:08.160Z"
   },
   {
    "duration": 0,
    "start_time": "2024-12-18T10:22:08.161Z"
   },
   {
    "duration": 0,
    "start_time": "2024-12-18T10:22:08.162Z"
   },
   {
    "duration": 0,
    "start_time": "2024-12-18T10:22:08.163Z"
   },
   {
    "duration": 0,
    "start_time": "2024-12-18T10:22:08.164Z"
   },
   {
    "duration": 0,
    "start_time": "2024-12-18T10:22:08.165Z"
   },
   {
    "duration": 0,
    "start_time": "2024-12-18T10:22:08.166Z"
   },
   {
    "duration": 0,
    "start_time": "2024-12-18T10:22:08.167Z"
   },
   {
    "duration": 0,
    "start_time": "2024-12-18T10:22:08.168Z"
   },
   {
    "duration": 0,
    "start_time": "2024-12-18T10:22:08.168Z"
   },
   {
    "duration": 0,
    "start_time": "2024-12-18T10:22:08.169Z"
   },
   {
    "duration": 0,
    "start_time": "2024-12-18T10:22:08.170Z"
   },
   {
    "duration": 0,
    "start_time": "2024-12-18T10:22:08.171Z"
   },
   {
    "duration": 0,
    "start_time": "2024-12-18T10:22:08.172Z"
   },
   {
    "duration": 0,
    "start_time": "2024-12-18T10:22:08.173Z"
   },
   {
    "duration": 0,
    "start_time": "2024-12-18T10:22:08.174Z"
   },
   {
    "duration": 0,
    "start_time": "2024-12-18T10:22:08.175Z"
   },
   {
    "duration": 0,
    "start_time": "2024-12-18T10:22:08.176Z"
   },
   {
    "duration": 0,
    "start_time": "2024-12-18T10:22:08.177Z"
   },
   {
    "duration": 0,
    "start_time": "2024-12-18T10:22:08.178Z"
   },
   {
    "duration": 0,
    "start_time": "2024-12-18T10:22:08.179Z"
   },
   {
    "duration": 0,
    "start_time": "2024-12-18T10:22:08.180Z"
   },
   {
    "duration": 8,
    "start_time": "2024-12-18T10:22:08.292Z"
   },
   {
    "duration": 0,
    "start_time": "2024-12-18T10:22:08.302Z"
   },
   {
    "duration": 0,
    "start_time": "2024-12-18T10:22:08.303Z"
   },
   {
    "duration": 0,
    "start_time": "2024-12-18T10:22:08.304Z"
   },
   {
    "duration": 0,
    "start_time": "2024-12-18T10:22:08.305Z"
   },
   {
    "duration": 0,
    "start_time": "2024-12-18T10:22:08.306Z"
   },
   {
    "duration": 0,
    "start_time": "2024-12-18T10:22:08.307Z"
   },
   {
    "duration": 1,
    "start_time": "2024-12-18T10:22:08.307Z"
   },
   {
    "duration": 8,
    "start_time": "2024-12-18T10:22:08.347Z"
   },
   {
    "duration": 0,
    "start_time": "2024-12-18T10:22:08.356Z"
   },
   {
    "duration": 9,
    "start_time": "2024-12-18T10:22:08.387Z"
   },
   {
    "duration": 0,
    "start_time": "2024-12-18T10:22:08.398Z"
   },
   {
    "duration": 0,
    "start_time": "2024-12-18T10:22:08.399Z"
   },
   {
    "duration": 9,
    "start_time": "2024-12-18T10:22:08.514Z"
   },
   {
    "duration": 0,
    "start_time": "2024-12-18T10:22:08.525Z"
   },
   {
    "duration": 7,
    "start_time": "2024-12-18T10:22:08.566Z"
   },
   {
    "duration": 36,
    "start_time": "2024-12-18T10:22:08.611Z"
   },
   {
    "duration": 53,
    "start_time": "2024-12-18T10:22:08.699Z"
   },
   {
    "duration": 0,
    "start_time": "2024-12-18T10:22:08.754Z"
   },
   {
    "duration": 10,
    "start_time": "2024-12-18T10:22:08.790Z"
   },
   {
    "duration": 0,
    "start_time": "2024-12-18T10:22:08.801Z"
   },
   {
    "duration": 9,
    "start_time": "2024-12-18T10:22:09.523Z"
   },
   {
    "duration": 0,
    "start_time": "2024-12-18T10:22:09.533Z"
   },
   {
    "duration": 0,
    "start_time": "2024-12-18T10:22:09.535Z"
   },
   {
    "duration": 0,
    "start_time": "2024-12-18T10:22:09.536Z"
   },
   {
    "duration": 0,
    "start_time": "2024-12-18T10:22:09.538Z"
   },
   {
    "duration": 6,
    "start_time": "2024-12-18T10:22:54.448Z"
   },
   {
    "duration": 3,
    "start_time": "2024-12-18T10:23:01.528Z"
   },
   {
    "duration": 436,
    "start_time": "2024-12-18T10:23:01.533Z"
   },
   {
    "duration": 813,
    "start_time": "2024-12-18T10:23:01.971Z"
   },
   {
    "duration": 2,
    "start_time": "2024-12-18T10:23:02.786Z"
   },
   {
    "duration": 2865,
    "start_time": "2024-12-18T10:23:02.790Z"
   },
   {
    "duration": 18,
    "start_time": "2024-12-18T10:23:05.657Z"
   },
   {
    "duration": 18,
    "start_time": "2024-12-18T10:23:05.676Z"
   },
   {
    "duration": 61,
    "start_time": "2024-12-18T10:23:05.695Z"
   },
   {
    "duration": 90,
    "start_time": "2024-12-18T10:23:05.757Z"
   },
   {
    "duration": 136,
    "start_time": "2024-12-18T10:23:05.849Z"
   },
   {
    "duration": 91,
    "start_time": "2024-12-18T10:23:05.986Z"
   },
   {
    "duration": 49,
    "start_time": "2024-12-18T10:23:06.078Z"
   },
   {
    "duration": 4,
    "start_time": "2024-12-18T10:23:06.128Z"
   },
   {
    "duration": 721,
    "start_time": "2024-12-18T10:23:06.133Z"
   },
   {
    "duration": 12,
    "start_time": "2024-12-18T10:23:06.856Z"
   },
   {
    "duration": 17,
    "start_time": "2024-12-18T10:23:06.869Z"
   },
   {
    "duration": 131,
    "start_time": "2024-12-18T10:23:06.888Z"
   },
   {
    "duration": 101,
    "start_time": "2024-12-18T10:23:07.020Z"
   },
   {
    "duration": 14,
    "start_time": "2024-12-18T10:23:07.123Z"
   },
   {
    "duration": 24,
    "start_time": "2024-12-18T10:23:07.138Z"
   },
   {
    "duration": 15,
    "start_time": "2024-12-18T10:23:07.163Z"
   },
   {
    "duration": 28,
    "start_time": "2024-12-18T10:23:07.179Z"
   },
   {
    "duration": 43,
    "start_time": "2024-12-18T10:23:07.209Z"
   },
   {
    "duration": 47,
    "start_time": "2024-12-18T10:23:07.253Z"
   },
   {
    "duration": 34,
    "start_time": "2024-12-18T10:23:07.301Z"
   },
   {
    "duration": 38,
    "start_time": "2024-12-18T10:23:07.336Z"
   },
   {
    "duration": 24,
    "start_time": "2024-12-18T10:23:07.376Z"
   },
   {
    "duration": 204,
    "start_time": "2024-12-18T10:23:07.404Z"
   },
   {
    "duration": 10,
    "start_time": "2024-12-18T10:23:07.610Z"
   },
   {
    "duration": 122,
    "start_time": "2024-12-18T10:23:07.622Z"
   },
   {
    "duration": 317,
    "start_time": "2024-12-18T10:23:07.746Z"
   },
   {
    "duration": 60,
    "start_time": "2024-12-18T10:23:08.065Z"
   },
   {
    "duration": 65,
    "start_time": "2024-12-18T10:23:08.126Z"
   },
   {
    "duration": 101,
    "start_time": "2024-12-18T10:23:08.192Z"
   },
   {
    "duration": 24,
    "start_time": "2024-12-18T10:23:08.295Z"
   },
   {
    "duration": 78,
    "start_time": "2024-12-18T10:23:08.321Z"
   },
   {
    "duration": 15,
    "start_time": "2024-12-18T10:23:08.400Z"
   },
   {
    "duration": 47,
    "start_time": "2024-12-18T10:23:08.416Z"
   },
   {
    "duration": 53,
    "start_time": "2024-12-18T10:23:08.464Z"
   },
   {
    "duration": 206,
    "start_time": "2024-12-18T10:23:08.519Z"
   },
   {
    "duration": 50,
    "start_time": "2024-12-18T10:23:08.726Z"
   },
   {
    "duration": 85,
    "start_time": "2024-12-18T10:23:08.778Z"
   },
   {
    "duration": 935,
    "start_time": "2024-12-18T10:23:08.865Z"
   },
   {
    "duration": 42,
    "start_time": "2024-12-18T10:23:09.802Z"
   },
   {
    "duration": 18,
    "start_time": "2024-12-18T10:23:09.854Z"
   },
   {
    "duration": 49,
    "start_time": "2024-12-18T10:23:09.874Z"
   },
   {
    "duration": 173,
    "start_time": "2024-12-18T10:23:09.924Z"
   },
   {
    "duration": 4,
    "start_time": "2024-12-18T10:23:10.098Z"
   },
   {
    "duration": 149,
    "start_time": "2024-12-18T10:23:10.103Z"
   },
   {
    "duration": 4,
    "start_time": "2024-12-18T10:23:10.253Z"
   },
   {
    "duration": 133,
    "start_time": "2024-12-18T10:23:10.259Z"
   },
   {
    "duration": 42,
    "start_time": "2024-12-18T10:23:10.393Z"
   },
   {
    "duration": 77,
    "start_time": "2024-12-18T10:23:10.437Z"
   },
   {
    "duration": 40,
    "start_time": "2024-12-18T10:23:10.516Z"
   },
   {
    "duration": 13,
    "start_time": "2024-12-18T10:23:10.557Z"
   },
   {
    "duration": 299,
    "start_time": "2024-12-18T10:27:29.952Z"
   },
   {
    "duration": 1379,
    "start_time": "2024-12-18T10:32:57.093Z"
   },
   {
    "duration": 4,
    "start_time": "2024-12-18T10:33:13.231Z"
   },
   {
    "duration": 425,
    "start_time": "2024-12-18T10:33:13.237Z"
   },
   {
    "duration": 793,
    "start_time": "2024-12-18T10:33:13.664Z"
   },
   {
    "duration": 3,
    "start_time": "2024-12-18T10:33:14.458Z"
   },
   {
    "duration": 2479,
    "start_time": "2024-12-18T10:33:14.463Z"
   },
   {
    "duration": 24,
    "start_time": "2024-12-18T10:33:16.944Z"
   },
   {
    "duration": 7,
    "start_time": "2024-12-18T10:33:16.970Z"
   },
   {
    "duration": 2918,
    "start_time": "2024-12-18T10:33:16.978Z"
   },
   {
    "duration": 62,
    "start_time": "2024-12-18T10:33:19.898Z"
   },
   {
    "duration": 40,
    "start_time": "2024-12-18T10:33:19.961Z"
   },
   {
    "duration": 274,
    "start_time": "2024-12-18T10:33:20.004Z"
   },
   {
    "duration": 191,
    "start_time": "2024-12-18T10:33:20.280Z"
   },
   {
    "duration": 103,
    "start_time": "2024-12-18T10:33:20.472Z"
   },
   {
    "duration": 3,
    "start_time": "2024-12-18T10:33:20.577Z"
   },
   {
    "duration": 829,
    "start_time": "2024-12-18T10:33:20.582Z"
   },
   {
    "duration": 12,
    "start_time": "2024-12-18T10:33:21.412Z"
   },
   {
    "duration": 9,
    "start_time": "2024-12-18T10:33:21.426Z"
   },
   {
    "duration": 124,
    "start_time": "2024-12-18T10:33:21.436Z"
   },
   {
    "duration": 108,
    "start_time": "2024-12-18T10:33:21.561Z"
   },
   {
    "duration": 17,
    "start_time": "2024-12-18T10:33:21.670Z"
   },
   {
    "duration": 17,
    "start_time": "2024-12-18T10:33:21.688Z"
   },
   {
    "duration": 10,
    "start_time": "2024-12-18T10:33:21.707Z"
   },
   {
    "duration": 39,
    "start_time": "2024-12-18T10:33:21.719Z"
   },
   {
    "duration": 16,
    "start_time": "2024-12-18T10:33:21.759Z"
   },
   {
    "duration": 42,
    "start_time": "2024-12-18T10:33:21.776Z"
   },
   {
    "duration": 56,
    "start_time": "2024-12-18T10:33:21.819Z"
   },
   {
    "duration": 23,
    "start_time": "2024-12-18T10:33:21.876Z"
   },
   {
    "duration": 19,
    "start_time": "2024-12-18T10:33:21.900Z"
   },
   {
    "duration": 195,
    "start_time": "2024-12-18T10:33:21.922Z"
   },
   {
    "duration": 8,
    "start_time": "2024-12-18T10:33:22.118Z"
   },
   {
    "duration": 110,
    "start_time": "2024-12-18T10:33:22.128Z"
   },
   {
    "duration": 327,
    "start_time": "2024-12-18T10:33:22.240Z"
   },
   {
    "duration": 60,
    "start_time": "2024-12-18T10:33:22.568Z"
   },
   {
    "duration": 69,
    "start_time": "2024-12-18T10:33:22.630Z"
   },
   {
    "duration": 124,
    "start_time": "2024-12-18T10:33:22.700Z"
   },
   {
    "duration": 29,
    "start_time": "2024-12-18T10:33:22.826Z"
   },
   {
    "duration": 72,
    "start_time": "2024-12-18T10:33:22.856Z"
   },
   {
    "duration": 15,
    "start_time": "2024-12-18T10:33:22.955Z"
   },
   {
    "duration": 20,
    "start_time": "2024-12-18T10:33:22.971Z"
   },
   {
    "duration": 118,
    "start_time": "2024-12-18T10:33:22.992Z"
   },
   {
    "duration": 191,
    "start_time": "2024-12-18T10:33:23.112Z"
   },
   {
    "duration": 61,
    "start_time": "2024-12-18T10:33:23.304Z"
   },
   {
    "duration": 90,
    "start_time": "2024-12-18T10:33:23.367Z"
   },
   {
    "duration": 935,
    "start_time": "2024-12-18T10:33:23.459Z"
   },
   {
    "duration": 71,
    "start_time": "2024-12-18T10:33:24.396Z"
   },
   {
    "duration": 17,
    "start_time": "2024-12-18T10:33:24.469Z"
   },
   {
    "duration": 45,
    "start_time": "2024-12-18T10:33:24.488Z"
   },
   {
    "duration": 164,
    "start_time": "2024-12-18T10:33:24.534Z"
   },
   {
    "duration": 4,
    "start_time": "2024-12-18T10:33:24.699Z"
   },
   {
    "duration": 161,
    "start_time": "2024-12-18T10:33:24.704Z"
   },
   {
    "duration": 3,
    "start_time": "2024-12-18T10:33:24.867Z"
   },
   {
    "duration": 135,
    "start_time": "2024-12-18T10:33:24.871Z"
   },
   {
    "duration": 31,
    "start_time": "2024-12-18T10:33:25.007Z"
   },
   {
    "duration": 81,
    "start_time": "2024-12-18T10:33:25.040Z"
   },
   {
    "duration": 31,
    "start_time": "2024-12-18T10:33:25.123Z"
   },
   {
    "duration": 12,
    "start_time": "2024-12-18T10:33:25.156Z"
   },
   {
    "duration": 1502,
    "start_time": "2024-12-18T10:35:19.219Z"
   },
   {
    "duration": 5,
    "start_time": "2024-12-18T10:35:34.400Z"
   },
   {
    "duration": 403,
    "start_time": "2024-12-18T10:35:34.407Z"
   },
   {
    "duration": 748,
    "start_time": "2024-12-18T10:35:34.812Z"
   },
   {
    "duration": 2,
    "start_time": "2024-12-18T10:35:35.563Z"
   },
   {
    "duration": 2503,
    "start_time": "2024-12-18T10:35:35.567Z"
   },
   {
    "duration": 23,
    "start_time": "2024-12-18T10:35:38.071Z"
   },
   {
    "duration": 8,
    "start_time": "2024-12-18T10:35:38.096Z"
   },
   {
    "duration": 2551,
    "start_time": "2024-12-18T10:35:38.106Z"
   },
   {
    "duration": 40,
    "start_time": "2024-12-18T10:35:40.659Z"
   },
   {
    "duration": 78,
    "start_time": "2024-12-18T10:35:40.700Z"
   },
   {
    "duration": 133,
    "start_time": "2024-12-18T10:35:40.779Z"
   },
   {
    "duration": 101,
    "start_time": "2024-12-18T10:35:40.913Z"
   },
   {
    "duration": 56,
    "start_time": "2024-12-18T10:35:41.015Z"
   },
   {
    "duration": 13,
    "start_time": "2024-12-18T10:35:41.072Z"
   },
   {
    "duration": 728,
    "start_time": "2024-12-18T10:35:41.086Z"
   },
   {
    "duration": 11,
    "start_time": "2024-12-18T10:35:41.815Z"
   },
   {
    "duration": 53,
    "start_time": "2024-12-18T10:35:41.828Z"
   },
   {
    "duration": 119,
    "start_time": "2024-12-18T10:35:41.882Z"
   },
   {
    "duration": 107,
    "start_time": "2024-12-18T10:35:42.003Z"
   },
   {
    "duration": 14,
    "start_time": "2024-12-18T10:35:42.112Z"
   },
   {
    "duration": 28,
    "start_time": "2024-12-18T10:35:42.127Z"
   },
   {
    "duration": 22,
    "start_time": "2024-12-18T10:35:42.156Z"
   },
   {
    "duration": 19,
    "start_time": "2024-12-18T10:35:42.179Z"
   },
   {
    "duration": 17,
    "start_time": "2024-12-18T10:35:42.201Z"
   },
   {
    "duration": 72,
    "start_time": "2024-12-18T10:35:42.219Z"
   },
   {
    "duration": 36,
    "start_time": "2024-12-18T10:35:42.292Z"
   },
   {
    "duration": 39,
    "start_time": "2024-12-18T10:35:42.329Z"
   },
   {
    "duration": 25,
    "start_time": "2024-12-18T10:35:42.370Z"
   },
   {
    "duration": 189,
    "start_time": "2024-12-18T10:35:42.397Z"
   },
   {
    "duration": 9,
    "start_time": "2024-12-18T10:35:42.588Z"
   },
   {
    "duration": 130,
    "start_time": "2024-12-18T10:35:42.599Z"
   },
   {
    "duration": 360,
    "start_time": "2024-12-18T10:35:42.731Z"
   },
   {
    "duration": 80,
    "start_time": "2024-12-18T10:35:43.093Z"
   },
   {
    "duration": 52,
    "start_time": "2024-12-18T10:35:43.175Z"
   },
   {
    "duration": 108,
    "start_time": "2024-12-18T10:35:43.229Z"
   },
   {
    "duration": 38,
    "start_time": "2024-12-18T10:35:43.339Z"
   },
   {
    "duration": 106,
    "start_time": "2024-12-18T10:35:43.379Z"
   },
   {
    "duration": 17,
    "start_time": "2024-12-18T10:35:43.487Z"
   },
   {
    "duration": 26,
    "start_time": "2024-12-18T10:35:43.505Z"
   },
   {
    "duration": 73,
    "start_time": "2024-12-18T10:35:43.533Z"
   },
   {
    "duration": 221,
    "start_time": "2024-12-18T10:35:43.607Z"
   },
   {
    "duration": 53,
    "start_time": "2024-12-18T10:35:43.830Z"
   },
   {
    "duration": 99,
    "start_time": "2024-12-18T10:35:43.884Z"
   },
   {
    "duration": 1019,
    "start_time": "2024-12-18T10:35:43.985Z"
   },
   {
    "duration": 62,
    "start_time": "2024-12-18T10:35:45.006Z"
   },
   {
    "duration": 105,
    "start_time": "2024-12-18T10:35:45.070Z"
   },
   {
    "duration": 69,
    "start_time": "2024-12-18T10:35:45.176Z"
   },
   {
    "duration": 201,
    "start_time": "2024-12-18T10:35:45.247Z"
   },
   {
    "duration": 4,
    "start_time": "2024-12-18T10:35:45.450Z"
   },
   {
    "duration": 143,
    "start_time": "2024-12-18T10:35:45.455Z"
   },
   {
    "duration": 3,
    "start_time": "2024-12-18T10:35:45.600Z"
   },
   {
    "duration": 171,
    "start_time": "2024-12-18T10:35:45.605Z"
   },
   {
    "duration": 35,
    "start_time": "2024-12-18T10:35:45.778Z"
   },
   {
    "duration": 75,
    "start_time": "2024-12-18T10:35:45.815Z"
   },
   {
    "duration": 33,
    "start_time": "2024-12-18T10:35:45.892Z"
   },
   {
    "duration": 30,
    "start_time": "2024-12-18T10:35:45.927Z"
   },
   {
    "duration": 1428,
    "start_time": "2024-12-18T10:38:22.869Z"
   },
   {
    "duration": 3,
    "start_time": "2024-12-18T10:38:34.778Z"
   },
   {
    "duration": 377,
    "start_time": "2024-12-18T10:38:34.782Z"
   },
   {
    "duration": 708,
    "start_time": "2024-12-18T10:38:35.160Z"
   },
   {
    "duration": 2,
    "start_time": "2024-12-18T10:38:35.870Z"
   },
   {
    "duration": 2119,
    "start_time": "2024-12-18T10:38:35.873Z"
   },
   {
    "duration": 18,
    "start_time": "2024-12-18T10:38:37.994Z"
   },
   {
    "duration": 14,
    "start_time": "2024-12-18T10:38:38.013Z"
   },
   {
    "duration": 3439,
    "start_time": "2024-12-18T10:38:38.028Z"
   },
   {
    "duration": 93,
    "start_time": "2024-12-18T10:38:41.469Z"
   },
   {
    "duration": 25,
    "start_time": "2024-12-18T10:38:41.564Z"
   },
   {
    "duration": 153,
    "start_time": "2024-12-18T10:38:41.591Z"
   },
   {
    "duration": 95,
    "start_time": "2024-12-18T10:38:41.746Z"
   },
   {
    "duration": 61,
    "start_time": "2024-12-18T10:38:41.843Z"
   },
   {
    "duration": 4,
    "start_time": "2024-12-18T10:38:41.906Z"
   },
   {
    "duration": 681,
    "start_time": "2024-12-18T10:38:41.912Z"
   },
   {
    "duration": 13,
    "start_time": "2024-12-18T10:38:42.595Z"
   },
   {
    "duration": 12,
    "start_time": "2024-12-18T10:38:42.609Z"
   },
   {
    "duration": 141,
    "start_time": "2024-12-18T10:38:42.623Z"
   },
   {
    "duration": 108,
    "start_time": "2024-12-18T10:38:42.766Z"
   },
   {
    "duration": 16,
    "start_time": "2024-12-18T10:38:42.875Z"
   },
   {
    "duration": 9,
    "start_time": "2024-12-18T10:38:42.893Z"
   },
   {
    "duration": 20,
    "start_time": "2024-12-18T10:38:42.904Z"
   },
   {
    "duration": 38,
    "start_time": "2024-12-18T10:38:42.926Z"
   },
   {
    "duration": 15,
    "start_time": "2024-12-18T10:38:42.969Z"
   },
   {
    "duration": 40,
    "start_time": "2024-12-18T10:38:42.986Z"
   },
   {
    "duration": 59,
    "start_time": "2024-12-18T10:38:43.028Z"
   },
   {
    "duration": 26,
    "start_time": "2024-12-18T10:38:43.089Z"
   },
   {
    "duration": 37,
    "start_time": "2024-12-18T10:38:43.117Z"
   },
   {
    "duration": 168,
    "start_time": "2024-12-18T10:38:43.156Z"
   },
   {
    "duration": 28,
    "start_time": "2024-12-18T10:38:43.326Z"
   },
   {
    "duration": 107,
    "start_time": "2024-12-18T10:38:43.356Z"
   },
   {
    "duration": 321,
    "start_time": "2024-12-18T10:38:43.465Z"
   },
   {
    "duration": 81,
    "start_time": "2024-12-18T10:38:43.788Z"
   },
   {
    "duration": 49,
    "start_time": "2024-12-18T10:38:43.870Z"
   },
   {
    "duration": 98,
    "start_time": "2024-12-18T10:38:43.920Z"
   },
   {
    "duration": 25,
    "start_time": "2024-12-18T10:38:44.020Z"
   },
   {
    "duration": 73,
    "start_time": "2024-12-18T10:38:44.055Z"
   },
   {
    "duration": 16,
    "start_time": "2024-12-18T10:38:44.155Z"
   },
   {
    "duration": 20,
    "start_time": "2024-12-18T10:38:44.172Z"
   },
   {
    "duration": 71,
    "start_time": "2024-12-18T10:38:44.193Z"
   },
   {
    "duration": 228,
    "start_time": "2024-12-18T10:38:44.266Z"
   },
   {
    "duration": 63,
    "start_time": "2024-12-18T10:38:44.496Z"
   },
   {
    "duration": 96,
    "start_time": "2024-12-18T10:38:44.561Z"
   },
   {
    "duration": 967,
    "start_time": "2024-12-18T10:38:44.659Z"
   },
   {
    "duration": 57,
    "start_time": "2024-12-18T10:38:45.628Z"
   },
   {
    "duration": 17,
    "start_time": "2024-12-18T10:38:45.687Z"
   },
   {
    "duration": 56,
    "start_time": "2024-12-18T10:38:45.705Z"
   },
   {
    "duration": 167,
    "start_time": "2024-12-18T10:38:45.762Z"
   },
   {
    "duration": 3,
    "start_time": "2024-12-18T10:38:45.931Z"
   },
   {
    "duration": 127,
    "start_time": "2024-12-18T10:38:45.936Z"
   },
   {
    "duration": 4,
    "start_time": "2024-12-18T10:38:46.064Z"
   },
   {
    "duration": 179,
    "start_time": "2024-12-18T10:38:46.069Z"
   },
   {
    "duration": 37,
    "start_time": "2024-12-18T10:38:46.249Z"
   },
   {
    "duration": 73,
    "start_time": "2024-12-18T10:38:46.288Z"
   },
   {
    "duration": 32,
    "start_time": "2024-12-18T10:38:46.364Z"
   },
   {
    "duration": 13,
    "start_time": "2024-12-18T10:38:46.398Z"
   },
   {
    "duration": 1523,
    "start_time": "2024-12-18T10:40:13.664Z"
   },
   {
    "duration": 1747,
    "start_time": "2024-12-18T10:40:25.082Z"
   },
   {
    "duration": 72,
    "start_time": "2024-12-18T10:42:34.400Z"
   },
   {
    "duration": 3,
    "start_time": "2024-12-18T10:42:47.073Z"
   },
   {
    "duration": 435,
    "start_time": "2024-12-18T10:42:47.078Z"
   },
   {
    "duration": 758,
    "start_time": "2024-12-18T10:42:47.514Z"
   },
   {
    "duration": 2,
    "start_time": "2024-12-18T10:42:48.275Z"
   },
   {
    "duration": 2415,
    "start_time": "2024-12-18T10:42:48.279Z"
   },
   {
    "duration": 22,
    "start_time": "2024-12-18T10:42:50.695Z"
   },
   {
    "duration": 37,
    "start_time": "2024-12-18T10:42:50.719Z"
   },
   {
    "duration": 2715,
    "start_time": "2024-12-18T10:42:50.758Z"
   },
   {
    "duration": 1551,
    "start_time": "2024-12-18T10:42:53.475Z"
   },
   {
    "duration": 0,
    "start_time": "2024-12-18T10:42:55.029Z"
   },
   {
    "duration": 0,
    "start_time": "2024-12-18T10:42:55.030Z"
   },
   {
    "duration": 0,
    "start_time": "2024-12-18T10:42:55.031Z"
   },
   {
    "duration": 0,
    "start_time": "2024-12-18T10:42:55.033Z"
   },
   {
    "duration": 0,
    "start_time": "2024-12-18T10:42:55.034Z"
   },
   {
    "duration": 0,
    "start_time": "2024-12-18T10:42:55.036Z"
   },
   {
    "duration": 0,
    "start_time": "2024-12-18T10:42:55.037Z"
   },
   {
    "duration": 0,
    "start_time": "2024-12-18T10:42:55.039Z"
   },
   {
    "duration": 0,
    "start_time": "2024-12-18T10:42:55.040Z"
   },
   {
    "duration": 0,
    "start_time": "2024-12-18T10:42:55.041Z"
   },
   {
    "duration": 0,
    "start_time": "2024-12-18T10:42:55.043Z"
   },
   {
    "duration": 0,
    "start_time": "2024-12-18T10:42:55.043Z"
   },
   {
    "duration": 0,
    "start_time": "2024-12-18T10:42:55.045Z"
   },
   {
    "duration": 0,
    "start_time": "2024-12-18T10:42:55.046Z"
   },
   {
    "duration": 0,
    "start_time": "2024-12-18T10:42:55.047Z"
   },
   {
    "duration": 0,
    "start_time": "2024-12-18T10:42:55.048Z"
   },
   {
    "duration": 0,
    "start_time": "2024-12-18T10:42:55.049Z"
   },
   {
    "duration": 0,
    "start_time": "2024-12-18T10:42:55.050Z"
   },
   {
    "duration": 0,
    "start_time": "2024-12-18T10:42:55.052Z"
   },
   {
    "duration": 0,
    "start_time": "2024-12-18T10:42:55.052Z"
   },
   {
    "duration": 0,
    "start_time": "2024-12-18T10:42:55.054Z"
   },
   {
    "duration": 0,
    "start_time": "2024-12-18T10:42:55.055Z"
   },
   {
    "duration": 0,
    "start_time": "2024-12-18T10:42:55.056Z"
   },
   {
    "duration": 0,
    "start_time": "2024-12-18T10:42:55.057Z"
   },
   {
    "duration": 0,
    "start_time": "2024-12-18T10:42:55.059Z"
   },
   {
    "duration": 0,
    "start_time": "2024-12-18T10:42:55.059Z"
   },
   {
    "duration": 0,
    "start_time": "2024-12-18T10:42:55.061Z"
   },
   {
    "duration": 0,
    "start_time": "2024-12-18T10:42:55.062Z"
   },
   {
    "duration": 0,
    "start_time": "2024-12-18T10:42:55.063Z"
   },
   {
    "duration": 0,
    "start_time": "2024-12-18T10:42:55.064Z"
   },
   {
    "duration": 0,
    "start_time": "2024-12-18T10:42:55.065Z"
   },
   {
    "duration": 0,
    "start_time": "2024-12-18T10:42:55.066Z"
   },
   {
    "duration": 0,
    "start_time": "2024-12-18T10:42:55.067Z"
   },
   {
    "duration": 0,
    "start_time": "2024-12-18T10:42:55.068Z"
   },
   {
    "duration": 0,
    "start_time": "2024-12-18T10:42:55.069Z"
   },
   {
    "duration": 0,
    "start_time": "2024-12-18T10:42:55.070Z"
   },
   {
    "duration": 0,
    "start_time": "2024-12-18T10:42:55.071Z"
   },
   {
    "duration": 0,
    "start_time": "2024-12-18T10:42:55.072Z"
   },
   {
    "duration": 0,
    "start_time": "2024-12-18T10:42:55.073Z"
   },
   {
    "duration": 0,
    "start_time": "2024-12-18T10:42:55.074Z"
   },
   {
    "duration": 0,
    "start_time": "2024-12-18T10:42:55.075Z"
   },
   {
    "duration": 0,
    "start_time": "2024-12-18T10:42:55.076Z"
   },
   {
    "duration": 0,
    "start_time": "2024-12-18T10:42:55.077Z"
   },
   {
    "duration": 0,
    "start_time": "2024-12-18T10:42:55.078Z"
   },
   {
    "duration": 0,
    "start_time": "2024-12-18T10:42:55.079Z"
   },
   {
    "duration": 0,
    "start_time": "2024-12-18T10:42:55.080Z"
   },
   {
    "duration": 0,
    "start_time": "2024-12-18T10:42:55.081Z"
   },
   {
    "duration": 86,
    "start_time": "2024-12-18T10:44:37.940Z"
   },
   {
    "duration": 95,
    "start_time": "2024-12-18T10:44:46.278Z"
   },
   {
    "duration": 28,
    "start_time": "2024-12-18T10:47:04.834Z"
   },
   {
    "duration": 142,
    "start_time": "2024-12-18T10:47:57.286Z"
   },
   {
    "duration": 36,
    "start_time": "2024-12-18T10:52:45.122Z"
   },
   {
    "duration": 62,
    "start_time": "2024-12-18T10:53:19.256Z"
   },
   {
    "duration": 53,
    "start_time": "2024-12-18T10:53:50.493Z"
   },
   {
    "duration": 106,
    "start_time": "2024-12-18T10:54:39.096Z"
   },
   {
    "duration": 71,
    "start_time": "2024-12-18T10:55:35.571Z"
   },
   {
    "duration": 28,
    "start_time": "2024-12-18T11:41:38.917Z"
   },
   {
    "duration": 11,
    "start_time": "2024-12-18T11:42:13.396Z"
   },
   {
    "duration": 3,
    "start_time": "2024-12-18T11:45:08.974Z"
   },
   {
    "duration": 398,
    "start_time": "2024-12-18T11:45:08.980Z"
   },
   {
    "duration": 793,
    "start_time": "2024-12-18T11:45:09.380Z"
   },
   {
    "duration": 2,
    "start_time": "2024-12-18T11:45:10.175Z"
   },
   {
    "duration": 2648,
    "start_time": "2024-12-18T11:45:10.180Z"
   },
   {
    "duration": 32,
    "start_time": "2024-12-18T11:45:12.829Z"
   },
   {
    "duration": 7,
    "start_time": "2024-12-18T11:45:12.862Z"
   },
   {
    "duration": 101,
    "start_time": "2024-12-18T11:45:12.870Z"
   },
   {
    "duration": 123,
    "start_time": "2024-12-18T11:45:12.973Z"
   },
   {
    "duration": 101,
    "start_time": "2024-12-18T11:45:13.097Z"
   },
   {
    "duration": 26,
    "start_time": "2024-12-18T11:45:13.201Z"
   },
   {
    "duration": 137,
    "start_time": "2024-12-18T11:45:13.229Z"
   },
   {
    "duration": 139,
    "start_time": "2024-12-18T11:45:13.367Z"
   },
   {
    "duration": 31,
    "start_time": "2024-12-18T11:45:13.508Z"
   },
   {
    "duration": 109,
    "start_time": "2024-12-18T11:45:13.540Z"
   },
   {
    "duration": 0,
    "start_time": "2024-12-18T11:45:13.654Z"
   },
   {
    "duration": 0,
    "start_time": "2024-12-18T11:45:13.655Z"
   },
   {
    "duration": 0,
    "start_time": "2024-12-18T11:45:13.656Z"
   },
   {
    "duration": 0,
    "start_time": "2024-12-18T11:45:13.657Z"
   },
   {
    "duration": 0,
    "start_time": "2024-12-18T11:45:13.658Z"
   },
   {
    "duration": 0,
    "start_time": "2024-12-18T11:45:13.659Z"
   },
   {
    "duration": 0,
    "start_time": "2024-12-18T11:45:13.660Z"
   },
   {
    "duration": 0,
    "start_time": "2024-12-18T11:45:13.661Z"
   },
   {
    "duration": 0,
    "start_time": "2024-12-18T11:45:13.662Z"
   },
   {
    "duration": 0,
    "start_time": "2024-12-18T11:45:13.663Z"
   },
   {
    "duration": 0,
    "start_time": "2024-12-18T11:45:13.664Z"
   },
   {
    "duration": 0,
    "start_time": "2024-12-18T11:45:13.665Z"
   },
   {
    "duration": 0,
    "start_time": "2024-12-18T11:45:13.666Z"
   },
   {
    "duration": 0,
    "start_time": "2024-12-18T11:45:13.667Z"
   },
   {
    "duration": 0,
    "start_time": "2024-12-18T11:45:13.668Z"
   },
   {
    "duration": 0,
    "start_time": "2024-12-18T11:45:13.668Z"
   },
   {
    "duration": 0,
    "start_time": "2024-12-18T11:45:13.670Z"
   },
   {
    "duration": 0,
    "start_time": "2024-12-18T11:45:13.670Z"
   },
   {
    "duration": 0,
    "start_time": "2024-12-18T11:45:13.672Z"
   },
   {
    "duration": 0,
    "start_time": "2024-12-18T11:45:13.672Z"
   },
   {
    "duration": 0,
    "start_time": "2024-12-18T11:45:13.673Z"
   },
   {
    "duration": 0,
    "start_time": "2024-12-18T11:45:13.674Z"
   },
   {
    "duration": 0,
    "start_time": "2024-12-18T11:45:13.675Z"
   },
   {
    "duration": 0,
    "start_time": "2024-12-18T11:45:13.676Z"
   },
   {
    "duration": 0,
    "start_time": "2024-12-18T11:45:13.678Z"
   },
   {
    "duration": 0,
    "start_time": "2024-12-18T11:45:13.678Z"
   },
   {
    "duration": 0,
    "start_time": "2024-12-18T11:45:13.679Z"
   },
   {
    "duration": 0,
    "start_time": "2024-12-18T11:45:13.680Z"
   },
   {
    "duration": 0,
    "start_time": "2024-12-18T11:45:13.682Z"
   },
   {
    "duration": 0,
    "start_time": "2024-12-18T11:45:13.682Z"
   },
   {
    "duration": 0,
    "start_time": "2024-12-18T11:45:13.683Z"
   },
   {
    "duration": 0,
    "start_time": "2024-12-18T11:45:13.685Z"
   },
   {
    "duration": 0,
    "start_time": "2024-12-18T11:45:13.685Z"
   },
   {
    "duration": 0,
    "start_time": "2024-12-18T11:45:13.686Z"
   },
   {
    "duration": 0,
    "start_time": "2024-12-18T11:45:13.687Z"
   },
   {
    "duration": 0,
    "start_time": "2024-12-18T11:45:13.688Z"
   },
   {
    "duration": 0,
    "start_time": "2024-12-18T11:45:13.689Z"
   },
   {
    "duration": 0,
    "start_time": "2024-12-18T11:45:13.754Z"
   },
   {
    "duration": 0,
    "start_time": "2024-12-18T11:45:13.755Z"
   },
   {
    "duration": 0,
    "start_time": "2024-12-18T11:45:13.756Z"
   },
   {
    "duration": 0,
    "start_time": "2024-12-18T11:45:13.757Z"
   },
   {
    "duration": 0,
    "start_time": "2024-12-18T11:45:13.758Z"
   },
   {
    "duration": 0,
    "start_time": "2024-12-18T11:45:13.759Z"
   },
   {
    "duration": 0,
    "start_time": "2024-12-18T11:45:13.760Z"
   },
   {
    "duration": 12,
    "start_time": "2024-12-18T11:46:16.004Z"
   },
   {
    "duration": 104,
    "start_time": "2024-12-18T11:47:21.446Z"
   },
   {
    "duration": 106,
    "start_time": "2024-12-18T11:48:34.016Z"
   },
   {
    "duration": 3,
    "start_time": "2024-12-18T11:51:19.184Z"
   },
   {
    "duration": 380,
    "start_time": "2024-12-18T11:51:19.188Z"
   },
   {
    "duration": 806,
    "start_time": "2024-12-18T11:51:19.570Z"
   },
   {
    "duration": 2,
    "start_time": "2024-12-18T11:51:20.378Z"
   },
   {
    "duration": 2646,
    "start_time": "2024-12-18T11:51:20.382Z"
   },
   {
    "duration": 45,
    "start_time": "2024-12-18T11:51:23.030Z"
   },
   {
    "duration": 11,
    "start_time": "2024-12-18T11:51:23.077Z"
   },
   {
    "duration": 18,
    "start_time": "2024-12-18T11:51:23.089Z"
   },
   {
    "duration": 69,
    "start_time": "2024-12-18T11:51:23.109Z"
   },
   {
    "duration": 115,
    "start_time": "2024-12-18T11:51:23.180Z"
   },
   {
    "duration": 151,
    "start_time": "2024-12-18T11:51:23.298Z"
   },
   {
    "duration": 129,
    "start_time": "2024-12-18T11:51:23.454Z"
   },
   {
    "duration": 121,
    "start_time": "2024-12-18T11:51:23.585Z"
   },
   {
    "duration": 48,
    "start_time": "2024-12-18T11:51:23.707Z"
   },
   {
    "duration": 120,
    "start_time": "2024-12-18T11:51:23.757Z"
   },
   {
    "duration": 0,
    "start_time": "2024-12-18T11:51:23.880Z"
   },
   {
    "duration": 0,
    "start_time": "2024-12-18T11:51:23.881Z"
   },
   {
    "duration": 0,
    "start_time": "2024-12-18T11:51:23.883Z"
   },
   {
    "duration": 0,
    "start_time": "2024-12-18T11:51:23.885Z"
   },
   {
    "duration": 0,
    "start_time": "2024-12-18T11:51:23.886Z"
   },
   {
    "duration": 0,
    "start_time": "2024-12-18T11:51:23.888Z"
   },
   {
    "duration": 0,
    "start_time": "2024-12-18T11:51:23.890Z"
   },
   {
    "duration": 0,
    "start_time": "2024-12-18T11:51:23.891Z"
   },
   {
    "duration": 0,
    "start_time": "2024-12-18T11:51:23.893Z"
   },
   {
    "duration": 0,
    "start_time": "2024-12-18T11:51:23.894Z"
   },
   {
    "duration": 0,
    "start_time": "2024-12-18T11:51:23.896Z"
   },
   {
    "duration": 0,
    "start_time": "2024-12-18T11:51:23.897Z"
   },
   {
    "duration": 1,
    "start_time": "2024-12-18T11:51:23.898Z"
   },
   {
    "duration": 0,
    "start_time": "2024-12-18T11:51:23.900Z"
   },
   {
    "duration": 0,
    "start_time": "2024-12-18T11:51:23.901Z"
   },
   {
    "duration": 0,
    "start_time": "2024-12-18T11:51:23.903Z"
   },
   {
    "duration": 0,
    "start_time": "2024-12-18T11:51:23.904Z"
   },
   {
    "duration": 0,
    "start_time": "2024-12-18T11:51:23.906Z"
   },
   {
    "duration": 0,
    "start_time": "2024-12-18T11:51:23.907Z"
   },
   {
    "duration": 0,
    "start_time": "2024-12-18T11:51:23.908Z"
   },
   {
    "duration": 0,
    "start_time": "2024-12-18T11:51:23.954Z"
   },
   {
    "duration": 0,
    "start_time": "2024-12-18T11:51:23.956Z"
   },
   {
    "duration": 0,
    "start_time": "2024-12-18T11:51:23.958Z"
   },
   {
    "duration": 0,
    "start_time": "2024-12-18T11:51:23.959Z"
   },
   {
    "duration": 0,
    "start_time": "2024-12-18T11:51:23.960Z"
   },
   {
    "duration": 0,
    "start_time": "2024-12-18T11:51:23.962Z"
   },
   {
    "duration": 0,
    "start_time": "2024-12-18T11:51:23.963Z"
   },
   {
    "duration": 0,
    "start_time": "2024-12-18T11:51:23.964Z"
   },
   {
    "duration": 0,
    "start_time": "2024-12-18T11:51:23.965Z"
   },
   {
    "duration": 0,
    "start_time": "2024-12-18T11:51:23.966Z"
   },
   {
    "duration": 0,
    "start_time": "2024-12-18T11:51:23.968Z"
   },
   {
    "duration": 0,
    "start_time": "2024-12-18T11:51:23.969Z"
   },
   {
    "duration": 0,
    "start_time": "2024-12-18T11:51:23.970Z"
   },
   {
    "duration": 0,
    "start_time": "2024-12-18T11:51:23.971Z"
   },
   {
    "duration": 0,
    "start_time": "2024-12-18T11:51:23.972Z"
   },
   {
    "duration": 0,
    "start_time": "2024-12-18T11:51:23.973Z"
   },
   {
    "duration": 0,
    "start_time": "2024-12-18T11:51:23.974Z"
   },
   {
    "duration": 0,
    "start_time": "2024-12-18T11:51:23.975Z"
   },
   {
    "duration": 0,
    "start_time": "2024-12-18T11:51:23.976Z"
   },
   {
    "duration": 0,
    "start_time": "2024-12-18T11:51:23.977Z"
   },
   {
    "duration": 0,
    "start_time": "2024-12-18T11:51:23.978Z"
   },
   {
    "duration": 0,
    "start_time": "2024-12-18T11:51:23.979Z"
   },
   {
    "duration": 0,
    "start_time": "2024-12-18T11:51:23.980Z"
   },
   {
    "duration": 0,
    "start_time": "2024-12-18T11:51:23.981Z"
   },
   {
    "duration": 36,
    "start_time": "2024-12-18T11:53:20.937Z"
   },
   {
    "duration": 103,
    "start_time": "2024-12-18T11:55:51.821Z"
   },
   {
    "duration": 3,
    "start_time": "2024-12-18T11:56:18.629Z"
   },
   {
    "duration": 2,
    "start_time": "2024-12-18T11:56:22.291Z"
   },
   {
    "duration": 20,
    "start_time": "2024-12-18T11:56:37.871Z"
   },
   {
    "duration": 55,
    "start_time": "2024-12-18T11:57:19.240Z"
   },
   {
    "duration": 3,
    "start_time": "2024-12-18T11:57:23.231Z"
   },
   {
    "duration": 637,
    "start_time": "2024-12-18T11:57:36.552Z"
   },
   {
    "duration": 12,
    "start_time": "2024-12-18T11:59:00.498Z"
   },
   {
    "duration": 8,
    "start_time": "2024-12-18T11:59:01.611Z"
   },
   {
    "duration": 100,
    "start_time": "2024-12-18T11:59:05.396Z"
   },
   {
    "duration": 15,
    "start_time": "2024-12-18T12:00:17.752Z"
   },
   {
    "duration": 9,
    "start_time": "2024-12-18T12:00:18.806Z"
   },
   {
    "duration": 10,
    "start_time": "2024-12-18T12:00:23.719Z"
   },
   {
    "duration": 19,
    "start_time": "2024-12-18T12:00:29.045Z"
   },
   {
    "duration": 16,
    "start_time": "2024-12-18T12:00:30.050Z"
   },
   {
    "duration": 54,
    "start_time": "2024-12-18T12:00:35.509Z"
   },
   {
    "duration": 36,
    "start_time": "2024-12-18T12:00:35.976Z"
   },
   {
    "duration": 25,
    "start_time": "2024-12-18T12:00:37.782Z"
   },
   {
    "duration": 21,
    "start_time": "2024-12-18T12:00:38.367Z"
   },
   {
    "duration": 3,
    "start_time": "2024-12-18T12:03:18.174Z"
   },
   {
    "duration": 397,
    "start_time": "2024-12-18T12:03:18.181Z"
   },
   {
    "duration": 785,
    "start_time": "2024-12-18T12:03:18.580Z"
   },
   {
    "duration": 3,
    "start_time": "2024-12-18T12:03:19.366Z"
   },
   {
    "duration": 2608,
    "start_time": "2024-12-18T12:03:19.371Z"
   },
   {
    "duration": 21,
    "start_time": "2024-12-18T12:03:21.980Z"
   },
   {
    "duration": 8,
    "start_time": "2024-12-18T12:03:22.002Z"
   },
   {
    "duration": 9,
    "start_time": "2024-12-18T12:03:22.011Z"
   },
   {
    "duration": 28,
    "start_time": "2024-12-18T12:03:22.054Z"
   },
   {
    "duration": 105,
    "start_time": "2024-12-18T12:03:22.083Z"
   },
   {
    "duration": 138,
    "start_time": "2024-12-18T12:03:22.191Z"
   },
   {
    "duration": 140,
    "start_time": "2024-12-18T12:03:22.331Z"
   },
   {
    "duration": 33,
    "start_time": "2024-12-18T12:03:22.472Z"
   },
   {
    "duration": 47,
    "start_time": "2024-12-18T12:03:22.507Z"
   },
   {
    "duration": 2,
    "start_time": "2024-12-18T12:03:22.556Z"
   },
   {
    "duration": 10,
    "start_time": "2024-12-18T12:03:22.559Z"
   },
   {
    "duration": 51,
    "start_time": "2024-12-18T12:03:22.570Z"
   },
   {
    "duration": 4,
    "start_time": "2024-12-18T12:03:22.622Z"
   },
   {
    "duration": 662,
    "start_time": "2024-12-18T12:03:22.628Z"
   },
   {
    "duration": 13,
    "start_time": "2024-12-18T12:03:23.291Z"
   },
   {
    "duration": 18,
    "start_time": "2024-12-18T12:03:23.305Z"
   },
   {
    "duration": 125,
    "start_time": "2024-12-18T12:03:23.324Z"
   },
   {
    "duration": 104,
    "start_time": "2024-12-18T12:03:23.451Z"
   },
   {
    "duration": 13,
    "start_time": "2024-12-18T12:03:23.556Z"
   },
   {
    "duration": 9,
    "start_time": "2024-12-18T12:03:23.571Z"
   },
   {
    "duration": 22,
    "start_time": "2024-12-18T12:03:23.581Z"
   },
   {
    "duration": 24,
    "start_time": "2024-12-18T12:03:23.605Z"
   },
   {
    "duration": 24,
    "start_time": "2024-12-18T12:03:23.631Z"
   },
   {
    "duration": 41,
    "start_time": "2024-12-18T12:03:23.659Z"
   },
   {
    "duration": 74,
    "start_time": "2024-12-18T12:03:23.702Z"
   },
   {
    "duration": 38,
    "start_time": "2024-12-18T12:03:23.778Z"
   },
   {
    "duration": 25,
    "start_time": "2024-12-18T12:03:23.817Z"
   },
   {
    "duration": 176,
    "start_time": "2024-12-18T12:03:23.843Z"
   },
   {
    "duration": 9,
    "start_time": "2024-12-18T12:03:24.021Z"
   },
   {
    "duration": 137,
    "start_time": "2024-12-18T12:03:24.032Z"
   },
   {
    "duration": 413,
    "start_time": "2024-12-18T12:03:24.171Z"
   },
   {
    "duration": 87,
    "start_time": "2024-12-18T12:03:24.586Z"
   },
   {
    "duration": 58,
    "start_time": "2024-12-18T12:03:24.674Z"
   },
   {
    "duration": 100,
    "start_time": "2024-12-18T12:03:24.754Z"
   },
   {
    "duration": 40,
    "start_time": "2024-12-18T12:03:24.856Z"
   },
   {
    "duration": 84,
    "start_time": "2024-12-18T12:03:24.897Z"
   },
   {
    "duration": 85,
    "start_time": "2024-12-18T12:03:24.982Z"
   },
   {
    "duration": 1585,
    "start_time": "2024-12-18T12:03:25.068Z"
   },
   {
    "duration": 0,
    "start_time": "2024-12-18T12:03:26.655Z"
   },
   {
    "duration": 0,
    "start_time": "2024-12-18T12:03:26.656Z"
   },
   {
    "duration": 0,
    "start_time": "2024-12-18T12:03:26.657Z"
   },
   {
    "duration": 0,
    "start_time": "2024-12-18T12:03:26.658Z"
   },
   {
    "duration": 0,
    "start_time": "2024-12-18T12:03:26.659Z"
   },
   {
    "duration": 0,
    "start_time": "2024-12-18T12:03:26.660Z"
   },
   {
    "duration": 0,
    "start_time": "2024-12-18T12:03:26.662Z"
   },
   {
    "duration": 0,
    "start_time": "2024-12-18T12:03:26.663Z"
   },
   {
    "duration": 0,
    "start_time": "2024-12-18T12:03:26.664Z"
   },
   {
    "duration": 0,
    "start_time": "2024-12-18T12:03:26.665Z"
   },
   {
    "duration": 0,
    "start_time": "2024-12-18T12:03:26.666Z"
   },
   {
    "duration": 0,
    "start_time": "2024-12-18T12:03:26.667Z"
   },
   {
    "duration": 0,
    "start_time": "2024-12-18T12:03:26.668Z"
   },
   {
    "duration": 0,
    "start_time": "2024-12-18T12:03:26.669Z"
   },
   {
    "duration": 0,
    "start_time": "2024-12-18T12:03:26.671Z"
   },
   {
    "duration": 92,
    "start_time": "2024-12-18T12:13:52.599Z"
   },
   {
    "duration": 114,
    "start_time": "2024-12-18T12:15:12.639Z"
   },
   {
    "duration": 102,
    "start_time": "2024-12-18T12:17:54.746Z"
   },
   {
    "duration": 97,
    "start_time": "2024-12-18T12:19:20.781Z"
   },
   {
    "duration": 31,
    "start_time": "2024-12-18T12:19:57.088Z"
   },
   {
    "duration": 2,
    "start_time": "2024-12-18T12:20:16.279Z"
   },
   {
    "duration": 82,
    "start_time": "2024-12-18T12:21:07.602Z"
   },
   {
    "duration": 12,
    "start_time": "2024-12-18T12:21:18.064Z"
   },
   {
    "duration": 927,
    "start_time": "2024-12-18T12:22:10.254Z"
   },
   {
    "duration": 100,
    "start_time": "2024-12-18T12:23:06.796Z"
   },
   {
    "duration": 923,
    "start_time": "2024-12-18T12:24:55.731Z"
   },
   {
    "duration": 87,
    "start_time": "2024-12-18T12:25:59.293Z"
   },
   {
    "duration": 40,
    "start_time": "2024-12-18T12:26:40.548Z"
   },
   {
    "duration": 109,
    "start_time": "2024-12-18T12:28:46.582Z"
   },
   {
    "duration": 97,
    "start_time": "2024-12-18T12:28:57.538Z"
   },
   {
    "duration": 8,
    "start_time": "2024-12-18T12:30:18.566Z"
   },
   {
    "duration": 54,
    "start_time": "2024-12-18T12:30:26.187Z"
   },
   {
    "duration": 50,
    "start_time": "2024-12-18T12:31:14.549Z"
   },
   {
    "duration": 55,
    "start_time": "2024-12-18T12:31:22.463Z"
   },
   {
    "duration": 93,
    "start_time": "2024-12-18T12:32:34.186Z"
   },
   {
    "duration": 113,
    "start_time": "2024-12-18T12:33:39.691Z"
   },
   {
    "duration": 39,
    "start_time": "2024-12-18T12:33:47.711Z"
   },
   {
    "duration": 39,
    "start_time": "2024-12-18T12:49:45.136Z"
   },
   {
    "duration": 143,
    "start_time": "2024-12-18T12:50:53.001Z"
   },
   {
    "duration": 137,
    "start_time": "2024-12-18T12:53:40.542Z"
   },
   {
    "duration": 79,
    "start_time": "2024-12-18T12:54:43.119Z"
   },
   {
    "duration": 35,
    "start_time": "2024-12-18T12:55:45.535Z"
   },
   {
    "duration": 32,
    "start_time": "2024-12-18T12:56:06.701Z"
   },
   {
    "duration": 40,
    "start_time": "2024-12-18T12:56:45.786Z"
   },
   {
    "duration": 33,
    "start_time": "2024-12-18T12:56:50.974Z"
   },
   {
    "duration": 32,
    "start_time": "2024-12-18T12:57:33.765Z"
   },
   {
    "duration": 30,
    "start_time": "2024-12-18T12:58:18.215Z"
   },
   {
    "duration": 34,
    "start_time": "2024-12-18T12:58:28.612Z"
   },
   {
    "duration": 110,
    "start_time": "2024-12-18T13:00:41.516Z"
   },
   {
    "duration": 4,
    "start_time": "2024-12-18T13:20:28.683Z"
   },
   {
    "duration": 122,
    "start_time": "2024-12-18T13:20:33.034Z"
   },
   {
    "duration": 34,
    "start_time": "2024-12-18T13:20:42.910Z"
   },
   {
    "duration": 62,
    "start_time": "2024-12-18T13:20:43.436Z"
   },
   {
    "duration": 32,
    "start_time": "2024-12-18T13:20:45.170Z"
   },
   {
    "duration": 12,
    "start_time": "2024-12-18T13:20:46.303Z"
   },
   {
    "duration": 84,
    "start_time": "2024-12-18T13:27:57.738Z"
   },
   {
    "duration": 104,
    "start_time": "2024-12-18T13:34:33.802Z"
   },
   {
    "duration": 4,
    "start_time": "2024-12-18T13:34:52.300Z"
   },
   {
    "duration": 352,
    "start_time": "2024-12-18T13:34:52.305Z"
   },
   {
    "duration": 899,
    "start_time": "2024-12-18T13:34:52.659Z"
   },
   {
    "duration": 3,
    "start_time": "2024-12-18T13:34:53.560Z"
   },
   {
    "duration": 2145,
    "start_time": "2024-12-18T13:34:53.564Z"
   },
   {
    "duration": 17,
    "start_time": "2024-12-18T13:34:55.711Z"
   },
   {
    "duration": 86,
    "start_time": "2024-12-18T13:34:55.730Z"
   },
   {
    "duration": 18,
    "start_time": "2024-12-18T13:34:55.817Z"
   },
   {
    "duration": 37,
    "start_time": "2024-12-18T13:34:55.836Z"
   },
   {
    "duration": 95,
    "start_time": "2024-12-18T13:34:55.875Z"
   },
   {
    "duration": 131,
    "start_time": "2024-12-18T13:34:55.971Z"
   },
   {
    "duration": 121,
    "start_time": "2024-12-18T13:34:56.103Z"
   },
   {
    "duration": 44,
    "start_time": "2024-12-18T13:34:56.226Z"
   },
   {
    "duration": 26,
    "start_time": "2024-12-18T13:34:56.271Z"
   },
   {
    "duration": 13,
    "start_time": "2024-12-18T13:34:56.299Z"
   },
   {
    "duration": 28,
    "start_time": "2024-12-18T13:34:56.313Z"
   },
   {
    "duration": 55,
    "start_time": "2024-12-18T13:34:56.343Z"
   },
   {
    "duration": 4,
    "start_time": "2024-12-18T13:34:56.399Z"
   },
   {
    "duration": 662,
    "start_time": "2024-12-18T13:34:56.405Z"
   },
   {
    "duration": 12,
    "start_time": "2024-12-18T13:34:57.069Z"
   },
   {
    "duration": 29,
    "start_time": "2024-12-18T13:34:57.082Z"
   },
   {
    "duration": 104,
    "start_time": "2024-12-18T13:34:57.112Z"
   },
   {
    "duration": 100,
    "start_time": "2024-12-18T13:34:57.217Z"
   },
   {
    "duration": 14,
    "start_time": "2024-12-18T13:34:57.318Z"
   },
   {
    "duration": 88,
    "start_time": "2024-12-18T13:34:57.334Z"
   },
   {
    "duration": 8,
    "start_time": "2024-12-18T13:34:57.424Z"
   },
   {
    "duration": 31,
    "start_time": "2024-12-18T13:34:57.434Z"
   },
   {
    "duration": 15,
    "start_time": "2024-12-18T13:34:57.468Z"
   },
   {
    "duration": 42,
    "start_time": "2024-12-18T13:34:57.485Z"
   },
   {
    "duration": 51,
    "start_time": "2024-12-18T13:34:57.529Z"
   },
   {
    "duration": 24,
    "start_time": "2024-12-18T13:34:57.582Z"
   },
   {
    "duration": 22,
    "start_time": "2024-12-18T13:34:57.608Z"
   },
   {
    "duration": 179,
    "start_time": "2024-12-18T13:34:57.631Z"
   },
   {
    "duration": 8,
    "start_time": "2024-12-18T13:34:57.811Z"
   },
   {
    "duration": 115,
    "start_time": "2024-12-18T13:34:57.821Z"
   },
   {
    "duration": 326,
    "start_time": "2024-12-18T13:34:57.937Z"
   },
   {
    "duration": 59,
    "start_time": "2024-12-18T13:34:58.264Z"
   },
   {
    "duration": 65,
    "start_time": "2024-12-18T13:34:58.325Z"
   },
   {
    "duration": 100,
    "start_time": "2024-12-18T13:34:58.391Z"
   },
   {
    "duration": 42,
    "start_time": "2024-12-18T13:34:58.493Z"
   },
   {
    "duration": 108,
    "start_time": "2024-12-18T13:34:58.536Z"
   },
   {
    "duration": 54,
    "start_time": "2024-12-18T13:34:58.646Z"
   },
   {
    "duration": 2,
    "start_time": "2024-12-18T13:34:58.702Z"
   },
   {
    "duration": 89,
    "start_time": "2024-12-18T13:34:58.705Z"
   },
   {
    "duration": 913,
    "start_time": "2024-12-18T13:34:58.796Z"
   },
   {
    "duration": 2479,
    "start_time": "2024-12-18T13:34:59.711Z"
   },
   {
    "duration": 0,
    "start_time": "2024-12-18T13:35:02.192Z"
   },
   {
    "duration": 0,
    "start_time": "2024-12-18T13:35:02.193Z"
   },
   {
    "duration": 0,
    "start_time": "2024-12-18T13:35:02.194Z"
   },
   {
    "duration": 0,
    "start_time": "2024-12-18T13:35:02.195Z"
   },
   {
    "duration": 0,
    "start_time": "2024-12-18T13:35:02.196Z"
   },
   {
    "duration": 0,
    "start_time": "2024-12-18T13:35:02.197Z"
   },
   {
    "duration": 0,
    "start_time": "2024-12-18T13:35:02.199Z"
   },
   {
    "duration": 0,
    "start_time": "2024-12-18T13:35:02.200Z"
   },
   {
    "duration": 0,
    "start_time": "2024-12-18T13:35:02.201Z"
   },
   {
    "duration": 0,
    "start_time": "2024-12-18T13:35:02.202Z"
   },
   {
    "duration": 0,
    "start_time": "2024-12-18T13:35:02.203Z"
   },
   {
    "duration": 0,
    "start_time": "2024-12-18T13:35:02.204Z"
   },
   {
    "duration": 0,
    "start_time": "2024-12-18T13:35:02.205Z"
   },
   {
    "duration": 0,
    "start_time": "2024-12-18T13:35:02.206Z"
   },
   {
    "duration": 4,
    "start_time": "2024-12-18T13:36:02.619Z"
   },
   {
    "duration": 438,
    "start_time": "2024-12-18T13:36:02.624Z"
   },
   {
    "duration": 681,
    "start_time": "2024-12-18T13:36:03.063Z"
   },
   {
    "duration": 2,
    "start_time": "2024-12-18T13:36:03.745Z"
   },
   {
    "duration": 2298,
    "start_time": "2024-12-18T13:36:03.753Z"
   },
   {
    "duration": 17,
    "start_time": "2024-12-18T13:36:06.052Z"
   },
   {
    "duration": 8,
    "start_time": "2024-12-18T13:36:06.070Z"
   },
   {
    "duration": 7,
    "start_time": "2024-12-18T13:36:06.079Z"
   },
   {
    "duration": 44,
    "start_time": "2024-12-18T13:36:06.087Z"
   },
   {
    "duration": 104,
    "start_time": "2024-12-18T13:36:06.132Z"
   },
   {
    "duration": 132,
    "start_time": "2024-12-18T13:36:06.237Z"
   },
   {
    "duration": 121,
    "start_time": "2024-12-18T13:36:06.370Z"
   },
   {
    "duration": 30,
    "start_time": "2024-12-18T13:36:06.492Z"
   },
   {
    "duration": 43,
    "start_time": "2024-12-18T13:36:06.524Z"
   },
   {
    "duration": 12,
    "start_time": "2024-12-18T13:36:06.568Z"
   },
   {
    "duration": 5,
    "start_time": "2024-12-18T13:36:06.581Z"
   },
   {
    "duration": 26,
    "start_time": "2024-12-18T13:36:06.587Z"
   },
   {
    "duration": 19,
    "start_time": "2024-12-18T13:36:06.615Z"
   },
   {
    "duration": 614,
    "start_time": "2024-12-18T13:36:06.635Z"
   },
   {
    "duration": 10,
    "start_time": "2024-12-18T13:36:07.253Z"
   },
   {
    "duration": 26,
    "start_time": "2024-12-18T13:36:07.264Z"
   },
   {
    "duration": 149,
    "start_time": "2024-12-18T13:36:07.291Z"
   },
   {
    "duration": 99,
    "start_time": "2024-12-18T13:36:07.442Z"
   },
   {
    "duration": 20,
    "start_time": "2024-12-18T13:36:07.542Z"
   },
   {
    "duration": 14,
    "start_time": "2024-12-18T13:36:07.563Z"
   },
   {
    "duration": 45,
    "start_time": "2024-12-18T13:36:07.578Z"
   },
   {
    "duration": 30,
    "start_time": "2024-12-18T13:36:07.624Z"
   },
   {
    "duration": 14,
    "start_time": "2024-12-18T13:36:07.656Z"
   },
   {
    "duration": 39,
    "start_time": "2024-12-18T13:36:07.672Z"
   },
   {
    "duration": 53,
    "start_time": "2024-12-18T13:36:07.713Z"
   },
   {
    "duration": 39,
    "start_time": "2024-12-18T13:36:07.767Z"
   },
   {
    "duration": 51,
    "start_time": "2024-12-18T13:36:07.808Z"
   },
   {
    "duration": 158,
    "start_time": "2024-12-18T13:36:07.861Z"
   },
   {
    "duration": 8,
    "start_time": "2024-12-18T13:36:08.021Z"
   },
   {
    "duration": 114,
    "start_time": "2024-12-18T13:36:08.031Z"
   },
   {
    "duration": 313,
    "start_time": "2024-12-18T13:36:08.153Z"
   },
   {
    "duration": 57,
    "start_time": "2024-12-18T13:36:08.467Z"
   },
   {
    "duration": 60,
    "start_time": "2024-12-18T13:36:08.526Z"
   },
   {
    "duration": 87,
    "start_time": "2024-12-18T13:36:08.587Z"
   },
   {
    "duration": 23,
    "start_time": "2024-12-18T13:36:08.676Z"
   },
   {
    "duration": 70,
    "start_time": "2024-12-18T13:36:08.702Z"
   },
   {
    "duration": 52,
    "start_time": "2024-12-18T13:36:08.773Z"
   },
   {
    "duration": 2,
    "start_time": "2024-12-18T13:36:08.826Z"
   },
   {
    "duration": 98,
    "start_time": "2024-12-18T13:36:08.830Z"
   },
   {
    "duration": 911,
    "start_time": "2024-12-18T13:36:08.930Z"
   },
   {
    "duration": 2348,
    "start_time": "2024-12-18T13:36:09.843Z"
   },
   {
    "duration": 0,
    "start_time": "2024-12-18T13:36:12.193Z"
   },
   {
    "duration": 0,
    "start_time": "2024-12-18T13:36:12.194Z"
   },
   {
    "duration": 0,
    "start_time": "2024-12-18T13:36:12.196Z"
   },
   {
    "duration": 0,
    "start_time": "2024-12-18T13:36:12.197Z"
   },
   {
    "duration": 0,
    "start_time": "2024-12-18T13:36:12.198Z"
   },
   {
    "duration": 0,
    "start_time": "2024-12-18T13:36:12.199Z"
   },
   {
    "duration": 0,
    "start_time": "2024-12-18T13:36:12.200Z"
   },
   {
    "duration": 0,
    "start_time": "2024-12-18T13:36:12.201Z"
   },
   {
    "duration": 0,
    "start_time": "2024-12-18T13:36:12.202Z"
   },
   {
    "duration": 0,
    "start_time": "2024-12-18T13:36:12.203Z"
   },
   {
    "duration": 0,
    "start_time": "2024-12-18T13:36:12.204Z"
   },
   {
    "duration": 0,
    "start_time": "2024-12-18T13:36:12.206Z"
   },
   {
    "duration": 0,
    "start_time": "2024-12-18T13:36:12.207Z"
   },
   {
    "duration": 0,
    "start_time": "2024-12-18T13:36:12.208Z"
   },
   {
    "duration": 3,
    "start_time": "2024-12-18T13:36:59.042Z"
   },
   {
    "duration": 416,
    "start_time": "2024-12-18T13:36:59.046Z"
   },
   {
    "duration": 791,
    "start_time": "2024-12-18T13:36:59.463Z"
   },
   {
    "duration": 2,
    "start_time": "2024-12-18T13:37:00.256Z"
   },
   {
    "duration": 2348,
    "start_time": "2024-12-18T13:37:00.260Z"
   },
   {
    "duration": 19,
    "start_time": "2024-12-18T13:37:02.609Z"
   },
   {
    "duration": 18,
    "start_time": "2024-12-18T13:37:02.653Z"
   },
   {
    "duration": 14,
    "start_time": "2024-12-18T13:37:02.673Z"
   },
   {
    "duration": 28,
    "start_time": "2024-12-18T13:37:02.689Z"
   },
   {
    "duration": 105,
    "start_time": "2024-12-18T13:37:02.718Z"
   },
   {
    "duration": 145,
    "start_time": "2024-12-18T13:37:02.824Z"
   },
   {
    "duration": 135,
    "start_time": "2024-12-18T13:37:02.970Z"
   },
   {
    "duration": 32,
    "start_time": "2024-12-18T13:37:03.107Z"
   },
   {
    "duration": 44,
    "start_time": "2024-12-18T13:37:03.141Z"
   },
   {
    "duration": 6,
    "start_time": "2024-12-18T13:37:03.186Z"
   },
   {
    "duration": 21,
    "start_time": "2024-12-18T13:37:03.194Z"
   },
   {
    "duration": 40,
    "start_time": "2024-12-18T13:37:03.216Z"
   },
   {
    "duration": 3,
    "start_time": "2024-12-18T13:37:03.258Z"
   },
   {
    "duration": 652,
    "start_time": "2024-12-18T13:37:03.263Z"
   },
   {
    "duration": 10,
    "start_time": "2024-12-18T13:37:03.917Z"
   },
   {
    "duration": 50,
    "start_time": "2024-12-18T13:37:03.929Z"
   },
   {
    "duration": 132,
    "start_time": "2024-12-18T13:37:03.980Z"
   },
   {
    "duration": 93,
    "start_time": "2024-12-18T13:37:04.114Z"
   },
   {
    "duration": 15,
    "start_time": "2024-12-18T13:37:04.212Z"
   },
   {
    "duration": 28,
    "start_time": "2024-12-18T13:37:04.228Z"
   },
   {
    "duration": 10,
    "start_time": "2024-12-18T13:37:04.257Z"
   },
   {
    "duration": 22,
    "start_time": "2024-12-18T13:37:04.269Z"
   },
   {
    "duration": 28,
    "start_time": "2024-12-18T13:37:04.292Z"
   },
   {
    "duration": 46,
    "start_time": "2024-12-18T13:37:04.321Z"
   },
   {
    "duration": 46,
    "start_time": "2024-12-18T13:37:04.369Z"
   },
   {
    "duration": 50,
    "start_time": "2024-12-18T13:37:04.418Z"
   },
   {
    "duration": 73,
    "start_time": "2024-12-18T13:37:04.470Z"
   },
   {
    "duration": 179,
    "start_time": "2024-12-18T13:37:04.544Z"
   },
   {
    "duration": 8,
    "start_time": "2024-12-18T13:37:04.724Z"
   },
   {
    "duration": 108,
    "start_time": "2024-12-18T13:37:04.733Z"
   },
   {
    "duration": 314,
    "start_time": "2024-12-18T13:37:04.843Z"
   },
   {
    "duration": 59,
    "start_time": "2024-12-18T13:37:05.159Z"
   },
   {
    "duration": 68,
    "start_time": "2024-12-18T13:37:05.220Z"
   },
   {
    "duration": 90,
    "start_time": "2024-12-18T13:37:05.289Z"
   },
   {
    "duration": 61,
    "start_time": "2024-12-18T13:37:05.381Z"
   },
   {
    "duration": 133,
    "start_time": "2024-12-18T13:37:05.444Z"
   },
   {
    "duration": 53,
    "start_time": "2024-12-18T13:37:05.578Z"
   },
   {
    "duration": 24,
    "start_time": "2024-12-18T13:37:05.632Z"
   },
   {
    "duration": 103,
    "start_time": "2024-12-18T13:37:05.657Z"
   },
   {
    "duration": 970,
    "start_time": "2024-12-18T13:37:05.761Z"
   },
   {
    "duration": 3,
    "start_time": "2024-12-18T13:37:06.732Z"
   },
   {
    "duration": 40,
    "start_time": "2024-12-18T13:37:06.736Z"
   },
   {
    "duration": 118,
    "start_time": "2024-12-18T13:37:06.778Z"
   },
   {
    "duration": 111,
    "start_time": "2024-12-18T13:37:06.898Z"
   },
   {
    "duration": 50,
    "start_time": "2024-12-18T13:37:07.011Z"
   },
   {
    "duration": 146,
    "start_time": "2024-12-18T13:37:07.063Z"
   },
   {
    "duration": 4,
    "start_time": "2024-12-18T13:37:07.211Z"
   },
   {
    "duration": 49,
    "start_time": "2024-12-18T13:37:07.217Z"
   },
   {
    "duration": 119,
    "start_time": "2024-12-18T13:37:07.268Z"
   },
   {
    "duration": 4,
    "start_time": "2024-12-18T13:37:07.389Z"
   },
   {
    "duration": 236,
    "start_time": "2024-12-18T13:37:07.395Z"
   },
   {
    "duration": 0,
    "start_time": "2024-12-18T13:37:07.632Z"
   },
   {
    "duration": 0,
    "start_time": "2024-12-18T13:37:07.633Z"
   },
   {
    "duration": 0,
    "start_time": "2024-12-18T13:37:07.634Z"
   },
   {
    "duration": 0,
    "start_time": "2024-12-18T13:37:07.635Z"
   },
   {
    "duration": 272,
    "start_time": "2024-12-18T13:37:49.787Z"
   },
   {
    "duration": 86,
    "start_time": "2024-12-18T13:40:52.619Z"
   },
   {
    "duration": 142,
    "start_time": "2024-12-18T13:40:53.094Z"
   },
   {
    "duration": 104,
    "start_time": "2024-12-18T13:40:53.582Z"
   },
   {
    "duration": 11,
    "start_time": "2024-12-18T13:40:53.946Z"
   },
   {
    "duration": 13,
    "start_time": "2024-12-18T13:43:14.916Z"
   },
   {
    "duration": 107,
    "start_time": "2024-12-18T13:43:56.092Z"
   },
   {
    "duration": 113,
    "start_time": "2024-12-18T13:44:17.799Z"
   },
   {
    "duration": 34,
    "start_time": "2024-12-18T13:46:51.232Z"
   },
   {
    "duration": 10,
    "start_time": "2024-12-18T13:55:08.392Z"
   },
   {
    "duration": 37,
    "start_time": "2024-12-18T13:55:54.370Z"
   },
   {
    "duration": 14,
    "start_time": "2024-12-18T13:56:03.495Z"
   },
   {
    "duration": 11,
    "start_time": "2024-12-18T13:56:08.278Z"
   },
   {
    "duration": 91,
    "start_time": "2024-12-18T13:57:04.024Z"
   },
   {
    "duration": 9,
    "start_time": "2024-12-18T13:57:58.069Z"
   },
   {
    "duration": 20,
    "start_time": "2024-12-18T13:58:57.642Z"
   },
   {
    "duration": 12,
    "start_time": "2024-12-18T13:59:39.940Z"
   },
   {
    "duration": 3,
    "start_time": "2024-12-18T14:00:07.344Z"
   },
   {
    "duration": 41,
    "start_time": "2024-12-18T14:00:15.182Z"
   },
   {
    "duration": 21,
    "start_time": "2024-12-18T14:00:18.852Z"
   },
   {
    "duration": 48,
    "start_time": "2024-12-18T14:00:31.400Z"
   },
   {
    "duration": 273,
    "start_time": "2024-12-18T14:01:07.943Z"
   },
   {
    "duration": 82,
    "start_time": "2024-12-18T14:01:11.006Z"
   },
   {
    "duration": 136,
    "start_time": "2024-12-18T14:01:11.996Z"
   },
   {
    "duration": 554,
    "start_time": "2024-12-18T14:01:14.102Z"
   },
   {
    "duration": 15,
    "start_time": "2024-12-18T14:01:23.386Z"
   },
   {
    "duration": 17,
    "start_time": "2024-12-18T14:02:42.392Z"
   },
   {
    "duration": 30,
    "start_time": "2024-12-18T14:04:22.981Z"
   },
   {
    "duration": 46,
    "start_time": "2024-12-18T14:05:53.398Z"
   },
   {
    "duration": 20,
    "start_time": "2024-12-18T14:08:22.210Z"
   },
   {
    "duration": 46,
    "start_time": "2024-12-18T14:08:41.508Z"
   },
   {
    "duration": 3,
    "start_time": "2024-12-18T14:09:36.117Z"
   },
   {
    "duration": 4,
    "start_time": "2024-12-18T14:09:45.728Z"
   },
   {
    "duration": 4,
    "start_time": "2024-12-18T14:10:41.055Z"
   },
   {
    "duration": 3,
    "start_time": "2024-12-18T14:18:38.601Z"
   },
   {
    "duration": 3,
    "start_time": "2024-12-18T14:18:45.852Z"
   },
   {
    "duration": 9,
    "start_time": "2024-12-18T14:21:58.429Z"
   },
   {
    "duration": 1360,
    "start_time": "2024-12-18T14:22:41.005Z"
   },
   {
    "duration": 0,
    "start_time": "2024-12-18T14:22:42.366Z"
   },
   {
    "duration": 1573,
    "start_time": "2024-12-18T14:23:43.906Z"
   },
   {
    "duration": 14,
    "start_time": "2024-12-18T14:24:36.175Z"
   },
   {
    "duration": 8,
    "start_time": "2024-12-18T14:25:11.105Z"
   },
   {
    "duration": 10,
    "start_time": "2024-12-18T14:25:15.229Z"
   },
   {
    "duration": 14,
    "start_time": "2024-12-18T14:25:46.537Z"
   },
   {
    "duration": 23,
    "start_time": "2024-12-18T14:25:51.412Z"
   },
   {
    "duration": 16,
    "start_time": "2024-12-18T14:25:57.970Z"
   },
   {
    "duration": 29,
    "start_time": "2024-12-18T14:25:59.727Z"
   },
   {
    "duration": 24,
    "start_time": "2024-12-18T14:26:39.151Z"
   },
   {
    "duration": 15,
    "start_time": "2024-12-18T14:26:46.879Z"
   },
   {
    "duration": 27,
    "start_time": "2024-12-18T14:27:18.811Z"
   },
   {
    "duration": 17,
    "start_time": "2024-12-18T14:27:48.292Z"
   },
   {
    "duration": 42,
    "start_time": "2024-12-18T14:28:00.510Z"
   },
   {
    "duration": 47,
    "start_time": "2024-12-18T14:28:23.654Z"
   },
   {
    "duration": 1886,
    "start_time": "2024-12-18T14:28:58.680Z"
   },
   {
    "duration": 1569,
    "start_time": "2024-12-18T14:29:22.559Z"
   },
   {
    "duration": 130,
    "start_time": "2024-12-18T14:29:26.184Z"
   },
   {
    "duration": 54,
    "start_time": "2024-12-18T14:29:27.455Z"
   },
   {
    "duration": 145,
    "start_time": "2024-12-18T14:29:43.491Z"
   },
   {
    "duration": 33,
    "start_time": "2024-12-18T14:30:32.212Z"
   },
   {
    "duration": 38,
    "start_time": "2024-12-18T14:30:33.810Z"
   },
   {
    "duration": 19,
    "start_time": "2024-12-18T14:30:39.390Z"
   },
   {
    "duration": 48,
    "start_time": "2024-12-18T14:30:40.528Z"
   },
   {
    "duration": 10,
    "start_time": "2024-12-18T14:31:08.093Z"
   },
   {
    "duration": 22,
    "start_time": "2024-12-18T14:31:12.872Z"
   },
   {
    "duration": 519,
    "start_time": "2024-12-18T14:31:21.804Z"
   },
   {
    "duration": 4,
    "start_time": "2024-12-18T14:31:24.591Z"
   },
   {
    "duration": 372,
    "start_time": "2024-12-18T14:31:39.774Z"
   },
   {
    "duration": 4,
    "start_time": "2024-12-18T14:31:48.203Z"
   },
   {
    "duration": 248,
    "start_time": "2024-12-18T14:32:08.535Z"
   },
   {
    "duration": 4,
    "start_time": "2024-12-18T14:32:09.493Z"
   },
   {
    "duration": 17,
    "start_time": "2024-12-18T14:32:11.211Z"
   },
   {
    "duration": 27,
    "start_time": "2024-12-18T14:34:32.570Z"
   },
   {
    "duration": 17,
    "start_time": "2024-12-18T14:35:41.856Z"
   },
   {
    "duration": 324,
    "start_time": "2024-12-18T14:35:48.339Z"
   },
   {
    "duration": 4,
    "start_time": "2024-12-18T14:35:53.704Z"
   },
   {
    "duration": 12,
    "start_time": "2024-12-18T14:36:41.362Z"
   },
   {
    "duration": 358,
    "start_time": "2024-12-18T14:36:46.449Z"
   },
   {
    "duration": 3,
    "start_time": "2024-12-18T14:36:47.733Z"
   },
   {
    "duration": 11,
    "start_time": "2024-12-18T14:37:09.126Z"
   },
   {
    "duration": 269,
    "start_time": "2024-12-18T14:37:22.449Z"
   },
   {
    "duration": 3,
    "start_time": "2024-12-18T14:37:23.005Z"
   },
   {
    "duration": 339,
    "start_time": "2024-12-18T14:38:08.865Z"
   },
   {
    "duration": 4,
    "start_time": "2024-12-18T14:38:11.844Z"
   },
   {
    "duration": 17,
    "start_time": "2024-12-18T14:38:17.943Z"
   },
   {
    "duration": 27,
    "start_time": "2024-12-18T14:38:24.752Z"
   },
   {
    "duration": 127,
    "start_time": "2024-12-18T14:39:53.941Z"
   },
   {
    "duration": 48,
    "start_time": "2024-12-18T14:41:27.860Z"
   },
   {
    "duration": 3,
    "start_time": "2024-12-18T14:41:44.702Z"
   },
   {
    "duration": 355,
    "start_time": "2024-12-18T14:41:44.706Z"
   },
   {
    "duration": 797,
    "start_time": "2024-12-18T14:41:45.062Z"
   },
   {
    "duration": 3,
    "start_time": "2024-12-18T14:41:45.860Z"
   },
   {
    "duration": 2326,
    "start_time": "2024-12-18T14:41:45.865Z"
   },
   {
    "duration": 18,
    "start_time": "2024-12-18T14:41:48.193Z"
   },
   {
    "duration": 6,
    "start_time": "2024-12-18T14:41:48.213Z"
   },
   {
    "duration": 35,
    "start_time": "2024-12-18T14:41:48.221Z"
   },
   {
    "duration": 25,
    "start_time": "2024-12-18T14:41:48.258Z"
   },
   {
    "duration": 105,
    "start_time": "2024-12-18T14:41:48.284Z"
   },
   {
    "duration": 135,
    "start_time": "2024-12-18T14:41:48.391Z"
   },
   {
    "duration": 115,
    "start_time": "2024-12-18T14:41:48.528Z"
   },
   {
    "duration": 35,
    "start_time": "2024-12-18T14:41:48.645Z"
   },
   {
    "duration": 33,
    "start_time": "2024-12-18T14:41:48.682Z"
   },
   {
    "duration": 13,
    "start_time": "2024-12-18T14:41:48.717Z"
   },
   {
    "duration": 4,
    "start_time": "2024-12-18T14:41:48.732Z"
   },
   {
    "duration": 25,
    "start_time": "2024-12-18T14:41:48.754Z"
   },
   {
    "duration": 4,
    "start_time": "2024-12-18T14:41:48.781Z"
   },
   {
    "duration": 602,
    "start_time": "2024-12-18T14:41:48.786Z"
   },
   {
    "duration": 10,
    "start_time": "2024-12-18T14:41:49.389Z"
   },
   {
    "duration": 9,
    "start_time": "2024-12-18T14:41:49.401Z"
   },
   {
    "duration": 117,
    "start_time": "2024-12-18T14:41:49.411Z"
   },
   {
    "duration": 101,
    "start_time": "2024-12-18T14:41:49.530Z"
   },
   {
    "duration": 23,
    "start_time": "2024-12-18T14:41:49.633Z"
   },
   {
    "duration": 41,
    "start_time": "2024-12-18T14:41:49.657Z"
   },
   {
    "duration": 9,
    "start_time": "2024-12-18T14:41:49.700Z"
   },
   {
    "duration": 19,
    "start_time": "2024-12-18T14:41:49.710Z"
   },
   {
    "duration": 15,
    "start_time": "2024-12-18T14:41:49.731Z"
   },
   {
    "duration": 56,
    "start_time": "2024-12-18T14:41:49.750Z"
   },
   {
    "duration": 33,
    "start_time": "2024-12-18T14:41:49.808Z"
   },
   {
    "duration": 33,
    "start_time": "2024-12-18T14:41:49.842Z"
   },
   {
    "duration": 19,
    "start_time": "2024-12-18T14:41:49.877Z"
   },
   {
    "duration": 188,
    "start_time": "2024-12-18T14:41:49.898Z"
   },
   {
    "duration": 7,
    "start_time": "2024-12-18T14:41:50.088Z"
   },
   {
    "duration": 125,
    "start_time": "2024-12-18T14:41:50.097Z"
   },
   {
    "duration": 343,
    "start_time": "2024-12-18T14:41:50.224Z"
   },
   {
    "duration": 59,
    "start_time": "2024-12-18T14:41:50.569Z"
   },
   {
    "duration": 68,
    "start_time": "2024-12-18T14:41:50.630Z"
   },
   {
    "duration": 105,
    "start_time": "2024-12-18T14:41:50.700Z"
   },
   {
    "duration": 35,
    "start_time": "2024-12-18T14:41:50.806Z"
   },
   {
    "duration": 77,
    "start_time": "2024-12-18T14:41:50.843Z"
   },
   {
    "duration": 76,
    "start_time": "2024-12-18T14:41:50.921Z"
   },
   {
    "duration": 3,
    "start_time": "2024-12-18T14:41:50.998Z"
   },
   {
    "duration": 88,
    "start_time": "2024-12-18T14:41:51.002Z"
   },
   {
    "duration": 995,
    "start_time": "2024-12-18T14:41:51.091Z"
   },
   {
    "duration": 2,
    "start_time": "2024-12-18T14:41:52.088Z"
   },
   {
    "duration": 25,
    "start_time": "2024-12-18T14:41:52.092Z"
   },
   {
    "duration": 81,
    "start_time": "2024-12-18T14:41:52.118Z"
   },
   {
    "duration": 131,
    "start_time": "2024-12-18T14:41:52.201Z"
   },
   {
    "duration": 55,
    "start_time": "2024-12-18T14:41:52.334Z"
   },
   {
    "duration": 163,
    "start_time": "2024-12-18T14:41:52.391Z"
   },
   {
    "duration": 4,
    "start_time": "2024-12-18T14:41:52.555Z"
   },
   {
    "duration": 42,
    "start_time": "2024-12-18T14:41:52.561Z"
   },
   {
    "duration": 135,
    "start_time": "2024-12-18T14:41:52.605Z"
   },
   {
    "duration": 13,
    "start_time": "2024-12-18T14:41:52.742Z"
   },
   {
    "duration": 317,
    "start_time": "2024-12-18T14:41:52.757Z"
   },
   {
    "duration": 93,
    "start_time": "2024-12-18T14:41:53.076Z"
   },
   {
    "duration": 30,
    "start_time": "2024-12-18T14:41:53.171Z"
   },
   {
    "duration": 36,
    "start_time": "2024-12-18T14:41:53.203Z"
   },
   {
    "duration": 27,
    "start_time": "2024-12-18T14:41:53.240Z"
   },
   {
    "duration": 45,
    "start_time": "2024-12-18T14:42:27.483Z"
   },
   {
    "duration": 3,
    "start_time": "2024-12-18T14:42:37.736Z"
   },
   {
    "duration": 436,
    "start_time": "2024-12-18T14:42:37.741Z"
   },
   {
    "duration": 793,
    "start_time": "2024-12-18T14:42:38.179Z"
   },
   {
    "duration": 2,
    "start_time": "2024-12-18T14:42:38.974Z"
   },
   {
    "duration": 2557,
    "start_time": "2024-12-18T14:42:38.977Z"
   },
   {
    "duration": 27,
    "start_time": "2024-12-18T14:42:41.535Z"
   },
   {
    "duration": 45,
    "start_time": "2024-12-18T14:42:41.564Z"
   },
   {
    "duration": 81,
    "start_time": "2024-12-18T14:42:41.611Z"
   },
   {
    "duration": 28,
    "start_time": "2024-12-18T14:42:41.694Z"
   },
   {
    "duration": 95,
    "start_time": "2024-12-18T14:42:41.724Z"
   },
   {
    "duration": 136,
    "start_time": "2024-12-18T14:42:41.822Z"
   },
   {
    "duration": 141,
    "start_time": "2024-12-18T14:42:41.960Z"
   },
   {
    "duration": 32,
    "start_time": "2024-12-18T14:42:42.102Z"
   },
   {
    "duration": 44,
    "start_time": "2024-12-18T14:42:42.135Z"
   },
   {
    "duration": 7,
    "start_time": "2024-12-18T14:42:42.181Z"
   },
   {
    "duration": 9,
    "start_time": "2024-12-18T14:42:42.190Z"
   },
   {
    "duration": 32,
    "start_time": "2024-12-18T14:42:42.200Z"
   },
   {
    "duration": 5,
    "start_time": "2024-12-18T14:42:42.233Z"
   },
   {
    "duration": 669,
    "start_time": "2024-12-18T14:42:42.239Z"
   },
   {
    "duration": 10,
    "start_time": "2024-12-18T14:42:42.910Z"
   },
   {
    "duration": 6,
    "start_time": "2024-12-18T14:42:42.922Z"
   },
   {
    "duration": 114,
    "start_time": "2024-12-18T14:42:42.930Z"
   },
   {
    "duration": 98,
    "start_time": "2024-12-18T14:42:43.045Z"
   },
   {
    "duration": 13,
    "start_time": "2024-12-18T14:42:43.153Z"
   },
   {
    "duration": 24,
    "start_time": "2024-12-18T14:42:43.168Z"
   },
   {
    "duration": 9,
    "start_time": "2024-12-18T14:42:43.194Z"
   },
   {
    "duration": 17,
    "start_time": "2024-12-18T14:42:43.205Z"
   },
   {
    "duration": 14,
    "start_time": "2024-12-18T14:42:43.224Z"
   },
   {
    "duration": 44,
    "start_time": "2024-12-18T14:42:43.254Z"
   },
   {
    "duration": 33,
    "start_time": "2024-12-18T14:42:43.300Z"
   },
   {
    "duration": 34,
    "start_time": "2024-12-18T14:42:43.335Z"
   },
   {
    "duration": 40,
    "start_time": "2024-12-18T14:42:43.371Z"
   },
   {
    "duration": 145,
    "start_time": "2024-12-18T14:42:43.413Z"
   },
   {
    "duration": 8,
    "start_time": "2024-12-18T14:42:43.559Z"
   },
   {
    "duration": 165,
    "start_time": "2024-12-18T14:42:43.568Z"
   },
   {
    "duration": 304,
    "start_time": "2024-12-18T14:42:43.734Z"
   },
   {
    "duration": 72,
    "start_time": "2024-12-18T14:42:44.040Z"
   },
   {
    "duration": 62,
    "start_time": "2024-12-18T14:42:44.113Z"
   },
   {
    "duration": 90,
    "start_time": "2024-12-18T14:42:44.176Z"
   },
   {
    "duration": 35,
    "start_time": "2024-12-18T14:42:44.268Z"
   },
   {
    "duration": 72,
    "start_time": "2024-12-18T14:42:44.304Z"
   },
   {
    "duration": 89,
    "start_time": "2024-12-18T14:42:44.378Z"
   },
   {
    "duration": 2,
    "start_time": "2024-12-18T14:42:44.469Z"
   },
   {
    "duration": 92,
    "start_time": "2024-12-18T14:42:44.472Z"
   },
   {
    "duration": 915,
    "start_time": "2024-12-18T14:42:44.566Z"
   },
   {
    "duration": 3,
    "start_time": "2024-12-18T14:42:45.482Z"
   },
   {
    "duration": 26,
    "start_time": "2024-12-18T14:42:45.486Z"
   },
   {
    "duration": 132,
    "start_time": "2024-12-18T14:42:45.513Z"
   },
   {
    "duration": 145,
    "start_time": "2024-12-18T14:42:45.647Z"
   },
   {
    "duration": 44,
    "start_time": "2024-12-18T14:42:45.794Z"
   },
   {
    "duration": 163,
    "start_time": "2024-12-18T14:42:45.840Z"
   },
   {
    "duration": 3,
    "start_time": "2024-12-18T14:42:46.005Z"
   },
   {
    "duration": 63,
    "start_time": "2024-12-18T14:42:46.009Z"
   },
   {
    "duration": 116,
    "start_time": "2024-12-18T14:42:46.074Z"
   },
   {
    "duration": 3,
    "start_time": "2024-12-18T14:42:46.192Z"
   },
   {
    "duration": 286,
    "start_time": "2024-12-18T14:42:46.196Z"
   },
   {
    "duration": 88,
    "start_time": "2024-12-18T14:42:46.484Z"
   },
   {
    "duration": 27,
    "start_time": "2024-12-18T14:42:46.574Z"
   },
   {
    "duration": 37,
    "start_time": "2024-12-18T14:42:46.602Z"
   },
   {
    "duration": 30,
    "start_time": "2024-12-18T14:42:46.641Z"
   },
   {
    "duration": 3,
    "start_time": "2024-12-18T14:43:10.075Z"
   },
   {
    "duration": 373,
    "start_time": "2024-12-18T14:43:10.080Z"
   },
   {
    "duration": 807,
    "start_time": "2024-12-18T14:43:10.455Z"
   },
   {
    "duration": 2,
    "start_time": "2024-12-18T14:43:11.264Z"
   },
   {
    "duration": 2657,
    "start_time": "2024-12-18T14:43:11.267Z"
   },
   {
    "duration": 34,
    "start_time": "2024-12-18T14:43:13.925Z"
   },
   {
    "duration": 7,
    "start_time": "2024-12-18T14:43:13.961Z"
   },
   {
    "duration": 36,
    "start_time": "2024-12-18T14:43:13.969Z"
   },
   {
    "duration": 26,
    "start_time": "2024-12-18T14:43:14.006Z"
   },
   {
    "duration": 96,
    "start_time": "2024-12-18T14:43:14.034Z"
   },
   {
    "duration": 146,
    "start_time": "2024-12-18T14:43:14.132Z"
   },
   {
    "duration": 139,
    "start_time": "2024-12-18T14:43:14.280Z"
   },
   {
    "duration": 43,
    "start_time": "2024-12-18T14:43:14.421Z"
   },
   {
    "duration": 36,
    "start_time": "2024-12-18T14:43:14.466Z"
   },
   {
    "duration": 4,
    "start_time": "2024-12-18T14:43:14.503Z"
   },
   {
    "duration": 8,
    "start_time": "2024-12-18T14:43:14.508Z"
   },
   {
    "duration": 42,
    "start_time": "2024-12-18T14:43:14.517Z"
   },
   {
    "duration": 4,
    "start_time": "2024-12-18T14:43:14.560Z"
   },
   {
    "duration": 625,
    "start_time": "2024-12-18T14:43:14.566Z"
   },
   {
    "duration": 12,
    "start_time": "2024-12-18T14:43:15.192Z"
   },
   {
    "duration": 7,
    "start_time": "2024-12-18T14:43:15.206Z"
   },
   {
    "duration": 119,
    "start_time": "2024-12-18T14:43:15.215Z"
   },
   {
    "duration": 102,
    "start_time": "2024-12-18T14:43:15.337Z"
   },
   {
    "duration": 18,
    "start_time": "2024-12-18T14:43:15.441Z"
   },
   {
    "duration": 9,
    "start_time": "2024-12-18T14:43:15.460Z"
   },
   {
    "duration": 20,
    "start_time": "2024-12-18T14:43:15.471Z"
   },
   {
    "duration": 28,
    "start_time": "2024-12-18T14:43:15.493Z"
   },
   {
    "duration": 36,
    "start_time": "2024-12-18T14:43:15.525Z"
   },
   {
    "duration": 51,
    "start_time": "2024-12-18T14:43:15.562Z"
   },
   {
    "duration": 32,
    "start_time": "2024-12-18T14:43:15.614Z"
   },
   {
    "duration": 77,
    "start_time": "2024-12-18T14:43:15.647Z"
   },
   {
    "duration": 18,
    "start_time": "2024-12-18T14:43:15.725Z"
   },
   {
    "duration": 180,
    "start_time": "2024-12-18T14:43:15.745Z"
   },
   {
    "duration": 7,
    "start_time": "2024-12-18T14:43:15.926Z"
   },
   {
    "duration": 189,
    "start_time": "2024-12-18T14:43:15.935Z"
   },
   {
    "duration": 314,
    "start_time": "2024-12-18T14:43:16.126Z"
   },
   {
    "duration": 56,
    "start_time": "2024-12-18T14:43:16.453Z"
   },
   {
    "duration": 59,
    "start_time": "2024-12-18T14:43:16.510Z"
   },
   {
    "duration": 88,
    "start_time": "2024-12-18T14:43:16.570Z"
   },
   {
    "duration": 34,
    "start_time": "2024-12-18T14:43:16.660Z"
   },
   {
    "duration": 75,
    "start_time": "2024-12-18T14:43:16.696Z"
   },
   {
    "duration": 55,
    "start_time": "2024-12-18T14:43:16.773Z"
   },
   {
    "duration": 26,
    "start_time": "2024-12-18T14:43:16.829Z"
   },
   {
    "duration": 100,
    "start_time": "2024-12-18T14:43:16.857Z"
   },
   {
    "duration": 889,
    "start_time": "2024-12-18T14:43:16.959Z"
   },
   {
    "duration": 2,
    "start_time": "2024-12-18T14:43:17.853Z"
   },
   {
    "duration": 17,
    "start_time": "2024-12-18T14:43:17.856Z"
   },
   {
    "duration": 49,
    "start_time": "2024-12-18T14:43:17.875Z"
   },
   {
    "duration": 105,
    "start_time": "2024-12-18T14:43:17.926Z"
   },
   {
    "duration": 47,
    "start_time": "2024-12-18T14:43:18.032Z"
   },
   {
    "duration": 156,
    "start_time": "2024-12-18T14:43:18.080Z"
   },
   {
    "duration": 5,
    "start_time": "2024-12-18T14:43:18.237Z"
   },
   {
    "duration": 36,
    "start_time": "2024-12-18T14:43:18.254Z"
   },
   {
    "duration": 119,
    "start_time": "2024-12-18T14:43:18.292Z"
   },
   {
    "duration": 3,
    "start_time": "2024-12-18T14:43:18.413Z"
   },
   {
    "duration": 266,
    "start_time": "2024-12-18T14:43:18.417Z"
   },
   {
    "duration": 86,
    "start_time": "2024-12-18T14:43:18.685Z"
   },
   {
    "duration": 28,
    "start_time": "2024-12-18T14:43:18.773Z"
   },
   {
    "duration": 19,
    "start_time": "2024-12-18T14:43:18.802Z"
   },
   {
    "duration": 14,
    "start_time": "2024-12-18T14:43:18.823Z"
   },
   {
    "duration": 4,
    "start_time": "2024-12-18T14:43:50.216Z"
   },
   {
    "duration": 444,
    "start_time": "2024-12-18T14:43:50.222Z"
   },
   {
    "duration": 817,
    "start_time": "2024-12-18T14:43:50.667Z"
   },
   {
    "duration": 2,
    "start_time": "2024-12-18T14:43:51.486Z"
   },
   {
    "duration": 2054,
    "start_time": "2024-12-18T14:43:51.489Z"
   },
   {
    "duration": 23,
    "start_time": "2024-12-18T14:43:53.545Z"
   },
   {
    "duration": 49,
    "start_time": "2024-12-18T14:43:53.570Z"
   },
   {
    "duration": 16,
    "start_time": "2024-12-18T14:43:53.621Z"
   },
   {
    "duration": 35,
    "start_time": "2024-12-18T14:43:53.638Z"
   },
   {
    "duration": 94,
    "start_time": "2024-12-18T14:43:53.675Z"
   },
   {
    "duration": 132,
    "start_time": "2024-12-18T14:43:53.770Z"
   },
   {
    "duration": 124,
    "start_time": "2024-12-18T14:43:53.904Z"
   },
   {
    "duration": 39,
    "start_time": "2024-12-18T14:43:54.030Z"
   },
   {
    "duration": 37,
    "start_time": "2024-12-18T14:43:54.071Z"
   },
   {
    "duration": 4,
    "start_time": "2024-12-18T14:43:54.110Z"
   },
   {
    "duration": 16,
    "start_time": "2024-12-18T14:43:54.115Z"
   },
   {
    "duration": 45,
    "start_time": "2024-12-18T14:43:54.133Z"
   },
   {
    "duration": 4,
    "start_time": "2024-12-18T14:43:54.180Z"
   },
   {
    "duration": 1215,
    "start_time": "2024-12-18T14:43:54.185Z"
   },
   {
    "duration": 12,
    "start_time": "2024-12-18T14:43:55.454Z"
   },
   {
    "duration": 7,
    "start_time": "2024-12-18T14:43:55.467Z"
   },
   {
    "duration": 152,
    "start_time": "2024-12-18T14:43:55.475Z"
   },
   {
    "duration": 110,
    "start_time": "2024-12-18T14:43:55.629Z"
   },
   {
    "duration": 17,
    "start_time": "2024-12-18T14:43:55.740Z"
   },
   {
    "duration": 20,
    "start_time": "2024-12-18T14:43:55.758Z"
   },
   {
    "duration": 13,
    "start_time": "2024-12-18T14:43:55.779Z"
   },
   {
    "duration": 17,
    "start_time": "2024-12-18T14:43:55.794Z"
   },
   {
    "duration": 16,
    "start_time": "2024-12-18T14:43:55.814Z"
   },
   {
    "duration": 50,
    "start_time": "2024-12-18T14:43:55.832Z"
   },
   {
    "duration": 32,
    "start_time": "2024-12-18T14:43:55.883Z"
   },
   {
    "duration": 38,
    "start_time": "2024-12-18T14:43:55.916Z"
   },
   {
    "duration": 61,
    "start_time": "2024-12-18T14:43:55.955Z"
   },
   {
    "duration": 167,
    "start_time": "2024-12-18T14:43:56.018Z"
   },
   {
    "duration": 8,
    "start_time": "2024-12-18T14:43:56.186Z"
   },
   {
    "duration": 113,
    "start_time": "2024-12-18T14:43:56.195Z"
   },
   {
    "duration": 303,
    "start_time": "2024-12-18T14:43:56.310Z"
   },
   {
    "duration": 68,
    "start_time": "2024-12-18T14:43:56.614Z"
   },
   {
    "duration": 44,
    "start_time": "2024-12-18T14:43:56.684Z"
   },
   {
    "duration": 96,
    "start_time": "2024-12-18T14:43:56.729Z"
   },
   {
    "duration": 53,
    "start_time": "2024-12-18T14:43:56.827Z"
   },
   {
    "duration": 80,
    "start_time": "2024-12-18T14:43:56.882Z"
   },
   {
    "duration": 51,
    "start_time": "2024-12-18T14:43:56.964Z"
   },
   {
    "duration": 2,
    "start_time": "2024-12-18T14:43:57.016Z"
   },
   {
    "duration": 104,
    "start_time": "2024-12-18T14:43:57.020Z"
   },
   {
    "duration": 916,
    "start_time": "2024-12-18T14:43:57.126Z"
   },
   {
    "duration": 3,
    "start_time": "2024-12-18T14:43:58.043Z"
   },
   {
    "duration": 32,
    "start_time": "2024-12-18T14:43:58.047Z"
   },
   {
    "duration": 55,
    "start_time": "2024-12-18T14:43:58.080Z"
   },
   {
    "duration": 105,
    "start_time": "2024-12-18T14:43:58.136Z"
   },
   {
    "duration": 49,
    "start_time": "2024-12-18T14:43:58.242Z"
   },
   {
    "duration": 155,
    "start_time": "2024-12-18T14:43:58.292Z"
   },
   {
    "duration": 6,
    "start_time": "2024-12-18T14:43:58.448Z"
   },
   {
    "duration": 35,
    "start_time": "2024-12-18T14:43:58.456Z"
   },
   {
    "duration": 119,
    "start_time": "2024-12-18T14:43:58.492Z"
   },
   {
    "duration": 3,
    "start_time": "2024-12-18T14:43:58.613Z"
   },
   {
    "duration": 285,
    "start_time": "2024-12-18T14:43:58.618Z"
   },
   {
    "duration": 80,
    "start_time": "2024-12-18T14:43:58.905Z"
   },
   {
    "duration": 27,
    "start_time": "2024-12-18T14:43:58.987Z"
   },
   {
    "duration": 20,
    "start_time": "2024-12-18T14:43:59.016Z"
   },
   {
    "duration": 12,
    "start_time": "2024-12-18T14:43:59.053Z"
   },
   {
    "duration": 331,
    "start_time": "2024-12-18T14:43:59.066Z"
   },
   {
    "duration": 3,
    "start_time": "2024-12-18T14:43:59.398Z"
   },
   {
    "duration": 106,
    "start_time": "2024-12-18T14:43:59.402Z"
   },
   {
    "duration": 48,
    "start_time": "2024-12-18T14:45:20.905Z"
   },
   {
    "duration": 4,
    "start_time": "2024-12-18T14:49:22.266Z"
   },
   {
    "duration": 388,
    "start_time": "2024-12-18T14:49:22.271Z"
   },
   {
    "duration": 703,
    "start_time": "2024-12-18T14:49:22.661Z"
   },
   {
    "duration": 2,
    "start_time": "2024-12-18T14:49:23.366Z"
   },
   {
    "duration": 2248,
    "start_time": "2024-12-18T14:49:23.369Z"
   },
   {
    "duration": 36,
    "start_time": "2024-12-18T14:49:25.619Z"
   },
   {
    "duration": 14,
    "start_time": "2024-12-18T14:49:25.656Z"
   },
   {
    "duration": 14,
    "start_time": "2024-12-18T14:49:25.672Z"
   },
   {
    "duration": 25,
    "start_time": "2024-12-18T14:49:25.687Z"
   },
   {
    "duration": 93,
    "start_time": "2024-12-18T14:49:25.715Z"
   },
   {
    "duration": 135,
    "start_time": "2024-12-18T14:49:25.810Z"
   },
   {
    "duration": 123,
    "start_time": "2024-12-18T14:49:25.947Z"
   },
   {
    "duration": 29,
    "start_time": "2024-12-18T14:49:26.072Z"
   },
   {
    "duration": 33,
    "start_time": "2024-12-18T14:49:26.102Z"
   },
   {
    "duration": 18,
    "start_time": "2024-12-18T14:49:26.136Z"
   },
   {
    "duration": 3,
    "start_time": "2024-12-18T14:49:26.155Z"
   },
   {
    "duration": 40,
    "start_time": "2024-12-18T14:49:26.159Z"
   },
   {
    "duration": 4,
    "start_time": "2024-12-18T14:49:26.201Z"
   },
   {
    "duration": 576,
    "start_time": "2024-12-18T14:49:26.207Z"
   },
   {
    "duration": 10,
    "start_time": "2024-12-18T14:49:26.784Z"
   },
   {
    "duration": 7,
    "start_time": "2024-12-18T14:49:26.795Z"
   },
   {
    "duration": 132,
    "start_time": "2024-12-18T14:49:26.803Z"
   },
   {
    "duration": 100,
    "start_time": "2024-12-18T14:49:26.937Z"
   },
   {
    "duration": 20,
    "start_time": "2024-12-18T14:49:27.038Z"
   },
   {
    "duration": 8,
    "start_time": "2024-12-18T14:49:27.059Z"
   },
   {
    "duration": 13,
    "start_time": "2024-12-18T14:49:27.068Z"
   },
   {
    "duration": 21,
    "start_time": "2024-12-18T14:49:27.083Z"
   },
   {
    "duration": 13,
    "start_time": "2024-12-18T14:49:27.107Z"
   },
   {
    "duration": 54,
    "start_time": "2024-12-18T14:49:27.121Z"
   },
   {
    "duration": 32,
    "start_time": "2024-12-18T14:49:27.177Z"
   },
   {
    "duration": 22,
    "start_time": "2024-12-18T14:49:27.210Z"
   },
   {
    "duration": 37,
    "start_time": "2024-12-18T14:49:27.233Z"
   },
   {
    "duration": 161,
    "start_time": "2024-12-18T14:49:27.271Z"
   },
   {
    "duration": 8,
    "start_time": "2024-12-18T14:49:27.433Z"
   },
   {
    "duration": 92,
    "start_time": "2024-12-18T14:49:27.453Z"
   },
   {
    "duration": 315,
    "start_time": "2024-12-18T14:49:27.546Z"
   },
   {
    "duration": 66,
    "start_time": "2024-12-18T14:49:27.862Z"
   },
   {
    "duration": 66,
    "start_time": "2024-12-18T14:49:27.930Z"
   },
   {
    "duration": 124,
    "start_time": "2024-12-18T14:49:27.998Z"
   },
   {
    "duration": 40,
    "start_time": "2024-12-18T14:49:28.124Z"
   },
   {
    "duration": 60,
    "start_time": "2024-12-18T14:49:28.166Z"
   },
   {
    "duration": 52,
    "start_time": "2024-12-18T14:49:28.255Z"
   },
   {
    "duration": 2,
    "start_time": "2024-12-18T14:49:28.309Z"
   },
   {
    "duration": 92,
    "start_time": "2024-12-18T14:49:28.313Z"
   },
   {
    "duration": 951,
    "start_time": "2024-12-18T14:49:28.407Z"
   },
   {
    "duration": 2,
    "start_time": "2024-12-18T14:49:29.360Z"
   },
   {
    "duration": 20,
    "start_time": "2024-12-18T14:49:29.364Z"
   },
   {
    "duration": 70,
    "start_time": "2024-12-18T14:49:29.386Z"
   },
   {
    "duration": 114,
    "start_time": "2024-12-18T14:49:29.458Z"
   },
   {
    "duration": 40,
    "start_time": "2024-12-18T14:49:29.574Z"
   },
   {
    "duration": 163,
    "start_time": "2024-12-18T14:49:29.616Z"
   },
   {
    "duration": 4,
    "start_time": "2024-12-18T14:49:29.780Z"
   },
   {
    "duration": 36,
    "start_time": "2024-12-18T14:49:29.785Z"
   },
   {
    "duration": 134,
    "start_time": "2024-12-18T14:49:29.822Z"
   },
   {
    "duration": 4,
    "start_time": "2024-12-18T14:49:29.957Z"
   },
   {
    "duration": 400,
    "start_time": "2024-12-18T14:49:29.962Z"
   },
   {
    "duration": 91,
    "start_time": "2024-12-18T14:49:30.363Z"
   },
   {
    "duration": 33,
    "start_time": "2024-12-18T14:49:30.456Z"
   },
   {
    "duration": 20,
    "start_time": "2024-12-18T14:49:30.490Z"
   },
   {
    "duration": 55,
    "start_time": "2024-12-18T14:49:30.512Z"
   },
   {
    "duration": 34,
    "start_time": "2024-12-18T14:49:30.568Z"
   },
   {
    "duration": 378,
    "start_time": "2024-12-18T14:49:30.603Z"
   },
   {
    "duration": 3,
    "start_time": "2024-12-18T14:49:30.982Z"
   },
   {
    "duration": 72,
    "start_time": "2024-12-18T14:49:30.987Z"
   },
   {
    "duration": 14,
    "start_time": "2024-12-18T14:50:15.331Z"
   },
   {
    "duration": 19,
    "start_time": "2024-12-18T14:50:22.443Z"
   },
   {
    "duration": 365,
    "start_time": "2024-12-18T14:51:05.415Z"
   },
   {
    "duration": 3,
    "start_time": "2024-12-18T14:52:24.377Z"
   },
   {
    "duration": 99,
    "start_time": "2024-12-18T14:53:34.050Z"
   },
   {
    "duration": 12,
    "start_time": "2024-12-18T14:54:29.223Z"
   },
   {
    "duration": 14,
    "start_time": "2024-12-18T14:54:49.297Z"
   },
   {
    "duration": 14,
    "start_time": "2024-12-18T14:55:25.714Z"
   },
   {
    "duration": 1456,
    "start_time": "2024-12-18T14:55:26.797Z"
   },
   {
    "duration": 15,
    "start_time": "2024-12-18T14:56:21.729Z"
   },
   {
    "duration": 13,
    "start_time": "2024-12-18T14:56:38.270Z"
   },
   {
    "duration": 4,
    "start_time": "2024-12-18T14:56:42.495Z"
   },
   {
    "duration": 15,
    "start_time": "2024-12-18T14:57:01.975Z"
   },
   {
    "duration": 20,
    "start_time": "2024-12-18T14:58:45.206Z"
   },
   {
    "duration": 19,
    "start_time": "2024-12-18T14:59:22.141Z"
   },
   {
    "duration": 266,
    "start_time": "2024-12-18T15:13:40.842Z"
   },
   {
    "duration": 4,
    "start_time": "2024-12-18T15:15:46.600Z"
   },
   {
    "duration": 56,
    "start_time": "2024-12-18T15:16:24.910Z"
   },
   {
    "duration": 18,
    "start_time": "2024-12-18T15:16:49.750Z"
   },
   {
    "duration": 83,
    "start_time": "2024-12-18T15:17:04.797Z"
   },
   {
    "duration": 14,
    "start_time": "2024-12-18T15:17:18.497Z"
   },
   {
    "duration": 160,
    "start_time": "2024-12-18T15:17:36.746Z"
   },
   {
    "duration": 81,
    "start_time": "2024-12-18T15:17:49.516Z"
   },
   {
    "duration": 16,
    "start_time": "2024-12-18T15:18:21.239Z"
   },
   {
    "duration": 404,
    "start_time": "2024-12-18T15:18:29.965Z"
   },
   {
    "duration": 28,
    "start_time": "2024-12-18T15:19:12.804Z"
   },
   {
    "duration": 9,
    "start_time": "2024-12-18T15:19:48.304Z"
   },
   {
    "duration": 15,
    "start_time": "2024-12-18T15:32:14.128Z"
   },
   {
    "duration": 25,
    "start_time": "2024-12-18T15:32:25.482Z"
   },
   {
    "duration": 113,
    "start_time": "2024-12-18T15:32:45.761Z"
   },
   {
    "duration": 295,
    "start_time": "2024-12-18T15:33:00.474Z"
   },
   {
    "duration": 484,
    "start_time": "2024-12-18T16:14:30.796Z"
   },
   {
    "duration": 3,
    "start_time": "2024-12-18T16:14:54.047Z"
   },
   {
    "duration": 428,
    "start_time": "2024-12-18T16:14:54.052Z"
   },
   {
    "duration": 784,
    "start_time": "2024-12-18T16:14:54.482Z"
   },
   {
    "duration": 3,
    "start_time": "2024-12-18T16:14:55.267Z"
   },
   {
    "duration": 2460,
    "start_time": "2024-12-18T16:14:55.272Z"
   },
   {
    "duration": 36,
    "start_time": "2024-12-18T16:14:57.734Z"
   },
   {
    "duration": 9,
    "start_time": "2024-12-18T16:14:57.772Z"
   },
   {
    "duration": 32,
    "start_time": "2024-12-18T16:14:57.782Z"
   },
   {
    "duration": 44,
    "start_time": "2024-12-18T16:14:57.816Z"
   },
   {
    "duration": 101,
    "start_time": "2024-12-18T16:14:57.862Z"
   },
   {
    "duration": 140,
    "start_time": "2024-12-18T16:14:57.965Z"
   },
   {
    "duration": 127,
    "start_time": "2024-12-18T16:14:58.106Z"
   },
   {
    "duration": 38,
    "start_time": "2024-12-18T16:14:58.235Z"
   },
   {
    "duration": 37,
    "start_time": "2024-12-18T16:14:58.274Z"
   },
   {
    "duration": 4,
    "start_time": "2024-12-18T16:14:58.312Z"
   },
   {
    "duration": 12,
    "start_time": "2024-12-18T16:14:58.317Z"
   },
   {
    "duration": 42,
    "start_time": "2024-12-18T16:14:58.330Z"
   },
   {
    "duration": 4,
    "start_time": "2024-12-18T16:14:58.373Z"
   },
   {
    "duration": 660,
    "start_time": "2024-12-18T16:14:58.379Z"
   },
   {
    "duration": 19,
    "start_time": "2024-12-18T16:14:59.041Z"
   },
   {
    "duration": 6,
    "start_time": "2024-12-18T16:14:59.061Z"
   },
   {
    "duration": 106,
    "start_time": "2024-12-18T16:14:59.069Z"
   },
   {
    "duration": 102,
    "start_time": "2024-12-18T16:14:59.177Z"
   },
   {
    "duration": 13,
    "start_time": "2024-12-18T16:14:59.281Z"
   },
   {
    "duration": 8,
    "start_time": "2024-12-18T16:14:59.296Z"
   },
   {
    "duration": 12,
    "start_time": "2024-12-18T16:14:59.305Z"
   },
   {
    "duration": 39,
    "start_time": "2024-12-18T16:14:59.318Z"
   },
   {
    "duration": 15,
    "start_time": "2024-12-18T16:14:59.359Z"
   },
   {
    "duration": 39,
    "start_time": "2024-12-18T16:14:59.378Z"
   },
   {
    "duration": 56,
    "start_time": "2024-12-18T16:14:59.418Z"
   },
   {
    "duration": 22,
    "start_time": "2024-12-18T16:14:59.476Z"
   },
   {
    "duration": 22,
    "start_time": "2024-12-18T16:14:59.500Z"
   },
   {
    "duration": 194,
    "start_time": "2024-12-18T16:14:59.523Z"
   },
   {
    "duration": 8,
    "start_time": "2024-12-18T16:14:59.718Z"
   },
   {
    "duration": 118,
    "start_time": "2024-12-18T16:14:59.727Z"
   },
   {
    "duration": 535,
    "start_time": "2024-12-18T16:14:59.847Z"
   },
   {
    "duration": 115,
    "start_time": "2024-12-18T16:15:00.384Z"
   },
   {
    "duration": 98,
    "start_time": "2024-12-18T16:15:00.500Z"
   },
   {
    "duration": 198,
    "start_time": "2024-12-18T16:15:00.599Z"
   },
   {
    "duration": 26,
    "start_time": "2024-12-18T16:15:00.854Z"
   },
   {
    "duration": 185,
    "start_time": "2024-12-18T16:15:00.882Z"
   },
   {
    "duration": 106,
    "start_time": "2024-12-18T16:15:01.069Z"
   },
   {
    "duration": 2,
    "start_time": "2024-12-18T16:15:01.176Z"
   },
   {
    "duration": 146,
    "start_time": "2024-12-18T16:15:01.179Z"
   },
   {
    "duration": 1209,
    "start_time": "2024-12-18T16:15:01.326Z"
   },
   {
    "duration": 2,
    "start_time": "2024-12-18T16:15:02.536Z"
   },
   {
    "duration": 39,
    "start_time": "2024-12-18T16:15:02.540Z"
   },
   {
    "duration": 36,
    "start_time": "2024-12-18T16:15:02.581Z"
   },
   {
    "duration": 91,
    "start_time": "2024-12-18T16:15:02.619Z"
   },
   {
    "duration": 104,
    "start_time": "2024-12-18T16:15:02.712Z"
   },
   {
    "duration": 50,
    "start_time": "2024-12-18T16:15:02.817Z"
   },
   {
    "duration": 161,
    "start_time": "2024-12-18T16:15:02.869Z"
   },
   {
    "duration": 4,
    "start_time": "2024-12-18T16:15:03.031Z"
   },
   {
    "duration": 62,
    "start_time": "2024-12-18T16:15:03.037Z"
   },
   {
    "duration": 107,
    "start_time": "2024-12-18T16:15:03.100Z"
   },
   {
    "duration": 4,
    "start_time": "2024-12-18T16:15:03.209Z"
   },
   {
    "duration": 278,
    "start_time": "2024-12-18T16:15:03.215Z"
   },
   {
    "duration": 97,
    "start_time": "2024-12-18T16:15:03.495Z"
   },
   {
    "duration": 14,
    "start_time": "2024-12-18T16:15:03.593Z"
   },
   {
    "duration": 21,
    "start_time": "2024-12-18T16:15:03.608Z"
   },
   {
    "duration": 40,
    "start_time": "2024-12-18T16:15:03.630Z"
   },
   {
    "duration": 466,
    "start_time": "2024-12-18T16:15:03.672Z"
   },
   {
    "duration": 0,
    "start_time": "2024-12-18T16:15:04.139Z"
   },
   {
    "duration": 0,
    "start_time": "2024-12-18T16:15:04.141Z"
   },
   {
    "duration": 0,
    "start_time": "2024-12-18T16:15:04.142Z"
   },
   {
    "duration": 0,
    "start_time": "2024-12-18T16:15:04.143Z"
   },
   {
    "duration": 0,
    "start_time": "2024-12-18T16:15:04.154Z"
   },
   {
    "duration": 0,
    "start_time": "2024-12-18T16:15:04.155Z"
   },
   {
    "duration": 0,
    "start_time": "2024-12-18T16:15:04.156Z"
   },
   {
    "duration": 0,
    "start_time": "2024-12-18T16:15:04.157Z"
   },
   {
    "duration": 0,
    "start_time": "2024-12-18T16:15:04.158Z"
   },
   {
    "duration": 0,
    "start_time": "2024-12-18T16:15:04.159Z"
   },
   {
    "duration": 0,
    "start_time": "2024-12-18T16:15:04.160Z"
   },
   {
    "duration": 0,
    "start_time": "2024-12-18T16:15:04.161Z"
   },
   {
    "duration": 0,
    "start_time": "2024-12-18T16:15:04.162Z"
   },
   {
    "duration": 0,
    "start_time": "2024-12-18T16:15:04.163Z"
   },
   {
    "duration": 0,
    "start_time": "2024-12-18T16:15:04.164Z"
   },
   {
    "duration": 471,
    "start_time": "2024-12-18T16:16:23.387Z"
   },
   {
    "duration": 4,
    "start_time": "2024-12-18T16:16:48.776Z"
   },
   {
    "duration": 401,
    "start_time": "2024-12-18T16:16:48.782Z"
   },
   {
    "duration": 790,
    "start_time": "2024-12-18T16:16:49.185Z"
   },
   {
    "duration": 2,
    "start_time": "2024-12-18T16:16:49.977Z"
   },
   {
    "duration": 2291,
    "start_time": "2024-12-18T16:16:49.980Z"
   },
   {
    "duration": 20,
    "start_time": "2024-12-18T16:16:52.273Z"
   },
   {
    "duration": 8,
    "start_time": "2024-12-18T16:16:52.294Z"
   },
   {
    "duration": 52,
    "start_time": "2024-12-18T16:16:52.303Z"
   },
   {
    "duration": 27,
    "start_time": "2024-12-18T16:16:52.357Z"
   },
   {
    "duration": 187,
    "start_time": "2024-12-18T16:16:52.386Z"
   },
   {
    "duration": 292,
    "start_time": "2024-12-18T16:16:52.575Z"
   },
   {
    "duration": 221,
    "start_time": "2024-12-18T16:16:52.868Z"
   },
   {
    "duration": 85,
    "start_time": "2024-12-18T16:16:53.091Z"
   },
   {
    "duration": 84,
    "start_time": "2024-12-18T16:16:53.178Z"
   },
   {
    "duration": 3,
    "start_time": "2024-12-18T16:16:53.264Z"
   },
   {
    "duration": 20,
    "start_time": "2024-12-18T16:16:53.268Z"
   },
   {
    "duration": 73,
    "start_time": "2024-12-18T16:16:53.290Z"
   },
   {
    "duration": 5,
    "start_time": "2024-12-18T16:16:53.365Z"
   },
   {
    "duration": 995,
    "start_time": "2024-12-18T16:16:53.371Z"
   },
   {
    "duration": 11,
    "start_time": "2024-12-18T16:16:54.368Z"
   },
   {
    "duration": 33,
    "start_time": "2024-12-18T16:16:54.381Z"
   },
   {
    "duration": 142,
    "start_time": "2024-12-18T16:16:54.416Z"
   },
   {
    "duration": 108,
    "start_time": "2024-12-18T16:16:54.560Z"
   },
   {
    "duration": 15,
    "start_time": "2024-12-18T16:16:54.674Z"
   },
   {
    "duration": 34,
    "start_time": "2024-12-18T16:16:54.690Z"
   },
   {
    "duration": 16,
    "start_time": "2024-12-18T16:16:54.725Z"
   },
   {
    "duration": 19,
    "start_time": "2024-12-18T16:16:54.742Z"
   },
   {
    "duration": 27,
    "start_time": "2024-12-18T16:16:54.762Z"
   },
   {
    "duration": 55,
    "start_time": "2024-12-18T16:16:54.791Z"
   },
   {
    "duration": 49,
    "start_time": "2024-12-18T16:16:54.848Z"
   },
   {
    "duration": 24,
    "start_time": "2024-12-18T16:16:54.899Z"
   },
   {
    "duration": 30,
    "start_time": "2024-12-18T16:16:54.925Z"
   },
   {
    "duration": 168,
    "start_time": "2024-12-18T16:16:54.957Z"
   },
   {
    "duration": 7,
    "start_time": "2024-12-18T16:16:55.127Z"
   },
   {
    "duration": 131,
    "start_time": "2024-12-18T16:16:55.135Z"
   },
   {
    "duration": 364,
    "start_time": "2024-12-18T16:16:55.268Z"
   },
   {
    "duration": 81,
    "start_time": "2024-12-18T16:16:55.634Z"
   },
   {
    "duration": 74,
    "start_time": "2024-12-18T16:16:55.717Z"
   },
   {
    "duration": 105,
    "start_time": "2024-12-18T16:16:55.793Z"
   },
   {
    "duration": 27,
    "start_time": "2024-12-18T16:16:55.899Z"
   },
   {
    "duration": 142,
    "start_time": "2024-12-18T16:16:55.927Z"
   },
   {
    "duration": 57,
    "start_time": "2024-12-18T16:16:56.071Z"
   },
   {
    "duration": 25,
    "start_time": "2024-12-18T16:16:56.129Z"
   },
   {
    "duration": 105,
    "start_time": "2024-12-18T16:16:56.156Z"
   },
   {
    "duration": 998,
    "start_time": "2024-12-18T16:16:56.263Z"
   },
   {
    "duration": 3,
    "start_time": "2024-12-18T16:16:57.262Z"
   },
   {
    "duration": 33,
    "start_time": "2024-12-18T16:16:57.266Z"
   },
   {
    "duration": 49,
    "start_time": "2024-12-18T16:16:57.300Z"
   },
   {
    "duration": 76,
    "start_time": "2024-12-18T16:16:57.350Z"
   },
   {
    "duration": 98,
    "start_time": "2024-12-18T16:16:57.428Z"
   },
   {
    "duration": 50,
    "start_time": "2024-12-18T16:16:57.528Z"
   },
   {
    "duration": 173,
    "start_time": "2024-12-18T16:16:57.580Z"
   },
   {
    "duration": 4,
    "start_time": "2024-12-18T16:16:57.755Z"
   },
   {
    "duration": 48,
    "start_time": "2024-12-18T16:16:57.761Z"
   },
   {
    "duration": 149,
    "start_time": "2024-12-18T16:16:57.812Z"
   },
   {
    "duration": 5,
    "start_time": "2024-12-18T16:16:57.963Z"
   },
   {
    "duration": 360,
    "start_time": "2024-12-18T16:16:57.971Z"
   },
   {
    "duration": 104,
    "start_time": "2024-12-18T16:16:58.332Z"
   },
   {
    "duration": 57,
    "start_time": "2024-12-18T16:16:58.437Z"
   },
   {
    "duration": 22,
    "start_time": "2024-12-18T16:16:58.495Z"
   },
   {
    "duration": 31,
    "start_time": "2024-12-18T16:16:58.519Z"
   },
   {
    "duration": 451,
    "start_time": "2024-12-18T16:16:58.552Z"
   },
   {
    "duration": 12,
    "start_time": "2024-12-18T16:16:59.004Z"
   },
   {
    "duration": 4,
    "start_time": "2024-12-18T16:16:59.018Z"
   },
   {
    "duration": 45,
    "start_time": "2024-12-18T16:16:59.023Z"
   },
   {
    "duration": 83,
    "start_time": "2024-12-18T16:16:59.070Z"
   },
   {
    "duration": 27,
    "start_time": "2024-12-18T16:16:59.155Z"
   },
   {
    "duration": 11,
    "start_time": "2024-12-18T16:16:59.184Z"
   },
   {
    "duration": 167,
    "start_time": "2024-12-18T16:16:59.199Z"
   },
   {
    "duration": 30,
    "start_time": "2024-12-18T16:16:59.367Z"
   },
   {
    "duration": 421,
    "start_time": "2024-12-18T16:16:59.399Z"
   },
   {
    "duration": 46,
    "start_time": "2024-12-18T16:16:59.822Z"
   },
   {
    "duration": 13,
    "start_time": "2024-12-18T16:16:59.870Z"
   },
   {
    "duration": 16,
    "start_time": "2024-12-18T16:16:59.885Z"
   },
   {
    "duration": 201,
    "start_time": "2024-12-18T16:16:59.903Z"
   },
   {
    "duration": 153,
    "start_time": "2024-12-18T16:17:00.106Z"
   },
   {
    "duration": 265,
    "start_time": "2024-12-18T16:17:00.261Z"
   },
   {
    "duration": 4,
    "start_time": "2024-12-19T15:12:07.927Z"
   },
   {
    "duration": 477,
    "start_time": "2024-12-19T15:12:07.933Z"
   },
   {
    "duration": 1061,
    "start_time": "2024-12-19T15:12:08.412Z"
   },
   {
    "duration": 3,
    "start_time": "2024-12-19T15:12:09.474Z"
   },
   {
    "duration": 3000,
    "start_time": "2024-12-19T15:12:09.480Z"
   },
   {
    "duration": 20,
    "start_time": "2024-12-19T15:12:12.482Z"
   },
   {
    "duration": 51,
    "start_time": "2024-12-19T15:12:12.503Z"
   },
   {
    "duration": 19,
    "start_time": "2024-12-19T15:12:12.556Z"
   },
   {
    "duration": 54,
    "start_time": "2024-12-19T15:12:12.577Z"
   },
   {
    "duration": 121,
    "start_time": "2024-12-19T15:12:12.633Z"
   },
   {
    "duration": 169,
    "start_time": "2024-12-19T15:12:12.756Z"
   },
   {
    "duration": 139,
    "start_time": "2024-12-19T15:12:12.927Z"
   },
   {
    "duration": 34,
    "start_time": "2024-12-19T15:12:13.067Z"
   },
   {
    "duration": 57,
    "start_time": "2024-12-19T15:12:13.105Z"
   },
   {
    "duration": 40,
    "start_time": "2024-12-19T15:12:13.163Z"
   },
   {
    "duration": 21,
    "start_time": "2024-12-19T15:12:13.205Z"
   },
   {
    "duration": 69,
    "start_time": "2024-12-19T15:12:13.228Z"
   },
   {
    "duration": 26,
    "start_time": "2024-12-19T15:12:13.298Z"
   },
   {
    "duration": 803,
    "start_time": "2024-12-19T15:12:13.326Z"
   },
   {
    "duration": 23,
    "start_time": "2024-12-19T15:12:14.131Z"
   },
   {
    "duration": 19,
    "start_time": "2024-12-19T15:12:14.156Z"
   },
   {
    "duration": 138,
    "start_time": "2024-12-19T15:12:14.177Z"
   },
   {
    "duration": 148,
    "start_time": "2024-12-19T15:12:14.317Z"
   },
   {
    "duration": 16,
    "start_time": "2024-12-19T15:12:14.466Z"
   },
   {
    "duration": 9,
    "start_time": "2024-12-19T15:12:14.484Z"
   },
   {
    "duration": 12,
    "start_time": "2024-12-19T15:12:14.494Z"
   },
   {
    "duration": 44,
    "start_time": "2024-12-19T15:12:14.508Z"
   },
   {
    "duration": 27,
    "start_time": "2024-12-19T15:12:14.554Z"
   },
   {
    "duration": 60,
    "start_time": "2024-12-19T15:12:14.583Z"
   },
   {
    "duration": 43,
    "start_time": "2024-12-19T15:12:14.647Z"
   },
   {
    "duration": 25,
    "start_time": "2024-12-19T15:12:14.692Z"
   },
   {
    "duration": 41,
    "start_time": "2024-12-19T15:12:14.737Z"
   },
   {
    "duration": 203,
    "start_time": "2024-12-19T15:12:14.780Z"
   },
   {
    "duration": 8,
    "start_time": "2024-12-19T15:12:14.985Z"
   },
   {
    "duration": 167,
    "start_time": "2024-12-19T15:12:14.995Z"
   },
   {
    "duration": 393,
    "start_time": "2024-12-19T15:12:15.165Z"
   },
   {
    "duration": 95,
    "start_time": "2024-12-19T15:12:15.563Z"
   },
   {
    "duration": 58,
    "start_time": "2024-12-19T15:12:15.659Z"
   },
   {
    "duration": 131,
    "start_time": "2024-12-19T15:12:15.719Z"
   },
   {
    "duration": 29,
    "start_time": "2024-12-19T15:12:15.851Z"
   },
   {
    "duration": 98,
    "start_time": "2024-12-19T15:12:15.884Z"
   },
   {
    "duration": 104,
    "start_time": "2024-12-19T15:12:15.984Z"
   },
   {
    "duration": 2,
    "start_time": "2024-12-19T15:12:16.090Z"
   },
   {
    "duration": 122,
    "start_time": "2024-12-19T15:12:16.093Z"
   },
   {
    "duration": 1192,
    "start_time": "2024-12-19T15:12:16.217Z"
   },
   {
    "duration": 3,
    "start_time": "2024-12-19T15:12:17.411Z"
   },
   {
    "duration": 53,
    "start_time": "2024-12-19T15:12:17.415Z"
   },
   {
    "duration": 7,
    "start_time": "2024-12-19T15:12:17.469Z"
   },
   {
    "duration": 24,
    "start_time": "2024-12-19T15:12:17.478Z"
   },
   {
    "duration": 112,
    "start_time": "2024-12-19T15:35:28.554Z"
   },
   {
    "duration": 3,
    "start_time": "2024-12-19T15:35:37.030Z"
   },
   {
    "duration": 24,
    "start_time": "2024-12-19T15:35:37.034Z"
   },
   {
    "duration": 7,
    "start_time": "2024-12-19T15:35:37.060Z"
   },
   {
    "duration": 3,
    "start_time": "2024-12-19T15:35:37.070Z"
   },
   {
    "duration": 2187,
    "start_time": "2024-12-19T15:35:37.075Z"
   },
   {
    "duration": 17,
    "start_time": "2024-12-19T15:35:39.263Z"
   },
   {
    "duration": 7,
    "start_time": "2024-12-19T15:35:39.281Z"
   },
   {
    "duration": 11,
    "start_time": "2024-12-19T15:35:39.290Z"
   },
   {
    "duration": 67,
    "start_time": "2024-12-19T15:35:39.303Z"
   },
   {
    "duration": 107,
    "start_time": "2024-12-19T15:35:39.371Z"
   },
   {
    "duration": 130,
    "start_time": "2024-12-19T15:35:39.480Z"
   },
   {
    "duration": 140,
    "start_time": "2024-12-19T15:35:39.613Z"
   },
   {
    "duration": 38,
    "start_time": "2024-12-19T15:35:39.754Z"
   },
   {
    "duration": 55,
    "start_time": "2024-12-19T15:35:39.794Z"
   },
   {
    "duration": 2,
    "start_time": "2024-12-19T15:35:39.851Z"
   },
   {
    "duration": 11,
    "start_time": "2024-12-19T15:35:39.855Z"
   },
   {
    "duration": 37,
    "start_time": "2024-12-19T15:35:39.867Z"
   },
   {
    "duration": 48,
    "start_time": "2024-12-19T15:35:39.906Z"
   },
   {
    "duration": 656,
    "start_time": "2024-12-19T15:35:39.956Z"
   },
   {
    "duration": 13,
    "start_time": "2024-12-19T15:35:40.613Z"
   },
   {
    "duration": 14,
    "start_time": "2024-12-19T15:35:40.645Z"
   },
   {
    "duration": 119,
    "start_time": "2024-12-19T15:35:40.661Z"
   },
   {
    "duration": 110,
    "start_time": "2024-12-19T15:35:40.782Z"
   },
   {
    "duration": 15,
    "start_time": "2024-12-19T15:35:40.893Z"
   },
   {
    "duration": 40,
    "start_time": "2024-12-19T15:35:40.909Z"
   },
   {
    "duration": 11,
    "start_time": "2024-12-19T15:35:40.950Z"
   },
   {
    "duration": 18,
    "start_time": "2024-12-19T15:35:40.966Z"
   },
   {
    "duration": 37,
    "start_time": "2024-12-19T15:35:40.986Z"
   },
   {
    "duration": 55,
    "start_time": "2024-12-19T15:35:41.024Z"
   },
   {
    "duration": 35,
    "start_time": "2024-12-19T15:35:41.080Z"
   },
   {
    "duration": 41,
    "start_time": "2024-12-19T15:35:41.117Z"
   },
   {
    "duration": 21,
    "start_time": "2024-12-19T15:35:41.160Z"
   },
   {
    "duration": 195,
    "start_time": "2024-12-19T15:35:41.183Z"
   },
   {
    "duration": 7,
    "start_time": "2024-12-19T15:35:41.379Z"
   },
   {
    "duration": 142,
    "start_time": "2024-12-19T15:35:41.388Z"
   },
   {
    "duration": 365,
    "start_time": "2024-12-19T15:35:41.531Z"
   },
   {
    "duration": 87,
    "start_time": "2024-12-19T15:35:41.897Z"
   },
   {
    "duration": 76,
    "start_time": "2024-12-19T15:35:41.985Z"
   },
   {
    "duration": 111,
    "start_time": "2024-12-19T15:35:42.063Z"
   },
   {
    "duration": 27,
    "start_time": "2024-12-19T15:35:42.175Z"
   },
   {
    "duration": 88,
    "start_time": "2024-12-19T15:35:42.203Z"
   },
   {
    "duration": 86,
    "start_time": "2024-12-19T15:35:42.293Z"
   },
   {
    "duration": 3,
    "start_time": "2024-12-19T15:35:42.381Z"
   },
   {
    "duration": 110,
    "start_time": "2024-12-19T15:35:42.386Z"
   },
   {
    "duration": 1082,
    "start_time": "2024-12-19T15:35:42.498Z"
   },
   {
    "duration": 3,
    "start_time": "2024-12-19T15:35:43.581Z"
   },
   {
    "duration": 46,
    "start_time": "2024-12-19T15:35:43.585Z"
   },
   {
    "duration": 18,
    "start_time": "2024-12-19T15:35:43.633Z"
   },
   {
    "duration": 70,
    "start_time": "2024-12-19T15:35:43.653Z"
   },
   {
    "duration": 125,
    "start_time": "2024-12-19T15:35:43.725Z"
   },
   {
    "duration": 45,
    "start_time": "2024-12-19T15:35:43.852Z"
   },
   {
    "duration": 186,
    "start_time": "2024-12-19T15:35:43.899Z"
   },
   {
    "duration": 34,
    "start_time": "2024-12-19T15:35:44.087Z"
   },
   {
    "duration": 139,
    "start_time": "2024-12-19T15:35:44.122Z"
   },
   {
    "duration": 3,
    "start_time": "2024-12-19T15:35:44.263Z"
   },
   {
    "duration": 305,
    "start_time": "2024-12-19T15:35:44.267Z"
   },
   {
    "duration": 95,
    "start_time": "2024-12-19T15:35:44.573Z"
   },
   {
    "duration": 12,
    "start_time": "2024-12-19T15:35:44.670Z"
   },
   {
    "duration": 7,
    "start_time": "2024-12-19T15:37:27.663Z"
   },
   {
    "duration": 14,
    "start_time": "2024-12-19T15:38:27.636Z"
   },
   {
    "duration": 36,
    "start_time": "2024-12-19T15:48:13.223Z"
   },
   {
    "duration": 52,
    "start_time": "2024-12-19T15:48:33.474Z"
   },
   {
    "duration": 4,
    "start_time": "2024-12-19T16:00:53.173Z"
   },
   {
    "duration": 392,
    "start_time": "2024-12-19T16:00:53.185Z"
   },
   {
    "duration": 801,
    "start_time": "2024-12-19T16:00:53.579Z"
   },
   {
    "duration": 2,
    "start_time": "2024-12-19T16:00:54.382Z"
   },
   {
    "duration": 2468,
    "start_time": "2024-12-19T16:00:54.386Z"
   },
   {
    "duration": 23,
    "start_time": "2024-12-19T16:00:56.857Z"
   },
   {
    "duration": 18,
    "start_time": "2024-12-19T16:00:56.882Z"
   },
   {
    "duration": 48,
    "start_time": "2024-12-19T16:00:56.902Z"
   },
   {
    "duration": 30,
    "start_time": "2024-12-19T16:00:56.952Z"
   },
   {
    "duration": 116,
    "start_time": "2024-12-19T16:00:56.984Z"
   },
   {
    "duration": 154,
    "start_time": "2024-12-19T16:00:57.102Z"
   },
   {
    "duration": 144,
    "start_time": "2024-12-19T16:00:57.258Z"
   },
   {
    "duration": 44,
    "start_time": "2024-12-19T16:00:57.404Z"
   },
   {
    "duration": 36,
    "start_time": "2024-12-19T16:00:57.450Z"
   },
   {
    "duration": 19,
    "start_time": "2024-12-19T16:00:57.490Z"
   },
   {
    "duration": 4,
    "start_time": "2024-12-19T16:00:57.510Z"
   },
   {
    "duration": 40,
    "start_time": "2024-12-19T16:00:57.515Z"
   },
   {
    "duration": 5,
    "start_time": "2024-12-19T16:00:57.557Z"
   },
   {
    "duration": 760,
    "start_time": "2024-12-19T16:00:57.564Z"
   },
   {
    "duration": 20,
    "start_time": "2024-12-19T16:00:58.325Z"
   },
   {
    "duration": 14,
    "start_time": "2024-12-19T16:00:58.348Z"
   },
   {
    "duration": 127,
    "start_time": "2024-12-19T16:00:58.364Z"
   },
   {
    "duration": 115,
    "start_time": "2024-12-19T16:00:58.492Z"
   },
   {
    "duration": 15,
    "start_time": "2024-12-19T16:00:58.609Z"
   },
   {
    "duration": 17,
    "start_time": "2024-12-19T16:00:58.637Z"
   },
   {
    "duration": 12,
    "start_time": "2024-12-19T16:00:58.656Z"
   },
   {
    "duration": 20,
    "start_time": "2024-12-19T16:00:58.669Z"
   },
   {
    "duration": 15,
    "start_time": "2024-12-19T16:00:58.691Z"
   },
   {
    "duration": 71,
    "start_time": "2024-12-19T16:00:58.708Z"
   },
   {
    "duration": 35,
    "start_time": "2024-12-19T16:00:58.781Z"
   },
   {
    "duration": 53,
    "start_time": "2024-12-19T16:00:58.818Z"
   },
   {
    "duration": 21,
    "start_time": "2024-12-19T16:00:58.873Z"
   },
   {
    "duration": 206,
    "start_time": "2024-12-19T16:00:58.895Z"
   },
   {
    "duration": 8,
    "start_time": "2024-12-19T16:00:59.103Z"
   },
   {
    "duration": 152,
    "start_time": "2024-12-19T16:00:59.112Z"
   },
   {
    "duration": 385,
    "start_time": "2024-12-19T16:00:59.266Z"
   },
   {
    "duration": 66,
    "start_time": "2024-12-19T16:00:59.653Z"
   },
   {
    "duration": 72,
    "start_time": "2024-12-19T16:00:59.722Z"
   },
   {
    "duration": 106,
    "start_time": "2024-12-19T16:00:59.796Z"
   },
   {
    "duration": 47,
    "start_time": "2024-12-19T16:00:59.904Z"
   },
   {
    "duration": 69,
    "start_time": "2024-12-19T16:00:59.953Z"
   },
   {
    "duration": 63,
    "start_time": "2024-12-19T16:01:00.040Z"
   },
   {
    "duration": 2,
    "start_time": "2024-12-19T16:01:00.105Z"
   },
   {
    "duration": 113,
    "start_time": "2024-12-19T16:01:00.109Z"
   },
   {
    "duration": 1113,
    "start_time": "2024-12-19T16:01:00.224Z"
   },
   {
    "duration": 9,
    "start_time": "2024-12-19T16:01:01.340Z"
   },
   {
    "duration": 38,
    "start_time": "2024-12-19T16:01:01.353Z"
   },
   {
    "duration": 59,
    "start_time": "2024-12-19T16:01:01.393Z"
   },
   {
    "duration": 75,
    "start_time": "2024-12-19T16:01:01.454Z"
   },
   {
    "duration": 118,
    "start_time": "2024-12-19T16:01:01.531Z"
   },
   {
    "duration": 47,
    "start_time": "2024-12-19T16:01:01.651Z"
   },
   {
    "duration": 177,
    "start_time": "2024-12-19T16:01:01.701Z"
   },
   {
    "duration": 37,
    "start_time": "2024-12-19T16:01:01.879Z"
   },
   {
    "duration": 155,
    "start_time": "2024-12-19T16:01:01.918Z"
   },
   {
    "duration": 4,
    "start_time": "2024-12-19T16:01:02.075Z"
   },
   {
    "duration": 376,
    "start_time": "2024-12-19T16:01:02.080Z"
   },
   {
    "duration": 100,
    "start_time": "2024-12-19T16:01:02.457Z"
   },
   {
    "duration": 14,
    "start_time": "2024-12-19T16:01:02.559Z"
   },
   {
    "duration": 22,
    "start_time": "2024-12-19T16:01:02.575Z"
   },
   {
    "duration": 53,
    "start_time": "2024-12-19T16:01:02.599Z"
   },
   {
    "duration": 482,
    "start_time": "2024-12-19T16:01:02.654Z"
   },
   {
    "duration": 19,
    "start_time": "2024-12-19T16:01:03.141Z"
   },
   {
    "duration": 20,
    "start_time": "2024-12-19T16:01:03.162Z"
   },
   {
    "duration": 32,
    "start_time": "2024-12-19T16:01:03.184Z"
   },
   {
    "duration": 65,
    "start_time": "2024-12-19T16:01:03.218Z"
   },
   {
    "duration": 19,
    "start_time": "2024-12-19T16:01:03.285Z"
   },
   {
    "duration": 46,
    "start_time": "2024-12-19T16:01:03.306Z"
   },
   {
    "duration": 144,
    "start_time": "2024-12-19T16:01:03.353Z"
   },
   {
    "duration": 20,
    "start_time": "2024-12-19T16:01:03.498Z"
   },
   {
    "duration": 447,
    "start_time": "2024-12-19T16:01:03.519Z"
   },
   {
    "duration": 31,
    "start_time": "2024-12-19T16:01:03.968Z"
   },
   {
    "duration": 49,
    "start_time": "2024-12-19T16:01:04.000Z"
   },
   {
    "duration": 15,
    "start_time": "2024-12-19T16:01:04.051Z"
   },
   {
    "duration": 182,
    "start_time": "2024-12-19T16:01:04.069Z"
   },
   {
    "duration": 122,
    "start_time": "2024-12-19T16:01:04.253Z"
   },
   {
    "duration": 320,
    "start_time": "2024-12-19T16:01:04.376Z"
   },
   {
    "duration": 50,
    "start_time": "2024-12-20T06:39:21.893Z"
   },
   {
    "duration": 4,
    "start_time": "2024-12-20T06:39:30.840Z"
   },
   {
    "duration": 368,
    "start_time": "2024-12-20T06:39:30.845Z"
   },
   {
    "duration": 902,
    "start_time": "2024-12-20T06:39:31.215Z"
   },
   {
    "duration": 2,
    "start_time": "2024-12-20T06:39:32.119Z"
   },
   {
    "duration": 2654,
    "start_time": "2024-12-20T06:39:32.123Z"
   },
   {
    "duration": 41,
    "start_time": "2024-12-20T06:39:34.779Z"
   },
   {
    "duration": 8,
    "start_time": "2024-12-20T06:39:34.821Z"
   },
   {
    "duration": 12,
    "start_time": "2024-12-20T06:39:34.830Z"
   },
   {
    "duration": 36,
    "start_time": "2024-12-20T06:39:34.843Z"
   },
   {
    "duration": 106,
    "start_time": "2024-12-20T06:39:34.880Z"
   },
   {
    "duration": 129,
    "start_time": "2024-12-20T06:39:34.988Z"
   },
   {
    "duration": 123,
    "start_time": "2024-12-20T06:39:35.119Z"
   },
   {
    "duration": 26,
    "start_time": "2024-12-20T06:39:35.243Z"
   },
   {
    "duration": 48,
    "start_time": "2024-12-20T06:39:35.270Z"
   },
   {
    "duration": 16,
    "start_time": "2024-12-20T06:39:35.320Z"
   },
   {
    "duration": 12,
    "start_time": "2024-12-20T06:39:35.337Z"
   },
   {
    "duration": 32,
    "start_time": "2024-12-20T06:39:35.350Z"
   },
   {
    "duration": 4,
    "start_time": "2024-12-20T06:39:35.383Z"
   },
   {
    "duration": 560,
    "start_time": "2024-12-20T06:39:35.388Z"
   },
   {
    "duration": 11,
    "start_time": "2024-12-20T06:39:35.949Z"
   },
   {
    "duration": 15,
    "start_time": "2024-12-20T06:39:35.961Z"
   },
   {
    "duration": 149,
    "start_time": "2024-12-20T06:39:35.977Z"
   },
   {
    "duration": 88,
    "start_time": "2024-12-20T06:39:36.127Z"
   },
   {
    "duration": 14,
    "start_time": "2024-12-20T06:39:36.216Z"
   },
   {
    "duration": 25,
    "start_time": "2024-12-20T06:39:36.231Z"
   },
   {
    "duration": 26,
    "start_time": "2024-12-20T06:39:36.257Z"
   },
   {
    "duration": 29,
    "start_time": "2024-12-20T06:39:36.284Z"
   },
   {
    "duration": 39,
    "start_time": "2024-12-20T06:39:36.314Z"
   },
   {
    "duration": 64,
    "start_time": "2024-12-20T06:39:36.357Z"
   },
   {
    "duration": 28,
    "start_time": "2024-12-20T06:39:36.422Z"
   },
   {
    "duration": 54,
    "start_time": "2024-12-20T06:39:36.452Z"
   },
   {
    "duration": 38,
    "start_time": "2024-12-20T06:39:36.507Z"
   },
   {
    "duration": 175,
    "start_time": "2024-12-20T06:39:36.547Z"
   },
   {
    "duration": 7,
    "start_time": "2024-12-20T06:39:36.724Z"
   },
   {
    "duration": 114,
    "start_time": "2024-12-20T06:39:36.733Z"
   },
   {
    "duration": 281,
    "start_time": "2024-12-20T06:39:36.849Z"
   },
   {
    "duration": 56,
    "start_time": "2024-12-20T06:39:37.132Z"
   },
   {
    "duration": 62,
    "start_time": "2024-12-20T06:39:37.190Z"
   },
   {
    "duration": 91,
    "start_time": "2024-12-20T06:39:37.253Z"
   },
   {
    "duration": 23,
    "start_time": "2024-12-20T06:39:37.345Z"
   },
   {
    "duration": 69,
    "start_time": "2024-12-20T06:39:37.370Z"
   },
   {
    "duration": 73,
    "start_time": "2024-12-20T06:39:37.440Z"
   },
   {
    "duration": 3,
    "start_time": "2024-12-20T06:39:37.514Z"
   },
   {
    "duration": 78,
    "start_time": "2024-12-20T06:39:37.518Z"
   },
   {
    "duration": 914,
    "start_time": "2024-12-20T06:39:37.597Z"
   },
   {
    "duration": 2,
    "start_time": "2024-12-20T06:39:38.513Z"
   },
   {
    "duration": 21,
    "start_time": "2024-12-20T06:39:38.517Z"
   },
   {
    "duration": 11,
    "start_time": "2024-12-20T06:39:38.540Z"
   },
   {
    "duration": 59,
    "start_time": "2024-12-20T06:39:38.552Z"
   },
   {
    "duration": 87,
    "start_time": "2024-12-20T06:39:38.612Z"
   },
   {
    "duration": 48,
    "start_time": "2024-12-20T06:39:38.701Z"
   },
   {
    "duration": 160,
    "start_time": "2024-12-20T06:39:38.751Z"
   },
   {
    "duration": 32,
    "start_time": "2024-12-20T06:39:38.913Z"
   },
   {
    "duration": 117,
    "start_time": "2024-12-20T06:39:38.946Z"
   },
   {
    "duration": 3,
    "start_time": "2024-12-20T06:39:39.065Z"
   },
   {
    "duration": 261,
    "start_time": "2024-12-20T06:39:39.069Z"
   },
   {
    "duration": 84,
    "start_time": "2024-12-20T06:39:39.331Z"
   },
   {
    "duration": 9,
    "start_time": "2024-12-20T06:39:39.417Z"
   },
   {
    "duration": 18,
    "start_time": "2024-12-20T06:39:39.428Z"
   },
   {
    "duration": 11,
    "start_time": "2024-12-20T06:39:39.447Z"
   },
   {
    "duration": 352,
    "start_time": "2024-12-20T06:39:39.459Z"
   },
   {
    "duration": 11,
    "start_time": "2024-12-20T06:39:39.813Z"
   },
   {
    "duration": 10,
    "start_time": "2024-12-20T06:39:39.826Z"
   },
   {
    "duration": 23,
    "start_time": "2024-12-20T06:39:39.837Z"
   },
   {
    "duration": 126,
    "start_time": "2024-12-20T06:39:39.861Z"
   },
   {
    "duration": 0,
    "start_time": "2024-12-20T06:39:39.989Z"
   },
   {
    "duration": 0,
    "start_time": "2024-12-20T06:39:39.990Z"
   },
   {
    "duration": 0,
    "start_time": "2024-12-20T06:39:39.991Z"
   },
   {
    "duration": 0,
    "start_time": "2024-12-20T06:39:39.991Z"
   },
   {
    "duration": 0,
    "start_time": "2024-12-20T06:39:39.992Z"
   },
   {
    "duration": 0,
    "start_time": "2024-12-20T06:39:39.993Z"
   },
   {
    "duration": 0,
    "start_time": "2024-12-20T06:39:39.994Z"
   },
   {
    "duration": 0,
    "start_time": "2024-12-20T06:39:39.995Z"
   },
   {
    "duration": 0,
    "start_time": "2024-12-20T06:39:40.011Z"
   },
   {
    "duration": 0,
    "start_time": "2024-12-20T06:39:40.013Z"
   },
   {
    "duration": 0,
    "start_time": "2024-12-20T06:39:40.015Z"
   },
   {
    "duration": 81,
    "start_time": "2024-12-20T06:41:18.399Z"
   },
   {
    "duration": 53,
    "start_time": "2024-12-20T06:42:21.318Z"
   },
   {
    "duration": 51,
    "start_time": "2024-12-20T06:42:54.170Z"
   },
   {
    "duration": 50,
    "start_time": "2024-12-20T06:45:28.502Z"
   },
   {
    "duration": 37,
    "start_time": "2024-12-20T06:45:53.573Z"
   },
   {
    "duration": 13,
    "start_time": "2024-12-20T06:46:00.244Z"
   },
   {
    "duration": 138,
    "start_time": "2024-12-20T06:48:28.482Z"
   },
   {
    "duration": 247,
    "start_time": "2024-12-20T06:52:05.381Z"
   },
   {
    "duration": 323,
    "start_time": "2024-12-20T06:53:04.501Z"
   },
   {
    "duration": 256,
    "start_time": "2024-12-20T06:54:04.669Z"
   },
   {
    "duration": 248,
    "start_time": "2024-12-20T06:54:44.152Z"
   },
   {
    "duration": 49,
    "start_time": "2024-12-20T06:57:32.639Z"
   },
   {
    "duration": 24,
    "start_time": "2024-12-20T07:01:10.572Z"
   },
   {
    "duration": 976,
    "start_time": "2024-12-20T07:01:14.952Z"
   },
   {
    "duration": 34,
    "start_time": "2024-12-20T07:02:20.118Z"
   },
   {
    "duration": 38,
    "start_time": "2024-12-20T07:02:54.244Z"
   },
   {
    "duration": 5,
    "start_time": "2024-12-20T07:09:43.598Z"
   },
   {
    "duration": 11,
    "start_time": "2024-12-20T07:12:00.989Z"
   },
   {
    "duration": 5,
    "start_time": "2024-12-20T07:12:14.500Z"
   },
   {
    "duration": 112,
    "start_time": "2024-12-20T07:12:15.417Z"
   },
   {
    "duration": 113,
    "start_time": "2024-12-20T07:14:00.374Z"
   },
   {
    "duration": 810,
    "start_time": "2024-12-20T07:14:29.015Z"
   },
   {
    "duration": 745,
    "start_time": "2024-12-20T07:15:49.289Z"
   },
   {
    "duration": 24,
    "start_time": "2024-12-20T07:16:34.294Z"
   },
   {
    "duration": 7,
    "start_time": "2024-12-20T07:16:38.606Z"
   },
   {
    "duration": 797,
    "start_time": "2024-12-20T07:16:43.039Z"
   },
   {
    "duration": 5,
    "start_time": "2024-12-20T07:17:51.891Z"
   },
   {
    "duration": 350,
    "start_time": "2024-12-20T07:17:52.871Z"
   },
   {
    "duration": 72,
    "start_time": "2024-12-20T07:22:47.679Z"
   },
   {
    "duration": 36,
    "start_time": "2024-12-20T07:24:09.380Z"
   },
   {
    "duration": 14,
    "start_time": "2024-12-20T07:25:27.909Z"
   },
   {
    "duration": 59,
    "start_time": "2024-12-20T07:27:10.034Z"
   },
   {
    "duration": 20,
    "start_time": "2024-12-20T07:27:26.363Z"
   },
   {
    "duration": 36,
    "start_time": "2024-12-20T07:27:55.861Z"
   },
   {
    "duration": 20,
    "start_time": "2024-12-20T07:29:00.228Z"
   },
   {
    "duration": 21,
    "start_time": "2024-12-20T07:29:45.446Z"
   },
   {
    "duration": 19,
    "start_time": "2024-12-20T07:29:57.107Z"
   },
   {
    "duration": 35,
    "start_time": "2024-12-20T07:30:10.930Z"
   },
   {
    "duration": 38,
    "start_time": "2024-12-20T07:31:18.938Z"
   },
   {
    "duration": 98,
    "start_time": "2024-12-20T07:33:42.969Z"
   },
   {
    "duration": 268,
    "start_time": "2024-12-20T07:33:44.216Z"
   },
   {
    "duration": 26,
    "start_time": "2024-12-20T07:37:56.776Z"
   },
   {
    "duration": 274,
    "start_time": "2024-12-20T07:37:57.612Z"
   },
   {
    "duration": 293,
    "start_time": "2024-12-20T07:41:41.476Z"
   },
   {
    "duration": 272,
    "start_time": "2024-12-20T07:48:13.705Z"
   },
   {
    "duration": 361,
    "start_time": "2024-12-20T07:48:38.258Z"
   },
   {
    "duration": 23,
    "start_time": "2024-12-20T07:49:31.622Z"
   },
   {
    "duration": 304,
    "start_time": "2024-12-20T07:54:29.766Z"
   },
   {
    "duration": 307,
    "start_time": "2024-12-20T07:58:28.772Z"
   },
   {
    "duration": 71,
    "start_time": "2024-12-20T08:37:25.664Z"
   },
   {
    "duration": 4,
    "start_time": "2024-12-20T08:38:18.043Z"
   },
   {
    "duration": 372,
    "start_time": "2024-12-20T08:38:18.048Z"
   },
   {
    "duration": 673,
    "start_time": "2024-12-20T08:38:18.422Z"
   },
   {
    "duration": 2,
    "start_time": "2024-12-20T08:38:19.096Z"
   },
   {
    "duration": 2093,
    "start_time": "2024-12-20T08:38:19.100Z"
   },
   {
    "duration": 25,
    "start_time": "2024-12-20T08:38:21.194Z"
   },
   {
    "duration": 7,
    "start_time": "2024-12-20T08:38:21.221Z"
   },
   {
    "duration": 33,
    "start_time": "2024-12-20T08:38:21.229Z"
   },
   {
    "duration": 27,
    "start_time": "2024-12-20T08:38:21.264Z"
   },
   {
    "duration": 102,
    "start_time": "2024-12-20T08:38:21.292Z"
   },
   {
    "duration": 130,
    "start_time": "2024-12-20T08:38:21.396Z"
   },
   {
    "duration": 122,
    "start_time": "2024-12-20T08:38:21.528Z"
   },
   {
    "duration": 24,
    "start_time": "2024-12-20T08:38:21.652Z"
   },
   {
    "duration": 44,
    "start_time": "2024-12-20T08:38:21.677Z"
   },
   {
    "duration": 17,
    "start_time": "2024-12-20T08:38:21.723Z"
   },
   {
    "duration": 6,
    "start_time": "2024-12-20T08:38:21.741Z"
   },
   {
    "duration": 23,
    "start_time": "2024-12-20T08:38:21.749Z"
   },
   {
    "duration": 4,
    "start_time": "2024-12-20T08:38:21.773Z"
   },
   {
    "duration": 568,
    "start_time": "2024-12-20T08:38:21.778Z"
   },
   {
    "duration": 11,
    "start_time": "2024-12-20T08:38:22.348Z"
   },
   {
    "duration": 10,
    "start_time": "2024-12-20T08:38:22.361Z"
   },
   {
    "duration": 104,
    "start_time": "2024-12-20T08:38:22.372Z"
   },
   {
    "duration": 84,
    "start_time": "2024-12-20T08:38:22.478Z"
   },
   {
    "duration": 12,
    "start_time": "2024-12-20T08:38:22.564Z"
   },
   {
    "duration": 7,
    "start_time": "2024-12-20T08:38:22.578Z"
   },
   {
    "duration": 25,
    "start_time": "2024-12-20T08:38:22.586Z"
   },
   {
    "duration": 19,
    "start_time": "2024-12-20T08:38:22.612Z"
   },
   {
    "duration": 12,
    "start_time": "2024-12-20T08:38:22.633Z"
   },
   {
    "duration": 52,
    "start_time": "2024-12-20T08:38:22.649Z"
   },
   {
    "duration": 27,
    "start_time": "2024-12-20T08:38:22.702Z"
   },
   {
    "duration": 27,
    "start_time": "2024-12-20T08:38:22.730Z"
   },
   {
    "duration": 16,
    "start_time": "2024-12-20T08:38:22.759Z"
   },
   {
    "duration": 168,
    "start_time": "2024-12-20T08:38:22.776Z"
   },
   {
    "duration": 7,
    "start_time": "2024-12-20T08:38:22.946Z"
   },
   {
    "duration": 108,
    "start_time": "2024-12-20T08:38:22.955Z"
   },
   {
    "duration": 283,
    "start_time": "2024-12-20T08:38:23.065Z"
   },
   {
    "duration": 70,
    "start_time": "2024-12-20T08:38:23.349Z"
   },
   {
    "duration": 45,
    "start_time": "2024-12-20T08:38:23.420Z"
   },
   {
    "duration": 89,
    "start_time": "2024-12-20T08:38:23.466Z"
   },
   {
    "duration": 22,
    "start_time": "2024-12-20T08:38:23.556Z"
   },
   {
    "duration": 67,
    "start_time": "2024-12-20T08:38:23.579Z"
   },
   {
    "duration": 91,
    "start_time": "2024-12-20T08:38:23.648Z"
   },
   {
    "duration": 2,
    "start_time": "2024-12-20T08:38:23.741Z"
   },
   {
    "duration": 80,
    "start_time": "2024-12-20T08:38:23.744Z"
   },
   {
    "duration": 1069,
    "start_time": "2024-12-20T08:38:23.825Z"
   },
   {
    "duration": 2,
    "start_time": "2024-12-20T08:38:24.896Z"
   },
   {
    "duration": 59,
    "start_time": "2024-12-20T08:38:24.900Z"
   },
   {
    "duration": 4,
    "start_time": "2024-12-20T08:38:24.960Z"
   },
   {
    "duration": 57,
    "start_time": "2024-12-20T08:38:24.966Z"
   },
   {
    "duration": 94,
    "start_time": "2024-12-20T08:38:25.025Z"
   },
   {
    "duration": 39,
    "start_time": "2024-12-20T08:38:25.120Z"
   },
   {
    "duration": 158,
    "start_time": "2024-12-20T08:38:25.160Z"
   },
   {
    "duration": 34,
    "start_time": "2024-12-20T08:38:25.320Z"
   },
   {
    "duration": 117,
    "start_time": "2024-12-20T08:38:25.356Z"
   },
   {
    "duration": 3,
    "start_time": "2024-12-20T08:38:25.475Z"
   },
   {
    "duration": 240,
    "start_time": "2024-12-20T08:38:25.479Z"
   },
   {
    "duration": 57,
    "start_time": "2024-12-20T08:38:25.721Z"
   },
   {
    "duration": 9,
    "start_time": "2024-12-20T08:38:25.779Z"
   },
   {
    "duration": 36,
    "start_time": "2024-12-20T08:38:25.790Z"
   },
   {
    "duration": 22,
    "start_time": "2024-12-20T08:38:25.827Z"
   },
   {
    "duration": 327,
    "start_time": "2024-12-20T08:38:25.851Z"
   },
   {
    "duration": 11,
    "start_time": "2024-12-20T08:38:26.180Z"
   },
   {
    "duration": 17,
    "start_time": "2024-12-20T08:38:26.192Z"
   },
   {
    "duration": 17,
    "start_time": "2024-12-20T08:38:26.211Z"
   },
   {
    "duration": 62,
    "start_time": "2024-12-20T08:38:26.229Z"
   },
   {
    "duration": 52,
    "start_time": "2024-12-20T08:38:26.293Z"
   },
   {
    "duration": 13,
    "start_time": "2024-12-20T08:38:26.346Z"
   },
   {
    "duration": 276,
    "start_time": "2024-12-20T08:38:26.361Z"
   },
   {
    "duration": 24,
    "start_time": "2024-12-20T08:38:26.639Z"
   },
   {
    "duration": 4,
    "start_time": "2024-12-20T08:38:26.665Z"
   },
   {
    "duration": 388,
    "start_time": "2024-12-20T08:38:26.670Z"
   },
   {
    "duration": 51,
    "start_time": "2024-12-20T08:38:27.060Z"
   },
   {
    "duration": 10,
    "start_time": "2024-12-20T08:38:27.113Z"
   },
   {
    "duration": 16,
    "start_time": "2024-12-20T08:38:27.125Z"
   },
   {
    "duration": 115,
    "start_time": "2024-12-20T08:38:27.143Z"
   },
   {
    "duration": 24,
    "start_time": "2024-12-20T08:38:27.259Z"
   },
   {
    "duration": 304,
    "start_time": "2024-12-20T08:38:27.285Z"
   },
   {
    "duration": 53,
    "start_time": "2024-12-21T11:28:34.808Z"
   },
   {
    "duration": 3,
    "start_time": "2024-12-21T11:31:08.623Z"
   },
   {
    "duration": 394,
    "start_time": "2024-12-21T11:31:08.636Z"
   },
   {
    "duration": 670,
    "start_time": "2024-12-21T11:31:09.032Z"
   },
   {
    "duration": 3,
    "start_time": "2024-12-21T11:31:09.703Z"
   },
   {
    "duration": 2241,
    "start_time": "2024-12-21T11:31:09.712Z"
   },
   {
    "duration": 21,
    "start_time": "2024-12-21T11:31:11.954Z"
   },
   {
    "duration": 37,
    "start_time": "2024-12-21T11:31:11.976Z"
   },
   {
    "duration": 7,
    "start_time": "2024-12-21T11:31:12.014Z"
   },
   {
    "duration": 56,
    "start_time": "2024-12-21T11:31:12.022Z"
   },
   {
    "duration": 83,
    "start_time": "2024-12-21T11:31:12.079Z"
   },
   {
    "duration": 126,
    "start_time": "2024-12-21T11:31:12.165Z"
   },
   {
    "duration": 111,
    "start_time": "2024-12-21T11:31:12.293Z"
   },
   {
    "duration": 25,
    "start_time": "2024-12-21T11:31:12.411Z"
   },
   {
    "duration": 36,
    "start_time": "2024-12-21T11:31:12.437Z"
   },
   {
    "duration": 3,
    "start_time": "2024-12-21T11:31:12.474Z"
   },
   {
    "duration": 3,
    "start_time": "2024-12-21T11:31:12.478Z"
   },
   {
    "duration": 45,
    "start_time": "2024-12-21T11:31:12.482Z"
   },
   {
    "duration": 7,
    "start_time": "2024-12-21T11:31:12.529Z"
   },
   {
    "duration": 539,
    "start_time": "2024-12-21T11:31:12.538Z"
   },
   {
    "duration": 11,
    "start_time": "2024-12-21T11:31:13.079Z"
   },
   {
    "duration": 21,
    "start_time": "2024-12-21T11:31:13.091Z"
   },
   {
    "duration": 89,
    "start_time": "2024-12-21T11:31:13.113Z"
   },
   {
    "duration": 88,
    "start_time": "2024-12-21T11:31:13.211Z"
   },
   {
    "duration": 16,
    "start_time": "2024-12-21T11:31:13.306Z"
   },
   {
    "duration": 15,
    "start_time": "2024-12-21T11:31:13.323Z"
   },
   {
    "duration": 25,
    "start_time": "2024-12-21T11:31:13.340Z"
   },
   {
    "duration": 30,
    "start_time": "2024-12-21T11:31:13.367Z"
   },
   {
    "duration": 20,
    "start_time": "2024-12-21T11:31:13.398Z"
   },
   {
    "duration": 32,
    "start_time": "2024-12-21T11:31:13.422Z"
   },
   {
    "duration": 56,
    "start_time": "2024-12-21T11:31:13.456Z"
   },
   {
    "duration": 19,
    "start_time": "2024-12-21T11:31:13.513Z"
   },
   {
    "duration": 17,
    "start_time": "2024-12-21T11:31:13.534Z"
   },
   {
    "duration": 179,
    "start_time": "2024-12-21T11:31:13.553Z"
   },
   {
    "duration": 7,
    "start_time": "2024-12-21T11:31:13.734Z"
   },
   {
    "duration": 109,
    "start_time": "2024-12-21T11:31:13.743Z"
   },
   {
    "duration": 300,
    "start_time": "2024-12-21T11:31:13.853Z"
   },
   {
    "duration": 75,
    "start_time": "2024-12-21T11:31:14.155Z"
   },
   {
    "duration": 46,
    "start_time": "2024-12-21T11:31:14.232Z"
   },
   {
    "duration": 97,
    "start_time": "2024-12-21T11:31:14.280Z"
   },
   {
    "duration": 22,
    "start_time": "2024-12-21T11:31:14.378Z"
   },
   {
    "duration": 53,
    "start_time": "2024-12-21T11:31:14.410Z"
   },
   {
    "duration": 76,
    "start_time": "2024-12-21T11:31:14.464Z"
   },
   {
    "duration": 2,
    "start_time": "2024-12-21T11:31:14.542Z"
   },
   {
    "duration": 87,
    "start_time": "2024-12-21T11:31:14.545Z"
   },
   {
    "duration": 894,
    "start_time": "2024-12-21T11:31:14.633Z"
   },
   {
    "duration": 2,
    "start_time": "2024-12-21T11:31:15.529Z"
   },
   {
    "duration": 20,
    "start_time": "2024-12-21T11:31:15.533Z"
   },
   {
    "duration": 8,
    "start_time": "2024-12-21T11:31:15.554Z"
   },
   {
    "duration": 69,
    "start_time": "2024-12-21T11:31:15.563Z"
   },
   {
    "duration": 97,
    "start_time": "2024-12-21T11:31:15.634Z"
   },
   {
    "duration": 41,
    "start_time": "2024-12-21T11:31:15.733Z"
   },
   {
    "duration": 175,
    "start_time": "2024-12-21T11:31:15.776Z"
   },
   {
    "duration": 33,
    "start_time": "2024-12-21T11:31:15.953Z"
   },
   {
    "duration": 124,
    "start_time": "2024-12-21T11:31:15.988Z"
   },
   {
    "duration": 4,
    "start_time": "2024-12-21T11:31:16.113Z"
   },
   {
    "duration": 264,
    "start_time": "2024-12-21T11:31:16.118Z"
   },
   {
    "duration": 94,
    "start_time": "2024-12-21T11:31:16.384Z"
   },
   {
    "duration": 10,
    "start_time": "2024-12-21T11:31:16.480Z"
   },
   {
    "duration": 31,
    "start_time": "2024-12-21T11:31:16.492Z"
   },
   {
    "duration": 11,
    "start_time": "2024-12-21T11:31:16.525Z"
   },
   {
    "duration": 344,
    "start_time": "2024-12-21T11:31:16.537Z"
   },
   {
    "duration": 11,
    "start_time": "2024-12-21T11:31:16.882Z"
   },
   {
    "duration": 3,
    "start_time": "2024-12-21T11:31:16.895Z"
   },
   {
    "duration": 17,
    "start_time": "2024-12-21T11:31:16.911Z"
   },
   {
    "duration": 61,
    "start_time": "2024-12-21T11:31:16.930Z"
   },
   {
    "duration": 36,
    "start_time": "2024-12-21T11:31:17.012Z"
   },
   {
    "duration": 12,
    "start_time": "2024-12-21T11:31:17.050Z"
   },
   {
    "duration": 273,
    "start_time": "2024-12-21T11:31:17.063Z"
   },
   {
    "duration": 24,
    "start_time": "2024-12-21T11:31:17.337Z"
   },
   {
    "duration": 3,
    "start_time": "2024-12-21T11:31:17.363Z"
   },
   {
    "duration": 390,
    "start_time": "2024-12-21T11:31:17.368Z"
   },
   {
    "duration": 52,
    "start_time": "2024-12-21T11:31:17.760Z"
   },
   {
    "duration": 9,
    "start_time": "2024-12-21T11:31:17.814Z"
   },
   {
    "duration": 18,
    "start_time": "2024-12-21T11:31:17.824Z"
   },
   {
    "duration": 136,
    "start_time": "2024-12-21T11:31:17.844Z"
   },
   {
    "duration": 33,
    "start_time": "2024-12-21T11:31:17.982Z"
   },
   {
    "duration": 277,
    "start_time": "2024-12-21T11:31:18.017Z"
   }
  ],
  "colab": {
   "provenance": []
  },
  "kernelspec": {
   "display_name": "Python 3 (ipykernel)",
   "language": "python",
   "name": "python3"
  },
  "language_info": {
   "codemirror_mode": {
    "name": "ipython",
    "version": 3
   },
   "file_extension": ".py",
   "mimetype": "text/x-python",
   "name": "python",
   "nbconvert_exporter": "python",
   "pygments_lexer": "ipython3",
   "version": "3.9.5"
  },
  "toc": {
   "base_numbering": 1,
   "nav_menu": {},
   "number_sections": true,
   "sideBar": true,
   "skip_h1_title": true,
   "title_cell": "Table of Contents",
   "title_sidebar": "Contents",
   "toc_cell": false,
   "toc_position": {
    "height": "calc(100% - 180px)",
    "left": "10px",
    "top": "150px",
    "width": "165px"
   },
   "toc_section_display": true,
   "toc_window_display": true
  }
 },
 "nbformat": 4,
 "nbformat_minor": 1
}
