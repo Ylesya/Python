{
  "metadata": {
    "kernelspec": {
      "name": "python",
      "display_name": "Python (Pyodide)",
      "language": "python"
    },
    "language_info": {
      "codemirror_mode": {
        "name": "python",
        "version": 3
      },
      "file_extension": ".py",
      "mimetype": "text/x-python",
      "name": "python",
      "nbconvert_exporter": "python",
      "pygments_lexer": "ipython3",
      "version": "3.8"
    },
    "ExecuteTimeLog": [
      {
        "duration": 66,
        "start_time": "2024-11-22T11:24:28.263Z"
      },
      {
        "duration": 67,
        "start_time": "2024-11-22T11:25:15.267Z"
      },
      {
        "duration": 587,
        "start_time": "2024-11-22T11:25:38.255Z"
      },
      {
        "duration": 203,
        "start_time": "2024-11-22T11:25:47.621Z"
      },
      {
        "duration": 9,
        "start_time": "2024-11-22T17:05:54.288Z"
      },
      {
        "duration": 208,
        "start_time": "2024-11-22T17:06:00.664Z"
      },
      {
        "duration": 8600,
        "start_time": "2024-11-22T17:06:14.971Z"
      },
      {
        "duration": 50,
        "start_time": "2024-11-22T17:15:43.145Z"
      },
      {
        "duration": 5,
        "start_time": "2024-11-22T17:15:54.893Z"
      },
      {
        "duration": 6,
        "start_time": "2024-11-22T17:16:43.580Z"
      },
      {
        "duration": 417,
        "start_time": "2024-11-22T17:16:53.461Z"
      },
      {
        "duration": 21,
        "start_time": "2024-11-22T17:17:01.728Z"
      },
      {
        "duration": 6690,
        "start_time": "2024-11-22T17:24:56.484Z"
      },
      {
        "duration": 65,
        "start_time": "2024-11-22T17:41:14.969Z"
      },
      {
        "duration": 55,
        "start_time": "2024-11-22T17:42:31.656Z"
      },
      {
        "duration": 22,
        "start_time": "2024-11-22T17:42:48.974Z"
      },
      {
        "duration": 4,
        "start_time": "2024-11-22T17:57:43.521Z"
      },
      {
        "duration": 61,
        "start_time": "2024-11-22T17:58:41.614Z"
      },
      {
        "duration": 67,
        "start_time": "2024-11-22T17:58:52.722Z"
      },
      {
        "duration": 5,
        "start_time": "2024-11-22T17:58:59.880Z"
      },
      {
        "duration": 5,
        "start_time": "2024-11-22T17:59:03.157Z"
      },
      {
        "duration": 7,
        "start_time": "2024-11-22T17:59:21.808Z"
      },
      {
        "duration": 4,
        "start_time": "2024-11-22T17:59:44.209Z"
      },
      {
        "duration": 86,
        "start_time": "2024-11-22T18:00:41.993Z"
      },
      {
        "duration": 64,
        "start_time": "2024-11-22T18:04:50.433Z"
      },
      {
        "duration": 73,
        "start_time": "2024-11-22T18:05:01.632Z"
      },
      {
        "duration": 68,
        "start_time": "2024-11-22T18:08:58.193Z"
      },
      {
        "duration": 63,
        "start_time": "2024-11-22T18:09:20.299Z"
      },
      {
        "duration": 72,
        "start_time": "2024-11-22T18:09:45.513Z"
      },
      {
        "duration": 4,
        "start_time": "2024-11-22T18:10:59.621Z"
      },
      {
        "duration": 65,
        "start_time": "2024-11-22T18:11:02.263Z"
      },
      {
        "duration": 69,
        "start_time": "2024-11-22T18:11:32.514Z"
      },
      {
        "duration": 61,
        "start_time": "2024-11-22T18:11:44.764Z"
      },
      {
        "duration": 62,
        "start_time": "2024-11-22T18:11:53.859Z"
      },
      {
        "duration": 21,
        "start_time": "2024-11-22T18:12:04.938Z"
      },
      {
        "duration": 25,
        "start_time": "2024-11-22T18:14:00.880Z"
      },
      {
        "duration": 61,
        "start_time": "2024-11-22T18:14:44.801Z"
      },
      {
        "duration": 22,
        "start_time": "2024-11-22T18:15:42.791Z"
      },
      {
        "duration": 79,
        "start_time": "2024-11-22T18:16:38.130Z"
      },
      {
        "duration": 4,
        "start_time": "2024-11-22T18:16:43.248Z"
      },
      {
        "duration": 5,
        "start_time": "2024-11-22T18:17:07.393Z"
      },
      {
        "duration": 5,
        "start_time": "2024-11-22T18:17:28.886Z"
      },
      {
        "duration": 69,
        "start_time": "2024-11-22T18:18:05.181Z"
      },
      {
        "duration": 11,
        "start_time": "2024-11-22T18:18:56.682Z"
      },
      {
        "duration": 12,
        "start_time": "2024-11-22T18:19:17.976Z"
      },
      {
        "duration": 10,
        "start_time": "2024-11-22T18:19:43.253Z"
      },
      {
        "duration": 4,
        "start_time": "2024-11-22T18:19:47.652Z"
      },
      {
        "duration": 13,
        "start_time": "2024-11-22T18:19:51.346Z"
      },
      {
        "duration": 10,
        "start_time": "2024-11-22T18:19:55.769Z"
      },
      {
        "duration": 11,
        "start_time": "2024-11-22T18:20:00.702Z"
      },
      {
        "duration": 5,
        "start_time": "2024-11-22T18:56:06.286Z"
      },
      {
        "duration": 10,
        "start_time": "2024-11-22T18:56:54.846Z"
      },
      {
        "duration": 10,
        "start_time": "2024-11-22T18:58:36.717Z"
      },
      {
        "duration": 22,
        "start_time": "2024-11-22T19:00:02.205Z"
      },
      {
        "duration": 8,
        "start_time": "2024-11-22T19:00:12.050Z"
      },
      {
        "duration": 8,
        "start_time": "2024-11-22T19:01:09.557Z"
      },
      {
        "duration": 8,
        "start_time": "2024-11-22T19:04:53.176Z"
      },
      {
        "duration": 291,
        "start_time": "2024-11-22T19:05:04.925Z"
      },
      {
        "duration": 97,
        "start_time": "2024-11-22T19:05:10.776Z"
      },
      {
        "duration": 9,
        "start_time": "2024-11-22T19:06:45.663Z"
      },
      {
        "duration": 4,
        "start_time": "2024-11-22T19:09:37.443Z"
      },
      {
        "duration": 122,
        "start_time": "2024-11-22T19:23:19.225Z"
      },
      {
        "duration": 75,
        "start_time": "2024-11-22T19:24:58.876Z"
      },
      {
        "duration": 108,
        "start_time": "2024-11-22T19:26:22.406Z"
      },
      {
        "duration": 218,
        "start_time": "2024-11-22T19:27:38.004Z"
      },
      {
        "duration": 203,
        "start_time": "2024-11-22T19:27:48.382Z"
      },
      {
        "duration": 1200,
        "start_time": "2024-11-22T19:28:36.174Z"
      },
      {
        "duration": 8,
        "start_time": "2024-11-22T19:28:45.559Z"
      },
      {
        "duration": 12,
        "start_time": "2024-11-22T19:28:48.962Z"
      },
      {
        "duration": 12,
        "start_time": "2024-11-22T19:28:59.045Z"
      },
      {
        "duration": 8,
        "start_time": "2024-11-22T19:30:15.945Z"
      },
      {
        "duration": 10,
        "start_time": "2024-11-22T19:34:26.355Z"
      },
      {
        "duration": 13,
        "start_time": "2024-11-22T19:35:01.500Z"
      },
      {
        "duration": 10,
        "start_time": "2024-11-22T19:35:13.268Z"
      },
      {
        "duration": 9,
        "start_time": "2024-11-22T19:36:43.261Z"
      },
      {
        "duration": 14,
        "start_time": "2024-11-22T19:37:30.195Z"
      },
      {
        "duration": 844,
        "start_time": "2024-11-22T19:39:43.937Z"
      },
      {
        "duration": 77,
        "start_time": "2024-11-22T19:41:11.561Z"
      },
      {
        "duration": 4,
        "start_time": "2024-11-22T19:41:11.649Z"
      },
      {
        "duration": 63,
        "start_time": "2024-11-22T19:41:24.444Z"
      },
      {
        "duration": 13,
        "start_time": "2024-11-22T19:41:52.819Z"
      },
      {
        "duration": 5,
        "start_time": "2024-11-22T19:41:52.884Z"
      },
      {
        "duration": 6,
        "start_time": "2024-11-22T19:42:42.396Z"
      },
      {
        "duration": 11,
        "start_time": "2024-11-22T19:43:15.905Z"
      },
      {
        "duration": 6,
        "start_time": "2024-11-22T19:43:21.340Z"
      },
      {
        "duration": 10,
        "start_time": "2024-11-22T19:43:23.695Z"
      },
      {
        "duration": 52,
        "start_time": "2024-11-22T19:43:34.495Z"
      },
      {
        "duration": 14,
        "start_time": "2024-11-22T19:43:35.268Z"
      },
      {
        "duration": 23,
        "start_time": "2024-11-22T19:43:39.139Z"
      },
      {
        "duration": 5,
        "start_time": "2024-11-22T19:43:40.737Z"
      },
      {
        "duration": 7,
        "start_time": "2024-11-22T19:43:41.385Z"
      },
      {
        "duration": 4,
        "start_time": "2024-11-22T19:43:41.998Z"
      },
      {
        "duration": 32,
        "start_time": "2024-11-22T19:43:44.261Z"
      },
      {
        "duration": 18,
        "start_time": "2024-11-22T19:43:46.353Z"
      },
      {
        "duration": 6,
        "start_time": "2024-11-22T19:43:47.493Z"
      },
      {
        "duration": 7,
        "start_time": "2024-11-22T19:43:47.997Z"
      },
      {
        "duration": 6,
        "start_time": "2024-11-22T19:43:48.520Z"
      },
      {
        "duration": 10,
        "start_time": "2024-11-22T19:43:52.030Z"
      },
      {
        "duration": 16,
        "start_time": "2024-11-22T19:43:55.698Z"
      },
      {
        "duration": 831,
        "start_time": "2024-11-22T19:43:58.617Z"
      },
      {
        "duration": 5,
        "start_time": "2024-11-22T19:44:08.075Z"
      },
      {
        "duration": 16,
        "start_time": "2024-11-22T19:44:18.725Z"
      },
      {
        "duration": 12,
        "start_time": "2024-11-22T19:44:46.068Z"
      },
      {
        "duration": 51,
        "start_time": "2024-11-22T19:44:55.188Z"
      },
      {
        "duration": 14,
        "start_time": "2024-11-22T19:44:55.378Z"
      },
      {
        "duration": 16,
        "start_time": "2024-11-22T19:44:55.795Z"
      },
      {
        "duration": 4,
        "start_time": "2024-11-22T19:44:56.433Z"
      },
      {
        "duration": 5,
        "start_time": "2024-11-22T19:44:56.658Z"
      },
      {
        "duration": 4,
        "start_time": "2024-11-22T19:44:57.553Z"
      },
      {
        "duration": 25,
        "start_time": "2024-11-22T19:44:59.179Z"
      },
      {
        "duration": 21,
        "start_time": "2024-11-22T19:45:00.424Z"
      },
      {
        "duration": 5,
        "start_time": "2024-11-22T19:45:01.466Z"
      },
      {
        "duration": 6,
        "start_time": "2024-11-22T19:45:02.320Z"
      },
      {
        "duration": 7,
        "start_time": "2024-11-22T19:45:02.951Z"
      },
      {
        "duration": 10,
        "start_time": "2024-11-22T19:45:10.513Z"
      },
      {
        "duration": 11,
        "start_time": "2024-11-22T19:45:11.661Z"
      },
      {
        "duration": 21,
        "start_time": "2024-11-22T19:45:14.751Z"
      },
      {
        "duration": 16,
        "start_time": "2024-11-22T19:46:12.299Z"
      },
      {
        "duration": 11,
        "start_time": "2024-11-22T19:46:13.243Z"
      },
      {
        "duration": 14,
        "start_time": "2024-11-22T19:46:32.615Z"
      },
      {
        "duration": 8,
        "start_time": "2024-11-22T19:46:33.242Z"
      },
      {
        "duration": 57,
        "start_time": "2024-11-22T19:46:41.176Z"
      },
      {
        "duration": 19,
        "start_time": "2024-11-22T19:46:41.236Z"
      },
      {
        "duration": 16,
        "start_time": "2024-11-22T19:46:41.568Z"
      },
      {
        "duration": 4,
        "start_time": "2024-11-22T19:46:42.086Z"
      },
      {
        "duration": 6,
        "start_time": "2024-11-22T19:46:43.108Z"
      },
      {
        "duration": 4,
        "start_time": "2024-11-22T19:46:43.866Z"
      },
      {
        "duration": 24,
        "start_time": "2024-11-22T19:46:46.526Z"
      },
      {
        "duration": 20,
        "start_time": "2024-11-22T19:46:47.715Z"
      },
      {
        "duration": 5,
        "start_time": "2024-11-22T19:46:48.509Z"
      },
      {
        "duration": 5,
        "start_time": "2024-11-22T19:46:50.485Z"
      },
      {
        "duration": 5,
        "start_time": "2024-11-22T19:46:50.916Z"
      },
      {
        "duration": 10,
        "start_time": "2024-11-22T19:46:54.702Z"
      },
      {
        "duration": 12,
        "start_time": "2024-11-22T19:46:56.060Z"
      },
      {
        "duration": 15,
        "start_time": "2024-11-22T19:46:58.114Z"
      },
      {
        "duration": 10,
        "start_time": "2024-11-22T19:46:59.482Z"
      },
      {
        "duration": 305,
        "start_time": "2024-11-22T19:47:49.420Z"
      },
      {
        "duration": 8,
        "start_time": "2024-11-22T19:49:59.860Z"
      },
      {
        "duration": 16,
        "start_time": "2024-11-22T19:50:25.960Z"
      },
      {
        "duration": 8,
        "start_time": "2024-11-22T19:50:38.442Z"
      },
      {
        "duration": 69,
        "start_time": "2024-11-22T19:51:48.572Z"
      },
      {
        "duration": 81,
        "start_time": "2024-11-22T19:52:11.674Z"
      },
      {
        "duration": 58,
        "start_time": "2024-11-22T19:52:32.919Z"
      },
      {
        "duration": 64,
        "start_time": "2024-11-22T19:52:53.913Z"
      },
      {
        "duration": 11,
        "start_time": "2024-11-22T19:53:15.858Z"
      },
      {
        "duration": 18,
        "start_time": "2024-11-22T19:53:29.782Z"
      },
      {
        "duration": 13,
        "start_time": "2024-11-22T19:54:10.272Z"
      },
      {
        "duration": 16,
        "start_time": "2024-11-22T19:55:28.184Z"
      },
      {
        "duration": 9,
        "start_time": "2024-11-22T19:56:30.165Z"
      },
      {
        "duration": 16,
        "start_time": "2024-11-22T19:56:47.243Z"
      },
      {
        "duration": 15,
        "start_time": "2024-11-22T19:56:59.919Z"
      },
      {
        "duration": 954,
        "start_time": "2024-11-22T19:57:14.711Z"
      },
      {
        "duration": 61,
        "start_time": "2024-11-22T19:57:31.510Z"
      },
      {
        "duration": 20,
        "start_time": "2024-11-22T19:57:36.362Z"
      },
      {
        "duration": 17,
        "start_time": "2024-11-22T19:58:34.699Z"
      },
      {
        "duration": 21,
        "start_time": "2024-11-22T19:58:53.086Z"
      },
      {
        "duration": 18,
        "start_time": "2024-11-22T20:00:22.150Z"
      },
      {
        "duration": 18,
        "start_time": "2024-11-22T20:00:30.309Z"
      },
      {
        "duration": 23,
        "start_time": "2024-11-22T20:00:47.612Z"
      },
      {
        "duration": 24,
        "start_time": "2024-11-22T20:01:02.423Z"
      },
      {
        "duration": 238,
        "start_time": "2024-11-22T20:02:22.169Z"
      },
      {
        "duration": 238,
        "start_time": "2024-11-22T20:02:59.314Z"
      },
      {
        "duration": 80,
        "start_time": "2024-11-23T08:06:28.693Z"
      },
      {
        "duration": 85,
        "start_time": "2024-11-23T08:06:54.311Z"
      },
      {
        "duration": 53,
        "start_time": "2024-11-23T08:07:29.093Z"
      },
      {
        "duration": 9,
        "start_time": "2024-11-23T08:08:25.565Z"
      },
      {
        "duration": 10,
        "start_time": "2024-11-23T08:10:00.124Z"
      },
      {
        "duration": 8,
        "start_time": "2024-11-23T08:10:18.377Z"
      },
      {
        "duration": 609,
        "start_time": "2024-11-23T08:10:25.358Z"
      },
      {
        "duration": 20,
        "start_time": "2024-11-23T08:10:25.969Z"
      },
      {
        "duration": 15,
        "start_time": "2024-11-23T08:10:26.763Z"
      },
      {
        "duration": 5,
        "start_time": "2024-11-23T08:10:28.463Z"
      },
      {
        "duration": 6,
        "start_time": "2024-11-23T08:10:29.057Z"
      },
      {
        "duration": 4,
        "start_time": "2024-11-23T08:10:29.581Z"
      },
      {
        "duration": 33,
        "start_time": "2024-11-23T08:10:31.035Z"
      },
      {
        "duration": 20,
        "start_time": "2024-11-23T08:10:31.868Z"
      },
      {
        "duration": 4,
        "start_time": "2024-11-23T08:10:31.923Z"
      },
      {
        "duration": 6,
        "start_time": "2024-11-23T08:10:32.720Z"
      },
      {
        "duration": 5,
        "start_time": "2024-11-23T08:10:33.167Z"
      },
      {
        "duration": 14,
        "start_time": "2024-11-23T08:10:37.231Z"
      },
      {
        "duration": 12,
        "start_time": "2024-11-23T08:10:37.998Z"
      },
      {
        "duration": 15,
        "start_time": "2024-11-23T08:10:41.094Z"
      },
      {
        "duration": 9,
        "start_time": "2024-11-23T08:10:41.858Z"
      },
      {
        "duration": 314,
        "start_time": "2024-11-23T08:10:41.909Z"
      },
      {
        "duration": 263,
        "start_time": "2024-11-23T08:10:44.419Z"
      },
      {
        "duration": 3368,
        "start_time": "2024-11-23T08:11:38.551Z"
      },
      {
        "duration": 129,
        "start_time": "2024-11-23T08:14:56.935Z"
      },
      {
        "duration": 157,
        "start_time": "2024-11-23T08:15:02.363Z"
      },
      {
        "duration": 3446,
        "start_time": "2024-11-23T08:15:27.796Z"
      },
      {
        "duration": 5,
        "start_time": "2024-11-23T08:16:28.931Z"
      },
      {
        "duration": 13,
        "start_time": "2024-11-23T08:17:24.391Z"
      },
      {
        "duration": 19,
        "start_time": "2024-11-23T08:17:52.049Z"
      },
      {
        "duration": 3,
        "start_time": "2024-11-23T08:20:30.335Z"
      },
      {
        "duration": 7,
        "start_time": "2024-11-23T08:20:41.333Z"
      },
      {
        "duration": 2605,
        "start_time": "2024-11-23T08:24:34.081Z"
      },
      {
        "duration": 11,
        "start_time": "2024-11-23T08:30:08.210Z"
      },
      {
        "duration": 54,
        "start_time": "2024-11-23T08:30:20.058Z"
      },
      {
        "duration": 15,
        "start_time": "2024-11-23T08:30:20.268Z"
      },
      {
        "duration": 16,
        "start_time": "2024-11-23T08:30:20.674Z"
      },
      {
        "duration": 4,
        "start_time": "2024-11-23T08:30:22.168Z"
      },
      {
        "duration": 6,
        "start_time": "2024-11-23T08:30:23.317Z"
      },
      {
        "duration": 4,
        "start_time": "2024-11-23T08:30:23.908Z"
      },
      {
        "duration": 29,
        "start_time": "2024-11-23T08:30:26.181Z"
      },
      {
        "duration": 19,
        "start_time": "2024-11-23T08:30:27.597Z"
      },
      {
        "duration": 5,
        "start_time": "2024-11-23T08:30:37.963Z"
      },
      {
        "duration": 7,
        "start_time": "2024-11-23T08:30:38.809Z"
      },
      {
        "duration": 5,
        "start_time": "2024-11-23T08:30:39.590Z"
      },
      {
        "duration": 9,
        "start_time": "2024-11-23T08:30:42.132Z"
      },
      {
        "duration": 27,
        "start_time": "2024-11-23T08:30:43.025Z"
      },
      {
        "duration": 22,
        "start_time": "2024-11-23T08:30:46.318Z"
      },
      {
        "duration": 11,
        "start_time": "2024-11-23T08:30:47.556Z"
      },
      {
        "duration": 322,
        "start_time": "2024-11-23T08:30:48.484Z"
      },
      {
        "duration": 289,
        "start_time": "2024-11-23T08:30:49.436Z"
      },
      {
        "duration": 13047,
        "start_time": "2024-11-23T08:31:14.797Z"
      },
      {
        "duration": 6,
        "start_time": "2024-11-23T08:37:02.143Z"
      },
      {
        "duration": 6,
        "start_time": "2024-11-23T08:37:16.101Z"
      },
      {
        "duration": 5,
        "start_time": "2024-11-23T08:38:12.791Z"
      },
      {
        "duration": 13,
        "start_time": "2024-11-23T08:38:34.216Z"
      },
      {
        "duration": 355,
        "start_time": "2024-11-23T08:40:52.700Z"
      },
      {
        "duration": 9,
        "start_time": "2024-11-23T08:41:53.204Z"
      },
      {
        "duration": 317,
        "start_time": "2024-11-23T08:42:10.333Z"
      },
      {
        "duration": 364,
        "start_time": "2024-11-23T08:42:43.201Z"
      },
      {
        "duration": 282,
        "start_time": "2024-11-23T08:45:17.023Z"
      },
      {
        "duration": 5,
        "start_time": "2024-11-23T08:46:38.658Z"
      },
      {
        "duration": 4,
        "start_time": "2024-11-23T08:47:36.006Z"
      },
      {
        "duration": 68,
        "start_time": "2024-11-23T08:47:56.294Z"
      },
      {
        "duration": 7,
        "start_time": "2024-11-23T08:48:11.466Z"
      },
      {
        "duration": 17,
        "start_time": "2024-11-23T08:48:27.933Z"
      },
      {
        "duration": 11,
        "start_time": "2024-11-23T08:48:39.435Z"
      },
      {
        "duration": 23,
        "start_time": "2024-11-23T08:54:15.240Z"
      },
      {
        "duration": 19,
        "start_time": "2024-11-23T08:54:27.050Z"
      },
      {
        "duration": 22,
        "start_time": "2024-11-23T08:54:30.266Z"
      },
      {
        "duration": 12,
        "start_time": "2024-11-23T08:54:33.023Z"
      },
      {
        "duration": 53,
        "start_time": "2024-11-23T08:54:41.539Z"
      },
      {
        "duration": 14,
        "start_time": "2024-11-23T08:54:41.758Z"
      },
      {
        "duration": 25,
        "start_time": "2024-11-23T08:54:42.337Z"
      },
      {
        "duration": 5,
        "start_time": "2024-11-23T08:54:44.232Z"
      },
      {
        "duration": 5,
        "start_time": "2024-11-23T08:54:44.981Z"
      },
      {
        "duration": 24,
        "start_time": "2024-11-23T08:54:45.522Z"
      },
      {
        "duration": 53,
        "start_time": "2024-11-23T08:54:47.321Z"
      },
      {
        "duration": 50,
        "start_time": "2024-11-23T08:54:48.514Z"
      },
      {
        "duration": 12,
        "start_time": "2024-11-23T08:54:49.333Z"
      },
      {
        "duration": 16,
        "start_time": "2024-11-23T08:54:49.924Z"
      },
      {
        "duration": 17,
        "start_time": "2024-11-23T08:54:50.516Z"
      },
      {
        "duration": 32,
        "start_time": "2024-11-23T08:54:52.429Z"
      },
      {
        "duration": 25,
        "start_time": "2024-11-23T08:54:53.333Z"
      },
      {
        "duration": 31,
        "start_time": "2024-11-23T08:54:56.145Z"
      },
      {
        "duration": 24,
        "start_time": "2024-11-23T08:54:57.213Z"
      },
      {
        "duration": 355,
        "start_time": "2024-11-23T08:55:00.094Z"
      },
      {
        "duration": 352,
        "start_time": "2024-11-23T08:55:11.421Z"
      },
      {
        "duration": 15911,
        "start_time": "2024-11-23T08:55:18.979Z"
      },
      {
        "duration": 21,
        "start_time": "2024-11-23T08:57:05.595Z"
      },
      {
        "duration": 10,
        "start_time": "2024-11-23T08:57:06.283Z"
      },
      {
        "duration": 328,
        "start_time": "2024-11-23T08:57:06.965Z"
      },
      {
        "duration": 363,
        "start_time": "2024-11-23T08:57:07.658Z"
      },
      {
        "duration": 20,
        "start_time": "2024-11-23T08:57:15.547Z"
      },
      {
        "duration": 74,
        "start_time": "2024-11-23T08:57:28.355Z"
      },
      {
        "duration": 32,
        "start_time": "2024-11-23T08:57:28.619Z"
      },
      {
        "duration": 24,
        "start_time": "2024-11-23T08:57:29.055Z"
      },
      {
        "duration": 7,
        "start_time": "2024-11-23T08:57:29.600Z"
      },
      {
        "duration": 10,
        "start_time": "2024-11-23T08:57:30.132Z"
      },
      {
        "duration": 5,
        "start_time": "2024-11-23T08:57:30.792Z"
      },
      {
        "duration": 26,
        "start_time": "2024-11-23T08:57:32.256Z"
      },
      {
        "duration": 21,
        "start_time": "2024-11-23T08:57:32.364Z"
      },
      {
        "duration": 8,
        "start_time": "2024-11-23T08:57:33.596Z"
      },
      {
        "duration": 5,
        "start_time": "2024-11-23T08:57:36.601Z"
      },
      {
        "duration": 30,
        "start_time": "2024-11-23T08:57:36.616Z"
      },
      {
        "duration": 11,
        "start_time": "2024-11-23T08:57:41.159Z"
      },
      {
        "duration": 13,
        "start_time": "2024-11-23T08:57:43.264Z"
      },
      {
        "duration": 32,
        "start_time": "2024-11-23T08:57:56.809Z"
      },
      {
        "duration": 10,
        "start_time": "2024-11-23T08:57:59.389Z"
      },
      {
        "duration": 347,
        "start_time": "2024-11-23T08:58:02.007Z"
      },
      {
        "duration": 311,
        "start_time": "2024-11-23T08:58:04.650Z"
      },
      {
        "duration": 6,
        "start_time": "2024-11-23T08:58:10.287Z"
      },
      {
        "duration": 7,
        "start_time": "2024-11-23T08:58:11.758Z"
      },
      {
        "duration": 5,
        "start_time": "2024-11-23T08:58:53.159Z"
      },
      {
        "duration": 8,
        "start_time": "2024-11-23T09:00:35.375Z"
      },
      {
        "duration": 6,
        "start_time": "2024-11-23T09:00:56.967Z"
      },
      {
        "duration": 5,
        "start_time": "2024-11-23T09:01:40.995Z"
      },
      {
        "duration": 14,
        "start_time": "2024-11-23T09:01:42.026Z"
      },
      {
        "duration": 19,
        "start_time": "2024-11-23T09:02:13.734Z"
      },
      {
        "duration": 8,
        "start_time": "2024-11-23T09:04:39.586Z"
      },
      {
        "duration": 5,
        "start_time": "2024-11-23T09:04:48.910Z"
      },
      {
        "duration": 14,
        "start_time": "2024-11-23T09:04:48.985Z"
      },
      {
        "duration": 7,
        "start_time": "2024-11-23T09:04:56.011Z"
      },
      {
        "duration": 5,
        "start_time": "2024-11-23T09:04:57.663Z"
      },
      {
        "duration": 22,
        "start_time": "2024-11-23T09:04:58.251Z"
      },
      {
        "duration": 60,
        "start_time": "2024-11-23T09:07:57.451Z"
      },
      {
        "duration": 29,
        "start_time": "2024-11-23T09:07:57.527Z"
      },
      {
        "duration": 87,
        "start_time": "2024-11-23T09:09:23.702Z"
      },
      {
        "duration": 53,
        "start_time": "2024-11-23T09:09:57.460Z"
      },
      {
        "duration": 17,
        "start_time": "2024-11-23T09:09:57.641Z"
      },
      {
        "duration": 16,
        "start_time": "2024-11-23T09:09:58.051Z"
      },
      {
        "duration": 4,
        "start_time": "2024-11-23T09:09:58.678Z"
      },
      {
        "duration": 7,
        "start_time": "2024-11-23T09:09:58.926Z"
      },
      {
        "duration": 4,
        "start_time": "2024-11-23T09:09:59.113Z"
      },
      {
        "duration": 46,
        "start_time": "2024-11-23T09:10:00.113Z"
      },
      {
        "duration": 20,
        "start_time": "2024-11-23T09:10:00.589Z"
      },
      {
        "duration": 30,
        "start_time": "2024-11-23T09:10:00.615Z"
      },
      {
        "duration": 5,
        "start_time": "2024-11-23T09:10:01.102Z"
      },
      {
        "duration": 7,
        "start_time": "2024-11-23T09:10:01.486Z"
      },
      {
        "duration": 33,
        "start_time": "2024-11-23T09:10:02.917Z"
      },
      {
        "duration": 13,
        "start_time": "2024-11-23T09:10:03.487Z"
      },
      {
        "duration": 18,
        "start_time": "2024-11-23T09:10:04.681Z"
      },
      {
        "duration": 10,
        "start_time": "2024-11-23T09:10:05.480Z"
      },
      {
        "duration": 415,
        "start_time": "2024-11-23T09:10:05.492Z"
      },
      {
        "duration": 325,
        "start_time": "2024-11-23T09:10:05.909Z"
      },
      {
        "duration": 64,
        "start_time": "2024-11-23T09:10:07.732Z"
      },
      {
        "duration": 5,
        "start_time": "2024-11-23T09:10:28.460Z"
      },
      {
        "duration": 32,
        "start_time": "2024-11-23T09:10:28.720Z"
      },
      {
        "duration": 5,
        "start_time": "2024-11-23T09:10:28.962Z"
      },
      {
        "duration": 16,
        "start_time": "2024-11-23T09:10:29.540Z"
      },
      {
        "duration": 15,
        "start_time": "2024-11-23T09:10:29.558Z"
      },
      {
        "duration": 73,
        "start_time": "2024-11-23T09:10:45.867Z"
      },
      {
        "duration": 6,
        "start_time": "2024-11-23T09:11:19.179Z"
      },
      {
        "duration": 357,
        "start_time": "2024-11-23T09:11:26.724Z"
      },
      {
        "duration": 6,
        "start_time": "2024-11-23T09:11:28.566Z"
      },
      {
        "duration": 94,
        "start_time": "2024-11-23T09:11:29.759Z"
      },
      {
        "duration": 65,
        "start_time": "2024-11-23T09:11:40.812Z"
      },
      {
        "duration": 14,
        "start_time": "2024-11-23T09:11:41.067Z"
      },
      {
        "duration": 26,
        "start_time": "2024-11-23T09:11:41.632Z"
      },
      {
        "duration": 5,
        "start_time": "2024-11-23T09:11:42.657Z"
      },
      {
        "duration": 6,
        "start_time": "2024-11-23T09:11:43.085Z"
      },
      {
        "duration": 10,
        "start_time": "2024-11-23T09:11:43.725Z"
      },
      {
        "duration": 25,
        "start_time": "2024-11-23T09:11:44.862Z"
      },
      {
        "duration": 50,
        "start_time": "2024-11-23T09:11:44.889Z"
      },
      {
        "duration": 5,
        "start_time": "2024-11-23T09:11:45.659Z"
      },
      {
        "duration": 10,
        "start_time": "2024-11-23T09:11:46.464Z"
      },
      {
        "duration": 9,
        "start_time": "2024-11-23T09:11:46.907Z"
      },
      {
        "duration": 15,
        "start_time": "2024-11-23T09:11:48.164Z"
      },
      {
        "duration": 15,
        "start_time": "2024-11-23T09:11:48.189Z"
      },
      {
        "duration": 28,
        "start_time": "2024-11-23T09:11:48.960Z"
      },
      {
        "duration": 12,
        "start_time": "2024-11-23T09:11:48.991Z"
      },
      {
        "duration": 414,
        "start_time": "2024-11-23T09:11:49.545Z"
      },
      {
        "duration": 367,
        "start_time": "2024-11-23T09:11:50.200Z"
      },
      {
        "duration": 19,
        "start_time": "2024-11-23T09:11:52.434Z"
      },
      {
        "duration": 62,
        "start_time": "2024-11-23T09:11:53.912Z"
      },
      {
        "duration": 18,
        "start_time": "2024-11-23T09:12:47.971Z"
      },
      {
        "duration": 5,
        "start_time": "2024-11-23T09:13:33.287Z"
      },
      {
        "duration": 20,
        "start_time": "2024-11-23T09:13:45.433Z"
      },
      {
        "duration": 7,
        "start_time": "2024-11-23T09:13:48.576Z"
      },
      {
        "duration": 15,
        "start_time": "2024-11-23T09:13:50.454Z"
      },
      {
        "duration": 16,
        "start_time": "2024-11-23T09:13:54.705Z"
      },
      {
        "duration": 8,
        "start_time": "2024-11-23T09:13:54.907Z"
      },
      {
        "duration": 357,
        "start_time": "2024-11-23T09:13:55.102Z"
      },
      {
        "duration": 329,
        "start_time": "2024-11-23T09:13:55.461Z"
      },
      {
        "duration": 8,
        "start_time": "2024-11-23T09:13:55.792Z"
      },
      {
        "duration": 47,
        "start_time": "2024-11-23T09:13:55.802Z"
      },
      {
        "duration": 40,
        "start_time": "2024-11-23T09:15:53.116Z"
      },
      {
        "duration": 15,
        "start_time": "2024-11-23T09:15:57.338Z"
      },
      {
        "duration": 15,
        "start_time": "2024-11-23T09:15:58.196Z"
      },
      {
        "duration": 8,
        "start_time": "2024-11-23T09:16:06.805Z"
      },
      {
        "duration": 6,
        "start_time": "2024-11-23T09:16:22.983Z"
      },
      {
        "duration": 7,
        "start_time": "2024-11-23T09:16:26.351Z"
      },
      {
        "duration": 6,
        "start_time": "2024-11-23T09:16:33.861Z"
      },
      {
        "duration": 16,
        "start_time": "2024-11-23T09:16:42.554Z"
      },
      {
        "duration": 8,
        "start_time": "2024-11-23T09:17:04.152Z"
      },
      {
        "duration": 349,
        "start_time": "2024-11-23T09:17:51.962Z"
      },
      {
        "duration": 32,
        "start_time": "2024-11-23T09:18:16.516Z"
      },
      {
        "duration": 67,
        "start_time": "2024-11-23T09:18:42.181Z"
      },
      {
        "duration": 19,
        "start_time": "2024-11-23T09:18:42.378Z"
      },
      {
        "duration": 25,
        "start_time": "2024-11-23T09:18:42.807Z"
      },
      {
        "duration": 13,
        "start_time": "2024-11-23T09:18:43.427Z"
      },
      {
        "duration": 6,
        "start_time": "2024-11-23T09:18:43.658Z"
      },
      {
        "duration": 4,
        "start_time": "2024-11-23T09:18:43.864Z"
      },
      {
        "duration": 92,
        "start_time": "2024-11-23T09:18:45.064Z"
      },
      {
        "duration": 22,
        "start_time": "2024-11-23T09:18:45.786Z"
      },
      {
        "duration": 5,
        "start_time": "2024-11-23T09:18:46.189Z"
      },
      {
        "duration": 6,
        "start_time": "2024-11-23T09:18:47.893Z"
      },
      {
        "duration": 6,
        "start_time": "2024-11-23T09:18:52.106Z"
      },
      {
        "duration": 19,
        "start_time": "2024-11-23T09:18:54.142Z"
      },
      {
        "duration": 10,
        "start_time": "2024-11-23T09:18:54.175Z"
      },
      {
        "duration": 42,
        "start_time": "2024-11-23T09:18:55.714Z"
      },
      {
        "duration": 10,
        "start_time": "2024-11-23T09:18:57.483Z"
      },
      {
        "duration": 348,
        "start_time": "2024-11-23T09:18:58.768Z"
      },
      {
        "duration": 413,
        "start_time": "2024-11-23T09:19:00.423Z"
      },
      {
        "duration": 6,
        "start_time": "2024-11-23T09:19:04.281Z"
      },
      {
        "duration": 26,
        "start_time": "2024-11-23T09:19:06.896Z"
      },
      {
        "duration": 7,
        "start_time": "2024-11-23T09:19:09.066Z"
      },
      {
        "duration": 25,
        "start_time": "2024-11-23T09:19:10.047Z"
      },
      {
        "duration": 6,
        "start_time": "2024-11-23T09:20:11.397Z"
      },
      {
        "duration": 43,
        "start_time": "2024-11-23T09:21:19.269Z"
      },
      {
        "duration": 16,
        "start_time": "2024-11-23T09:21:38.155Z"
      },
      {
        "duration": 6,
        "start_time": "2024-11-23T09:21:43.271Z"
      },
      {
        "duration": 33,
        "start_time": "2024-11-23T09:21:45.734Z"
      },
      {
        "duration": 19,
        "start_time": "2024-11-23T09:22:09.087Z"
      },
      {
        "duration": 37,
        "start_time": "2024-11-23T09:22:21.812Z"
      },
      {
        "duration": 18,
        "start_time": "2024-11-23T09:23:53.927Z"
      },
      {
        "duration": 122,
        "start_time": "2024-11-23T09:23:54.956Z"
      },
      {
        "duration": 24,
        "start_time": "2024-11-23T09:24:10.584Z"
      },
      {
        "duration": 7,
        "start_time": "2024-11-23T09:31:55.295Z"
      },
      {
        "duration": 12,
        "start_time": "2024-11-23T09:31:57.648Z"
      },
      {
        "duration": 63,
        "start_time": "2024-11-23T09:32:06.538Z"
      },
      {
        "duration": 30,
        "start_time": "2024-11-23T09:32:06.726Z"
      },
      {
        "duration": 21,
        "start_time": "2024-11-23T09:32:07.356Z"
      },
      {
        "duration": 4,
        "start_time": "2024-11-23T09:32:09.410Z"
      },
      {
        "duration": 10,
        "start_time": "2024-11-23T09:32:12.308Z"
      },
      {
        "duration": 4,
        "start_time": "2024-11-23T09:32:13.102Z"
      },
      {
        "duration": 173,
        "start_time": "2024-11-23T09:32:16.279Z"
      },
      {
        "duration": 22,
        "start_time": "2024-11-23T09:32:17.159Z"
      },
      {
        "duration": 9,
        "start_time": "2024-11-23T09:32:18.940Z"
      },
      {
        "duration": 7,
        "start_time": "2024-11-23T09:32:20.902Z"
      },
      {
        "duration": 6,
        "start_time": "2024-11-23T09:32:21.891Z"
      },
      {
        "duration": 10,
        "start_time": "2024-11-23T09:32:25.176Z"
      },
      {
        "duration": 22,
        "start_time": "2024-11-23T09:32:25.942Z"
      },
      {
        "duration": 18,
        "start_time": "2024-11-23T09:32:27.870Z"
      },
      {
        "duration": 14,
        "start_time": "2024-11-23T09:32:29.454Z"
      },
      {
        "duration": 366,
        "start_time": "2024-11-23T09:32:30.013Z"
      },
      {
        "duration": 352,
        "start_time": "2024-11-23T09:32:30.627Z"
      },
      {
        "duration": 5,
        "start_time": "2024-11-23T09:32:34.154Z"
      },
      {
        "duration": 13,
        "start_time": "2024-11-23T09:32:49.003Z"
      },
      {
        "duration": 16,
        "start_time": "2024-11-23T09:40:24.444Z"
      },
      {
        "duration": 10,
        "start_time": "2024-11-23T09:40:48.497Z"
      },
      {
        "duration": 13,
        "start_time": "2024-11-23T09:41:08.560Z"
      },
      {
        "duration": 12,
        "start_time": "2024-11-23T09:44:15.678Z"
      },
      {
        "duration": 56,
        "start_time": "2024-11-23T09:45:13.188Z"
      },
      {
        "duration": 15,
        "start_time": "2024-11-23T09:45:20.184Z"
      },
      {
        "duration": 22,
        "start_time": "2024-11-23T09:50:15.492Z"
      },
      {
        "duration": 17,
        "start_time": "2024-11-23T09:50:21.199Z"
      },
      {
        "duration": 34,
        "start_time": "2024-11-23T09:50:23.434Z"
      },
      {
        "duration": 29,
        "start_time": "2024-11-23T09:52:23.535Z"
      },
      {
        "duration": 22,
        "start_time": "2024-11-23T09:52:23.566Z"
      },
      {
        "duration": 39,
        "start_time": "2024-11-23T09:52:47.314Z"
      },
      {
        "duration": 15,
        "start_time": "2024-11-23T09:52:49.697Z"
      },
      {
        "duration": 19,
        "start_time": "2024-11-23T09:54:45.669Z"
      },
      {
        "duration": 68,
        "start_time": "2024-11-23T09:58:34.044Z"
      },
      {
        "duration": 15,
        "start_time": "2024-11-23T09:58:40.846Z"
      },
      {
        "duration": 26,
        "start_time": "2024-11-23T09:58:57.385Z"
      },
      {
        "duration": 10,
        "start_time": "2024-11-23T09:59:00.031Z"
      },
      {
        "duration": 74,
        "start_time": "2024-11-23T10:04:44.154Z"
      },
      {
        "duration": 13,
        "start_time": "2024-11-23T10:04:48.547Z"
      },
      {
        "duration": 25,
        "start_time": "2024-11-23T10:06:36.545Z"
      },
      {
        "duration": 27,
        "start_time": "2024-11-23T10:07:05.614Z"
      },
      {
        "duration": 33,
        "start_time": "2024-11-23T10:08:42.229Z"
      },
      {
        "duration": 87,
        "start_time": "2024-11-23T10:09:07.630Z"
      },
      {
        "duration": 28,
        "start_time": "2024-11-23T10:09:18.870Z"
      },
      {
        "duration": 33,
        "start_time": "2024-11-23T10:10:02.436Z"
      },
      {
        "duration": 7,
        "start_time": "2024-11-23T10:11:42.378Z"
      },
      {
        "duration": 399,
        "start_time": "2024-11-23T10:11:42.735Z"
      },
      {
        "duration": 28,
        "start_time": "2024-11-23T10:11:54.611Z"
      },
      {
        "duration": 337,
        "start_time": "2024-11-23T10:11:56.184Z"
      },
      {
        "duration": 68,
        "start_time": "2024-11-23T10:12:08.274Z"
      },
      {
        "duration": 23,
        "start_time": "2024-11-23T10:12:08.757Z"
      },
      {
        "duration": 43,
        "start_time": "2024-11-23T10:12:09.812Z"
      },
      {
        "duration": 3,
        "start_time": "2024-11-23T10:12:11.502Z"
      },
      {
        "duration": 4,
        "start_time": "2024-11-23T10:12:12.011Z"
      },
      {
        "duration": 5,
        "start_time": "2024-11-23T10:12:12.510Z"
      },
      {
        "duration": 35,
        "start_time": "2024-11-23T10:12:13.706Z"
      },
      {
        "duration": 36,
        "start_time": "2024-11-23T10:12:15.823Z"
      },
      {
        "duration": 12,
        "start_time": "2024-11-23T10:12:16.821Z"
      },
      {
        "duration": 26,
        "start_time": "2024-11-23T10:12:16.842Z"
      },
      {
        "duration": 8,
        "start_time": "2024-11-23T10:12:17.869Z"
      },
      {
        "duration": 11,
        "start_time": "2024-11-23T10:12:19.969Z"
      },
      {
        "duration": 15,
        "start_time": "2024-11-23T10:12:20.484Z"
      },
      {
        "duration": 16,
        "start_time": "2024-11-23T10:12:21.887Z"
      },
      {
        "duration": 24,
        "start_time": "2024-11-23T10:12:25.751Z"
      },
      {
        "duration": 358,
        "start_time": "2024-11-23T10:12:27.774Z"
      },
      {
        "duration": 409,
        "start_time": "2024-11-23T10:12:34.746Z"
      },
      {
        "duration": 14,
        "start_time": "2024-11-23T10:12:36.859Z"
      },
      {
        "duration": 38,
        "start_time": "2024-11-23T10:12:38.231Z"
      },
      {
        "duration": 4,
        "start_time": "2024-11-23T10:12:42.387Z"
      },
      {
        "duration": 37,
        "start_time": "2024-11-23T10:12:42.427Z"
      },
      {
        "duration": 388,
        "start_time": "2024-11-23T10:13:07.277Z"
      },
      {
        "duration": 8,
        "start_time": "2024-11-23T10:14:24.768Z"
      },
      {
        "duration": 4,
        "start_time": "2024-11-23T10:17:21.899Z"
      },
      {
        "duration": 19,
        "start_time": "2024-11-23T10:18:35.578Z"
      },
      {
        "duration": 73,
        "start_time": "2024-11-23T10:25:04.757Z"
      },
      {
        "duration": 31,
        "start_time": "2024-11-23T10:25:15.622Z"
      },
      {
        "duration": 11,
        "start_time": "2024-11-23T10:26:26.475Z"
      },
      {
        "duration": 12,
        "start_time": "2024-11-23T10:26:47.692Z"
      },
      {
        "duration": 96,
        "start_time": "2024-11-23T10:27:02.291Z"
      },
      {
        "duration": 18,
        "start_time": "2024-11-23T10:27:02.493Z"
      },
      {
        "duration": 38,
        "start_time": "2024-11-23T10:27:02.931Z"
      },
      {
        "duration": 15,
        "start_time": "2024-11-23T10:27:03.530Z"
      },
      {
        "duration": 5,
        "start_time": "2024-11-23T10:27:03.773Z"
      },
      {
        "duration": 4,
        "start_time": "2024-11-23T10:27:03.979Z"
      },
      {
        "duration": 71,
        "start_time": "2024-11-23T10:27:04.598Z"
      },
      {
        "duration": 48,
        "start_time": "2024-11-23T10:27:04.819Z"
      },
      {
        "duration": 5,
        "start_time": "2024-11-23T10:27:04.871Z"
      },
      {
        "duration": 14,
        "start_time": "2024-11-23T10:27:05.045Z"
      },
      {
        "duration": 6,
        "start_time": "2024-11-23T10:27:05.290Z"
      },
      {
        "duration": 10,
        "start_time": "2024-11-23T10:27:05.775Z"
      },
      {
        "duration": 12,
        "start_time": "2024-11-23T10:27:05.988Z"
      },
      {
        "duration": 30,
        "start_time": "2024-11-23T10:27:06.311Z"
      },
      {
        "duration": 24,
        "start_time": "2024-11-23T10:27:06.347Z"
      },
      {
        "duration": 363,
        "start_time": "2024-11-23T10:27:06.605Z"
      },
      {
        "duration": 339,
        "start_time": "2024-11-23T10:27:06.969Z"
      },
      {
        "duration": 16,
        "start_time": "2024-11-23T10:27:07.349Z"
      },
      {
        "duration": 36,
        "start_time": "2024-11-23T10:27:07.845Z"
      },
      {
        "duration": 8,
        "start_time": "2024-11-23T10:27:08.089Z"
      },
      {
        "duration": 39,
        "start_time": "2024-11-23T10:27:08.337Z"
      },
      {
        "duration": 5,
        "start_time": "2024-11-23T10:27:08.598Z"
      },
      {
        "duration": 17,
        "start_time": "2024-11-23T10:27:08.899Z"
      },
      {
        "duration": 12,
        "start_time": "2024-11-23T10:27:09.432Z"
      },
      {
        "duration": 36,
        "start_time": "2024-11-23T10:27:10.045Z"
      },
      {
        "duration": 108,
        "start_time": "2024-11-23T10:27:10.871Z"
      },
      {
        "duration": 17,
        "start_time": "2024-11-23T10:27:21.508Z"
      },
      {
        "duration": 21,
        "start_time": "2024-11-23T10:27:36.840Z"
      },
      {
        "duration": 12,
        "start_time": "2024-11-23T10:28:04.269Z"
      },
      {
        "duration": 13,
        "start_time": "2024-11-23T10:28:48.190Z"
      },
      {
        "duration": 8,
        "start_time": "2024-11-23T10:33:54.773Z"
      },
      {
        "duration": 8,
        "start_time": "2024-11-23T10:34:06.081Z"
      },
      {
        "duration": 144,
        "start_time": "2024-11-23T10:35:51.046Z"
      },
      {
        "duration": 72,
        "start_time": "2024-11-23T10:36:30.506Z"
      },
      {
        "duration": 155,
        "start_time": "2024-11-23T10:37:37.978Z"
      },
      {
        "duration": 94,
        "start_time": "2024-11-23T10:37:46.750Z"
      },
      {
        "duration": 70,
        "start_time": "2024-11-23T10:38:49.698Z"
      },
      {
        "duration": 73,
        "start_time": "2024-11-23T10:39:02.671Z"
      },
      {
        "duration": 97,
        "start_time": "2024-11-23T10:42:47.389Z"
      },
      {
        "duration": 80,
        "start_time": "2024-11-23T10:43:00.873Z"
      },
      {
        "duration": 62,
        "start_time": "2024-11-23T10:43:10.591Z"
      },
      {
        "duration": 59,
        "start_time": "2024-11-23T10:43:26.747Z"
      },
      {
        "duration": 42,
        "start_time": "2024-11-23T10:44:02.570Z"
      },
      {
        "duration": 70,
        "start_time": "2024-11-23T10:44:20.054Z"
      },
      {
        "duration": 131,
        "start_time": "2024-11-23T10:53:01.371Z"
      },
      {
        "duration": 135,
        "start_time": "2024-11-23T11:03:40.984Z"
      },
      {
        "duration": 231,
        "start_time": "2024-11-23T11:05:59.665Z"
      },
      {
        "duration": 6,
        "start_time": "2024-11-23T11:08:23.282Z"
      },
      {
        "duration": 6,
        "start_time": "2024-11-23T11:08:37.477Z"
      },
      {
        "duration": 6,
        "start_time": "2024-11-23T11:08:51.394Z"
      },
      {
        "duration": 14,
        "start_time": "2024-11-23T11:09:38.566Z"
      },
      {
        "duration": 6,
        "start_time": "2024-11-23T11:09:48.183Z"
      },
      {
        "duration": 60,
        "start_time": "2024-11-23T11:10:10.535Z"
      },
      {
        "duration": 22,
        "start_time": "2024-11-23T11:10:38.788Z"
      },
      {
        "duration": 87,
        "start_time": "2024-11-23T11:13:19.640Z"
      },
      {
        "duration": 88,
        "start_time": "2024-11-23T11:17:21.718Z"
      },
      {
        "duration": 3493,
        "start_time": "2024-11-23T11:25:24.112Z"
      },
      {
        "duration": 3575,
        "start_time": "2024-11-23T11:25:39.516Z"
      },
      {
        "duration": 32,
        "start_time": "2024-11-23T11:26:07.258Z"
      },
      {
        "duration": 47,
        "start_time": "2024-11-23T11:28:10.034Z"
      },
      {
        "duration": 46,
        "start_time": "2024-11-23T11:28:39.811Z"
      },
      {
        "duration": 44,
        "start_time": "2024-11-23T11:28:54.362Z"
      },
      {
        "duration": 13,
        "start_time": "2024-11-23T11:40:02.650Z"
      },
      {
        "duration": 20,
        "start_time": "2024-11-23T11:41:16.668Z"
      },
      {
        "duration": 26,
        "start_time": "2024-11-23T11:41:53.731Z"
      },
      {
        "duration": 13,
        "start_time": "2024-11-23T11:41:58.489Z"
      },
      {
        "duration": 15,
        "start_time": "2024-11-23T11:42:04.140Z"
      },
      {
        "duration": 109,
        "start_time": "2024-11-23T11:42:22.332Z"
      },
      {
        "duration": 27,
        "start_time": "2024-11-23T11:45:25.755Z"
      },
      {
        "duration": 10,
        "start_time": "2024-11-23T11:46:55.865Z"
      },
      {
        "duration": 19,
        "start_time": "2024-11-23T11:48:48.149Z"
      },
      {
        "duration": 11,
        "start_time": "2024-11-23T11:49:08.299Z"
      },
      {
        "duration": 65,
        "start_time": "2024-11-23T11:51:45.237Z"
      },
      {
        "duration": 73,
        "start_time": "2024-11-23T11:51:52.359Z"
      },
      {
        "duration": 26,
        "start_time": "2024-11-23T11:52:07.955Z"
      },
      {
        "duration": 19,
        "start_time": "2024-11-23T11:53:12.749Z"
      },
      {
        "duration": 23,
        "start_time": "2024-11-23T11:54:23.029Z"
      },
      {
        "duration": 23,
        "start_time": "2024-11-23T11:54:33.709Z"
      },
      {
        "duration": 59,
        "start_time": "2024-11-23T11:54:46.390Z"
      },
      {
        "duration": 65,
        "start_time": "2024-11-23T11:55:44.584Z"
      },
      {
        "duration": 12,
        "start_time": "2024-11-23T11:56:04.780Z"
      },
      {
        "duration": 29,
        "start_time": "2024-11-23T11:56:18.432Z"
      },
      {
        "duration": 87,
        "start_time": "2024-11-23T11:56:22.035Z"
      },
      {
        "duration": 0,
        "start_time": "2024-11-23T11:56:22.124Z"
      },
      {
        "duration": 80,
        "start_time": "2024-11-23T11:57:03.681Z"
      },
      {
        "duration": 19,
        "start_time": "2024-11-23T11:57:10.675Z"
      },
      {
        "duration": 16,
        "start_time": "2024-11-23T11:57:15.150Z"
      },
      {
        "duration": 17,
        "start_time": "2024-11-23T11:58:26.340Z"
      },
      {
        "duration": 95,
        "start_time": "2024-11-23T11:59:48.535Z"
      },
      {
        "duration": 64,
        "start_time": "2024-11-23T11:59:54.525Z"
      },
      {
        "duration": 92,
        "start_time": "2024-11-23T12:00:04.507Z"
      },
      {
        "duration": 64,
        "start_time": "2024-11-23T12:00:22.581Z"
      },
      {
        "duration": 0,
        "start_time": "2024-11-23T12:00:22.649Z"
      },
      {
        "duration": 15,
        "start_time": "2024-11-23T12:00:45.470Z"
      },
      {
        "duration": 15,
        "start_time": "2024-11-23T12:00:52.671Z"
      },
      {
        "duration": 16,
        "start_time": "2024-11-23T12:01:17.161Z"
      },
      {
        "duration": 27,
        "start_time": "2024-11-23T12:03:02.518Z"
      },
      {
        "duration": 945,
        "start_time": "2024-11-23T12:04:00.550Z"
      },
      {
        "duration": 32,
        "start_time": "2024-11-23T12:04:11.640Z"
      },
      {
        "duration": 22,
        "start_time": "2024-11-23T12:04:32.558Z"
      },
      {
        "duration": 44,
        "start_time": "2024-11-23T12:04:43.606Z"
      },
      {
        "duration": 28,
        "start_time": "2024-11-23T12:11:45.265Z"
      },
      {
        "duration": 22,
        "start_time": "2024-11-23T12:11:55.092Z"
      },
      {
        "duration": 134,
        "start_time": "2024-11-23T12:17:49.794Z"
      },
      {
        "duration": 0,
        "start_time": "2024-11-23T12:17:49.930Z"
      },
      {
        "duration": 52,
        "start_time": "2024-11-23T12:18:01.711Z"
      },
      {
        "duration": 70,
        "start_time": "2024-11-23T12:21:52.386Z"
      },
      {
        "duration": 254,
        "start_time": "2024-11-23T12:45:48.179Z"
      },
      {
        "duration": 16,
        "start_time": "2024-11-23T12:52:00.865Z"
      },
      {
        "duration": 90,
        "start_time": "2024-11-23T12:55:42.659Z"
      },
      {
        "duration": 9,
        "start_time": "2024-11-23T12:56:36.936Z"
      },
      {
        "duration": 74,
        "start_time": "2024-11-23T12:57:46.068Z"
      },
      {
        "duration": 21,
        "start_time": "2024-11-23T12:57:46.360Z"
      },
      {
        "duration": 26,
        "start_time": "2024-11-23T12:57:46.880Z"
      },
      {
        "duration": 7,
        "start_time": "2024-11-23T12:57:47.732Z"
      },
      {
        "duration": 10,
        "start_time": "2024-11-23T12:57:48.125Z"
      },
      {
        "duration": 4,
        "start_time": "2024-11-23T12:57:48.535Z"
      },
      {
        "duration": 45,
        "start_time": "2024-11-23T12:57:49.586Z"
      },
      {
        "duration": 29,
        "start_time": "2024-11-23T12:57:51.011Z"
      },
      {
        "duration": 5,
        "start_time": "2024-11-23T12:57:51.043Z"
      },
      {
        "duration": 6,
        "start_time": "2024-11-23T12:57:51.745Z"
      },
      {
        "duration": 6,
        "start_time": "2024-11-23T12:57:51.775Z"
      },
      {
        "duration": 11,
        "start_time": "2024-11-23T12:57:52.860Z"
      },
      {
        "duration": 14,
        "start_time": "2024-11-23T12:57:53.756Z"
      },
      {
        "duration": 26,
        "start_time": "2024-11-23T12:57:54.623Z"
      },
      {
        "duration": 11,
        "start_time": "2024-11-23T12:57:55.847Z"
      },
      {
        "duration": 11,
        "start_time": "2024-11-23T12:57:57.468Z"
      },
      {
        "duration": 302,
        "start_time": "2024-11-23T12:58:11.411Z"
      },
      {
        "duration": 323,
        "start_time": "2024-11-23T12:58:11.795Z"
      },
      {
        "duration": 12,
        "start_time": "2024-11-23T12:58:12.460Z"
      },
      {
        "duration": 19,
        "start_time": "2024-11-23T12:58:12.489Z"
      },
      {
        "duration": 5,
        "start_time": "2024-11-23T12:58:13.262Z"
      },
      {
        "duration": 23,
        "start_time": "2024-11-23T12:58:13.769Z"
      },
      {
        "duration": 6,
        "start_time": "2024-11-23T12:58:14.231Z"
      },
      {
        "duration": 19,
        "start_time": "2024-11-23T12:58:14.762Z"
      },
      {
        "duration": 12,
        "start_time": "2024-11-23T12:58:15.220Z"
      },
      {
        "duration": 20,
        "start_time": "2024-11-23T12:58:15.767Z"
      },
      {
        "duration": 59,
        "start_time": "2024-11-23T12:58:16.893Z"
      },
      {
        "duration": 23,
        "start_time": "2024-11-23T12:58:19.016Z"
      },
      {
        "duration": 20,
        "start_time": "2024-11-23T12:58:19.944Z"
      },
      {
        "duration": 20,
        "start_time": "2024-11-23T12:58:20.988Z"
      },
      {
        "duration": 31,
        "start_time": "2024-11-23T12:58:23.052Z"
      },
      {
        "duration": 8,
        "start_time": "2024-11-23T12:58:26.537Z"
      },
      {
        "duration": 15,
        "start_time": "2024-11-23T12:59:17.250Z"
      },
      {
        "duration": 11,
        "start_time": "2024-11-23T13:00:48.335Z"
      },
      {
        "duration": 12,
        "start_time": "2024-11-23T13:01:16.370Z"
      },
      {
        "duration": 14,
        "start_time": "2024-11-23T13:01:43.487Z"
      },
      {
        "duration": 13,
        "start_time": "2024-11-23T13:02:05.176Z"
      },
      {
        "duration": 5,
        "start_time": "2024-11-23T13:03:06.158Z"
      },
      {
        "duration": 66,
        "start_time": "2024-11-23T13:03:12.710Z"
      },
      {
        "duration": 66,
        "start_time": "2024-11-23T13:03:17.235Z"
      },
      {
        "duration": 10,
        "start_time": "2024-11-23T13:03:26.568Z"
      },
      {
        "duration": 15,
        "start_time": "2024-11-23T13:04:01.727Z"
      },
      {
        "duration": 20,
        "start_time": "2024-11-23T13:04:58.521Z"
      },
      {
        "duration": 23,
        "start_time": "2024-11-23T13:05:34.924Z"
      },
      {
        "duration": 16,
        "start_time": "2024-11-23T13:05:46.618Z"
      },
      {
        "duration": 14,
        "start_time": "2024-11-23T13:06:07.133Z"
      },
      {
        "duration": 15,
        "start_time": "2024-11-23T13:06:14.414Z"
      },
      {
        "duration": 9,
        "start_time": "2024-11-23T13:06:29.050Z"
      },
      {
        "duration": 4375,
        "start_time": "2024-11-23T13:07:13.055Z"
      },
      {
        "duration": 4225,
        "start_time": "2024-11-23T13:07:46.532Z"
      },
      {
        "duration": 4157,
        "start_time": "2024-11-23T13:08:06.610Z"
      },
      {
        "duration": 5,
        "start_time": "2024-11-23T13:08:55.100Z"
      },
      {
        "duration": 16,
        "start_time": "2024-11-23T13:09:01.413Z"
      },
      {
        "duration": 69,
        "start_time": "2024-11-23T13:09:42.431Z"
      },
      {
        "duration": 1176,
        "start_time": "2024-11-23T13:09:55.658Z"
      },
      {
        "duration": 1570,
        "start_time": "2024-11-23T13:10:01.208Z"
      },
      {
        "duration": 1021,
        "start_time": "2024-11-23T13:10:06.969Z"
      },
      {
        "duration": 17,
        "start_time": "2024-11-23T13:10:22.646Z"
      },
      {
        "duration": 14,
        "start_time": "2024-11-23T13:12:19.662Z"
      },
      {
        "duration": 10,
        "start_time": "2024-11-23T13:14:07.496Z"
      },
      {
        "duration": 10,
        "start_time": "2024-11-23T13:14:20.121Z"
      },
      {
        "duration": 12,
        "start_time": "2024-11-23T13:14:29.910Z"
      },
      {
        "duration": 10,
        "start_time": "2024-11-23T13:14:33.816Z"
      },
      {
        "duration": 62,
        "start_time": "2024-11-23T13:14:48.508Z"
      },
      {
        "duration": 11,
        "start_time": "2024-11-23T13:15:16.308Z"
      },
      {
        "duration": 74,
        "start_time": "2024-11-23T13:15:20.646Z"
      },
      {
        "duration": 6,
        "start_time": "2024-11-23T13:15:23.425Z"
      },
      {
        "duration": 11,
        "start_time": "2024-11-23T13:19:17.517Z"
      },
      {
        "duration": 16,
        "start_time": "2024-11-23T13:19:38.496Z"
      },
      {
        "duration": 7,
        "start_time": "2024-11-23T13:20:45.960Z"
      },
      {
        "duration": 9,
        "start_time": "2024-11-23T13:20:49.245Z"
      },
      {
        "duration": 11,
        "start_time": "2024-11-23T13:22:27.828Z"
      },
      {
        "duration": 11,
        "start_time": "2024-11-23T13:25:20.606Z"
      },
      {
        "duration": 9,
        "start_time": "2024-11-23T13:25:28.602Z"
      },
      {
        "duration": 10,
        "start_time": "2024-11-23T13:25:33.311Z"
      },
      {
        "duration": 9,
        "start_time": "2024-11-23T13:26:06.493Z"
      },
      {
        "duration": 15,
        "start_time": "2024-11-23T13:26:06.532Z"
      },
      {
        "duration": 12,
        "start_time": "2024-11-23T13:26:09.478Z"
      },
      {
        "duration": 54,
        "start_time": "2024-11-23T13:27:56.067Z"
      },
      {
        "duration": 18,
        "start_time": "2024-11-23T13:27:56.254Z"
      },
      {
        "duration": 16,
        "start_time": "2024-11-23T13:27:56.689Z"
      },
      {
        "duration": 5,
        "start_time": "2024-11-23T13:27:57.365Z"
      },
      {
        "duration": 6,
        "start_time": "2024-11-23T13:27:57.583Z"
      },
      {
        "duration": 4,
        "start_time": "2024-11-23T13:27:57.832Z"
      },
      {
        "duration": 25,
        "start_time": "2024-11-23T13:27:58.522Z"
      },
      {
        "duration": 31,
        "start_time": "2024-11-23T13:27:58.783Z"
      },
      {
        "duration": 4,
        "start_time": "2024-11-23T13:27:59.024Z"
      },
      {
        "duration": 5,
        "start_time": "2024-11-23T13:27:59.270Z"
      },
      {
        "duration": 5,
        "start_time": "2024-11-23T13:27:59.497Z"
      },
      {
        "duration": 10,
        "start_time": "2024-11-23T13:28:00.117Z"
      },
      {
        "duration": 12,
        "start_time": "2024-11-23T13:28:00.342Z"
      },
      {
        "duration": 18,
        "start_time": "2024-11-23T13:28:00.824Z"
      },
      {
        "duration": 9,
        "start_time": "2024-11-23T13:28:01.055Z"
      },
      {
        "duration": 10,
        "start_time": "2024-11-23T13:28:01.300Z"
      },
      {
        "duration": 338,
        "start_time": "2024-11-23T13:28:01.565Z"
      },
      {
        "duration": 276,
        "start_time": "2024-11-23T13:28:01.905Z"
      },
      {
        "duration": 10,
        "start_time": "2024-11-23T13:28:02.421Z"
      },
      {
        "duration": 16,
        "start_time": "2024-11-23T13:28:02.767Z"
      },
      {
        "duration": 6,
        "start_time": "2024-11-23T13:28:04.085Z"
      },
      {
        "duration": 16,
        "start_time": "2024-11-23T13:28:05.946Z"
      },
      {
        "duration": 4,
        "start_time": "2024-11-23T13:28:06.372Z"
      },
      {
        "duration": 17,
        "start_time": "2024-11-23T13:28:06.469Z"
      },
      {
        "duration": 5,
        "start_time": "2024-11-23T13:28:06.885Z"
      },
      {
        "duration": 18,
        "start_time": "2024-11-23T13:28:07.356Z"
      },
      {
        "duration": 47,
        "start_time": "2024-11-23T13:28:08.497Z"
      },
      {
        "duration": 21,
        "start_time": "2024-11-23T13:28:11.750Z"
      },
      {
        "duration": 31,
        "start_time": "2024-11-23T13:28:12.851Z"
      },
      {
        "duration": 21,
        "start_time": "2024-11-23T13:28:14.114Z"
      },
      {
        "duration": 24,
        "start_time": "2024-11-23T13:28:14.871Z"
      },
      {
        "duration": 10,
        "start_time": "2024-11-23T13:28:18.135Z"
      },
      {
        "duration": 11,
        "start_time": "2024-11-23T13:28:19.247Z"
      },
      {
        "duration": 9,
        "start_time": "2024-11-23T13:32:04.515Z"
      },
      {
        "duration": 11,
        "start_time": "2024-11-23T13:32:07.168Z"
      },
      {
        "duration": 9,
        "start_time": "2024-11-23T13:32:10.623Z"
      },
      {
        "duration": 11,
        "start_time": "2024-11-23T13:32:11.797Z"
      },
      {
        "duration": 50,
        "start_time": "2024-11-23T13:32:29.586Z"
      },
      {
        "duration": 13,
        "start_time": "2024-11-23T13:32:29.788Z"
      },
      {
        "duration": 16,
        "start_time": "2024-11-23T13:32:30.224Z"
      },
      {
        "duration": 4,
        "start_time": "2024-11-23T13:32:30.824Z"
      },
      {
        "duration": 6,
        "start_time": "2024-11-23T13:32:31.026Z"
      },
      {
        "duration": 3,
        "start_time": "2024-11-23T13:32:31.223Z"
      },
      {
        "duration": 26,
        "start_time": "2024-11-23T13:32:31.866Z"
      },
      {
        "duration": 20,
        "start_time": "2024-11-23T13:32:32.091Z"
      },
      {
        "duration": 5,
        "start_time": "2024-11-23T13:32:32.308Z"
      },
      {
        "duration": 5,
        "start_time": "2024-11-23T13:32:32.532Z"
      },
      {
        "duration": 6,
        "start_time": "2024-11-23T13:32:32.733Z"
      },
      {
        "duration": 10,
        "start_time": "2024-11-23T13:32:33.403Z"
      },
      {
        "duration": 11,
        "start_time": "2024-11-23T13:32:33.606Z"
      },
      {
        "duration": 18,
        "start_time": "2024-11-23T13:32:34.108Z"
      },
      {
        "duration": 9,
        "start_time": "2024-11-23T13:32:34.303Z"
      },
      {
        "duration": 12,
        "start_time": "2024-11-23T13:32:34.506Z"
      },
      {
        "duration": 257,
        "start_time": "2024-11-23T13:32:34.709Z"
      },
      {
        "duration": 311,
        "start_time": "2024-11-23T13:32:34.968Z"
      },
      {
        "duration": 11,
        "start_time": "2024-11-23T13:32:35.362Z"
      },
      {
        "duration": 22,
        "start_time": "2024-11-23T13:32:35.567Z"
      },
      {
        "duration": 5,
        "start_time": "2024-11-23T13:32:35.765Z"
      },
      {
        "duration": 17,
        "start_time": "2024-11-23T13:32:35.976Z"
      },
      {
        "duration": 5,
        "start_time": "2024-11-23T13:32:36.186Z"
      },
      {
        "duration": 16,
        "start_time": "2024-11-23T13:32:36.389Z"
      },
      {
        "duration": 5,
        "start_time": "2024-11-23T13:32:36.591Z"
      },
      {
        "duration": 17,
        "start_time": "2024-11-23T13:32:36.801Z"
      },
      {
        "duration": 51,
        "start_time": "2024-11-23T13:32:37.257Z"
      },
      {
        "duration": 16,
        "start_time": "2024-11-23T13:32:37.985Z"
      },
      {
        "duration": 25,
        "start_time": "2024-11-23T13:32:39.160Z"
      },
      {
        "duration": 20,
        "start_time": "2024-11-23T13:32:39.186Z"
      },
      {
        "duration": 23,
        "start_time": "2024-11-23T13:32:39.380Z"
      },
      {
        "duration": 13,
        "start_time": "2024-11-23T13:32:39.655Z"
      },
      {
        "duration": 12,
        "start_time": "2024-11-23T13:32:39.921Z"
      },
      {
        "duration": 12,
        "start_time": "2024-11-23T13:32:46.844Z"
      },
      {
        "duration": 11,
        "start_time": "2024-11-23T13:32:47.443Z"
      },
      {
        "duration": 11,
        "start_time": "2024-11-23T13:33:32.587Z"
      },
      {
        "duration": 15,
        "start_time": "2024-11-23T13:33:33.235Z"
      },
      {
        "duration": 15,
        "start_time": "2024-11-23T13:34:57.384Z"
      },
      {
        "duration": 74,
        "start_time": "2024-11-23T13:35:15.435Z"
      },
      {
        "duration": 62,
        "start_time": "2024-11-23T13:35:31.236Z"
      },
      {
        "duration": 13,
        "start_time": "2024-11-23T13:36:07.178Z"
      },
      {
        "duration": 11,
        "start_time": "2024-11-23T13:36:09.770Z"
      },
      {
        "duration": 65,
        "start_time": "2024-11-23T13:36:17.192Z"
      },
      {
        "duration": 9,
        "start_time": "2024-11-23T13:36:26.349Z"
      },
      {
        "duration": 12,
        "start_time": "2024-11-23T13:36:27.526Z"
      },
      {
        "duration": 61,
        "start_time": "2024-11-23T13:38:52.048Z"
      },
      {
        "duration": 108,
        "start_time": "2024-11-23T13:40:16.112Z"
      },
      {
        "duration": 9,
        "start_time": "2024-11-23T13:40:22.563Z"
      },
      {
        "duration": 11,
        "start_time": "2024-11-23T13:40:22.577Z"
      },
      {
        "duration": 9,
        "start_time": "2024-11-23T13:41:21.154Z"
      },
      {
        "duration": 17,
        "start_time": "2024-11-23T13:41:21.212Z"
      },
      {
        "duration": 57,
        "start_time": "2024-11-23T13:41:34.376Z"
      },
      {
        "duration": 26,
        "start_time": "2024-11-23T13:41:34.610Z"
      },
      {
        "duration": 16,
        "start_time": "2024-11-23T13:41:35.082Z"
      },
      {
        "duration": 4,
        "start_time": "2024-11-23T13:41:35.853Z"
      },
      {
        "duration": 8,
        "start_time": "2024-11-23T13:41:36.121Z"
      },
      {
        "duration": 4,
        "start_time": "2024-11-23T13:41:36.378Z"
      },
      {
        "duration": 27,
        "start_time": "2024-11-23T13:41:37.370Z"
      },
      {
        "duration": 21,
        "start_time": "2024-11-23T13:41:37.677Z"
      },
      {
        "duration": 5,
        "start_time": "2024-11-23T13:41:37.968Z"
      },
      {
        "duration": 6,
        "start_time": "2024-11-23T13:41:38.246Z"
      },
      {
        "duration": 6,
        "start_time": "2024-11-23T13:41:38.560Z"
      },
      {
        "duration": 10,
        "start_time": "2024-11-23T13:41:40.002Z"
      },
      {
        "duration": 11,
        "start_time": "2024-11-23T13:41:41.179Z"
      },
      {
        "duration": 19,
        "start_time": "2024-11-23T13:41:42.896Z"
      },
      {
        "duration": 9,
        "start_time": "2024-11-23T13:41:43.459Z"
      },
      {
        "duration": 13,
        "start_time": "2024-11-23T13:41:44.060Z"
      },
      {
        "duration": 296,
        "start_time": "2024-11-23T13:41:44.741Z"
      },
      {
        "duration": 302,
        "start_time": "2024-11-23T13:41:45.627Z"
      },
      {
        "duration": 18,
        "start_time": "2024-11-23T13:41:47.247Z"
      },
      {
        "duration": 26,
        "start_time": "2024-11-23T13:41:47.479Z"
      },
      {
        "duration": 5,
        "start_time": "2024-11-23T13:41:47.673Z"
      },
      {
        "duration": 24,
        "start_time": "2024-11-23T13:41:47.899Z"
      },
      {
        "duration": 4,
        "start_time": "2024-11-23T13:41:48.147Z"
      },
      {
        "duration": 18,
        "start_time": "2024-11-23T13:41:48.409Z"
      },
      {
        "duration": 5,
        "start_time": "2024-11-23T13:41:48.634Z"
      },
      {
        "duration": 17,
        "start_time": "2024-11-23T13:41:48.972Z"
      },
      {
        "duration": 47,
        "start_time": "2024-11-23T13:41:49.865Z"
      },
      {
        "duration": 15,
        "start_time": "2024-11-23T13:41:51.447Z"
      },
      {
        "duration": 22,
        "start_time": "2024-11-23T13:41:51.944Z"
      },
      {
        "duration": 21,
        "start_time": "2024-11-23T13:41:51.968Z"
      },
      {
        "duration": 21,
        "start_time": "2024-11-23T13:41:52.496Z"
      },
      {
        "duration": 11,
        "start_time": "2024-11-23T13:41:53.218Z"
      },
      {
        "duration": 11,
        "start_time": "2024-11-23T13:41:53.546Z"
      },
      {
        "duration": 15,
        "start_time": "2024-11-23T13:42:09.912Z"
      },
      {
        "duration": 9,
        "start_time": "2024-11-23T13:42:15.747Z"
      },
      {
        "duration": 9,
        "start_time": "2024-11-23T13:42:47.344Z"
      },
      {
        "duration": 10,
        "start_time": "2024-11-23T13:42:48.109Z"
      },
      {
        "duration": 10,
        "start_time": "2024-11-23T13:44:16.578Z"
      },
      {
        "duration": 15,
        "start_time": "2024-11-23T13:44:18.906Z"
      },
      {
        "duration": 9,
        "start_time": "2024-11-23T13:45:40.710Z"
      },
      {
        "duration": 35,
        "start_time": "2024-11-23T13:45:56.514Z"
      },
      {
        "duration": 23,
        "start_time": "2024-11-23T13:45:57.063Z"
      },
      {
        "duration": 8,
        "start_time": "2024-11-23T13:45:57.681Z"
      },
      {
        "duration": 7,
        "start_time": "2024-11-23T13:46:17.409Z"
      },
      {
        "duration": 9,
        "start_time": "2024-11-23T13:46:40.744Z"
      },
      {
        "duration": 12,
        "start_time": "2024-11-23T13:46:56.907Z"
      },
      {
        "duration": 9,
        "start_time": "2024-11-23T13:47:09.269Z"
      },
      {
        "duration": 11,
        "start_time": "2024-11-23T13:47:12.529Z"
      },
      {
        "duration": 11,
        "start_time": "2024-11-23T13:47:35.736Z"
      },
      {
        "duration": 19,
        "start_time": "2024-11-23T13:48:56.465Z"
      },
      {
        "duration": 13,
        "start_time": "2024-11-23T13:49:37.569Z"
      },
      {
        "duration": 10,
        "start_time": "2024-11-23T13:51:08.512Z"
      },
      {
        "duration": 13,
        "start_time": "2024-11-23T13:51:09.541Z"
      },
      {
        "duration": 822,
        "start_time": "2024-11-23T13:53:26.536Z"
      },
      {
        "duration": 52,
        "start_time": "2024-11-23T13:54:00.428Z"
      },
      {
        "duration": 14,
        "start_time": "2024-11-23T13:54:00.482Z"
      },
      {
        "duration": 16,
        "start_time": "2024-11-23T13:54:01.058Z"
      },
      {
        "duration": 4,
        "start_time": "2024-11-23T13:54:02.411Z"
      },
      {
        "duration": 7,
        "start_time": "2024-11-23T13:54:02.852Z"
      },
      {
        "duration": 4,
        "start_time": "2024-11-23T13:54:03.287Z"
      },
      {
        "duration": 25,
        "start_time": "2024-11-23T13:54:04.284Z"
      },
      {
        "duration": 21,
        "start_time": "2024-11-23T13:54:05.071Z"
      },
      {
        "duration": 5,
        "start_time": "2024-11-23T13:54:05.633Z"
      },
      {
        "duration": 4,
        "start_time": "2024-11-23T13:54:06.121Z"
      },
      {
        "duration": 5,
        "start_time": "2024-11-23T13:54:06.549Z"
      },
      {
        "duration": 9,
        "start_time": "2024-11-23T13:54:08.485Z"
      },
      {
        "duration": 11,
        "start_time": "2024-11-23T13:54:09.017Z"
      },
      {
        "duration": 20,
        "start_time": "2024-11-23T13:54:10.884Z"
      },
      {
        "duration": 10,
        "start_time": "2024-11-23T13:54:12.008Z"
      },
      {
        "duration": 11,
        "start_time": "2024-11-23T13:54:13.329Z"
      },
      {
        "duration": 890,
        "start_time": "2024-11-23T13:54:14.886Z"
      },
      {
        "duration": 0,
        "start_time": "2024-11-23T13:54:15.778Z"
      },
      {
        "duration": 11,
        "start_time": "2024-11-23T13:55:17.341Z"
      },
      {
        "duration": 306,
        "start_time": "2024-11-23T13:55:19.134Z"
      },
      {
        "duration": 258,
        "start_time": "2024-11-23T13:55:19.697Z"
      },
      {
        "duration": 11,
        "start_time": "2024-11-23T13:55:20.836Z"
      },
      {
        "duration": 17,
        "start_time": "2024-11-23T13:55:21.233Z"
      },
      {
        "duration": 5,
        "start_time": "2024-11-23T13:55:21.744Z"
      },
      {
        "duration": 23,
        "start_time": "2024-11-23T13:55:22.224Z"
      },
      {
        "duration": 5,
        "start_time": "2024-11-23T13:55:22.651Z"
      },
      {
        "duration": 18,
        "start_time": "2024-11-23T13:55:23.177Z"
      },
      {
        "duration": 5,
        "start_time": "2024-11-23T13:55:23.852Z"
      },
      {
        "duration": 18,
        "start_time": "2024-11-23T13:55:24.624Z"
      },
      {
        "duration": 48,
        "start_time": "2024-11-23T13:55:25.862Z"
      },
      {
        "duration": 16,
        "start_time": "2024-11-23T13:55:28.216Z"
      },
      {
        "duration": 21,
        "start_time": "2024-11-23T13:55:28.246Z"
      },
      {
        "duration": 20,
        "start_time": "2024-11-23T13:55:29.315Z"
      },
      {
        "duration": 22,
        "start_time": "2024-11-23T13:55:30.416Z"
      },
      {
        "duration": 10,
        "start_time": "2024-11-23T13:55:37.899Z"
      },
      {
        "duration": 13,
        "start_time": "2024-11-23T13:58:14.350Z"
      },
      {
        "duration": 13,
        "start_time": "2024-11-23T13:59:13.701Z"
      },
      {
        "duration": 10,
        "start_time": "2024-11-23T13:59:42.641Z"
      },
      {
        "duration": 11,
        "start_time": "2024-11-23T13:59:46.422Z"
      },
      {
        "duration": 10,
        "start_time": "2024-11-23T14:00:14.290Z"
      },
      {
        "duration": 14,
        "start_time": "2024-11-23T14:00:15.597Z"
      },
      {
        "duration": 66,
        "start_time": "2024-11-23T14:03:18.464Z"
      },
      {
        "duration": 25,
        "start_time": "2024-11-23T14:05:52.638Z"
      },
      {
        "duration": 37,
        "start_time": "2024-11-23T14:06:47.708Z"
      },
      {
        "duration": 908,
        "start_time": "2024-11-23T14:11:53.038Z"
      },
      {
        "duration": 16,
        "start_time": "2024-11-23T14:13:44.272Z"
      },
      {
        "duration": 19,
        "start_time": "2024-11-23T14:13:52.506Z"
      },
      {
        "duration": 20,
        "start_time": "2024-11-23T14:14:48.326Z"
      },
      {
        "duration": 25,
        "start_time": "2024-11-23T14:15:34.134Z"
      },
      {
        "duration": 10,
        "start_time": "2024-11-23T14:17:15.202Z"
      },
      {
        "duration": 10,
        "start_time": "2024-11-23T14:18:10.669Z"
      },
      {
        "duration": 9,
        "start_time": "2024-11-23T14:18:24.017Z"
      },
      {
        "duration": 13,
        "start_time": "2024-11-23T14:20:08.556Z"
      },
      {
        "duration": 10,
        "start_time": "2024-11-23T14:21:53.225Z"
      },
      {
        "duration": 11,
        "start_time": "2024-11-23T14:22:10.859Z"
      },
      {
        "duration": 8,
        "start_time": "2024-11-23T14:22:49.189Z"
      },
      {
        "duration": 11,
        "start_time": "2024-11-23T14:23:04.133Z"
      },
      {
        "duration": 11,
        "start_time": "2024-11-23T14:23:31.861Z"
      },
      {
        "duration": 7,
        "start_time": "2024-11-23T14:24:08.953Z"
      },
      {
        "duration": 9,
        "start_time": "2024-11-23T14:26:08.688Z"
      },
      {
        "duration": 9,
        "start_time": "2024-11-23T14:27:33.629Z"
      },
      {
        "duration": 8,
        "start_time": "2024-11-23T14:27:46.600Z"
      },
      {
        "duration": 8,
        "start_time": "2024-11-23T14:28:19.306Z"
      },
      {
        "duration": 10,
        "start_time": "2024-11-23T14:29:07.257Z"
      },
      {
        "duration": 10,
        "start_time": "2024-11-23T14:29:25.369Z"
      },
      {
        "duration": 9,
        "start_time": "2024-11-23T14:30:45.425Z"
      },
      {
        "duration": 54,
        "start_time": "2024-11-23T14:35:42.717Z"
      },
      {
        "duration": 14,
        "start_time": "2024-11-23T14:35:43.190Z"
      },
      {
        "duration": 16,
        "start_time": "2024-11-23T14:35:44.876Z"
      },
      {
        "duration": 4,
        "start_time": "2024-11-23T14:35:47.246Z"
      },
      {
        "duration": 4,
        "start_time": "2024-11-23T14:35:47.319Z"
      },
      {
        "duration": 4,
        "start_time": "2024-11-23T14:35:48.027Z"
      },
      {
        "duration": 25,
        "start_time": "2024-11-23T14:35:50.083Z"
      },
      {
        "duration": 20,
        "start_time": "2024-11-23T14:35:52.309Z"
      },
      {
        "duration": 5,
        "start_time": "2024-11-23T14:35:53.074Z"
      },
      {
        "duration": 5,
        "start_time": "2024-11-23T14:35:53.809Z"
      },
      {
        "duration": 6,
        "start_time": "2024-11-23T14:35:54.544Z"
      },
      {
        "duration": 11,
        "start_time": "2024-11-23T14:35:57.402Z"
      },
      {
        "duration": 12,
        "start_time": "2024-11-23T14:35:58.145Z"
      },
      {
        "duration": 23,
        "start_time": "2024-11-23T14:35:59.609Z"
      },
      {
        "duration": 10,
        "start_time": "2024-11-23T14:36:00.305Z"
      },
      {
        "duration": 12,
        "start_time": "2024-11-23T14:36:01.114Z"
      },
      {
        "duration": 12,
        "start_time": "2024-11-23T14:36:01.826Z"
      },
      {
        "duration": 310,
        "start_time": "2024-11-23T14:36:02.681Z"
      },
      {
        "duration": 270,
        "start_time": "2024-11-23T14:36:03.461Z"
      },
      {
        "duration": 11,
        "start_time": "2024-11-23T14:36:04.935Z"
      },
      {
        "duration": 26,
        "start_time": "2024-11-23T14:36:05.668Z"
      },
      {
        "duration": 4,
        "start_time": "2024-11-23T14:36:06.478Z"
      },
      {
        "duration": 17,
        "start_time": "2024-11-23T14:36:08.643Z"
      },
      {
        "duration": 5,
        "start_time": "2024-11-23T14:36:12.245Z"
      },
      {
        "duration": 18,
        "start_time": "2024-11-23T14:36:12.926Z"
      },
      {
        "duration": 4,
        "start_time": "2024-11-23T14:36:13.625Z"
      },
      {
        "duration": 18,
        "start_time": "2024-11-23T14:36:27.349Z"
      },
      {
        "duration": 5,
        "start_time": "2024-11-23T14:39:29.561Z"
      },
      {
        "duration": 52,
        "start_time": "2024-11-23T14:39:57.159Z"
      },
      {
        "duration": 15,
        "start_time": "2024-11-23T14:39:58.565Z"
      },
      {
        "duration": 20,
        "start_time": "2024-11-23T14:39:59.315Z"
      },
      {
        "duration": 23,
        "start_time": "2024-11-23T14:39:59.801Z"
      },
      {
        "duration": 27,
        "start_time": "2024-11-23T14:40:00.069Z"
      },
      {
        "duration": 13,
        "start_time": "2024-11-23T14:40:00.677Z"
      },
      {
        "duration": 17,
        "start_time": "2024-11-23T14:40:00.882Z"
      },
      {
        "duration": 13,
        "start_time": "2024-11-23T14:40:03.070Z"
      },
      {
        "duration": 13,
        "start_time": "2024-11-23T14:40:03.511Z"
      },
      {
        "duration": 14,
        "start_time": "2024-11-23T14:40:04.853Z"
      },
      {
        "duration": 13,
        "start_time": "2024-11-23T14:40:29.427Z"
      },
      {
        "duration": 13,
        "start_time": "2024-11-23T14:42:10.548Z"
      },
      {
        "duration": 15,
        "start_time": "2024-11-23T14:43:05.610Z"
      },
      {
        "duration": 13,
        "start_time": "2024-11-23T14:43:29.329Z"
      },
      {
        "duration": 14,
        "start_time": "2024-11-23T14:43:44.438Z"
      },
      {
        "duration": 14,
        "start_time": "2024-11-23T14:43:51.276Z"
      },
      {
        "duration": 14,
        "start_time": "2024-11-23T14:44:10.032Z"
      },
      {
        "duration": 13,
        "start_time": "2024-11-23T14:45:16.717Z"
      },
      {
        "duration": 16,
        "start_time": "2024-11-23T14:45:48.823Z"
      },
      {
        "duration": 14,
        "start_time": "2024-11-23T14:48:15.173Z"
      },
      {
        "duration": 13,
        "start_time": "2024-11-23T14:48:53.300Z"
      },
      {
        "duration": 11,
        "start_time": "2024-11-23T14:49:03.916Z"
      },
      {
        "duration": 11,
        "start_time": "2024-11-23T14:49:37.596Z"
      },
      {
        "duration": 8,
        "start_time": "2024-11-23T14:49:49.905Z"
      },
      {
        "duration": 12,
        "start_time": "2024-11-23T14:50:11.790Z"
      },
      {
        "duration": 13,
        "start_time": "2024-11-23T14:51:23.533Z"
      },
      {
        "duration": 25,
        "start_time": "2024-11-23T14:52:36.485Z"
      },
      {
        "duration": 20,
        "start_time": "2024-11-23T14:52:51.101Z"
      },
      {
        "duration": 25,
        "start_time": "2024-11-23T14:53:04.803Z"
      },
      {
        "duration": 14,
        "start_time": "2024-11-23T14:55:02.053Z"
      },
      {
        "duration": 14,
        "start_time": "2024-11-23T14:55:39.633Z"
      },
      {
        "duration": 14,
        "start_time": "2024-11-23T14:55:49.570Z"
      },
      {
        "duration": 10,
        "start_time": "2024-11-23T14:56:54.155Z"
      },
      {
        "duration": 11,
        "start_time": "2024-11-23T14:56:54.167Z"
      },
      {
        "duration": 17,
        "start_time": "2024-11-23T14:56:55.630Z"
      },
      {
        "duration": 15,
        "start_time": "2024-11-23T15:01:24.955Z"
      },
      {
        "duration": 18,
        "start_time": "2024-11-23T15:02:20.070Z"
      },
      {
        "duration": 11,
        "start_time": "2024-11-23T15:03:17.566Z"
      },
      {
        "duration": 11,
        "start_time": "2024-11-23T15:04:30.990Z"
      },
      {
        "duration": 8,
        "start_time": "2024-11-23T15:04:38.873Z"
      },
      {
        "duration": 12,
        "start_time": "2024-11-23T15:05:32.743Z"
      },
      {
        "duration": 12,
        "start_time": "2024-11-23T15:07:21.738Z"
      },
      {
        "duration": 22,
        "start_time": "2024-11-23T15:08:05.159Z"
      },
      {
        "duration": 23,
        "start_time": "2024-11-23T15:09:08.503Z"
      },
      {
        "duration": 16,
        "start_time": "2024-11-23T15:09:08.528Z"
      },
      {
        "duration": 33,
        "start_time": "2024-11-23T15:09:26.671Z"
      },
      {
        "duration": 12,
        "start_time": "2024-11-23T15:09:39.333Z"
      },
      {
        "duration": 25,
        "start_time": "2024-11-23T15:11:18.828Z"
      },
      {
        "duration": 10,
        "start_time": "2024-11-23T15:11:19.537Z"
      },
      {
        "duration": 12,
        "start_time": "2024-11-23T15:12:18.292Z"
      },
      {
        "duration": 13,
        "start_time": "2024-11-23T15:12:48.307Z"
      },
      {
        "duration": 590,
        "start_time": "2024-11-23T18:31:55.303Z"
      },
      {
        "duration": 22,
        "start_time": "2024-11-23T18:31:55.895Z"
      },
      {
        "duration": 16,
        "start_time": "2024-11-23T18:31:55.919Z"
      },
      {
        "duration": 8,
        "start_time": "2024-11-23T18:31:55.937Z"
      },
      {
        "duration": 6,
        "start_time": "2024-11-23T18:31:55.946Z"
      },
      {
        "duration": 10,
        "start_time": "2024-11-23T18:31:55.954Z"
      },
      {
        "duration": 46,
        "start_time": "2024-11-23T18:31:55.966Z"
      },
      {
        "duration": 50,
        "start_time": "2024-11-23T18:31:56.013Z"
      },
      {
        "duration": 8,
        "start_time": "2024-11-23T18:31:56.064Z"
      },
      {
        "duration": 5,
        "start_time": "2024-11-23T18:31:56.076Z"
      },
      {
        "duration": 11,
        "start_time": "2024-11-23T18:31:56.083Z"
      },
      {
        "duration": 11,
        "start_time": "2024-11-23T18:31:56.096Z"
      },
      {
        "duration": 16,
        "start_time": "2024-11-23T18:31:56.109Z"
      },
      {
        "duration": 19,
        "start_time": "2024-11-23T18:31:56.127Z"
      },
      {
        "duration": 9,
        "start_time": "2024-11-23T18:31:56.147Z"
      },
      {
        "duration": 10,
        "start_time": "2024-11-23T18:31:56.157Z"
      },
      {
        "duration": 36,
        "start_time": "2024-11-23T18:31:56.168Z"
      },
      {
        "duration": 326,
        "start_time": "2024-11-23T18:31:56.205Z"
      },
      {
        "duration": 274,
        "start_time": "2024-11-23T18:31:56.533Z"
      },
      {
        "duration": 9,
        "start_time": "2024-11-23T18:31:56.809Z"
      },
      {
        "duration": 16,
        "start_time": "2024-11-23T18:31:56.819Z"
      },
      {
        "duration": 5,
        "start_time": "2024-11-23T18:31:56.837Z"
      },
      {
        "duration": 20,
        "start_time": "2024-11-23T18:31:56.843Z"
      },
      {
        "duration": 34,
        "start_time": "2024-11-23T18:31:56.865Z"
      },
      {
        "duration": 43,
        "start_time": "2024-11-23T18:31:56.900Z"
      },
      {
        "duration": 4,
        "start_time": "2024-11-23T18:31:56.945Z"
      },
      {
        "duration": 22,
        "start_time": "2024-11-23T18:31:56.951Z"
      },
      {
        "duration": 46,
        "start_time": "2024-11-23T18:31:56.977Z"
      },
      {
        "duration": 14,
        "start_time": "2024-11-23T18:31:57.025Z"
      },
      {
        "duration": 64,
        "start_time": "2024-11-23T18:31:57.041Z"
      },
      {
        "duration": 21,
        "start_time": "2024-11-23T18:31:57.106Z"
      },
      {
        "duration": 24,
        "start_time": "2024-11-23T18:31:57.128Z"
      },
      {
        "duration": 13,
        "start_time": "2024-11-23T18:31:57.154Z"
      },
      {
        "duration": 33,
        "start_time": "2024-11-23T18:31:57.169Z"
      },
      {
        "duration": 64,
        "start_time": "2024-11-23T18:31:57.204Z"
      },
      {
        "duration": 37,
        "start_time": "2024-11-23T18:31:57.270Z"
      },
      {
        "duration": 21,
        "start_time": "2024-11-23T18:31:57.309Z"
      },
      {
        "duration": 13,
        "start_time": "2024-11-23T18:42:00.193Z"
      },
      {
        "duration": 10,
        "start_time": "2024-11-23T18:42:12.704Z"
      },
      {
        "duration": 442,
        "start_time": "2024-11-23T18:42:19.942Z"
      },
      {
        "duration": 21,
        "start_time": "2024-11-23T18:42:20.386Z"
      },
      {
        "duration": 17,
        "start_time": "2024-11-23T18:42:20.408Z"
      },
      {
        "duration": 16,
        "start_time": "2024-11-23T18:42:20.426Z"
      },
      {
        "duration": 8,
        "start_time": "2024-11-23T18:42:20.444Z"
      },
      {
        "duration": 9,
        "start_time": "2024-11-23T18:42:20.454Z"
      },
      {
        "duration": 32,
        "start_time": "2024-11-23T18:42:20.464Z"
      },
      {
        "duration": 27,
        "start_time": "2024-11-23T18:42:20.497Z"
      },
      {
        "duration": 11,
        "start_time": "2024-11-23T18:42:20.525Z"
      },
      {
        "duration": 21,
        "start_time": "2024-11-23T18:42:20.537Z"
      },
      {
        "duration": 18,
        "start_time": "2024-11-23T18:42:20.559Z"
      },
      {
        "duration": 19,
        "start_time": "2024-11-23T18:42:20.578Z"
      },
      {
        "duration": 13,
        "start_time": "2024-11-23T18:42:20.598Z"
      },
      {
        "duration": 37,
        "start_time": "2024-11-23T18:42:20.615Z"
      },
      {
        "duration": 10,
        "start_time": "2024-11-23T18:42:20.654Z"
      },
      {
        "duration": 10,
        "start_time": "2024-11-23T18:42:20.666Z"
      },
      {
        "duration": 24,
        "start_time": "2024-11-23T18:42:20.678Z"
      },
      {
        "duration": 333,
        "start_time": "2024-11-23T18:42:20.703Z"
      },
      {
        "duration": 263,
        "start_time": "2024-11-23T18:42:21.037Z"
      },
      {
        "duration": 11,
        "start_time": "2024-11-23T18:42:21.301Z"
      },
      {
        "duration": 36,
        "start_time": "2024-11-23T18:42:21.313Z"
      },
      {
        "duration": 25,
        "start_time": "2024-11-23T18:42:21.351Z"
      },
      {
        "duration": 29,
        "start_time": "2024-11-23T18:42:21.378Z"
      },
      {
        "duration": 21,
        "start_time": "2024-11-23T18:42:21.409Z"
      },
      {
        "duration": 39,
        "start_time": "2024-11-23T18:42:21.431Z"
      },
      {
        "duration": 8,
        "start_time": "2024-11-23T18:42:21.471Z"
      },
      {
        "duration": 27,
        "start_time": "2024-11-23T18:42:21.480Z"
      },
      {
        "duration": 48,
        "start_time": "2024-11-23T18:42:21.508Z"
      },
      {
        "duration": 13,
        "start_time": "2024-11-23T18:42:21.558Z"
      },
      {
        "duration": 39,
        "start_time": "2024-11-23T18:42:21.574Z"
      },
      {
        "duration": 23,
        "start_time": "2024-11-23T18:42:21.614Z"
      },
      {
        "duration": 42,
        "start_time": "2024-11-23T18:42:21.639Z"
      },
      {
        "duration": 35,
        "start_time": "2024-11-23T18:42:21.682Z"
      },
      {
        "duration": 16,
        "start_time": "2024-11-23T18:42:21.719Z"
      },
      {
        "duration": 55,
        "start_time": "2024-11-23T18:42:21.737Z"
      },
      {
        "duration": 22,
        "start_time": "2024-11-23T18:42:21.793Z"
      },
      {
        "duration": 36,
        "start_time": "2024-11-23T18:42:21.816Z"
      },
      {
        "duration": 51,
        "start_time": "2024-11-23T19:21:01.745Z"
      },
      {
        "duration": 51,
        "start_time": "2024-11-23T19:21:10.691Z"
      },
      {
        "duration": 56,
        "start_time": "2024-11-23T19:21:14.072Z"
      },
      {
        "duration": 47,
        "start_time": "2024-11-23T19:22:49.836Z"
      },
      {
        "duration": 54,
        "start_time": "2024-11-23T19:22:57.071Z"
      },
      {
        "duration": 30,
        "start_time": "2024-11-23T19:25:36.140Z"
      },
      {
        "duration": 22,
        "start_time": "2024-11-23T19:25:39.518Z"
      },
      {
        "duration": 24,
        "start_time": "2024-11-23T19:26:38.488Z"
      },
      {
        "duration": 33,
        "start_time": "2024-11-23T19:27:29.478Z"
      },
      {
        "duration": 31,
        "start_time": "2024-11-23T19:29:18.817Z"
      },
      {
        "duration": 27,
        "start_time": "2024-11-23T19:29:50.623Z"
      },
      {
        "duration": 30,
        "start_time": "2024-11-23T19:31:54.015Z"
      },
      {
        "duration": 21,
        "start_time": "2024-11-23T19:32:25.838Z"
      },
      {
        "duration": 34,
        "start_time": "2024-11-23T19:32:57.923Z"
      },
      {
        "duration": 26,
        "start_time": "2024-11-23T19:34:26.625Z"
      },
      {
        "duration": 405,
        "start_time": "2024-11-24T07:02:31.485Z"
      },
      {
        "duration": 190,
        "start_time": "2024-11-24T07:02:32.158Z"
      },
      {
        "duration": 62,
        "start_time": "2024-11-24T07:02:34.573Z"
      },
      {
        "duration": 18,
        "start_time": "2024-11-24T07:02:40.073Z"
      },
      {
        "duration": 70,
        "start_time": "2024-11-24T07:08:40.720Z"
      },
      {
        "duration": 60,
        "start_time": "2024-11-24T07:19:08.725Z"
      },
      {
        "duration": 1126,
        "start_time": "2024-11-24T07:19:16.324Z"
      },
      {
        "duration": 859,
        "start_time": "2024-11-24T07:19:58.258Z"
      },
      {
        "duration": 937,
        "start_time": "2024-11-24T07:20:10.464Z"
      },
      {
        "duration": 2,
        "start_time": "2024-11-24T07:20:36.414Z"
      },
      {
        "duration": 51,
        "start_time": "2024-11-24T07:20:37.030Z"
      },
      {
        "duration": 12,
        "start_time": "2024-11-24T07:20:38.290Z"
      },
      {
        "duration": 14,
        "start_time": "2024-11-24T07:20:41.695Z"
      },
      {
        "duration": 5,
        "start_time": "2024-11-24T07:20:57.092Z"
      },
      {
        "duration": 4,
        "start_time": "2024-11-24T07:20:57.776Z"
      },
      {
        "duration": 3,
        "start_time": "2024-11-24T07:20:59.044Z"
      },
      {
        "duration": 22,
        "start_time": "2024-11-24T07:21:01.353Z"
      },
      {
        "duration": 19,
        "start_time": "2024-11-24T07:21:04.057Z"
      },
      {
        "duration": 3,
        "start_time": "2024-11-24T07:21:46.668Z"
      },
      {
        "duration": 105,
        "start_time": "2024-11-24T07:22:34.875Z"
      },
      {
        "duration": 16,
        "start_time": "2024-11-24T07:24:37.985Z"
      },
      {
        "duration": 36,
        "start_time": "2024-11-24T07:28:23.210Z"
      },
      {
        "duration": 10,
        "start_time": "2024-11-24T07:29:26.830Z"
      },
      {
        "duration": 8,
        "start_time": "2024-11-24T07:31:11.435Z"
      },
      {
        "duration": 7,
        "start_time": "2024-11-24T07:31:17.306Z"
      },
      {
        "duration": 8,
        "start_time": "2024-11-24T07:31:23.368Z"
      },
      {
        "duration": 7,
        "start_time": "2024-11-24T07:31:36.663Z"
      },
      {
        "duration": 10,
        "start_time": "2024-11-24T07:31:51.926Z"
      },
      {
        "duration": 3,
        "start_time": "2024-11-24T07:32:00.753Z"
      },
      {
        "duration": 48,
        "start_time": "2024-11-24T07:32:01.195Z"
      },
      {
        "duration": 12,
        "start_time": "2024-11-24T07:32:01.601Z"
      },
      {
        "duration": 13,
        "start_time": "2024-11-24T07:32:02.061Z"
      },
      {
        "duration": 3,
        "start_time": "2024-11-24T07:32:04.396Z"
      },
      {
        "duration": 4,
        "start_time": "2024-11-24T07:32:04.669Z"
      },
      {
        "duration": 4,
        "start_time": "2024-11-24T07:32:04.970Z"
      },
      {
        "duration": 21,
        "start_time": "2024-11-24T07:32:06.493Z"
      },
      {
        "duration": 17,
        "start_time": "2024-11-24T07:35:32.760Z"
      },
      {
        "duration": 8,
        "start_time": "2024-11-24T07:37:25.906Z"
      },
      {
        "duration": 7,
        "start_time": "2024-11-24T07:37:32.018Z"
      },
      {
        "duration": 2,
        "start_time": "2024-11-24T07:38:24.600Z"
      },
      {
        "duration": 51,
        "start_time": "2024-11-24T07:38:25.334Z"
      },
      {
        "duration": 11,
        "start_time": "2024-11-24T07:38:26.542Z"
      },
      {
        "duration": 13,
        "start_time": "2024-11-24T07:38:31.139Z"
      },
      {
        "duration": 3,
        "start_time": "2024-11-24T07:38:49.239Z"
      },
      {
        "duration": 5,
        "start_time": "2024-11-24T07:38:49.284Z"
      },
      {
        "duration": 4,
        "start_time": "2024-11-24T07:38:53.797Z"
      },
      {
        "duration": 12,
        "start_time": "2024-11-24T07:38:56.799Z"
      },
      {
        "duration": 11,
        "start_time": "2024-11-24T07:40:24.964Z"
      },
      {
        "duration": 17,
        "start_time": "2024-11-24T07:40:26.236Z"
      },
      {
        "duration": 8,
        "start_time": "2024-11-24T07:40:30.293Z"
      },
      {
        "duration": 4,
        "start_time": "2024-11-24T07:40:30.833Z"
      },
      {
        "duration": 8,
        "start_time": "2024-11-24T07:40:31.329Z"
      },
      {
        "duration": 5,
        "start_time": "2024-11-24T07:40:31.801Z"
      },
      {
        "duration": 7,
        "start_time": "2024-11-24T07:40:32.477Z"
      },
      {
        "duration": 8,
        "start_time": "2024-11-24T07:40:32.650Z"
      },
      {
        "duration": 14,
        "start_time": "2024-11-24T07:40:33.872Z"
      },
      {
        "duration": 9,
        "start_time": "2024-11-24T07:40:34.299Z"
      },
      {
        "duration": 11,
        "start_time": "2024-11-24T07:40:35.013Z"
      },
      {
        "duration": 11,
        "start_time": "2024-11-24T07:40:35.246Z"
      },
      {
        "duration": 247,
        "start_time": "2024-11-24T07:40:35.768Z"
      },
      {
        "duration": 240,
        "start_time": "2024-11-24T07:40:36.257Z"
      },
      {
        "duration": 9,
        "start_time": "2024-11-24T07:40:37.452Z"
      },
      {
        "duration": 16,
        "start_time": "2024-11-24T07:40:37.756Z"
      },
      {
        "duration": 7,
        "start_time": "2024-11-24T07:40:38.011Z"
      },
      {
        "duration": 16,
        "start_time": "2024-11-24T07:40:38.327Z"
      },
      {
        "duration": 6,
        "start_time": "2024-11-24T07:40:38.349Z"
      },
      {
        "duration": 19,
        "start_time": "2024-11-24T07:40:38.573Z"
      },
      {
        "duration": 8,
        "start_time": "2024-11-24T07:40:39.114Z"
      },
      {
        "duration": 17,
        "start_time": "2024-11-24T07:40:39.601Z"
      },
      {
        "duration": 7,
        "start_time": "2024-11-24T07:40:40.088Z"
      },
      {
        "duration": 9,
        "start_time": "2024-11-24T07:40:40.846Z"
      },
      {
        "duration": 15,
        "start_time": "2024-11-24T07:40:41.536Z"
      },
      {
        "duration": 15,
        "start_time": "2024-11-24T07:40:42.616Z"
      },
      {
        "duration": 17,
        "start_time": "2024-11-24T07:40:43.479Z"
      },
      {
        "duration": 8,
        "start_time": "2024-11-24T07:40:46.839Z"
      },
      {
        "duration": 12,
        "start_time": "2024-11-24T07:40:47.596Z"
      },
      {
        "duration": 9,
        "start_time": "2024-11-24T07:40:48.189Z"
      },
      {
        "duration": 11,
        "start_time": "2024-11-24T07:40:48.684Z"
      },
      {
        "duration": 10,
        "start_time": "2024-11-24T07:40:50.146Z"
      },
      {
        "duration": 2,
        "start_time": "2024-11-24T07:41:11.558Z"
      },
      {
        "duration": 52,
        "start_time": "2024-11-24T07:41:12.953Z"
      },
      {
        "duration": 11,
        "start_time": "2024-11-24T07:41:14.440Z"
      },
      {
        "duration": 13,
        "start_time": "2024-11-24T07:41:17.517Z"
      },
      {
        "duration": 4,
        "start_time": "2024-11-24T07:41:24.496Z"
      },
      {
        "duration": 5,
        "start_time": "2024-11-24T07:41:26.011Z"
      },
      {
        "duration": 4,
        "start_time": "2024-11-24T07:41:28.194Z"
      },
      {
        "duration": 12,
        "start_time": "2024-11-24T07:41:35.362Z"
      },
      {
        "duration": 6,
        "start_time": "2024-11-24T07:42:25.341Z"
      },
      {
        "duration": 6,
        "start_time": "2024-11-24T07:42:37.297Z"
      },
      {
        "duration": 12,
        "start_time": "2024-11-24T07:42:37.318Z"
      },
      {
        "duration": 5,
        "start_time": "2024-11-24T07:42:56.130Z"
      },
      {
        "duration": 6,
        "start_time": "2024-11-24T07:43:25.379Z"
      },
      {
        "duration": 6,
        "start_time": "2024-11-24T07:43:28.328Z"
      },
      {
        "duration": 6,
        "start_time": "2024-11-24T07:43:33.148Z"
      },
      {
        "duration": 12,
        "start_time": "2024-11-24T07:43:33.178Z"
      },
      {
        "duration": 6,
        "start_time": "2024-11-24T07:43:42.041Z"
      },
      {
        "duration": 6,
        "start_time": "2024-11-24T07:44:16.018Z"
      },
      {
        "duration": 6,
        "start_time": "2024-11-24T07:44:18.603Z"
      },
      {
        "duration": 20,
        "start_time": "2024-11-24T07:44:18.633Z"
      },
      {
        "duration": 7,
        "start_time": "2024-11-24T07:44:33.498Z"
      },
      {
        "duration": 11,
        "start_time": "2024-11-24T07:45:07.556Z"
      },
      {
        "duration": 3,
        "start_time": "2024-11-24T07:45:16.742Z"
      },
      {
        "duration": 11,
        "start_time": "2024-11-24T07:45:17.591Z"
      },
      {
        "duration": 4,
        "start_time": "2024-11-24T07:45:23.696Z"
      },
      {
        "duration": 3,
        "start_time": "2024-11-24T07:45:29.439Z"
      },
      {
        "duration": 11,
        "start_time": "2024-11-24T07:45:31.038Z"
      },
      {
        "duration": 14,
        "start_time": "2024-11-24T07:46:07.439Z"
      },
      {
        "duration": 5,
        "start_time": "2024-11-24T07:46:38.821Z"
      },
      {
        "duration": 7,
        "start_time": "2024-11-24T07:46:46.459Z"
      },
      {
        "duration": 6,
        "start_time": "2024-11-24T07:47:14.368Z"
      },
      {
        "duration": 3,
        "start_time": "2024-11-24T07:48:22.121Z"
      },
      {
        "duration": 50,
        "start_time": "2024-11-24T07:48:23.233Z"
      },
      {
        "duration": 13,
        "start_time": "2024-11-24T07:48:24.695Z"
      },
      {
        "duration": 13,
        "start_time": "2024-11-24T07:48:27.658Z"
      },
      {
        "duration": 3,
        "start_time": "2024-11-24T07:48:30.312Z"
      },
      {
        "duration": 4,
        "start_time": "2024-11-24T07:48:31.092Z"
      },
      {
        "duration": 3,
        "start_time": "2024-11-24T07:48:32.405Z"
      },
      {
        "duration": 6,
        "start_time": "2024-11-24T07:48:38.923Z"
      },
      {
        "duration": 6,
        "start_time": "2024-11-24T07:49:35.826Z"
      },
      {
        "duration": 53,
        "start_time": "2024-11-24T07:52:16.801Z"
      },
      {
        "duration": 54,
        "start_time": "2024-11-24T07:52:24.750Z"
      },
      {
        "duration": 47,
        "start_time": "2024-11-24T07:54:24.010Z"
      },
      {
        "duration": 384,
        "start_time": "2024-11-24T07:54:39.990Z"
      },
      {
        "duration": 53,
        "start_time": "2024-11-24T07:54:41.666Z"
      },
      {
        "duration": 19,
        "start_time": "2024-11-24T07:54:43.076Z"
      },
      {
        "duration": 14,
        "start_time": "2024-11-24T07:54:45.373Z"
      },
      {
        "duration": 4,
        "start_time": "2024-11-24T07:54:48.697Z"
      },
      {
        "duration": 4,
        "start_time": "2024-11-24T07:54:56.165Z"
      },
      {
        "duration": 5,
        "start_time": "2024-11-24T07:54:57.672Z"
      },
      {
        "duration": 4,
        "start_time": "2024-11-24T07:54:59.823Z"
      },
      {
        "duration": 20,
        "start_time": "2024-11-24T07:55:04.790Z"
      },
      {
        "duration": 16,
        "start_time": "2024-11-24T07:55:26.214Z"
      },
      {
        "duration": 4,
        "start_time": "2024-11-24T07:55:41.323Z"
      },
      {
        "duration": 4,
        "start_time": "2024-11-24T07:55:44.375Z"
      },
      {
        "duration": 5,
        "start_time": "2024-11-24T07:55:47.871Z"
      },
      {
        "duration": 9,
        "start_time": "2024-11-24T07:55:53.533Z"
      },
      {
        "duration": 29,
        "start_time": "2024-11-24T07:56:13.198Z"
      },
      {
        "duration": 10,
        "start_time": "2024-11-24T07:57:27.248Z"
      },
      {
        "duration": 10,
        "start_time": "2024-11-24T07:57:47.878Z"
      },
      {
        "duration": 6,
        "start_time": "2024-11-24T07:58:32.416Z"
      },
      {
        "duration": 10,
        "start_time": "2024-11-24T07:58:38.068Z"
      },
      {
        "duration": 4,
        "start_time": "2024-11-24T07:59:02.382Z"
      },
      {
        "duration": 10,
        "start_time": "2024-11-24T07:59:35.698Z"
      },
      {
        "duration": 2,
        "start_time": "2024-11-24T08:00:09.173Z"
      },
      {
        "duration": 49,
        "start_time": "2024-11-24T08:00:10.243Z"
      },
      {
        "duration": 12,
        "start_time": "2024-11-24T08:00:11.905Z"
      },
      {
        "duration": 12,
        "start_time": "2024-11-24T08:00:14.399Z"
      },
      {
        "duration": 4,
        "start_time": "2024-11-24T08:00:18.342Z"
      },
      {
        "duration": 5,
        "start_time": "2024-11-24T08:00:19.154Z"
      },
      {
        "duration": 3,
        "start_time": "2024-11-24T08:00:20.435Z"
      },
      {
        "duration": 20,
        "start_time": "2024-11-24T08:00:23.473Z"
      },
      {
        "duration": 2,
        "start_time": "2024-11-24T08:27:10.892Z"
      },
      {
        "duration": 49,
        "start_time": "2024-11-24T08:27:11.815Z"
      },
      {
        "duration": 12,
        "start_time": "2024-11-24T08:27:12.903Z"
      },
      {
        "duration": 12,
        "start_time": "2024-11-24T08:27:15.887Z"
      },
      {
        "duration": 3,
        "start_time": "2024-11-24T08:27:35.650Z"
      },
      {
        "duration": 4,
        "start_time": "2024-11-24T08:27:36.393Z"
      },
      {
        "duration": 3,
        "start_time": "2024-11-24T08:27:37.564Z"
      },
      {
        "duration": 20,
        "start_time": "2024-11-24T08:27:43.172Z"
      },
      {
        "duration": 16,
        "start_time": "2024-11-24T08:27:48.003Z"
      },
      {
        "duration": 4,
        "start_time": "2024-11-24T08:27:54.235Z"
      },
      {
        "duration": 5,
        "start_time": "2024-11-24T08:27:56.351Z"
      },
      {
        "duration": 8,
        "start_time": "2024-11-24T08:27:59.966Z"
      },
      {
        "duration": 5,
        "start_time": "2024-11-24T08:28:35.943Z"
      },
      {
        "duration": 8,
        "start_time": "2024-11-24T08:28:59.329Z"
      },
      {
        "duration": 9,
        "start_time": "2024-11-24T08:29:00.192Z"
      },
      {
        "duration": 9,
        "start_time": "2024-11-24T08:35:49.208Z"
      },
      {
        "duration": 9,
        "start_time": "2024-11-24T08:37:03.279Z"
      },
      {
        "duration": 62,
        "start_time": "2024-11-24T08:39:16.477Z"
      },
      {
        "duration": 7,
        "start_time": "2024-11-24T08:40:13.443Z"
      },
      {
        "duration": 8,
        "start_time": "2024-11-24T08:40:14.298Z"
      },
      {
        "duration": 3,
        "start_time": "2024-11-24T08:40:26.764Z"
      },
      {
        "duration": 47,
        "start_time": "2024-11-24T08:40:27.454Z"
      },
      {
        "duration": 11,
        "start_time": "2024-11-24T08:40:27.984Z"
      },
      {
        "duration": 12,
        "start_time": "2024-11-24T08:40:29.237Z"
      },
      {
        "duration": 5,
        "start_time": "2024-11-24T08:40:36.715Z"
      },
      {
        "duration": 5,
        "start_time": "2024-11-24T08:40:37.183Z"
      },
      {
        "duration": 3,
        "start_time": "2024-11-24T08:40:38.822Z"
      },
      {
        "duration": 20,
        "start_time": "2024-11-24T08:40:42.009Z"
      },
      {
        "duration": 17,
        "start_time": "2024-11-24T08:40:44.823Z"
      },
      {
        "duration": 4,
        "start_time": "2024-11-24T08:40:52.899Z"
      },
      {
        "duration": 4,
        "start_time": "2024-11-24T08:40:53.778Z"
      },
      {
        "duration": 9,
        "start_time": "2024-11-24T08:40:54.647Z"
      },
      {
        "duration": 5,
        "start_time": "2024-11-24T08:40:58.427Z"
      },
      {
        "duration": 8,
        "start_time": "2024-11-24T08:41:02.567Z"
      },
      {
        "duration": 8,
        "start_time": "2024-11-24T08:41:03.887Z"
      },
      {
        "duration": 8,
        "start_time": "2024-11-24T08:41:27.537Z"
      },
      {
        "duration": 8,
        "start_time": "2024-11-24T08:41:31.241Z"
      },
      {
        "duration": 12,
        "start_time": "2024-11-24T08:42:35.948Z"
      },
      {
        "duration": 384,
        "start_time": "2024-11-24T08:44:13.915Z"
      },
      {
        "duration": 51,
        "start_time": "2024-11-24T08:44:15.558Z"
      },
      {
        "duration": 18,
        "start_time": "2024-11-24T08:44:16.593Z"
      },
      {
        "duration": 13,
        "start_time": "2024-11-24T08:44:17.890Z"
      },
      {
        "duration": 4,
        "start_time": "2024-11-24T08:44:24.459Z"
      },
      {
        "duration": 5,
        "start_time": "2024-11-24T08:44:27.677Z"
      },
      {
        "duration": 4,
        "start_time": "2024-11-24T08:44:31.810Z"
      },
      {
        "duration": 21,
        "start_time": "2024-11-24T08:44:34.157Z"
      },
      {
        "duration": 17,
        "start_time": "2024-11-24T08:44:35.772Z"
      },
      {
        "duration": 4,
        "start_time": "2024-11-24T08:44:37.683Z"
      },
      {
        "duration": 4,
        "start_time": "2024-11-24T08:44:38.500Z"
      },
      {
        "duration": 10,
        "start_time": "2024-11-24T08:44:39.133Z"
      },
      {
        "duration": 5,
        "start_time": "2024-11-24T08:44:44.216Z"
      },
      {
        "duration": 8,
        "start_time": "2024-11-24T08:44:48.349Z"
      },
      {
        "duration": 11,
        "start_time": "2024-11-24T08:44:49.496Z"
      },
      {
        "duration": 10,
        "start_time": "2024-11-24T08:45:01.150Z"
      },
      {
        "duration": 9,
        "start_time": "2024-11-24T08:45:02.215Z"
      },
      {
        "duration": 57,
        "start_time": "2024-11-24T08:50:59.862Z"
      },
      {
        "duration": 7,
        "start_time": "2024-11-24T08:53:14.697Z"
      },
      {
        "duration": 5,
        "start_time": "2024-11-24T08:55:10.044Z"
      },
      {
        "duration": 4,
        "start_time": "2024-11-24T08:58:46.041Z"
      },
      {
        "duration": 1083,
        "start_time": "2024-11-24T09:00:16.406Z"
      },
      {
        "duration": 12,
        "start_time": "2024-11-24T09:00:27.151Z"
      },
      {
        "duration": 4,
        "start_time": "2024-11-24T09:04:04.029Z"
      },
      {
        "duration": 9,
        "start_time": "2024-11-24T09:04:11.525Z"
      },
      {
        "duration": 5,
        "start_time": "2024-11-24T09:04:37.109Z"
      },
      {
        "duration": 10,
        "start_time": "2024-11-24T09:04:40.078Z"
      },
      {
        "duration": 58,
        "start_time": "2024-11-24T09:06:45.099Z"
      },
      {
        "duration": 294,
        "start_time": "2024-11-24T09:07:02.444Z"
      },
      {
        "duration": 257,
        "start_time": "2024-11-24T09:07:15.060Z"
      },
      {
        "duration": 10,
        "start_time": "2024-11-24T09:08:20.622Z"
      },
      {
        "duration": 10,
        "start_time": "2024-11-24T09:10:07.552Z"
      },
      {
        "duration": 59,
        "start_time": "2024-11-24T09:16:28.959Z"
      },
      {
        "duration": 9,
        "start_time": "2024-11-24T09:16:44.810Z"
      },
      {
        "duration": 13,
        "start_time": "2024-11-24T09:16:49.303Z"
      },
      {
        "duration": 4,
        "start_time": "2024-11-24T09:16:50.435Z"
      },
      {
        "duration": 19,
        "start_time": "2024-11-24T09:16:55.090Z"
      },
      {
        "duration": 5,
        "start_time": "2024-11-24T09:16:55.160Z"
      },
      {
        "duration": 14,
        "start_time": "2024-11-24T09:16:58.647Z"
      },
      {
        "duration": 4,
        "start_time": "2024-11-24T09:17:20.997Z"
      },
      {
        "duration": 73,
        "start_time": "2024-11-24T09:22:31.766Z"
      },
      {
        "duration": 54,
        "start_time": "2024-11-24T09:22:36.781Z"
      },
      {
        "duration": 8,
        "start_time": "2024-11-24T09:22:56.188Z"
      },
      {
        "duration": 6,
        "start_time": "2024-11-24T09:24:56.091Z"
      },
      {
        "duration": 7,
        "start_time": "2024-11-24T09:25:38.587Z"
      },
      {
        "duration": 7,
        "start_time": "2024-11-24T09:26:17.386Z"
      },
      {
        "duration": 2,
        "start_time": "2024-11-24T09:26:45.436Z"
      },
      {
        "duration": 50,
        "start_time": "2024-11-24T09:26:45.877Z"
      },
      {
        "duration": 11,
        "start_time": "2024-11-24T09:26:46.268Z"
      },
      {
        "duration": 15,
        "start_time": "2024-11-24T09:26:46.670Z"
      },
      {
        "duration": 4,
        "start_time": "2024-11-24T09:26:48.066Z"
      },
      {
        "duration": 4,
        "start_time": "2024-11-24T09:26:48.321Z"
      },
      {
        "duration": 4,
        "start_time": "2024-11-24T09:26:48.823Z"
      },
      {
        "duration": 34,
        "start_time": "2024-11-24T09:26:49.410Z"
      },
      {
        "duration": 16,
        "start_time": "2024-11-24T09:26:49.756Z"
      },
      {
        "duration": 4,
        "start_time": "2024-11-24T09:26:51.713Z"
      },
      {
        "duration": 4,
        "start_time": "2024-11-24T09:26:52.402Z"
      },
      {
        "duration": 63,
        "start_time": "2024-11-24T09:26:52.434Z"
      },
      {
        "duration": 4,
        "start_time": "2024-11-24T09:26:54.397Z"
      },
      {
        "duration": 8,
        "start_time": "2024-11-24T09:26:55.561Z"
      },
      {
        "duration": 8,
        "start_time": "2024-11-24T09:26:55.898Z"
      },
      {
        "duration": 7,
        "start_time": "2024-11-24T09:26:58.626Z"
      },
      {
        "duration": 11,
        "start_time": "2024-11-24T09:26:59.579Z"
      },
      {
        "duration": 3,
        "start_time": "2024-11-24T09:27:04.244Z"
      },
      {
        "duration": 10,
        "start_time": "2024-11-24T09:27:05.241Z"
      },
      {
        "duration": 4,
        "start_time": "2024-11-24T09:27:14.325Z"
      },
      {
        "duration": 9,
        "start_time": "2024-11-24T09:27:16.522Z"
      },
      {
        "duration": 3,
        "start_time": "2024-11-24T09:27:17.204Z"
      },
      {
        "duration": 9,
        "start_time": "2024-11-24T09:27:17.911Z"
      },
      {
        "duration": 198,
        "start_time": "2024-11-24T09:27:21.478Z"
      },
      {
        "duration": 230,
        "start_time": "2024-11-24T09:27:24.855Z"
      },
      {
        "duration": 11,
        "start_time": "2024-11-24T09:27:27.306Z"
      },
      {
        "duration": 9,
        "start_time": "2024-11-24T09:27:30.750Z"
      },
      {
        "duration": 15,
        "start_time": "2024-11-24T09:27:32.264Z"
      },
      {
        "duration": 4,
        "start_time": "2024-11-24T09:27:32.981Z"
      },
      {
        "duration": 14,
        "start_time": "2024-11-24T09:27:33.764Z"
      },
      {
        "duration": 3,
        "start_time": "2024-11-24T09:27:34.469Z"
      },
      {
        "duration": 16,
        "start_time": "2024-11-24T09:27:35.309Z"
      },
      {
        "duration": 8,
        "start_time": "2024-11-24T09:27:39.148Z"
      },
      {
        "duration": 13,
        "start_time": "2024-11-24T09:28:04.536Z"
      },
      {
        "duration": 46,
        "start_time": "2024-11-24T09:28:29.991Z"
      },
      {
        "duration": 39,
        "start_time": "2024-11-24T09:30:25.232Z"
      },
      {
        "duration": 72,
        "start_time": "2024-11-24T09:32:17.753Z"
      },
      {
        "duration": 188,
        "start_time": "2024-11-24T09:34:37.702Z"
      },
      {
        "duration": 12,
        "start_time": "2024-11-24T09:35:19.325Z"
      },
      {
        "duration": 8,
        "start_time": "2024-11-24T09:40:29.492Z"
      },
      {
        "duration": 397,
        "start_time": "2024-11-24T09:45:47.076Z"
      },
      {
        "duration": 50,
        "start_time": "2024-11-24T09:45:48.342Z"
      },
      {
        "duration": 17,
        "start_time": "2024-11-24T09:45:49.318Z"
      },
      {
        "duration": 14,
        "start_time": "2024-11-24T09:45:50.406Z"
      },
      {
        "duration": 3,
        "start_time": "2024-11-24T09:45:54.387Z"
      },
      {
        "duration": 4,
        "start_time": "2024-11-24T09:45:55.186Z"
      },
      {
        "duration": 3,
        "start_time": "2024-11-24T09:45:57.328Z"
      },
      {
        "duration": 20,
        "start_time": "2024-11-24T09:45:59.188Z"
      },
      {
        "duration": 16,
        "start_time": "2024-11-24T09:46:00.111Z"
      },
      {
        "duration": 4,
        "start_time": "2024-11-24T09:46:00.764Z"
      },
      {
        "duration": 6,
        "start_time": "2024-11-24T09:46:02.010Z"
      },
      {
        "duration": 10,
        "start_time": "2024-11-24T09:46:03.168Z"
      },
      {
        "duration": 5,
        "start_time": "2024-11-24T09:46:04.409Z"
      },
      {
        "duration": 9,
        "start_time": "2024-11-24T09:46:07.734Z"
      },
      {
        "duration": 8,
        "start_time": "2024-11-24T09:46:08.968Z"
      },
      {
        "duration": 8,
        "start_time": "2024-11-24T09:46:13.588Z"
      },
      {
        "duration": 8,
        "start_time": "2024-11-24T09:46:13.656Z"
      },
      {
        "duration": 3,
        "start_time": "2024-11-24T09:46:18.694Z"
      },
      {
        "duration": 11,
        "start_time": "2024-11-24T09:46:19.572Z"
      },
      {
        "duration": 5,
        "start_time": "2024-11-24T09:46:22.078Z"
      },
      {
        "duration": 11,
        "start_time": "2024-11-24T09:46:22.920Z"
      },
      {
        "duration": 4,
        "start_time": "2024-11-24T09:46:23.593Z"
      },
      {
        "duration": 11,
        "start_time": "2024-11-24T09:46:25.432Z"
      },
      {
        "duration": 215,
        "start_time": "2024-11-24T09:46:28.593Z"
      },
      {
        "duration": 226,
        "start_time": "2024-11-24T09:46:31.002Z"
      },
      {
        "duration": 9,
        "start_time": "2024-11-24T09:46:51.021Z"
      },
      {
        "duration": 9,
        "start_time": "2024-11-24T09:47:00.500Z"
      },
      {
        "duration": 14,
        "start_time": "2024-11-24T09:47:01.499Z"
      },
      {
        "duration": 4,
        "start_time": "2024-11-24T09:47:01.984Z"
      },
      {
        "duration": 17,
        "start_time": "2024-11-24T09:47:03.335Z"
      },
      {
        "duration": 4,
        "start_time": "2024-11-24T09:47:04.977Z"
      },
      {
        "duration": 16,
        "start_time": "2024-11-24T09:47:05.870Z"
      },
      {
        "duration": 7,
        "start_time": "2024-11-24T09:47:06.550Z"
      },
      {
        "duration": 16,
        "start_time": "2024-11-24T09:47:10.595Z"
      },
      {
        "duration": 36,
        "start_time": "2024-11-24T09:47:12.905Z"
      },
      {
        "duration": 11,
        "start_time": "2024-11-24T09:47:22.534Z"
      },
      {
        "duration": 17,
        "start_time": "2024-11-24T09:47:25.286Z"
      },
      {
        "duration": 22,
        "start_time": "2024-11-24T09:47:48.493Z"
      },
      {
        "duration": 16,
        "start_time": "2024-11-24T09:48:42.663Z"
      },
      {
        "duration": 22,
        "start_time": "2024-11-24T09:48:49.798Z"
      },
      {
        "duration": 86,
        "start_time": "2024-11-24T09:49:38.502Z"
      },
      {
        "duration": 27,
        "start_time": "2024-11-24T09:51:12.720Z"
      },
      {
        "duration": 8,
        "start_time": "2024-11-24T09:53:32.890Z"
      },
      {
        "duration": 10,
        "start_time": "2024-11-24T09:53:42.317Z"
      },
      {
        "duration": 161,
        "start_time": "2024-11-24T09:54:44.053Z"
      },
      {
        "duration": 4,
        "start_time": "2024-11-24T09:56:13.728Z"
      },
      {
        "duration": 103,
        "start_time": "2024-11-24T09:56:43.227Z"
      },
      {
        "duration": 5,
        "start_time": "2024-11-24T09:57:03.555Z"
      },
      {
        "duration": 13,
        "start_time": "2024-11-24T09:57:48.773Z"
      },
      {
        "duration": 10,
        "start_time": "2024-11-24T09:58:17.583Z"
      },
      {
        "duration": 62,
        "start_time": "2024-11-24T10:00:27.495Z"
      },
      {
        "duration": 10,
        "start_time": "2024-11-24T10:01:17.433Z"
      },
      {
        "duration": 10,
        "start_time": "2024-11-24T10:02:19.077Z"
      },
      {
        "duration": 2,
        "start_time": "2024-11-24T10:02:34.838Z"
      },
      {
        "duration": 52,
        "start_time": "2024-11-24T10:02:35.206Z"
      },
      {
        "duration": 11,
        "start_time": "2024-11-24T10:02:35.602Z"
      },
      {
        "duration": 19,
        "start_time": "2024-11-24T10:02:35.993Z"
      },
      {
        "duration": 4,
        "start_time": "2024-11-24T10:02:37.417Z"
      },
      {
        "duration": 4,
        "start_time": "2024-11-24T10:02:37.670Z"
      },
      {
        "duration": 3,
        "start_time": "2024-11-24T10:02:38.138Z"
      },
      {
        "duration": 21,
        "start_time": "2024-11-24T10:02:38.654Z"
      },
      {
        "duration": 15,
        "start_time": "2024-11-24T10:02:38.969Z"
      },
      {
        "duration": 3,
        "start_time": "2024-11-24T10:02:39.788Z"
      },
      {
        "duration": 4,
        "start_time": "2024-11-24T10:02:40.072Z"
      },
      {
        "duration": 8,
        "start_time": "2024-11-24T10:02:40.341Z"
      },
      {
        "duration": 5,
        "start_time": "2024-11-24T10:02:41.387Z"
      },
      {
        "duration": 8,
        "start_time": "2024-11-24T10:02:42.818Z"
      },
      {
        "duration": 8,
        "start_time": "2024-11-24T10:02:43.336Z"
      },
      {
        "duration": 8,
        "start_time": "2024-11-24T10:02:45.413Z"
      },
      {
        "duration": 8,
        "start_time": "2024-11-24T10:02:45.818Z"
      },
      {
        "duration": 4,
        "start_time": "2024-11-24T10:02:48.597Z"
      },
      {
        "duration": 11,
        "start_time": "2024-11-24T10:02:49.066Z"
      },
      {
        "duration": 3,
        "start_time": "2024-11-24T10:02:50.446Z"
      },
      {
        "duration": 9,
        "start_time": "2024-11-24T10:02:50.993Z"
      },
      {
        "duration": 4,
        "start_time": "2024-11-24T10:02:51.487Z"
      },
      {
        "duration": 9,
        "start_time": "2024-11-24T10:02:52.058Z"
      },
      {
        "duration": 208,
        "start_time": "2024-11-24T10:02:53.760Z"
      },
      {
        "duration": 195,
        "start_time": "2024-11-24T10:02:59.243Z"
      },
      {
        "duration": 10,
        "start_time": "2024-11-24T10:03:00.465Z"
      },
      {
        "duration": 9,
        "start_time": "2024-11-24T10:03:04.492Z"
      },
      {
        "duration": 14,
        "start_time": "2024-11-24T10:03:04.883Z"
      },
      {
        "duration": 3,
        "start_time": "2024-11-24T10:03:05.274Z"
      },
      {
        "duration": 16,
        "start_time": "2024-11-24T10:03:06.053Z"
      },
      {
        "duration": 3,
        "start_time": "2024-11-24T10:03:06.295Z"
      },
      {
        "duration": 17,
        "start_time": "2024-11-24T10:03:06.517Z"
      },
      {
        "duration": 9,
        "start_time": "2024-11-24T10:03:06.954Z"
      },
      {
        "duration": 16,
        "start_time": "2024-11-24T10:03:08.109Z"
      },
      {
        "duration": 36,
        "start_time": "2024-11-24T10:03:08.648Z"
      },
      {
        "duration": 10,
        "start_time": "2024-11-24T10:03:11.574Z"
      },
      {
        "duration": 21,
        "start_time": "2024-11-24T10:03:14.958Z"
      },
      {
        "duration": 22,
        "start_time": "2024-11-24T10:03:16.512Z"
      },
      {
        "duration": 29,
        "start_time": "2024-11-24T10:03:19.294Z"
      },
      {
        "duration": 10,
        "start_time": "2024-11-24T10:03:21.475Z"
      },
      {
        "duration": 11,
        "start_time": "2024-11-24T10:03:28.634Z"
      },
      {
        "duration": 63,
        "start_time": "2024-11-24T10:05:09.378Z"
      },
      {
        "duration": 11,
        "start_time": "2024-11-24T10:05:40.091Z"
      },
      {
        "duration": 14,
        "start_time": "2024-11-24T10:05:50.160Z"
      },
      {
        "duration": 12,
        "start_time": "2024-11-24T10:06:49.109Z"
      },
      {
        "duration": 11,
        "start_time": "2024-11-24T10:08:41.974Z"
      },
      {
        "duration": 6,
        "start_time": "2024-11-24T10:10:38.179Z"
      },
      {
        "duration": 11,
        "start_time": "2024-11-24T10:10:41.209Z"
      },
      {
        "duration": 7,
        "start_time": "2024-11-24T10:12:33.748Z"
      },
      {
        "duration": 13,
        "start_time": "2024-11-24T10:12:34.386Z"
      },
      {
        "duration": 9,
        "start_time": "2024-11-24T10:12:51.043Z"
      },
      {
        "duration": 15,
        "start_time": "2024-11-24T10:13:34.494Z"
      },
      {
        "duration": 15,
        "start_time": "2024-11-24T10:15:19.036Z"
      },
      {
        "duration": 12,
        "start_time": "2024-11-24T10:17:20.934Z"
      },
      {
        "duration": 15,
        "start_time": "2024-11-24T10:17:36.092Z"
      },
      {
        "duration": 15,
        "start_time": "2024-11-24T10:18:03.707Z"
      },
      {
        "duration": 11,
        "start_time": "2024-11-24T10:19:44.670Z"
      },
      {
        "duration": 10,
        "start_time": "2024-11-24T10:19:52.224Z"
      },
      {
        "duration": 391,
        "start_time": "2024-11-24T10:20:09.774Z"
      },
      {
        "duration": 52,
        "start_time": "2024-11-24T10:20:10.166Z"
      },
      {
        "duration": 17,
        "start_time": "2024-11-24T10:20:10.220Z"
      },
      {
        "duration": 13,
        "start_time": "2024-11-24T10:20:10.239Z"
      },
      {
        "duration": 4,
        "start_time": "2024-11-24T10:20:10.253Z"
      },
      {
        "duration": 6,
        "start_time": "2024-11-24T10:20:10.258Z"
      },
      {
        "duration": 18,
        "start_time": "2024-11-24T10:20:10.265Z"
      },
      {
        "duration": 35,
        "start_time": "2024-11-24T10:20:10.285Z"
      },
      {
        "duration": 16,
        "start_time": "2024-11-24T10:20:10.323Z"
      },
      {
        "duration": 4,
        "start_time": "2024-11-24T10:20:10.342Z"
      },
      {
        "duration": 16,
        "start_time": "2024-11-24T10:20:10.347Z"
      },
      {
        "duration": 29,
        "start_time": "2024-11-24T10:20:10.365Z"
      },
      {
        "duration": 6,
        "start_time": "2024-11-24T10:20:10.396Z"
      },
      {
        "duration": 13,
        "start_time": "2024-11-24T10:20:10.404Z"
      },
      {
        "duration": 11,
        "start_time": "2024-11-24T10:20:10.419Z"
      },
      {
        "duration": 6,
        "start_time": "2024-11-24T10:20:10.432Z"
      },
      {
        "duration": 8,
        "start_time": "2024-11-24T10:20:10.440Z"
      },
      {
        "duration": 18,
        "start_time": "2024-11-24T10:20:10.449Z"
      },
      {
        "duration": 21,
        "start_time": "2024-11-24T10:20:10.468Z"
      },
      {
        "duration": 19,
        "start_time": "2024-11-24T10:20:10.490Z"
      },
      {
        "duration": 19,
        "start_time": "2024-11-24T10:20:10.511Z"
      },
      {
        "duration": 3,
        "start_time": "2024-11-24T10:20:10.531Z"
      },
      {
        "duration": 16,
        "start_time": "2024-11-24T10:20:10.536Z"
      },
      {
        "duration": 249,
        "start_time": "2024-11-24T10:20:10.554Z"
      },
      {
        "duration": 210,
        "start_time": "2024-11-24T10:20:10.812Z"
      },
      {
        "duration": 9,
        "start_time": "2024-11-24T10:20:11.024Z"
      },
      {
        "duration": 13,
        "start_time": "2024-11-24T10:20:11.035Z"
      },
      {
        "duration": 14,
        "start_time": "2024-11-24T10:20:11.050Z"
      },
      {
        "duration": 4,
        "start_time": "2024-11-24T10:20:11.065Z"
      },
      {
        "duration": 16,
        "start_time": "2024-11-24T10:20:11.070Z"
      },
      {
        "duration": 27,
        "start_time": "2024-11-24T10:20:11.087Z"
      },
      {
        "duration": 18,
        "start_time": "2024-11-24T10:20:11.115Z"
      },
      {
        "duration": 7,
        "start_time": "2024-11-24T10:20:11.134Z"
      },
      {
        "duration": 14,
        "start_time": "2024-11-24T10:20:11.143Z"
      },
      {
        "duration": 61,
        "start_time": "2024-11-24T10:20:11.158Z"
      },
      {
        "duration": 9,
        "start_time": "2024-11-24T10:20:11.220Z"
      },
      {
        "duration": 23,
        "start_time": "2024-11-24T10:20:11.230Z"
      },
      {
        "duration": 23,
        "start_time": "2024-11-24T10:20:11.254Z"
      },
      {
        "duration": 56,
        "start_time": "2024-11-24T10:20:11.278Z"
      },
      {
        "duration": 5,
        "start_time": "2024-11-24T10:20:11.335Z"
      },
      {
        "duration": 11,
        "start_time": "2024-11-24T10:20:11.342Z"
      },
      {
        "duration": 18,
        "start_time": "2024-11-24T10:20:11.354Z"
      },
      {
        "duration": 9,
        "start_time": "2024-11-24T10:20:11.373Z"
      },
      {
        "duration": 31,
        "start_time": "2024-11-24T10:20:11.384Z"
      },
      {
        "duration": 14,
        "start_time": "2024-11-24T10:20:11.417Z"
      },
      {
        "duration": 70,
        "start_time": "2024-11-24T10:20:26.936Z"
      },
      {
        "duration": 423,
        "start_time": "2024-11-24T10:20:51.385Z"
      },
      {
        "duration": 51,
        "start_time": "2024-11-24T10:20:51.812Z"
      },
      {
        "duration": 19,
        "start_time": "2024-11-24T10:20:51.864Z"
      },
      {
        "duration": 23,
        "start_time": "2024-11-24T10:20:51.885Z"
      },
      {
        "duration": 9,
        "start_time": "2024-11-24T10:20:51.909Z"
      },
      {
        "duration": 13,
        "start_time": "2024-11-24T10:20:51.919Z"
      },
      {
        "duration": 20,
        "start_time": "2024-11-24T10:20:51.934Z"
      },
      {
        "duration": 22,
        "start_time": "2024-11-24T10:20:51.955Z"
      },
      {
        "duration": 16,
        "start_time": "2024-11-24T10:20:51.979Z"
      },
      {
        "duration": 4,
        "start_time": "2024-11-24T10:20:51.997Z"
      },
      {
        "duration": 6,
        "start_time": "2024-11-24T10:20:52.002Z"
      },
      {
        "duration": 10,
        "start_time": "2024-11-24T10:20:52.009Z"
      },
      {
        "duration": 5,
        "start_time": "2024-11-24T10:20:52.020Z"
      },
      {
        "duration": 7,
        "start_time": "2024-11-24T10:20:52.026Z"
      },
      {
        "duration": 8,
        "start_time": "2024-11-24T10:20:52.035Z"
      },
      {
        "duration": 9,
        "start_time": "2024-11-24T10:20:52.044Z"
      },
      {
        "duration": 7,
        "start_time": "2024-11-24T10:20:52.055Z"
      },
      {
        "duration": 8,
        "start_time": "2024-11-24T10:20:52.063Z"
      },
      {
        "duration": 44,
        "start_time": "2024-11-24T10:20:52.072Z"
      },
      {
        "duration": 4,
        "start_time": "2024-11-24T10:20:52.117Z"
      },
      {
        "duration": 8,
        "start_time": "2024-11-24T10:20:52.123Z"
      },
      {
        "duration": 10,
        "start_time": "2024-11-24T10:20:52.132Z"
      },
      {
        "duration": 18,
        "start_time": "2024-11-24T10:20:52.144Z"
      },
      {
        "duration": 250,
        "start_time": "2024-11-24T10:20:52.163Z"
      },
      {
        "duration": 210,
        "start_time": "2024-11-24T10:20:52.415Z"
      },
      {
        "duration": 8,
        "start_time": "2024-11-24T10:20:52.627Z"
      },
      {
        "duration": 68,
        "start_time": "2024-11-24T10:20:52.637Z"
      },
      {
        "duration": 15,
        "start_time": "2024-11-24T10:20:52.708Z"
      },
      {
        "duration": 4,
        "start_time": "2024-11-24T10:20:52.724Z"
      },
      {
        "duration": 16,
        "start_time": "2024-11-24T10:20:52.729Z"
      },
      {
        "duration": 3,
        "start_time": "2024-11-24T10:20:52.747Z"
      },
      {
        "duration": 22,
        "start_time": "2024-11-24T10:20:52.751Z"
      },
      {
        "duration": 7,
        "start_time": "2024-11-24T10:20:52.774Z"
      },
      {
        "duration": 40,
        "start_time": "2024-11-24T10:20:52.782Z"
      },
      {
        "duration": 37,
        "start_time": "2024-11-24T10:20:52.823Z"
      },
      {
        "duration": 9,
        "start_time": "2024-11-24T10:20:52.861Z"
      },
      {
        "duration": 46,
        "start_time": "2024-11-24T10:20:52.872Z"
      },
      {
        "duration": 24,
        "start_time": "2024-11-24T10:20:52.919Z"
      },
      {
        "duration": 93,
        "start_time": "2024-11-24T10:20:52.944Z"
      },
      {
        "duration": 6,
        "start_time": "2024-11-24T10:20:53.038Z"
      },
      {
        "duration": 10,
        "start_time": "2024-11-24T10:20:53.046Z"
      },
      {
        "duration": 13,
        "start_time": "2024-11-24T10:20:53.058Z"
      },
      {
        "duration": 13,
        "start_time": "2024-11-24T10:20:53.073Z"
      },
      {
        "duration": 36,
        "start_time": "2024-11-24T10:20:53.087Z"
      },
      {
        "duration": 24,
        "start_time": "2024-11-24T10:20:53.126Z"
      },
      {
        "duration": 98,
        "start_time": "2024-11-24T10:21:39.516Z"
      },
      {
        "duration": 405,
        "start_time": "2024-11-24T10:31:38.276Z"
      },
      {
        "duration": 51,
        "start_time": "2024-11-24T10:31:38.683Z"
      },
      {
        "duration": 29,
        "start_time": "2024-11-24T10:31:38.735Z"
      },
      {
        "duration": 12,
        "start_time": "2024-11-24T10:31:38.766Z"
      },
      {
        "duration": 4,
        "start_time": "2024-11-24T10:31:38.779Z"
      },
      {
        "duration": 4,
        "start_time": "2024-11-24T10:31:38.784Z"
      },
      {
        "duration": 5,
        "start_time": "2024-11-24T10:31:38.789Z"
      },
      {
        "duration": 27,
        "start_time": "2024-11-24T10:31:38.795Z"
      },
      {
        "duration": 16,
        "start_time": "2024-11-24T10:31:38.823Z"
      },
      {
        "duration": 3,
        "start_time": "2024-11-24T10:31:38.841Z"
      },
      {
        "duration": 7,
        "start_time": "2024-11-24T10:31:38.845Z"
      },
      {
        "duration": 13,
        "start_time": "2024-11-24T10:31:38.854Z"
      },
      {
        "duration": 5,
        "start_time": "2024-11-24T10:31:38.868Z"
      },
      {
        "duration": 7,
        "start_time": "2024-11-24T10:31:38.993Z"
      },
      {
        "duration": 31,
        "start_time": "2024-11-24T10:31:39.001Z"
      },
      {
        "duration": 6,
        "start_time": "2024-11-24T10:31:39.034Z"
      },
      {
        "duration": 12,
        "start_time": "2024-11-24T10:31:39.042Z"
      },
      {
        "duration": 4,
        "start_time": "2024-11-24T10:31:39.056Z"
      },
      {
        "duration": 16,
        "start_time": "2024-11-24T10:31:39.061Z"
      },
      {
        "duration": 3,
        "start_time": "2024-11-24T10:31:39.078Z"
      },
      {
        "duration": 7,
        "start_time": "2024-11-24T10:31:39.083Z"
      },
      {
        "duration": 12,
        "start_time": "2024-11-24T10:31:39.091Z"
      },
      {
        "duration": 8,
        "start_time": "2024-11-24T10:31:39.104Z"
      },
      {
        "duration": 229,
        "start_time": "2024-11-24T10:31:39.114Z"
      },
      {
        "duration": 202,
        "start_time": "2024-11-24T10:31:39.345Z"
      },
      {
        "duration": 9,
        "start_time": "2024-11-24T10:31:39.548Z"
      },
      {
        "duration": 8,
        "start_time": "2024-11-24T10:31:39.559Z"
      },
      {
        "duration": 12,
        "start_time": "2024-11-24T10:31:39.569Z"
      },
      {
        "duration": 29,
        "start_time": "2024-11-24T10:31:39.583Z"
      },
      {
        "duration": 22,
        "start_time": "2024-11-24T10:31:39.613Z"
      },
      {
        "duration": 4,
        "start_time": "2024-11-24T10:31:39.636Z"
      },
      {
        "duration": 23,
        "start_time": "2024-11-24T10:31:39.642Z"
      },
      {
        "duration": 7,
        "start_time": "2024-11-24T10:31:39.666Z"
      },
      {
        "duration": 39,
        "start_time": "2024-11-24T10:31:39.674Z"
      },
      {
        "duration": 34,
        "start_time": "2024-11-24T10:31:39.715Z"
      },
      {
        "duration": 9,
        "start_time": "2024-11-24T10:31:39.750Z"
      },
      {
        "duration": 23,
        "start_time": "2024-11-24T10:31:39.760Z"
      },
      {
        "duration": 40,
        "start_time": "2024-11-24T10:31:39.784Z"
      },
      {
        "duration": 27,
        "start_time": "2024-11-24T10:31:39.826Z"
      },
      {
        "duration": 4,
        "start_time": "2024-11-24T10:31:39.855Z"
      },
      {
        "duration": 9,
        "start_time": "2024-11-24T10:31:39.860Z"
      },
      {
        "duration": 8,
        "start_time": "2024-11-24T10:31:40.182Z"
      },
      {
        "duration": 9,
        "start_time": "2024-11-24T10:31:40.192Z"
      },
      {
        "duration": 8,
        "start_time": "2024-11-24T10:31:40.202Z"
      },
      {
        "duration": 12,
        "start_time": "2024-11-24T10:31:40.211Z"
      },
      {
        "duration": 22,
        "start_time": "2024-11-24T10:33:21.253Z"
      },
      {
        "duration": 66,
        "start_time": "2024-11-24T10:33:35.406Z"
      },
      {
        "duration": 12,
        "start_time": "2024-11-24T10:33:46.565Z"
      },
      {
        "duration": 394,
        "start_time": "2024-11-24T10:37:35.013Z"
      },
      {
        "duration": 51,
        "start_time": "2024-11-24T10:37:35.409Z"
      },
      {
        "duration": 17,
        "start_time": "2024-11-24T10:37:35.461Z"
      },
      {
        "duration": 22,
        "start_time": "2024-11-24T10:37:35.480Z"
      },
      {
        "duration": 3,
        "start_time": "2024-11-24T10:37:35.503Z"
      },
      {
        "duration": 5,
        "start_time": "2024-11-24T10:37:35.507Z"
      },
      {
        "duration": 7,
        "start_time": "2024-11-24T10:37:35.513Z"
      },
      {
        "duration": 25,
        "start_time": "2024-11-24T10:37:35.522Z"
      },
      {
        "duration": 16,
        "start_time": "2024-11-24T10:37:35.548Z"
      },
      {
        "duration": 18,
        "start_time": "2024-11-24T10:37:35.566Z"
      },
      {
        "duration": 14,
        "start_time": "2024-11-24T10:37:35.586Z"
      },
      {
        "duration": 12,
        "start_time": "2024-11-24T10:37:35.601Z"
      },
      {
        "duration": 9,
        "start_time": "2024-11-24T10:37:35.614Z"
      },
      {
        "duration": 16,
        "start_time": "2024-11-24T10:37:35.624Z"
      },
      {
        "duration": 44,
        "start_time": "2024-11-24T10:37:35.641Z"
      },
      {
        "duration": 111,
        "start_time": "2024-11-24T10:37:35.687Z"
      },
      {
        "duration": 11,
        "start_time": "2024-11-24T10:37:35.799Z"
      },
      {
        "duration": 4,
        "start_time": "2024-11-24T10:37:35.811Z"
      },
      {
        "duration": 42,
        "start_time": "2024-11-24T10:37:35.816Z"
      },
      {
        "duration": 24,
        "start_time": "2024-11-24T10:37:35.859Z"
      },
      {
        "duration": 18,
        "start_time": "2024-11-24T10:37:35.884Z"
      },
      {
        "duration": 3,
        "start_time": "2024-11-24T10:37:35.904Z"
      },
      {
        "duration": 8,
        "start_time": "2024-11-24T10:37:35.908Z"
      },
      {
        "duration": 242,
        "start_time": "2024-11-24T10:37:35.917Z"
      },
      {
        "duration": 202,
        "start_time": "2024-11-24T10:37:36.160Z"
      },
      {
        "duration": 8,
        "start_time": "2024-11-24T10:37:36.363Z"
      },
      {
        "duration": 27,
        "start_time": "2024-11-24T10:37:36.372Z"
      },
      {
        "duration": 22,
        "start_time": "2024-11-24T10:37:36.402Z"
      },
      {
        "duration": 15,
        "start_time": "2024-11-24T10:37:36.425Z"
      },
      {
        "duration": 24,
        "start_time": "2024-11-24T10:37:36.441Z"
      },
      {
        "duration": 14,
        "start_time": "2024-11-24T10:37:36.466Z"
      },
      {
        "duration": 25,
        "start_time": "2024-11-24T10:37:36.482Z"
      },
      {
        "duration": 7,
        "start_time": "2024-11-24T10:37:36.508Z"
      },
      {
        "duration": 22,
        "start_time": "2024-11-24T10:37:36.516Z"
      },
      {
        "duration": 102,
        "start_time": "2024-11-24T10:37:36.540Z"
      },
      {
        "duration": 0,
        "start_time": "2024-11-24T10:37:36.644Z"
      },
      {
        "duration": 0,
        "start_time": "2024-11-24T10:37:36.645Z"
      },
      {
        "duration": 0,
        "start_time": "2024-11-24T10:37:36.646Z"
      },
      {
        "duration": 0,
        "start_time": "2024-11-24T10:37:36.647Z"
      },
      {
        "duration": 0,
        "start_time": "2024-11-24T10:37:36.647Z"
      },
      {
        "duration": 0,
        "start_time": "2024-11-24T10:37:36.648Z"
      },
      {
        "duration": 0,
        "start_time": "2024-11-24T10:37:36.649Z"
      },
      {
        "duration": 0,
        "start_time": "2024-11-24T10:37:36.650Z"
      },
      {
        "duration": 0,
        "start_time": "2024-11-24T10:37:36.651Z"
      },
      {
        "duration": 0,
        "start_time": "2024-11-24T10:37:36.651Z"
      },
      {
        "duration": 407,
        "start_time": "2024-11-24T10:38:10.903Z"
      },
      {
        "duration": 53,
        "start_time": "2024-11-24T10:38:11.312Z"
      },
      {
        "duration": 18,
        "start_time": "2024-11-24T10:38:11.366Z"
      },
      {
        "duration": 39,
        "start_time": "2024-11-24T10:38:11.386Z"
      },
      {
        "duration": 36,
        "start_time": "2024-11-24T10:38:11.426Z"
      },
      {
        "duration": 16,
        "start_time": "2024-11-24T10:38:11.463Z"
      },
      {
        "duration": 11,
        "start_time": "2024-11-24T10:38:11.480Z"
      },
      {
        "duration": 39,
        "start_time": "2024-11-24T10:38:11.492Z"
      },
      {
        "duration": 16,
        "start_time": "2024-11-24T10:38:11.532Z"
      },
      {
        "duration": 8,
        "start_time": "2024-11-24T10:38:11.550Z"
      },
      {
        "duration": 7,
        "start_time": "2024-11-24T10:38:11.559Z"
      },
      {
        "duration": 15,
        "start_time": "2024-11-24T10:38:11.567Z"
      },
      {
        "duration": 5,
        "start_time": "2024-11-24T10:38:11.583Z"
      },
      {
        "duration": 24,
        "start_time": "2024-11-24T10:38:11.589Z"
      },
      {
        "duration": 8,
        "start_time": "2024-11-24T10:38:12.237Z"
      },
      {
        "duration": 10,
        "start_time": "2024-11-24T10:38:12.247Z"
      },
      {
        "duration": 7,
        "start_time": "2024-11-24T10:38:12.258Z"
      },
      {
        "duration": 14,
        "start_time": "2024-11-24T10:38:12.266Z"
      },
      {
        "duration": 15,
        "start_time": "2024-11-24T10:38:12.282Z"
      },
      {
        "duration": 3,
        "start_time": "2024-11-24T10:38:12.298Z"
      },
      {
        "duration": 10,
        "start_time": "2024-11-24T10:38:12.302Z"
      },
      {
        "duration": 6,
        "start_time": "2024-11-24T10:38:12.313Z"
      },
      {
        "duration": 8,
        "start_time": "2024-11-24T10:38:12.320Z"
      },
      {
        "duration": 238,
        "start_time": "2024-11-24T10:38:12.329Z"
      },
      {
        "duration": 210,
        "start_time": "2024-11-24T10:38:12.568Z"
      },
      {
        "duration": 9,
        "start_time": "2024-11-24T10:38:12.779Z"
      },
      {
        "duration": 8,
        "start_time": "2024-11-24T10:38:12.789Z"
      },
      {
        "duration": 14,
        "start_time": "2024-11-24T10:38:12.812Z"
      },
      {
        "duration": 3,
        "start_time": "2024-11-24T10:38:12.827Z"
      },
      {
        "duration": 20,
        "start_time": "2024-11-24T10:38:12.831Z"
      },
      {
        "duration": 4,
        "start_time": "2024-11-24T10:38:12.853Z"
      },
      {
        "duration": 18,
        "start_time": "2024-11-24T10:38:12.859Z"
      },
      {
        "duration": 7,
        "start_time": "2024-11-24T10:38:12.878Z"
      },
      {
        "duration": 16,
        "start_time": "2024-11-24T10:38:12.911Z"
      },
      {
        "duration": 105,
        "start_time": "2024-11-24T10:38:12.928Z"
      },
      {
        "duration": 0,
        "start_time": "2024-11-24T10:38:13.035Z"
      },
      {
        "duration": 0,
        "start_time": "2024-11-24T10:38:13.036Z"
      },
      {
        "duration": 0,
        "start_time": "2024-11-24T10:38:13.036Z"
      },
      {
        "duration": 0,
        "start_time": "2024-11-24T10:38:13.037Z"
      },
      {
        "duration": 0,
        "start_time": "2024-11-24T10:38:13.038Z"
      },
      {
        "duration": 0,
        "start_time": "2024-11-24T10:38:13.039Z"
      },
      {
        "duration": 0,
        "start_time": "2024-11-24T10:38:13.039Z"
      },
      {
        "duration": 0,
        "start_time": "2024-11-24T10:38:13.041Z"
      },
      {
        "duration": 0,
        "start_time": "2024-11-24T10:38:13.041Z"
      },
      {
        "duration": 0,
        "start_time": "2024-11-24T10:38:13.042Z"
      },
      {
        "duration": 35,
        "start_time": "2024-11-24T10:39:22.697Z"
      },
      {
        "duration": 388,
        "start_time": "2024-11-24T10:39:37.286Z"
      },
      {
        "duration": 50,
        "start_time": "2024-11-24T10:39:37.675Z"
      },
      {
        "duration": 17,
        "start_time": "2024-11-24T10:39:37.727Z"
      },
      {
        "duration": 13,
        "start_time": "2024-11-24T10:39:37.746Z"
      },
      {
        "duration": 3,
        "start_time": "2024-11-24T10:39:37.760Z"
      },
      {
        "duration": 4,
        "start_time": "2024-11-24T10:39:37.764Z"
      },
      {
        "duration": 16,
        "start_time": "2024-11-24T10:39:37.769Z"
      },
      {
        "duration": 39,
        "start_time": "2024-11-24T10:39:37.787Z"
      },
      {
        "duration": 16,
        "start_time": "2024-11-24T10:39:37.827Z"
      },
      {
        "duration": 4,
        "start_time": "2024-11-24T10:39:37.845Z"
      },
      {
        "duration": 9,
        "start_time": "2024-11-24T10:39:37.850Z"
      },
      {
        "duration": 10,
        "start_time": "2024-11-24T10:39:37.861Z"
      },
      {
        "duration": 4,
        "start_time": "2024-11-24T10:39:37.873Z"
      },
      {
        "duration": 34,
        "start_time": "2024-11-24T10:39:37.878Z"
      },
      {
        "duration": 7,
        "start_time": "2024-11-24T10:39:37.914Z"
      },
      {
        "duration": 8,
        "start_time": "2024-11-24T10:39:37.952Z"
      },
      {
        "duration": 20,
        "start_time": "2024-11-24T10:39:37.962Z"
      },
      {
        "duration": 13,
        "start_time": "2024-11-24T10:39:37.983Z"
      },
      {
        "duration": 15,
        "start_time": "2024-11-24T10:39:37.998Z"
      },
      {
        "duration": 3,
        "start_time": "2024-11-24T10:39:38.015Z"
      },
      {
        "duration": 9,
        "start_time": "2024-11-24T10:39:38.019Z"
      },
      {
        "duration": 3,
        "start_time": "2024-11-24T10:39:38.029Z"
      },
      {
        "duration": 13,
        "start_time": "2024-11-24T10:39:38.033Z"
      },
      {
        "duration": 246,
        "start_time": "2024-11-24T10:39:38.047Z"
      },
      {
        "duration": 204,
        "start_time": "2024-11-24T10:39:38.296Z"
      },
      {
        "duration": 13,
        "start_time": "2024-11-24T10:39:38.502Z"
      },
      {
        "duration": 9,
        "start_time": "2024-11-24T10:39:38.516Z"
      },
      {
        "duration": 13,
        "start_time": "2024-11-24T10:39:38.526Z"
      },
      {
        "duration": 4,
        "start_time": "2024-11-24T10:39:38.540Z"
      },
      {
        "duration": 19,
        "start_time": "2024-11-24T10:39:38.546Z"
      },
      {
        "duration": 6,
        "start_time": "2024-11-24T10:39:38.567Z"
      },
      {
        "duration": 46,
        "start_time": "2024-11-24T10:39:38.574Z"
      },
      {
        "duration": 7,
        "start_time": "2024-11-24T10:39:38.626Z"
      },
      {
        "duration": 15,
        "start_time": "2024-11-24T10:39:38.634Z"
      },
      {
        "duration": 34,
        "start_time": "2024-11-24T10:39:38.651Z"
      },
      {
        "duration": 27,
        "start_time": "2024-11-24T10:39:38.687Z"
      },
      {
        "duration": 67,
        "start_time": "2024-11-24T10:39:38.716Z"
      },
      {
        "duration": 20,
        "start_time": "2024-11-24T10:39:38.784Z"
      },
      {
        "duration": 27,
        "start_time": "2024-11-24T10:39:38.805Z"
      },
      {
        "duration": 6,
        "start_time": "2024-11-24T10:39:38.834Z"
      },
      {
        "duration": 11,
        "start_time": "2024-11-24T10:39:38.842Z"
      },
      {
        "duration": 8,
        "start_time": "2024-11-24T10:39:38.854Z"
      },
      {
        "duration": 13,
        "start_time": "2024-11-24T10:39:39.125Z"
      },
      {
        "duration": 9,
        "start_time": "2024-11-24T10:39:39.139Z"
      },
      {
        "duration": 15,
        "start_time": "2024-11-24T10:39:39.150Z"
      }
    ],
    "toc": {
      "base_numbering": 1,
      "nav_menu": {},
      "number_sections": true,
      "sideBar": true,
      "skip_h1_title": true,
      "title_cell": "Table of Contents",
      "title_sidebar": "Contents",
      "toc_cell": false,
      "toc_position": {},
      "toc_section_display": true,
      "toc_window_display": false
    }
  },
  "nbformat_minor": 5,
  "nbformat": 4,
  "cells": [
    {
      "id": "e06910dd",
      "cell_type": "markdown",
      "source": "# Анализ и предобработка данных о видеоиграх для последующего использования в исследовании\n\n- Автор:Мусабаева Алеся Талгатовна\n- Дата: 22.11.2024",
      "metadata": {}
    },
    {
      "id": "4149134c",
      "cell_type": "markdown",
      "source": "### Цели и задачи проекта\n\n<font color='#7030a0'>Анализировать и подготовить данные игрового рынка для последующего использования в исследовательских или бизнес-задачах, обеспечивая корректность и удобство их анализа.</font>",
      "metadata": {}
    },
    {
      "id": "728986ea",
      "cell_type": "markdown",
      "source": "### Описание данных\n\n<font color='#7030a0'>В проекте будут использованы данные датасета `/datasets/new_games.csv` с таким описанием:\n- `Name`  —  Название игры;  \n- `Platform` —  Платформа, на которой выпущена игра (например, Wii, NES, GB и т. д.);\n- `Year of Release` — Год выпуска игры;\n- `Genre` — Жанр игры (например, Sports, Platform, Racing, Role-Playing и т. д.);\n- `NA sales` —  Продажи в Северной Америке (в миллионах единиц);    \n- `EU sales` — Продажи в Европе (в миллионах единиц);\n- `JP sales` — Продажи в Японии (в миллионах единиц);\n- `Other sales`  —  Продажи в других регионах (в миллионах единиц);\n- `Critic Score` —  Оценка критиков (по 100-балльной шкале);\n- `User Score`  — Оценка пользователей (по 10-балльной шкале);\n- `Rating` —  Возрастной рейтинг игры (например, E — для всех, T — для подростков).  \n</font>    ",
      "metadata": {}
    },
    {
      "id": "4fecaf95",
      "cell_type": "markdown",
      "source": "### Содержимое проекта\n<font color='#7030a0'> Основные шаги проекта: \n- Загрузка и знакомство с данными.\n- Проверка ошибок в данных и их предоработка.\n- Фильтрация данных.\n- Категоризация данных.    \n</font>   ",
      "metadata": {}
    },
    {
      "id": "6f7d21d6",
      "cell_type": "markdown",
      "source": "## 1. Загрузка и знакомство с данными\n\n1. Загрузите необходимые библиотеки Python и данные датасета `/datasets/new_games.csv`.\n2. Познакомьтесь с данными: выведите первые строки и результат метода `.info()`.\n3. Сделайте вывод о полученных данных: данные какого объёма вам предоставили, соответствуют ли они описанию, встречаются ли в них пропуски, используются ли верные типы данных.\n4. Отметьте другие особенности данных, которые вы обнаружили и на которые стоит обратить внимание при предобработке. Например, вы можете проверить названия столбцов: все ли названия отражают содержимое данных и прописаны в удобном для работы виде.",
      "metadata": {}
    },
    {
      "id": "ce87c1db",
      "cell_type": "code",
      "source": "#Подключаем библиотеку pandas\nimport pandas as pd\n            ",
      "metadata": {},
      "outputs": [],
      "execution_count": 1
    },
    {
      "id": "ebd7f86b",
      "cell_type": "code",
      "source": "#Загружаем данные в датафрейм\ndf=pd.read_csv('/datasets/new_games.csv')",
      "metadata": {},
      "outputs": [],
      "execution_count": 2
    },
    {
      "id": "8cdd3fa2",
      "cell_type": "code",
      "source": "#Выводим первые строки\ndf.head()",
      "metadata": {},
      "outputs": [
        {
          "data": {
            "text/html": [
              "<div>\n",
              "<style scoped>\n",
              "    .dataframe tbody tr th:only-of-type {\n",
              "        vertical-align: middle;\n",
              "    }\n",
              "\n",
              "    .dataframe tbody tr th {\n",
              "        vertical-align: top;\n",
              "    }\n",
              "\n",
              "    .dataframe thead th {\n",
              "        text-align: right;\n",
              "    }\n",
              "</style>\n",
              "<table border=\"1\" class=\"dataframe\">\n",
              "  <thead>\n",
              "    <tr style=\"text-align: right;\">\n",
              "      <th></th>\n",
              "      <th>Name</th>\n",
              "      <th>Platform</th>\n",
              "      <th>Year of Release</th>\n",
              "      <th>Genre</th>\n",
              "      <th>NA sales</th>\n",
              "      <th>EU sales</th>\n",
              "      <th>JP sales</th>\n",
              "      <th>Other sales</th>\n",
              "      <th>Critic Score</th>\n",
              "      <th>User Score</th>\n",
              "      <th>Rating</th>\n",
              "    </tr>\n",
              "  </thead>\n",
              "  <tbody>\n",
              "    <tr>\n",
              "      <th>0</th>\n",
              "      <td>Wii Sports</td>\n",
              "      <td>Wii</td>\n",
              "      <td>2006.0</td>\n",
              "      <td>Sports</td>\n",
              "      <td>41.36</td>\n",
              "      <td>28.96</td>\n",
              "      <td>3.77</td>\n",
              "      <td>8.45</td>\n",
              "      <td>76.0</td>\n",
              "      <td>8</td>\n",
              "      <td>E</td>\n",
              "    </tr>\n",
              "    <tr>\n",
              "      <th>1</th>\n",
              "      <td>Super Mario Bros.</td>\n",
              "      <td>NES</td>\n",
              "      <td>1985.0</td>\n",
              "      <td>Platform</td>\n",
              "      <td>29.08</td>\n",
              "      <td>3.58</td>\n",
              "      <td>6.81</td>\n",
              "      <td>0.77</td>\n",
              "      <td>NaN</td>\n",
              "      <td>NaN</td>\n",
              "      <td>NaN</td>\n",
              "    </tr>\n",
              "    <tr>\n",
              "      <th>2</th>\n",
              "      <td>Mario Kart Wii</td>\n",
              "      <td>Wii</td>\n",
              "      <td>2008.0</td>\n",
              "      <td>Racing</td>\n",
              "      <td>15.68</td>\n",
              "      <td>12.76</td>\n",
              "      <td>3.79</td>\n",
              "      <td>3.29</td>\n",
              "      <td>82.0</td>\n",
              "      <td>8.3</td>\n",
              "      <td>E</td>\n",
              "    </tr>\n",
              "    <tr>\n",
              "      <th>3</th>\n",
              "      <td>Wii Sports Resort</td>\n",
              "      <td>Wii</td>\n",
              "      <td>2009.0</td>\n",
              "      <td>Sports</td>\n",
              "      <td>15.61</td>\n",
              "      <td>10.93</td>\n",
              "      <td>3.28</td>\n",
              "      <td>2.95</td>\n",
              "      <td>80.0</td>\n",
              "      <td>8</td>\n",
              "      <td>E</td>\n",
              "    </tr>\n",
              "    <tr>\n",
              "      <th>4</th>\n",
              "      <td>Pokemon Red/Pokemon Blue</td>\n",
              "      <td>GB</td>\n",
              "      <td>1996.0</td>\n",
              "      <td>Role-Playing</td>\n",
              "      <td>11.27</td>\n",
              "      <td>8.89</td>\n",
              "      <td>10.22</td>\n",
              "      <td>1.00</td>\n",
              "      <td>NaN</td>\n",
              "      <td>NaN</td>\n",
              "      <td>NaN</td>\n",
              "    </tr>\n",
              "  </tbody>\n",
              "</table>\n",
              "</div>"
            ],
            "text/plain": [
              "                       Name Platform  Year of Release         Genre  NA sales  \\\n",
              "0                Wii Sports      Wii           2006.0        Sports     41.36   \n",
              "1         Super Mario Bros.      NES           1985.0      Platform     29.08   \n",
              "2            Mario Kart Wii      Wii           2008.0        Racing     15.68   \n",
              "3         Wii Sports Resort      Wii           2009.0        Sports     15.61   \n",
              "4  Pokemon Red/Pokemon Blue       GB           1996.0  Role-Playing     11.27   \n",
              "\n",
              "  EU sales JP sales  Other sales  Critic Score User Score Rating  \n",
              "0    28.96     3.77         8.45          76.0          8      E  \n",
              "1     3.58     6.81         0.77           NaN        NaN    NaN  \n",
              "2    12.76     3.79         3.29          82.0        8.3      E  \n",
              "3    10.93     3.28         2.95          80.0          8      E  \n",
              "4     8.89    10.22         1.00           NaN        NaN    NaN  "
            ]
          },
          "execution_count": 3,
          "metadata": {},
          "output_type": "execute_result"
        }
      ],
      "execution_count": 3
    },
    {
      "id": "3b4120bb",
      "cell_type": "markdown",
      "source": "<font color='#7030a0'> Промежуточные выводы:\n   - Пропущенные значения: В некоторых записях значения в столбцах Critic Score, User Score, и Rating отсутствуют (NaN).\n   - Проведем дополнительный анализ, чтобы увидеть полную картину.\n    </font>",
      "metadata": {}
    },
    {
      "id": "a653e10c",
      "cell_type": "code",
      "source": "#Отображаем общую информацию  \ndf.info() ",
      "metadata": {},
      "outputs": [
        {
          "name": "stdout",
          "output_type": "stream",
          "text": [
            "<class 'pandas.core.frame.DataFrame'>\n",
            "RangeIndex: 16956 entries, 0 to 16955\n",
            "Data columns (total 11 columns):\n",
            " #   Column           Non-Null Count  Dtype  \n",
            "---  ------           --------------  -----  \n",
            " 0   Name             16954 non-null  object \n",
            " 1   Platform         16956 non-null  object \n",
            " 2   Year of Release  16681 non-null  float64\n",
            " 3   Genre            16954 non-null  object \n",
            " 4   NA sales         16956 non-null  float64\n",
            " 5   EU sales         16956 non-null  object \n",
            " 6   JP sales         16956 non-null  object \n",
            " 7   Other sales      16956 non-null  float64\n",
            " 8   Critic Score     8242 non-null   float64\n",
            " 9   User Score       10152 non-null  object \n",
            " 10  Rating           10085 non-null  object \n",
            "dtypes: float64(4), object(7)\n",
            "memory usage: 1.4+ MB\n"
          ]
        }
      ],
      "execution_count": 4
    },
    {
      "id": "05f55eb6",
      "cell_type": "markdown",
      "source": "<font color='#7030a0'> Промежуточные выводы:\n1. Датафрейм содержит 16956 записей и 11 столбцов из них есть пропущенные значения в следующих столбцах:\n- `Name` и 'Genre' (2 пропуска).\n- `Year of Release`(275 пропусков).\n- `Critic Score` (менее половины значений заполнено).\n- `User Score` и `Rating`(пропущены значения).\n2. Некорректные типы данных:\n- `Year of Release` float64 (возможно из-за пропусков).\n- `EU sales` и `JP sales` представлены как object, а должны быть числовыми (float).\n- `User Score` тип object, но должно быть числовой.\nПропуски и аномалии могут повлиять на качество анализа, особенно в столбцах с оценками и продажами.\n3. Названия столбцов:\n- Названия столбцов содержат пробелы и не согласованы с общими стандартами оформления данных (например, Year of Release, NA sales, EU sales и т.д.).\n- Рекомендуется привести названия к удобному для работы формату, например, в стиле snake_case: year_of_release, na_sales, eu_sales.\n4. Аномалии в данных:\n- Продажи (NA sales, EU sales, JP sales, Other sales)\n- Проверить значения на предмет отрицательных или аномально высоких значений.\n5. Шкала оценок:\n- Critic Score: Представлена в 100-балльной шкале.\n- User Score: Представлена в 10-балльной шкале. Для удобства можно привести их к единой шкале.\n6.Дублирующиеся строки\n- Возможно наличие дубликатов, которые стоит выявить и удалить.\n</font>",
      "metadata": {}
    },
    {
      "id": "774bf76e",
      "cell_type": "markdown",
      "source": "---\n\n## 2.  Проверка ошибок в данных и их предобработка\n\n\n### 2.1. Названия, или метки, столбцов датафрейма: \n\n- Выведите на экран названия всех столбцов датафрейма и проверьте их стиль написания. \n- Приведите все столбцы к стилю snake case. Названия должны быть в нижнем регистре, а вместо пробелов — подчёркивания.",
      "metadata": {}
    },
    {
      "id": "b9276a2b",
      "cell_type": "code",
      "source": "# Выведем наименование столбцов датафрейма\ndf.columns",
      "metadata": {},
      "outputs": [
        {
          "data": {
            "text/plain": [
              "Index(['Name', 'Platform', 'Year of Release', 'Genre', 'NA sales', 'EU sales',\n",
              "       'JP sales', 'Other sales', 'Critic Score', 'User Score', 'Rating'],\n",
              "      dtype='object')"
            ]
          },
          "execution_count": 5,
          "metadata": {},
          "output_type": "execute_result"
        }
      ],
      "execution_count": 5
    },
    {
      "id": "d554563c",
      "cell_type": "code",
      "source": "# Приведем названия столбцов к удобному для работы формату, в стиле snake_case.\ndf=df.rename(columns={'Year of Release':'Year_of_Release',\n                          'NA sales':'NA_sales',\n                          'EU sales':'EU_sales',\n                          'JP sales':'JP_sales',\n                          'Other sales':'Other_sales',\n                          'Critic Score':'Critic_Score',\n                          'User Score':'User_Score'})\n    #После замены наименований переведем все имена столбцов в нижний регистр\ndf.columns = df.columns.str.lower()",
      "metadata": {},
      "outputs": [],
      "execution_count": 6
    },
    {
      "id": "87b573dd",
      "cell_type": "code",
      "source": "# Вывеем обновленное название столбцов датафрейма\ndf.columns",
      "metadata": {},
      "outputs": [
        {
          "data": {
            "text/plain": [
              "Index(['name', 'platform', 'year_of_release', 'genre', 'na_sales', 'eu_sales',\n",
              "       'jp_sales', 'other_sales', 'critic_score', 'user_score', 'rating'],\n",
              "      dtype='object')"
            ]
          },
          "execution_count": 7,
          "metadata": {},
          "output_type": "execute_result"
        }
      ],
      "execution_count": 7
    },
    {
      "id": "41bc6bf8",
      "cell_type": "markdown",
      "source": "### 2.2. Типы данных: \n\n- Если встречаются некорректные типы данных, предположите их причины.\n- При необходимости проведите преобразование типов данных. Помните, что столбцы с числовыми данными и пропусками нельзя преобразовать к типу int64. Сначала вам понадобится обработать пропуски, а затем преобразовать типы данных. \n- В числовых столбцах могут встретиться строковые значения, например, `unknown` или другие. Приводите такие столбцы к числовому типу данных, заменив строковые значения на пропуски.",
      "metadata": {}
    },
    {
      "id": "e8412c01",
      "cell_type": "code",
      "source": "#Выведем значения столбца, которые не являются числовыми\ncolumns_to_check = ['eu_sales', 'jp_sales', 'user_score']\n\nfor column in columns_to_check:\n    non_numeric_values = df[~pd.to_numeric(df[column], errors='coerce').notna()]\n    print(f\"Нечисловые значения в '{column}':\")\n    print(non_numeric_values[column].head())\n    print()",
      "metadata": {},
      "outputs": [
        {
          "name": "stdout",
          "output_type": "stream",
          "text": [
            "Нечисловые значения в 'eu_sales':\n",
            "446     unknown\n",
            "802     unknown\n",
            "1131    unknown\n",
            "1132    unknown\n",
            "1394    unknown\n",
            "Name: eu_sales, dtype: object\n",
            "\n",
            "Нечисловые значения в 'jp_sales':\n",
            "467     unknown\n",
            "819     unknown\n",
            "1379    unknown\n",
            "4732    unknown\n",
            "Name: jp_sales, dtype: object\n",
            "\n",
            "Нечисловые значения в 'user_score':\n",
            "1     NaN\n",
            "4     NaN\n",
            "5     NaN\n",
            "9     NaN\n",
            "10    NaN\n",
            "Name: user_score, dtype: object\n",
            "\n"
          ]
        }
      ],
      "execution_count": 8
    },
    {
      "id": "5540873d",
      "cell_type": "code",
      "source": "# Список столбцов, которые нужно преобразовать в числовой формат\ncolumns_to_convert = ['eu_sales', 'jp_sales', 'user_score']\n\n# Преобразование каждого столбца с помощью цикла\nfor column in columns_to_convert:\n    df[column] = pd.to_numeric(df[column], errors='coerce')\n",
      "metadata": {},
      "outputs": [],
      "execution_count": 9
    },
    {
      "id": "cb8c580f",
      "cell_type": "code",
      "source": "#Год представлен в формате float64. Нужно проверить на аномальные значения\nmax_year=df['year_of_release'].max()\nmin_year=df['year_of_release'].min()\nprint (f\"Максимальный год выпуска: {max_year},Минимальный год выпуска:{min_year}\")",
      "metadata": {},
      "outputs": [
        {
          "name": "stdout",
          "output_type": "stream",
          "text": [
            "Максимальный год выпуска: 2016.0,Минимальный год выпуска:1980.0\n"
          ]
        }
      ],
      "execution_count": 10
    },
    {
      "id": "7b6083c9",
      "cell_type": "code",
      "source": "#Преобразуем год в формат даты(год)\ndf['year_of_release'] = pd.to_datetime(df['year_of_release'], format='%Y', errors='coerce')",
      "metadata": {},
      "outputs": [],
      "execution_count": 11
    },
    {
      "id": "c4d753ac",
      "cell_type": "code",
      "source": "# Сохраняем количество строк до удаления\ninitial_row_count = df.shape[0]\n\n# Удаляем строки с пропусками в 'year_of_release'\ndf = df.dropna(subset=['year_of_release']).reset_index(drop=True)\n\nremoved_row_count = initial_row_count - df.shape[0]\nprint(f'Количество удаленных строк: {removed_row_count}')\nprint(f'Количество оставшихся строк: {df.shape[0]}')",
      "metadata": {},
      "outputs": [
        {
          "name": "stdout",
          "output_type": "stream",
          "text": [
            "Количество удаленных строк: 275\n",
            "Количество оставшихся строк: 16681\n"
          ]
        }
      ],
      "execution_count": 12
    },
    {
      "id": "8eed6650",
      "cell_type": "code",
      "source": "# Проверяем изменение типов\ndf.dtypes[['year_of_release','eu_sales', 'jp_sales','user_score']]",
      "metadata": {
        "scrolled": true
      },
      "outputs": [
        {
          "data": {
            "text/plain": [
              "year_of_release    datetime64[ns]\n",
              "eu_sales                  float64\n",
              "jp_sales                  float64\n",
              "user_score                float64\n",
              "dtype: object"
            ]
          },
          "execution_count": 13,
          "metadata": {},
          "output_type": "execute_result"
        }
      ],
      "execution_count": 13
    },
    {
      "id": "d58cd980",
      "cell_type": "markdown",
      "source": "<font color='#7030a0'> Промежуточные выводы:\n1. Замечен неверный тип для следующих столбцов:  `EU sales`, `JP sales`, `User Score` , `Year of release`;\n2. В связи с тем что в `EU sales`, `JP sales`, `User Score` хранится важная информация по продажам и ср оценкам было принято преобразовать к типу `float64`.Пропущенные значения становятся NaN;\n2. `Year of release` преобразовали к типу `datetime64`.Удалили пропуски\n</font>",
      "metadata": {}
    },
    {
      "id": "b39893cb",
      "cell_type": "markdown",
      "source": "### 2.3. Наличие пропусков в данных: \n\n- Посчитайте количество пропусков в каждом столбце в абсолютных и относительных значениях.\n- Изучите данные с пропущенными значениями. Напишите промежуточный вывод: для каких столбцов характерны пропуски и сколько их. Предположите, почему пропуски могли возникнуть. Укажите, какие действия с этими данными можно сделать и почему.\n- Обработайте пропущенные значения. Для каждого случая вы можете выбрать оптимальный, на ваш взгляд, вариант: заменить на определённое значение, оставить как есть или удалить.\n- Если вы решите заменить пропуски на значение-индикатор, то убедитесь, что предложенное значение не может быть использовано в данных.\n- Если вы нашли пропуски в данных с количеством проданных копий игры в том или ином регионе, их можно заменить на среднее значение в зависимости от названия платформы и года выхода игры.",
      "metadata": {}
    },
    {
      "id": "0f1c91a8",
      "cell_type": "code",
      "source": "# Выводим количество пропущенных строк в датафрейме\ndf.isna().sum()",
      "metadata": {
        "scrolled": true
      },
      "outputs": [
        {
          "data": {
            "text/plain": [
              "name                  2\n",
              "platform              0\n",
              "year_of_release       0\n",
              "genre                 2\n",
              "na_sales              0\n",
              "eu_sales              6\n",
              "jp_sales              4\n",
              "other_sales           0\n",
              "critic_score       8596\n",
              "user_score         9123\n",
              "rating             6780\n",
              "dtype: int64"
            ]
          },
          "execution_count": 14,
          "metadata": {},
          "output_type": "execute_result"
        }
      ],
      "execution_count": 14
    },
    {
      "id": "86cd1cc1",
      "cell_type": "code",
      "source": "# Подсчитываем процент строк с пропусками\nround(df.isna().sum() / len(df) * 100,1)",
      "metadata": {},
      "outputs": [
        {
          "data": {
            "text/plain": [
              "name                0.0\n",
              "platform            0.0\n",
              "year_of_release     0.0\n",
              "genre               0.0\n",
              "na_sales            0.0\n",
              "eu_sales            0.0\n",
              "jp_sales            0.0\n",
              "other_sales         0.0\n",
              "critic_score       51.5\n",
              "user_score         54.7\n",
              "rating             40.6\n",
              "dtype: float64"
            ]
          },
          "execution_count": 15,
          "metadata": {},
          "output_type": "execute_result"
        }
      ],
      "execution_count": 15
    },
    {
      "id": "74cb4419",
      "cell_type": "markdown",
      "source": "<font color='#7030a0'> Промежуточные выводы:\n1. `name` — 2 пропуска,`genre` — 2 пропуска:\n- Причина пропусков: Возможные пропуски в столбце с названием игры могут быть связаны с отсутствием информации о названии игры в редких или незавершенных записях. \n- Действия: данные строки также можно удалить.   \n2. `critic_score` — 8714 пропусков:\n- Причина пропусков: Пропуски в данном столбце могут возникать, если игра не была оценена критиками или данные о критиках для этой игры отсутствуют. \n- Действия: Категоризировать в отдельную группу \"Без оценки\",заменить на значение-индикатор(-1) так как доля игр 51.4%\n3. `user_score` — 9268 пропусков:\n- Причина пропусков: Это могут быть игры, для которых нет пользовательских оценок, либо они были удалены.\n- Действия: Категоризировать в отдельную группу \"Без оценки\",заменить на значение-индикатор(-1) так как доля игр 54.7%\n4. `eu_sales`, `jp_sales` в ходе изменения формата было выявлено содержание текстового значения 'unknown' \n- Причина пропусков: Пропуски могут возникать в случае отсутствия записи или неверный ввод данных.\n- Действия: заменить на среднее значение в зависимости от названия платформы и года выхода игры.\n5. `rating` — 6871 пропусков\n- Причина пропусков: Пропуски в столбце с рейтингами могут быть связаны с отсутствием информации о возрастном рейтинге игры, либо этот параметр не был определён для игры.\n  - Действия: Заменить пропуски заглушкой \"Unknown\"\n</font>",
      "metadata": {}
    },
    {
      "id": "fe82ffc4",
      "cell_type": "markdown",
      "source": "*Удаляем пропуски.*",
      "metadata": {}
    },
    {
      "id": "45ba8e35",
      "cell_type": "code",
      "source": "# Сохраняем количество строк до удаления\ninitial_row_count = df.shape[0]\n\n# Удаляем строки с пропусками в 'name'\ndf = df.dropna(subset=['name']).reset_index(drop=True)\n\nremoved_row_count = initial_row_count - df.shape[0]\nprint(f'Количество удаленных строк: {removed_row_count}')\nprint(f'Количество оставшихся строк: {df.shape[0]}')",
      "metadata": {},
      "outputs": [
        {
          "name": "stdout",
          "output_type": "stream",
          "text": [
            "Количество удаленных строк: 2\n",
            "Количество оставшихся строк: 16679\n"
          ]
        }
      ],
      "execution_count": 16
    },
    {
      "id": "c5ab2681",
      "cell_type": "code",
      "source": "# Сохраняем количество строк до удаления\ninitial_row_count = df.shape[0]\n\n# Удаляем строки с пропусками в 'genre'\ndf = df.dropna(subset=['genre']).reset_index(drop=True)\n\nremoved_row_count = initial_row_count - df.shape[0]\nprint(f'Количество удаленных строк: {removed_row_count}')\nprint(f'Количество оставшихся строк: {df.shape[0]}')",
      "metadata": {},
      "outputs": [
        {
          "name": "stdout",
          "output_type": "stream",
          "text": [
            "Количество удаленных строк: 0\n",
            "Количество оставшихся строк: 16679\n"
          ]
        }
      ],
      "execution_count": 17
    },
    {
      "id": "6dcba43e",
      "cell_type": "markdown",
      "source": "<font color='#7030a0'> Промежуточные выводы:\n1. Удалили пустые строки по столбцу `name`;\n2. После удаления пустых строк по столбцу `name` в столбце `genre` пустых строк не обнаружено\n</font>",
      "metadata": {}
    },
    {
      "id": "b83b2a62",
      "cell_type": "markdown",
      "source": "*Замена пустых значений на заглушку*",
      "metadata": {}
    },
    {
      "id": "cab4b43f",
      "cell_type": "code",
      "source": "#Проверяем уникальные значения\nprint(df['rating'].unique())",
      "metadata": {},
      "outputs": [
        {
          "name": "stdout",
          "output_type": "stream",
          "text": [
            "['E' nan 'M' 'T' 'E10+' 'K-A' 'AO' 'EC' 'RP']\n"
          ]
        }
      ],
      "execution_count": 18
    },
    {
      "id": "b045a9ef",
      "cell_type": "code",
      "source": "df['old_rating']=df['rating']\n# Заполняем пропуски значение-индикаторами\ndf['rating']= df['rating'].fillna(\"Unknown\")\nchanged_rows=df[df['old_rating'].isna()]\n# Отображаем изменённые строки\nprint(changed_rows[['old_rating', 'rating']].head())",
      "metadata": {
        "scrolled": true
      },
      "outputs": [
        {
          "name": "stdout",
          "output_type": "stream",
          "text": [
            "   old_rating   rating\n",
            "1         NaN  Unknown\n",
            "4         NaN  Unknown\n",
            "5         NaN  Unknown\n",
            "9         NaN  Unknown\n",
            "10        NaN  Unknown\n"
          ]
        }
      ],
      "execution_count": 19
    },
    {
      "id": "84521ebe",
      "cell_type": "code",
      "source": "#Проверяем уникальные значения\nprint(df['user_score'].unique())",
      "metadata": {},
      "outputs": [
        {
          "name": "stdout",
          "output_type": "stream",
          "text": [
            "[8.  nan 8.3 8.5 6.6 8.4 8.6 7.7 6.3 7.4 8.2 9.  7.9 8.1 8.7 7.1 3.4 5.3\n",
            " 4.8 3.2 8.9 6.4 7.8 7.5 2.6 7.2 9.2 7.  7.3 4.3 7.6 5.7 5.  9.1 6.5 8.8\n",
            " 6.9 9.4 6.8 6.1 6.7 5.4 4.  4.9 4.5 9.3 6.2 4.2 6.  3.7 4.1 5.8 5.6 5.5\n",
            " 4.4 4.6 5.9 3.9 3.1 2.9 5.2 3.3 4.7 5.1 3.5 2.5 1.9 3.  2.7 2.2 2.  9.5\n",
            " 2.1 3.6 2.8 1.8 3.8 0.  1.6 9.6 2.4 1.7 1.1 0.3 1.5 0.7 1.2 2.3 0.5 1.3\n",
            " 0.2 0.6 1.4 0.9 1.  9.7]\n"
          ]
        }
      ],
      "execution_count": 20
    },
    {
      "id": "25b1d4bd",
      "cell_type": "code",
      "source": "df['old_user_score']=df['user_score']\n# Заполняем пропуски значение-индикаторами\ndf['user_score']=df['user_score'].fillna(-1)\nchanged_rows=df[df['old_user_score'].isna()]\n# Отображаем изменённые строки\nprint(changed_rows[['old_user_score', 'user_score']].head())",
      "metadata": {},
      "outputs": [
        {
          "name": "stdout",
          "output_type": "stream",
          "text": [
            "    old_user_score  user_score\n",
            "1              NaN        -1.0\n",
            "4              NaN        -1.0\n",
            "5              NaN        -1.0\n",
            "9              NaN        -1.0\n",
            "10             NaN        -1.0\n"
          ]
        }
      ],
      "execution_count": 21
    },
    {
      "id": "f31507e0",
      "cell_type": "code",
      "source": "#Проверяем уникальные значения\nprint(df['critic_score'].unique())",
      "metadata": {},
      "outputs": [
        {
          "name": "stdout",
          "output_type": "stream",
          "text": [
            "[76. nan 82. 80. 89. 58. 87. 91. 61. 97. 95. 77. 88. 83. 94. 93. 85. 86.\n",
            " 98. 96. 90. 84. 73. 74. 78. 92. 71. 72. 68. 62. 49. 67. 81. 66. 56. 79.\n",
            " 70. 59. 64. 75. 60. 63. 69. 50. 25. 42. 44. 55. 48. 57. 29. 47. 65. 54.\n",
            " 20. 53. 37. 38. 33. 52. 30. 32. 43. 45. 51. 40. 46. 39. 34. 41. 36. 31.\n",
            " 27. 35. 26. 19. 28. 23. 24. 21. 17. 13.]\n"
          ]
        }
      ],
      "execution_count": 22
    },
    {
      "id": "1f200e17",
      "cell_type": "code",
      "source": "df['old_critic_score']=df['critic_score']\n# Заполняем пропуски значение-индикаторами\ndf['critic_score']=df['critic_score'].fillna(-1)\nchanged_rows=df[df['old_critic_score'].isna()]\n# Отображаем изменённые строки\nprint(changed_rows[['old_critic_score', 'critic_score']].head())",
      "metadata": {},
      "outputs": [
        {
          "name": "stdout",
          "output_type": "stream",
          "text": [
            "    old_critic_score  critic_score\n",
            "1                NaN          -1.0\n",
            "4                NaN          -1.0\n",
            "5                NaN          -1.0\n",
            "9                NaN          -1.0\n",
            "10               NaN          -1.0\n"
          ]
        }
      ],
      "execution_count": 23
    },
    {
      "id": "29067e99",
      "cell_type": "code",
      "source": "#Значение количества копий игр заменяем на ср значения в зависимости от названия платформы и года выхода игры(Европа).\ndf['old_eu_sales']=df['eu_sales']\n# Определяем функцию для замены значений\ndef mean_group_eu_sales(row):\n    if pd.isna(row['eu_sales']):\n        group = df[\n            (df['platform'] == row['platform']) &\n            (df['year_of_release'] == row['year_of_release'])\n        ]\n        return group['eu_sales'].mean()\n    else:\n        return row['eu_sales']\n\n# Применяем функцию по строкам\ndf['eu_sales'] = df.apply(mean_group_eu_sales, axis=1)\nchanged_rows=df[df['old_eu_sales'].isna()]\n# Отображаем изменённые строки\nprint(changed_rows[['old_eu_sales', 'eu_sales']].head())  ",
      "metadata": {},
      "outputs": [
        {
          "name": "stdout",
          "output_type": "stream",
          "text": [
            "      old_eu_sales  eu_sales\n",
            "444            NaN  0.063883\n",
            "792            NaN  0.109785\n",
            "1120           NaN  0.213784\n",
            "1121           NaN  0.291000\n",
            "1380           NaN  0.100449\n"
          ]
        }
      ],
      "execution_count": 24
    },
    {
      "id": "65afa6a5",
      "cell_type": "code",
      "source": "#Значение количества копий игр заменяем на ср значения в зависимости от названия платформы и года выхода игры(Япония).\ndf['old_jp_sales']=df['jp_sales']\n# Определяем функцию для замены значений\ndef mean_group_jp_sales(row):\n    if pd.isna(row['jp_sales']):\n        group = df[\n            (df['platform'] == row['platform']) &\n            (df['year_of_release'] == row['year_of_release'])\n        ]\n        return group['jp_sales'].mean()\n    else:\n        return row['jp_sales']\n\n# Применяем функцию по строкам\ndf['jp_sales'] = df.apply(mean_group_jp_sales, axis=1)\nchanged_rows=df[df['old_jp_sales'].isna()]\n# Отображаем изменённые строки\nprint(changed_rows[['old_jp_sales', 'jp_sales']].head())  ",
      "metadata": {},
      "outputs": [
        {
          "name": "stdout",
          "output_type": "stream",
          "text": [
            "      old_jp_sales  jp_sales\n",
            "464            NaN  0.012721\n",
            "808            NaN  0.011322\n",
            "1365           NaN  0.071260\n",
            "4666           NaN  0.043060\n"
          ]
        }
      ],
      "execution_count": 25
    },
    {
      "id": "96787751",
      "cell_type": "code",
      "source": "# Удаляем промежуточные столбцы\ndf.drop(columns=['old_rating','old_user_score','old_critic_score','old_eu_sales','old_jp_sales'], inplace=True)\n# Выводим количество пропущенных строк в датафрейме после обработки данных\ndf.isna().sum()",
      "metadata": {},
      "outputs": [
        {
          "data": {
            "text/plain": [
              "name               0\n",
              "platform           0\n",
              "year_of_release    0\n",
              "genre              0\n",
              "na_sales           0\n",
              "eu_sales           0\n",
              "jp_sales           0\n",
              "other_sales        0\n",
              "critic_score       0\n",
              "user_score         0\n",
              "rating             0\n",
              "dtype: int64"
            ]
          },
          "execution_count": 26,
          "metadata": {},
          "output_type": "execute_result"
        }
      ],
      "execution_count": 26
    },
    {
      "id": "114d2872",
      "cell_type": "markdown",
      "source": "<font color='#7030a0'> Промежуточные выводы:\n1. После проведения работы над пропусками, пустых значений не осталось.\n2. Проделанная работа:\n    -  `name` — удалены пустые строки \n    - `critic_score`,`user_score` — пропуски заменены на значение-индикатор(-1)=\n    - `eu_sales`, `jp_sales` - пропуски были заменены на среднее значение в зависимости от названия платформы и года выхода игры.\n    -`rating` -  пропуски были заменены заглушкой \"Unknown\"\n</font>",
      "metadata": {}
    },
    {
      "id": "a63363fd",
      "cell_type": "markdown",
      "source": "### 2.4. Явные и неявные дубликаты в данных: \n\n- Изучите уникальные значения в категориальных данных, например с названиями жанра игры, платформы, рейтинга и года выпуска. Проверьте, встречаются ли среди данных неявные дубликаты, связанные с опечатками или разным способом написания.\n- При необходимости проведите нормализацию данных с текстовыми значениями. Названия или жанры игр можно привести к нижнему регистру, а названия рейтинга — к верхнему.\n- После того как нормализуете данные и устраните неявные дубликаты, проверьте наличие явных дубликатов в данных.\n- Напишите промежуточный вывод: укажите количество найденных дубликатов и действия по их обработке.\n\nВ процессе подготовки данных вы могли удалять данные, например строки с пропусками или ошибками, дубликаты и прочее. В этом случае посчитайте количество удалённых строк в абсолютном и относительном значениях. После проведения предобработки данных напишите общий промежуточный вывод.",
      "metadata": {}
    },
    {
      "id": "6457494a",
      "cell_type": "code",
      "source": "#Выводим часть уникальных значений имен, так как по предворительный подсчетам их 11560 значений\nunique_count = df['name'].nunique()\nprint(f'Количество уникальных значений {unique_count}')\nprint(df['name'].unique())",
      "metadata": {
        "scrolled": true
      },
      "outputs": [
        {
          "name": "stdout",
          "output_type": "stream",
          "text": [
            "Количество уникальных значений 11426\n",
            "['Wii Sports' 'Super Mario Bros.' 'Mario Kart Wii' ...\n",
            " 'Woody Woodpecker in Crazy Castle 5' 'LMA Manager 2007'\n",
            " 'Haitaka no Psychedelica']\n"
          ]
        }
      ],
      "execution_count": 27
    },
    {
      "id": "e2a618f8",
      "cell_type": "code",
      "source": "df['old_name']=df['name']\n# Проводим нормализацию данных с текстовыми значениями:\ndf['name']=df['name'].str.lower()\n# Отображаем изменённые строки\nchanged_rows=df[df['old_name']!=df['name']]\nprint(changed_rows[['old_name', 'name']].head())",
      "metadata": {},
      "outputs": [
        {
          "name": "stdout",
          "output_type": "stream",
          "text": [
            "                   old_name                      name\n",
            "0                Wii Sports                wii sports\n",
            "1         Super Mario Bros.         super mario bros.\n",
            "2            Mario Kart Wii            mario kart wii\n",
            "3         Wii Sports Resort         wii sports resort\n",
            "4  Pokemon Red/Pokemon Blue  pokemon red/pokemon blue\n"
          ]
        }
      ],
      "execution_count": 28
    },
    {
      "id": "96fb7c84",
      "cell_type": "code",
      "source": "#Выводим уникальные значения жанра\nunique_genre=df['genre'].unique()\nprint(list(unique_genre))",
      "metadata": {
        "scrolled": true
      },
      "outputs": [
        {
          "name": "stdout",
          "output_type": "stream",
          "text": [
            "['Sports', 'Platform', 'Racing', 'Role-Playing', 'Puzzle', 'Misc', 'Shooter', 'Simulation', 'Action', 'Fighting', 'Adventure', 'Strategy', 'MISC', 'ROLE-PLAYING', 'RACING', 'ACTION', 'SHOOTER', 'FIGHTING', 'SPORTS', 'PLATFORM', 'ADVENTURE', 'SIMULATION', 'PUZZLE', 'STRATEGY']\n"
          ]
        }
      ],
      "execution_count": 29
    },
    {
      "id": "bb3b3e3f",
      "cell_type": "code",
      "source": "df['old_genre']=df['genre']\n# Проводим нормализацию данных с текстовыми значениями:\ndf['genre']=df['genre'].str.lower()\n# Отображаем изменённые строки\nchanged_rows=df[df['old_genre']!=df['genre']]\nprint(changed_rows[['old_genre', 'genre']].head())",
      "metadata": {
        "scrolled": true
      },
      "outputs": [
        {
          "name": "stdout",
          "output_type": "stream",
          "text": [
            "      old_genre         genre\n",
            "0        Sports        sports\n",
            "1      Platform      platform\n",
            "2        Racing        racing\n",
            "3        Sports        sports\n",
            "4  Role-Playing  role-playing\n"
          ]
        }
      ],
      "execution_count": 30
    },
    {
      "id": "5f0a1b05",
      "cell_type": "code",
      "source": "#Выводим уникальные значения платформы\nunique_platfortm=df['platform'].unique()\nprint(list(unique_platfortm))",
      "metadata": {
        "scrolled": true
      },
      "outputs": [
        {
          "name": "stdout",
          "output_type": "stream",
          "text": [
            "['Wii', 'NES', 'GB', 'DS', 'X360', 'PS3', 'PS2', 'SNES', 'GBA', 'PS4', '3DS', 'N64', 'PS', 'XB', 'PC', '2600', 'PSP', 'XOne', 'WiiU', 'GC', 'GEN', 'DC', 'PSV', 'SAT', 'SCD', 'WS', 'NG', 'TG16', '3DO', 'GG', 'PCFX']\n"
          ]
        }
      ],
      "execution_count": 31
    },
    {
      "id": "214c1258",
      "cell_type": "code",
      "source": "df['old_platform']=df['platform']\n# Проводим нормализацию данных с текстовыми значениями:\ndf['platform']=df['platform'].str.upper()\n# Отображаем изменённые строки\nchanged_rows=df[df['old_platform']!=df['platform']]\nprint(changed_rows[['old_platform', 'platform']].head())",
      "metadata": {},
      "outputs": [
        {
          "name": "stdout",
          "output_type": "stream",
          "text": [
            "  old_platform platform\n",
            "0          Wii      WII\n",
            "2          Wii      WII\n",
            "3          Wii      WII\n",
            "7          Wii      WII\n",
            "8          Wii      WII\n"
          ]
        }
      ],
      "execution_count": 32
    },
    {
      "id": "65061454",
      "cell_type": "code",
      "source": "# Выводим уникальные значения рейтинга\nunique_rating_before = df['rating'].unique()\nprint(f'Старый уникальный рейтинг: {list(unique_rating_before)}')\n\n# Изменим имя рейтинга 'K-A' на 'E'\ndf['rating'] = df['rating'].replace({'K-A': 'E'})\n\n# Выводим уникальные значения после изменения\nunique_rating_after = df['rating'].unique()\nprint(f'Обновленный уникальный рейтинг: {list(unique_rating_after)}')\n",
      "metadata": {},
      "outputs": [
        {
          "name": "stdout",
          "output_type": "stream",
          "text": [
            "Старый уникальный рейтинг: ['E', 'Unknown', 'M', 'T', 'E10+', 'K-A', 'AO', 'EC', 'RP']\n",
            "Обновленный уникальный рейтинг: ['E', 'Unknown', 'M', 'T', 'E10+', 'AO', 'EC', 'RP']\n"
          ]
        }
      ],
      "execution_count": 33
    },
    {
      "id": "48469c2a",
      "cell_type": "code",
      "source": "df['old_rating']=df['rating']\n# Проводим нормализацию данных с текстовыми значениями:\ndf['rating']=df['rating'].str.upper()\n# Отображаем изменённые строки\nchanged_rows=df[df['old_rating']!=df['rating']]\nprint(changed_rows[['old_rating', 'rating']].head())",
      "metadata": {
        "scrolled": true
      },
      "outputs": [
        {
          "name": "stdout",
          "output_type": "stream",
          "text": [
            "   old_rating   rating\n",
            "1     Unknown  UNKNOWN\n",
            "4     Unknown  UNKNOWN\n",
            "5     Unknown  UNKNOWN\n",
            "9     Unknown  UNKNOWN\n",
            "10    Unknown  UNKNOWN\n"
          ]
        }
      ],
      "execution_count": 34
    },
    {
      "id": "dbf3d81b",
      "cell_type": "markdown",
      "source": "<font color='#7030a0'> Промежуточные выводы:\n1. `name` — обнаружено большое множество неявных дубликатов, а так же использование разных форматов выделения наименований:\" \" и ' '\nДействия: Если последующеее использования наименований не требуется, можно оставить без изменения.\n2. `genre` — после преобразования данных неявных дубликатов не выявлено. \n3. `platform` — после преобразования данных неявных дубликатов не выявлено. \n4. `rating` — после преобразования данных неявных дубликатов не выявлено.    \n</font>",
      "metadata": {}
    },
    {
      "id": "399bbbab",
      "cell_type": "code",
      "source": "#проверяем дубликаты по всем столбцам\ninitial_row_count = df.shape[0]\nprint(f'Количество строк до удаления дубликатов: {initial_row_count}')\n\n# Найдем дублирующиеся строки\nduplicates = df[df.duplicated()]\n\n# Удалии дублирующиеся строки\ndf = df.drop_duplicates()\n\n# Определим количество строк в датафрейме после удаления дубликатов\nfinal_row_count = df.shape[0]\ndeleted_total=initial_row_count-final_row_count\ndeleted_total_prc=round((deleted_total/initial_row_count)*100,2)\nprint(f'Количество строк после удаления дубликатов: {final_row_count}')\nprint(f'Удалено строк: {deleted_total}')\nprint(f'Процент удаленных строк: {deleted_total_prc}%')",
      "metadata": {
        "scrolled": true
      },
      "outputs": [
        {
          "name": "stdout",
          "output_type": "stream",
          "text": [
            "Количество строк до удаления дубликатов: 16679\n",
            "Количество строк после удаления дубликатов: 16500\n",
            "Удалено строк: 179\n",
            "Процент удаленных строк: 1.07%\n"
          ]
        }
      ],
      "execution_count": 35
    },
    {
      "id": "28ce28c2",
      "cell_type": "markdown",
      "source": "<font color='#7030a0'> Промежуточные выводы:\n- Столбцы `name` и `genre`привели к нижнему регистру;\n- Столбцы `platform` и `rating`привели к верхнему регистру;   \n- Количество строк до удаления дубликатов: 16679\n- Количество строк после удаления дубликатов: 16500\n- Удалено строк: 179\n- Процент удаленных строк: 1.0%\n</font>",
      "metadata": {}
    },
    {
      "id": "613f0eb0",
      "cell_type": "markdown",
      "source": "---\n\n## 3. Фильтрация данных\n\nКоллеги хотят изучить историю продаж игр в начале XXI века, и их интересует период с 2000 по 2013 год включительно. Отберите данные по этому показателю. Сохраните новый срез данных в отдельном датафрейме, например `df_actual`.",
      "metadata": {}
    },
    {
      "id": "2344916d",
      "cell_type": "code",
      "source": "#Поставим фильтры на года и применим сортировку\ndf_actual=df[\n    (df['year_of_release']>='2000-01-01 00:00:00')&\n    (df['year_of_release']<='2013-12-31 00:00:00')\n]\n\n#Сортируем датафрем по стобцу year of release:\ndf_sorted=df_actual.sort_values(by='year_of_release')\n#Выведем год в формате YYYY\ndf_sorted['year_of_release_YYYY'] = df_sorted['year_of_release'].dt.year",
      "metadata": {},
      "outputs": [],
      "execution_count": 36
    },
    {
      "id": "445b29eb",
      "cell_type": "code",
      "source": "# Посчитаем сумму продаж и средний рейтин по годам \ngrouped_data_y=df_sorted.groupby('year_of_release_YYYY').agg({\n                        'na_sales':'sum',\n                        'eu_sales':'sum',\n                        'jp_sales':'sum',\n                        'other_sales':'sum'\n})\n# Добавляем итоговый столбец, который будет суммировать все продажи\ngrouped_data_y['total_sales'] = grouped_data_y['na_sales'] + grouped_data_y['eu_sales'] + grouped_data_y['jp_sales'] + grouped_data_y['other_sales']\ngrouped_data_y['na_sales_share']=round(grouped_data_y['na_sales']/grouped_data_y['total_sales']*100,0)\ngrouped_data_y['eu_sales_share']=round(grouped_data_y['eu_sales']/grouped_data_y['total_sales']*100,0)\ngrouped_data_y['jp_sales_share']=round(grouped_data_y['jp_sales']/grouped_data_y['total_sales']*100,0)\ngrouped_data_y['other_sales_share']=round(grouped_data_y['other_sales']/grouped_data_y['total_sales']*100,0)\ndisplay(grouped_data_y)",
      "metadata": {
        "scrolled": true
      },
      "outputs": [
        {
          "data": {
            "text/html": [
              "<div>\n",
              "<style scoped>\n",
              "    .dataframe tbody tr th:only-of-type {\n",
              "        vertical-align: middle;\n",
              "    }\n",
              "\n",
              "    .dataframe tbody tr th {\n",
              "        vertical-align: top;\n",
              "    }\n",
              "\n",
              "    .dataframe thead th {\n",
              "        text-align: right;\n",
              "    }\n",
              "</style>\n",
              "<table border=\"1\" class=\"dataframe\">\n",
              "  <thead>\n",
              "    <tr style=\"text-align: right;\">\n",
              "      <th></th>\n",
              "      <th>na_sales</th>\n",
              "      <th>eu_sales</th>\n",
              "      <th>jp_sales</th>\n",
              "      <th>other_sales</th>\n",
              "      <th>total_sales</th>\n",
              "      <th>na_sales_share</th>\n",
              "      <th>eu_sales_share</th>\n",
              "      <th>jp_sales_share</th>\n",
              "      <th>other_sales_share</th>\n",
              "    </tr>\n",
              "    <tr>\n",
              "      <th>year_of_release_YYYY</th>\n",
              "      <th></th>\n",
              "      <th></th>\n",
              "      <th></th>\n",
              "      <th></th>\n",
              "      <th></th>\n",
              "      <th></th>\n",
              "      <th></th>\n",
              "      <th></th>\n",
              "      <th></th>\n",
              "    </tr>\n",
              "  </thead>\n",
              "  <tbody>\n",
              "    <tr>\n",
              "      <th>2000</th>\n",
              "      <td>95.13</td>\n",
              "      <td>53.140000</td>\n",
              "      <td>42.770000</td>\n",
              "      <td>11.68</td>\n",
              "      <td>202.720000</td>\n",
              "      <td>47.0</td>\n",
              "      <td>26.0</td>\n",
              "      <td>21.0</td>\n",
              "      <td>6.0</td>\n",
              "    </tr>\n",
              "    <tr>\n",
              "      <th>2001</th>\n",
              "      <td>175.14</td>\n",
              "      <td>95.430000</td>\n",
              "      <td>40.260000</td>\n",
              "      <td>22.84</td>\n",
              "      <td>333.670000</td>\n",
              "      <td>52.0</td>\n",
              "      <td>29.0</td>\n",
              "      <td>12.0</td>\n",
              "      <td>7.0</td>\n",
              "    </tr>\n",
              "    <tr>\n",
              "      <th>2002</th>\n",
              "      <td>216.29</td>\n",
              "      <td>109.780000</td>\n",
              "      <td>41.760000</td>\n",
              "      <td>27.27</td>\n",
              "      <td>395.100000</td>\n",
              "      <td>55.0</td>\n",
              "      <td>28.0</td>\n",
              "      <td>11.0</td>\n",
              "      <td>7.0</td>\n",
              "    </tr>\n",
              "    <tr>\n",
              "      <th>2003</th>\n",
              "      <td>193.79</td>\n",
              "      <td>103.880000</td>\n",
              "      <td>34.200000</td>\n",
              "      <td>25.94</td>\n",
              "      <td>357.810000</td>\n",
              "      <td>54.0</td>\n",
              "      <td>29.0</td>\n",
              "      <td>10.0</td>\n",
              "      <td>7.0</td>\n",
              "    </tr>\n",
              "    <tr>\n",
              "      <th>2004</th>\n",
              "      <td>222.95</td>\n",
              "      <td>106.324233</td>\n",
              "      <td>41.650000</td>\n",
              "      <td>47.26</td>\n",
              "      <td>418.184233</td>\n",
              "      <td>53.0</td>\n",
              "      <td>25.0</td>\n",
              "      <td>10.0</td>\n",
              "      <td>11.0</td>\n",
              "    </tr>\n",
              "    <tr>\n",
              "      <th>2005</th>\n",
              "      <td>242.49</td>\n",
              "      <td>121.220000</td>\n",
              "      <td>54.740000</td>\n",
              "      <td>40.31</td>\n",
              "      <td>458.760000</td>\n",
              "      <td>53.0</td>\n",
              "      <td>26.0</td>\n",
              "      <td>12.0</td>\n",
              "      <td>9.0</td>\n",
              "    </tr>\n",
              "    <tr>\n",
              "      <th>2006</th>\n",
              "      <td>262.56</td>\n",
              "      <td>127.529785</td>\n",
              "      <td>73.780000</td>\n",
              "      <td>54.04</td>\n",
              "      <td>517.909785</td>\n",
              "      <td>51.0</td>\n",
              "      <td>25.0</td>\n",
              "      <td>14.0</td>\n",
              "      <td>10.0</td>\n",
              "    </tr>\n",
              "    <tr>\n",
              "      <th>2007</th>\n",
              "      <td>310.18</td>\n",
              "      <td>157.307139</td>\n",
              "      <td>60.374320</td>\n",
              "      <td>76.78</td>\n",
              "      <td>604.641459</td>\n",
              "      <td>51.0</td>\n",
              "      <td>26.0</td>\n",
              "      <td>10.0</td>\n",
              "      <td>13.0</td>\n",
              "    </tr>\n",
              "    <tr>\n",
              "      <th>2008</th>\n",
              "      <td>349.10</td>\n",
              "      <td>181.223883</td>\n",
              "      <td>60.262721</td>\n",
              "      <td>81.49</td>\n",
              "      <td>672.076604</td>\n",
              "      <td>52.0</td>\n",
              "      <td>27.0</td>\n",
              "      <td>9.0</td>\n",
              "      <td>12.0</td>\n",
              "    </tr>\n",
              "    <tr>\n",
              "      <th>2009</th>\n",
              "      <td>338.13</td>\n",
              "      <td>188.090000</td>\n",
              "      <td>61.961322</td>\n",
              "      <td>73.63</td>\n",
              "      <td>661.811322</td>\n",
              "      <td>51.0</td>\n",
              "      <td>28.0</td>\n",
              "      <td>9.0</td>\n",
              "      <td>11.0</td>\n",
              "    </tr>\n",
              "    <tr>\n",
              "      <th>2010</th>\n",
              "      <td>302.48</td>\n",
              "      <td>172.250000</td>\n",
              "      <td>59.510000</td>\n",
              "      <td>58.82</td>\n",
              "      <td>593.060000</td>\n",
              "      <td>51.0</td>\n",
              "      <td>29.0</td>\n",
              "      <td>10.0</td>\n",
              "      <td>10.0</td>\n",
              "    </tr>\n",
              "    <tr>\n",
              "      <th>2011</th>\n",
              "      <td>239.37</td>\n",
              "      <td>163.230000</td>\n",
              "      <td>53.420000</td>\n",
              "      <td>52.83</td>\n",
              "      <td>508.850000</td>\n",
              "      <td>47.0</td>\n",
              "      <td>32.0</td>\n",
              "      <td>10.0</td>\n",
              "      <td>10.0</td>\n",
              "    </tr>\n",
              "    <tr>\n",
              "      <th>2012</th>\n",
              "      <td>153.32</td>\n",
              "      <td>114.770000</td>\n",
              "      <td>51.800000</td>\n",
              "      <td>36.21</td>\n",
              "      <td>356.100000</td>\n",
              "      <td>43.0</td>\n",
              "      <td>32.0</td>\n",
              "      <td>15.0</td>\n",
              "      <td>10.0</td>\n",
              "    </tr>\n",
              "    <tr>\n",
              "      <th>2013</th>\n",
              "      <td>154.32</td>\n",
              "      <td>121.690000</td>\n",
              "      <td>48.000000</td>\n",
              "      <td>38.43</td>\n",
              "      <td>362.440000</td>\n",
              "      <td>43.0</td>\n",
              "      <td>34.0</td>\n",
              "      <td>13.0</td>\n",
              "      <td>11.0</td>\n",
              "    </tr>\n",
              "  </tbody>\n",
              "</table>\n",
              "</div>"
            ],
            "text/plain": [
              "                      na_sales    eu_sales   jp_sales  other_sales  \\\n",
              "year_of_release_YYYY                                                 \n",
              "2000                     95.13   53.140000  42.770000        11.68   \n",
              "2001                    175.14   95.430000  40.260000        22.84   \n",
              "2002                    216.29  109.780000  41.760000        27.27   \n",
              "2003                    193.79  103.880000  34.200000        25.94   \n",
              "2004                    222.95  106.324233  41.650000        47.26   \n",
              "2005                    242.49  121.220000  54.740000        40.31   \n",
              "2006                    262.56  127.529785  73.780000        54.04   \n",
              "2007                    310.18  157.307139  60.374320        76.78   \n",
              "2008                    349.10  181.223883  60.262721        81.49   \n",
              "2009                    338.13  188.090000  61.961322        73.63   \n",
              "2010                    302.48  172.250000  59.510000        58.82   \n",
              "2011                    239.37  163.230000  53.420000        52.83   \n",
              "2012                    153.32  114.770000  51.800000        36.21   \n",
              "2013                    154.32  121.690000  48.000000        38.43   \n",
              "\n",
              "                      total_sales  na_sales_share  eu_sales_share  \\\n",
              "year_of_release_YYYY                                                \n",
              "2000                   202.720000            47.0            26.0   \n",
              "2001                   333.670000            52.0            29.0   \n",
              "2002                   395.100000            55.0            28.0   \n",
              "2003                   357.810000            54.0            29.0   \n",
              "2004                   418.184233            53.0            25.0   \n",
              "2005                   458.760000            53.0            26.0   \n",
              "2006                   517.909785            51.0            25.0   \n",
              "2007                   604.641459            51.0            26.0   \n",
              "2008                   672.076604            52.0            27.0   \n",
              "2009                   661.811322            51.0            28.0   \n",
              "2010                   593.060000            51.0            29.0   \n",
              "2011                   508.850000            47.0            32.0   \n",
              "2012                   356.100000            43.0            32.0   \n",
              "2013                   362.440000            43.0            34.0   \n",
              "\n",
              "                      jp_sales_share  other_sales_share  \n",
              "year_of_release_YYYY                                     \n",
              "2000                            21.0                6.0  \n",
              "2001                            12.0                7.0  \n",
              "2002                            11.0                7.0  \n",
              "2003                            10.0                7.0  \n",
              "2004                            10.0               11.0  \n",
              "2005                            12.0                9.0  \n",
              "2006                            14.0               10.0  \n",
              "2007                            10.0               13.0  \n",
              "2008                             9.0               12.0  \n",
              "2009                             9.0               11.0  \n",
              "2010                            10.0               10.0  \n",
              "2011                            10.0               10.0  \n",
              "2012                            15.0               10.0  \n",
              "2013                            13.0               11.0  "
            ]
          },
          "metadata": {},
          "output_type": "display_data"
        }
      ],
      "execution_count": 37
    },
    {
      "id": "982c374a",
      "cell_type": "markdown",
      "source": "<font color='#7030a0'> Промежуточные выводы:\n- Рост продаж увелиивался начиная с 2000 года. Пик продаж отмечается в 2008 году (678.2 млн единиц), при этом Америка остается крупнейшим рынком.\n-Снижения роста продаж происходит в 2009 году. Это снижение может быть связано с насыщением рынка и изменениями в предпочтениях потребителей.\n- Тренды по жанрам и платформам: Можно сделать дальнейший анализ по жанрам или платформам, чтобы понять, какие игры или платформы обеспечивали рост или спад продаж в определенные годы.\n</font>",
      "metadata": {}
    },
    {
      "id": "906577e8",
      "cell_type": "code",
      "source": "# Посчитаем сумму продаж и средний рейтинг по годам и \ngrouped_data_g=df_sorted.groupby('genre').agg({\n                        'na_sales':'sum',\n                        'eu_sales':'sum',\n                        'jp_sales':'sum',\n                        'other_sales':'sum'\n})\n# Добавляем итоговый столбец, который будет суммировать все продажи\ngrouped_data_g['total_sales'] = grouped_data_g['na_sales'] + grouped_data_g['eu_sales'] + grouped_data_g['jp_sales'] + grouped_data_g['other_sales']\ngrouped_data_g['na_sales_share']=round(grouped_data_g['na_sales']/grouped_data_g['total_sales']*100,0)\ngrouped_data_g['eu_sales_share']=round(grouped_data_g['eu_sales']/grouped_data_g['total_sales']*100,0)\ngrouped_data_g['jp_sales_share']=round(grouped_data_g['jp_sales']/grouped_data_g['total_sales']*100,0)\ngrouped_data_g['other_sales_share']=round(grouped_data_g['other_sales']/grouped_data_g['total_sales']*100,0)\ndisplay(grouped_data_g)",
      "metadata": {},
      "outputs": [
        {
          "data": {
            "text/html": [
              "<div>\n",
              "<style scoped>\n",
              "    .dataframe tbody tr th:only-of-type {\n",
              "        vertical-align: middle;\n",
              "    }\n",
              "\n",
              "    .dataframe tbody tr th {\n",
              "        vertical-align: top;\n",
              "    }\n",
              "\n",
              "    .dataframe thead th {\n",
              "        text-align: right;\n",
              "    }\n",
              "</style>\n",
              "<table border=\"1\" class=\"dataframe\">\n",
              "  <thead>\n",
              "    <tr style=\"text-align: right;\">\n",
              "      <th></th>\n",
              "      <th>na_sales</th>\n",
              "      <th>eu_sales</th>\n",
              "      <th>jp_sales</th>\n",
              "      <th>other_sales</th>\n",
              "      <th>total_sales</th>\n",
              "      <th>na_sales_share</th>\n",
              "      <th>eu_sales_share</th>\n",
              "      <th>jp_sales_share</th>\n",
              "      <th>other_sales_share</th>\n",
              "    </tr>\n",
              "    <tr>\n",
              "      <th>genre</th>\n",
              "      <th></th>\n",
              "      <th></th>\n",
              "      <th></th>\n",
              "      <th></th>\n",
              "      <th></th>\n",
              "      <th></th>\n",
              "      <th></th>\n",
              "      <th></th>\n",
              "      <th></th>\n",
              "    </tr>\n",
              "  </thead>\n",
              "  <tbody>\n",
              "    <tr>\n",
              "      <th>action</th>\n",
              "      <td>681.11</td>\n",
              "      <td>390.690708</td>\n",
              "      <td>103.332721</td>\n",
              "      <td>152.65</td>\n",
              "      <td>1327.783429</td>\n",
              "      <td>51.0</td>\n",
              "      <td>29.0</td>\n",
              "      <td>8.0</td>\n",
              "      <td>11.0</td>\n",
              "    </tr>\n",
              "    <tr>\n",
              "      <th>adventure</th>\n",
              "      <td>76.80</td>\n",
              "      <td>43.030000</td>\n",
              "      <td>33.810000</td>\n",
              "      <td>12.97</td>\n",
              "      <td>166.610000</td>\n",
              "      <td>46.0</td>\n",
              "      <td>26.0</td>\n",
              "      <td>20.0</td>\n",
              "      <td>8.0</td>\n",
              "    </tr>\n",
              "    <tr>\n",
              "      <th>fighting</th>\n",
              "      <td>148.94</td>\n",
              "      <td>68.090000</td>\n",
              "      <td>38.531322</td>\n",
              "      <td>29.04</td>\n",
              "      <td>284.601322</td>\n",
              "      <td>52.0</td>\n",
              "      <td>24.0</td>\n",
              "      <td>14.0</td>\n",
              "      <td>10.0</td>\n",
              "    </tr>\n",
              "    <tr>\n",
              "      <th>misc</th>\n",
              "      <td>352.37</td>\n",
              "      <td>183.483883</td>\n",
              "      <td>79.891260</td>\n",
              "      <td>67.05</td>\n",
              "      <td>682.795143</td>\n",
              "      <td>52.0</td>\n",
              "      <td>27.0</td>\n",
              "      <td>12.0</td>\n",
              "      <td>10.0</td>\n",
              "    </tr>\n",
              "    <tr>\n",
              "      <th>platform</th>\n",
              "      <td>250.98</td>\n",
              "      <td>133.350449</td>\n",
              "      <td>52.583060</td>\n",
              "      <td>39.86</td>\n",
              "      <td>476.773509</td>\n",
              "      <td>53.0</td>\n",
              "      <td>28.0</td>\n",
              "      <td>11.0</td>\n",
              "      <td>8.0</td>\n",
              "    </tr>\n",
              "    <tr>\n",
              "      <th>puzzle</th>\n",
              "      <td>63.57</td>\n",
              "      <td>39.230000</td>\n",
              "      <td>23.260000</td>\n",
              "      <td>10.02</td>\n",
              "      <td>136.080000</td>\n",
              "      <td>47.0</td>\n",
              "      <td>29.0</td>\n",
              "      <td>17.0</td>\n",
              "      <td>7.0</td>\n",
              "    </tr>\n",
              "    <tr>\n",
              "      <th>racing</th>\n",
              "      <td>265.16</td>\n",
              "      <td>178.560000</td>\n",
              "      <td>25.980000</td>\n",
              "      <td>66.29</td>\n",
              "      <td>535.990000</td>\n",
              "      <td>49.0</td>\n",
              "      <td>33.0</td>\n",
              "      <td>5.0</td>\n",
              "      <td>12.0</td>\n",
              "    </tr>\n",
              "    <tr>\n",
              "      <th>role-playing</th>\n",
              "      <td>249.96</td>\n",
              "      <td>128.060000</td>\n",
              "      <td>211.440000</td>\n",
              "      <td>43.03</td>\n",
              "      <td>632.490000</td>\n",
              "      <td>40.0</td>\n",
              "      <td>20.0</td>\n",
              "      <td>33.0</td>\n",
              "      <td>7.0</td>\n",
              "    </tr>\n",
              "    <tr>\n",
              "      <th>shooter</th>\n",
              "      <td>417.04</td>\n",
              "      <td>228.880000</td>\n",
              "      <td>18.430000</td>\n",
              "      <td>78.75</td>\n",
              "      <td>743.100000</td>\n",
              "      <td>56.0</td>\n",
              "      <td>31.0</td>\n",
              "      <td>2.0</td>\n",
              "      <td>11.0</td>\n",
              "    </tr>\n",
              "    <tr>\n",
              "      <th>simulation</th>\n",
              "      <td>159.54</td>\n",
              "      <td>97.480000</td>\n",
              "      <td>37.850000</td>\n",
              "      <td>27.49</td>\n",
              "      <td>322.360000</td>\n",
              "      <td>49.0</td>\n",
              "      <td>30.0</td>\n",
              "      <td>12.0</td>\n",
              "      <td>9.0</td>\n",
              "    </tr>\n",
              "    <tr>\n",
              "      <th>sports</th>\n",
              "      <td>544.69</td>\n",
              "      <td>294.220000</td>\n",
              "      <td>72.620000</td>\n",
              "      <td>111.87</td>\n",
              "      <td>1023.400000</td>\n",
              "      <td>53.0</td>\n",
              "      <td>29.0</td>\n",
              "      <td>7.0</td>\n",
              "      <td>11.0</td>\n",
              "    </tr>\n",
              "    <tr>\n",
              "      <th>strategy</th>\n",
              "      <td>45.09</td>\n",
              "      <td>30.790000</td>\n",
              "      <td>26.760000</td>\n",
              "      <td>8.51</td>\n",
              "      <td>111.150000</td>\n",
              "      <td>41.0</td>\n",
              "      <td>28.0</td>\n",
              "      <td>24.0</td>\n",
              "      <td>8.0</td>\n",
              "    </tr>\n",
              "  </tbody>\n",
              "</table>\n",
              "</div>"
            ],
            "text/plain": [
              "              na_sales    eu_sales    jp_sales  other_sales  total_sales  \\\n",
              "genre                                                                      \n",
              "action          681.11  390.690708  103.332721       152.65  1327.783429   \n",
              "adventure        76.80   43.030000   33.810000        12.97   166.610000   \n",
              "fighting        148.94   68.090000   38.531322        29.04   284.601322   \n",
              "misc            352.37  183.483883   79.891260        67.05   682.795143   \n",
              "platform        250.98  133.350449   52.583060        39.86   476.773509   \n",
              "puzzle           63.57   39.230000   23.260000        10.02   136.080000   \n",
              "racing          265.16  178.560000   25.980000        66.29   535.990000   \n",
              "role-playing    249.96  128.060000  211.440000        43.03   632.490000   \n",
              "shooter         417.04  228.880000   18.430000        78.75   743.100000   \n",
              "simulation      159.54   97.480000   37.850000        27.49   322.360000   \n",
              "sports          544.69  294.220000   72.620000       111.87  1023.400000   \n",
              "strategy         45.09   30.790000   26.760000         8.51   111.150000   \n",
              "\n",
              "              na_sales_share  eu_sales_share  jp_sales_share  \\\n",
              "genre                                                          \n",
              "action                  51.0            29.0             8.0   \n",
              "adventure               46.0            26.0            20.0   \n",
              "fighting                52.0            24.0            14.0   \n",
              "misc                    52.0            27.0            12.0   \n",
              "platform                53.0            28.0            11.0   \n",
              "puzzle                  47.0            29.0            17.0   \n",
              "racing                  49.0            33.0             5.0   \n",
              "role-playing            40.0            20.0            33.0   \n",
              "shooter                 56.0            31.0             2.0   \n",
              "simulation              49.0            30.0            12.0   \n",
              "sports                  53.0            29.0             7.0   \n",
              "strategy                41.0            28.0            24.0   \n",
              "\n",
              "              other_sales_share  \n",
              "genre                            \n",
              "action                     11.0  \n",
              "adventure                   8.0  \n",
              "fighting                   10.0  \n",
              "misc                       10.0  \n",
              "platform                    8.0  \n",
              "puzzle                      7.0  \n",
              "racing                     12.0  \n",
              "role-playing                7.0  \n",
              "shooter                    11.0  \n",
              "simulation                  9.0  \n",
              "sports                     11.0  \n",
              "strategy                    8.0  "
            ]
          },
          "metadata": {},
          "output_type": "display_data"
        }
      ],
      "execution_count": 38
    },
    {
      "id": "6015375f",
      "cell_type": "markdown",
      "source": "<font color='#7030a0'> Промежуточные выводы:\n- Наибольший общий объем продаж (1338.8 млн) жанр: Action,  на который приходится 51% продаж в Северной Америке, 29% в Европе и 8% в Японии.\n- Наименьшие объемы продаж по жанрам Strategy и Puzzle.\nПримечания:\n-Северная Америка остается лидером по большинству жанров, с долей в 50% и более для большинства категорий, особенно для action и sports.\n-Япония имеет относительно высокую долю в жанре role-playing (33%) и strategy (24%), что является типичным для японской игровой индустрии, но имеет низкую долю в шутерах и спортивных играх.\n-Европа занимает промежуточное положение, часто с долей около 25-30% по большинству жанров, с некоторыми колебаниями в зависимости от конкретного жанра (например, высокий интерес к спортивным играм).\n</font>",
      "metadata": {}
    },
    {
      "id": "44d7529f",
      "cell_type": "code",
      "source": "# Посчитаем сумму продаж и средний рейтинг по годам и платформам\ngrouped_data_p=df_sorted.groupby('platform').agg({\n                        'na_sales':'sum',\n                        'eu_sales':'sum',\n                        'jp_sales':'sum',\n                         'other_sales':'sum',\n                        'name':'count'\n    \n})\n\n# Переименуем столбец с количеством и добавляем итоговый столбец, который будет суммировать все продажи\ngrouped_data_p.rename(columns={'name': 'game_count'}, inplace=True)\ngrouped_data_p['total_sales'] = grouped_data_p['na_sales'] + grouped_data_p['eu_sales'] + grouped_data_p['jp_sales'] + grouped_data_p['other_sales']\ngrouped_data_p['na_sales_share']=round(grouped_data_p['na_sales']/grouped_data_p['total_sales']*100,0)\ngrouped_data_p['eu_sales_share']=round(grouped_data_p['eu_sales']/grouped_data_p['total_sales']*100,0)\ngrouped_data_p['jp_sales_share']=round(grouped_data_p['jp_sales']/grouped_data_p['total_sales']*100,0)\ngrouped_data_p['other_sales_share']=round(grouped_data_p['other_sales']/grouped_data_p['total_sales']*100,0)\ndisplay(grouped_data_p)",
      "metadata": {},
      "outputs": [
        {
          "data": {
            "text/html": [
              "<div>\n",
              "<style scoped>\n",
              "    .dataframe tbody tr th:only-of-type {\n",
              "        vertical-align: middle;\n",
              "    }\n",
              "\n",
              "    .dataframe tbody tr th {\n",
              "        vertical-align: top;\n",
              "    }\n",
              "\n",
              "    .dataframe thead th {\n",
              "        text-align: right;\n",
              "    }\n",
              "</style>\n",
              "<table border=\"1\" class=\"dataframe\">\n",
              "  <thead>\n",
              "    <tr style=\"text-align: right;\">\n",
              "      <th></th>\n",
              "      <th>na_sales</th>\n",
              "      <th>eu_sales</th>\n",
              "      <th>jp_sales</th>\n",
              "      <th>other_sales</th>\n",
              "      <th>game_count</th>\n",
              "      <th>total_sales</th>\n",
              "      <th>na_sales_share</th>\n",
              "      <th>eu_sales_share</th>\n",
              "      <th>jp_sales_share</th>\n",
              "      <th>other_sales_share</th>\n",
              "    </tr>\n",
              "    <tr>\n",
              "      <th>platform</th>\n",
              "      <th></th>\n",
              "      <th></th>\n",
              "      <th></th>\n",
              "      <th></th>\n",
              "      <th></th>\n",
              "      <th></th>\n",
              "      <th></th>\n",
              "      <th></th>\n",
              "      <th></th>\n",
              "      <th></th>\n",
              "    </tr>\n",
              "  </thead>\n",
              "  <tbody>\n",
              "    <tr>\n",
              "      <th>3DS</th>\n",
              "      <td>60.65</td>\n",
              "      <td>45.410000</td>\n",
              "      <td>56.950000</td>\n",
              "      <td>9.67</td>\n",
              "      <td>304</td>\n",
              "      <td>172.680000</td>\n",
              "      <td>35.0</td>\n",
              "      <td>26.0</td>\n",
              "      <td>33.0</td>\n",
              "      <td>6.0</td>\n",
              "    </tr>\n",
              "    <tr>\n",
              "      <th>DC</th>\n",
              "      <td>2.53</td>\n",
              "      <td>0.790000</td>\n",
              "      <td>3.960000</td>\n",
              "      <td>0.13</td>\n",
              "      <td>31</td>\n",
              "      <td>7.410000</td>\n",
              "      <td>34.0</td>\n",
              "      <td>11.0</td>\n",
              "      <td>53.0</td>\n",
              "      <td>2.0</td>\n",
              "    </tr>\n",
              "    <tr>\n",
              "      <th>DS</th>\n",
              "      <td>381.30</td>\n",
              "      <td>187.521022</td>\n",
              "      <td>175.131260</td>\n",
              "      <td>59.12</td>\n",
              "      <td>2126</td>\n",
              "      <td>803.072282</td>\n",
              "      <td>47.0</td>\n",
              "      <td>23.0</td>\n",
              "      <td>22.0</td>\n",
              "      <td>7.0</td>\n",
              "    </tr>\n",
              "    <tr>\n",
              "      <th>GB</th>\n",
              "      <td>9.12</td>\n",
              "      <td>5.190000</td>\n",
              "      <td>13.010000</td>\n",
              "      <td>1.68</td>\n",
              "      <td>27</td>\n",
              "      <td>29.000000</td>\n",
              "      <td>31.0</td>\n",
              "      <td>18.0</td>\n",
              "      <td>45.0</td>\n",
              "      <td>6.0</td>\n",
              "    </tr>\n",
              "    <tr>\n",
              "      <th>GBA</th>\n",
              "      <td>185.08</td>\n",
              "      <td>74.560449</td>\n",
              "      <td>46.960000</td>\n",
              "      <td>7.67</td>\n",
              "      <td>813</td>\n",
              "      <td>314.270449</td>\n",
              "      <td>59.0</td>\n",
              "      <td>24.0</td>\n",
              "      <td>15.0</td>\n",
              "      <td>2.0</td>\n",
              "    </tr>\n",
              "    <tr>\n",
              "      <th>GC</th>\n",
              "      <td>132.20</td>\n",
              "      <td>38.380000</td>\n",
              "      <td>21.340000</td>\n",
              "      <td>5.13</td>\n",
              "      <td>544</td>\n",
              "      <td>197.050000</td>\n",
              "      <td>67.0</td>\n",
              "      <td>19.0</td>\n",
              "      <td>11.0</td>\n",
              "      <td>3.0</td>\n",
              "    </tr>\n",
              "    <tr>\n",
              "      <th>N64</th>\n",
              "      <td>22.01</td>\n",
              "      <td>6.160000</td>\n",
              "      <td>8.250000</td>\n",
              "      <td>1.04</td>\n",
              "      <td>71</td>\n",
              "      <td>37.460000</td>\n",
              "      <td>59.0</td>\n",
              "      <td>16.0</td>\n",
              "      <td>22.0</td>\n",
              "      <td>3.0</td>\n",
              "    </tr>\n",
              "    <tr>\n",
              "      <th>PC</th>\n",
              "      <td>56.70</td>\n",
              "      <td>103.480000</td>\n",
              "      <td>0.080000</td>\n",
              "      <td>18.53</td>\n",
              "      <td>768</td>\n",
              "      <td>178.790000</td>\n",
              "      <td>32.0</td>\n",
              "      <td>58.0</td>\n",
              "      <td>0.0</td>\n",
              "      <td>10.0</td>\n",
              "    </tr>\n",
              "    <tr>\n",
              "      <th>PS</th>\n",
              "      <td>66.21</td>\n",
              "      <td>47.280000</td>\n",
              "      <td>20.100000</td>\n",
              "      <td>8.01</td>\n",
              "      <td>277</td>\n",
              "      <td>141.600000</td>\n",
              "      <td>47.0</td>\n",
              "      <td>33.0</td>\n",
              "      <td>14.0</td>\n",
              "      <td>6.0</td>\n",
              "    </tr>\n",
              "    <tr>\n",
              "      <th>PS2</th>\n",
              "      <td>573.22</td>\n",
              "      <td>332.183784</td>\n",
              "      <td>138.020000</td>\n",
              "      <td>190.54</td>\n",
              "      <td>2131</td>\n",
              "      <td>1233.963784</td>\n",
              "      <td>46.0</td>\n",
              "      <td>27.0</td>\n",
              "      <td>11.0</td>\n",
              "      <td>15.0</td>\n",
              "    </tr>\n",
              "    <tr>\n",
              "      <th>PS3</th>\n",
              "      <td>368.08</td>\n",
              "      <td>302.210000</td>\n",
              "      <td>68.220000</td>\n",
              "      <td>125.26</td>\n",
              "      <td>1090</td>\n",
              "      <td>863.770000</td>\n",
              "      <td>43.0</td>\n",
              "      <td>35.0</td>\n",
              "      <td>8.0</td>\n",
              "      <td>15.0</td>\n",
              "    </tr>\n",
              "    <tr>\n",
              "      <th>PS4</th>\n",
              "      <td>10.13</td>\n",
              "      <td>11.050000</td>\n",
              "      <td>0.940000</td>\n",
              "      <td>3.87</td>\n",
              "      <td>16</td>\n",
              "      <td>25.990000</td>\n",
              "      <td>39.0</td>\n",
              "      <td>43.0</td>\n",
              "      <td>4.0</td>\n",
              "      <td>15.0</td>\n",
              "    </tr>\n",
              "    <tr>\n",
              "      <th>PSP</th>\n",
              "      <td>107.51</td>\n",
              "      <td>65.740000</td>\n",
              "      <td>75.553060</td>\n",
              "      <td>40.85</td>\n",
              "      <td>1184</td>\n",
              "      <td>289.653060</td>\n",
              "      <td>37.0</td>\n",
              "      <td>23.0</td>\n",
              "      <td>26.0</td>\n",
              "      <td>14.0</td>\n",
              "    </tr>\n",
              "    <tr>\n",
              "      <th>PSV</th>\n",
              "      <td>9.95</td>\n",
              "      <td>9.550000</td>\n",
              "      <td>7.390000</td>\n",
              "      <td>4.62</td>\n",
              "      <td>135</td>\n",
              "      <td>31.510000</td>\n",
              "      <td>32.0</td>\n",
              "      <td>30.0</td>\n",
              "      <td>23.0</td>\n",
              "      <td>15.0</td>\n",
              "    </tr>\n",
              "    <tr>\n",
              "      <th>WII</th>\n",
              "      <td>487.11</td>\n",
              "      <td>255.820000</td>\n",
              "      <td>68.280000</td>\n",
              "      <td>77.47</td>\n",
              "      <td>1279</td>\n",
              "      <td>888.680000</td>\n",
              "      <td>55.0</td>\n",
              "      <td>29.0</td>\n",
              "      <td>8.0</td>\n",
              "      <td>9.0</td>\n",
              "    </tr>\n",
              "    <tr>\n",
              "      <th>WIIU</th>\n",
              "      <td>18.74</td>\n",
              "      <td>11.980000</td>\n",
              "      <td>5.700000</td>\n",
              "      <td>2.79</td>\n",
              "      <td>74</td>\n",
              "      <td>39.210000</td>\n",
              "      <td>48.0</td>\n",
              "      <td>31.0</td>\n",
              "      <td>15.0</td>\n",
              "      <td>7.0</td>\n",
              "    </tr>\n",
              "    <tr>\n",
              "      <th>WS</th>\n",
              "      <td>0.00</td>\n",
              "      <td>0.000000</td>\n",
              "      <td>0.960000</td>\n",
              "      <td>0.00</td>\n",
              "      <td>4</td>\n",
              "      <td>0.960000</td>\n",
              "      <td>0.0</td>\n",
              "      <td>0.0</td>\n",
              "      <td>100.0</td>\n",
              "      <td>0.0</td>\n",
              "    </tr>\n",
              "    <tr>\n",
              "      <th>X360</th>\n",
              "      <td>569.24</td>\n",
              "      <td>253.259785</td>\n",
              "      <td>12.244043</td>\n",
              "      <td>80.80</td>\n",
              "      <td>1126</td>\n",
              "      <td>915.543828</td>\n",
              "      <td>62.0</td>\n",
              "      <td>28.0</td>\n",
              "      <td>1.0</td>\n",
              "      <td>9.0</td>\n",
              "    </tr>\n",
              "    <tr>\n",
              "      <th>XB</th>\n",
              "      <td>182.95</td>\n",
              "      <td>59.910000</td>\n",
              "      <td>1.380000</td>\n",
              "      <td>8.52</td>\n",
              "      <td>809</td>\n",
              "      <td>252.760000</td>\n",
              "      <td>72.0</td>\n",
              "      <td>24.0</td>\n",
              "      <td>1.0</td>\n",
              "      <td>3.0</td>\n",
              "    </tr>\n",
              "    <tr>\n",
              "      <th>XONE</th>\n",
              "      <td>12.52</td>\n",
              "      <td>5.390000</td>\n",
              "      <td>0.020000</td>\n",
              "      <td>1.83</td>\n",
              "      <td>20</td>\n",
              "      <td>19.760000</td>\n",
              "      <td>63.0</td>\n",
              "      <td>27.0</td>\n",
              "      <td>0.0</td>\n",
              "      <td>9.0</td>\n",
              "    </tr>\n",
              "  </tbody>\n",
              "</table>\n",
              "</div>"
            ],
            "text/plain": [
              "          na_sales    eu_sales    jp_sales  other_sales  game_count  \\\n",
              "platform                                                              \n",
              "3DS          60.65   45.410000   56.950000         9.67         304   \n",
              "DC            2.53    0.790000    3.960000         0.13          31   \n",
              "DS          381.30  187.521022  175.131260        59.12        2126   \n",
              "GB            9.12    5.190000   13.010000         1.68          27   \n",
              "GBA         185.08   74.560449   46.960000         7.67         813   \n",
              "GC          132.20   38.380000   21.340000         5.13         544   \n",
              "N64          22.01    6.160000    8.250000         1.04          71   \n",
              "PC           56.70  103.480000    0.080000        18.53         768   \n",
              "PS           66.21   47.280000   20.100000         8.01         277   \n",
              "PS2         573.22  332.183784  138.020000       190.54        2131   \n",
              "PS3         368.08  302.210000   68.220000       125.26        1090   \n",
              "PS4          10.13   11.050000    0.940000         3.87          16   \n",
              "PSP         107.51   65.740000   75.553060        40.85        1184   \n",
              "PSV           9.95    9.550000    7.390000         4.62         135   \n",
              "WII         487.11  255.820000   68.280000        77.47        1279   \n",
              "WIIU         18.74   11.980000    5.700000         2.79          74   \n",
              "WS            0.00    0.000000    0.960000         0.00           4   \n",
              "X360        569.24  253.259785   12.244043        80.80        1126   \n",
              "XB          182.95   59.910000    1.380000         8.52         809   \n",
              "XONE         12.52    5.390000    0.020000         1.83          20   \n",
              "\n",
              "          total_sales  na_sales_share  eu_sales_share  jp_sales_share  \\\n",
              "platform                                                                \n",
              "3DS        172.680000            35.0            26.0            33.0   \n",
              "DC           7.410000            34.0            11.0            53.0   \n",
              "DS         803.072282            47.0            23.0            22.0   \n",
              "GB          29.000000            31.0            18.0            45.0   \n",
              "GBA        314.270449            59.0            24.0            15.0   \n",
              "GC         197.050000            67.0            19.0            11.0   \n",
              "N64         37.460000            59.0            16.0            22.0   \n",
              "PC         178.790000            32.0            58.0             0.0   \n",
              "PS         141.600000            47.0            33.0            14.0   \n",
              "PS2       1233.963784            46.0            27.0            11.0   \n",
              "PS3        863.770000            43.0            35.0             8.0   \n",
              "PS4         25.990000            39.0            43.0             4.0   \n",
              "PSP        289.653060            37.0            23.0            26.0   \n",
              "PSV         31.510000            32.0            30.0            23.0   \n",
              "WII        888.680000            55.0            29.0             8.0   \n",
              "WIIU        39.210000            48.0            31.0            15.0   \n",
              "WS           0.960000             0.0             0.0           100.0   \n",
              "X360       915.543828            62.0            28.0             1.0   \n",
              "XB         252.760000            72.0            24.0             1.0   \n",
              "XONE        19.760000            63.0            27.0             0.0   \n",
              "\n",
              "          other_sales_share  \n",
              "platform                     \n",
              "3DS                     6.0  \n",
              "DC                      2.0  \n",
              "DS                      7.0  \n",
              "GB                      6.0  \n",
              "GBA                     2.0  \n",
              "GC                      3.0  \n",
              "N64                     3.0  \n",
              "PC                     10.0  \n",
              "PS                      6.0  \n",
              "PS2                    15.0  \n",
              "PS3                    15.0  \n",
              "PS4                    15.0  \n",
              "PSP                    14.0  \n",
              "PSV                    15.0  \n",
              "WII                     9.0  \n",
              "WIIU                    7.0  \n",
              "WS                      0.0  \n",
              "X360                    9.0  \n",
              "XB                      3.0  \n",
              "XONE                    9.0  "
            ]
          },
          "metadata": {},
          "output_type": "display_data"
        }
      ],
      "execution_count": 39
    },
    {
      "id": "117df6bf",
      "cell_type": "markdown",
      "source": "<font color='#7030a0'> Промежуточные выводы:\n- PS2 Общие продажи: 1242.7 млн (самая высокая среди платформ). Платформа была очень популярна в Северной Америке и Европе, что делает ее одной из самых успешных игровых консолей.\n-  Наибольшие продажи зафиксированы у консолей PS2,  Wii, X360 которые показали отличные результаты на нескольких рынках.   \n</font>",
      "metadata": {}
    },
    {
      "id": "a6f10b01",
      "cell_type": "markdown",
      "source": "---\n\n## 4. Категоризация данных\n    \nПроведите категоризацию данных:\n- Разделите все игры по оценкам пользователей и выделите такие категории: высокая оценка (от 8 до 10 включительно), средняя оценка (от 3 до 8, не включая правую границу интервала) и низкая оценка (от 0 до 3, не включая правую границу интервала).\n- Разделите все игры по оценкам критиков и выделите такие категории: высокая оценка (от 80 до 100 включительно), средняя оценка (от 30 до 80, не включая правую границу интервала) и низкая оценка (от 0 до 30, не включая правую границу интервала).\n- Выделите топ-7 платформ по количеству игр, выпущенных за весь актуальный период.",
      "metadata": {}
    },
    {
      "id": "3db87229",
      "cell_type": "code",
      "source": "#Убираем данные без рейтинга для последующей категоризации\ndf_us = df\n\n# Категоризация оценок с помощью pd.cut\ndf_us['user_score_category'] = pd.cut(\n    df_us['user_score'],\n    bins=[-2, 0, 3, 8, 10], \n    labels=['Нет оценки','Низкая оценка', 'Средняя оценка', 'Высокая оценка'],\n    include_lowest=True  # Включаем нижнюю границу диапазона\n)\n",
      "metadata": {},
      "outputs": [],
      "execution_count": 40
    },
    {
      "id": "548fde17",
      "cell_type": "code",
      "source": "# Посчитаем средний user рейтинг по  группе \ngrouped_data=df_us.groupby('user_score_category').agg({\n                        'user_score':'mean',\n                        'name':'count'\n})\n\n# Переименуем столбцы для большей ясности\n\ngrouped_data.rename(columns={'user_score': 'average_user_score','name':'game_count'}, inplace=True)\ntotal_game_count = grouped_data['game_count'].sum()\ngrouped_data['game_count_share']=round(grouped_data['game_count']/total_game_count*100,0)\nprint(grouped_data)",
      "metadata": {},
      "outputs": [
        {
          "name": "stdout",
          "output_type": "stream",
          "text": [
            "                     average_user_score  game_count  game_count_share\n",
            "user_score_category                                                  \n",
            "Нет оценки                    -0.999889        9011              55.0\n",
            "Низкая оценка                  2.212346         162               1.0\n",
            "Средняя оценка                 6.646565        5066              31.0\n",
            "Высокая оценка                 8.548120        2261              14.0\n"
          ]
        }
      ],
      "execution_count": 41
    },
    {
      "id": "8d053584",
      "cell_type": "markdown",
      "source": "<font color='#7030a0'> Промежуточные выводы:\n- Большинство игр (55%) попадают в категорию \"Нет оценки\"\n- Только 31% игр имеют среднюю  оценку пользователей, что указывает на умеренно позитивное восприятие игр пользователями.\n- Игры с низкими оценками составляют всего 1% от общего числа, с низким средним баллом 2.2.\n</font>",
      "metadata": {}
    },
    {
      "id": "d136d06b",
      "cell_type": "code",
      "source": "#Убираем данные без рейтинга для последующей категоризации\ndf_filtered_cs = df[df['critic_score'] >= 0].copy() \n\n# Категоризация оценок с помощью pd.cut\ndf_filtered_cs['critic_score_category'] = pd.cut(\n    df_filtered_cs['critic_score'],\n    bins=[0, 30, 80, 100], \n    labels=['Низкая оценка', 'Средняя оценка', 'Высокая оценка'],\n    include_lowest=True  # Включаем нижнюю границу диапазона\n)",
      "metadata": {},
      "outputs": [],
      "execution_count": 42
    },
    {
      "id": "5c34ec31",
      "cell_type": "code",
      "source": "# Посчитаем средний critic рейтинг по  группе \ngrouped_data=df_filtered_cs.groupby('critic_score_category').agg({\n                        'critic_score':'mean',\n                        'name':'count',\n\n})\n# Переименуем столбцы для большей ясности\ngrouped_data.rename(columns={'critic_score': 'average_critic_score', 'name': 'game_count'}, inplace=True)\ntotal_game_count = grouped_data['game_count'].sum()\ngrouped_data['game_count_share']=round(grouped_data['game_count']/total_game_count*100,0)\nprint(grouped_data)",
      "metadata": {
        "scrolled": true
      },
      "outputs": [
        {
          "name": "stdout",
          "output_type": "stream",
          "text": [
            "                       average_critic_score  game_count  game_count_share\n",
            "critic_score_category                                                    \n",
            "Низкая оценка                     25.591549          71               1.0\n",
            "Средняя оценка                    64.718599        6194              77.0\n",
            "Высокая оценка                    85.838101        1748              22.0\n"
          ]
        }
      ],
      "execution_count": 43
    },
    {
      "id": "d35783b4",
      "cell_type": "markdown",
      "source": "<font color='#7030a0'> Промежуточные выводы:\n- Почти 77% игр имеют оценки критиков в диапазоне средней категории (средний балл 64.7). Это соответствует схожей картине, что и у пользователей.\n- Лишь 22% игр критики оценили высоко, со средним баллом 85.8. \n- Всего 1% игр попали в низкую категорию (средний балл 25.6), что предполагает либо некачественные игры, либо игры, рассчитанные на очень узкую аудиторию.\n</font>",
      "metadata": {}
    },
    {
      "id": "15acd99f",
      "cell_type": "code",
      "source": "# Сортируем данные по 'game_count' по убыванию\ngrouped_data_p_sorted = grouped_data_p.sort_values(by='game_count', ascending=False)\n\n# Сбрасываем индекс\ngrouped_data_p = grouped_data_p_sorted.reset_index(drop=False)  \n\n# Добавляем столбец с общим количеством игр\ngrouped_data_p['game_count_share'] = round(grouped_data_p['game_count'] / grouped_data_p['game_count'].sum() * 100, 0)\n\n# Переустанавливаем индекс, начиная с 1\ngrouped_data_p.index = grouped_data_p.index + 1\n\n# Выбираем столбцы 'platform', 'total_sales' и 'game_count'\nselected_columns = grouped_data_p[['platform', 'total_sales', 'game_count', 'game_count_share']]\n\n# Выводим первые 7 строк\nprint(selected_columns.head(7))\n",
      "metadata": {},
      "outputs": [
        {
          "name": "stdout",
          "output_type": "stream",
          "text": [
            "  platform  total_sales  game_count  game_count_share\n",
            "1      PS2  1233.963784        2131              17.0\n",
            "2       DS   803.072282        2126              17.0\n",
            "3      WII   888.680000        1279              10.0\n",
            "4      PSP   289.653060        1184               9.0\n",
            "5     X360   915.543828        1126               9.0\n",
            "6      PS3   863.770000        1090               8.0\n",
            "7      GBA   314.270449         813               6.0\n"
          ]
        }
      ],
      "execution_count": 44
    },
    {
      "id": "c0158881",
      "cell_type": "markdown",
      "source": "---\n\n## 5. Итоговый вывод\n\nВ конце напишите основной вывод и отразите, какую работу проделали. Не забудьте указать описание среза данных и новых полей, которые добавили в исходный датасет.",
      "metadata": {}
    },
    {
      "id": "fa767036",
      "cell_type": "markdown",
      "source": "<font color='#7030a0'> Основной вывод по проделанной работе:\n1.\tВ ходе работы с данными был выполнен предварительный анализ и очистка данных, включая обработку пропусков и некорректных типов данных.\n2.\tДля решения проблемы с пропущенными значениями в столбце рейтинга была разработана функция, которая заполняет пропуски модальным значением рейтинга по жанру.\n3.\tБыли обработаны пропуски в столбцах year_of_release, user_score, critic_score, а также заменены текстовые значения в eu_sales и jp_sales на числовые данные.\n4.\tОперации включали преобразование типов данных, удаление дубликатов и приведение названий столбцов к стандартному формату.\n5.\tПосле преобразования данных, особенно с оценками и продажами, проведена агрегация данных по платформам и годам, что позволило выявить ключевые тренды в продажах и оценках игр.\n6.\tБыли сделаны промежуточные выводы по трендам в продажах, жанрам и платформам, а также по восприятию игр пользователями и критиками.\n7.\tВизуализированы и проанализированы результаты по популярным возрастным рейтингам для жанров, что позволяет лучше понять влияние жанра на рейтинг игры.\n8.\tВ результате обработки и анализа данных, была улучшена качество набора данных, что способствует более точным аналитическим выводам и прогнозам.\n\n</font>",
      "metadata": {}
    },
    {
      "id": "60274140",
      "cell_type": "markdown",
      "source": "<font color='#7030a0'>Проделанная работа:\n- `critic_score`,`user_score` — пропуски заменены на значение-индикатор(-1)\n- `eu_sales`, `jp_sales` - пропуски были заменены на среднее значение в зависимости от названия платформы и года выхода игры.\n-`rating` -  пропуски были заменены заглушкой \"Unknown\"\n- Столбцы `name` и `genre`привели к нижнему регистру;\n- Столбцы `platform` и `rating`привели к верхнему регистру;   \nУдаленные данные:\n    \n*Изначальный датафрейм содержал 16956 строк*\n- `years` - удалено 275 пустых строк;\n-  `name` —  удалены 2 пустые строки     \n- Количество строк до удаления дубликатов: 179\n    \n*Количество строк после удаления: 16500*\n    \nВсего удалено строк: 456 строк\n    \nПроцент удаленных строк: 2.7%\n    \n</font>    ",
      "metadata": {}
    },
    {
      "id": "1d943b1d",
      "cell_type": "code",
      "source": "# добавяем обновлённое описание полей итогового датафрейма. \ndf.info()",
      "metadata": {
        "scrolled": true
      },
      "outputs": [
        {
          "name": "stdout",
          "output_type": "stream",
          "text": [
            "<class 'pandas.core.frame.DataFrame'>\n",
            "Int64Index: 16500 entries, 0 to 16678\n",
            "Data columns (total 16 columns):\n",
            " #   Column               Non-Null Count  Dtype         \n",
            "---  ------               --------------  -----         \n",
            " 0   name                 16500 non-null  object        \n",
            " 1   platform             16500 non-null  object        \n",
            " 2   year_of_release      16500 non-null  datetime64[ns]\n",
            " 3   genre                16500 non-null  object        \n",
            " 4   na_sales             16500 non-null  float64       \n",
            " 5   eu_sales             16500 non-null  float64       \n",
            " 6   jp_sales             16500 non-null  float64       \n",
            " 7   other_sales          16500 non-null  float64       \n",
            " 8   critic_score         16500 non-null  float64       \n",
            " 9   user_score           16500 non-null  float64       \n",
            " 10  rating               16500 non-null  object        \n",
            " 11  old_name             16500 non-null  object        \n",
            " 12  old_genre            16500 non-null  object        \n",
            " 13  old_platform         16500 non-null  object        \n",
            " 14  old_rating           16500 non-null  object        \n",
            " 15  user_score_category  16500 non-null  category      \n",
            "dtypes: category(1), datetime64[ns](1), float64(6), object(8)\n",
            "memory usage: 2.0+ MB\n"
          ]
        }
      ],
      "execution_count": 45
    }
  ]
}
