{
 "cells": [
  {
   "cell_type": "markdown",
   "metadata": {},
   "source": [
    "# Анализ и предобработка данных «Карта ДТП» для последующего использования в исследовании. Исследовательский анализ\n",
    "\n",
    "- Автор:Мусабаева Алеся Талгатовна\n",
    "- Дата: 28.11.2024"
   ]
  },
  {
   "cell_type": "markdown",
   "metadata": {
    "deletable": false,
    "editable": false,
    "id": "t00fl5UqGwCy",
    "tags": [
     "1e3c4ba5-e41c-441c-b80d-91af102cc6cd"
    ]
   },
   "source": [
    "\n",
    "# Кейс спринта\n",
    "\n",
    "\n",
    "Заказчик проекта — «Карта ДТП». Это некоммерческий проект, посвящённый проблеме дорожно-транспортных происшествий в России. Цель проекта — повысить безопасность на дорогах.\n",
    "\n",
    "«Карта ДТП» помогает выявлять реальные причины ДТП, оценивать уровень развития инфраструктуры, а также разрабатывать качественные решения и программы по повышению безопасности на улицах и дорогах. Заказчик хочет собирать данные более высокого качества и ожидает от вас рекомендаций: на какие проблемы или особенности обратить внимание.\n",
    "\n",
    "## Что нужно сделать\n",
    "\n",
    "Вам необходимо проверить, встречаются ли в данных дубликаты и пропуски. Это поможет заказчикам собирать более качественные данные.\n",
    "\n",
    "Вам также понадобится ответить на следующие вопросы:\n",
    "\n",
    "- как менялось число ДТП по временным промежуткам;\n",
    "\n",
    "- различается ли число ДТП для групп водителей с разным стажем.\n",
    "\n",
    "\n",
    "## Описание данных\n",
    "\n",
    "Данные `Kirovskaya_oblast.csv`, `Moscowskaya_oblast.csv` содержат информацию ДТП:\n",
    "\n",
    "* `geometry.coordinates` — координаты ДТП;\n",
    "\n",
    "* `id` — идентификатор ДТП;\n",
    "\n",
    "*  `properties.tags` — тег происшествия;\n",
    "\n",
    "*  `properties.light` — освещённость;\n",
    "\n",
    "*  `properties.point.lat` — широта;\n",
    "\n",
    "*  `properties.point.long` — долгота;\n",
    "\n",
    "*  `properties.nearby` — ближайшие объекты;\n",
    "\n",
    "*  `properties.region` — регион;\n",
    "\n",
    "*  `properties.scheme` — схема ДТП;\n",
    "\n",
    "*  `properties.address` — ближайший адрес;\n",
    "\n",
    "*  `properties.weather` — погода;\n",
    "\n",
    "*  `properties.category` — категория ДТП;\n",
    "\n",
    "*  `properties.datetime` — дата и время ДТП;\n",
    "\n",
    "*  `properties.injured_count` — число пострадавших;\n",
    "\n",
    "*  `properties.parent_region` — область;\n",
    "\n",
    "*  `properties.road_conditions` — состояние покрытия;\n",
    "\n",
    "*  `properties.participants_count` — число участников;\n",
    "\n",
    "*  `properties.participant_categories` — категории участников.\n",
    "\n",
    "`Moscowskaya_oblast_participiants.csv`, `Kirovskaya_oblast_participiants.csv` — сведения об участниках ДТП:\n",
    "\n",
    "* `role` — роль;\n",
    "\n",
    "* `gender` — пол;\n",
    "\n",
    "* `violations` — какие правила дорожного движения были нарушены конкретным участником;\n",
    "\n",
    "* `health_status` — состояние здоровья после  ДТП;\n",
    "\n",
    "* `years_of_driving_experience` — число лет опыта;\n",
    "\n",
    "* `id` — идентификатор ДТП.\n",
    "\n",
    "\n",
    "`Kirovskaya_oblast_vehicles.csv`, `Moscowskaya_oblast_vehicles.csv` — сведения о транспортных средствах:\n",
    "\n",
    "* `year` — год выпуска;\n",
    "\n",
    "* `brand` — марка транспортного средства;\n",
    "\n",
    "* `color` — цвет;\n",
    "\n",
    "* `model` — модель;\n",
    "\n",
    "* `category` — категория;\n",
    "\n",
    "* `id` — идентификатор ДТП."
   ]
  },
  {
   "cell_type": "markdown",
   "metadata": {},
   "source": [
    "## Содержимое проекта\n",
    "<font color='#7030a0'> Основные шаги проекта: \n",
    "- Замена названий (меток) столбцов на оптимальные для работы;\n",
    "- Проверка ошибок в данных и их предоработка;\n",
    "- Проверка на наличие явных и неявных дубликатов в данных;\n",
    "- Проверка корректности типов\n",
    "- Исследовательский анализ    \n",
    "</font>   "
   ]
  },
  {
   "cell_type": "markdown",
   "metadata": {
    "id": "igXM2EUwJQeu"
   },
   "source": [
    "##  Проверка ошибок в данных и их предобработка\n",
    "\n"
   ]
  },
  {
   "cell_type": "code",
   "execution_count": 1,
   "metadata": {},
   "outputs": [],
   "source": [
    "#Подключаем библиотеку pandas\n",
    "import pandas as pd"
   ]
  },
  {
   "cell_type": "code",
   "execution_count": 2,
   "metadata": {},
   "outputs": [
    {
     "name": "stdout",
     "output_type": "stream",
     "text": [
      "Requirement already satisfied: phik in /opt/conda/lib/python3.9/site-packages (0.12.4)\r\n",
      "Requirement already satisfied: scipy>=1.5.2 in /opt/conda/lib/python3.9/site-packages (from phik) (1.9.1)\r\n",
      "Requirement already satisfied: pandas>=0.25.1 in /opt/conda/lib/python3.9/site-packages (from phik) (1.2.4)\r\n",
      "Requirement already satisfied: numpy>=1.18.0 in /opt/conda/lib/python3.9/site-packages (from phik) (1.21.1)\r\n",
      "Requirement already satisfied: joblib>=0.14.1 in /opt/conda/lib/python3.9/site-packages (from phik) (1.1.0)\r\n",
      "Requirement already satisfied: matplotlib>=2.2.3 in /opt/conda/lib/python3.9/site-packages (from phik) (3.3.4)\r\n",
      "Requirement already satisfied: pillow>=6.2.0 in /opt/conda/lib/python3.9/site-packages (from matplotlib>=2.2.3->phik) (8.4.0)\r\n",
      "Requirement already satisfied: kiwisolver>=1.0.1 in /opt/conda/lib/python3.9/site-packages (from matplotlib>=2.2.3->phik) (1.4.4)\r\n",
      "Requirement already satisfied: python-dateutil>=2.1 in /opt/conda/lib/python3.9/site-packages (from matplotlib>=2.2.3->phik) (2.8.1)\r\n",
      "Requirement already satisfied: cycler>=0.10 in /opt/conda/lib/python3.9/site-packages (from matplotlib>=2.2.3->phik) (0.11.0)\r\n",
      "Requirement already satisfied: pyparsing!=2.0.4,!=2.1.2,!=2.1.6,>=2.0.3 in /opt/conda/lib/python3.9/site-packages (from matplotlib>=2.2.3->phik) (2.4.7)\r\n",
      "Requirement already satisfied: pytz>=2017.3 in /opt/conda/lib/python3.9/site-packages (from pandas>=0.25.1->phik) (2021.1)\r\n",
      "Requirement already satisfied: six>=1.5 in /opt/conda/lib/python3.9/site-packages (from python-dateutil>=2.1->matplotlib>=2.2.3->phik) (1.16.0)\r\n"
     ]
    }
   ],
   "source": [
    "#Загружаем библиотеки для визуализации данных\n",
    "import matplotlib.pyplot as plt\n",
    "import seaborn as sns\n",
    "import numpy as np\n",
    "!pip install phik"
   ]
  },
  {
   "cell_type": "code",
   "execution_count": 3,
   "metadata": {},
   "outputs": [],
   "source": [
    "# Загрузим библиотеку для расчета коэффициента корреляции\n",
    "from phik import phik_matrix"
   ]
  },
  {
   "cell_type": "code",
   "execution_count": 4,
   "metadata": {},
   "outputs": [],
   "source": [
    "#Загружаем данные в датафрейм\n",
    "df=pd.read_csv('/datasets/Kirovskaya_oblast.csv')"
   ]
  },
  {
   "cell_type": "code",
   "execution_count": 5,
   "metadata": {
    "scrolled": true
   },
   "outputs": [
    {
     "data": {
      "text/html": [
       "<div>\n",
       "<style scoped>\n",
       "    .dataframe tbody tr th:only-of-type {\n",
       "        vertical-align: middle;\n",
       "    }\n",
       "\n",
       "    .dataframe tbody tr th {\n",
       "        vertical-align: top;\n",
       "    }\n",
       "\n",
       "    .dataframe thead th {\n",
       "        text-align: right;\n",
       "    }\n",
       "</style>\n",
       "<table border=\"1\" class=\"dataframe\">\n",
       "  <thead>\n",
       "    <tr style=\"text-align: right;\">\n",
       "      <th></th>\n",
       "      <th>geometry.coordinates</th>\n",
       "      <th>id</th>\n",
       "      <th>properties.tags</th>\n",
       "      <th>properties.light</th>\n",
       "      <th>properties.point.lat</th>\n",
       "      <th>properties.point.long</th>\n",
       "      <th>properties.nearby</th>\n",
       "      <th>properties.region</th>\n",
       "      <th>properties.scheme</th>\n",
       "      <th>properties.address</th>\n",
       "      <th>properties.weather</th>\n",
       "      <th>properties.category</th>\n",
       "      <th>properties.datetime</th>\n",
       "      <th>properties.injured_count</th>\n",
       "      <th>properties.parent_region</th>\n",
       "      <th>properties.road_conditions</th>\n",
       "      <th>properties.participants_count</th>\n",
       "      <th>properties.participant_categories</th>\n",
       "    </tr>\n",
       "  </thead>\n",
       "  <tbody>\n",
       "    <tr>\n",
       "      <th>0</th>\n",
       "      <td>[47.875603, 57.24379]</td>\n",
       "      <td>1983180</td>\n",
       "      <td>Дорожно-транспортные происшествия</td>\n",
       "      <td>Светлое время суток</td>\n",
       "      <td>57.243790</td>\n",
       "      <td>47.875603</td>\n",
       "      <td>[]</td>\n",
       "      <td>Яранский район</td>\n",
       "      <td>600.0</td>\n",
       "      <td>Р-176 Вятка Чебоксары - Йошкар-Ола - Киров - С...</td>\n",
       "      <td>['Дождь']</td>\n",
       "      <td>Опрокидывание</td>\n",
       "      <td>2017-07-01 18:00:00</td>\n",
       "      <td>1</td>\n",
       "      <td>Кировская область</td>\n",
       "      <td>['Мокрое']</td>\n",
       "      <td>3</td>\n",
       "      <td>['Все участники']</td>\n",
       "    </tr>\n",
       "    <tr>\n",
       "      <th>1</th>\n",
       "      <td>[47.87903, 57.304807]</td>\n",
       "      <td>2889433</td>\n",
       "      <td>Дорожно-транспортные происшествия</td>\n",
       "      <td>Светлое время суток</td>\n",
       "      <td>57.304807</td>\n",
       "      <td>47.879030</td>\n",
       "      <td>['Административные здания', 'Нерегулируемый пе...</td>\n",
       "      <td>Яранский район</td>\n",
       "      <td>710.0</td>\n",
       "      <td>г Яранск, ул Кирова, 10</td>\n",
       "      <td>['Ясно']</td>\n",
       "      <td>Наезд на пешехода</td>\n",
       "      <td>2023-09-12 17:10:00</td>\n",
       "      <td>1</td>\n",
       "      <td>Кировская область</td>\n",
       "      <td>['Сухое', 'Отсутствие, плохая различимость гор...</td>\n",
       "      <td>2</td>\n",
       "      <td>['Все участники', 'Пешеходы']</td>\n",
       "    </tr>\n",
       "    <tr>\n",
       "      <th>2</th>\n",
       "      <td>[47.840781, 57.297156]</td>\n",
       "      <td>2591208</td>\n",
       "      <td>Дорожно-транспортные происшествия</td>\n",
       "      <td>Сумерки</td>\n",
       "      <td>57.297156</td>\n",
       "      <td>47.840781</td>\n",
       "      <td>['Жилые дома индивидуальной застройки', 'Нерег...</td>\n",
       "      <td>Яранский район</td>\n",
       "      <td>NaN</td>\n",
       "      <td>г Яранск, ул Чапаева, 80</td>\n",
       "      <td>['Пасмурно']</td>\n",
       "      <td>Съезд с дороги</td>\n",
       "      <td>2021-07-02 21:25:00</td>\n",
       "      <td>1</td>\n",
       "      <td>Кировская область</td>\n",
       "      <td>['Мокрое']</td>\n",
       "      <td>1</td>\n",
       "      <td>['Все участники']</td>\n",
       "    </tr>\n",
       "    <tr>\n",
       "      <th>3</th>\n",
       "      <td>[47.834365, 57.244775]</td>\n",
       "      <td>2577639</td>\n",
       "      <td>Дорожно-транспортные происшествия</td>\n",
       "      <td>Светлое время суток</td>\n",
       "      <td>57.244775</td>\n",
       "      <td>47.834365</td>\n",
       "      <td>['Жилые дома индивидуальной застройки']</td>\n",
       "      <td>Яранский район</td>\n",
       "      <td>200.0</td>\n",
       "      <td>м Знаменка, ул Кирова, 15</td>\n",
       "      <td>['Пасмурно']</td>\n",
       "      <td>Столкновение</td>\n",
       "      <td>2021-05-31 18:55:00</td>\n",
       "      <td>1</td>\n",
       "      <td>Кировская область</td>\n",
       "      <td>['Сухое']</td>\n",
       "      <td>2</td>\n",
       "      <td>['Все участники', 'Мотоциклисты']</td>\n",
       "    </tr>\n",
       "    <tr>\n",
       "      <th>4</th>\n",
       "      <td>[47.968197, 57.357738]</td>\n",
       "      <td>1981026</td>\n",
       "      <td>Дорожно-транспортные происшествия</td>\n",
       "      <td>Светлое время суток</td>\n",
       "      <td>57.357738</td>\n",
       "      <td>47.968197</td>\n",
       "      <td>['Нерегулируемый перекрёсток неравнозначных ул...</td>\n",
       "      <td>Яранский район</td>\n",
       "      <td>NaN</td>\n",
       "      <td>с/п Никольское, Киров-Советск- Яранск - подъез...</td>\n",
       "      <td>['Ясно']</td>\n",
       "      <td>Опрокидывание</td>\n",
       "      <td>2018-05-16 16:25:00</td>\n",
       "      <td>2</td>\n",
       "      <td>Кировская область</td>\n",
       "      <td>['Сухое', 'Отсутствие, плохая различимость гор...</td>\n",
       "      <td>2</td>\n",
       "      <td>['Все участники']</td>\n",
       "    </tr>\n",
       "  </tbody>\n",
       "</table>\n",
       "</div>"
      ],
      "text/plain": [
       "     geometry.coordinates       id                    properties.tags  \\\n",
       "0   [47.875603, 57.24379]  1983180  Дорожно-транспортные происшествия   \n",
       "1   [47.87903, 57.304807]  2889433  Дорожно-транспортные происшествия   \n",
       "2  [47.840781, 57.297156]  2591208  Дорожно-транспортные происшествия   \n",
       "3  [47.834365, 57.244775]  2577639  Дорожно-транспортные происшествия   \n",
       "4  [47.968197, 57.357738]  1981026  Дорожно-транспортные происшествия   \n",
       "\n",
       "      properties.light  properties.point.lat  properties.point.long  \\\n",
       "0  Светлое время суток             57.243790              47.875603   \n",
       "1  Светлое время суток             57.304807              47.879030   \n",
       "2              Сумерки             57.297156              47.840781   \n",
       "3  Светлое время суток             57.244775              47.834365   \n",
       "4  Светлое время суток             57.357738              47.968197   \n",
       "\n",
       "                                   properties.nearby properties.region  \\\n",
       "0                                                 []    Яранский район   \n",
       "1  ['Административные здания', 'Нерегулируемый пе...    Яранский район   \n",
       "2  ['Жилые дома индивидуальной застройки', 'Нерег...    Яранский район   \n",
       "3            ['Жилые дома индивидуальной застройки']    Яранский район   \n",
       "4  ['Нерегулируемый перекрёсток неравнозначных ул...    Яранский район   \n",
       "\n",
       "   properties.scheme                                 properties.address  \\\n",
       "0              600.0  Р-176 Вятка Чебоксары - Йошкар-Ола - Киров - С...   \n",
       "1              710.0                            г Яранск, ул Кирова, 10   \n",
       "2                NaN                           г Яранск, ул Чапаева, 80   \n",
       "3              200.0                          м Знаменка, ул Кирова, 15   \n",
       "4                NaN  с/п Никольское, Киров-Советск- Яранск - подъез...   \n",
       "\n",
       "  properties.weather properties.category  properties.datetime  \\\n",
       "0          ['Дождь']       Опрокидывание  2017-07-01 18:00:00   \n",
       "1           ['Ясно']   Наезд на пешехода  2023-09-12 17:10:00   \n",
       "2       ['Пасмурно']      Съезд с дороги  2021-07-02 21:25:00   \n",
       "3       ['Пасмурно']        Столкновение  2021-05-31 18:55:00   \n",
       "4           ['Ясно']       Опрокидывание  2018-05-16 16:25:00   \n",
       "\n",
       "   properties.injured_count properties.parent_region  \\\n",
       "0                         1        Кировская область   \n",
       "1                         1        Кировская область   \n",
       "2                         1        Кировская область   \n",
       "3                         1        Кировская область   \n",
       "4                         2        Кировская область   \n",
       "\n",
       "                          properties.road_conditions  \\\n",
       "0                                         ['Мокрое']   \n",
       "1  ['Сухое', 'Отсутствие, плохая различимость гор...   \n",
       "2                                         ['Мокрое']   \n",
       "3                                          ['Сухое']   \n",
       "4  ['Сухое', 'Отсутствие, плохая различимость гор...   \n",
       "\n",
       "   properties.participants_count  properties.participant_categories  \n",
       "0                              3                  ['Все участники']  \n",
       "1                              2      ['Все участники', 'Пешеходы']  \n",
       "2                              1                  ['Все участники']  \n",
       "3                              2  ['Все участники', 'Мотоциклисты']  \n",
       "4                              2                  ['Все участники']  "
      ]
     },
     "metadata": {},
     "output_type": "display_data"
    }
   ],
   "source": [
    "#Отображение первых пяти строк и их наименований\n",
    "display(df.head())"
   ]
  },
  {
   "cell_type": "code",
   "execution_count": 6,
   "metadata": {
    "scrolled": false
   },
   "outputs": [
    {
     "name": "stdout",
     "output_type": "stream",
     "text": [
      "<class 'pandas.core.frame.DataFrame'>\n",
      "RangeIndex: 14517 entries, 0 to 14516\n",
      "Data columns (total 18 columns):\n",
      " #   Column                             Non-Null Count  Dtype  \n",
      "---  ------                             --------------  -----  \n",
      " 0   geometry.coordinates               14517 non-null  object \n",
      " 1   id                                 14517 non-null  int64  \n",
      " 2   properties.tags                    14517 non-null  object \n",
      " 3   properties.light                   14517 non-null  object \n",
      " 4   properties.point.lat               14485 non-null  float64\n",
      " 5   properties.point.long              14485 non-null  float64\n",
      " 6   properties.nearby                  14517 non-null  object \n",
      " 7   properties.region                  14517 non-null  object \n",
      " 8   properties.scheme                  13380 non-null  float64\n",
      " 9   properties.address                 13843 non-null  object \n",
      " 10  properties.weather                 14517 non-null  object \n",
      " 11  properties.category                14517 non-null  object \n",
      " 12  properties.datetime                14517 non-null  object \n",
      " 13  properties.injured_count           14517 non-null  int64  \n",
      " 14  properties.parent_region           14517 non-null  object \n",
      " 15  properties.road_conditions         14517 non-null  object \n",
      " 16  properties.participants_count      14517 non-null  int64  \n",
      " 17  properties.participant_categories  14517 non-null  object \n",
      "dtypes: float64(3), int64(3), object(12)\n",
      "memory usage: 2.0+ MB\n"
     ]
    }
   ],
   "source": [
    "#Отображение общей информации по датафрейму\n",
    "df.info()"
   ]
  },
  {
   "cell_type": "markdown",
   "metadata": {},
   "source": [
    "<font color='#7030a0'> Промежуточные выводы: \n",
    "1. Датафрейм содержит 14517 записей и 4 столбца из них есть пропущенные значения:\n",
    "- ` properties.point.lat ` и   properties.point.long (32 пропуска)\n",
    "- ` propeddrties.scheme `(1137 пропуска)\n",
    "- ` properties.address ` (674 пропуска)\n",
    "Некорректные типы данных:\n",
    "    -\n",
    "  \n",
    "</font>   "
   ]
  },
  {
   "cell_type": "markdown",
   "metadata": {},
   "source": [
    "<font color='#7030a0'> Промежуточные выводы: Всего 14517 строк, пропуски содержатся в следующих стобцах:\n",
    "- `properties.point.lat` (32)-широта и долгота не является очевидно обязательными столбцами, можно использовать координаты\n",
    "- `properties.point.long` (32)-широта и долгота не является очевидно обязательными столбцами, можно использовать координаты\n",
    "- `properties.scheme` (1137)-схема, надо заполнить значением загрушкой, так как не очевидно, случайно ли пропустили данные или это поле не является обязательным к заполнению\n",
    "- `properties.address`(674). -адрес, надо заполнить значением загрушкой, так как не очевидно, слуяайно ли пропустили данные или это поле не является обязательным к заполнению\n",
    "</font>     "
   ]
  },
  {
   "cell_type": "markdown",
   "metadata": {
    "id": "IeZjY9f9MPgb"
   },
   "source": [
    "### Замена названий (меток) столбцов на оптимальные для работы"
   ]
  },
  {
   "cell_type": "code",
   "execution_count": 7,
   "metadata": {},
   "outputs": [
    {
     "name": "stdout",
     "output_type": "stream",
     "text": [
      "Index(['geometry_coordinates', 'id', 'tags', 'light', 'point_lat',\n",
      "       'point_long', 'nearby', 'region', 'scheme', 'address', 'weather',\n",
      "       'category', 'datetime', 'injured_count', 'parent_region',\n",
      "       'road_conditions', 'participants_count', 'participant_categories'],\n",
      "      dtype='object')\n"
     ]
    }
   ],
   "source": [
    "df.columns = df.columns.str.replace('properties.', '', regex=True)\n",
    "df.columns = df.columns.str.replace('.', '_', regex=True)\n",
    "print(df.columns)"
   ]
  },
  {
   "cell_type": "markdown",
   "metadata": {},
   "source": [
    "<font color='#7030a0'> Промежуточные выводы: Наименования приведены к более удобному формату\n",
    "</font>  "
   ]
  },
  {
   "cell_type": "markdown",
   "metadata": {
    "id": "WO_WoGOFMLwN"
   },
   "source": [
    "### Проверка пропусков в данных\n",
    "\n",
    "На примере датасета `Kirovskaya_oblast.csv` изучите, в каких столбцах есть пропуски. Предположите причины их возникновения. Напишите рекомендации, как работать с  пропусками и как их в дальнейшем избежать."
   ]
  },
  {
   "cell_type": "code",
   "execution_count": 8,
   "metadata": {},
   "outputs": [
    {
     "data": {
      "text/plain": [
       "geometry_coordinates      0.0\n",
       "id                        0.0\n",
       "tags                      0.0\n",
       "light                     0.0\n",
       "point_lat                 0.0\n",
       "point_long                0.0\n",
       "nearby                    0.0\n",
       "region                    0.0\n",
       "scheme                    8.0\n",
       "address                   5.0\n",
       "weather                   0.0\n",
       "category                  0.0\n",
       "datetime                  0.0\n",
       "injured_count             0.0\n",
       "parent_region             0.0\n",
       "road_conditions           0.0\n",
       "participants_count        0.0\n",
       "participant_categories    0.0\n",
       "dtype: float64"
      ]
     },
     "execution_count": 8,
     "metadata": {},
     "output_type": "execute_result"
    }
   ],
   "source": [
    "#Находим долю пропущенных данных\n",
    "round(df.isna().sum()/len(df)*100,0)\n"
   ]
  },
  {
   "cell_type": "code",
   "execution_count": 9,
   "metadata": {
    "scrolled": true
   },
   "outputs": [
    {
     "data": {
      "text/html": [
       "<div>\n",
       "<style scoped>\n",
       "    .dataframe tbody tr th:only-of-type {\n",
       "        vertical-align: middle;\n",
       "    }\n",
       "\n",
       "    .dataframe tbody tr th {\n",
       "        vertical-align: top;\n",
       "    }\n",
       "\n",
       "    .dataframe thead th {\n",
       "        text-align: right;\n",
       "    }\n",
       "</style>\n",
       "<table border=\"1\" class=\"dataframe\">\n",
       "  <thead>\n",
       "    <tr style=\"text-align: right;\">\n",
       "      <th></th>\n",
       "      <th>geometry_coordinates</th>\n",
       "      <th>id</th>\n",
       "      <th>tags</th>\n",
       "      <th>light</th>\n",
       "      <th>point_lat</th>\n",
       "      <th>point_long</th>\n",
       "      <th>nearby</th>\n",
       "      <th>region</th>\n",
       "      <th>scheme</th>\n",
       "      <th>address</th>\n",
       "      <th>weather</th>\n",
       "      <th>category</th>\n",
       "      <th>datetime</th>\n",
       "      <th>injured_count</th>\n",
       "      <th>parent_region</th>\n",
       "      <th>road_conditions</th>\n",
       "      <th>participants_count</th>\n",
       "      <th>participant_categories</th>\n",
       "    </tr>\n",
       "  </thead>\n",
       "  <tbody>\n",
       "    <tr>\n",
       "      <th>18</th>\n",
       "      <td>[47.703667, 57.398549]</td>\n",
       "      <td>1981028</td>\n",
       "      <td>Дорожно-транспортные происшествия</td>\n",
       "      <td>В темное время суток, освещение отсутствует</td>\n",
       "      <td>57.398549</td>\n",
       "      <td>47.703667</td>\n",
       "      <td>[]</td>\n",
       "      <td>Яранский район</td>\n",
       "      <td>820.0</td>\n",
       "      <td>NaN</td>\n",
       "      <td>['Пасмурно']</td>\n",
       "      <td>Наезд на пешехода</td>\n",
       "      <td>2018-05-01 22:10:00</td>\n",
       "      <td>1</td>\n",
       "      <td>Кировская область</td>\n",
       "      <td>['Сухое']</td>\n",
       "      <td>2</td>\n",
       "      <td>['Все участники', 'Пешеходы']</td>\n",
       "    </tr>\n",
       "    <tr>\n",
       "      <th>59</th>\n",
       "      <td>[47.969474, 57.105731]</td>\n",
       "      <td>2875566</td>\n",
       "      <td>Дорожно-транспортные происшествия</td>\n",
       "      <td>Светлое время суток</td>\n",
       "      <td>57.105731</td>\n",
       "      <td>47.969474</td>\n",
       "      <td>[]</td>\n",
       "      <td>Яранский район</td>\n",
       "      <td>950.0</td>\n",
       "      <td>NaN</td>\n",
       "      <td>['Ясно']</td>\n",
       "      <td>Опрокидывание</td>\n",
       "      <td>2023-08-13 16:20:00</td>\n",
       "      <td>1</td>\n",
       "      <td>Кировская область</td>\n",
       "      <td>['Сухое']</td>\n",
       "      <td>1</td>\n",
       "      <td>['Все участники']</td>\n",
       "    </tr>\n",
       "    <tr>\n",
       "      <th>63</th>\n",
       "      <td>[47.891099, 57.309193]</td>\n",
       "      <td>2875597</td>\n",
       "      <td>Дорожно-транспортные происшествия</td>\n",
       "      <td>Светлое время суток</td>\n",
       "      <td>57.309193</td>\n",
       "      <td>47.891099</td>\n",
       "      <td>['Многоквартирные жилые дома', 'Внутридворовая...</td>\n",
       "      <td>Яранский район</td>\n",
       "      <td>410.0</td>\n",
       "      <td>NaN</td>\n",
       "      <td>['Ясно']</td>\n",
       "      <td>Столкновение</td>\n",
       "      <td>2023-08-01 12:35:00</td>\n",
       "      <td>1</td>\n",
       "      <td>Кировская область</td>\n",
       "      <td>['Сухое']</td>\n",
       "      <td>2</td>\n",
       "      <td>['Все участники', 'Мотоциклисты']</td>\n",
       "    </tr>\n",
       "    <tr>\n",
       "      <th>95</th>\n",
       "      <td>[47.906871, 57.020891]</td>\n",
       "      <td>2861063</td>\n",
       "      <td>Дорожно-транспортные происшествия</td>\n",
       "      <td>Светлое время суток</td>\n",
       "      <td>57.020891</td>\n",
       "      <td>47.906871</td>\n",
       "      <td>[]</td>\n",
       "      <td>Яранский район</td>\n",
       "      <td>600.0</td>\n",
       "      <td>NaN</td>\n",
       "      <td>['Пасмурно']</td>\n",
       "      <td>Съезд с дороги</td>\n",
       "      <td>2023-07-22 03:50:00</td>\n",
       "      <td>3</td>\n",
       "      <td>Кировская область</td>\n",
       "      <td>['Мокрое']</td>\n",
       "      <td>3</td>\n",
       "      <td>['Все участники']</td>\n",
       "    </tr>\n",
       "    <tr>\n",
       "      <th>130</th>\n",
       "      <td>[47.828239, 57.298419]</td>\n",
       "      <td>1984517</td>\n",
       "      <td>Дорожно-транспортные происшествия</td>\n",
       "      <td>Светлое время суток</td>\n",
       "      <td>57.298419</td>\n",
       "      <td>47.828239</td>\n",
       "      <td>['АЗС', 'Автостоянка (отделенная от проезжей ч...</td>\n",
       "      <td>Яранский район</td>\n",
       "      <td>830.0</td>\n",
       "      <td>NaN</td>\n",
       "      <td>['Ясно']</td>\n",
       "      <td>Наезд на пешехода</td>\n",
       "      <td>2020-06-25 08:50:00</td>\n",
       "      <td>1</td>\n",
       "      <td>Кировская область</td>\n",
       "      <td>['Сухое']</td>\n",
       "      <td>2</td>\n",
       "      <td>['Все участники', 'Пешеходы']</td>\n",
       "    </tr>\n",
       "  </tbody>\n",
       "</table>\n",
       "</div>"
      ],
      "text/plain": [
       "       geometry_coordinates       id                               tags  \\\n",
       "18   [47.703667, 57.398549]  1981028  Дорожно-транспортные происшествия   \n",
       "59   [47.969474, 57.105731]  2875566  Дорожно-транспортные происшествия   \n",
       "63   [47.891099, 57.309193]  2875597  Дорожно-транспортные происшествия   \n",
       "95   [47.906871, 57.020891]  2861063  Дорожно-транспортные происшествия   \n",
       "130  [47.828239, 57.298419]  1984517  Дорожно-транспортные происшествия   \n",
       "\n",
       "                                           light  point_lat  point_long  \\\n",
       "18   В темное время суток, освещение отсутствует  57.398549   47.703667   \n",
       "59                           Светлое время суток  57.105731   47.969474   \n",
       "63                           Светлое время суток  57.309193   47.891099   \n",
       "95                           Светлое время суток  57.020891   47.906871   \n",
       "130                          Светлое время суток  57.298419   47.828239   \n",
       "\n",
       "                                                nearby          region  \\\n",
       "18                                                  []  Яранский район   \n",
       "59                                                  []  Яранский район   \n",
       "63   ['Многоквартирные жилые дома', 'Внутридворовая...  Яранский район   \n",
       "95                                                  []  Яранский район   \n",
       "130  ['АЗС', 'Автостоянка (отделенная от проезжей ч...  Яранский район   \n",
       "\n",
       "     scheme address       weather           category             datetime  \\\n",
       "18    820.0     NaN  ['Пасмурно']  Наезд на пешехода  2018-05-01 22:10:00   \n",
       "59    950.0     NaN      ['Ясно']      Опрокидывание  2023-08-13 16:20:00   \n",
       "63    410.0     NaN      ['Ясно']       Столкновение  2023-08-01 12:35:00   \n",
       "95    600.0     NaN  ['Пасмурно']     Съезд с дороги  2023-07-22 03:50:00   \n",
       "130   830.0     NaN      ['Ясно']  Наезд на пешехода  2020-06-25 08:50:00   \n",
       "\n",
       "     injured_count      parent_region road_conditions  participants_count  \\\n",
       "18               1  Кировская область       ['Сухое']                   2   \n",
       "59               1  Кировская область       ['Сухое']                   1   \n",
       "63               1  Кировская область       ['Сухое']                   2   \n",
       "95               3  Кировская область      ['Мокрое']                   3   \n",
       "130              1  Кировская область       ['Сухое']                   2   \n",
       "\n",
       "                participant_categories  \n",
       "18       ['Все участники', 'Пешеходы']  \n",
       "59                   ['Все участники']  \n",
       "63   ['Все участники', 'Мотоциклисты']  \n",
       "95                   ['Все участники']  \n",
       "130      ['Все участники', 'Пешеходы']  "
      ]
     },
     "metadata": {},
     "output_type": "display_data"
    }
   ],
   "source": [
    "\n",
    "# Условие для NaN или пустых строк\n",
    "empty_address_df = df[df['address'].isna() | (df['address'] == '')]\n",
    "display(empty_address_df.head())"
   ]
  },
  {
   "cell_type": "markdown",
   "metadata": {},
   "source": [
    "<font color='#7030a0'> Промежуточные выводы:\n",
    "1. Столбец: `geometry_coordinates`, Тип данных: object. Оюъединенные даные со столбцов `point_lat` и `point_long`. Рекомендация удалить;\n",
    "2. Столбец: `datetime`, Тип данных: object. Перевести в формат даты и время\n",
    "3. Проверка оптимизация форматов для `id`,`point_lat`, `point_long`, `scheme`, `injured_count`,`participants_count`\n",
    "</font>  "
   ]
  },
  {
   "cell_type": "markdown",
   "metadata": {},
   "source": [
    "Промежуточные выводы:\n",
    "1. Столбец: `geometry_coordinates`, Тип данных: object. Оюъединенные даные со столбцов `point_lat` и `point_long`. Рекомендация удалить;\n",
    "2. Столбец: `datetime`, Тип данных: object. Перевести в формат даты и время\n",
    "3. Проверка оптимизация форматов для `id`,`point_lat`, `point_long`, `scheme`, `injured_count`,`participants_count`"
   ]
  },
  {
   "cell_type": "markdown",
   "metadata": {
    "id": "8J3L9kYZ8XZx"
   },
   "source": [
    "### Наличие явных и неявных дубликатов в данных\n",
    "\n"
   ]
  },
  {
   "cell_type": "markdown",
   "metadata": {
    "id": "1cAm27OH8gKN"
   },
   "source": [
    "Есть ли явные дубликаты в данных, какой это процент значений?"
   ]
  },
  {
   "cell_type": "code",
   "execution_count": 10,
   "metadata": {},
   "outputs": [
    {
     "data": {
      "text/plain": [
       "'Количество дубликатов: 0'"
      ]
     },
     "metadata": {},
     "output_type": "display_data"
    }
   ],
   "source": [
    "sum_dublicates=df.duplicated().sum()\n",
    "display(f'Количество дубликатов: {sum_dublicates}') "
   ]
  },
  {
   "cell_type": "code",
   "execution_count": 11,
   "metadata": {},
   "outputs": [
    {
     "data": {
      "text/plain": [
       "Index(['geometry_coordinates', 'id', 'tags', 'light', 'point_lat',\n",
       "       'point_long', 'nearby', 'region', 'scheme', 'address', 'weather',\n",
       "       'category', 'datetime', 'injured_count', 'parent_region',\n",
       "       'road_conditions', 'participants_count', 'participant_categories'],\n",
       "      dtype='object')"
      ]
     },
     "execution_count": 11,
     "metadata": {},
     "output_type": "execute_result"
    }
   ],
   "source": [
    "df.columns"
   ]
  },
  {
   "cell_type": "code",
   "execution_count": 12,
   "metadata": {
    "scrolled": false
   },
   "outputs": [
    {
     "name": "stdout",
     "output_type": "stream",
     "text": [
      "Столбец: id\n",
      "Уникальные значения: [1983180 2889433 2591208 ... 1985949 1986807 1987515]\n",
      "Тип данных: int64\n",
      "--------------------------------------------------\n",
      "Столбец: tags\n",
      "Уникальные значения: ['Дорожно-транспортные происшествия']\n",
      "Тип данных: object\n",
      "--------------------------------------------------\n",
      "Столбец: light\n",
      "Уникальные значения: ['Светлое время суток' 'Сумерки'\n",
      " 'В темное время суток, освещение отсутствует'\n",
      " 'В темное время суток, освещение не включено'\n",
      " 'В темное время суток, освещение включено']\n",
      "Тип данных: object\n",
      "--------------------------------------------------\n",
      "Столбец: nearby\n",
      "Уникальные значения: ['[]'\n",
      " \"['Административные здания', 'Нерегулируемый перекрёсток неравнозначных улиц (дорог)', 'Нерегулируемый пешеходный переход']\"\n",
      " \"['Жилые дома индивидуальной застройки', 'Нерегулируемый перекрёсток равнозначных улиц (дорог)']\"\n",
      " ...\n",
      " \"['Многоквартирные жилые дома', 'Нерегулируемый перекрёсток неравнозначных улиц (дорог)', 'Нерегулируемый перекрёсток', 'Лечебные учреждения']\"\n",
      " \"['Многоквартирные жилые дома', 'Иной объект', 'Нерегулируемый пешеходный переход', 'Спортивные и развлекательные объекты']\"\n",
      " \"['Многоквартирные жилые дома', 'Жилые дома индивидуальной застройки', 'Крупный торговый объект (являющийся объектом массового тяготения пешеходов и (или) транспорта)', 'Нерегулируемый перекрёсток неравнозначных улиц (дорог)', 'Нерегулируемый перекрёсток']\"]\n",
      "Тип данных: object\n",
      "--------------------------------------------------\n",
      "Столбец: region\n",
      "Уникальные значения: ['Яранский район' 'Шабалинский район' 'Фаленский район' 'Уржумский район'\n",
      " 'Унинский район' 'Тужинский район' 'Сунский район' 'Советский район'\n",
      " 'Свечинский район' 'Санчурский район' 'Подосиновский район'\n",
      " 'Пижанский район' 'Орловский район' 'Оричевский район' 'Опаринскийрайон'\n",
      " 'Омутнинский район' 'Нолинский район' 'Немский район' 'Нагорский район'\n",
      " 'Мурашинский район' 'Малмыжский район' 'Лузский район' 'Лебяжский район'\n",
      " 'Куменский район' 'Кильмезский район' 'Кикнурский район' 'Зуевский район'\n",
      " 'Даровской район' 'Верхошижемский район' 'Верхнекамский район'\n",
      " 'Богородский район' 'Белохолуницкий район' 'Афанасьевский район'\n",
      " 'Арбажский район' 'Киров' 'Юрьянский район' 'Котельничский район'\n",
      " 'Слободской район' 'Кирово-Чепецки район' 'Вятско-Полянский район']\n",
      "Тип данных: object\n",
      "--------------------------------------------------\n",
      "Столбец: weather\n",
      "Уникальные значения: [\"['Дождь']\" \"['Ясно']\" \"['Пасмурно']\" \"['Снегопад']\"\n",
      " \"['Снегопад', 'Метель']\" \"['Пасмурно', 'Дождь']\" \"['Туман']\"\n",
      " \"['Пасмурно', 'Температура ниже -30С']\" \"['Пасмурно', 'Снегопад']\"\n",
      " \"['Ясно', 'Температура выше +30С']\" \"['Пасмурно', 'Туман']\" \"['Метель']\"\n",
      " \"['Пасмурно', 'Метель']\" \"['Ясно', 'Температура ниже -30С']\"\n",
      " \"['Пасмурно', 'Ураганный ветер']\" \"['Ясно', 'Туман']\"\n",
      " \"['Дождь', 'Туман']\" \"['Дождь', 'Снегопад']\"]\n",
      "Тип данных: object\n",
      "--------------------------------------------------\n",
      "Столбец: category\n",
      "Уникальные значения: ['Опрокидывание' 'Наезд на пешехода' 'Съезд с дороги' 'Столкновение'\n",
      " 'Наезд на препятствие' 'Наезд на велосипедиста' 'Наезд на животное'\n",
      " 'Наезд на стоящее ТС' 'Падение пассажира'\n",
      " 'Наезд на лицо, не являющееся участником дорожного движения, осуществляющее производство работ'\n",
      " 'Наезд на лицо, не являющееся участником дорожного движения, осуществляющее несение службы'\n",
      " 'Иной вид ДТП' 'Отбрасывание предмета'\n",
      " 'Наезд на лицо, не являющееся участником дорожного движения, осуществляющее какую-либо другую деятельность'\n",
      " 'Наезд на внезапно возникшее препятствие' 'Падение груза']\n",
      "Тип данных: object\n",
      "--------------------------------------------------\n",
      "Столбец: datetime\n",
      "Уникальные значения: ['2017-07-01 18:00:00' '2023-09-12 17:10:00' '2021-07-02 21:25:00' ...\n",
      " '2019-05-13 09:20:00' '2015-08-12 17:05:00' '2016-08-22 18:05:00']\n",
      "Тип данных: object\n",
      "--------------------------------------------------\n",
      "Столбец: injured_count\n",
      "Уникальные значения: [ 1  2  5  6  3  4  7  9  8 30 10 12]\n",
      "Тип данных: int64\n",
      "--------------------------------------------------\n",
      "Столбец: parent_region\n",
      "Уникальные значения: ['Кировская область']\n",
      "Тип данных: object\n",
      "--------------------------------------------------\n",
      "Столбец: participants_count\n",
      "Уникальные значения: [ 3  2  1  4  5  8  6  7 10  9 12 11 30 14]\n",
      "Тип данных: int64\n",
      "--------------------------------------------------\n"
     ]
    }
   ],
   "source": [
    "df_columns=df[['id', 'tags', 'light', 'nearby', 'region', 'weather', 'category',\n",
    "       'datetime', 'injured_count', 'parent_region',\n",
    "       'participants_count']]\n",
    "# Вывести уникальные значения и тип данных для всех столбцов\n",
    "for column in df_columns:\n",
    "    print(f\"Столбец: {column}\")\n",
    "    print(\"Уникальные значения:\", df[column].unique())\n",
    "    print(\"Тип данных:\", df[column].dtype)\n",
    "    print(\"-\" * 50)"
   ]
  },
  {
   "cell_type": "markdown",
   "metadata": {},
   "source": [
    "<font color='#7030a0'> Промежуточные выводы:\n",
    "1. Дубликатов не обнаружено\n",
    "</font>  "
   ]
  },
  {
   "cell_type": "markdown",
   "metadata": {
    "id": "FQyJB_QL-GQB"
   },
   "source": [
    "### Проверка корректности типов данных"
   ]
  },
  {
   "cell_type": "markdown",
   "metadata": {},
   "source": [
    "*Числовой формат данных*"
   ]
  },
  {
   "cell_type": "code",
   "execution_count": 13,
   "metadata": {
    "scrolled": true
   },
   "outputs": [
    {
     "name": "stdout",
     "output_type": "stream",
     "text": [
      "Тип данных для столбцов id:int64\n",
      "Тип данных для столбцов injured_count:int64\n",
      "Тип данных для столбцов participants_count:int64\n",
      "Тип данных для столбцов scheme:float64\n",
      "Новый тип данных для столбцов id:int32\n",
      "Новый тип данных для столбцов injured_count:int8\n",
      "Новый тип данных для столбцов participants_count:int8\n",
      "Новый тип данных для столбцов scheme:float64\n"
     ]
    }
   ],
   "source": [
    "#Проверка подборки типа с наименьшими битовыми разрядами:\n",
    "\n",
    "# Список столбцов, которые нужно преобразовать\n",
    "columns_to_convert = ['id', 'injured_count', 'participants_count','scheme']\n",
    "# Типы данных до преобразования\n",
    "for column in columns_to_convert:\n",
    "    print(f\"Тип данных для столбцов {column}:{df[column].dtype}\")\n",
    "#  Преобразование типов данных\n",
    "for column in columns_to_convert:\n",
    "    df[column]=pd.to_numeric(df[column],errors='coerce',downcast='integer')\n",
    "    print(f\"Новый тип данных для столбцов {column}:{df[column].dtype}\")\n",
    "\n",
    "    "
   ]
  },
  {
   "cell_type": "code",
   "execution_count": 14,
   "metadata": {},
   "outputs": [
    {
     "data": {
      "text/html": [
       "<div>\n",
       "<style scoped>\n",
       "    .dataframe tbody tr th:only-of-type {\n",
       "        vertical-align: middle;\n",
       "    }\n",
       "\n",
       "    .dataframe tbody tr th {\n",
       "        vertical-align: top;\n",
       "    }\n",
       "\n",
       "    .dataframe thead th {\n",
       "        text-align: right;\n",
       "    }\n",
       "</style>\n",
       "<table border=\"1\" class=\"dataframe\">\n",
       "  <thead>\n",
       "    <tr style=\"text-align: right;\">\n",
       "      <th></th>\n",
       "      <th>injured_count</th>\n",
       "      <th>participants_count</th>\n",
       "      <th>scheme</th>\n",
       "    </tr>\n",
       "  </thead>\n",
       "  <tbody>\n",
       "    <tr>\n",
       "      <th>count</th>\n",
       "      <td>14517.000000</td>\n",
       "      <td>14517.000000</td>\n",
       "      <td>13380.000000</td>\n",
       "    </tr>\n",
       "    <tr>\n",
       "      <th>mean</th>\n",
       "      <td>1.315699</td>\n",
       "      <td>2.355721</td>\n",
       "      <td>549.431241</td>\n",
       "    </tr>\n",
       "    <tr>\n",
       "      <th>std</th>\n",
       "      <td>0.793685</td>\n",
       "      <td>1.004847</td>\n",
       "      <td>293.917023</td>\n",
       "    </tr>\n",
       "    <tr>\n",
       "      <th>min</th>\n",
       "      <td>1.000000</td>\n",
       "      <td>1.000000</td>\n",
       "      <td>10.000000</td>\n",
       "    </tr>\n",
       "    <tr>\n",
       "      <th>25%</th>\n",
       "      <td>1.000000</td>\n",
       "      <td>2.000000</td>\n",
       "      <td>300.000000</td>\n",
       "    </tr>\n",
       "    <tr>\n",
       "      <th>50%</th>\n",
       "      <td>1.000000</td>\n",
       "      <td>2.000000</td>\n",
       "      <td>610.000000</td>\n",
       "    </tr>\n",
       "    <tr>\n",
       "      <th>75%</th>\n",
       "      <td>1.000000</td>\n",
       "      <td>3.000000</td>\n",
       "      <td>820.000000</td>\n",
       "    </tr>\n",
       "    <tr>\n",
       "      <th>max</th>\n",
       "      <td>30.000000</td>\n",
       "      <td>30.000000</td>\n",
       "      <td>980.000000</td>\n",
       "    </tr>\n",
       "  </tbody>\n",
       "</table>\n",
       "</div>"
      ],
      "text/plain": [
       "       injured_count  participants_count        scheme\n",
       "count   14517.000000        14517.000000  13380.000000\n",
       "mean        1.315699            2.355721    549.431241\n",
       "std         0.793685            1.004847    293.917023\n",
       "min         1.000000            1.000000     10.000000\n",
       "25%         1.000000            2.000000    300.000000\n",
       "50%         1.000000            2.000000    610.000000\n",
       "75%         1.000000            3.000000    820.000000\n",
       "max        30.000000           30.000000    980.000000"
      ]
     },
     "execution_count": 14,
     "metadata": {},
     "output_type": "execute_result"
    }
   ],
   "source": [
    "#Выводим описание данных\n",
    "df[['injured_count','participants_count','scheme']].describe()"
   ]
  },
  {
   "cell_type": "markdown",
   "metadata": {},
   "source": [
    "*Формат для даты и врмени*"
   ]
  },
  {
   "cell_type": "code",
   "execution_count": 15,
   "metadata": {
    "scrolled": false
   },
   "outputs": [
    {
     "name": "stdout",
     "output_type": "stream",
     "text": [
      "Тип данных для 'datetime' до преобразования:object\n",
      "Тип данных для 'datetime' после преобразования:datetime64[ns]\n"
     ]
    }
   ],
   "source": [
    "#Преобразования типа данных для даты\n",
    "print(f\"Тип данных для 'datetime' до преобразования:{df['datetime'].dtype}\")\n",
    "df['datetime']=pd.to_datetime(df['datetime'], errors='coerce')\n",
    "print(f\"Тип данных для 'datetime' после преобразования:{df['datetime'].dtype}\")"
   ]
  },
  {
   "cell_type": "markdown",
   "metadata": {},
   "source": [
    "*Заполняем пропуски заглушкой*"
   ]
  },
  {
   "cell_type": "code",
   "execution_count": 16,
   "metadata": {},
   "outputs": [
    {
     "name": "stdout",
     "output_type": "stream",
     "text": [
      "    old_scheme  scheme\n",
      "2          NaN    -1.0\n",
      "4          NaN    -1.0\n",
      "8          NaN    -1.0\n",
      "39         NaN    -1.0\n",
      "49         NaN    -1.0\n"
     ]
    }
   ],
   "source": [
    "#Сохраняем старые значения\n",
    "df['old_scheme']=df['scheme']\n",
    "df['scheme']=df['scheme'].fillna(-1)\n",
    "#Выводим измененные данные\n",
    "changed_rows=df[df['old_scheme'].isna()]\n",
    "print(changed_rows[['old_scheme', 'scheme']].head())"
   ]
  },
  {
   "cell_type": "markdown",
   "metadata": {},
   "source": [
    "*Убираем столбцы, которые не будем использовать для анализа*\n"
   ]
  },
  {
   "cell_type": "code",
   "execution_count": 17,
   "metadata": {},
   "outputs": [
    {
     "name": "stdout",
     "output_type": "stream",
     "text": [
      "<class 'pandas.core.frame.DataFrame'>\n",
      "RangeIndex: 14517 entries, 0 to 14516\n",
      "Data columns (total 13 columns):\n",
      " #   Column                  Non-Null Count  Dtype         \n",
      "---  ------                  --------------  -----         \n",
      " 0   id                      14517 non-null  int32         \n",
      " 1   tags                    14517 non-null  object        \n",
      " 2   light                   14517 non-null  object        \n",
      " 3   nearby                  14517 non-null  object        \n",
      " 4   region                  14517 non-null  object        \n",
      " 5   weather                 14517 non-null  object        \n",
      " 6   category                14517 non-null  object        \n",
      " 7   datetime                14517 non-null  datetime64[ns]\n",
      " 8   injured_count           14517 non-null  int8          \n",
      " 9   parent_region           14517 non-null  object        \n",
      " 10  road_conditions         14517 non-null  object        \n",
      " 11  participants_count      14517 non-null  int8          \n",
      " 12  participant_categories  14517 non-null  object        \n",
      "dtypes: datetime64[ns](1), int32(1), int8(2), object(9)\n",
      "memory usage: 1.2+ MB\n"
     ]
    }
   ],
   "source": [
    "df.drop(columns=['geometry_coordinates','point_lat','point_long','address','old_scheme','scheme'],inplace=True)\n",
    "df.info()"
   ]
  },
  {
   "cell_type": "markdown",
   "metadata": {},
   "source": [
    "<font color='#7030a0'> Промежуточные выводы:\n",
    "1. Рекомендумый формат данных:\n",
    "- `id`:int32\n",
    "- `injured_count`:int8\n",
    "- `participants_count`:int8\n",
    "- `scheme`:int16\n",
    "- `datetime`:datetime64[ns] \n",
    "2. Удалены не ключевые столбцы для последующего анализа данных:`geometry_coordinates`,`point_lat`,`point_long`,`address`,`old_scheme`,`scheme`    \n",
    "</font>  "
   ]
  },
  {
   "cell_type": "markdown",
   "metadata": {
    "id": "XbvXOlrAAjqB"
   },
   "source": [
    "## Исследовательский анализ\n",
    "\n"
   ]
  },
  {
   "cell_type": "markdown",
   "metadata": {
    "id": "jhehiImVAnQJ"
   },
   "source": [
    "### Какое число ДТП случилось в каждый день недели. Разбивка числа происшествий по месяцам"
   ]
  },
  {
   "cell_type": "markdown",
   "metadata": {},
   "source": [
    "*Дни недели*"
   ]
  },
  {
   "cell_type": "code",
   "execution_count": 18,
   "metadata": {
    "scrolled": true
   },
   "outputs": [
    {
     "data": {
      "text/plain": [
       "day_of_week\n",
       "Friday       2344\n",
       "Monday       2010\n",
       "Saturday     2246\n",
       "Sunday       2054\n",
       "Thursday     1936\n",
       "Tuesday      1988\n",
       "Wednesday    1939\n",
       "Name: id, dtype: int64"
      ]
     },
     "metadata": {},
     "output_type": "display_data"
    }
   ],
   "source": [
    "# Получение дня недели в формате строки\n",
    "df['day_of_week'] = df['datetime'].dt.strftime('%A')\n",
    "\n",
    "result_per_week =df.groupby('day_of_week')['id'].count()\n",
    "display(result_per_week)"
   ]
  },
  {
   "cell_type": "markdown",
   "metadata": {},
   "source": [
    "*Месяцы*"
   ]
  },
  {
   "cell_type": "code",
   "execution_count": 19,
   "metadata": {
    "scrolled": false
   },
   "outputs": [
    {
     "data": {
      "text/plain": [
       "month\n",
       "April         875\n",
       "August       1654\n",
       "December     1164\n",
       "February      808\n",
       "January      1069\n",
       "July         1635\n",
       "June         1421\n",
       "March         799\n",
       "May          1189\n",
       "November     1200\n",
       "October      1333\n",
       "September    1370\n",
       "Name: id, dtype: int64"
      ]
     },
     "metadata": {},
     "output_type": "display_data"
    }
   ],
   "source": [
    "# Получение дня недели в формате строки\n",
    "df['month'] = df['datetime'].dt.strftime('%B')\n",
    "\n",
    "result_per_month =df.groupby('month')['id'].count()\n",
    "display(result_per_month)"
   ]
  },
  {
   "cell_type": "markdown",
   "metadata": {},
   "source": [
    "<font color='#7030a0'> Промежуточные выводы:\n",
    "1. Количество аварий по дням недели:\n",
    "- В пятницу произошло 2344 аварии, что делает этот день самым аварийным.\n",
    "Понедельник, суббота и воскресенье также имеют высокие показатели, но немного ниже по сравнению с пятницей.\n",
    "Меньше всего аварий было зафиксировано в среду и четверг, что может означать, что в эти дни меньше активности на дорогах или другие факторы.\n",
    "2. Количество аварий по месяцам:\n",
    "- Август с 1654 авариями — самый аварийный месяц, что может быть связано с высокими летними нагрузками на дороги.\n",
    "Январь, июль и сентябрь также имеют высокие показатели аварий.\n",
    "Меньше аварий в марте и апреле, что может указывать на низкую активность на дорогах в эти месяцы.\n",
    "</font>  "
   ]
  },
  {
   "cell_type": "markdown",
   "metadata": {
    "id": "xcu4WsEoCGog"
   },
   "source": [
    "### Категории водителей по стажу. Встречаются ли категории, которые разительно отличаются по числу ДТП"
   ]
  },
  {
   "cell_type": "code",
   "execution_count": 20,
   "metadata": {},
   "outputs": [],
   "source": [
    "#Загружаем данные в датафрейм\n",
    "df_p=pd.read_csv('/datasets/Kirovskaya_oblast_participiants.csv')"
   ]
  },
  {
   "cell_type": "code",
   "execution_count": 21,
   "metadata": {
    "scrolled": false
   },
   "outputs": [
    {
     "name": "stdout",
     "output_type": "stream",
     "text": [
      "<class 'pandas.core.frame.DataFrame'>\n",
      "RangeIndex: 31235 entries, 0 to 31234\n",
      "Data columns (total 6 columns):\n",
      " #   Column                       Non-Null Count  Dtype  \n",
      "---  ------                       --------------  -----  \n",
      " 0   role                         31235 non-null  object \n",
      " 1   gender                       30387 non-null  object \n",
      " 2   violations                   31235 non-null  object \n",
      " 3   health_status                31135 non-null  object \n",
      " 4   years_of_driving_experience  16909 non-null  float64\n",
      " 5   id                           31235 non-null  int64  \n",
      "dtypes: float64(1), int64(1), object(4)\n",
      "memory usage: 1.4+ MB\n"
     ]
    }
   ],
   "source": [
    "#Выводим информацию о новом датафрейме\n",
    "df_p.info()"
   ]
  },
  {
   "cell_type": "code",
   "execution_count": 22,
   "metadata": {
    "scrolled": false
   },
   "outputs": [
    {
     "data": {
      "text/html": [
       "<div>\n",
       "<style scoped>\n",
       "    .dataframe tbody tr th:only-of-type {\n",
       "        vertical-align: middle;\n",
       "    }\n",
       "\n",
       "    .dataframe tbody tr th {\n",
       "        vertical-align: top;\n",
       "    }\n",
       "\n",
       "    .dataframe thead th {\n",
       "        text-align: right;\n",
       "    }\n",
       "</style>\n",
       "<table border=\"1\" class=\"dataframe\">\n",
       "  <thead>\n",
       "    <tr style=\"text-align: right;\">\n",
       "      <th></th>\n",
       "      <th>role</th>\n",
       "      <th>gender</th>\n",
       "      <th>violations</th>\n",
       "      <th>health_status</th>\n",
       "      <th>years_of_driving_experience</th>\n",
       "      <th>id</th>\n",
       "    </tr>\n",
       "  </thead>\n",
       "  <tbody>\n",
       "    <tr>\n",
       "      <th>0</th>\n",
       "      <td>Водитель</td>\n",
       "      <td>Мужской</td>\n",
       "      <td>['Несоответствие скорости конкретным условиям ...</td>\n",
       "      <td>Раненый, находящийся (находившийся) на амбулат...</td>\n",
       "      <td>26.0</td>\n",
       "      <td>1983180</td>\n",
       "    </tr>\n",
       "    <tr>\n",
       "      <th>1</th>\n",
       "      <td>Водитель</td>\n",
       "      <td>Мужской</td>\n",
       "      <td>[]</td>\n",
       "      <td>Не пострадал</td>\n",
       "      <td>34.0</td>\n",
       "      <td>2889433</td>\n",
       "    </tr>\n",
       "    <tr>\n",
       "      <th>2</th>\n",
       "      <td>Пассажир</td>\n",
       "      <td>Мужской</td>\n",
       "      <td>[]</td>\n",
       "      <td>Раненый, находящийся (находившийся)  на амбула...</td>\n",
       "      <td>NaN</td>\n",
       "      <td>2591208</td>\n",
       "    </tr>\n",
       "    <tr>\n",
       "      <th>3</th>\n",
       "      <td>Пассажир</td>\n",
       "      <td>Мужской</td>\n",
       "      <td>[]</td>\n",
       "      <td>Раненый, находящийся (находившийся)  на амбула...</td>\n",
       "      <td>NaN</td>\n",
       "      <td>2591208</td>\n",
       "    </tr>\n",
       "    <tr>\n",
       "      <th>4</th>\n",
       "      <td>Водитель</td>\n",
       "      <td>Мужской</td>\n",
       "      <td>[]</td>\n",
       "      <td>Не пострадал</td>\n",
       "      <td>27.0</td>\n",
       "      <td>2577639</td>\n",
       "    </tr>\n",
       "  </tbody>\n",
       "</table>\n",
       "</div>"
      ],
      "text/plain": [
       "       role   gender                                         violations  \\\n",
       "0  Водитель  Мужской  ['Несоответствие скорости конкретным условиям ...   \n",
       "1  Водитель  Мужской                                                 []   \n",
       "2  Пассажир  Мужской                                                 []   \n",
       "3  Пассажир  Мужской                                                 []   \n",
       "4  Водитель  Мужской                                                 []   \n",
       "\n",
       "                                       health_status  \\\n",
       "0  Раненый, находящийся (находившийся) на амбулат...   \n",
       "1                                       Не пострадал   \n",
       "2  Раненый, находящийся (находившийся)  на амбула...   \n",
       "3  Раненый, находящийся (находившийся)  на амбула...   \n",
       "4                                       Не пострадал   \n",
       "\n",
       "   years_of_driving_experience       id  \n",
       "0                         26.0  1983180  \n",
       "1                         34.0  2889433  \n",
       "2                          NaN  2591208  \n",
       "3                          NaN  2591208  \n",
       "4                         27.0  2577639  "
      ]
     },
     "execution_count": 22,
     "metadata": {},
     "output_type": "execute_result"
    }
   ],
   "source": [
    "#Выводим первые строки датафрейма\n",
    "df_p.head()"
   ]
  },
  {
   "cell_type": "markdown",
   "metadata": {},
   "source": [
    "*Преобразеум формат для колонки 'years_of_driving_experience' в числовой, без разделителей*"
   ]
  },
  {
   "cell_type": "code",
   "execution_count": 23,
   "metadata": {},
   "outputs": [],
   "source": [
    "df_p['years_of_driving_experience']=df_p['years_of_driving_experience'].fillna(-1).astype('Int64')\n"
   ]
  },
  {
   "cell_type": "code",
   "execution_count": 24,
   "metadata": {},
   "outputs": [
    {
     "name": "stdout",
     "output_type": "stream",
     "text": [
      "<class 'pandas.core.frame.DataFrame'>\n",
      "Int64Index: 19753 entries, 0 to 31232\n",
      "Data columns (total 6 columns):\n",
      " #   Column                       Non-Null Count  Dtype \n",
      "---  ------                       --------------  ----- \n",
      " 0   role                         19753 non-null  object\n",
      " 1   gender                       19018 non-null  object\n",
      " 2   violations                   19753 non-null  object\n",
      " 3   health_status                19661 non-null  object\n",
      " 4   years_of_driving_experience  19753 non-null  Int64 \n",
      " 5   id                           19753 non-null  int64 \n",
      "dtypes: Int64(1), int64(1), object(4)\n",
      "memory usage: 1.1+ MB\n"
     ]
    }
   ],
   "source": [
    "#Ставим фильтр на роли:Водитель\n",
    "df_p=df_p[df_p['role']=='Водитель']\n",
    "df_p.info()"
   ]
  },
  {
   "cell_type": "code",
   "execution_count": 25,
   "metadata": {
    "scrolled": true
   },
   "outputs": [
    {
     "data": {
      "text/plain": [
       "count    19753.000000\n",
       "mean        13.645016\n",
       "std         12.548087\n",
       "min         -1.000000\n",
       "25%          3.000000\n",
       "50%         11.000000\n",
       "75%         21.000000\n",
       "max         66.000000\n",
       "Name: years_of_driving_experience, dtype: float64"
      ]
     },
     "execution_count": 25,
     "metadata": {},
     "output_type": "execute_result"
    }
   ],
   "source": [
    "#Выведим описание данных по столбцу years_of_driving_experience\n",
    "df_p['years_of_driving_experience'].describe()"
   ]
  },
  {
   "cell_type": "code",
   "execution_count": 26,
   "metadata": {
    "scrolled": true
   },
   "outputs": [
    {
     "data": {
      "text/plain": [
       "(0, 5]      3533\n",
       "(5, 10]     3238\n",
       "(-2, 0]     2844\n",
       "(10, 15]    2769\n",
       "(15, 20]    2280\n",
       "(20, 25]    1587\n",
       "(25, 30]    1137\n",
       "(30, 35]     921\n",
       "(35, 40]     697\n",
       "(40, 50]     629\n",
       "(50, 60]     106\n",
       "(60, 70]      12\n",
       "Name: categorized_experience, dtype: int64"
      ]
     },
     "execution_count": 26,
     "metadata": {},
     "output_type": "execute_result"
    }
   ],
   "source": [
    "df_p['categorized_experience'] = pd.cut(df_p['years_of_driving_experience'], [-2,0,5,10,15,20,25,30,35,40,50,60,70])\n",
    "df_p['categorized_experience'].value_counts()"
   ]
  },
  {
   "cell_type": "markdown",
   "metadata": {},
   "source": [
    "<font color='#7030a0'> Промежуточные выводы:\n",
    "    \n",
    "- Видно уменьшение числа аварий в зависимости от опыта. Важно учитывать, какое число водителей есть в каждой когорте, однако таких сведений у нас нет. Можно только сказать, что тех, у кого стаж составляет 60–70 лет, наверняка меньшинство.\n",
    "- Рекомендации заказчику: сделать столбец со стажем обязательным для заполнения. В нём 2844 пропусков — 14% от общего числа. Тех, у кого не было прав, можно фиксировать отдельно. Вероятно, что причина отсутствия прав также важна: их забрали или водитель их не получил.\n",
    "    \n",
    " Рекомендации заказчику:\n",
    "    \n",
    "* Использовать названия столбцов без `properties.`.\n",
    "* Сделать обязательным заполнение столбцов координат (а именно `point_long`, `point_lat`, потому что от столбца `coordinates` избавились) и схемы, если это необходимо. Выяснить причины, почему некоторые адреса не заполнены. Если этот столбец важен, сделать его заполнение обязательным.\n",
    "* Дубликатов не обнаружено, идентификаторы аварий уникальны.\n",
    "* Форматы данных неоптимальны, можно использовать типы данных, которые занимают меньше места для экономии.\n",
    "\n",
    "Общие выводы:\n",
    "    \n",
    "* Аварий в летние месяцы ощутимо больше. По дням недели есть некоторая тенденция большего числа ДТП, но стоит уточнить, имеется ли такая динамика на большем числе данных.\n",
    "* С ростом стажа аварий становится меньше, но важно также учитывать, сколько водителей в каждой категории по стажу.    \n",
    "</font>  "
   ]
  },
  {
   "cell_type": "markdown",
   "metadata": {},
   "source": [
    "### Как распределено количество участников ДТП и почему? Встречаются ли аномальные значения или выбросы? Если да, то с чем они могут быть связаны? Для числа участников найдите наиболее типичное значение. По желанию можете проверить распределения и других столбцов."
   ]
  },
  {
   "cell_type": "code",
   "execution_count": 27,
   "metadata": {},
   "outputs": [
    {
     "data": {
      "text/html": [
       "<div>\n",
       "<style scoped>\n",
       "    .dataframe tbody tr th:only-of-type {\n",
       "        vertical-align: middle;\n",
       "    }\n",
       "\n",
       "    .dataframe tbody tr th {\n",
       "        vertical-align: top;\n",
       "    }\n",
       "\n",
       "    .dataframe thead th {\n",
       "        text-align: right;\n",
       "    }\n",
       "</style>\n",
       "<table border=\"1\" class=\"dataframe\">\n",
       "  <thead>\n",
       "    <tr style=\"text-align: right;\">\n",
       "      <th></th>\n",
       "      <th>id</th>\n",
       "      <th>tags</th>\n",
       "      <th>light</th>\n",
       "      <th>nearby</th>\n",
       "      <th>region</th>\n",
       "      <th>weather</th>\n",
       "      <th>category</th>\n",
       "      <th>datetime</th>\n",
       "      <th>injured_count</th>\n",
       "      <th>parent_region</th>\n",
       "      <th>road_conditions</th>\n",
       "      <th>participants_count</th>\n",
       "      <th>participant_categories</th>\n",
       "      <th>day_of_week</th>\n",
       "      <th>month</th>\n",
       "    </tr>\n",
       "  </thead>\n",
       "  <tbody>\n",
       "    <tr>\n",
       "      <th>0</th>\n",
       "      <td>1983180</td>\n",
       "      <td>Дорожно-транспортные происшествия</td>\n",
       "      <td>Светлое время суток</td>\n",
       "      <td>[]</td>\n",
       "      <td>Яранский район</td>\n",
       "      <td>['Дождь']</td>\n",
       "      <td>Опрокидывание</td>\n",
       "      <td>2017-07-01 18:00:00</td>\n",
       "      <td>1</td>\n",
       "      <td>Кировская область</td>\n",
       "      <td>['Мокрое']</td>\n",
       "      <td>3</td>\n",
       "      <td>['Все участники']</td>\n",
       "      <td>Saturday</td>\n",
       "      <td>July</td>\n",
       "    </tr>\n",
       "    <tr>\n",
       "      <th>1</th>\n",
       "      <td>2889433</td>\n",
       "      <td>Дорожно-транспортные происшествия</td>\n",
       "      <td>Светлое время суток</td>\n",
       "      <td>['Административные здания', 'Нерегулируемый пе...</td>\n",
       "      <td>Яранский район</td>\n",
       "      <td>['Ясно']</td>\n",
       "      <td>Наезд на пешехода</td>\n",
       "      <td>2023-09-12 17:10:00</td>\n",
       "      <td>1</td>\n",
       "      <td>Кировская область</td>\n",
       "      <td>['Сухое', 'Отсутствие, плохая различимость гор...</td>\n",
       "      <td>2</td>\n",
       "      <td>['Все участники', 'Пешеходы']</td>\n",
       "      <td>Tuesday</td>\n",
       "      <td>September</td>\n",
       "    </tr>\n",
       "    <tr>\n",
       "      <th>2</th>\n",
       "      <td>2591208</td>\n",
       "      <td>Дорожно-транспортные происшествия</td>\n",
       "      <td>Сумерки</td>\n",
       "      <td>['Жилые дома индивидуальной застройки', 'Нерег...</td>\n",
       "      <td>Яранский район</td>\n",
       "      <td>['Пасмурно']</td>\n",
       "      <td>Съезд с дороги</td>\n",
       "      <td>2021-07-02 21:25:00</td>\n",
       "      <td>1</td>\n",
       "      <td>Кировская область</td>\n",
       "      <td>['Мокрое']</td>\n",
       "      <td>1</td>\n",
       "      <td>['Все участники']</td>\n",
       "      <td>Friday</td>\n",
       "      <td>July</td>\n",
       "    </tr>\n",
       "    <tr>\n",
       "      <th>3</th>\n",
       "      <td>2577639</td>\n",
       "      <td>Дорожно-транспортные происшествия</td>\n",
       "      <td>Светлое время суток</td>\n",
       "      <td>['Жилые дома индивидуальной застройки']</td>\n",
       "      <td>Яранский район</td>\n",
       "      <td>['Пасмурно']</td>\n",
       "      <td>Столкновение</td>\n",
       "      <td>2021-05-31 18:55:00</td>\n",
       "      <td>1</td>\n",
       "      <td>Кировская область</td>\n",
       "      <td>['Сухое']</td>\n",
       "      <td>2</td>\n",
       "      <td>['Все участники', 'Мотоциклисты']</td>\n",
       "      <td>Monday</td>\n",
       "      <td>May</td>\n",
       "    </tr>\n",
       "    <tr>\n",
       "      <th>4</th>\n",
       "      <td>1981026</td>\n",
       "      <td>Дорожно-транспортные происшествия</td>\n",
       "      <td>Светлое время суток</td>\n",
       "      <td>['Нерегулируемый перекрёсток неравнозначных ул...</td>\n",
       "      <td>Яранский район</td>\n",
       "      <td>['Ясно']</td>\n",
       "      <td>Опрокидывание</td>\n",
       "      <td>2018-05-16 16:25:00</td>\n",
       "      <td>2</td>\n",
       "      <td>Кировская область</td>\n",
       "      <td>['Сухое', 'Отсутствие, плохая различимость гор...</td>\n",
       "      <td>2</td>\n",
       "      <td>['Все участники']</td>\n",
       "      <td>Wednesday</td>\n",
       "      <td>May</td>\n",
       "    </tr>\n",
       "  </tbody>\n",
       "</table>\n",
       "</div>"
      ],
      "text/plain": [
       "        id                               tags                light  \\\n",
       "0  1983180  Дорожно-транспортные происшествия  Светлое время суток   \n",
       "1  2889433  Дорожно-транспортные происшествия  Светлое время суток   \n",
       "2  2591208  Дорожно-транспортные происшествия              Сумерки   \n",
       "3  2577639  Дорожно-транспортные происшествия  Светлое время суток   \n",
       "4  1981026  Дорожно-транспортные происшествия  Светлое время суток   \n",
       "\n",
       "                                              nearby          region  \\\n",
       "0                                                 []  Яранский район   \n",
       "1  ['Административные здания', 'Нерегулируемый пе...  Яранский район   \n",
       "2  ['Жилые дома индивидуальной застройки', 'Нерег...  Яранский район   \n",
       "3            ['Жилые дома индивидуальной застройки']  Яранский район   \n",
       "4  ['Нерегулируемый перекрёсток неравнозначных ул...  Яранский район   \n",
       "\n",
       "        weather           category            datetime  injured_count  \\\n",
       "0     ['Дождь']      Опрокидывание 2017-07-01 18:00:00              1   \n",
       "1      ['Ясно']  Наезд на пешехода 2023-09-12 17:10:00              1   \n",
       "2  ['Пасмурно']     Съезд с дороги 2021-07-02 21:25:00              1   \n",
       "3  ['Пасмурно']       Столкновение 2021-05-31 18:55:00              1   \n",
       "4      ['Ясно']      Опрокидывание 2018-05-16 16:25:00              2   \n",
       "\n",
       "       parent_region                                    road_conditions  \\\n",
       "0  Кировская область                                         ['Мокрое']   \n",
       "1  Кировская область  ['Сухое', 'Отсутствие, плохая различимость гор...   \n",
       "2  Кировская область                                         ['Мокрое']   \n",
       "3  Кировская область                                          ['Сухое']   \n",
       "4  Кировская область  ['Сухое', 'Отсутствие, плохая различимость гор...   \n",
       "\n",
       "   participants_count             participant_categories day_of_week  \\\n",
       "0                   3                  ['Все участники']    Saturday   \n",
       "1                   2      ['Все участники', 'Пешеходы']     Tuesday   \n",
       "2                   1                  ['Все участники']      Friday   \n",
       "3                   2  ['Все участники', 'Мотоциклисты']      Monday   \n",
       "4                   2                  ['Все участники']   Wednesday   \n",
       "\n",
       "       month  \n",
       "0       July  \n",
       "1  September  \n",
       "2       July  \n",
       "3        May  \n",
       "4        May  "
      ]
     },
     "execution_count": 27,
     "metadata": {},
     "output_type": "execute_result"
    }
   ],
   "source": [
    "df.head()"
   ]
  },
  {
   "cell_type": "code",
   "execution_count": 28,
   "metadata": {},
   "outputs": [
    {
     "data": {
      "text/plain": [
       "count    14517.000000\n",
       "mean         2.355721\n",
       "std          1.004847\n",
       "min          1.000000\n",
       "25%          2.000000\n",
       "50%          2.000000\n",
       "75%          3.000000\n",
       "max         30.000000\n",
       "Name: participants_count, dtype: float64"
      ]
     },
     "execution_count": 28,
     "metadata": {},
     "output_type": "execute_result"
    }
   ],
   "source": [
    "df['participants_count'].describe()"
   ]
  },
  {
   "cell_type": "code",
   "execution_count": 29,
   "metadata": {},
   "outputs": [
    {
     "data": {
      "text/plain": [
       "2     8611\n",
       "3     2929\n",
       "1     1533\n",
       "4      909\n",
       "5      353\n",
       "6      109\n",
       "7       44\n",
       "8        9\n",
       "9        9\n",
       "10       5\n",
       "11       2\n",
       "12       2\n",
       "14       1\n",
       "30       1\n",
       "Name: participants_count, dtype: int64"
      ]
     },
     "execution_count": 29,
     "metadata": {},
     "output_type": "execute_result"
    }
   ],
   "source": [
    "#Дополнительно подсчитаем сколько  раз встречается каждое кол-во участников\n",
    "df['participants_count'].value_counts()"
   ]
  },
  {
   "cell_type": "code",
   "execution_count": 30,
   "metadata": {},
   "outputs": [
    {
     "data": {
      "image/png": "[encoded data removed]",
      "text/plain": [
       "<Figure size 720x432 with 1 Axes>"
      ]
     },
     "metadata": {
      "needs_background": "light"
     },
     "output_type": "display_data"
    }
   ],
   "source": [
    "# Построение гистограммы\n",
    "plt.figure(figsize=(10, 6))\n",
    "\n",
    "plt.hist(df['participants_count'], bins=range(1, 32), color=\"#3274A1\",edgecolor=\"k\")\n",
    "plt.title('Гистограмма распределения')\n",
    "plt.xlabel('Участники')\n",
    "plt.xticks(range(1, 32, 2))\n",
    "plt.ylabel('Частота')\n",
    "plt.grid(axis='y', linestyle='--')\n",
    "plt.show()"
   ]
  },
  {
   "cell_type": "code",
   "execution_count": 31,
   "metadata": {
    "scrolled": false
   },
   "outputs": [
    {
     "data": {
      "image/png": "[encoded data removed]",
      "text/plain": [
       "<Figure size 432x288 with 1 Axes>"
      ]
     },
     "metadata": {
      "needs_background": "light"
     },
     "output_type": "display_data"
    }
   ],
   "source": [
    "#Анализ и выбросы данных\n",
    "sns.boxplot(data=df,\n",
    "                    x='participants_count'\n",
    "                    )\n",
    "plt.show()"
   ]
  },
  {
   "cell_type": "markdown",
   "metadata": {},
   "source": [
    "<font color='#7030a0'> Промежуточные выводы:\n",
    "\n",
    "Большинство ДТП (от 25% до 75%) включают 2–3 участника, что может быть стандартным случаем для столкновений или взаимодействия между несколькими транспортными средствами.\n",
    "- Случаи с 30 участниками — это явные выбросы, так как такие аварии встречаются крайне редко. Их стоит дополнительно проанализировать: это могут быть массовые столкновения на дороге или ошибки в данных.\n",
    "- Распределение вероятнее всего асимметрично, так как максимальное значение (30) значительно превышает медиану (2).\n",
    "    \n",
    "</font>"
   ]
  },
  {
   "cell_type": "markdown",
   "metadata": {},
   "source": [
    "### Предположите,  между какими столбцами в данных высокая корреляция? Проверьте своё предположение."
   ]
  },
  {
   "cell_type": "code",
   "execution_count": 32,
   "metadata": {
    "scrolled": true
   },
   "outputs": [
    {
     "data": {
      "image/png": "[encoded data removed]",
      "text/plain": [
       "<Figure size 432x288 with 2 Axes>"
      ]
     },
     "metadata": {
      "needs_background": "light"
     },
     "output_type": "display_data"
    }
   ],
   "source": [
    "# Проверка корреляции в числовых данных\n",
    "df_numeric=df.select_dtypes(include=['number'])\n",
    "correlation_matrix=df_numeric.corr()\n",
    "#Построим тепловую карту\n",
    "sns.heatmap(correlation_matrix,\n",
    "            annot=True,\n",
    "           fmt='.2f',\n",
    "           cmap='viridis',\n",
    "           cbar=True)\n",
    "plt.show()"
   ]
  },
  {
   "cell_type": "markdown",
   "metadata": {},
   "source": [
    "<font color='#7030a0'> Промежуточные выводы:\n",
    "    \n",
    "Сильная связь между количеством участников (participants_count) и количеством пострадавших (injured_count) указывает на то, что в ДТП с большим количеством участников чаще бывает больше пострадавших.\n",
    "</font>    "
   ]
  },
  {
   "cell_type": "markdown",
   "metadata": {},
   "source": [
    "### Как связаны категории аварий и погодные условия?"
   ]
  },
  {
   "cell_type": "code",
   "execution_count": 33,
   "metadata": {},
   "outputs": [
    {
     "data": {
      "text/plain": [
       "'Всего количество аварий: 14517'"
      ]
     },
     "metadata": {},
     "output_type": "display_data"
    }
   ],
   "source": [
    "display(f\"Всего количество аварий: {df['id'].shape[0]}\")"
   ]
  },
  {
   "cell_type": "code",
   "execution_count": 34,
   "metadata": {},
   "outputs": [
    {
     "data": {
      "text/plain": [
       "weather                                category             \n",
       "['Пасмурно']                           Столкновение             2514\n",
       "['Ясно']                               Столкновение             2288\n",
       "['Пасмурно']                           Наезд на пешехода        2268\n",
       "['Ясно']                               Наезд на пешехода        1572\n",
       "                                       Съезд с дороги            586\n",
       "                                                                ... \n",
       "['Ясно', 'Температура выше +30С']      Падение пассажира           1\n",
       "['Пасмурно', 'Температура ниже -30С']  Падение пассажира           1\n",
       "['Снегопад']                           Отбрасывание предмета       1\n",
       "['Ясно', 'Температура ниже -30С']      Наезд на стоящее ТС         1\n",
       "['Пасмурно']                           Падение груза               1\n",
       "Length: 115, dtype: int64"
      ]
     },
     "metadata": {},
     "output_type": "display_data"
    }
   ],
   "source": [
    "unique_combinations = df[['weather', 'category']].value_counts()\n",
    "display(unique_combinations)"
   ]
  },
  {
   "cell_type": "markdown",
   "metadata": {},
   "source": [
    "*Встречаются строки, в которых указан целый список различных погодных явлений. В таком случае можно посмотреть на общее число ДТП по категориям.*"
   ]
  },
  {
   "cell_type": "code",
   "execution_count": 35,
   "metadata": {},
   "outputs": [
    {
     "name": "stdout",
     "output_type": "stream",
     "text": [
      "                     id\n",
      "category               \n",
      "Столкновение       5423\n",
      "Наезд на пешехода  4364\n",
      "Съезд с дороги     1155\n",
      "Опрокидывание      1002\n",
      "Падение пассажира   738\n"
     ]
    }
   ],
   "source": [
    "#Выделим топ 5 категорий ДТП\n",
    "C_group=df.groupby('category').agg({'id':'count'})\n",
    "C_group_sorted=C_group.sort_values(by='id',ascending=False)\n",
    "C_group_filtered=C_group_sorted.head(5)\n",
    "print(C_group_filtered)"
   ]
  },
  {
   "cell_type": "markdown",
   "metadata": {},
   "source": [
    "*Дополним информацию погодными условиями*"
   ]
  },
  {
   "cell_type": "code",
   "execution_count": 36,
   "metadata": {},
   "outputs": [
    {
     "name": "stdout",
     "output_type": "stream",
     "text": [
      "                                  id\n",
      "category          weather           \n",
      "Столкновение      ['Пасмурно']  2514\n",
      "                  ['Ясно']      2288\n",
      "Наезд на пешехода ['Пасмурно']  2268\n",
      "                  ['Ясно']      1572\n",
      "Съезд с дороги    ['Ясно']       586\n"
     ]
    }
   ],
   "source": [
    "#Выделим топ 5 категорий ДТП\n",
    "CW_group=df.groupby(['category','weather']).agg({'id':'count'})\n",
    "CW_group_sorted=CW_group.sort_values(by='id',ascending=False)\n",
    "CW_group_filtered=CW_group_sorted.head(5)\n",
    "print(CW_group_filtered)"
   ]
  },
  {
   "cell_type": "code",
   "execution_count": 37,
   "metadata": {},
   "outputs": [
    {
     "data": {
      "image/png": "[encoded data removed]",
      "text/plain": [
       "<Figure size 432x288 with 1 Axes>"
      ]
     },
     "metadata": {
      "needs_background": "light"
     },
     "output_type": "display_data"
    }
   ],
   "source": [
    "#Добавим визуализацию\n",
    "sns.barplot(data=CW_group_filtered.reset_index(),\n",
    "            x='category',\n",
    "            y='id',\n",
    "            hue='weather',\n",
    "            palette=\"viridis\")\n",
    "\n",
    "\n",
    "plt.title(\"Распределение погодных условий для топ-5 категорий ДТП\")\n",
    "plt.xlabel(\"Категория ДТП\")\n",
    "plt.ylabel(\"Количество аварий\")\n",
    "\n",
    "plt.legend(title=\"Погодные условия\")\n",
    "plt.tight_layout()\n",
    "\n",
    "plt.show()"
   ]
  },
  {
   "cell_type": "markdown",
   "metadata": {},
   "source": [
    "<font color='#7030a0'> Промежуточные выводы:\n",
    "\n",
    "- В топ 5 проишествий входит 63% от всех аварий(9226 vs 14517) \n",
    "- Пасмурная погода как фактор риска: Большинство аварий происходит при пасмурной погоде, особенно в категориях \"Столкновение\" и \"Наезд на пешехода\".\n",
    "- Ясная погода и высокая скорость: На ясной погоде чаще фиксируются ДТП, связанные со съездом с дороги, что может быть связано с повышенной скоростью на сухом дорожном покрытии.\n",
    "- Приоритет в профилактике: Меры по снижению аварийности должны учитывать влияние погодных условий, уделяя особое внимание пасмурным дням и категориям \"Столкновение\" и \"Наезд на пешехода\".\n",
    "    \n",
    "</font>    "
   ]
  },
  {
   "cell_type": "markdown",
   "metadata": {},
   "source": [
    "### Постройте процентную разбивку аварий по видам освещённости. При этом учитывайте пол участника и сделайте расчёты для мужчин и женщин отдельно."
   ]
  },
  {
   "cell_type": "markdown",
   "metadata": {},
   "source": [
    "*Важно проверить, не встречается ли в данных дубликатов. Узнаем, есть ли водители, которые указаны в данных несколько раз.*"
   ]
  },
  {
   "cell_type": "code",
   "execution_count": 38,
   "metadata": {},
   "outputs": [
    {
     "data": {
      "text/plain": [
       "1984910    6\n",
       "1985567    6\n",
       "1984276    6\n",
       "2649405    6\n",
       "1983117    5\n",
       "          ..\n",
       "1982001    1\n",
       "1986095    1\n",
       "1984046    1\n",
       "2973229    1\n",
       "2754559    1\n",
       "Name: id, Length: 13025, dtype: int64"
      ]
     },
     "execution_count": 38,
     "metadata": {},
     "output_type": "execute_result"
    }
   ],
   "source": [
    "df_p.query('role == \"Водитель\"')['id'].value_counts()"
   ]
  },
  {
   "cell_type": "code",
   "execution_count": 39,
   "metadata": {},
   "outputs": [
    {
     "data": {
      "text/plain": [
       "'Количество строк до удаления:19753'"
      ]
     },
     "metadata": {},
     "output_type": "display_data"
    },
    {
     "data": {
      "text/plain": [
       "'Количество строк после удаления:13025'"
      ]
     },
     "metadata": {},
     "output_type": "display_data"
    }
   ],
   "source": [
    "display(f'Количество строк до удаления:{df_p.shape[0]}')\n",
    "df_p=df_p.drop_duplicates(subset='id')\n",
    "display(f'Количество строк после удаления:{df_p.shape[0]}')        "
   ]
  },
  {
   "cell_type": "code",
   "execution_count": 40,
   "metadata": {},
   "outputs": [],
   "source": [
    "df_res = df_p.merge(df, on = 'id')"
   ]
  },
  {
   "cell_type": "code",
   "execution_count": 41,
   "metadata": {},
   "outputs": [
    {
     "data": {
      "text/plain": [
       "'Количсетво строк в датасете Kirovskaya_oblast: 14517'"
      ]
     },
     "metadata": {},
     "output_type": "display_data"
    },
    {
     "data": {
      "text/plain": [
       "'Количсетво строк в датасете Kirovskaya_oblast_participiants: 13025'"
      ]
     },
     "metadata": {},
     "output_type": "display_data"
    },
    {
     "data": {
      "text/plain": [
       "'Количество строк в объединенном датасете:13025'"
      ]
     },
     "metadata": {},
     "output_type": "display_data"
    }
   ],
   "source": [
    "#Проверка данных до и после объединения и удаления\n",
    "display(f'Количсетво строк в датасете Kirovskaya_oblast: {df.shape[0]}')\n",
    "display(f'Количсетво строк в датасете Kirovskaya_oblast_participiants: {df_p.shape[0]}')\n",
    "display(f'Количество строк в объединенном датасете:{df_res.shape[0]}')"
   ]
  },
  {
   "cell_type": "code",
   "execution_count": 42,
   "metadata": {
    "scrolled": true
   },
   "outputs": [
    {
     "data": {
      "text/html": [
       "<div>\n",
       "<style scoped>\n",
       "    .dataframe tbody tr th:only-of-type {\n",
       "        vertical-align: middle;\n",
       "    }\n",
       "\n",
       "    .dataframe tbody tr th {\n",
       "        vertical-align: top;\n",
       "    }\n",
       "\n",
       "    .dataframe thead th {\n",
       "        text-align: right;\n",
       "    }\n",
       "</style>\n",
       "<table border=\"1\" class=\"dataframe\">\n",
       "  <thead>\n",
       "    <tr style=\"text-align: right;\">\n",
       "      <th></th>\n",
       "      <th>total_count</th>\n",
       "      <th>share</th>\n",
       "    </tr>\n",
       "    <tr>\n",
       "      <th>light</th>\n",
       "      <th></th>\n",
       "      <th></th>\n",
       "    </tr>\n",
       "  </thead>\n",
       "  <tbody>\n",
       "    <tr>\n",
       "      <th>Светлое время суток</th>\n",
       "      <td>8298</td>\n",
       "      <td>63.708253</td>\n",
       "    </tr>\n",
       "    <tr>\n",
       "      <th>В темное время суток, освещение включено</th>\n",
       "      <td>2860</td>\n",
       "      <td>21.957774</td>\n",
       "    </tr>\n",
       "    <tr>\n",
       "      <th>В темное время суток, освещение отсутствует</th>\n",
       "      <td>1276</td>\n",
       "      <td>9.796545</td>\n",
       "    </tr>\n",
       "    <tr>\n",
       "      <th>Сумерки</th>\n",
       "      <td>403</td>\n",
       "      <td>3.094050</td>\n",
       "    </tr>\n",
       "    <tr>\n",
       "      <th>В темное время суток, освещение не включено</th>\n",
       "      <td>188</td>\n",
       "      <td>1.443378</td>\n",
       "    </tr>\n",
       "  </tbody>\n",
       "</table>\n",
       "</div>"
      ],
      "text/plain": [
       "                                             total_count      share\n",
       "light                                                              \n",
       "Светлое время суток                                 8298  63.708253\n",
       "В темное время суток, освещение включено            2860  21.957774\n",
       "В темное время суток, освещение отсутствует         1276   9.796545\n",
       "Сумерки                                              403   3.094050\n",
       "В темное время суток, освещение не включено          188   1.443378"
      ]
     },
     "metadata": {},
     "output_type": "display_data"
    }
   ],
   "source": [
    "# ДТП по типу освещенности\n",
    "l_group = df_res.groupby('light').agg(\n",
    "    total_count=('id', 'count')  # Общее количество\n",
    ")\n",
    "\n",
    "# Добавление доли для каждого типа освещенности\n",
    "l_group['share'] = (l_group['total_count'] / l_group['total_count'].sum()) * 100\n",
    "\n",
    "# Сортировка по общему количеству\n",
    "l_group_sorted = l_group.sort_values(by='total_count', ascending=False)\n",
    "\n",
    "display(l_group_sorted)\n"
   ]
  },
  {
   "cell_type": "code",
   "execution_count": 43,
   "metadata": {
    "scrolled": true
   },
   "outputs": [
    {
     "data": {
      "text/html": [
       "<div>\n",
       "<style scoped>\n",
       "    .dataframe tbody tr th:only-of-type {\n",
       "        vertical-align: middle;\n",
       "    }\n",
       "\n",
       "    .dataframe tbody tr th {\n",
       "        vertical-align: top;\n",
       "    }\n",
       "\n",
       "    .dataframe thead th {\n",
       "        text-align: right;\n",
       "    }\n",
       "</style>\n",
       "<table border=\"1\" class=\"dataframe\">\n",
       "  <thead>\n",
       "    <tr style=\"text-align: right;\">\n",
       "      <th></th>\n",
       "      <th>total_count</th>\n",
       "      <th>share</th>\n",
       "    </tr>\n",
       "    <tr>\n",
       "      <th>light</th>\n",
       "      <th></th>\n",
       "      <th></th>\n",
       "    </tr>\n",
       "  </thead>\n",
       "  <tbody>\n",
       "    <tr>\n",
       "      <th>Светлое время суток</th>\n",
       "      <td>6905</td>\n",
       "      <td>63.658154</td>\n",
       "    </tr>\n",
       "    <tr>\n",
       "      <th>В темное время суток, освещение включено</th>\n",
       "      <td>2372</td>\n",
       "      <td>21.867798</td>\n",
       "    </tr>\n",
       "    <tr>\n",
       "      <th>В темное время суток, освещение отсутствует</th>\n",
       "      <td>1067</td>\n",
       "      <td>9.836821</td>\n",
       "    </tr>\n",
       "    <tr>\n",
       "      <th>Сумерки</th>\n",
       "      <td>339</td>\n",
       "      <td>3.125288</td>\n",
       "    </tr>\n",
       "    <tr>\n",
       "      <th>В темное время суток, освещение не включено</th>\n",
       "      <td>164</td>\n",
       "      <td>1.511939</td>\n",
       "    </tr>\n",
       "  </tbody>\n",
       "</table>\n",
       "</div>"
      ],
      "text/plain": [
       "                                             total_count      share\n",
       "light                                                              \n",
       "Светлое время суток                                 6905  63.658154\n",
       "В темное время суток, освещение включено            2372  21.867798\n",
       "В темное время суток, освещение отсутствует         1067   9.836821\n",
       "Сумерки                                              339   3.125288\n",
       "В темное время суток, освещение не включено          164   1.511939"
      ]
     },
     "metadata": {},
     "output_type": "display_data"
    }
   ],
   "source": [
    "m_filter=df_res[df_res['gender']=='Мужской']\n",
    "# ДТП по типу освещенности\n",
    "ml_group = m_filter.groupby('light').agg(\n",
    "    total_count=('id', 'count')  # Общее количество\n",
    ")\n",
    "\n",
    "# Добавление доли для каждого типа освещенности\n",
    "ml_group['share'] = (ml_group['total_count'] / ml_group['total_count'].sum()) * 100\n",
    "\n",
    "# Сортировка по общему количеству\n",
    "ml_group_sorted = ml_group.sort_values(by='total_count', ascending=False)\n",
    "\n",
    "display(ml_group_sorted)"
   ]
  },
  {
   "cell_type": "code",
   "execution_count": 44,
   "metadata": {},
   "outputs": [
    {
     "data": {
      "image/png": "[encoded data removed]",
      "text/plain": [
       "<Figure size 432x288 with 1 Axes>"
      ]
     },
     "metadata": {
      "needs_background": "light"
     },
     "output_type": "display_data"
    }
   ],
   "source": [
    "# Визуализация\n",
    "ml_group_sorted['share'].plot(kind='barh', title=\"ДТП по типу освещенности у мужчин\", color='skyblue', edgecolor='black')\n",
    "\n",
    "plt.xlabel(\"Тип освещенности\")\n",
    "plt.ylabel(\"Доля (%)\")\n",
    "plt.tight_layout()  # Для корректного отображения\n",
    "plt.show()"
   ]
  },
  {
   "cell_type": "code",
   "execution_count": 45,
   "metadata": {},
   "outputs": [
    {
     "data": {
      "text/html": [
       "<div>\n",
       "<style scoped>\n",
       "    .dataframe tbody tr th:only-of-type {\n",
       "        vertical-align: middle;\n",
       "    }\n",
       "\n",
       "    .dataframe tbody tr th {\n",
       "        vertical-align: top;\n",
       "    }\n",
       "\n",
       "    .dataframe thead th {\n",
       "        text-align: right;\n",
       "    }\n",
       "</style>\n",
       "<table border=\"1\" class=\"dataframe\">\n",
       "  <thead>\n",
       "    <tr style=\"text-align: right;\">\n",
       "      <th></th>\n",
       "      <th>total_count</th>\n",
       "      <th>share</th>\n",
       "    </tr>\n",
       "    <tr>\n",
       "      <th>light</th>\n",
       "      <th></th>\n",
       "      <th></th>\n",
       "    </tr>\n",
       "  </thead>\n",
       "  <tbody>\n",
       "    <tr>\n",
       "      <th>Светлое время суток</th>\n",
       "      <td>1096</td>\n",
       "      <td>64.243845</td>\n",
       "    </tr>\n",
       "    <tr>\n",
       "      <th>В темное время суток, освещение включено</th>\n",
       "      <td>376</td>\n",
       "      <td>22.039859</td>\n",
       "    </tr>\n",
       "    <tr>\n",
       "      <th>В темное время суток, освещение отсутствует</th>\n",
       "      <td>168</td>\n",
       "      <td>9.847597</td>\n",
       "    </tr>\n",
       "    <tr>\n",
       "      <th>Сумерки</th>\n",
       "      <td>48</td>\n",
       "      <td>2.813599</td>\n",
       "    </tr>\n",
       "    <tr>\n",
       "      <th>В темное время суток, освещение не включено</th>\n",
       "      <td>18</td>\n",
       "      <td>1.055100</td>\n",
       "    </tr>\n",
       "  </tbody>\n",
       "</table>\n",
       "</div>"
      ],
      "text/plain": [
       "                                             total_count      share\n",
       "light                                                              \n",
       "Светлое время суток                                 1096  64.243845\n",
       "В темное время суток, освещение включено             376  22.039859\n",
       "В темное время суток, освещение отсутствует          168   9.847597\n",
       "Сумерки                                               48   2.813599\n",
       "В темное время суток, освещение не включено           18   1.055100"
      ]
     },
     "metadata": {},
     "output_type": "display_data"
    }
   ],
   "source": [
    "w_filter=df_res[df_res['gender']=='Женский']\n",
    "# ДТП по типу освещенности\n",
    "wl_group = w_filter.groupby('light').agg(\n",
    "    total_count=('id', 'count')  # Общее количество\n",
    ")\n",
    "\n",
    "# Добавление доли для каждого типа освещенности\n",
    "wl_group['share'] = (wl_group['total_count'] / wl_group['total_count'].sum()) * 100\n",
    "\n",
    "# Сортировка по общему количеству\n",
    "wl_group_sorted = wl_group.sort_values(by='total_count', ascending=False)\n",
    "\n",
    "display(wl_group_sorted)"
   ]
  },
  {
   "cell_type": "code",
   "execution_count": 46,
   "metadata": {},
   "outputs": [
    {
     "data": {
      "image/png": "[encoded data removed]",
      "text/plain": [
       "<Figure size 432x288 with 1 Axes>"
      ]
     },
     "metadata": {
      "needs_background": "light"
     },
     "output_type": "display_data"
    }
   ],
   "source": [
    "# Визуализация\n",
    "wl_group_sorted['share'].plot(kind='barh', title=\"ДТП по типу освещенности у женщин\", color='skyblue', edgecolor='black')\n",
    "\n",
    "plt.xlabel(\"Тип освещенности\")\n",
    "plt.ylabel(\"Доля (%)\")\n",
    "plt.tight_layout()  # Для корректного отображения\n",
    "plt.show()"
   ]
  },
  {
   "cell_type": "markdown",
   "metadata": {},
   "source": [
    "<font color='#7030a0'> Промежуточные выводы:\n",
    "\n",
    "- Видим близкие относительные значения вне зависимости от пола. При этом для обоих полов характерно наибольшее число аварий в светлое время суток.\n",
    "    \n",
    "</font>    "
   ]
  },
  {
   "cell_type": "markdown",
   "metadata": {},
   "source": [
    "### Исследуйте, чем отличаются аварии без пострадавших от тех, в которых был один пострадавший или более."
   ]
  },
  {
   "cell_type": "code",
   "execution_count": 47,
   "metadata": {
    "scrolled": true
   },
   "outputs": [
    {
     "data": {
      "text/plain": [
       "1     10445\n",
       "2      1711\n",
       "3       540\n",
       "4       212\n",
       "5        72\n",
       "6        26\n",
       "7        10\n",
       "8         4\n",
       "9         2\n",
       "10        1\n",
       "12        1\n",
       "30        1\n",
       "Name: injured_count, dtype: int64"
      ]
     },
     "execution_count": 47,
     "metadata": {},
     "output_type": "execute_result"
    }
   ],
   "source": [
    "df_res['injured_count'].value_counts()\n"
   ]
  },
  {
   "cell_type": "code",
   "execution_count": 48,
   "metadata": {
    "scrolled": false
   },
   "outputs": [
    {
     "data": {
      "text/plain": [
       "array(['Раненый, находящийся (находившийся) на амбулаторном лечении, либо в условиях дневного стационара',\n",
       "       'Не пострадал',\n",
       "       'Раненый, находящийся (находившийся) на стационарном лечении',\n",
       "       'Раненый, находящийся (находившийся)  на амбулаторном лечении, либо которому по характеру полученных травм обозначена необходимость амбулаторного лечения (вне зависимости от его фактического прохождения)',\n",
       "       'Получил телесные повреждения с показанием к лечению в медицинских организациях (кроме разовой медицинской помощи)',\n",
       "       nan,\n",
       "       'Получил травмы с оказанием разовой медицинской помощи, к категории раненый не относится',\n",
       "       'Получил телесные повреждения с показанием к лечению в медицинских организациях, фактически лечение не проходил, к категории раненый не относится'],\n",
       "      dtype=object)"
      ]
     },
     "execution_count": 48,
     "metadata": {},
     "output_type": "execute_result"
    }
   ],
   "source": [
    "df_res['health_status'].unique()"
   ]
  },
  {
   "cell_type": "markdown",
   "metadata": {},
   "source": [
    "*Оставим только пострадавших*"
   ]
  },
  {
   "cell_type": "code",
   "execution_count": 49,
   "metadata": {},
   "outputs": [
    {
     "data": {
      "text/html": [
       "<div>\n",
       "<style scoped>\n",
       "    .dataframe tbody tr th:only-of-type {\n",
       "        vertical-align: middle;\n",
       "    }\n",
       "\n",
       "    .dataframe tbody tr th {\n",
       "        vertical-align: top;\n",
       "    }\n",
       "\n",
       "    .dataframe thead th {\n",
       "        text-align: right;\n",
       "    }\n",
       "</style>\n",
       "<table border=\"1\" class=\"dataframe\">\n",
       "  <thead>\n",
       "    <tr style=\"text-align: right;\">\n",
       "      <th></th>\n",
       "      <th>injured</th>\n",
       "      <th>health_status</th>\n",
       "    </tr>\n",
       "  </thead>\n",
       "  <tbody>\n",
       "    <tr>\n",
       "      <th>0</th>\n",
       "      <td>True</td>\n",
       "      <td>Раненый, находящийся (находившийся) на амбулат...</td>\n",
       "    </tr>\n",
       "    <tr>\n",
       "      <th>1</th>\n",
       "      <td>False</td>\n",
       "      <td>Не пострадал</td>\n",
       "    </tr>\n",
       "    <tr>\n",
       "      <th>2</th>\n",
       "      <td>False</td>\n",
       "      <td>Не пострадал</td>\n",
       "    </tr>\n",
       "    <tr>\n",
       "      <th>3</th>\n",
       "      <td>True</td>\n",
       "      <td>Раненый, находящийся (находившийся) на стацион...</td>\n",
       "    </tr>\n",
       "    <tr>\n",
       "      <th>4</th>\n",
       "      <td>False</td>\n",
       "      <td>Не пострадал</td>\n",
       "    </tr>\n",
       "  </tbody>\n",
       "</table>\n",
       "</div>"
      ],
      "text/plain": [
       "   injured                                      health_status\n",
       "0     True  Раненый, находящийся (находившийся) на амбулат...\n",
       "1    False                                       Не пострадал\n",
       "2    False                                       Не пострадал\n",
       "3     True  Раненый, находящийся (находившийся) на стацион...\n",
       "4    False                                       Не пострадал"
      ]
     },
     "metadata": {},
     "output_type": "display_data"
    }
   ],
   "source": [
    "# Преобразуем данные в колонке hours  в новый столбец\n",
    "def categorize(row):\n",
    "    if pd.isna(row):\n",
    "        return False\n",
    "    elif 'Не пострадал' in row:\n",
    "        return False\n",
    "    else:\n",
    "        return True\n",
    "\n",
    "# Применяем функцию к колонке \n",
    "df_res['injured'] = df_res['health_status'].apply(categorize)\n",
    "\n",
    "# Печатаем результат\n",
    "display(df_res[['injured', 'health_status']].head())"
   ]
  },
  {
   "cell_type": "markdown",
   "metadata": {},
   "source": [
    "*Напишем цикл для генерации таблиц и графиков по раличным факторам*"
   ]
  },
  {
   "cell_type": "code",
   "execution_count": 59,
   "metadata": {},
   "outputs": [
    {
     "data": {
      "text/html": [
       "<div>\n",
       "<style scoped>\n",
       "    .dataframe tbody tr th:only-of-type {\n",
       "        vertical-align: middle;\n",
       "    }\n",
       "\n",
       "    .dataframe tbody tr th {\n",
       "        vertical-align: top;\n",
       "    }\n",
       "\n",
       "    .dataframe thead th {\n",
       "        text-align: right;\n",
       "    }\n",
       "</style>\n",
       "<table border=\"1\" class=\"dataframe\">\n",
       "  <thead>\n",
       "    <tr style=\"text-align: right;\">\n",
       "      <th>injured</th>\n",
       "      <th>False</th>\n",
       "      <th>True</th>\n",
       "    </tr>\n",
       "    <tr>\n",
       "      <th>light</th>\n",
       "      <th></th>\n",
       "      <th></th>\n",
       "    </tr>\n",
       "  </thead>\n",
       "  <tbody>\n",
       "    <tr>\n",
       "      <th>В темное время суток, освещение включено</th>\n",
       "      <td>0.744464</td>\n",
       "      <td>0.255536</td>\n",
       "    </tr>\n",
       "    <tr>\n",
       "      <th>В темное время суток, освещение не включено</th>\n",
       "      <td>0.648783</td>\n",
       "      <td>0.351217</td>\n",
       "    </tr>\n",
       "    <tr>\n",
       "      <th>В темное время суток, освещение отсутствует</th>\n",
       "      <td>0.658841</td>\n",
       "      <td>0.341159</td>\n",
       "    </tr>\n",
       "    <tr>\n",
       "      <th>Светлое время суток</th>\n",
       "      <td>0.698355</td>\n",
       "      <td>0.301645</td>\n",
       "    </tr>\n",
       "    <tr>\n",
       "      <th>Сумерки</th>\n",
       "      <td>0.658636</td>\n",
       "      <td>0.341364</td>\n",
       "    </tr>\n",
       "  </tbody>\n",
       "</table>\n",
       "</div>"
      ],
      "text/plain": [
       "injured                                         False     True \n",
       "light                                                          \n",
       "В темное время суток, освещение включено     0.744464  0.255536\n",
       "В темное время суток, освещение не включено  0.648783  0.351217\n",
       "В темное время суток, освещение отсутствует  0.658841  0.341159\n",
       "Светлое время суток                          0.698355  0.301645\n",
       "Сумерки                                      0.658636  0.341364"
      ]
     },
     "metadata": {},
     "output_type": "display_data"
    },
    {
     "data": {
      "image/png": "[encoded data removed]",
      "text/plain": [
       "<Figure size 432x288 with 1 Axes>"
      ]
     },
     "metadata": {
      "needs_background": "light"
     },
     "output_type": "display_data"
    },
    {
     "data": {
      "text/html": [
       "<div>\n",
       "<style scoped>\n",
       "    .dataframe tbody tr th:only-of-type {\n",
       "        vertical-align: middle;\n",
       "    }\n",
       "\n",
       "    .dataframe tbody tr th {\n",
       "        vertical-align: top;\n",
       "    }\n",
       "\n",
       "    .dataframe thead th {\n",
       "        text-align: right;\n",
       "    }\n",
       "</style>\n",
       "<table border=\"1\" class=\"dataframe\">\n",
       "  <thead>\n",
       "    <tr style=\"text-align: right;\">\n",
       "      <th>injured</th>\n",
       "      <th>False</th>\n",
       "      <th>True</th>\n",
       "    </tr>\n",
       "    <tr>\n",
       "      <th>gender</th>\n",
       "      <th></th>\n",
       "      <th></th>\n",
       "    </tr>\n",
       "  </thead>\n",
       "  <tbody>\n",
       "    <tr>\n",
       "      <th>Женский</th>\n",
       "      <td>0.612894</td>\n",
       "      <td>0.387106</td>\n",
       "    </tr>\n",
       "    <tr>\n",
       "      <th>Мужской</th>\n",
       "      <td>0.706663</td>\n",
       "      <td>0.293337</td>\n",
       "    </tr>\n",
       "  </tbody>\n",
       "</table>\n",
       "</div>"
      ],
      "text/plain": [
       "injured     False     True \n",
       "gender                     \n",
       "Женский  0.612894  0.387106\n",
       "Мужской  0.706663  0.293337"
      ]
     },
     "metadata": {},
     "output_type": "display_data"
    },
    {
     "data": {
      "image/png": "[encoded data removed]",
      "text/plain": [
       "<Figure size 432x288 with 1 Axes>"
      ]
     },
     "metadata": {
      "needs_background": "light"
     },
     "output_type": "display_data"
    },
    {
     "data": {
      "text/html": [
       "<div>\n",
       "<style scoped>\n",
       "    .dataframe tbody tr th:only-of-type {\n",
       "        vertical-align: middle;\n",
       "    }\n",
       "\n",
       "    .dataframe tbody tr th {\n",
       "        vertical-align: top;\n",
       "    }\n",
       "\n",
       "    .dataframe thead th {\n",
       "        text-align: right;\n",
       "    }\n",
       "</style>\n",
       "<table border=\"1\" class=\"dataframe\">\n",
       "  <thead>\n",
       "    <tr style=\"text-align: right;\">\n",
       "      <th>injured</th>\n",
       "      <th>False</th>\n",
       "      <th>True</th>\n",
       "    </tr>\n",
       "    <tr>\n",
       "      <th>category</th>\n",
       "      <th></th>\n",
       "      <th></th>\n",
       "    </tr>\n",
       "  </thead>\n",
       "  <tbody>\n",
       "    <tr>\n",
       "      <th>Иной вид ДТП</th>\n",
       "      <td>0.687357</td>\n",
       "      <td>0.312643</td>\n",
       "    </tr>\n",
       "    <tr>\n",
       "      <th>Наезд на велосипедиста</th>\n",
       "      <td>0.701745</td>\n",
       "      <td>0.298255</td>\n",
       "    </tr>\n",
       "    <tr>\n",
       "      <th>Наезд на внезапно возникшее препятствие</th>\n",
       "      <td>1.000000</td>\n",
       "      <td>NaN</td>\n",
       "    </tr>\n",
       "    <tr>\n",
       "      <th>Наезд на животное</th>\n",
       "      <td>0.660904</td>\n",
       "      <td>0.339096</td>\n",
       "    </tr>\n",
       "    <tr>\n",
       "      <th>Наезд на лицо, не являющееся участником дорожного движения, осуществляющее какую-либо другую деятельность</th>\n",
       "      <td>0.500857</td>\n",
       "      <td>0.499143</td>\n",
       "    </tr>\n",
       "    <tr>\n",
       "      <th>Наезд на лицо, не являющееся участником дорожного движения, осуществляющее несение службы</th>\n",
       "      <td>0.593981</td>\n",
       "      <td>0.406019</td>\n",
       "    </tr>\n",
       "    <tr>\n",
       "      <th>Наезд на лицо, не являющееся участником дорожного движения, осуществляющее производство работ</th>\n",
       "      <td>0.775413</td>\n",
       "      <td>0.224587</td>\n",
       "    </tr>\n",
       "    <tr>\n",
       "      <th>Наезд на пешехода</th>\n",
       "      <td>0.720636</td>\n",
       "      <td>0.279364</td>\n",
       "    </tr>\n",
       "    <tr>\n",
       "      <th>Наезд на препятствие</th>\n",
       "      <td>0.684722</td>\n",
       "      <td>0.315278</td>\n",
       "    </tr>\n",
       "    <tr>\n",
       "      <th>Наезд на стоящее ТС</th>\n",
       "      <td>0.653369</td>\n",
       "      <td>0.346631</td>\n",
       "    </tr>\n",
       "    <tr>\n",
       "      <th>Опрокидывание</th>\n",
       "      <td>0.648145</td>\n",
       "      <td>0.351855</td>\n",
       "    </tr>\n",
       "    <tr>\n",
       "      <th>Отбрасывание предмета</th>\n",
       "      <td>0.588312</td>\n",
       "      <td>0.411688</td>\n",
       "    </tr>\n",
       "    <tr>\n",
       "      <th>Падение груза</th>\n",
       "      <td>NaN</td>\n",
       "      <td>1.000000</td>\n",
       "    </tr>\n",
       "    <tr>\n",
       "      <th>Падение пассажира</th>\n",
       "      <td>0.743857</td>\n",
       "      <td>0.256143</td>\n",
       "    </tr>\n",
       "    <tr>\n",
       "      <th>Столкновение</th>\n",
       "      <td>0.712025</td>\n",
       "      <td>0.287975</td>\n",
       "    </tr>\n",
       "    <tr>\n",
       "      <th>Съезд с дороги</th>\n",
       "      <td>0.642560</td>\n",
       "      <td>0.357440</td>\n",
       "    </tr>\n",
       "  </tbody>\n",
       "</table>\n",
       "</div>"
      ],
      "text/plain": [
       "injured                                                False     True \n",
       "category                                                              \n",
       "Иной вид ДТП                                        0.687357  0.312643\n",
       "Наезд на велосипедиста                              0.701745  0.298255\n",
       "Наезд на внезапно возникшее препятствие             1.000000       NaN\n",
       "Наезд на животное                                   0.660904  0.339096\n",
       "Наезд на лицо, не являющееся участником дорожно...  0.500857  0.499143\n",
       "Наезд на лицо, не являющееся участником дорожно...  0.593981  0.406019\n",
       "Наезд на лицо, не являющееся участником дорожно...  0.775413  0.224587\n",
       "Наезд на пешехода                                   0.720636  0.279364\n",
       "Наезд на препятствие                                0.684722  0.315278\n",
       "Наезд на стоящее ТС                                 0.653369  0.346631\n",
       "Опрокидывание                                       0.648145  0.351855\n",
       "Отбрасывание предмета                               0.588312  0.411688\n",
       "Падение груза                                            NaN  1.000000\n",
       "Падение пассажира                                   0.743857  0.256143\n",
       "Столкновение                                        0.712025  0.287975\n",
       "Съезд с дороги                                      0.642560  0.357440"
      ]
     },
     "metadata": {},
     "output_type": "display_data"
    },
    {
     "data": {
      "image/png": "[encoded data removed]",
      "text/plain": [
       "<Figure size 432x288 with 1 Axes>"
      ]
     },
     "metadata": {
      "needs_background": "light"
     },
     "output_type": "display_data"
    }
   ],
   "source": [
    "# Список колонок, по которым нужно создать сводные таблицы\n",
    "columns_list = ['light', 'gender', 'category']\n",
    "\n",
    "# Цикл по каждой колонке из списка\n",
    "for column in columns_list:\n",
    "    # Создаем сводную таблицу\n",
    "    pivot_injured = pd.pivot_table(\n",
    "        df_res,\n",
    "        values='id',\n",
    "        columns='injured',\n",
    "        index=column,\n",
    "        aggfunc='sum'\n",
    "    )\n",
    "\n",
    "    # Сортируем таблицу по сумме (по индексу или по колонке)\n",
    "    pivot_injured_sorted = pivot_injured.sort_values(by=column, ascending=True)  # Сортируем по индексу (по колонке)\n",
    "\n",
    "    # Преобразуем значения в относительные (доли)\n",
    "    pivot_injured_relative = pivot_injured_sorted.div(pivot_injured_sorted.sum(axis=1), axis=0)\n",
    "\n",
    "    # Отображаем результат\n",
    "    display(pivot_injured_relative)\n",
    "\n",
    "    # Строим горизонтальный график\n",
    "    pivot_injured_relative.plot(kind='barh', stacked=False)  \n",
    "    plt.title(f\"Доли пострадавших и непострадавших по {column}\")\n",
    "    plt.xlabel(\"Доля\")  \n",
    "    plt.show()"
   ]
  },
  {
   "cell_type": "markdown",
   "metadata": {},
   "source": [
    "<font color='#7030a0'> Промежуточные выводы:\n",
    "\n",
    "- Анализ данных о ДТП и пострадавших (True) показывает, что в темное время суток, независимо от наличия освещения, доля пострадавших (True) выше, чем в светлое время суток, с максимальной долей в условиях, когда освещение не включено (0.35). В целом, в условиях темного времени суток и отсутствия освещения риск пострадать выше, чем при хорошем освещении (0.25 в темном и 0.30 в светлом времени суток). \n",
    "- Что касается пола участников, мужчины чаще вовлечены в ДТП, но доля пострадавших среди них ниже, чем среди женщин (0.29 против 0.39). \n",
    "- Среди категорий ДТП наиболее высокая доля пострадавших наблюдается в таких случаях, как падение груза (100%), отбрасывание предмета (0.41) и наезд на лицо, не являющееся участником дорожного движения, осуществляющее другую деятельность (0.50). В то время как наезд на пешехода и велосипедиста показывает более низкую долю пострадавших (0.28 и 0.30 соответственно)."
   ]
  },
  {
   "cell_type": "markdown",
   "metadata": {},
   "source": [
    "### Сделайте общий вывод о связи аварийности с другими факторами. Какие рекомендации вы можете дать заказчику?"
   ]
  },
  {
   "cell_type": "markdown",
   "metadata": {},
   "source": [
    "Анализ аварийности показывает, что наибольшее количество ДТП происходит в летние месяцы и в пятницу, а также в темное время суток и при отсутствии освещения, что увеличивает риск пострадать. Мужчины чаще становятся участниками аварий, но женщины имеют более высокую долю пострадавших. Аварии чаще происходят в пасмурную погоду, особенно в категориях \"Столкновение\" и \"Наезд на пешехода\". Рекомендуется усилить меры безопасности в темное время суток, при отсутствии освещения и в пасмурную погоду, а также учитывать стаж водителей для более точного анализа аварийности."
   ]
  }
 ],
 "metadata": {
  "ExecuteTimeLog": [
   {
    "duration": 4,
    "start_time": "2024-11-26T11:33:50.320Z"
   },
   {
    "duration": 404,
    "start_time": "2024-11-26T11:35:37.780Z"
   },
   {
    "duration": 64,
    "start_time": "2024-11-26T11:35:38.186Z"
   },
   {
    "duration": 14,
    "start_time": "2024-11-26T11:36:01.091Z"
   },
   {
    "duration": 48,
    "start_time": "2024-11-26T11:36:09.798Z"
   },
   {
    "duration": 2,
    "start_time": "2024-11-26T11:36:13.247Z"
   },
   {
    "duration": 45,
    "start_time": "2024-11-26T11:36:14.493Z"
   },
   {
    "duration": 17,
    "start_time": "2024-11-26T11:37:03.393Z"
   },
   {
    "duration": 24,
    "start_time": "2024-11-26T11:38:21.552Z"
   },
   {
    "duration": 60,
    "start_time": "2024-11-26T11:38:41.863Z"
   },
   {
    "duration": 0,
    "start_time": "2024-11-26T11:38:41.925Z"
   },
   {
    "duration": 0,
    "start_time": "2024-11-26T11:38:41.926Z"
   },
   {
    "duration": 8,
    "start_time": "2024-11-26T11:39:39.389Z"
   },
   {
    "duration": 384,
    "start_time": "2024-11-26T11:39:39.995Z"
   },
   {
    "duration": 35,
    "start_time": "2024-11-26T11:39:41.205Z"
   },
   {
    "duration": 12,
    "start_time": "2024-11-26T11:40:01.342Z"
   },
   {
    "duration": 114,
    "start_time": "2024-11-26T11:50:40.172Z"
   },
   {
    "duration": 67,
    "start_time": "2024-11-26T11:50:45.910Z"
   },
   {
    "duration": 70,
    "start_time": "2024-11-26T11:50:52.601Z"
   },
   {
    "duration": 67,
    "start_time": "2024-11-26T11:51:12.652Z"
   },
   {
    "duration": 614,
    "start_time": "2024-11-26T11:51:26.895Z"
   },
   {
    "duration": 1797,
    "start_time": "2024-11-26T11:52:20.041Z"
   },
   {
    "duration": 7,
    "start_time": "2024-11-26T11:55:06.777Z"
   },
   {
    "duration": 7,
    "start_time": "2024-11-26T11:55:15.730Z"
   },
   {
    "duration": 7,
    "start_time": "2024-11-26T11:56:08.763Z"
   },
   {
    "duration": 2,
    "start_time": "2024-11-26T11:56:38.457Z"
   },
   {
    "duration": 193,
    "start_time": "2024-11-26T11:56:38.958Z"
   },
   {
    "duration": 18,
    "start_time": "2024-11-26T11:56:39.812Z"
   },
   {
    "duration": 9,
    "start_time": "2024-11-26T11:56:50.990Z"
   },
   {
    "duration": 22,
    "start_time": "2024-11-26T11:58:11.817Z"
   },
   {
    "duration": 20,
    "start_time": "2024-11-26T11:59:52.800Z"
   },
   {
    "duration": 70,
    "start_time": "2024-11-26T12:07:16.997Z"
   },
   {
    "duration": 7,
    "start_time": "2024-11-26T12:08:26.509Z"
   },
   {
    "duration": 20,
    "start_time": "2024-11-26T12:09:41.563Z"
   },
   {
    "duration": 7,
    "start_time": "2024-11-26T12:10:12.665Z"
   },
   {
    "duration": 12,
    "start_time": "2024-11-26T12:20:29.250Z"
   },
   {
    "duration": 10,
    "start_time": "2024-11-26T12:20:45.840Z"
   },
   {
    "duration": 9,
    "start_time": "2024-11-26T12:21:12.836Z"
   },
   {
    "duration": 8,
    "start_time": "2024-11-26T12:21:40.539Z"
   },
   {
    "duration": 7,
    "start_time": "2024-11-26T12:22:05.153Z"
   },
   {
    "duration": 2,
    "start_time": "2024-11-26T12:22:12.046Z"
   },
   {
    "duration": 176,
    "start_time": "2024-11-26T12:22:12.105Z"
   },
   {
    "duration": 20,
    "start_time": "2024-11-26T12:22:13.036Z"
   },
   {
    "duration": 20,
    "start_time": "2024-11-26T12:22:14.864Z"
   },
   {
    "duration": 11,
    "start_time": "2024-11-26T12:22:17.287Z"
   },
   {
    "duration": 7,
    "start_time": "2024-11-26T12:22:42.287Z"
   },
   {
    "duration": 8,
    "start_time": "2024-11-26T12:22:56.190Z"
   },
   {
    "duration": 7,
    "start_time": "2024-11-26T12:23:25.553Z"
   },
   {
    "duration": 374,
    "start_time": "2024-11-26T12:23:35.019Z"
   },
   {
    "duration": 185,
    "start_time": "2024-11-26T12:23:35.395Z"
   },
   {
    "duration": 33,
    "start_time": "2024-11-26T12:23:35.582Z"
   },
   {
    "duration": 23,
    "start_time": "2024-11-26T12:23:35.617Z"
   },
   {
    "duration": 83,
    "start_time": "2024-11-26T12:23:35.642Z"
   },
   {
    "duration": 7,
    "start_time": "2024-11-26T12:24:08.415Z"
   },
   {
    "duration": 4,
    "start_time": "2024-11-26T12:24:15.166Z"
   },
   {
    "duration": 20,
    "start_time": "2024-11-26T12:24:37.575Z"
   },
   {
    "duration": 9,
    "start_time": "2024-11-26T12:24:51.356Z"
   },
   {
    "duration": 11,
    "start_time": "2024-11-26T12:24:57.893Z"
   },
   {
    "duration": 4,
    "start_time": "2024-11-26T12:25:28.501Z"
   },
   {
    "duration": 4,
    "start_time": "2024-11-26T12:44:44.680Z"
   },
   {
    "duration": 31,
    "start_time": "2024-11-26T12:46:59.578Z"
   },
   {
    "duration": 15,
    "start_time": "2024-11-26T12:47:09.710Z"
   },
   {
    "duration": 42,
    "start_time": "2024-11-26T12:47:21.867Z"
   },
   {
    "duration": 24,
    "start_time": "2024-11-26T12:48:12.109Z"
   },
   {
    "duration": 14,
    "start_time": "2024-11-26T12:48:27.090Z"
   },
   {
    "duration": 25,
    "start_time": "2024-11-26T12:48:39.898Z"
   },
   {
    "duration": 26,
    "start_time": "2024-11-26T12:49:06.080Z"
   },
   {
    "duration": 6,
    "start_time": "2024-11-26T12:53:01.950Z"
   },
   {
    "duration": 5,
    "start_time": "2024-11-26T12:53:39.974Z"
   },
   {
    "duration": 11,
    "start_time": "2024-11-26T14:15:04.366Z"
   },
   {
    "duration": 70,
    "start_time": "2024-11-26T14:15:54.609Z"
   },
   {
    "duration": 7,
    "start_time": "2024-11-26T14:17:00.167Z"
   },
   {
    "duration": 15,
    "start_time": "2024-11-26T14:17:46.171Z"
   },
   {
    "duration": 16,
    "start_time": "2024-11-26T14:17:49.180Z"
   },
   {
    "duration": 26,
    "start_time": "2024-11-26T14:18:05.246Z"
   },
   {
    "duration": 25,
    "start_time": "2024-11-26T14:18:24.190Z"
   },
   {
    "duration": 20,
    "start_time": "2024-11-26T14:18:35.463Z"
   },
   {
    "duration": 27,
    "start_time": "2024-11-26T14:18:57.032Z"
   },
   {
    "duration": 20,
    "start_time": "2024-11-26T14:20:06.307Z"
   },
   {
    "duration": 12,
    "start_time": "2024-11-26T14:20:33.970Z"
   },
   {
    "duration": 950,
    "start_time": "2024-11-26T14:21:07.443Z"
   },
   {
    "duration": 25,
    "start_time": "2024-11-26T14:21:28.881Z"
   },
   {
    "duration": 5,
    "start_time": "2024-11-26T14:25:05.286Z"
   },
   {
    "duration": 71,
    "start_time": "2024-11-26T14:27:18.879Z"
   },
   {
    "duration": 70,
    "start_time": "2024-11-26T14:27:34.802Z"
   },
   {
    "duration": 63,
    "start_time": "2024-11-26T14:27:47.741Z"
   },
   {
    "duration": 96,
    "start_time": "2024-11-26T14:28:08.375Z"
   },
   {
    "duration": 59,
    "start_time": "2024-11-26T14:28:11.575Z"
   },
   {
    "duration": 49,
    "start_time": "2024-11-26T14:29:00.071Z"
   },
   {
    "duration": 50,
    "start_time": "2024-11-26T14:29:18.986Z"
   },
   {
    "duration": 12,
    "start_time": "2024-11-26T14:30:02.858Z"
   },
   {
    "duration": 43,
    "start_time": "2024-11-26T14:30:30.701Z"
   },
   {
    "duration": 71,
    "start_time": "2024-11-26T14:31:31.786Z"
   },
   {
    "duration": 34,
    "start_time": "2024-11-26T14:31:40.276Z"
   },
   {
    "duration": 999,
    "start_time": "2024-11-26T14:33:38.684Z"
   },
   {
    "duration": 12,
    "start_time": "2024-11-26T14:33:44.791Z"
   },
   {
    "duration": 21,
    "start_time": "2024-11-26T14:34:00.413Z"
   },
   {
    "duration": 45,
    "start_time": "2024-11-27T10:33:56.932Z"
   },
   {
    "duration": 5,
    "start_time": "2024-11-27T10:34:44.505Z"
   },
   {
    "duration": 74,
    "start_time": "2024-11-27T10:34:58.126Z"
   },
   {
    "duration": 84,
    "start_time": "2024-11-27T10:35:11.664Z"
   },
   {
    "duration": 5,
    "start_time": "2024-11-27T10:35:16.876Z"
   },
   {
    "duration": 6,
    "start_time": "2024-11-27T10:35:35.994Z"
   },
   {
    "duration": 6,
    "start_time": "2024-11-27T10:36:07.149Z"
   },
   {
    "duration": 6,
    "start_time": "2024-11-27T10:36:21.812Z"
   },
   {
    "duration": 377,
    "start_time": "2024-11-27T10:36:33.074Z"
   },
   {
    "duration": 565,
    "start_time": "2024-11-27T10:36:33.453Z"
   },
   {
    "duration": 21,
    "start_time": "2024-11-27T10:36:34.019Z"
   },
   {
    "duration": 37,
    "start_time": "2024-11-27T10:36:34.041Z"
   },
   {
    "duration": 34,
    "start_time": "2024-11-27T10:36:34.080Z"
   },
   {
    "duration": 31,
    "start_time": "2024-11-27T10:36:34.115Z"
   },
   {
    "duration": 18,
    "start_time": "2024-11-27T10:36:34.147Z"
   },
   {
    "duration": 56,
    "start_time": "2024-11-27T10:36:34.166Z"
   },
   {
    "duration": 64,
    "start_time": "2024-11-27T10:36:34.223Z"
   },
   {
    "duration": 1030,
    "start_time": "2024-11-27T10:54:28.649Z"
   },
   {
    "duration": 7,
    "start_time": "2024-11-27T10:55:52.734Z"
   },
   {
    "duration": 15,
    "start_time": "2024-11-27T10:56:20.576Z"
   },
   {
    "duration": 10,
    "start_time": "2024-11-27T10:56:49.644Z"
   },
   {
    "duration": 1040,
    "start_time": "2024-11-27T10:56:55.074Z"
   },
   {
    "duration": 4,
    "start_time": "2024-11-27T10:57:18.928Z"
   },
   {
    "duration": 5,
    "start_time": "2024-11-27T10:57:35.962Z"
   },
   {
    "duration": 1029,
    "start_time": "2024-11-27T10:58:54.378Z"
   },
   {
    "duration": 9,
    "start_time": "2024-11-27T10:59:06.515Z"
   },
   {
    "duration": 9,
    "start_time": "2024-11-27T11:04:42.173Z"
   },
   {
    "duration": 6,
    "start_time": "2024-11-27T11:06:09.345Z"
   },
   {
    "duration": 8,
    "start_time": "2024-11-27T11:06:28.325Z"
   },
   {
    "duration": 6,
    "start_time": "2024-11-27T11:09:58.756Z"
   },
   {
    "duration": 405,
    "start_time": "2024-11-27T11:10:31.536Z"
   },
   {
    "duration": 164,
    "start_time": "2024-11-27T11:10:31.943Z"
   },
   {
    "duration": 19,
    "start_time": "2024-11-27T11:10:32.108Z"
   },
   {
    "duration": 37,
    "start_time": "2024-11-27T11:10:32.128Z"
   },
   {
    "duration": 4,
    "start_time": "2024-11-27T11:10:32.167Z"
   },
   {
    "duration": 16,
    "start_time": "2024-11-27T11:10:32.172Z"
   },
   {
    "duration": 23,
    "start_time": "2024-11-27T11:10:32.189Z"
   },
   {
    "duration": 44,
    "start_time": "2024-11-27T11:10:32.213Z"
   },
   {
    "duration": 70,
    "start_time": "2024-11-27T11:10:32.258Z"
   },
   {
    "duration": 10,
    "start_time": "2024-11-27T11:10:32.329Z"
   },
   {
    "duration": 4,
    "start_time": "2024-11-27T11:12:18.612Z"
   },
   {
    "duration": 4,
    "start_time": "2024-11-27T11:19:52.234Z"
   },
   {
    "duration": 3,
    "start_time": "2024-11-27T11:20:02.511Z"
   },
   {
    "duration": 11,
    "start_time": "2024-11-27T11:22:28.421Z"
   },
   {
    "duration": 34,
    "start_time": "2024-11-27T11:24:14.178Z"
   },
   {
    "duration": 348,
    "start_time": "2024-11-27T11:24:30.405Z"
   },
   {
    "duration": 161,
    "start_time": "2024-11-27T11:24:30.755Z"
   },
   {
    "duration": 20,
    "start_time": "2024-11-27T11:24:30.917Z"
   },
   {
    "duration": 25,
    "start_time": "2024-11-27T11:24:30.938Z"
   },
   {
    "duration": 4,
    "start_time": "2024-11-27T11:24:30.964Z"
   },
   {
    "duration": 25,
    "start_time": "2024-11-27T11:24:30.969Z"
   },
   {
    "duration": 32,
    "start_time": "2024-11-27T11:24:30.995Z"
   },
   {
    "duration": 47,
    "start_time": "2024-11-27T11:24:31.028Z"
   },
   {
    "duration": 64,
    "start_time": "2024-11-27T11:24:31.076Z"
   },
   {
    "duration": 8,
    "start_time": "2024-11-27T11:24:31.142Z"
   },
   {
    "duration": 51,
    "start_time": "2024-11-27T11:24:31.163Z"
   },
   {
    "duration": 1114,
    "start_time": "2024-11-27T11:26:20.465Z"
   },
   {
    "duration": 1210,
    "start_time": "2024-11-27T11:27:03.681Z"
   },
   {
    "duration": 3,
    "start_time": "2024-11-27T11:27:33.084Z"
   },
   {
    "duration": 7,
    "start_time": "2024-11-27T11:29:53.278Z"
   },
   {
    "duration": 7,
    "start_time": "2024-11-27T11:30:07.627Z"
   },
   {
    "duration": 13,
    "start_time": "2024-11-27T11:34:25.864Z"
   },
   {
    "duration": 6,
    "start_time": "2024-11-27T11:37:16.232Z"
   },
   {
    "duration": 7,
    "start_time": "2024-11-27T11:37:27.512Z"
   },
   {
    "duration": 9,
    "start_time": "2024-11-27T11:40:01.575Z"
   },
   {
    "duration": 82,
    "start_time": "2024-11-27T11:43:19.615Z"
   },
   {
    "duration": 66,
    "start_time": "2024-11-27T11:44:03.580Z"
   },
   {
    "duration": 64,
    "start_time": "2024-11-27T11:47:10.396Z"
   },
   {
    "duration": 70,
    "start_time": "2024-11-27T11:47:46.286Z"
   },
   {
    "duration": 61,
    "start_time": "2024-11-27T11:47:57.293Z"
   },
   {
    "duration": 80,
    "start_time": "2024-11-27T11:49:58.841Z"
   },
   {
    "duration": 64,
    "start_time": "2024-11-27T11:51:07.165Z"
   },
   {
    "duration": 64,
    "start_time": "2024-11-27T11:52:19.853Z"
   },
   {
    "duration": 69,
    "start_time": "2024-11-27T11:53:36.710Z"
   },
   {
    "duration": 417,
    "start_time": "2024-11-27T11:55:10.441Z"
   },
   {
    "duration": 164,
    "start_time": "2024-11-27T11:55:10.860Z"
   },
   {
    "duration": 21,
    "start_time": "2024-11-27T11:55:11.025Z"
   },
   {
    "duration": 15,
    "start_time": "2024-11-27T11:55:11.057Z"
   },
   {
    "duration": 20,
    "start_time": "2024-11-27T11:55:11.074Z"
   },
   {
    "duration": 24,
    "start_time": "2024-11-27T11:55:11.095Z"
   },
   {
    "duration": 17,
    "start_time": "2024-11-27T11:55:11.120Z"
   },
   {
    "duration": 39,
    "start_time": "2024-11-27T11:55:11.138Z"
   },
   {
    "duration": 81,
    "start_time": "2024-11-27T11:55:11.179Z"
   },
   {
    "duration": 9,
    "start_time": "2024-11-27T11:55:11.262Z"
   },
   {
    "duration": 29,
    "start_time": "2024-11-27T11:55:11.272Z"
   },
   {
    "duration": 75,
    "start_time": "2024-11-27T11:55:11.303Z"
   },
   {
    "duration": 69,
    "start_time": "2024-11-27T11:57:55.855Z"
   },
   {
    "duration": 79,
    "start_time": "2024-11-27T12:02:44.533Z"
   },
   {
    "duration": 131,
    "start_time": "2024-11-27T12:02:51.035Z"
   },
   {
    "duration": 83,
    "start_time": "2024-11-27T12:02:57.710Z"
   },
   {
    "duration": 72,
    "start_time": "2024-11-27T12:03:35.204Z"
   },
   {
    "duration": 65,
    "start_time": "2024-11-27T12:04:03.869Z"
   },
   {
    "duration": 61,
    "start_time": "2024-11-27T12:04:26.801Z"
   },
   {
    "duration": 63,
    "start_time": "2024-11-27T12:04:29.542Z"
   },
   {
    "duration": 63,
    "start_time": "2024-11-27T12:06:11.839Z"
   },
   {
    "duration": 431,
    "start_time": "2024-11-28T07:50:16.537Z"
   },
   {
    "duration": 588,
    "start_time": "2024-11-28T07:50:16.970Z"
   },
   {
    "duration": 23,
    "start_time": "2024-11-28T07:50:17.560Z"
   },
   {
    "duration": 19,
    "start_time": "2024-11-28T07:50:17.584Z"
   },
   {
    "duration": 5,
    "start_time": "2024-11-28T07:50:17.605Z"
   },
   {
    "duration": 25,
    "start_time": "2024-11-28T07:50:17.611Z"
   },
   {
    "duration": 87,
    "start_time": "2024-11-28T07:50:17.638Z"
   },
   {
    "duration": 44,
    "start_time": "2024-11-28T07:50:17.726Z"
   },
   {
    "duration": 59,
    "start_time": "2024-11-28T07:50:17.772Z"
   },
   {
    "duration": 24,
    "start_time": "2024-11-28T07:50:17.832Z"
   },
   {
    "duration": 71,
    "start_time": "2024-11-28T07:50:17.857Z"
   },
   {
    "duration": 76,
    "start_time": "2024-11-28T07:50:17.930Z"
   },
   {
    "duration": 90,
    "start_time": "2024-11-28T07:50:18.008Z"
   },
   {
    "duration": 71,
    "start_time": "2024-11-28T07:52:36.015Z"
   },
   {
    "duration": 34,
    "start_time": "2024-11-28T07:53:26.356Z"
   },
   {
    "duration": 68,
    "start_time": "2024-11-28T07:57:08.470Z"
   },
   {
    "duration": 12,
    "start_time": "2024-11-28T07:57:28.643Z"
   },
   {
    "duration": 7,
    "start_time": "2024-11-28T07:58:33.566Z"
   },
   {
    "duration": 7,
    "start_time": "2024-11-28T07:58:52.192Z"
   },
   {
    "duration": 24,
    "start_time": "2024-11-28T07:59:19.067Z"
   },
   {
    "duration": 7,
    "start_time": "2024-11-28T07:59:34.239Z"
   },
   {
    "duration": 22,
    "start_time": "2024-11-28T07:59:43.851Z"
   },
   {
    "duration": 13,
    "start_time": "2024-11-28T07:59:50.951Z"
   },
   {
    "duration": 373,
    "start_time": "2024-11-28T08:00:15.600Z"
   },
   {
    "duration": 200,
    "start_time": "2024-11-28T08:00:15.975Z"
   },
   {
    "duration": 23,
    "start_time": "2024-11-28T08:00:16.177Z"
   },
   {
    "duration": 38,
    "start_time": "2024-11-28T08:00:16.201Z"
   },
   {
    "duration": 5,
    "start_time": "2024-11-28T08:00:16.247Z"
   },
   {
    "duration": 38,
    "start_time": "2024-11-28T08:00:16.254Z"
   },
   {
    "duration": 24,
    "start_time": "2024-11-28T08:00:16.295Z"
   },
   {
    "duration": 45,
    "start_time": "2024-11-28T08:00:16.321Z"
   },
   {
    "duration": 82,
    "start_time": "2024-11-28T08:00:16.367Z"
   },
   {
    "duration": 11,
    "start_time": "2024-11-28T08:00:16.453Z"
   },
   {
    "duration": 9,
    "start_time": "2024-11-28T08:00:16.466Z"
   },
   {
    "duration": 20,
    "start_time": "2024-11-28T08:00:16.477Z"
   },
   {
    "duration": 91,
    "start_time": "2024-11-28T08:00:16.499Z"
   },
   {
    "duration": 95,
    "start_time": "2024-11-28T08:00:16.592Z"
   },
   {
    "duration": 83,
    "start_time": "2024-11-28T08:00:29.990Z"
   },
   {
    "duration": 400,
    "start_time": "2024-11-28T08:00:41.257Z"
   },
   {
    "duration": 195,
    "start_time": "2024-11-28T08:00:41.659Z"
   },
   {
    "duration": 24,
    "start_time": "2024-11-28T08:00:41.856Z"
   },
   {
    "duration": 96,
    "start_time": "2024-11-28T08:00:41.882Z"
   },
   {
    "duration": 4,
    "start_time": "2024-11-28T08:00:41.981Z"
   },
   {
    "duration": 110,
    "start_time": "2024-11-28T08:00:41.987Z"
   },
   {
    "duration": 19,
    "start_time": "2024-11-28T08:00:42.099Z"
   },
   {
    "duration": 51,
    "start_time": "2024-11-28T08:00:42.120Z"
   },
   {
    "duration": 76,
    "start_time": "2024-11-28T08:00:42.172Z"
   },
   {
    "duration": 11,
    "start_time": "2024-11-28T08:00:42.257Z"
   },
   {
    "duration": 15,
    "start_time": "2024-11-28T08:00:42.270Z"
   },
   {
    "duration": 22,
    "start_time": "2024-11-28T08:00:42.287Z"
   },
   {
    "duration": 87,
    "start_time": "2024-11-28T08:00:42.311Z"
   },
   {
    "duration": 86,
    "start_time": "2024-11-28T08:00:42.400Z"
   },
   {
    "duration": 85,
    "start_time": "2024-11-28T08:02:02.985Z"
   },
   {
    "duration": 84,
    "start_time": "2024-11-28T08:02:49.904Z"
   },
   {
    "duration": 8,
    "start_time": "2024-11-28T08:02:54.609Z"
   },
   {
    "duration": 7,
    "start_time": "2024-11-28T08:03:09.340Z"
   },
   {
    "duration": 7,
    "start_time": "2024-11-28T08:03:13.534Z"
   },
   {
    "duration": 8,
    "start_time": "2024-11-28T08:03:19.786Z"
   },
   {
    "duration": 7,
    "start_time": "2024-11-28T08:03:38.984Z"
   },
   {
    "duration": 1087,
    "start_time": "2024-11-28T08:04:08.566Z"
   },
   {
    "duration": 9,
    "start_time": "2024-11-28T08:04:32.523Z"
   },
   {
    "duration": 6,
    "start_time": "2024-11-28T08:04:38.715Z"
   },
   {
    "duration": 6,
    "start_time": "2024-11-28T08:04:59.865Z"
   },
   {
    "duration": 14,
    "start_time": "2024-11-28T08:15:08.390Z"
   },
   {
    "duration": 5,
    "start_time": "2024-11-28T08:15:35.422Z"
   },
   {
    "duration": 10,
    "start_time": "2024-11-28T08:25:42.528Z"
   },
   {
    "duration": 8,
    "start_time": "2024-11-28T08:26:04.505Z"
   },
   {
    "duration": 8,
    "start_time": "2024-11-28T08:26:36.353Z"
   },
   {
    "duration": 1009,
    "start_time": "2024-11-28T08:27:02.081Z"
   },
   {
    "duration": 984,
    "start_time": "2024-11-28T08:27:10.265Z"
   },
   {
    "duration": 21,
    "start_time": "2024-11-28T08:27:35.495Z"
   },
   {
    "duration": 21,
    "start_time": "2024-11-28T08:28:26.732Z"
   },
   {
    "duration": 68,
    "start_time": "2024-11-28T08:30:36.340Z"
   },
   {
    "duration": 5,
    "start_time": "2024-11-28T08:31:00.230Z"
   },
   {
    "duration": 4,
    "start_time": "2024-11-28T08:31:05.686Z"
   },
   {
    "duration": 405,
    "start_time": "2024-11-28T08:31:13.068Z"
   },
   {
    "duration": 189,
    "start_time": "2024-11-28T08:31:13.476Z"
   },
   {
    "duration": 24,
    "start_time": "2024-11-28T08:31:13.666Z"
   },
   {
    "duration": 19,
    "start_time": "2024-11-28T08:31:13.691Z"
   },
   {
    "duration": 75,
    "start_time": "2024-11-28T08:31:13.712Z"
   },
   {
    "duration": 126,
    "start_time": "2024-11-28T08:31:13.788Z"
   },
   {
    "duration": 21,
    "start_time": "2024-11-28T08:31:13.915Z"
   },
   {
    "duration": 50,
    "start_time": "2024-11-28T08:31:13.938Z"
   },
   {
    "duration": 74,
    "start_time": "2024-11-28T08:31:13.989Z"
   },
   {
    "duration": 10,
    "start_time": "2024-11-28T08:31:14.065Z"
   },
   {
    "duration": 73,
    "start_time": "2024-11-28T08:31:14.076Z"
   },
   {
    "duration": 9,
    "start_time": "2024-11-28T08:31:14.151Z"
   },
   {
    "duration": 115,
    "start_time": "2024-11-28T08:31:14.162Z"
   },
   {
    "duration": 19,
    "start_time": "2024-11-28T08:31:14.279Z"
   },
   {
    "duration": 19,
    "start_time": "2024-11-28T08:31:14.300Z"
   },
   {
    "duration": 19,
    "start_time": "2024-11-28T08:31:14.320Z"
   },
   {
    "duration": 4,
    "start_time": "2024-11-28T08:31:39.179Z"
   },
   {
    "duration": 13,
    "start_time": "2024-11-28T08:33:13.494Z"
   },
   {
    "duration": 82,
    "start_time": "2024-11-28T08:39:57.480Z"
   },
   {
    "duration": 14,
    "start_time": "2024-11-28T08:40:14.366Z"
   },
   {
    "duration": 13,
    "start_time": "2024-11-28T08:41:15.142Z"
   },
   {
    "duration": 7,
    "start_time": "2024-11-28T08:42:07.504Z"
   },
   {
    "duration": 450,
    "start_time": "2024-11-28T08:42:30.613Z"
   },
   {
    "duration": 193,
    "start_time": "2024-11-28T08:42:31.065Z"
   },
   {
    "duration": 23,
    "start_time": "2024-11-28T08:42:31.259Z"
   },
   {
    "duration": 139,
    "start_time": "2024-11-28T08:42:31.284Z"
   },
   {
    "duration": 5,
    "start_time": "2024-11-28T08:42:31.425Z"
   },
   {
    "duration": 27,
    "start_time": "2024-11-28T08:42:31.432Z"
   },
   {
    "duration": 32,
    "start_time": "2024-11-28T08:42:31.460Z"
   },
   {
    "duration": 48,
    "start_time": "2024-11-28T08:42:31.494Z"
   },
   {
    "duration": 46,
    "start_time": "2024-11-28T08:42:31.544Z"
   },
   {
    "duration": 11,
    "start_time": "2024-11-28T08:42:31.623Z"
   },
   {
    "duration": 19,
    "start_time": "2024-11-28T08:42:31.635Z"
   },
   {
    "duration": 10,
    "start_time": "2024-11-28T08:42:31.731Z"
   },
   {
    "duration": 26,
    "start_time": "2024-11-28T08:42:31.742Z"
   },
   {
    "duration": 151,
    "start_time": "2024-11-28T08:42:31.770Z"
   },
   {
    "duration": 86,
    "start_time": "2024-11-28T08:42:31.922Z"
   },
   {
    "duration": 101,
    "start_time": "2024-11-28T08:42:32.010Z"
   },
   {
    "duration": 70,
    "start_time": "2024-11-28T08:43:25.368Z"
   },
   {
    "duration": 429,
    "start_time": "2024-11-28T08:43:41.828Z"
   },
   {
    "duration": 203,
    "start_time": "2024-11-28T08:43:42.259Z"
   },
   {
    "duration": 31,
    "start_time": "2024-11-28T08:43:42.464Z"
   },
   {
    "duration": 31,
    "start_time": "2024-11-28T08:43:42.497Z"
   },
   {
    "duration": 15,
    "start_time": "2024-11-28T08:43:42.531Z"
   },
   {
    "duration": 18,
    "start_time": "2024-11-28T08:43:42.547Z"
   },
   {
    "duration": 20,
    "start_time": "2024-11-28T08:43:42.567Z"
   },
   {
    "duration": 55,
    "start_time": "2024-11-28T08:43:42.588Z"
   },
   {
    "duration": 74,
    "start_time": "2024-11-28T08:43:42.645Z"
   },
   {
    "duration": 12,
    "start_time": "2024-11-28T08:43:42.721Z"
   },
   {
    "duration": 96,
    "start_time": "2024-11-28T08:43:42.735Z"
   },
   {
    "duration": 13,
    "start_time": "2024-11-28T08:43:42.833Z"
   },
   {
    "duration": 14,
    "start_time": "2024-11-28T08:43:42.848Z"
   },
   {
    "duration": 23,
    "start_time": "2024-11-28T08:43:42.864Z"
   },
   {
    "duration": 78,
    "start_time": "2024-11-28T08:43:42.889Z"
   },
   {
    "duration": 62,
    "start_time": "2024-11-28T08:43:42.968Z"
   },
   {
    "duration": 222,
    "start_time": "2024-11-28T08:55:53.427Z"
   },
   {
    "duration": 19,
    "start_time": "2024-11-28T08:56:14.544Z"
   },
   {
    "duration": 23,
    "start_time": "2024-11-28T08:57:07.984Z"
   },
   {
    "duration": 74,
    "start_time": "2024-11-28T08:57:22.604Z"
   },
   {
    "duration": 309,
    "start_time": "2024-11-28T08:57:45.479Z"
   },
   {
    "duration": 244,
    "start_time": "2024-11-28T08:58:28.272Z"
   },
   {
    "duration": 30,
    "start_time": "2024-11-28T08:59:38.358Z"
   },
   {
    "duration": 11,
    "start_time": "2024-11-28T09:00:48.121Z"
   },
   {
    "duration": 7,
    "start_time": "2024-11-28T09:01:10.408Z"
   },
   {
    "duration": 7,
    "start_time": "2024-11-28T09:01:19.735Z"
   },
   {
    "duration": 14,
    "start_time": "2024-11-28T09:01:39.703Z"
   },
   {
    "duration": 10,
    "start_time": "2024-11-28T09:03:38.224Z"
   },
   {
    "duration": 7,
    "start_time": "2024-11-28T09:03:58.701Z"
   },
   {
    "duration": 400,
    "start_time": "2024-11-28T09:05:00.606Z"
   },
   {
    "duration": 192,
    "start_time": "2024-11-28T09:05:01.008Z"
   },
   {
    "duration": 23,
    "start_time": "2024-11-28T09:05:01.202Z"
   },
   {
    "duration": 30,
    "start_time": "2024-11-28T09:05:01.227Z"
   },
   {
    "duration": 33,
    "start_time": "2024-11-28T09:05:01.259Z"
   },
   {
    "duration": 160,
    "start_time": "2024-11-28T09:05:01.294Z"
   },
   {
    "duration": 22,
    "start_time": "2024-11-28T09:05:01.508Z"
   },
   {
    "duration": 56,
    "start_time": "2024-11-28T09:05:01.532Z"
   },
   {
    "duration": 89,
    "start_time": "2024-11-28T09:05:01.589Z"
   },
   {
    "duration": 11,
    "start_time": "2024-11-28T09:05:01.680Z"
   },
   {
    "duration": 35,
    "start_time": "2024-11-28T09:05:01.693Z"
   },
   {
    "duration": 18,
    "start_time": "2024-11-28T09:05:01.730Z"
   },
   {
    "duration": 31,
    "start_time": "2024-11-28T09:05:01.750Z"
   },
   {
    "duration": 42,
    "start_time": "2024-11-28T09:05:01.782Z"
   },
   {
    "duration": 132,
    "start_time": "2024-11-28T09:05:01.825Z"
   },
   {
    "duration": 154,
    "start_time": "2024-11-28T09:05:01.958Z"
   },
   {
    "duration": 133,
    "start_time": "2024-11-28T09:05:02.114Z"
   },
   {
    "duration": 17,
    "start_time": "2024-11-28T09:05:02.248Z"
   },
   {
    "duration": 40,
    "start_time": "2024-11-28T09:05:02.267Z"
   },
   {
    "duration": 155,
    "start_time": "2024-11-28T09:05:02.309Z"
   },
   {
    "duration": 10,
    "start_time": "2024-11-28T09:06:16.702Z"
   },
   {
    "duration": 392,
    "start_time": "2024-11-28T09:06:25.460Z"
   },
   {
    "duration": 188,
    "start_time": "2024-11-28T09:06:25.855Z"
   },
   {
    "duration": 22,
    "start_time": "2024-11-28T09:06:26.045Z"
   },
   {
    "duration": 23,
    "start_time": "2024-11-28T09:06:26.069Z"
   },
   {
    "duration": 4,
    "start_time": "2024-11-28T09:06:26.094Z"
   },
   {
    "duration": 26,
    "start_time": "2024-11-28T09:06:26.099Z"
   },
   {
    "duration": 36,
    "start_time": "2024-11-28T09:06:26.126Z"
   },
   {
    "duration": 105,
    "start_time": "2024-11-28T09:06:26.164Z"
   },
   {
    "duration": 63,
    "start_time": "2024-11-28T09:06:26.271Z"
   },
   {
    "duration": 17,
    "start_time": "2024-11-28T09:06:26.336Z"
   },
   {
    "duration": 85,
    "start_time": "2024-11-28T09:06:26.355Z"
   },
   {
    "duration": 9,
    "start_time": "2024-11-28T09:06:26.442Z"
   },
   {
    "duration": 22,
    "start_time": "2024-11-28T09:06:26.453Z"
   },
   {
    "duration": 23,
    "start_time": "2024-11-28T09:06:26.479Z"
   },
   {
    "duration": 71,
    "start_time": "2024-11-28T09:06:26.504Z"
   },
   {
    "duration": 87,
    "start_time": "2024-11-28T09:06:26.577Z"
   },
   {
    "duration": 131,
    "start_time": "2024-11-28T09:06:26.667Z"
   },
   {
    "duration": 16,
    "start_time": "2024-11-28T09:06:26.800Z"
   },
   {
    "duration": 48,
    "start_time": "2024-11-28T09:06:26.818Z"
   },
   {
    "duration": 53,
    "start_time": "2024-11-28T09:06:26.867Z"
   },
   {
    "duration": 30,
    "start_time": "2024-11-28T09:06:26.921Z"
   },
   {
    "duration": 7,
    "start_time": "2024-11-28T09:09:49.723Z"
   },
   {
    "duration": 8,
    "start_time": "2024-11-28T09:12:24.503Z"
   },
   {
    "duration": 402,
    "start_time": "2024-11-28T09:12:48.891Z"
   },
   {
    "duration": 208,
    "start_time": "2024-11-28T09:12:49.294Z"
   },
   {
    "duration": 22,
    "start_time": "2024-11-28T09:12:49.503Z"
   },
   {
    "duration": 33,
    "start_time": "2024-11-28T09:12:49.527Z"
   },
   {
    "duration": 13,
    "start_time": "2024-11-28T09:12:49.562Z"
   },
   {
    "duration": 32,
    "start_time": "2024-11-28T09:12:49.576Z"
   },
   {
    "duration": 26,
    "start_time": "2024-11-28T09:12:49.609Z"
   },
   {
    "duration": 62,
    "start_time": "2024-11-28T09:12:49.637Z"
   },
   {
    "duration": 75,
    "start_time": "2024-11-28T09:12:49.700Z"
   },
   {
    "duration": 10,
    "start_time": "2024-11-28T09:12:49.777Z"
   },
   {
    "duration": 18,
    "start_time": "2024-11-28T09:12:49.789Z"
   },
   {
    "duration": 9,
    "start_time": "2024-11-28T09:12:49.809Z"
   },
   {
    "duration": 14,
    "start_time": "2024-11-28T09:12:49.820Z"
   },
   {
    "duration": 26,
    "start_time": "2024-11-28T09:12:49.835Z"
   },
   {
    "duration": 147,
    "start_time": "2024-11-28T09:12:49.863Z"
   },
   {
    "duration": 78,
    "start_time": "2024-11-28T09:12:50.012Z"
   },
   {
    "duration": 133,
    "start_time": "2024-11-28T09:12:50.091Z"
   },
   {
    "duration": 22,
    "start_time": "2024-11-28T09:12:50.226Z"
   },
   {
    "duration": 26,
    "start_time": "2024-11-28T09:12:50.250Z"
   },
   {
    "duration": 18,
    "start_time": "2024-11-28T09:12:50.278Z"
   },
   {
    "duration": 31,
    "start_time": "2024-11-28T09:12:50.298Z"
   },
   {
    "duration": 16,
    "start_time": "2024-11-28T09:12:50.331Z"
   },
   {
    "duration": 9,
    "start_time": "2024-11-28T09:14:05.240Z"
   },
   {
    "duration": 9,
    "start_time": "2024-11-28T09:16:00.252Z"
   },
   {
    "duration": 72,
    "start_time": "2024-11-28T09:16:06.754Z"
   },
   {
    "duration": 0,
    "start_time": "2024-11-28T09:16:06.828Z"
   },
   {
    "duration": 12,
    "start_time": "2024-11-28T09:16:25.871Z"
   },
   {
    "duration": 5,
    "start_time": "2024-11-28T09:17:23.788Z"
   },
   {
    "duration": 9,
    "start_time": "2024-11-28T09:17:33.387Z"
   },
   {
    "duration": 4,
    "start_time": "2024-11-28T09:18:11.062Z"
   },
   {
    "duration": 4,
    "start_time": "2024-11-28T09:18:18.238Z"
   },
   {
    "duration": 14,
    "start_time": "2024-11-28T09:18:18.793Z"
   },
   {
    "duration": 384,
    "start_time": "2024-11-28T09:18:27.775Z"
   },
   {
    "duration": 191,
    "start_time": "2024-11-28T09:18:28.161Z"
   },
   {
    "duration": 23,
    "start_time": "2024-11-28T09:18:28.353Z"
   },
   {
    "duration": 18,
    "start_time": "2024-11-28T09:18:28.378Z"
   },
   {
    "duration": 5,
    "start_time": "2024-11-28T09:18:28.398Z"
   },
   {
    "duration": 46,
    "start_time": "2024-11-28T09:18:28.404Z"
   },
   {
    "duration": 30,
    "start_time": "2024-11-28T09:18:28.451Z"
   },
   {
    "duration": 39,
    "start_time": "2024-11-28T09:18:28.483Z"
   },
   {
    "duration": 80,
    "start_time": "2024-11-28T09:18:28.523Z"
   },
   {
    "duration": 11,
    "start_time": "2024-11-28T09:18:28.604Z"
   },
   {
    "duration": 39,
    "start_time": "2024-11-28T09:18:28.617Z"
   },
   {
    "duration": 9,
    "start_time": "2024-11-28T09:18:28.659Z"
   },
   {
    "duration": 27,
    "start_time": "2024-11-28T09:18:28.670Z"
   },
   {
    "duration": 43,
    "start_time": "2024-11-28T09:18:28.699Z"
   },
   {
    "duration": 62,
    "start_time": "2024-11-28T09:18:28.744Z"
   },
   {
    "duration": 75,
    "start_time": "2024-11-28T09:18:28.808Z"
   },
   {
    "duration": 141,
    "start_time": "2024-11-28T09:18:28.885Z"
   },
   {
    "duration": 17,
    "start_time": "2024-11-28T09:18:29.028Z"
   },
   {
    "duration": 19,
    "start_time": "2024-11-28T09:18:29.046Z"
   },
   {
    "duration": 20,
    "start_time": "2024-11-28T09:18:29.067Z"
   },
   {
    "duration": 11,
    "start_time": "2024-11-28T09:18:29.089Z"
   },
   {
    "duration": 26,
    "start_time": "2024-11-28T09:18:29.102Z"
   },
   {
    "duration": 3,
    "start_time": "2024-11-28T09:18:29.129Z"
   },
   {
    "duration": 12,
    "start_time": "2024-11-28T09:18:29.133Z"
   },
   {
    "duration": 12,
    "start_time": "2024-11-28T09:18:29.149Z"
   },
   {
    "duration": 13,
    "start_time": "2024-11-28T09:20:34.172Z"
   },
   {
    "duration": 11,
    "start_time": "2024-11-28T09:20:34.194Z"
   },
   {
    "duration": 376,
    "start_time": "2024-11-28T09:21:48.079Z"
   },
   {
    "duration": 193,
    "start_time": "2024-11-28T09:21:48.457Z"
   },
   {
    "duration": 23,
    "start_time": "2024-11-28T09:21:48.651Z"
   },
   {
    "duration": 19,
    "start_time": "2024-11-28T09:21:48.676Z"
   },
   {
    "duration": 5,
    "start_time": "2024-11-28T09:21:48.696Z"
   },
   {
    "duration": 21,
    "start_time": "2024-11-28T09:21:48.702Z"
   },
   {
    "duration": 22,
    "start_time": "2024-11-28T09:21:48.743Z"
   },
   {
    "duration": 42,
    "start_time": "2024-11-28T09:21:48.767Z"
   },
   {
    "duration": 105,
    "start_time": "2024-11-28T09:21:48.810Z"
   },
   {
    "duration": 15,
    "start_time": "2024-11-28T09:21:48.919Z"
   },
   {
    "duration": 127,
    "start_time": "2024-11-28T09:21:48.936Z"
   },
   {
    "duration": 21,
    "start_time": "2024-11-28T09:21:49.065Z"
   },
   {
    "duration": 12,
    "start_time": "2024-11-28T09:21:49.089Z"
   },
   {
    "duration": 33,
    "start_time": "2024-11-28T09:21:49.103Z"
   },
   {
    "duration": 85,
    "start_time": "2024-11-28T09:21:49.138Z"
   },
   {
    "duration": 102,
    "start_time": "2024-11-28T09:21:49.224Z"
   },
   {
    "duration": 118,
    "start_time": "2024-11-28T09:21:49.328Z"
   },
   {
    "duration": 16,
    "start_time": "2024-11-28T09:21:49.448Z"
   },
   {
    "duration": 42,
    "start_time": "2024-11-28T09:21:49.465Z"
   },
   {
    "duration": 25,
    "start_time": "2024-11-28T09:21:49.508Z"
   },
   {
    "duration": 12,
    "start_time": "2024-11-28T09:21:49.535Z"
   },
   {
    "duration": 13,
    "start_time": "2024-11-28T09:21:49.548Z"
   },
   {
    "duration": 22,
    "start_time": "2024-11-28T09:21:49.563Z"
   },
   {
    "duration": 18,
    "start_time": "2024-11-28T09:21:49.586Z"
   },
   {
    "duration": 125,
    "start_time": "2024-11-28T09:28:50.426Z"
   },
   {
    "duration": 220,
    "start_time": "2024-11-28T09:29:16.993Z"
   },
   {
    "duration": 83,
    "start_time": "2024-11-28T09:31:24.050Z"
   },
   {
    "duration": 558,
    "start_time": "2024-11-28T09:32:04.755Z"
   },
   {
    "duration": 472,
    "start_time": "2024-11-28T09:33:19.618Z"
   },
   {
    "duration": 198,
    "start_time": "2024-11-28T09:33:20.092Z"
   },
   {
    "duration": 23,
    "start_time": "2024-11-28T09:33:20.291Z"
   },
   {
    "duration": 63,
    "start_time": "2024-11-28T09:33:20.316Z"
   },
   {
    "duration": 26,
    "start_time": "2024-11-28T09:33:20.380Z"
   },
   {
    "duration": 32,
    "start_time": "2024-11-28T09:33:20.407Z"
   },
   {
    "duration": 28,
    "start_time": "2024-11-28T09:33:20.441Z"
   },
   {
    "duration": 93,
    "start_time": "2024-11-28T09:33:20.470Z"
   },
   {
    "duration": 95,
    "start_time": "2024-11-28T09:33:20.564Z"
   },
   {
    "duration": 12,
    "start_time": "2024-11-28T09:33:20.662Z"
   },
   {
    "duration": 21,
    "start_time": "2024-11-28T09:33:20.675Z"
   },
   {
    "duration": 10,
    "start_time": "2024-11-28T09:33:20.697Z"
   },
   {
    "duration": 15,
    "start_time": "2024-11-28T09:33:20.709Z"
   },
   {
    "duration": 21,
    "start_time": "2024-11-28T09:33:20.743Z"
   },
   {
    "duration": 109,
    "start_time": "2024-11-28T09:33:20.766Z"
   },
   {
    "duration": 72,
    "start_time": "2024-11-28T09:33:20.877Z"
   },
   {
    "duration": 135,
    "start_time": "2024-11-28T09:33:20.951Z"
   },
   {
    "duration": 23,
    "start_time": "2024-11-28T09:33:21.088Z"
   },
   {
    "duration": 16,
    "start_time": "2024-11-28T09:33:21.112Z"
   },
   {
    "duration": 25,
    "start_time": "2024-11-28T09:33:21.129Z"
   },
   {
    "duration": 39,
    "start_time": "2024-11-28T09:33:21.155Z"
   },
   {
    "duration": 14,
    "start_time": "2024-11-28T09:33:21.196Z"
   },
   {
    "duration": 55,
    "start_time": "2024-11-28T09:33:21.212Z"
   },
   {
    "duration": 39,
    "start_time": "2024-11-28T09:33:21.268Z"
   },
   {
    "duration": 15,
    "start_time": "2024-11-28T09:33:21.308Z"
   },
   {
    "duration": 610,
    "start_time": "2024-11-28T09:34:03.244Z"
   },
   {
    "duration": 4,
    "start_time": "2024-11-28T09:34:49.433Z"
   },
   {
    "duration": 14,
    "start_time": "2024-11-28T09:34:50.430Z"
   },
   {
    "duration": 7592,
    "start_time": "2024-11-28T09:34:51.472Z"
   },
   {
    "duration": 8170,
    "start_time": "2024-11-28T09:35:34.646Z"
   },
   {
    "duration": 13157,
    "start_time": "2024-11-28T09:37:46.134Z"
   },
   {
    "duration": 8274,
    "start_time": "2024-11-28T09:39:48.027Z"
   },
   {
    "duration": 8092,
    "start_time": "2024-11-28T09:40:24.684Z"
   },
   {
    "duration": 446,
    "start_time": "2024-11-28T09:41:10.625Z"
   },
   {
    "duration": 199,
    "start_time": "2024-11-28T09:41:11.072Z"
   },
   {
    "duration": 22,
    "start_time": "2024-11-28T09:41:11.272Z"
   },
   {
    "duration": 59,
    "start_time": "2024-11-28T09:41:11.297Z"
   },
   {
    "duration": 4,
    "start_time": "2024-11-28T09:41:11.358Z"
   },
   {
    "duration": 30,
    "start_time": "2024-11-28T09:41:11.364Z"
   },
   {
    "duration": 18,
    "start_time": "2024-11-28T09:41:11.396Z"
   },
   {
    "duration": 45,
    "start_time": "2024-11-28T09:41:11.416Z"
   },
   {
    "duration": 56,
    "start_time": "2024-11-28T09:41:11.462Z"
   },
   {
    "duration": 37,
    "start_time": "2024-11-28T09:41:11.520Z"
   },
   {
    "duration": 22,
    "start_time": "2024-11-28T09:41:11.558Z"
   },
   {
    "duration": 9,
    "start_time": "2024-11-28T09:41:11.582Z"
   },
   {
    "duration": 17,
    "start_time": "2024-11-28T09:41:11.592Z"
   },
   {
    "duration": 19,
    "start_time": "2024-11-28T09:41:12.061Z"
   },
   {
    "duration": 59,
    "start_time": "2024-11-28T09:41:12.081Z"
   },
   {
    "duration": 86,
    "start_time": "2024-11-28T09:41:12.142Z"
   },
   {
    "duration": 134,
    "start_time": "2024-11-28T09:41:12.229Z"
   },
   {
    "duration": 16,
    "start_time": "2024-11-28T09:41:12.365Z"
   },
   {
    "duration": 35,
    "start_time": "2024-11-28T09:41:12.383Z"
   },
   {
    "duration": 18,
    "start_time": "2024-11-28T09:41:12.420Z"
   },
   {
    "duration": 13,
    "start_time": "2024-11-28T09:41:12.440Z"
   },
   {
    "duration": 3,
    "start_time": "2024-11-28T09:41:12.454Z"
   },
   {
    "duration": 21,
    "start_time": "2024-11-28T09:41:12.459Z"
   },
   {
    "duration": 22,
    "start_time": "2024-11-28T09:41:12.481Z"
   },
   {
    "duration": 16577,
    "start_time": "2024-11-28T09:41:12.505Z"
   },
   {
    "duration": 77,
    "start_time": "2024-11-28T09:45:40.362Z"
   },
   {
    "duration": 16,
    "start_time": "2024-11-28T09:45:52.049Z"
   },
   {
    "duration": 8,
    "start_time": "2024-11-28T09:46:05.013Z"
   },
   {
    "duration": 85,
    "start_time": "2024-11-28T09:49:59.416Z"
   },
   {
    "duration": 13,
    "start_time": "2024-11-28T09:50:26.243Z"
   },
   {
    "duration": 0,
    "start_time": "2024-11-28T09:52:48.148Z"
   },
   {
    "duration": 0,
    "start_time": "2024-11-28T09:52:48.150Z"
   },
   {
    "duration": 1,
    "start_time": "2024-11-28T09:52:48.152Z"
   },
   {
    "duration": 0,
    "start_time": "2024-11-28T09:52:48.154Z"
   },
   {
    "duration": 0,
    "start_time": "2024-11-28T09:52:48.155Z"
   },
   {
    "duration": 0,
    "start_time": "2024-11-28T09:52:48.156Z"
   },
   {
    "duration": 1,
    "start_time": "2024-11-28T09:52:48.159Z"
   },
   {
    "duration": 0,
    "start_time": "2024-11-28T09:52:48.161Z"
   },
   {
    "duration": 0,
    "start_time": "2024-11-28T09:52:48.162Z"
   },
   {
    "duration": 0,
    "start_time": "2024-11-28T09:52:48.163Z"
   },
   {
    "duration": 0,
    "start_time": "2024-11-28T09:52:48.165Z"
   },
   {
    "duration": 0,
    "start_time": "2024-11-28T09:52:48.167Z"
   },
   {
    "duration": 0,
    "start_time": "2024-11-28T09:52:48.169Z"
   },
   {
    "duration": 0,
    "start_time": "2024-11-28T09:52:48.171Z"
   },
   {
    "duration": 0,
    "start_time": "2024-11-28T09:52:48.172Z"
   },
   {
    "duration": 0,
    "start_time": "2024-11-28T09:52:48.173Z"
   },
   {
    "duration": 0,
    "start_time": "2024-11-28T09:52:48.175Z"
   },
   {
    "duration": 0,
    "start_time": "2024-11-28T09:52:48.176Z"
   },
   {
    "duration": 0,
    "start_time": "2024-11-28T09:52:48.178Z"
   },
   {
    "duration": 0,
    "start_time": "2024-11-28T09:52:48.179Z"
   },
   {
    "duration": 0,
    "start_time": "2024-11-28T09:52:48.181Z"
   },
   {
    "duration": 0,
    "start_time": "2024-11-28T09:52:48.182Z"
   },
   {
    "duration": 0,
    "start_time": "2024-11-28T09:52:48.184Z"
   },
   {
    "duration": 0,
    "start_time": "2024-11-28T09:52:48.185Z"
   },
   {
    "duration": 1,
    "start_time": "2024-11-28T09:52:48.242Z"
   },
   {
    "duration": 0,
    "start_time": "2024-11-28T09:52:48.244Z"
   },
   {
    "duration": 428,
    "start_time": "2024-11-28T09:53:31.934Z"
   },
   {
    "duration": 192,
    "start_time": "2024-11-28T09:53:32.364Z"
   },
   {
    "duration": 23,
    "start_time": "2024-11-28T09:53:32.558Z"
   },
   {
    "duration": 52,
    "start_time": "2024-11-28T09:53:32.583Z"
   },
   {
    "duration": 14,
    "start_time": "2024-11-28T09:53:32.637Z"
   },
   {
    "duration": 59,
    "start_time": "2024-11-28T09:53:32.652Z"
   },
   {
    "duration": 21,
    "start_time": "2024-11-28T09:53:32.713Z"
   },
   {
    "duration": 54,
    "start_time": "2024-11-28T09:53:32.736Z"
   },
   {
    "duration": 99,
    "start_time": "2024-11-28T09:53:32.792Z"
   },
   {
    "duration": 12,
    "start_time": "2024-11-28T09:53:32.893Z"
   },
   {
    "duration": 30,
    "start_time": "2024-11-28T09:53:32.906Z"
   },
   {
    "duration": 11,
    "start_time": "2024-11-28T09:53:32.938Z"
   },
   {
    "duration": 21,
    "start_time": "2024-11-28T09:53:32.950Z"
   },
   {
    "duration": 19,
    "start_time": "2024-11-28T09:53:32.975Z"
   },
   {
    "duration": 72,
    "start_time": "2024-11-28T09:53:32.996Z"
   },
   {
    "duration": 95,
    "start_time": "2024-11-28T09:53:33.070Z"
   },
   {
    "duration": 115,
    "start_time": "2024-11-28T09:53:33.167Z"
   },
   {
    "duration": 16,
    "start_time": "2024-11-28T09:53:33.284Z"
   },
   {
    "duration": 46,
    "start_time": "2024-11-28T09:53:33.302Z"
   },
   {
    "duration": 87,
    "start_time": "2024-11-28T09:53:33.350Z"
   },
   {
    "duration": 30,
    "start_time": "2024-11-28T09:53:33.439Z"
   },
   {
    "duration": 28,
    "start_time": "2024-11-28T09:53:33.470Z"
   },
   {
    "duration": 19,
    "start_time": "2024-11-28T09:53:33.500Z"
   },
   {
    "duration": 22,
    "start_time": "2024-11-28T09:53:33.521Z"
   },
   {
    "duration": 16290,
    "start_time": "2024-11-28T09:53:33.546Z"
   },
   {
    "duration": 1091,
    "start_time": "2024-11-28T09:53:49.837Z"
   },
   {
    "duration": 11,
    "start_time": "2024-11-28T09:54:06.717Z"
   },
   {
    "duration": 11,
    "start_time": "2024-11-28T09:55:15.459Z"
   },
   {
    "duration": 8,
    "start_time": "2024-11-28T09:57:04.002Z"
   },
   {
    "duration": 8,
    "start_time": "2024-11-28T09:57:21.707Z"
   },
   {
    "duration": 453,
    "start_time": "2024-11-28T09:57:29.742Z"
   },
   {
    "duration": 200,
    "start_time": "2024-11-28T09:57:30.197Z"
   },
   {
    "duration": 24,
    "start_time": "2024-11-28T09:57:30.399Z"
   },
   {
    "duration": 54,
    "start_time": "2024-11-28T09:57:30.424Z"
   },
   {
    "duration": 39,
    "start_time": "2024-11-28T09:57:30.481Z"
   },
   {
    "duration": 57,
    "start_time": "2024-11-28T09:57:30.522Z"
   },
   {
    "duration": 55,
    "start_time": "2024-11-28T09:57:30.581Z"
   },
   {
    "duration": 133,
    "start_time": "2024-11-28T09:57:30.638Z"
   },
   {
    "duration": 105,
    "start_time": "2024-11-28T09:57:30.773Z"
   },
   {
    "duration": 10,
    "start_time": "2024-11-28T09:57:30.880Z"
   },
   {
    "duration": 30,
    "start_time": "2024-11-28T09:57:30.892Z"
   },
   {
    "duration": 9,
    "start_time": "2024-11-28T09:57:30.924Z"
   },
   {
    "duration": 20,
    "start_time": "2024-11-28T09:57:30.935Z"
   },
   {
    "duration": 24,
    "start_time": "2024-11-28T09:57:30.957Z"
   },
   {
    "duration": 96,
    "start_time": "2024-11-28T09:57:30.983Z"
   },
   {
    "duration": 166,
    "start_time": "2024-11-28T09:57:31.080Z"
   },
   {
    "duration": 143,
    "start_time": "2024-11-28T09:57:31.248Z"
   },
   {
    "duration": 16,
    "start_time": "2024-11-28T09:57:31.392Z"
   },
   {
    "duration": 10,
    "start_time": "2024-11-28T09:57:31.410Z"
   },
   {
    "duration": 40,
    "start_time": "2024-11-28T09:57:31.421Z"
   },
   {
    "duration": 43,
    "start_time": "2024-11-28T09:57:31.462Z"
   },
   {
    "duration": 2,
    "start_time": "2024-11-28T09:57:31.507Z"
   },
   {
    "duration": 23,
    "start_time": "2024-11-28T09:57:31.511Z"
   },
   {
    "duration": 29,
    "start_time": "2024-11-28T09:57:31.536Z"
   },
   {
    "duration": 118,
    "start_time": "2024-11-28T09:57:31.566Z"
   },
   {
    "duration": 0,
    "start_time": "2024-11-28T09:57:31.686Z"
   },
   {
    "duration": 12,
    "start_time": "2024-11-28T09:57:51.715Z"
   },
   {
    "duration": 11,
    "start_time": "2024-11-28T09:57:51.928Z"
   },
   {
    "duration": 11,
    "start_time": "2024-11-28T09:58:07.101Z"
   },
   {
    "duration": 16,
    "start_time": "2024-11-28T10:00:26.736Z"
   },
   {
    "duration": 69,
    "start_time": "2024-11-28T10:24:15.158Z"
   },
   {
    "duration": 9,
    "start_time": "2024-11-28T10:28:06.577Z"
   },
   {
    "duration": 81,
    "start_time": "2024-11-28T10:37:39.231Z"
   },
   {
    "duration": 13,
    "start_time": "2024-11-28T10:38:27.553Z"
   },
   {
    "duration": 107,
    "start_time": "2024-11-28T10:45:17.937Z"
   },
   {
    "duration": 69,
    "start_time": "2024-11-28T10:45:25.518Z"
   },
   {
    "duration": 17,
    "start_time": "2024-11-28T10:45:31.377Z"
   },
   {
    "duration": 23,
    "start_time": "2024-11-28T10:45:57.137Z"
   },
   {
    "duration": 18,
    "start_time": "2024-11-28T10:46:26.836Z"
   },
   {
    "duration": 442,
    "start_time": "2024-11-28T10:46:50.233Z"
   },
   {
    "duration": 198,
    "start_time": "2024-11-28T10:46:50.677Z"
   },
   {
    "duration": 23,
    "start_time": "2024-11-28T10:46:50.877Z"
   },
   {
    "duration": 22,
    "start_time": "2024-11-28T10:46:50.902Z"
   },
   {
    "duration": 36,
    "start_time": "2024-11-28T10:46:50.926Z"
   },
   {
    "duration": 16,
    "start_time": "2024-11-28T10:46:50.964Z"
   },
   {
    "duration": 25,
    "start_time": "2024-11-28T10:46:50.981Z"
   },
   {
    "duration": 51,
    "start_time": "2024-11-28T10:46:51.008Z"
   },
   {
    "duration": 66,
    "start_time": "2024-11-28T10:46:51.061Z"
   },
   {
    "duration": 15,
    "start_time": "2024-11-28T10:46:51.130Z"
   },
   {
    "duration": 21,
    "start_time": "2024-11-28T10:46:51.148Z"
   },
   {
    "duration": 10,
    "start_time": "2024-11-28T10:46:51.171Z"
   },
   {
    "duration": 18,
    "start_time": "2024-11-28T10:46:51.183Z"
   },
   {
    "duration": 20,
    "start_time": "2024-11-28T10:46:51.243Z"
   },
   {
    "duration": 106,
    "start_time": "2024-11-28T10:46:51.265Z"
   },
   {
    "duration": 71,
    "start_time": "2024-11-28T10:46:51.373Z"
   },
   {
    "duration": 135,
    "start_time": "2024-11-28T10:46:51.445Z"
   },
   {
    "duration": 25,
    "start_time": "2024-11-28T10:46:51.582Z"
   },
   {
    "duration": 30,
    "start_time": "2024-11-28T10:46:51.609Z"
   },
   {
    "duration": 63,
    "start_time": "2024-11-28T10:46:51.641Z"
   },
   {
    "duration": 3,
    "start_time": "2024-11-28T10:46:51.706Z"
   },
   {
    "duration": 6,
    "start_time": "2024-11-28T10:46:51.711Z"
   },
   {
    "duration": 30,
    "start_time": "2024-11-28T10:46:51.719Z"
   },
   {
    "duration": 9,
    "start_time": "2024-11-28T10:46:51.751Z"
   },
   {
    "duration": 26,
    "start_time": "2024-11-28T10:46:51.762Z"
   },
   {
    "duration": 35,
    "start_time": "2024-11-28T10:46:51.790Z"
   },
   {
    "duration": 69,
    "start_time": "2024-11-28T10:48:06.291Z"
   },
   {
    "duration": 14,
    "start_time": "2024-11-28T10:48:09.173Z"
   },
   {
    "duration": 12,
    "start_time": "2024-11-28T10:48:17.363Z"
   },
   {
    "duration": 376,
    "start_time": "2024-11-28T10:48:28.703Z"
   },
   {
    "duration": 216,
    "start_time": "2024-11-28T10:48:29.080Z"
   },
   {
    "duration": 24,
    "start_time": "2024-11-28T10:48:29.297Z"
   },
   {
    "duration": 35,
    "start_time": "2024-11-28T10:48:29.323Z"
   },
   {
    "duration": 5,
    "start_time": "2024-11-28T10:48:29.359Z"
   },
   {
    "duration": 35,
    "start_time": "2024-11-28T10:48:29.366Z"
   },
   {
    "duration": 20,
    "start_time": "2024-11-28T10:48:29.402Z"
   },
   {
    "duration": 54,
    "start_time": "2024-11-28T10:48:29.423Z"
   },
   {
    "duration": 81,
    "start_time": "2024-11-28T10:48:29.478Z"
   },
   {
    "duration": 10,
    "start_time": "2024-11-28T10:48:29.562Z"
   },
   {
    "duration": 64,
    "start_time": "2024-11-28T10:48:29.573Z"
   },
   {
    "duration": 9,
    "start_time": "2024-11-28T10:48:29.639Z"
   },
   {
    "duration": 17,
    "start_time": "2024-11-28T10:48:29.650Z"
   },
   {
    "duration": 31,
    "start_time": "2024-11-28T10:48:29.669Z"
   },
   {
    "duration": 61,
    "start_time": "2024-11-28T10:48:29.702Z"
   },
   {
    "duration": 61,
    "start_time": "2024-11-28T10:48:29.765Z"
   },
   {
    "duration": 192,
    "start_time": "2024-11-28T10:48:29.827Z"
   },
   {
    "duration": 23,
    "start_time": "2024-11-28T10:48:30.020Z"
   },
   {
    "duration": 20,
    "start_time": "2024-11-28T10:48:30.044Z"
   },
   {
    "duration": 61,
    "start_time": "2024-11-28T10:48:30.066Z"
   },
   {
    "duration": 20,
    "start_time": "2024-11-28T10:48:30.128Z"
   },
   {
    "duration": 9,
    "start_time": "2024-11-28T10:48:30.149Z"
   },
   {
    "duration": 38,
    "start_time": "2024-11-28T10:48:30.160Z"
   },
   {
    "duration": 105,
    "start_time": "2024-11-28T10:48:30.199Z"
   },
   {
    "duration": 37,
    "start_time": "2024-11-28T10:48:30.306Z"
   },
   {
    "duration": 158,
    "start_time": "2024-11-28T10:48:30.345Z"
   },
   {
    "duration": 5,
    "start_time": "2024-11-28T10:49:34.014Z"
   },
   {
    "duration": 5,
    "start_time": "2024-11-28T10:50:35.775Z"
   },
   {
    "duration": 431,
    "start_time": "2024-11-28T10:50:51.840Z"
   },
   {
    "duration": 197,
    "start_time": "2024-11-28T10:50:52.273Z"
   },
   {
    "duration": 23,
    "start_time": "2024-11-28T10:50:52.472Z"
   },
   {
    "duration": 24,
    "start_time": "2024-11-28T10:50:52.496Z"
   },
   {
    "duration": 25,
    "start_time": "2024-11-28T10:50:52.522Z"
   },
   {
    "duration": 33,
    "start_time": "2024-11-28T10:50:52.548Z"
   },
   {
    "duration": 29,
    "start_time": "2024-11-28T10:50:52.583Z"
   },
   {
    "duration": 50,
    "start_time": "2024-11-28T10:50:52.614Z"
   },
   {
    "duration": 110,
    "start_time": "2024-11-28T10:50:52.667Z"
   },
   {
    "duration": 12,
    "start_time": "2024-11-28T10:50:52.779Z"
   },
   {
    "duration": 21,
    "start_time": "2024-11-28T10:50:52.793Z"
   },
   {
    "duration": 27,
    "start_time": "2024-11-28T10:50:52.816Z"
   },
   {
    "duration": 10,
    "start_time": "2024-11-28T10:50:52.846Z"
   },
   {
    "duration": 83,
    "start_time": "2024-11-28T10:50:52.857Z"
   },
   {
    "duration": 77,
    "start_time": "2024-11-28T10:50:52.942Z"
   },
   {
    "duration": 63,
    "start_time": "2024-11-28T10:50:53.020Z"
   },
   {
    "duration": 115,
    "start_time": "2024-11-28T10:50:53.085Z"
   },
   {
    "duration": 14,
    "start_time": "2024-11-28T10:50:53.202Z"
   },
   {
    "duration": 23,
    "start_time": "2024-11-28T10:50:53.218Z"
   },
   {
    "duration": 97,
    "start_time": "2024-11-28T10:50:53.242Z"
   },
   {
    "duration": 20,
    "start_time": "2024-11-28T10:50:53.341Z"
   },
   {
    "duration": 30,
    "start_time": "2024-11-28T10:50:53.362Z"
   },
   {
    "duration": 13,
    "start_time": "2024-11-28T10:50:53.394Z"
   },
   {
    "duration": 12,
    "start_time": "2024-11-28T10:50:53.408Z"
   },
   {
    "duration": 11,
    "start_time": "2024-11-28T10:50:53.421Z"
   },
   {
    "duration": 431,
    "start_time": "2024-11-28T10:53:21.821Z"
   },
   {
    "duration": 201,
    "start_time": "2024-11-28T10:53:22.254Z"
   },
   {
    "duration": 24,
    "start_time": "2024-11-28T10:53:22.456Z"
   },
   {
    "duration": 28,
    "start_time": "2024-11-28T10:53:22.482Z"
   },
   {
    "duration": 5,
    "start_time": "2024-11-28T10:53:22.511Z"
   },
   {
    "duration": 41,
    "start_time": "2024-11-28T10:53:22.517Z"
   },
   {
    "duration": 20,
    "start_time": "2024-11-28T10:53:22.560Z"
   },
   {
    "duration": 40,
    "start_time": "2024-11-28T10:53:22.581Z"
   },
   {
    "duration": 105,
    "start_time": "2024-11-28T10:53:22.622Z"
   },
   {
    "duration": 13,
    "start_time": "2024-11-28T10:53:22.731Z"
   },
   {
    "duration": 49,
    "start_time": "2024-11-28T10:53:22.746Z"
   },
   {
    "duration": 12,
    "start_time": "2024-11-28T10:53:22.797Z"
   },
   {
    "duration": 35,
    "start_time": "2024-11-28T10:53:22.811Z"
   },
   {
    "duration": 27,
    "start_time": "2024-11-28T10:53:22.848Z"
   },
   {
    "duration": 130,
    "start_time": "2024-11-28T10:53:22.877Z"
   },
   {
    "duration": 68,
    "start_time": "2024-11-28T10:53:23.008Z"
   },
   {
    "duration": 134,
    "start_time": "2024-11-28T10:53:23.077Z"
   },
   {
    "duration": 15,
    "start_time": "2024-11-28T10:53:23.213Z"
   },
   {
    "duration": 14,
    "start_time": "2024-11-28T10:53:23.230Z"
   },
   {
    "duration": 93,
    "start_time": "2024-11-28T10:53:23.245Z"
   },
   {
    "duration": 9,
    "start_time": "2024-11-28T10:53:23.340Z"
   },
   {
    "duration": 5,
    "start_time": "2024-11-28T10:53:23.351Z"
   },
   {
    "duration": 14,
    "start_time": "2024-11-28T10:53:23.357Z"
   },
   {
    "duration": 17,
    "start_time": "2024-11-28T10:53:23.372Z"
   },
   {
    "duration": 13,
    "start_time": "2024-11-28T10:53:23.390Z"
   },
   {
    "duration": 48,
    "start_time": "2024-11-28T10:53:23.404Z"
   },
   {
    "duration": 11,
    "start_time": "2024-11-28T10:53:23.453Z"
   },
   {
    "duration": 456,
    "start_time": "2024-11-28T10:54:31.440Z"
   },
   {
    "duration": 190,
    "start_time": "2024-11-28T10:54:31.898Z"
   },
   {
    "duration": 24,
    "start_time": "2024-11-28T10:54:32.089Z"
   },
   {
    "duration": 41,
    "start_time": "2024-11-28T10:54:32.115Z"
   },
   {
    "duration": 24,
    "start_time": "2024-11-28T10:54:32.158Z"
   },
   {
    "duration": 33,
    "start_time": "2024-11-28T10:54:32.183Z"
   },
   {
    "duration": 55,
    "start_time": "2024-11-28T10:54:32.217Z"
   },
   {
    "duration": 109,
    "start_time": "2024-11-28T10:54:32.274Z"
   },
   {
    "duration": 82,
    "start_time": "2024-11-28T10:54:32.385Z"
   },
   {
    "duration": 11,
    "start_time": "2024-11-28T10:54:32.470Z"
   },
   {
    "duration": 29,
    "start_time": "2024-11-28T10:54:32.484Z"
   },
   {
    "duration": 10,
    "start_time": "2024-11-28T10:54:32.515Z"
   },
   {
    "duration": 43,
    "start_time": "2024-11-28T10:54:32.526Z"
   },
   {
    "duration": 41,
    "start_time": "2024-11-28T10:54:32.570Z"
   },
   {
    "duration": 62,
    "start_time": "2024-11-28T10:54:32.612Z"
   },
   {
    "duration": 176,
    "start_time": "2024-11-28T10:54:32.676Z"
   },
   {
    "duration": 121,
    "start_time": "2024-11-28T10:54:32.855Z"
   },
   {
    "duration": 18,
    "start_time": "2024-11-28T10:54:32.978Z"
   },
   {
    "duration": 13,
    "start_time": "2024-11-28T10:54:32.998Z"
   },
   {
    "duration": 21,
    "start_time": "2024-11-28T10:54:33.012Z"
   },
   {
    "duration": 31,
    "start_time": "2024-11-28T10:54:33.036Z"
   },
   {
    "duration": 12,
    "start_time": "2024-11-28T10:54:33.068Z"
   },
   {
    "duration": 37,
    "start_time": "2024-11-28T10:54:33.082Z"
   },
   {
    "duration": 40,
    "start_time": "2024-11-28T10:54:33.122Z"
   },
   {
    "duration": 32,
    "start_time": "2024-11-28T10:54:33.164Z"
   },
   {
    "duration": 20,
    "start_time": "2024-11-28T10:54:33.198Z"
   },
   {
    "duration": 145,
    "start_time": "2024-11-28T10:54:33.220Z"
   },
   {
    "duration": 9,
    "start_time": "2024-11-28T10:55:03.648Z"
   },
   {
    "duration": 387,
    "start_time": "2024-11-28T10:55:27.498Z"
   },
   {
    "duration": 197,
    "start_time": "2024-11-28T10:55:27.887Z"
   },
   {
    "duration": 22,
    "start_time": "2024-11-28T10:55:28.086Z"
   },
   {
    "duration": 33,
    "start_time": "2024-11-28T10:55:28.110Z"
   },
   {
    "duration": 5,
    "start_time": "2024-11-28T10:55:28.144Z"
   },
   {
    "duration": 19,
    "start_time": "2024-11-28T10:55:28.151Z"
   },
   {
    "duration": 35,
    "start_time": "2024-11-28T10:55:28.172Z"
   },
   {
    "duration": 64,
    "start_time": "2024-11-28T10:55:28.209Z"
   },
   {
    "duration": 100,
    "start_time": "2024-11-28T10:55:28.275Z"
   },
   {
    "duration": 11,
    "start_time": "2024-11-28T10:55:28.377Z"
   },
   {
    "duration": 93,
    "start_time": "2024-11-28T10:55:28.389Z"
   },
   {
    "duration": 13,
    "start_time": "2024-11-28T10:55:28.483Z"
   },
   {
    "duration": 13,
    "start_time": "2024-11-28T10:55:28.497Z"
   },
   {
    "duration": 21,
    "start_time": "2024-11-28T10:55:28.512Z"
   },
   {
    "duration": 73,
    "start_time": "2024-11-28T10:55:28.535Z"
   },
   {
    "duration": 68,
    "start_time": "2024-11-28T10:55:28.610Z"
   },
   {
    "duration": 234,
    "start_time": "2024-11-28T10:55:28.679Z"
   },
   {
    "duration": 15,
    "start_time": "2024-11-28T10:55:28.915Z"
   },
   {
    "duration": 25,
    "start_time": "2024-11-28T10:55:28.932Z"
   },
   {
    "duration": 16,
    "start_time": "2024-11-28T10:55:28.958Z"
   },
   {
    "duration": 25,
    "start_time": "2024-11-28T10:55:28.977Z"
   },
   {
    "duration": 16,
    "start_time": "2024-11-28T10:55:29.004Z"
   },
   {
    "duration": 34,
    "start_time": "2024-11-28T10:55:29.022Z"
   },
   {
    "duration": 20,
    "start_time": "2024-11-28T10:55:29.059Z"
   },
   {
    "duration": 10,
    "start_time": "2024-11-28T10:55:29.081Z"
   },
   {
    "duration": 16,
    "start_time": "2024-11-28T10:55:29.094Z"
   },
   {
    "duration": 16,
    "start_time": "2024-11-28T10:55:29.143Z"
   },
   {
    "duration": 11,
    "start_time": "2024-11-28T10:56:14.143Z"
   },
   {
    "duration": 12,
    "start_time": "2024-11-28T10:56:16.218Z"
   },
   {
    "duration": 364,
    "start_time": "2024-11-28T10:57:23.694Z"
   },
   {
    "duration": 192,
    "start_time": "2024-11-28T10:57:24.059Z"
   },
   {
    "duration": 24,
    "start_time": "2024-11-28T10:57:24.253Z"
   },
   {
    "duration": 89,
    "start_time": "2024-11-28T10:57:24.279Z"
   },
   {
    "duration": 5,
    "start_time": "2024-11-28T10:57:24.371Z"
   },
   {
    "duration": 106,
    "start_time": "2024-11-28T10:57:24.377Z"
   },
   {
    "duration": 29,
    "start_time": "2024-11-28T10:57:24.485Z"
   },
   {
    "duration": 83,
    "start_time": "2024-11-28T10:57:24.516Z"
   },
   {
    "duration": 94,
    "start_time": "2024-11-28T10:57:24.601Z"
   },
   {
    "duration": 13,
    "start_time": "2024-11-28T10:57:24.697Z"
   },
   {
    "duration": 117,
    "start_time": "2024-11-28T10:57:24.712Z"
   },
   {
    "duration": 38,
    "start_time": "2024-11-28T10:57:24.832Z"
   },
   {
    "duration": 90,
    "start_time": "2024-11-28T10:57:24.872Z"
   },
   {
    "duration": 19,
    "start_time": "2024-11-28T10:57:24.965Z"
   },
   {
    "duration": 72,
    "start_time": "2024-11-28T10:57:24.987Z"
   },
   {
    "duration": 85,
    "start_time": "2024-11-28T10:57:25.061Z"
   },
   {
    "duration": 133,
    "start_time": "2024-11-28T10:57:25.148Z"
   },
   {
    "duration": 17,
    "start_time": "2024-11-28T10:57:25.282Z"
   },
   {
    "duration": 82,
    "start_time": "2024-11-28T10:57:25.301Z"
   },
   {
    "duration": 20,
    "start_time": "2024-11-28T10:57:25.386Z"
   },
   {
    "duration": 20,
    "start_time": "2024-11-28T10:57:25.407Z"
   },
   {
    "duration": 12,
    "start_time": "2024-11-28T10:57:25.429Z"
   },
   {
    "duration": 27,
    "start_time": "2024-11-28T10:57:25.443Z"
   },
   {
    "duration": 14,
    "start_time": "2024-11-28T10:57:25.472Z"
   },
   {
    "duration": 20,
    "start_time": "2024-11-28T10:57:25.487Z"
   },
   {
    "duration": 22,
    "start_time": "2024-11-28T10:58:58.982Z"
   },
   {
    "duration": 15,
    "start_time": "2024-11-28T10:59:20.199Z"
   },
   {
    "duration": 17,
    "start_time": "2024-11-28T10:59:42.936Z"
   },
   {
    "duration": 11,
    "start_time": "2024-11-28T10:59:55.577Z"
   },
   {
    "duration": 50,
    "start_time": "2024-12-12T10:09:59.811Z"
   },
   {
    "duration": 5,
    "start_time": "2024-12-12T10:10:11.969Z"
   },
   {
    "duration": 8,
    "start_time": "2024-12-12T10:16:20.487Z"
   },
   {
    "duration": 387,
    "start_time": "2024-12-12T10:16:31.111Z"
   },
   {
    "duration": 676,
    "start_time": "2024-12-12T10:16:31.501Z"
   },
   {
    "duration": 26,
    "start_time": "2024-12-12T10:16:32.178Z"
   },
   {
    "duration": 28,
    "start_time": "2024-12-12T10:16:32.206Z"
   },
   {
    "duration": 5,
    "start_time": "2024-12-12T10:16:32.236Z"
   },
   {
    "duration": 21,
    "start_time": "2024-12-12T10:16:32.243Z"
   },
   {
    "duration": 28,
    "start_time": "2024-12-12T10:16:32.265Z"
   },
   {
    "duration": 51,
    "start_time": "2024-12-12T10:16:32.294Z"
   },
   {
    "duration": 88,
    "start_time": "2024-12-12T10:16:32.347Z"
   },
   {
    "duration": 9,
    "start_time": "2024-12-12T10:16:32.437Z"
   },
   {
    "duration": 26,
    "start_time": "2024-12-12T10:16:32.448Z"
   },
   {
    "duration": 8,
    "start_time": "2024-12-12T10:16:32.475Z"
   },
   {
    "duration": 21,
    "start_time": "2024-12-12T10:16:32.485Z"
   },
   {
    "duration": 19,
    "start_time": "2024-12-12T10:16:32.507Z"
   },
   {
    "duration": 70,
    "start_time": "2024-12-12T10:16:32.528Z"
   },
   {
    "duration": 65,
    "start_time": "2024-12-12T10:16:32.600Z"
   },
   {
    "duration": 565,
    "start_time": "2024-12-12T10:16:32.667Z"
   },
   {
    "duration": 14,
    "start_time": "2024-12-12T10:16:33.234Z"
   },
   {
    "duration": 32,
    "start_time": "2024-12-12T10:16:33.249Z"
   },
   {
    "duration": 9,
    "start_time": "2024-12-12T10:16:33.283Z"
   },
   {
    "duration": 21,
    "start_time": "2024-12-12T10:16:33.296Z"
   },
   {
    "duration": 15,
    "start_time": "2024-12-12T10:16:33.318Z"
   },
   {
    "duration": 9,
    "start_time": "2024-12-12T10:16:33.335Z"
   },
   {
    "duration": 33,
    "start_time": "2024-12-12T10:17:25.540Z"
   },
   {
    "duration": 5,
    "start_time": "2024-12-12T10:17:25.692Z"
   },
   {
    "duration": 37,
    "start_time": "2024-12-12T10:19:54.522Z"
   },
   {
    "duration": 4788,
    "start_time": "2024-12-12T10:27:56.212Z"
   },
   {
    "duration": 55,
    "start_time": "2024-12-12T10:28:01.003Z"
   },
   {
    "duration": 357,
    "start_time": "2024-12-12T10:30:07.237Z"
   },
   {
    "duration": 3421,
    "start_time": "2024-12-12T10:30:07.597Z"
   },
   {
    "duration": 52,
    "start_time": "2024-12-12T10:30:11.020Z"
   },
   {
    "duration": 172,
    "start_time": "2024-12-12T10:30:11.074Z"
   },
   {
    "duration": 20,
    "start_time": "2024-12-12T10:30:11.247Z"
   },
   {
    "duration": 22,
    "start_time": "2024-12-12T10:30:11.268Z"
   },
   {
    "duration": 5,
    "start_time": "2024-12-12T10:30:11.291Z"
   },
   {
    "duration": 94,
    "start_time": "2024-12-12T10:30:11.297Z"
   },
   {
    "duration": 24,
    "start_time": "2024-12-12T10:30:11.392Z"
   },
   {
    "duration": 41,
    "start_time": "2024-12-12T10:30:11.418Z"
   },
   {
    "duration": 4,
    "start_time": "2024-12-12T10:30:11.460Z"
   },
   {
    "duration": 129,
    "start_time": "2024-12-12T10:30:11.465Z"
   },
   {
    "duration": 0,
    "start_time": "2024-12-12T10:30:11.595Z"
   },
   {
    "duration": 0,
    "start_time": "2024-12-12T10:30:11.596Z"
   },
   {
    "duration": 0,
    "start_time": "2024-12-12T10:30:11.597Z"
   },
   {
    "duration": 0,
    "start_time": "2024-12-12T10:30:11.598Z"
   },
   {
    "duration": 0,
    "start_time": "2024-12-12T10:30:11.599Z"
   },
   {
    "duration": 0,
    "start_time": "2024-12-12T10:30:11.600Z"
   },
   {
    "duration": 0,
    "start_time": "2024-12-12T10:30:11.601Z"
   },
   {
    "duration": 0,
    "start_time": "2024-12-12T10:30:11.602Z"
   },
   {
    "duration": 0,
    "start_time": "2024-12-12T10:30:11.603Z"
   },
   {
    "duration": 0,
    "start_time": "2024-12-12T10:30:11.604Z"
   },
   {
    "duration": 0,
    "start_time": "2024-12-12T10:30:11.605Z"
   },
   {
    "duration": 0,
    "start_time": "2024-12-12T10:30:11.606Z"
   },
   {
    "duration": 0,
    "start_time": "2024-12-12T10:30:11.606Z"
   },
   {
    "duration": 0,
    "start_time": "2024-12-12T10:30:11.607Z"
   },
   {
    "duration": 7,
    "start_time": "2024-12-12T10:33:28.151Z"
   },
   {
    "duration": 16,
    "start_time": "2024-12-12T10:44:18.218Z"
   },
   {
    "duration": 75,
    "start_time": "2024-12-12T10:47:34.182Z"
   },
   {
    "duration": 3,
    "start_time": "2024-12-12T10:50:45.336Z"
   },
   {
    "duration": 95,
    "start_time": "2024-12-12T10:50:51.060Z"
   },
   {
    "duration": 96,
    "start_time": "2024-12-12T10:51:06.693Z"
   },
   {
    "duration": 82,
    "start_time": "2024-12-12T10:51:37.629Z"
   },
   {
    "duration": 84,
    "start_time": "2024-12-12T10:52:17.457Z"
   },
   {
    "duration": 8,
    "start_time": "2024-12-12T10:55:13.740Z"
   },
   {
    "duration": 8,
    "start_time": "2024-12-12T10:57:10.037Z"
   },
   {
    "duration": 10,
    "start_time": "2024-12-12T10:57:19.576Z"
   },
   {
    "duration": 5,
    "start_time": "2024-12-12T10:57:27.447Z"
   },
   {
    "duration": 9,
    "start_time": "2024-12-12T11:43:42.180Z"
   },
   {
    "duration": 125,
    "start_time": "2024-12-12T11:44:17.715Z"
   },
   {
    "duration": 127,
    "start_time": "2024-12-12T11:45:19.940Z"
   },
   {
    "duration": 137,
    "start_time": "2024-12-12T11:45:59.558Z"
   },
   {
    "duration": 191,
    "start_time": "2024-12-12T11:46:11.531Z"
   },
   {
    "duration": 121,
    "start_time": "2024-12-12T11:46:33.279Z"
   },
   {
    "duration": 115,
    "start_time": "2024-12-12T11:46:41.342Z"
   },
   {
    "duration": 118,
    "start_time": "2024-12-12T11:46:58.070Z"
   },
   {
    "duration": 117,
    "start_time": "2024-12-12T11:47:03.347Z"
   },
   {
    "duration": 120,
    "start_time": "2024-12-12T11:47:08.014Z"
   },
   {
    "duration": 133,
    "start_time": "2024-12-12T11:47:56.523Z"
   },
   {
    "duration": 151,
    "start_time": "2024-12-12T11:48:05.855Z"
   },
   {
    "duration": 149,
    "start_time": "2024-12-12T11:48:24.175Z"
   },
   {
    "duration": 146,
    "start_time": "2024-12-12T11:48:48.936Z"
   },
   {
    "duration": 152,
    "start_time": "2024-12-12T11:48:54.337Z"
   },
   {
    "duration": 241,
    "start_time": "2024-12-12T11:49:12.415Z"
   },
   {
    "duration": 163,
    "start_time": "2024-12-12T11:49:20.077Z"
   },
   {
    "duration": 10,
    "start_time": "2024-12-12T11:50:33.535Z"
   },
   {
    "duration": 180,
    "start_time": "2024-12-12T11:50:51.651Z"
   },
   {
    "duration": 4,
    "start_time": "2024-12-12T11:51:31.256Z"
   },
   {
    "duration": 161,
    "start_time": "2024-12-12T11:51:37.104Z"
   },
   {
    "duration": 185,
    "start_time": "2024-12-12T11:52:09.291Z"
   },
   {
    "duration": 169,
    "start_time": "2024-12-12T11:53:40.861Z"
   },
   {
    "duration": 203,
    "start_time": "2024-12-12T11:53:41.033Z"
   },
   {
    "duration": 181,
    "start_time": "2024-12-12T11:53:53.391Z"
   },
   {
    "duration": 191,
    "start_time": "2024-12-12T11:53:59.432Z"
   },
   {
    "duration": 199,
    "start_time": "2024-12-12T11:54:10.957Z"
   },
   {
    "duration": 203,
    "start_time": "2024-12-12T11:54:39.125Z"
   },
   {
    "duration": 188,
    "start_time": "2024-12-12T11:56:16.852Z"
   },
   {
    "duration": 100,
    "start_time": "2024-12-12T11:56:23.761Z"
   },
   {
    "duration": 184,
    "start_time": "2024-12-12T11:57:35.295Z"
   },
   {
    "duration": 195,
    "start_time": "2024-12-12T11:58:06.923Z"
   },
   {
    "duration": 199,
    "start_time": "2024-12-12T11:58:17.070Z"
   },
   {
    "duration": 9,
    "start_time": "2024-12-12T12:05:04.079Z"
   },
   {
    "duration": 3,
    "start_time": "2024-12-12T12:06:26.910Z"
   },
   {
    "duration": 10,
    "start_time": "2024-12-12T12:07:45.098Z"
   },
   {
    "duration": 7,
    "start_time": "2024-12-12T12:08:11.323Z"
   },
   {
    "duration": 14,
    "start_time": "2024-12-12T12:08:20.706Z"
   },
   {
    "duration": 80,
    "start_time": "2024-12-12T12:11:25.656Z"
   },
   {
    "duration": 8,
    "start_time": "2024-12-12T12:11:31.941Z"
   },
   {
    "duration": 523,
    "start_time": "2024-12-12T12:11:54.326Z"
   },
   {
    "duration": 421,
    "start_time": "2024-12-12T12:12:20.406Z"
   },
   {
    "duration": 81,
    "start_time": "2024-12-12T12:13:55.173Z"
   },
   {
    "duration": 31,
    "start_time": "2024-12-12T12:16:20.198Z"
   },
   {
    "duration": 360,
    "start_time": "2024-12-12T12:38:39.817Z"
   },
   {
    "duration": 14,
    "start_time": "2024-12-12T12:41:56.294Z"
   },
   {
    "duration": 440,
    "start_time": "2024-12-12T12:45:41.961Z"
   },
   {
    "duration": 3661,
    "start_time": "2024-12-12T12:45:42.404Z"
   },
   {
    "duration": 78,
    "start_time": "2024-12-12T12:45:46.067Z"
   },
   {
    "duration": 719,
    "start_time": "2024-12-12T12:45:46.147Z"
   },
   {
    "duration": 37,
    "start_time": "2024-12-12T12:45:46.868Z"
   },
   {
    "duration": 20,
    "start_time": "2024-12-12T12:45:46.907Z"
   },
   {
    "duration": 25,
    "start_time": "2024-12-12T12:45:46.929Z"
   },
   {
    "duration": 29,
    "start_time": "2024-12-12T12:45:46.956Z"
   },
   {
    "duration": 31,
    "start_time": "2024-12-12T12:45:46.986Z"
   },
   {
    "duration": 44,
    "start_time": "2024-12-12T12:45:47.021Z"
   },
   {
    "duration": 4,
    "start_time": "2024-12-12T12:45:47.066Z"
   },
   {
    "duration": 57,
    "start_time": "2024-12-12T12:45:47.071Z"
   },
   {
    "duration": 9,
    "start_time": "2024-12-12T12:45:47.129Z"
   },
   {
    "duration": 28,
    "start_time": "2024-12-12T12:45:47.139Z"
   },
   {
    "duration": 36,
    "start_time": "2024-12-12T12:45:47.169Z"
   },
   {
    "duration": 12,
    "start_time": "2024-12-12T12:45:47.212Z"
   },
   {
    "duration": 17,
    "start_time": "2024-12-12T12:45:47.225Z"
   },
   {
    "duration": 160,
    "start_time": "2024-12-12T12:45:47.244Z"
   },
   {
    "duration": 68,
    "start_time": "2024-12-12T12:45:47.407Z"
   },
   {
    "duration": 562,
    "start_time": "2024-12-12T12:45:47.477Z"
   },
   {
    "duration": 14,
    "start_time": "2024-12-12T12:45:48.041Z"
   },
   {
    "duration": 9,
    "start_time": "2024-12-12T12:45:48.056Z"
   },
   {
    "duration": 5,
    "start_time": "2024-12-12T12:45:48.066Z"
   },
   {
    "duration": 25,
    "start_time": "2024-12-12T12:45:48.072Z"
   },
   {
    "duration": 22,
    "start_time": "2024-12-12T12:45:48.100Z"
   },
   {
    "duration": 12,
    "start_time": "2024-12-12T12:45:48.123Z"
   },
   {
    "duration": 13,
    "start_time": "2024-12-12T12:45:48.136Z"
   },
   {
    "duration": 12,
    "start_time": "2024-12-12T12:45:48.151Z"
   },
   {
    "duration": 4,
    "start_time": "2024-12-12T12:45:48.164Z"
   },
   {
    "duration": 240,
    "start_time": "2024-12-12T12:45:48.170Z"
   },
   {
    "duration": 90,
    "start_time": "2024-12-12T12:45:48.412Z"
   },
   {
    "duration": 305,
    "start_time": "2024-12-12T12:45:48.504Z"
   },
   {
    "duration": 420,
    "start_time": "2024-12-12T12:47:12.211Z"
   },
   {
    "duration": 3804,
    "start_time": "2024-12-12T12:47:12.633Z"
   },
   {
    "duration": 91,
    "start_time": "2024-12-12T12:47:16.440Z"
   },
   {
    "duration": 694,
    "start_time": "2024-12-12T12:47:16.533Z"
   },
   {
    "duration": 22,
    "start_time": "2024-12-12T12:47:17.229Z"
   },
   {
    "duration": 21,
    "start_time": "2024-12-12T12:47:17.252Z"
   },
   {
    "duration": 30,
    "start_time": "2024-12-12T12:47:17.275Z"
   },
   {
    "duration": 30,
    "start_time": "2024-12-12T12:47:17.307Z"
   },
   {
    "duration": 20,
    "start_time": "2024-12-12T12:47:17.339Z"
   },
   {
    "duration": 55,
    "start_time": "2024-12-12T12:47:17.361Z"
   },
   {
    "duration": 5,
    "start_time": "2024-12-12T12:47:17.417Z"
   },
   {
    "duration": 31,
    "start_time": "2024-12-12T12:47:17.423Z"
   },
   {
    "duration": 37,
    "start_time": "2024-12-12T12:47:17.456Z"
   },
   {
    "duration": 22,
    "start_time": "2024-12-12T12:47:17.503Z"
   },
   {
    "duration": 8,
    "start_time": "2024-12-12T12:47:17.527Z"
   },
   {
    "duration": 15,
    "start_time": "2024-12-12T12:47:17.536Z"
   },
   {
    "duration": 16,
    "start_time": "2024-12-12T12:47:17.553Z"
   },
   {
    "duration": 86,
    "start_time": "2024-12-12T12:47:17.571Z"
   },
   {
    "duration": 82,
    "start_time": "2024-12-12T12:47:17.658Z"
   },
   {
    "duration": 584,
    "start_time": "2024-12-12T12:47:17.742Z"
   },
   {
    "duration": 14,
    "start_time": "2024-12-12T12:47:18.327Z"
   },
   {
    "duration": 9,
    "start_time": "2024-12-12T12:47:18.342Z"
   },
   {
    "duration": 4,
    "start_time": "2024-12-12T12:47:18.353Z"
   },
   {
    "duration": 15,
    "start_time": "2024-12-12T12:47:18.358Z"
   },
   {
    "duration": 24,
    "start_time": "2024-12-12T12:47:18.390Z"
   },
   {
    "duration": 12,
    "start_time": "2024-12-12T12:47:18.417Z"
   },
   {
    "duration": 13,
    "start_time": "2024-12-12T12:47:18.430Z"
   },
   {
    "duration": 12,
    "start_time": "2024-12-12T12:47:18.444Z"
   },
   {
    "duration": 31,
    "start_time": "2024-12-12T12:47:18.458Z"
   },
   {
    "duration": 216,
    "start_time": "2024-12-12T12:47:18.491Z"
   },
   {
    "duration": 97,
    "start_time": "2024-12-12T12:47:18.709Z"
   },
   {
    "duration": 310,
    "start_time": "2024-12-12T12:47:18.815Z"
   },
   {
    "duration": 62,
    "start_time": "2024-12-12T12:51:54.047Z"
   },
   {
    "duration": 377,
    "start_time": "2024-12-12T12:53:20.248Z"
   },
   {
    "duration": 3548,
    "start_time": "2024-12-12T12:53:20.627Z"
   },
   {
    "duration": 124,
    "start_time": "2024-12-12T12:53:24.177Z"
   },
   {
    "duration": 669,
    "start_time": "2024-12-12T12:53:24.303Z"
   },
   {
    "duration": 26,
    "start_time": "2024-12-12T12:53:24.974Z"
   },
   {
    "duration": 17,
    "start_time": "2024-12-12T12:53:25.001Z"
   },
   {
    "duration": 20,
    "start_time": "2024-12-12T12:53:25.020Z"
   },
   {
    "duration": 42,
    "start_time": "2024-12-12T12:53:25.041Z"
   },
   {
    "duration": 28,
    "start_time": "2024-12-12T12:53:25.084Z"
   },
   {
    "duration": 40,
    "start_time": "2024-12-12T12:53:25.115Z"
   },
   {
    "duration": 5,
    "start_time": "2024-12-12T12:53:25.157Z"
   },
   {
    "duration": 61,
    "start_time": "2024-12-12T12:53:25.164Z"
   },
   {
    "duration": 9,
    "start_time": "2024-12-12T12:53:25.226Z"
   },
   {
    "duration": 44,
    "start_time": "2024-12-12T12:53:25.237Z"
   },
   {
    "duration": 49,
    "start_time": "2024-12-12T12:53:25.283Z"
   },
   {
    "duration": 45,
    "start_time": "2024-12-12T12:53:25.334Z"
   },
   {
    "duration": 33,
    "start_time": "2024-12-12T12:53:25.381Z"
   },
   {
    "duration": 67,
    "start_time": "2024-12-12T12:53:25.416Z"
   },
   {
    "duration": 83,
    "start_time": "2024-12-12T12:53:25.484Z"
   },
   {
    "duration": 576,
    "start_time": "2024-12-12T12:53:25.568Z"
   },
   {
    "duration": 14,
    "start_time": "2024-12-12T12:53:26.145Z"
   },
   {
    "duration": 11,
    "start_time": "2024-12-12T12:53:26.160Z"
   },
   {
    "duration": 7,
    "start_time": "2024-12-12T12:53:26.172Z"
   },
   {
    "duration": 21,
    "start_time": "2024-12-12T12:53:26.180Z"
   },
   {
    "duration": 14,
    "start_time": "2024-12-12T12:53:26.203Z"
   },
   {
    "duration": 10,
    "start_time": "2024-12-12T12:53:26.218Z"
   },
   {
    "duration": 18,
    "start_time": "2024-12-12T12:53:26.230Z"
   },
   {
    "duration": 30,
    "start_time": "2024-12-12T12:53:26.250Z"
   },
   {
    "duration": 18,
    "start_time": "2024-12-12T12:53:26.281Z"
   },
   {
    "duration": 218,
    "start_time": "2024-12-12T12:53:26.300Z"
   },
   {
    "duration": 95,
    "start_time": "2024-12-12T12:53:26.519Z"
   },
   {
    "duration": 296,
    "start_time": "2024-12-12T12:53:26.615Z"
   },
   {
    "duration": 51,
    "start_time": "2024-12-12T13:09:11.308Z"
   },
   {
    "duration": 411,
    "start_time": "2024-12-12T13:09:27.964Z"
   },
   {
    "duration": 3631,
    "start_time": "2024-12-12T13:09:28.377Z"
   },
   {
    "duration": 101,
    "start_time": "2024-12-12T13:09:32.011Z"
   },
   {
    "duration": 697,
    "start_time": "2024-12-12T13:09:32.114Z"
   },
   {
    "duration": 20,
    "start_time": "2024-12-12T13:09:32.814Z"
   },
   {
    "duration": 34,
    "start_time": "2024-12-12T13:09:32.835Z"
   },
   {
    "duration": 14,
    "start_time": "2024-12-12T13:09:32.871Z"
   },
   {
    "duration": 25,
    "start_time": "2024-12-12T13:09:32.898Z"
   },
   {
    "duration": 29,
    "start_time": "2024-12-12T13:09:32.924Z"
   },
   {
    "duration": 59,
    "start_time": "2024-12-12T13:09:32.956Z"
   },
   {
    "duration": 4,
    "start_time": "2024-12-12T13:09:33.017Z"
   },
   {
    "duration": 34,
    "start_time": "2024-12-12T13:09:33.022Z"
   },
   {
    "duration": 9,
    "start_time": "2024-12-12T13:09:33.058Z"
   },
   {
    "duration": 41,
    "start_time": "2024-12-12T13:09:33.068Z"
   },
   {
    "duration": 26,
    "start_time": "2024-12-12T13:09:33.112Z"
   },
   {
    "duration": 9,
    "start_time": "2024-12-12T13:09:33.139Z"
   },
   {
    "duration": 23,
    "start_time": "2024-12-12T13:09:33.149Z"
   },
   {
    "duration": 103,
    "start_time": "2024-12-12T13:09:33.174Z"
   },
   {
    "duration": 89,
    "start_time": "2024-12-12T13:09:33.278Z"
   },
   {
    "duration": 683,
    "start_time": "2024-12-12T13:09:33.368Z"
   },
   {
    "duration": 13,
    "start_time": "2024-12-12T13:09:34.053Z"
   },
   {
    "duration": 40,
    "start_time": "2024-12-12T13:09:34.068Z"
   },
   {
    "duration": 25,
    "start_time": "2024-12-12T13:09:34.109Z"
   },
   {
    "duration": 111,
    "start_time": "2024-12-12T13:09:34.136Z"
   },
   {
    "duration": 15,
    "start_time": "2024-12-12T13:09:34.249Z"
   },
   {
    "duration": 10,
    "start_time": "2024-12-12T13:09:34.266Z"
   },
   {
    "duration": 35,
    "start_time": "2024-12-12T13:09:34.277Z"
   },
   {
    "duration": 20,
    "start_time": "2024-12-12T13:09:34.316Z"
   },
   {
    "duration": 26,
    "start_time": "2024-12-12T13:09:34.337Z"
   },
   {
    "duration": 260,
    "start_time": "2024-12-12T13:09:34.364Z"
   },
   {
    "duration": 106,
    "start_time": "2024-12-12T13:09:34.626Z"
   },
   {
    "duration": 375,
    "start_time": "2024-12-12T13:09:34.734Z"
   },
   {
    "duration": 115,
    "start_time": "2024-12-12T13:09:35.112Z"
   },
   {
    "duration": 743,
    "start_time": "2024-12-12T13:10:28.502Z"
   },
   {
    "duration": 778,
    "start_time": "2024-12-12T13:12:14.528Z"
   },
   {
    "duration": 780,
    "start_time": "2024-12-12T13:13:02.667Z"
   },
   {
    "duration": 761,
    "start_time": "2024-12-12T13:13:38.659Z"
   },
   {
    "duration": 677,
    "start_time": "2024-12-12T13:14:24.637Z"
   },
   {
    "duration": 680,
    "start_time": "2024-12-12T13:14:44.037Z"
   },
   {
    "duration": 15,
    "start_time": "2024-12-12T13:15:44.706Z"
   },
   {
    "duration": 18,
    "start_time": "2024-12-12T13:16:00.079Z"
   },
   {
    "duration": 11,
    "start_time": "2024-12-12T13:16:14.907Z"
   },
   {
    "duration": 16,
    "start_time": "2024-12-12T13:16:30.609Z"
   },
   {
    "duration": 20,
    "start_time": "2024-12-12T13:16:44.999Z"
   },
   {
    "duration": 353,
    "start_time": "2024-12-12T13:17:41.352Z"
   },
   {
    "duration": 8,
    "start_time": "2024-12-12T13:17:58.411Z"
   },
   {
    "duration": 14,
    "start_time": "2024-12-12T13:18:18.807Z"
   },
   {
    "duration": 9,
    "start_time": "2024-12-12T13:19:01.132Z"
   },
   {
    "duration": 11,
    "start_time": "2024-12-12T13:19:26.033Z"
   },
   {
    "duration": 16,
    "start_time": "2024-12-12T13:21:37.772Z"
   },
   {
    "duration": 8,
    "start_time": "2024-12-12T13:24:10.725Z"
   },
   {
    "duration": 10,
    "start_time": "2024-12-12T13:25:30.420Z"
   },
   {
    "duration": 8,
    "start_time": "2024-12-12T13:25:36.423Z"
   },
   {
    "duration": 16,
    "start_time": "2024-12-12T13:25:57.491Z"
   },
   {
    "duration": 8,
    "start_time": "2024-12-12T13:26:48.029Z"
   },
   {
    "duration": 44,
    "start_time": "2024-12-12T13:33:58.063Z"
   },
   {
    "duration": 44,
    "start_time": "2024-12-12T13:35:07.230Z"
   },
   {
    "duration": 13,
    "start_time": "2024-12-12T13:35:27.299Z"
   },
   {
    "duration": 31,
    "start_time": "2024-12-12T13:35:34.781Z"
   },
   {
    "duration": 10,
    "start_time": "2024-12-12T13:36:56.738Z"
   },
   {
    "duration": 9,
    "start_time": "2024-12-12T13:38:46.476Z"
   },
   {
    "duration": 4,
    "start_time": "2024-12-12T13:38:56.746Z"
   },
   {
    "duration": 3,
    "start_time": "2024-12-12T13:40:10.767Z"
   },
   {
    "duration": 3,
    "start_time": "2024-12-12T13:40:40.080Z"
   },
   {
    "duration": 14,
    "start_time": "2024-12-12T13:41:44.838Z"
   },
   {
    "duration": 61,
    "start_time": "2024-12-12T13:41:44.877Z"
   },
   {
    "duration": 10,
    "start_time": "2024-12-12T13:41:50.041Z"
   },
   {
    "duration": 53,
    "start_time": "2024-12-12T13:43:06.894Z"
   },
   {
    "duration": 46,
    "start_time": "2024-12-12T13:45:38.849Z"
   },
   {
    "duration": 50,
    "start_time": "2024-12-12T13:45:48.730Z"
   },
   {
    "duration": 302,
    "start_time": "2024-12-12T13:45:54.932Z"
   },
   {
    "duration": 255,
    "start_time": "2024-12-12T13:46:13.396Z"
   },
   {
    "duration": 154,
    "start_time": "2024-12-12T13:49:58.158Z"
   },
   {
    "duration": 334,
    "start_time": "2024-12-12T13:50:41.516Z"
   },
   {
    "duration": 30,
    "start_time": "2024-12-12T13:51:22.900Z"
   },
   {
    "duration": 12,
    "start_time": "2024-12-12T14:15:44.499Z"
   },
   {
    "duration": 9,
    "start_time": "2024-12-12T14:16:37.668Z"
   },
   {
    "duration": 8,
    "start_time": "2024-12-12T14:16:52.460Z"
   },
   {
    "duration": 11,
    "start_time": "2024-12-12T14:17:25.570Z"
   },
   {
    "duration": 751,
    "start_time": "2024-12-12T14:19:38.281Z"
   },
   {
    "duration": 0,
    "start_time": "2024-12-12T14:19:39.033Z"
   },
   {
    "duration": 723,
    "start_time": "2024-12-12T14:20:11.938Z"
   },
   {
    "duration": 14,
    "start_time": "2024-12-12T14:20:19.090Z"
   },
   {
    "duration": 16,
    "start_time": "2024-12-12T14:20:32.653Z"
   },
   {
    "duration": 2,
    "start_time": "2024-12-12T14:20:32.814Z"
   },
   {
    "duration": 8,
    "start_time": "2024-12-12T14:25:42.351Z"
   },
   {
    "duration": 12,
    "start_time": "2024-12-12T14:25:59.725Z"
   },
   {
    "duration": 47,
    "start_time": "2024-12-12T14:26:17.633Z"
   },
   {
    "duration": 44,
    "start_time": "2024-12-12T14:28:48.804Z"
   },
   {
    "duration": 10,
    "start_time": "2024-12-12T14:29:02.466Z"
   },
   {
    "duration": 10,
    "start_time": "2024-12-12T14:29:14.604Z"
   },
   {
    "duration": 10,
    "start_time": "2024-12-12T14:29:50.161Z"
   },
   {
    "duration": 8,
    "start_time": "2024-12-12T14:30:29.251Z"
   },
   {
    "duration": 8,
    "start_time": "2024-12-12T14:30:52.980Z"
   },
   {
    "duration": 15,
    "start_time": "2024-12-12T14:30:53.001Z"
   },
   {
    "duration": 17,
    "start_time": "2024-12-12T14:31:40.365Z"
   },
   {
    "duration": 16,
    "start_time": "2024-12-12T14:32:06.475Z"
   },
   {
    "duration": 14,
    "start_time": "2024-12-12T14:32:42.283Z"
   },
   {
    "duration": 6,
    "start_time": "2024-12-12T14:33:40.007Z"
   },
   {
    "duration": 28,
    "start_time": "2024-12-12T14:33:40.037Z"
   },
   {
    "duration": 14,
    "start_time": "2024-12-12T14:33:53.093Z"
   },
   {
    "duration": 42,
    "start_time": "2024-12-12T14:34:20.769Z"
   },
   {
    "duration": 20,
    "start_time": "2024-12-12T14:34:32.999Z"
   },
   {
    "duration": 25,
    "start_time": "2024-12-12T14:35:35.166Z"
   },
   {
    "duration": 24,
    "start_time": "2024-12-12T14:35:35.675Z"
   },
   {
    "duration": 32,
    "start_time": "2024-12-12T14:35:36.285Z"
   },
   {
    "duration": 20,
    "start_time": "2024-12-12T14:37:16.643Z"
   },
   {
    "duration": 17,
    "start_time": "2024-12-12T14:37:35.929Z"
   },
   {
    "duration": 18,
    "start_time": "2024-12-12T14:37:55.465Z"
   },
   {
    "duration": 20,
    "start_time": "2024-12-12T14:38:05.291Z"
   },
   {
    "duration": 854,
    "start_time": "2024-12-12T14:40:21.107Z"
   },
   {
    "duration": 248,
    "start_time": "2024-12-12T14:41:31.976Z"
   },
   {
    "duration": 222,
    "start_time": "2024-12-12T14:41:53.895Z"
   },
   {
    "duration": 255,
    "start_time": "2024-12-12T14:42:23.051Z"
   },
   {
    "duration": 24,
    "start_time": "2024-12-12T14:50:43.653Z"
   },
   {
    "duration": 6,
    "start_time": "2024-12-12T14:50:58.147Z"
   },
   {
    "duration": 437,
    "start_time": "2024-12-13T09:55:35.996Z"
   },
   {
    "duration": 4381,
    "start_time": "2024-12-13T09:55:36.435Z"
   },
   {
    "duration": 67,
    "start_time": "2024-12-13T09:55:40.818Z"
   },
   {
    "duration": 290,
    "start_time": "2024-12-13T09:55:40.887Z"
   },
   {
    "duration": 23,
    "start_time": "2024-12-13T09:55:41.179Z"
   },
   {
    "duration": 30,
    "start_time": "2024-12-13T09:55:41.203Z"
   },
   {
    "duration": 31,
    "start_time": "2024-12-13T09:55:41.234Z"
   },
   {
    "duration": 31,
    "start_time": "2024-12-13T09:55:41.266Z"
   },
   {
    "duration": 19,
    "start_time": "2024-12-13T09:55:41.299Z"
   },
   {
    "duration": 38,
    "start_time": "2024-12-13T09:55:41.321Z"
   },
   {
    "duration": 5,
    "start_time": "2024-12-13T09:55:41.361Z"
   },
   {
    "duration": 95,
    "start_time": "2024-12-13T09:55:41.368Z"
   },
   {
    "duration": 10,
    "start_time": "2024-12-13T09:55:41.465Z"
   },
   {
    "duration": 27,
    "start_time": "2024-12-13T09:55:41.476Z"
   },
   {
    "duration": 9,
    "start_time": "2024-12-13T09:55:41.505Z"
   },
   {
    "duration": 22,
    "start_time": "2024-12-13T09:55:41.516Z"
   },
   {
    "duration": 18,
    "start_time": "2024-12-13T09:55:41.540Z"
   },
   {
    "duration": 78,
    "start_time": "2024-12-13T09:55:41.560Z"
   },
   {
    "duration": 77,
    "start_time": "2024-12-13T09:55:41.639Z"
   },
   {
    "duration": 245,
    "start_time": "2024-12-13T09:55:41.718Z"
   },
   {
    "duration": 20,
    "start_time": "2024-12-13T09:55:41.966Z"
   },
   {
    "duration": 25,
    "start_time": "2024-12-13T09:55:41.988Z"
   },
   {
    "duration": 14,
    "start_time": "2024-12-13T09:55:42.015Z"
   },
   {
    "duration": 23,
    "start_time": "2024-12-13T09:55:42.032Z"
   },
   {
    "duration": 21,
    "start_time": "2024-12-13T09:55:42.057Z"
   },
   {
    "duration": 11,
    "start_time": "2024-12-13T09:55:42.079Z"
   },
   {
    "duration": 40,
    "start_time": "2024-12-13T09:55:42.092Z"
   },
   {
    "duration": 14,
    "start_time": "2024-12-13T09:55:42.135Z"
   },
   {
    "duration": 6,
    "start_time": "2024-12-13T09:55:42.150Z"
   },
   {
    "duration": 230,
    "start_time": "2024-12-13T09:55:42.158Z"
   },
   {
    "duration": 103,
    "start_time": "2024-12-13T09:55:42.390Z"
   },
   {
    "duration": 361,
    "start_time": "2024-12-13T09:55:42.495Z"
   },
   {
    "duration": 4,
    "start_time": "2024-12-13T09:55:42.857Z"
   },
   {
    "duration": 27,
    "start_time": "2024-12-13T09:55:42.862Z"
   },
   {
    "duration": 29,
    "start_time": "2024-12-13T09:55:42.891Z"
   },
   {
    "duration": 18,
    "start_time": "2024-12-13T09:55:42.921Z"
   },
   {
    "duration": 294,
    "start_time": "2024-12-13T09:55:42.941Z"
   },
   {
    "duration": 11,
    "start_time": "2024-12-13T09:55:43.236Z"
   },
   {
    "duration": 70,
    "start_time": "2024-12-13T09:55:43.248Z"
   },
   {
    "duration": 21,
    "start_time": "2024-12-13T09:55:43.319Z"
   },
   {
    "duration": 7,
    "start_time": "2024-12-13T09:55:43.342Z"
   },
   {
    "duration": 105,
    "start_time": "2024-12-13T09:55:43.351Z"
   },
   {
    "duration": 24,
    "start_time": "2024-12-13T09:55:43.458Z"
   },
   {
    "duration": 270,
    "start_time": "2024-12-13T09:55:43.483Z"
   },
   {
    "duration": 18,
    "start_time": "2024-12-13T09:55:43.755Z"
   },
   {
    "duration": 282,
    "start_time": "2024-12-13T09:55:43.775Z"
   },
   {
    "duration": 5,
    "start_time": "2024-12-13T09:57:01.789Z"
   },
   {
    "duration": 4,
    "start_time": "2024-12-13T09:57:11.464Z"
   },
   {
    "duration": 4,
    "start_time": "2024-12-13T09:57:21.791Z"
   },
   {
    "duration": 6,
    "start_time": "2024-12-13T09:57:40.717Z"
   },
   {
    "duration": 7,
    "start_time": "2024-12-13T09:58:06.986Z"
   },
   {
    "duration": 1169,
    "start_time": "2024-12-13T09:58:20.400Z"
   },
   {
    "duration": 1016,
    "start_time": "2024-12-13T09:58:29.970Z"
   },
   {
    "duration": 11,
    "start_time": "2024-12-13T09:58:59.316Z"
   },
   {
    "duration": 10,
    "start_time": "2024-12-13T09:59:03.395Z"
   },
   {
    "duration": 9,
    "start_time": "2024-12-13T10:00:12.899Z"
   },
   {
    "duration": 49,
    "start_time": "2024-12-13T10:01:59.230Z"
   },
   {
    "duration": 435,
    "start_time": "2024-12-13T10:01:59.515Z"
   },
   {
    "duration": 3273,
    "start_time": "2024-12-13T10:01:59.952Z"
   },
   {
    "duration": 55,
    "start_time": "2024-12-13T10:02:03.227Z"
   },
   {
    "duration": 238,
    "start_time": "2024-12-13T10:02:03.285Z"
   },
   {
    "duration": 28,
    "start_time": "2024-12-13T10:02:03.524Z"
   },
   {
    "duration": 30,
    "start_time": "2024-12-13T10:02:03.553Z"
   },
   {
    "duration": 27,
    "start_time": "2024-12-13T10:02:03.585Z"
   },
   {
    "duration": 20,
    "start_time": "2024-12-13T10:02:03.614Z"
   },
   {
    "duration": 29,
    "start_time": "2024-12-13T10:02:03.636Z"
   },
   {
    "duration": 44,
    "start_time": "2024-12-13T10:02:03.668Z"
   },
   {
    "duration": 113,
    "start_time": "2024-12-13T10:02:03.715Z"
   },
   {
    "duration": 50,
    "start_time": "2024-12-13T10:02:03.830Z"
   },
   {
    "duration": 10,
    "start_time": "2024-12-13T10:02:03.882Z"
   },
   {
    "duration": 52,
    "start_time": "2024-12-13T10:02:03.894Z"
   },
   {
    "duration": 86,
    "start_time": "2024-12-13T10:02:03.948Z"
   },
   {
    "duration": 15,
    "start_time": "2024-12-13T10:02:04.036Z"
   },
   {
    "duration": 24,
    "start_time": "2024-12-13T10:02:04.053Z"
   },
   {
    "duration": 88,
    "start_time": "2024-12-13T10:02:04.079Z"
   },
   {
    "duration": 89,
    "start_time": "2024-12-13T10:02:04.168Z"
   },
   {
    "duration": 125,
    "start_time": "2024-12-13T10:02:04.259Z"
   },
   {
    "duration": 16,
    "start_time": "2024-12-13T10:02:04.386Z"
   },
   {
    "duration": 34,
    "start_time": "2024-12-13T10:02:04.404Z"
   },
   {
    "duration": 8,
    "start_time": "2024-12-13T10:02:04.440Z"
   },
   {
    "duration": 18,
    "start_time": "2024-12-13T10:02:04.450Z"
   },
   {
    "duration": 18,
    "start_time": "2024-12-13T10:02:04.469Z"
   },
   {
    "duration": 60,
    "start_time": "2024-12-13T10:02:04.488Z"
   },
   {
    "duration": 85,
    "start_time": "2024-12-13T10:02:04.550Z"
   },
   {
    "duration": 9,
    "start_time": "2024-12-13T10:02:04.638Z"
   },
   {
    "duration": 6,
    "start_time": "2024-12-13T10:02:04.648Z"
   },
   {
    "duration": 235,
    "start_time": "2024-12-13T10:02:04.655Z"
   },
   {
    "duration": 109,
    "start_time": "2024-12-13T10:02:04.891Z"
   },
   {
    "duration": 366,
    "start_time": "2024-12-13T10:02:05.002Z"
   },
   {
    "duration": 4,
    "start_time": "2024-12-13T10:02:05.370Z"
   },
   {
    "duration": 120,
    "start_time": "2024-12-13T10:02:05.376Z"
   },
   {
    "duration": 19,
    "start_time": "2024-12-13T10:02:05.498Z"
   },
   {
    "duration": 51,
    "start_time": "2024-12-13T10:02:05.519Z"
   },
   {
    "duration": 316,
    "start_time": "2024-12-13T10:02:05.572Z"
   },
   {
    "duration": 12,
    "start_time": "2024-12-13T10:02:05.890Z"
   },
   {
    "duration": 86,
    "start_time": "2024-12-13T10:02:05.904Z"
   },
   {
    "duration": 57,
    "start_time": "2024-12-13T10:02:05.992Z"
   },
   {
    "duration": 40,
    "start_time": "2024-12-13T10:02:06.052Z"
   },
   {
    "duration": 34,
    "start_time": "2024-12-13T10:02:06.093Z"
   },
   {
    "duration": 69,
    "start_time": "2024-12-13T10:02:06.128Z"
   },
   {
    "duration": 276,
    "start_time": "2024-12-13T10:02:06.199Z"
   },
   {
    "duration": 19,
    "start_time": "2024-12-13T10:02:06.476Z"
   },
   {
    "duration": 380,
    "start_time": "2024-12-13T10:02:06.497Z"
   },
   {
    "duration": 4,
    "start_time": "2024-12-13T10:02:06.879Z"
   },
   {
    "duration": 26,
    "start_time": "2024-12-13T10:02:06.885Z"
   },
   {
    "duration": 70,
    "start_time": "2024-12-13T10:03:01.732Z"
   },
   {
    "duration": 85,
    "start_time": "2024-12-13T10:03:19.174Z"
   },
   {
    "duration": 3,
    "start_time": "2024-12-13T10:03:42.883Z"
   },
   {
    "duration": 15,
    "start_time": "2024-12-13T10:04:00.586Z"
   },
   {
    "duration": 25,
    "start_time": "2024-12-13T10:04:16.254Z"
   },
   {
    "duration": 6,
    "start_time": "2024-12-13T10:05:49.657Z"
   },
   {
    "duration": 5,
    "start_time": "2024-12-13T10:06:35.165Z"
   },
   {
    "duration": 4,
    "start_time": "2024-12-13T10:07:34.388Z"
   },
   {
    "duration": 7,
    "start_time": "2024-12-13T10:07:51.596Z"
   },
   {
    "duration": 6,
    "start_time": "2024-12-13T10:08:01.244Z"
   },
   {
    "duration": 26,
    "start_time": "2024-12-13T10:09:24.352Z"
   },
   {
    "duration": 11,
    "start_time": "2024-12-13T10:14:24.289Z"
   },
   {
    "duration": 52,
    "start_time": "2024-12-13T10:21:51.772Z"
   },
   {
    "duration": 8,
    "start_time": "2024-12-13T10:22:01.644Z"
   },
   {
    "duration": 381,
    "start_time": "2024-12-13T10:22:22.385Z"
   },
   {
    "duration": 4802,
    "start_time": "2024-12-13T10:22:22.768Z"
   },
   {
    "duration": 74,
    "start_time": "2024-12-13T10:22:27.572Z"
   },
   {
    "duration": 297,
    "start_time": "2024-12-13T10:22:27.648Z"
   },
   {
    "duration": 23,
    "start_time": "2024-12-13T10:22:27.948Z"
   },
   {
    "duration": 21,
    "start_time": "2024-12-13T10:22:27.973Z"
   },
   {
    "duration": 7,
    "start_time": "2024-12-13T10:22:27.996Z"
   },
   {
    "duration": 45,
    "start_time": "2024-12-13T10:22:28.004Z"
   },
   {
    "duration": 22,
    "start_time": "2024-12-13T10:22:28.051Z"
   },
   {
    "duration": 59,
    "start_time": "2024-12-13T10:22:28.075Z"
   },
   {
    "duration": 8,
    "start_time": "2024-12-13T10:22:28.136Z"
   },
   {
    "duration": 31,
    "start_time": "2024-12-13T10:22:28.146Z"
   },
   {
    "duration": 10,
    "start_time": "2024-12-13T10:22:28.178Z"
   },
   {
    "duration": 51,
    "start_time": "2024-12-13T10:22:28.192Z"
   },
   {
    "duration": 11,
    "start_time": "2024-12-13T10:22:28.245Z"
   },
   {
    "duration": 14,
    "start_time": "2024-12-13T10:22:28.257Z"
   },
   {
    "duration": 21,
    "start_time": "2024-12-13T10:22:28.273Z"
   },
   {
    "duration": 99,
    "start_time": "2024-12-13T10:22:28.296Z"
   },
   {
    "duration": 89,
    "start_time": "2024-12-13T10:22:28.398Z"
   },
   {
    "duration": 228,
    "start_time": "2024-12-13T10:22:28.489Z"
   },
   {
    "duration": 23,
    "start_time": "2024-12-13T10:22:28.719Z"
   },
   {
    "duration": 11,
    "start_time": "2024-12-13T10:22:28.744Z"
   },
   {
    "duration": 10,
    "start_time": "2024-12-13T10:22:28.757Z"
   },
   {
    "duration": 42,
    "start_time": "2024-12-13T10:22:28.769Z"
   },
   {
    "duration": 29,
    "start_time": "2024-12-13T10:22:28.813Z"
   },
   {
    "duration": 13,
    "start_time": "2024-12-13T10:22:28.843Z"
   },
   {
    "duration": 44,
    "start_time": "2024-12-13T10:22:28.858Z"
   },
   {
    "duration": 9,
    "start_time": "2024-12-13T10:22:28.903Z"
   },
   {
    "duration": 6,
    "start_time": "2024-12-13T10:22:28.914Z"
   },
   {
    "duration": 246,
    "start_time": "2024-12-13T10:22:28.922Z"
   },
   {
    "duration": 108,
    "start_time": "2024-12-13T10:22:29.169Z"
   },
   {
    "duration": 381,
    "start_time": "2024-12-13T10:22:29.278Z"
   },
   {
    "duration": 5,
    "start_time": "2024-12-13T10:22:29.660Z"
   },
   {
    "duration": 31,
    "start_time": "2024-12-13T10:22:29.666Z"
   },
   {
    "duration": 9,
    "start_time": "2024-12-13T10:22:29.699Z"
   },
   {
    "duration": 16,
    "start_time": "2024-12-13T10:22:29.710Z"
   },
   {
    "duration": 346,
    "start_time": "2024-12-13T10:22:29.728Z"
   },
   {
    "duration": 13,
    "start_time": "2024-12-13T10:22:30.076Z"
   },
   {
    "duration": 61,
    "start_time": "2024-12-13T10:22:30.090Z"
   },
   {
    "duration": 59,
    "start_time": "2024-12-13T10:22:30.153Z"
   },
   {
    "duration": 58,
    "start_time": "2024-12-13T10:22:30.216Z"
   },
   {
    "duration": 98,
    "start_time": "2024-12-13T10:22:30.276Z"
   },
   {
    "duration": 67,
    "start_time": "2024-12-13T10:22:30.376Z"
   },
   {
    "duration": 257,
    "start_time": "2024-12-13T10:22:30.445Z"
   },
   {
    "duration": 20,
    "start_time": "2024-12-13T10:22:30.738Z"
   },
   {
    "duration": 304,
    "start_time": "2024-12-13T10:22:30.760Z"
   },
   {
    "duration": 7,
    "start_time": "2024-12-13T10:22:31.066Z"
   },
   {
    "duration": 31,
    "start_time": "2024-12-13T10:22:31.074Z"
   },
   {
    "duration": 165,
    "start_time": "2024-12-13T10:22:31.107Z"
   },
   {
    "duration": 19,
    "start_time": "2024-12-13T10:23:13.400Z"
   },
   {
    "duration": 91,
    "start_time": "2024-12-13T10:26:05.806Z"
   },
   {
    "duration": 93,
    "start_time": "2024-12-13T10:26:12.892Z"
   },
   {
    "duration": 85,
    "start_time": "2024-12-13T10:26:27.390Z"
   },
   {
    "duration": 53,
    "start_time": "2024-12-13T10:26:54.743Z"
   },
   {
    "duration": 76,
    "start_time": "2024-12-13T10:28:36.214Z"
   },
   {
    "duration": 42,
    "start_time": "2024-12-13T10:28:51.758Z"
   },
   {
    "duration": 42,
    "start_time": "2024-12-13T10:29:01.448Z"
   },
   {
    "duration": 18,
    "start_time": "2024-12-13T10:30:22.200Z"
   },
   {
    "duration": 19,
    "start_time": "2024-12-13T10:33:40.667Z"
   },
   {
    "duration": 25,
    "start_time": "2024-12-13T10:33:50.516Z"
   },
   {
    "duration": 20,
    "start_time": "2024-12-13T10:34:02.800Z"
   },
   {
    "duration": 33,
    "start_time": "2024-12-13T10:38:55.656Z"
   },
   {
    "duration": 238,
    "start_time": "2024-12-13T10:40:52.795Z"
   },
   {
    "duration": 305,
    "start_time": "2024-12-13T10:43:14.848Z"
   },
   {
    "duration": 162,
    "start_time": "2024-12-13T10:48:09.518Z"
   },
   {
    "duration": 0,
    "start_time": "2024-12-13T10:48:09.682Z"
   },
   {
    "duration": 11,
    "start_time": "2024-12-13T10:48:17.600Z"
   },
   {
    "duration": 4,
    "start_time": "2024-12-13T10:48:38.379Z"
   },
   {
    "duration": 478,
    "start_time": "2024-12-13T10:48:39.181Z"
   },
   {
    "duration": 2,
    "start_time": "2024-12-13T10:50:34.762Z"
   },
   {
    "duration": 5,
    "start_time": "2024-12-13T10:51:38.373Z"
   },
   {
    "duration": 100,
    "start_time": "2024-12-13T10:51:38.380Z"
   },
   {
    "duration": 3,
    "start_time": "2024-12-13T10:52:01.853Z"
   },
   {
    "duration": 374,
    "start_time": "2024-12-13T10:52:43.284Z"
   },
   {
    "duration": 3410,
    "start_time": "2024-12-13T10:52:43.660Z"
   },
   {
    "duration": 57,
    "start_time": "2024-12-13T10:52:47.072Z"
   },
   {
    "duration": 198,
    "start_time": "2024-12-13T10:52:47.132Z"
   },
   {
    "duration": 23,
    "start_time": "2024-12-13T10:52:47.332Z"
   },
   {
    "duration": 22,
    "start_time": "2024-12-13T10:52:47.357Z"
   },
   {
    "duration": 5,
    "start_time": "2024-12-13T10:52:47.382Z"
   },
   {
    "duration": 48,
    "start_time": "2024-12-13T10:52:47.389Z"
   },
   {
    "duration": 21,
    "start_time": "2024-12-13T10:52:47.439Z"
   },
   {
    "duration": 52,
    "start_time": "2024-12-13T10:52:47.463Z"
   },
   {
    "duration": 14,
    "start_time": "2024-12-13T10:52:47.517Z"
   },
   {
    "duration": 32,
    "start_time": "2024-12-13T10:52:47.533Z"
   },
   {
    "duration": 10,
    "start_time": "2024-12-13T10:52:47.567Z"
   },
   {
    "duration": 19,
    "start_time": "2024-12-13T10:52:47.579Z"
   },
   {
    "duration": 40,
    "start_time": "2024-12-13T10:52:47.600Z"
   },
   {
    "duration": 24,
    "start_time": "2024-12-13T10:52:47.642Z"
   },
   {
    "duration": 21,
    "start_time": "2024-12-13T10:52:47.668Z"
   },
   {
    "duration": 81,
    "start_time": "2024-12-13T10:52:47.690Z"
   },
   {
    "duration": 80,
    "start_time": "2024-12-13T10:52:47.773Z"
   },
   {
    "duration": 123,
    "start_time": "2024-12-13T10:52:47.854Z"
   },
   {
    "duration": 16,
    "start_time": "2024-12-13T10:52:47.979Z"
   },
   {
    "duration": 9,
    "start_time": "2024-12-13T10:52:47.997Z"
   },
   {
    "duration": 6,
    "start_time": "2024-12-13T10:52:48.008Z"
   },
   {
    "duration": 19,
    "start_time": "2024-12-13T10:52:48.031Z"
   },
   {
    "duration": 22,
    "start_time": "2024-12-13T10:52:48.053Z"
   },
   {
    "duration": 13,
    "start_time": "2024-12-13T10:52:48.077Z"
   },
   {
    "duration": 45,
    "start_time": "2024-12-13T10:52:48.092Z"
   },
   {
    "duration": 22,
    "start_time": "2024-12-13T10:52:48.142Z"
   },
   {
    "duration": 16,
    "start_time": "2024-12-13T10:52:48.166Z"
   },
   {
    "duration": 244,
    "start_time": "2024-12-13T10:52:48.184Z"
   },
   {
    "duration": 103,
    "start_time": "2024-12-13T10:52:48.431Z"
   },
   {
    "duration": 324,
    "start_time": "2024-12-13T10:52:48.536Z"
   },
   {
    "duration": 5,
    "start_time": "2024-12-13T10:52:48.862Z"
   },
   {
    "duration": 13,
    "start_time": "2024-12-13T10:52:48.869Z"
   },
   {
    "duration": 33,
    "start_time": "2024-12-13T10:52:48.884Z"
   },
   {
    "duration": 16,
    "start_time": "2024-12-13T10:52:48.918Z"
   },
   {
    "duration": 316,
    "start_time": "2024-12-13T10:52:48.936Z"
   },
   {
    "duration": 12,
    "start_time": "2024-12-13T10:52:49.254Z"
   },
   {
    "duration": 14,
    "start_time": "2024-12-13T10:52:49.268Z"
   },
   {
    "duration": 23,
    "start_time": "2024-12-13T10:52:49.284Z"
   },
   {
    "duration": 23,
    "start_time": "2024-12-13T10:52:49.309Z"
   },
   {
    "duration": 18,
    "start_time": "2024-12-13T10:52:49.334Z"
   },
   {
    "duration": 35,
    "start_time": "2024-12-13T10:52:49.353Z"
   },
   {
    "duration": 275,
    "start_time": "2024-12-13T10:52:49.389Z"
   },
   {
    "duration": 20,
    "start_time": "2024-12-13T10:52:49.666Z"
   },
   {
    "duration": 278,
    "start_time": "2024-12-13T10:52:49.688Z"
   },
   {
    "duration": 7,
    "start_time": "2024-12-13T10:52:49.968Z"
   },
   {
    "duration": 15,
    "start_time": "2024-12-13T10:52:49.978Z"
   },
   {
    "duration": 36,
    "start_time": "2024-12-13T10:52:49.995Z"
   },
   {
    "duration": 22,
    "start_time": "2024-12-13T10:52:50.032Z"
   },
   {
    "duration": 426,
    "start_time": "2024-12-13T10:52:50.056Z"
   },
   {
    "duration": 3,
    "start_time": "2024-12-13T10:55:07.841Z"
   },
   {
    "duration": 111,
    "start_time": "2024-12-13T10:55:08.655Z"
   },
   {
    "duration": 11,
    "start_time": "2024-12-13T10:55:22.225Z"
   },
   {
    "duration": 1579,
    "start_time": "2024-12-13T10:58:19.794Z"
   },
   {
    "duration": 1363,
    "start_time": "2024-12-13T10:59:15.071Z"
   },
   {
    "duration": 941,
    "start_time": "2024-12-13T11:00:13.032Z"
   },
   {
    "duration": 693,
    "start_time": "2024-12-13T11:01:35.183Z"
   },
   {
    "duration": 708,
    "start_time": "2024-12-13T11:03:36.130Z"
   }
  ],
  "colab": {
   "provenance": [],
   "toc_visible": true
  },
  "kernelspec": {
   "display_name": "Python 3 (ipykernel)",
   "language": "python",
   "name": "python3"
  },
  "language_info": {
   "codemirror_mode": {
    "name": "ipython",
    "version": 3
   },
   "file_extension": ".py",
   "mimetype": "text/x-python",
   "name": "python",
   "nbconvert_exporter": "python",
   "pygments_lexer": "ipython3",
   "version": "3.9.5"
  },
  "toc": {
   "base_numbering": 1,
   "nav_menu": {},
   "number_sections": true,
   "sideBar": true,
   "skip_h1_title": true,
   "title_cell": "Table of Contents",
   "title_sidebar": "Contents",
   "toc_cell": false,
   "toc_position": {
    "height": "calc(100% - 180px)",
    "left": "10px",
    "top": "150px",
    "width": "484px"
   },
   "toc_section_display": true,
   "toc_window_display": true
  }
 },
 "nbformat": 4,
 "nbformat_minor": 1
}
