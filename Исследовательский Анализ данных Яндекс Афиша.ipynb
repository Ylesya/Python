{
 "cells": [
  {
   "cell_type": "markdown",
   "metadata": {
    "id": "LMuaGIE3lGcr"
   },
   "source": [
    "# Исследовательский анализ данных бронирования билетов на сервисе Яндекс Афиша с целью выявления инсайтов об изменении пользовательских предпочтений и популярности событий в осенний период 2024 года.\n",
    "\n",
    "- Автор:Мусабаева Алеся Талгатовна\n",
    "- Дата: 26.03.2025"
   ]
  },
  {
   "cell_type": "markdown",
   "metadata": {},
   "source": [
    "Цель проекта: Целью данного проекта является проведение исследовательского анализа данных о заказах билетов на платформе Яндекс Афиша с целью выявления тенденций и изменений в поведении пользователей в осенний период 2024 года. Основные задачи проекта:\n",
    "\n",
    "1. Загрузка данных и знакомство с ними \n",
    "2. Предобработка данных \n",
    "3. Исследовательский анализ данных \n",
    "4. Статистический анализ данных \n",
    "5. Общий вывод и рекомендации"
   ]
  },
  {
   "cell_type": "markdown",
   "metadata": {},
   "source": [
    "Описание данных\n",
    "\n",
    "Первый датасет `final_tickets_orders_df.csv` включает информацию обо всех заказах билетов, совершённых с двух типов устройств — мобильных и стационарных. Поля датасета соответствуют таблице purchases, с которой вы работали в предыдущих заданиях:\n",
    "- `order_id` — уникальный идентификатор заказа.\n",
    "- `user_id` — уникальный идентификатор пользователя.\n",
    "- `created_dt_msk` — дата создания заказа (московское время).\n",
    "- `created_ts_msk — дата и время создания заказа (московское время).\n",
    "- `event_id` — идентификатор мероприятия из таблицы events.\n",
    "- `cinema_circuit` — сеть кинотеатров. Если не применимо, то здесь будет значение 'нет'.\n",
    "- `age_limit` — возрастное ограничение мероприятия.\n",
    "- `currency_code` — валюта оплаты, например rub для российских рублей.\n",
    "- `device_type_canonical` — тип устройства, с которого был оформлен заказ, например mobile для мобильных устройств, desktop для стационарных.\n",
    "- `revenue — выручка от заказа.\n",
    "- `service_name` — название билетного оператора.\n",
    "- `tickets_count` — количество купленных билетов.\n",
    "- `total` — общая сумма заказа.\n",
    "В данные также был добавлен столбец `days_since_prev` с количеством дней с предыдущей покупки для каждого пользователя. Если покупки не было, то данные содержат пропуск.\n",
    "\n",
    "Второй датасет `final_tickets_events_df` содержит информацию о событиях, включая город и регион события, а также информацию о площадке проведения мероприятия. Обратите внимание, что из данных исключили фильмы, ведь, как было видно на дашборде, событий такого типа не так много. Датасет содержит такие поля:\n",
    "- `event_id` — уникальный идентификатор мероприятия.\n",
    "- `event_name` — название мероприятия. Аналог поля event_name_code из исходной базы данных.\n",
    "- `event_type_description` — описание типа мероприятия.\n",
    "- `event_type_main` — основной тип мероприятия: театральная постановка, концерт и так далее.\n",
    "- `organizers` — организаторы мероприятия.\n",
    "- `region_name` — название региона.\n",
    "- `city_name` — название города.\n",
    "- `venue_id` — уникальный идентификатор площадки.\n",
    "- `venue_name` — название площадки.\n",
    "- `venue_address` — адрес площадки.\n",
    "\n",
    "Третий датасет `final_tickets_tenge_df.csv` с информацией о курсе тенге к российскому рублю за 2024 год. Значения в рублях представлено для 100 тенге. Датасет содержит такие поля:\n",
    "- `nominal` — номинал (100 тенге).\n",
    "- `data` — дата.\n",
    "- `curs` — курс тенге к рублю.\n",
    "- `cdx` — обозначение валюты (kzt).\n"
   ]
  },
  {
   "cell_type": "markdown",
   "metadata": {},
   "source": [
    "## Загрузка данных и знакомство с ними\n",
    "\n",
    "<font color='#777778'>\n",
    "\n",
    "</font>"
   ]
  },
  {
   "cell_type": "code",
   "execution_count": 1,
   "metadata": {},
   "outputs": [],
   "source": [
    "#Загружаем библиотеки\n",
    "import pandas as pd\n",
    "import seaborn as sns\n",
    "import matplotlib.pyplot as plt\n",
    "import numpy as np\n",
    "import scipy.stats as stats\n",
    "# Проведение U-теста (Mann-Whitney U-test)\n",
    "from scipy.stats import mannwhitneyu"
   ]
  },
  {
   "cell_type": "code",
   "execution_count": 2,
   "metadata": {},
   "outputs": [],
   "source": [
    "# Extract connection parameters\n",
    "dbname = 'data-analyst-afisha'\n",
    "user = 'praktikum_student'\n",
    "password = 'Sdf4$2;d-d30pp'\n",
    "host = 'rc1b-wcoijxj3yxfsf3fs.mdb.yandexcloud.net'\n",
    "port = 6432\n",
    "\n",
    "from sqlalchemy import create_engine\n",
    "\n",
    "# Establish the connection\n",
    "connection_string = f\"postgresql+psycopg2://{user}:{password}@{host}:{port}/{dbname}\"\n",
    "\n",
    "# Create the SQLAlchemy engine\n",
    "engine = create_engine(connection_string)\n",
    "\n",
    "# Use pandas to read the purchase data\n",
    "query_p= \"\"\"\n",
    "SELECT *,\n",
    "       created_dt_msk::date - LAG(created_dt_msk) OVER(PARTITION BY user_id ORDER BY created_dt_msk)::date AS days_since_prev\n",
    "FROM afisha.purchases\n",
    "WHERE -- Фильтруем тип устройства\n",
    " device_type_canonical IN ('mobile',\n",
    "                           'desktop'); \n",
    "\"\"\"\n",
    "df_purchases = pd.read_sql_query(query_p, engine)\n"
   ]
  },
  {
   "cell_type": "code",
   "execution_count": 3,
   "metadata": {
    "scrolled": false
   },
   "outputs": [
    {
     "name": "stdout",
     "output_type": "stream",
     "text": [
      "<class 'pandas.core.frame.DataFrame'>\n",
      "RangeIndex: 290849 entries, 0 to 290848\n",
      "Data columns (total 14 columns):\n",
      " #   Column                 Non-Null Count   Dtype         \n",
      "---  ------                 --------------   -----         \n",
      " 0   order_id               290849 non-null  int64         \n",
      " 1   user_id                290849 non-null  object        \n",
      " 2   created_dt_msk         290849 non-null  datetime64[ns]\n",
      " 3   created_ts_msk         290849 non-null  datetime64[ns]\n",
      " 4   event_id               290849 non-null  int64         \n",
      " 5   cinema_circuit         290849 non-null  object        \n",
      " 6   age_limit              290849 non-null  int64         \n",
      " 7   currency_code          290849 non-null  object        \n",
      " 8   device_type_canonical  290849 non-null  object        \n",
      " 9   revenue                290849 non-null  float64       \n",
      " 10  service_name           290849 non-null  object        \n",
      " 11  tickets_count          290849 non-null  int64         \n",
      " 12  total                  290849 non-null  float64       \n",
      " 13  days_since_prev        268909 non-null  float64       \n",
      "dtypes: datetime64[ns](2), float64(3), int64(4), object(5)\n",
      "memory usage: 31.1+ MB\n"
     ]
    }
   ],
   "source": [
    "df_purchases.info()"
   ]
  },
  {
   "cell_type": "code",
   "execution_count": 4,
   "metadata": {
    "scrolled": true
   },
   "outputs": [
    {
     "data": {
      "text/html": [
       "<div>\n",
       "<style scoped>\n",
       "    .dataframe tbody tr th:only-of-type {\n",
       "        vertical-align: middle;\n",
       "    }\n",
       "\n",
       "    .dataframe tbody tr th {\n",
       "        vertical-align: top;\n",
       "    }\n",
       "\n",
       "    .dataframe thead th {\n",
       "        text-align: right;\n",
       "    }\n",
       "</style>\n",
       "<table border=\"1\" class=\"dataframe\">\n",
       "  <thead>\n",
       "    <tr style=\"text-align: right;\">\n",
       "      <th></th>\n",
       "      <th>order_id</th>\n",
       "      <th>user_id</th>\n",
       "      <th>created_dt_msk</th>\n",
       "      <th>created_ts_msk</th>\n",
       "      <th>event_id</th>\n",
       "      <th>cinema_circuit</th>\n",
       "      <th>age_limit</th>\n",
       "      <th>currency_code</th>\n",
       "      <th>device_type_canonical</th>\n",
       "      <th>revenue</th>\n",
       "      <th>service_name</th>\n",
       "      <th>tickets_count</th>\n",
       "      <th>total</th>\n",
       "      <th>days_since_prev</th>\n",
       "    </tr>\n",
       "  </thead>\n",
       "  <tbody>\n",
       "    <tr>\n",
       "      <th>0</th>\n",
       "      <td>4359165</td>\n",
       "      <td>0002849b70a3ce2</td>\n",
       "      <td>2024-08-20</td>\n",
       "      <td>2024-08-20 16:08:03</td>\n",
       "      <td>169230</td>\n",
       "      <td>нет</td>\n",
       "      <td>16</td>\n",
       "      <td>rub</td>\n",
       "      <td>mobile</td>\n",
       "      <td>1521.94</td>\n",
       "      <td>Край билетов</td>\n",
       "      <td>4</td>\n",
       "      <td>10870.99</td>\n",
       "      <td>NaN</td>\n",
       "    </tr>\n",
       "    <tr>\n",
       "      <th>1</th>\n",
       "      <td>7965605</td>\n",
       "      <td>0005ca5e93f2cf4</td>\n",
       "      <td>2024-07-23</td>\n",
       "      <td>2024-07-23 18:36:24</td>\n",
       "      <td>237325</td>\n",
       "      <td>нет</td>\n",
       "      <td>0</td>\n",
       "      <td>rub</td>\n",
       "      <td>mobile</td>\n",
       "      <td>289.45</td>\n",
       "      <td>Мой билет</td>\n",
       "      <td>2</td>\n",
       "      <td>2067.51</td>\n",
       "      <td>NaN</td>\n",
       "    </tr>\n",
       "    <tr>\n",
       "      <th>2</th>\n",
       "      <td>7292370</td>\n",
       "      <td>0005ca5e93f2cf4</td>\n",
       "      <td>2024-10-06</td>\n",
       "      <td>2024-10-06 13:56:02</td>\n",
       "      <td>578454</td>\n",
       "      <td>нет</td>\n",
       "      <td>0</td>\n",
       "      <td>rub</td>\n",
       "      <td>mobile</td>\n",
       "      <td>1258.57</td>\n",
       "      <td>За билетом!</td>\n",
       "      <td>4</td>\n",
       "      <td>13984.16</td>\n",
       "      <td>75.0</td>\n",
       "    </tr>\n",
       "    <tr>\n",
       "      <th>3</th>\n",
       "      <td>1139875</td>\n",
       "      <td>000898990054619</td>\n",
       "      <td>2024-07-13</td>\n",
       "      <td>2024-07-13 19:40:48</td>\n",
       "      <td>387271</td>\n",
       "      <td>нет</td>\n",
       "      <td>0</td>\n",
       "      <td>rub</td>\n",
       "      <td>mobile</td>\n",
       "      <td>8.49</td>\n",
       "      <td>Лови билет!</td>\n",
       "      <td>2</td>\n",
       "      <td>212.28</td>\n",
       "      <td>NaN</td>\n",
       "    </tr>\n",
       "    <tr>\n",
       "      <th>4</th>\n",
       "      <td>972400</td>\n",
       "      <td>000898990054619</td>\n",
       "      <td>2024-10-04</td>\n",
       "      <td>2024-10-04 22:33:15</td>\n",
       "      <td>509453</td>\n",
       "      <td>нет</td>\n",
       "      <td>18</td>\n",
       "      <td>rub</td>\n",
       "      <td>mobile</td>\n",
       "      <td>1390.41</td>\n",
       "      <td>Билеты без проблем</td>\n",
       "      <td>3</td>\n",
       "      <td>10695.43</td>\n",
       "      <td>83.0</td>\n",
       "    </tr>\n",
       "  </tbody>\n",
       "</table>\n",
       "</div>"
      ],
      "text/plain": [
       "   order_id          user_id created_dt_msk      created_ts_msk  event_id  \\\n",
       "0   4359165  0002849b70a3ce2     2024-08-20 2024-08-20 16:08:03    169230   \n",
       "1   7965605  0005ca5e93f2cf4     2024-07-23 2024-07-23 18:36:24    237325   \n",
       "2   7292370  0005ca5e93f2cf4     2024-10-06 2024-10-06 13:56:02    578454   \n",
       "3   1139875  000898990054619     2024-07-13 2024-07-13 19:40:48    387271   \n",
       "4    972400  000898990054619     2024-10-04 2024-10-04 22:33:15    509453   \n",
       "\n",
       "  cinema_circuit  age_limit currency_code device_type_canonical  revenue  \\\n",
       "0            нет         16           rub                mobile  1521.94   \n",
       "1            нет          0           rub                mobile   289.45   \n",
       "2            нет          0           rub                mobile  1258.57   \n",
       "3            нет          0           rub                mobile     8.49   \n",
       "4            нет         18           rub                mobile  1390.41   \n",
       "\n",
       "         service_name  tickets_count     total  days_since_prev  \n",
       "0        Край билетов              4  10870.99              NaN  \n",
       "1           Мой билет              2   2067.51              NaN  \n",
       "2         За билетом!              4  13984.16             75.0  \n",
       "3         Лови билет!              2    212.28              NaN  \n",
       "4  Билеты без проблем              3  10695.43             83.0  "
      ]
     },
     "execution_count": 4,
     "metadata": {},
     "output_type": "execute_result"
    }
   ],
   "source": [
    "df_purchases.head()"
   ]
  },
  {
   "cell_type": "markdown",
   "metadata": {},
   "source": [
    "*Промежуточный вывод по данным:*\n",
    "\n",
    "Объем данных:\n",
    "\n",
    "В наборе данных 290849 записей (строк) и 14 колонок. Данные достаточно объемные, их обработка может потребовать определенных вычислительных ресурсов, особенно при использовании сложных операций или алгоритмов.\n",
    "\n",
    "Типы данных:\n",
    "\n",
    "- Целочисленные данные: `order_id`, `event_id`, `age_limit`, `tickets_count` — подходят для анализа категориальных переменных или количественных значений.\n",
    "\n",
    "- Числовые данные с плавающей запятой: `revenue`, `total`, `days_since_prev` — эти колонки могут потребовать дополнительной обработки для исключения аномальных значений.\n",
    "\n",
    "- Объектные данные: `user_id`, `cinema_circuit`, `currency_code`, d`evice_type_canonical`, `service_name` — строки, которые могут быть полезны для категоризации и анализа распределения.\n",
    "\n",
    "- Дата/время: `created_dt_msk`, `created_ts_msk` — данные о времени, которые, возможно, потребуют извлечения информации о днях недели, месяцах или часах для дальнейшего анализа.\n",
    "\n",
    "Наличие пропусков:\n",
    "\n",
    "- Пропуски есть только в колонке `days_since_prev` (268909 значений против 290849, то есть 21940 значений пропущено). Это может быть связано с отсутствием предыдущих заказов для некоторых пользователей или событий. Пропуски в этой колонке потребуют обработки.\n",
    "\n",
    "Предположения для предобработки данных:\n",
    "\n",
    "- Для колонок с количественными данными (например, `revenue`, `total`) следует проверить наличие аномальных значений или выбросов, которые могут исказить результаты анализа.\n",
    "\n",
    "- Проверить данные на наличие дублированных записей.\n"
   ]
  },
  {
   "cell_type": "code",
   "execution_count": 5,
   "metadata": {},
   "outputs": [],
   "source": [
    "# Use pandas to read the purchase data\n",
    "query_e= \"\"\"\n",
    "SELECT -- Выгружаем данные таблицы events:\n",
    " e.event_id,\n",
    " e.event_name_code AS event_name,\n",
    " e.event_type_description,\n",
    " e.event_type_main,\n",
    " e.organizers, \n",
    " -- Выгружаем информацию о городе и регионе:\n",
    " r.region_name,\n",
    " c.city_name,\n",
    " c.city_id, \n",
    " -- Выгружаем информацию о площадке:\n",
    " v.venue_id,\n",
    " v.venue_name,\n",
    " v.address AS venue_address\n",
    "FROM afisha.events AS e\n",
    "LEFT JOIN afisha.venues AS v USING(venue_id)\n",
    "LEFT JOIN afisha.city AS c USING(city_id)\n",
    "LEFT JOIN afisha.regions AS r USING(region_id)\n",
    "WHERE e.event_id IN\n",
    "    (SELECT DISTINCT event_id\n",
    "     FROM afisha.purchases\n",
    "     WHERE -- Фильтруем тип устройства\n",
    " device_type_canonical IN ('mobile',\n",
    "                           'desktop'))\n",
    "  AND e.event_type_main != 'фильм';\n",
    "\"\"\"\n",
    "df_events = pd.read_sql_query(query_e, engine)"
   ]
  },
  {
   "cell_type": "code",
   "execution_count": 6,
   "metadata": {
    "scrolled": false
   },
   "outputs": [
    {
     "name": "stdout",
     "output_type": "stream",
     "text": [
      "<class 'pandas.core.frame.DataFrame'>\n",
      "RangeIndex: 22427 entries, 0 to 22426\n",
      "Data columns (total 11 columns):\n",
      " #   Column                  Non-Null Count  Dtype \n",
      "---  ------                  --------------  ----- \n",
      " 0   event_id                22427 non-null  int64 \n",
      " 1   event_name              22427 non-null  object\n",
      " 2   event_type_description  22427 non-null  object\n",
      " 3   event_type_main         22427 non-null  object\n",
      " 4   organizers              22427 non-null  object\n",
      " 5   region_name             22427 non-null  object\n",
      " 6   city_name               22427 non-null  object\n",
      " 7   city_id                 22427 non-null  int64 \n",
      " 8   venue_id                22427 non-null  int64 \n",
      " 9   venue_name              22427 non-null  object\n",
      " 10  venue_address           22427 non-null  object\n",
      "dtypes: int64(3), object(8)\n",
      "memory usage: 1.9+ MB\n"
     ]
    }
   ],
   "source": [
    "df_events.info()"
   ]
  },
  {
   "cell_type": "code",
   "execution_count": 7,
   "metadata": {},
   "outputs": [
    {
     "data": {
      "text/html": [
       "<div>\n",
       "<style scoped>\n",
       "    .dataframe tbody tr th:only-of-type {\n",
       "        vertical-align: middle;\n",
       "    }\n",
       "\n",
       "    .dataframe tbody tr th {\n",
       "        vertical-align: top;\n",
       "    }\n",
       "\n",
       "    .dataframe thead th {\n",
       "        text-align: right;\n",
       "    }\n",
       "</style>\n",
       "<table border=\"1\" class=\"dataframe\">\n",
       "  <thead>\n",
       "    <tr style=\"text-align: right;\">\n",
       "      <th></th>\n",
       "      <th>event_id</th>\n",
       "      <th>event_name</th>\n",
       "      <th>event_type_description</th>\n",
       "      <th>event_type_main</th>\n",
       "      <th>organizers</th>\n",
       "      <th>region_name</th>\n",
       "      <th>city_name</th>\n",
       "      <th>city_id</th>\n",
       "      <th>venue_id</th>\n",
       "      <th>venue_name</th>\n",
       "      <th>venue_address</th>\n",
       "    </tr>\n",
       "  </thead>\n",
       "  <tbody>\n",
       "    <tr>\n",
       "      <th>0</th>\n",
       "      <td>4436</td>\n",
       "      <td>e4f26fba-da77-4c61-928a-6c3e434d793f</td>\n",
       "      <td>спектакль</td>\n",
       "      <td>театр</td>\n",
       "      <td>№4893</td>\n",
       "      <td>Североярская область</td>\n",
       "      <td>Озёрск</td>\n",
       "      <td>2</td>\n",
       "      <td>1600</td>\n",
       "      <td>Кладбище искусств \"Проблема\" и партнеры</td>\n",
       "      <td>наб. Загородная, д. 785</td>\n",
       "    </tr>\n",
       "    <tr>\n",
       "      <th>1</th>\n",
       "      <td>5785</td>\n",
       "      <td>5cc08a60-fdea-4186-9bb2-bffc3603fb77</td>\n",
       "      <td>спектакль</td>\n",
       "      <td>театр</td>\n",
       "      <td>№1931</td>\n",
       "      <td>Светополянский округ</td>\n",
       "      <td>Глиноград</td>\n",
       "      <td>54</td>\n",
       "      <td>2196</td>\n",
       "      <td>Лекции по искусству \"Свет\" Групп</td>\n",
       "      <td>ул. Ягодная, д. 942</td>\n",
       "    </tr>\n",
       "    <tr>\n",
       "      <th>2</th>\n",
       "      <td>8817</td>\n",
       "      <td>8e379a89-3a10-4811-ba06-ec22ebebe989</td>\n",
       "      <td>спектакль</td>\n",
       "      <td>театр</td>\n",
       "      <td>№4896</td>\n",
       "      <td>Североярская область</td>\n",
       "      <td>Озёрск</td>\n",
       "      <td>2</td>\n",
       "      <td>4043</td>\n",
       "      <td>Кинокомитет \"Золотая\" Инк</td>\n",
       "      <td>ш. Коммуны, д. 92 стр. 6</td>\n",
       "    </tr>\n",
       "    <tr>\n",
       "      <th>3</th>\n",
       "      <td>8849</td>\n",
       "      <td>682e3129-6a32-4952-9d8a-ef7f60d4c247</td>\n",
       "      <td>спектакль</td>\n",
       "      <td>театр</td>\n",
       "      <td>№4960</td>\n",
       "      <td>Каменевский регион</td>\n",
       "      <td>Глиногорск</td>\n",
       "      <td>213</td>\n",
       "      <td>1987</td>\n",
       "      <td>Выставка ремесел \"Свет\" Лтд</td>\n",
       "      <td>пер. Набережный, д. 35</td>\n",
       "    </tr>\n",
       "    <tr>\n",
       "      <th>4</th>\n",
       "      <td>8850</td>\n",
       "      <td>d6e99176-c77f-4af0-9222-07c571f6c624</td>\n",
       "      <td>спектакль</td>\n",
       "      <td>театр</td>\n",
       "      <td>№4770</td>\n",
       "      <td>Лесодальний край</td>\n",
       "      <td>Родниковец</td>\n",
       "      <td>55</td>\n",
       "      <td>4230</td>\n",
       "      <td>Фестивальный проект \"Листья\" Групп</td>\n",
       "      <td>пер. Проезжий, д. 9</td>\n",
       "    </tr>\n",
       "  </tbody>\n",
       "</table>\n",
       "</div>"
      ],
      "text/plain": [
       "   event_id                            event_name event_type_description  \\\n",
       "0      4436  e4f26fba-da77-4c61-928a-6c3e434d793f              спектакль   \n",
       "1      5785  5cc08a60-fdea-4186-9bb2-bffc3603fb77              спектакль   \n",
       "2      8817  8e379a89-3a10-4811-ba06-ec22ebebe989              спектакль   \n",
       "3      8849  682e3129-6a32-4952-9d8a-ef7f60d4c247              спектакль   \n",
       "4      8850  d6e99176-c77f-4af0-9222-07c571f6c624              спектакль   \n",
       "\n",
       "  event_type_main organizers           region_name   city_name  city_id  \\\n",
       "0           театр      №4893  Североярская область      Озёрск        2   \n",
       "1           театр      №1931  Светополянский округ   Глиноград       54   \n",
       "2           театр      №4896  Североярская область      Озёрск        2   \n",
       "3           театр      №4960    Каменевский регион  Глиногорск      213   \n",
       "4           театр      №4770      Лесодальний край  Родниковец       55   \n",
       "\n",
       "   venue_id                               venue_name             venue_address  \n",
       "0      1600  Кладбище искусств \"Проблема\" и партнеры   наб. Загородная, д. 785  \n",
       "1      2196         Лекции по искусству \"Свет\" Групп       ул. Ягодная, д. 942  \n",
       "2      4043                Кинокомитет \"Золотая\" Инк  ш. Коммуны, д. 92 стр. 6  \n",
       "3      1987              Выставка ремесел \"Свет\" Лтд    пер. Набережный, д. 35  \n",
       "4      4230       Фестивальный проект \"Листья\" Групп       пер. Проезжий, д. 9  "
      ]
     },
     "execution_count": 7,
     "metadata": {},
     "output_type": "execute_result"
    }
   ],
   "source": [
    "df_events.head()"
   ]
  },
  {
   "cell_type": "markdown",
   "metadata": {},
   "source": [
    "*Промежуточный вывод по данным:*\n",
    "\n",
    "Объем данных:\n",
    "\n",
    "- В наборе данных 22,427 записей (строк) и 11 колонок. \n",
    "\n",
    "Типы данных:\n",
    "\n",
    "- Целочисленные данные: `event_id`, `city_id`, `venue_id` — данные типа int64, которые могут быть использованы для идентификации мероприятий, городов и мест.\n",
    "\n",
    "- Объектные данные: `event_name`, `event_type_description`, `event_type_main`, `organizers`, `region_name`, `city_name`, `venue_name`, `venue_address` — строки, которые описывают различные аспекты мероприятия и его места проведения.\n",
    "\n",
    "Наличие пропусков:\n",
    "\n",
    "- Все колонки содержат полные данные (Non-Null Count равен количеству записей, то есть 22,427). Это означает, что данные не содержат пропусков.\n",
    "\n",
    "Предположения для предобработки данных:\n",
    "\n",
    "- Стоит проверить колонки, такие как event_type_main, чтобы убедиться, что все категории в этих столбцах имеют смысл и не содержат ошибок ввода.\n",
    "\n",
    "- Необходимо проверить, есть ли дублированные записи, особенно для идентификаторов (`event_id`, `city_id`, `venue_id`), чтобы избежать повторяющихся мероприятий или мест.\n",
    "\n"
   ]
  },
  {
   "cell_type": "code",
   "execution_count": 8,
   "metadata": {
    "scrolled": true
   },
   "outputs": [
    {
     "name": "stdout",
     "output_type": "stream",
     "text": [
      "<class 'pandas.core.frame.DataFrame'>\n",
      "RangeIndex: 357 entries, 0 to 356\n",
      "Data columns (total 4 columns):\n",
      " #   Column   Non-Null Count  Dtype         \n",
      "---  ------   --------------  -----         \n",
      " 0   data     357 non-null    datetime64[ns]\n",
      " 1   nominal  357 non-null    int64         \n",
      " 2   curs     357 non-null    float64       \n",
      " 3   cdx      357 non-null    object        \n",
      "dtypes: datetime64[ns](1), float64(1), int64(1), object(1)\n",
      "memory usage: 11.3+ KB\n"
     ]
    }
   ],
   "source": [
    "df_tenge=pd.read_csv('https://code.s3.yandex.net/datasets/final_tickets_tenge_df.csv')\n",
    "# Преобразуем колонку 'data' в тип datetime\n",
    "df_tenge['data'] = pd.to_datetime(df_tenge['data'], errors='coerce')\n",
    "df_tenge.info()"
   ]
  },
  {
   "cell_type": "code",
   "execution_count": 9,
   "metadata": {},
   "outputs": [
    {
     "data": {
      "text/html": [
       "<div>\n",
       "<style scoped>\n",
       "    .dataframe tbody tr th:only-of-type {\n",
       "        vertical-align: middle;\n",
       "    }\n",
       "\n",
       "    .dataframe tbody tr th {\n",
       "        vertical-align: top;\n",
       "    }\n",
       "\n",
       "    .dataframe thead th {\n",
       "        text-align: right;\n",
       "    }\n",
       "</style>\n",
       "<table border=\"1\" class=\"dataframe\">\n",
       "  <thead>\n",
       "    <tr style=\"text-align: right;\">\n",
       "      <th></th>\n",
       "      <th>data</th>\n",
       "      <th>nominal</th>\n",
       "      <th>curs</th>\n",
       "      <th>cdx</th>\n",
       "    </tr>\n",
       "  </thead>\n",
       "  <tbody>\n",
       "    <tr>\n",
       "      <th>0</th>\n",
       "      <td>2024-01-10</td>\n",
       "      <td>100</td>\n",
       "      <td>19.9391</td>\n",
       "      <td>kzt</td>\n",
       "    </tr>\n",
       "    <tr>\n",
       "      <th>1</th>\n",
       "      <td>2024-01-11</td>\n",
       "      <td>100</td>\n",
       "      <td>19.7255</td>\n",
       "      <td>kzt</td>\n",
       "    </tr>\n",
       "    <tr>\n",
       "      <th>2</th>\n",
       "      <td>2024-01-12</td>\n",
       "      <td>100</td>\n",
       "      <td>19.5839</td>\n",
       "      <td>kzt</td>\n",
       "    </tr>\n",
       "    <tr>\n",
       "      <th>3</th>\n",
       "      <td>2024-01-13</td>\n",
       "      <td>100</td>\n",
       "      <td>19.4501</td>\n",
       "      <td>kzt</td>\n",
       "    </tr>\n",
       "    <tr>\n",
       "      <th>4</th>\n",
       "      <td>2024-01-14</td>\n",
       "      <td>100</td>\n",
       "      <td>19.4501</td>\n",
       "      <td>kzt</td>\n",
       "    </tr>\n",
       "  </tbody>\n",
       "</table>\n",
       "</div>"
      ],
      "text/plain": [
       "        data  nominal     curs  cdx\n",
       "0 2024-01-10      100  19.9391  kzt\n",
       "1 2024-01-11      100  19.7255  kzt\n",
       "2 2024-01-12      100  19.5839  kzt\n",
       "3 2024-01-13      100  19.4501  kzt\n",
       "4 2024-01-14      100  19.4501  kzt"
      ]
     },
     "execution_count": 9,
     "metadata": {},
     "output_type": "execute_result"
    }
   ],
   "source": [
    "df_tenge.head()"
   ]
  },
  {
   "cell_type": "markdown",
   "metadata": {},
   "source": [
    "*Промежуточный вывод по данным:*\n",
    "\n",
    "- В наборе данных 357 записей (строк) и 4 колонки. Это относительно небольшой объем данных, что указывает на ограниченный набор информации.\n",
    "- Все колонки содержат полные данные (Non-Null Count равен 357 для всех), то есть пропусков нет.\n",
    "- Преобразовать data в тип datetime, если это дата."
   ]
  },
  {
   "cell_type": "markdown",
   "metadata": {},
   "source": [
    "## Предобработка данных и подготовка их к исследованию\n",
    "\n",
    "<font color='#777778'>\n",
    "\n",
    "Рекомендация: вначале можно объединить данные в один датафрейм, а затем провести общую предобработку.\n",
    "После предобработки проверьте, сколько данных вы отобрали, если выполняли фильтрацию, а также дайте промежуточный вывод с основными действиями и описанием новых столбцов.\n",
    "</font>"
   ]
  },
  {
   "cell_type": "code",
   "execution_count": 10,
   "metadata": {
    "scrolled": true
   },
   "outputs": [],
   "source": [
    "# 1. Объединение orders_df и events_df по 'event_id'\n",
    "df = pd.merge(df_purchases, df_events, on='event_id', how='right')\n",
    "\n"
   ]
  },
  {
   "cell_type": "markdown",
   "metadata": {},
   "source": [
    "### Проверьте данные на пропуски. Проверьте, что выгрузка данных из SQL была успешной — кроме столбца days_since_prev данные не должны содержать пропусков."
   ]
  },
  {
   "cell_type": "code",
   "execution_count": 11,
   "metadata": {
    "scrolled": false
   },
   "outputs": [
    {
     "name": "stdout",
     "output_type": "stream",
     "text": [
      "<class 'pandas.core.frame.DataFrame'>\n",
      "Int64Index: 290611 entries, 0 to 290610\n",
      "Data columns (total 24 columns):\n",
      " #   Column                  Non-Null Count   Dtype         \n",
      "---  ------                  --------------   -----         \n",
      " 0   order_id                290611 non-null  int64         \n",
      " 1   user_id                 290611 non-null  object        \n",
      " 2   created_dt_msk          290611 non-null  datetime64[ns]\n",
      " 3   created_ts_msk          290611 non-null  datetime64[ns]\n",
      " 4   event_id                290611 non-null  int64         \n",
      " 5   cinema_circuit          290611 non-null  object        \n",
      " 6   age_limit               290611 non-null  int64         \n",
      " 7   currency_code           290611 non-null  object        \n",
      " 8   device_type_canonical   290611 non-null  object        \n",
      " 9   revenue                 290611 non-null  float64       \n",
      " 10  service_name            290611 non-null  object        \n",
      " 11  tickets_count           290611 non-null  int64         \n",
      " 12  total                   290611 non-null  float64       \n",
      " 13  days_since_prev         268698 non-null  float64       \n",
      " 14  event_name              290611 non-null  object        \n",
      " 15  event_type_description  290611 non-null  object        \n",
      " 16  event_type_main         290611 non-null  object        \n",
      " 17  organizers              290611 non-null  object        \n",
      " 18  region_name             290611 non-null  object        \n",
      " 19  city_name               290611 non-null  object        \n",
      " 20  city_id                 290611 non-null  int64         \n",
      " 21  venue_id                290611 non-null  int64         \n",
      " 22  venue_name              290611 non-null  object        \n",
      " 23  venue_address           290611 non-null  object        \n",
      "dtypes: datetime64[ns](2), float64(3), int64(6), object(13)\n",
      "memory usage: 55.4+ MB\n"
     ]
    }
   ],
   "source": [
    "df.info()"
   ]
  },
  {
   "cell_type": "markdown",
   "metadata": {},
   "source": [
    "*Отобрали только данные, которые находятся во всех датасетах. Остались пропуски только постолбцу `days_since_prevz`*"
   ]
  },
  {
   "cell_type": "markdown",
   "metadata": {},
   "source": [
    "### Изучите значения в ключевых столбцах и при обнаружении ошибок обработайте их.\n",
    "Для категориальных значений изучите, какие категории присутствуют в данных. Проверьте, встречаются ли значения, которые могут обозначать пропуски в данных или отсутствие информации. Проведите нормализацию данных, если это необходимо.\n",
    "\n",
    "Для количественных значений посмотрите на распределение и наличие выбросов. Для этого используйте статистические показатели, гистограммы распределения значений или диаграммы размаха. Для анализа данных важными показателями являются выручка с заказа revenue и количество билетов в заказе tickets_count, поэтому в первую очередь проверьте данные в этих столбцах. Если найдутся выбросы в выручке с заказа revenue, то отберите значения по 99-му процентилю. Не забудьте, что данные изначально были представлены в разных валютах, поэтому разделите анализ на рубли и тенге."
   ]
  },
  {
   "cell_type": "markdown",
   "metadata": {},
   "source": [
    "*Анализ категориальных значений*"
   ]
  },
  {
   "cell_type": "code",
   "execution_count": 12,
   "metadata": {
    "scrolled": false
   },
   "outputs": [
    {
     "name": "stdout",
     "output_type": "stream",
     "text": [
      "Уникальные значения в столбце cinema_circuit:\n",
      "['нет' 'Другое' 'КиноСити' 'Москино' 'Киномакс' 'ЦентрФильм']\n",
      "\n",
      "Уникальные значения в столбце age_limit:\n",
      "[16  6 12 18  0]\n",
      "\n",
      "Уникальные значения в столбце currency_code:\n",
      "['rub' 'kzt']\n",
      "\n",
      "Уникальные значения в столбце device_type_canonical:\n",
      "['mobile' 'desktop']\n",
      "\n",
      "Уникальные значения в столбце service_name:\n",
      "['Лови билет!' 'Прачечная' 'Crazy ticket!' 'Облачко' 'Билеты в руки'\n",
      " 'За билетом!' 'Билеты без проблем' 'Яблоко' 'Весь в билетах'\n",
      " 'Дом культуры' 'Край билетов' 'Городской дом культуры' 'Show_ticket'\n",
      " 'Тебе билет!' 'Вперёд!' 'Лучшие билеты' 'Мир касс' 'Выступления.ру'\n",
      " 'Быстробилет' 'Мой билет' 'Росбилет' 'Цвет и билет' 'Тех билет'\n",
      " 'Быстрый кассир' 'КарандашРУ' 'Шоу начинается!' 'Восьмёрка' 'Реестр'\n",
      " 'Телебилет' 'Зе Бест!' 'Билет по телефону' 'Лимоны' 'Радио ticket'\n",
      " 'Кино билет' 'Дырокол' 'Билеты в интернете']\n",
      "\n",
      "Уникальные значения в столбце event_type_description:\n",
      "['спектакль' 'балет' 'мюзикл' 'опера' 'концерт' 'шоу' 'ёлка'\n",
      " 'цирковое шоу' 'событие' 'фестиваль' 'спортивное мероприятие' 'выставка'\n",
      " 'спорт' 'оперетта' 'экскурсия' 'рок-мюзикл' 'музыкальный спектакль'\n",
      " 'снегурочка' 'подарок' 'кукольный спектакль']\n",
      "\n",
      "Уникальные значения в столбце event_type_main:\n",
      "['театр' 'концерты' 'ёлки' 'другое' 'стендап' 'выставки' 'спорт']\n",
      "\n",
      "Уникальные значения в столбце organizers:\n",
      "['№4893' '№1931' '№4896' ... '№4817' '№5105' '№4552']\n",
      "\n",
      "Уникальные значения в столбце region_name:\n",
      "['Североярская область' 'Светополянский округ' 'Каменевский регион'\n",
      " 'Лесодальний край' 'Медовская область' 'Широковская область'\n",
      " 'Тепляковская область' 'Травяная область' 'Зоринский регион'\n",
      " 'Серебринская область' 'Яблоневская область' 'Глиногорская область'\n",
      " 'Речиновская область' 'Озернинский край' 'Горицветская область'\n",
      " 'Солнечнореченская область' 'Травиницкий округ' 'Солнечноземская область'\n",
      " 'Ключеводский округ' 'Островная область' 'Луговая область'\n",
      " 'Каменноозёрный край' 'Лесостепной край' 'Зеленоградский округ'\n",
      " 'Поленовский край' 'Лугоградская область' 'Синегорский регион'\n",
      " 'Малиновая область' 'Речицкая область' 'Дальнеземская область'\n",
      " 'Заречная область' 'Североозёрский округ' 'Дальнезорский край'\n",
      " 'Малиновоярский округ' 'Сосновская область' 'Златопольский округ'\n",
      " 'Ягодиновская область' 'Берестовский округ' 'Золотоключевской край'\n",
      " 'Каменноярский край' 'Голубевский округ' 'Боровлянский край'\n",
      " 'Тихореченская область' 'Миропольская область' 'Радужнопольский край'\n",
      " 'Белоярская область' 'Горноземский регион' 'Горностепной регион'\n",
      " 'Верхоречная область' 'Каменичская область' 'Крутоводская область'\n",
      " 'Нежинская область' 'Верховинская область' 'Речицкий регион'\n",
      " 'Дубравная область' 'Вишнёвский край' 'Озернопольская область'\n",
      " 'Тихогорская область' 'Залесский край' 'Чистогорская область'\n",
      " 'Кристаловская область' 'Радужногорская область' 'Яснопольский округ'\n",
      " 'Серебряноярский округ' 'Североключевской округ' 'Шанырский регион'\n",
      " 'Берёзовская область' 'Крутоводский регион' 'Каменополянский округ'\n",
      " 'Ветренский регион' 'Лесоярская область' 'Тихолесский край'\n",
      " 'Островогорский округ' 'Ручейковский край' 'Лесополянская область'\n",
      " 'Светолесский край' 'Сосноводолинская область' 'Лесноярский край'\n",
      " 'Теплоозёрский округ' 'Кристальная область' 'Верхозёрский край']\n",
      "\n",
      "Уникальные значения в столбце city_name:\n",
      "['Озёрск' 'Глиноград' 'Глиногорск' 'Родниковец' 'Радужсвет' 'Радужнополье'\n",
      " 'Горнодолинск' 'Родниковск' 'Луговинск' 'Озёрчане' 'Светополье'\n",
      " 'Теплоозеро' 'Дальнесветск' 'Лесоярич' 'Островецк' 'Озёрово' 'Сосновечин'\n",
      " 'Ягодиновка' 'Родниковецк' 'Глинополье' 'Акбасты' 'Лесоводск' 'Синеводов'\n",
      " 'Ордакент' 'Крутовинск' 'Шаныртау' 'Дальнозолотск' 'Кристалевск'\n",
      " 'Вишнёво' 'Тихоярск' 'Сарыжар' 'Радужанов' 'Теплоозёрск' 'Каменевский'\n",
      " 'Островополь' 'Кенесар' 'Рощино' 'Верховино' 'Сосновогорец' 'Дальнозерск'\n",
      " 'Солчелуг' 'Дальнополин' 'Кумсай' 'Каменосветск' 'Речинцево' 'Светогория'\n",
      " 'Поленоозёрово' 'Поляногорье' 'Дальнесоснов' 'Заречиновка' 'Радужнояр'\n",
      " 'Каменский' 'Речевинец' 'Ордасай' 'Песковино' 'Медовецк' 'Акбастау'\n",
      " 'Луговаярово' 'Травяниново' 'Каражол' 'Глиногорь' 'Дальнесветин'\n",
      " 'Горнополец' 'Травогород' 'Серебрянка' 'Сосноград' 'Малиновец'\n",
      " 'Никольянов' 'Каменёвка' 'Синегориново' 'Солнечегорск' 'Горнополянск'\n",
      " 'Серебровино' 'Каменозолото' 'Светочистенск' 'Родничанск' 'Вишнёвогорск'\n",
      " 'Глинянск' 'Луговинец' 'Луговское' 'Ручейник' 'Зареченец' 'Березиноск'\n",
      " 'Каменевовск' 'Лесоярово' 'Жаркентай' 'Лугоград' 'Миролесье'\n",
      " 'Глинозолото' 'Ручейковск' 'Ясноград' 'Радужинск' 'Зелёнаярово'\n",
      " 'Медвежанск' 'Солнечнёвка' 'Чистогорье' 'Солнечеполье' 'Поляновск'\n",
      " 'Травяночистск' 'Зеленолесье' 'Островенск' 'Речепольск' 'Серебровка'\n",
      " 'Северобережье' 'Беловодск' 'Яблоневое' 'Горнополяровск' 'Тихолесьевск'\n",
      " 'Речинск' 'Ключевополье' 'Леснойск' 'Буркиттау' 'Кристалинск'\n",
      " 'Кристаловец' 'Ключевогорск' 'Шынгысай' 'Дальнолесье' 'Зеленополец'\n",
      " 'Лесозолотск' 'Поленосветск' 'Зоречанск' 'Ручейный' 'Тихолесье'\n",
      " 'Зореполин' 'Тихозорин' 'Широковка' 'Глинолес' 'Серебринск' 'Светополь'\n",
      " 'Речиноград' 'Златопольск' 'Алтынсай' 'Лесореченск' 'Кристаловка'\n",
      " 'Родинсветск' 'Желтоксан' 'Водниково' 'Златоозёрово' 'Тогусжол'\n",
      " 'Поленосвет' 'Глинополянск' 'Песчанская' 'Тихоречка' 'Нежинск'\n",
      " 'Боровлянск' 'Солнечеград' 'Крутово' 'Заречнаярово' 'Каменояр' 'Яблонецк'\n",
      " 'Мироярово' 'Озёриново' 'Заречинск' 'Травяниково' 'Кызылжол' 'Лесогорск'\n",
      " 'Каменодолин' 'Лесинск' 'Малиноворск' 'Соловьёвка' 'Кокжар' 'Речичанск'\n",
      " 'Островярово' 'Тихосветск' 'Солнечёвино' 'Ташбулак' 'Поленовичи'\n",
      " 'Каменогорье' 'Поленовино' 'Острововск' 'Горнополье' 'Светоречин'\n",
      " 'Медвежиновск' 'Речное' 'Ягодиноск' 'Горяново' 'Шынартас' 'Горноград'\n",
      " 'Травогорск' 'Белоярск' 'Теплоград' 'Поленояр' 'Горноставинск'\n",
      " 'Ясногорец' 'Медовино' 'Бережанка' 'Желтау' 'Тулебайск' 'Поленоград'\n",
      " 'Березиногорск' 'Каражар' 'Берёзодальн' 'Лесозерск' 'Северогорск'\n",
      " 'Вишнёводск' 'Крутоводск' 'Ветеринск' 'Тепляровск' 'Каменевск' 'Заречник'\n",
      " 'Коксуйск' 'Берёзогорск' 'Горнополёк' 'Кристалин' 'Зелёново' 'Тихоозёрск'\n",
      " 'Северополье' 'Гореловск' 'Бозарык' 'Зеленополье' 'Озёроярск'\n",
      " 'Солнечелесье' 'Лесочистка' 'Верхозолотск' 'Долиновка' 'Кумсары'\n",
      " 'Жетисайск' 'Поленолесье' 'Тепляковск' 'Берестовец' 'Лугиново'\n",
      " 'Яснолесье' 'Лесогорич' 'Ручейновинск' 'Ключеград' 'Синеводск'\n",
      " 'Зеленогорье' 'Байкуль' 'Бурьяново' 'Заречнинск' 'Дальнозелен' 'Ягодинск'\n",
      " 'Глинозорь' 'Островской' 'Песчанец' 'Островсков' 'Голубино' 'Зеленополин'\n",
      " 'Берёзовка' 'Ручьевино' 'Сарытау' 'Солнечеводск' 'Заречийск' 'Светозорск'\n",
      " 'Долиновск' 'Ключевинск' 'Берёзополье' 'Сереброяр' 'Островозёров'\n",
      " 'Лесогорский' 'Яблоневск' 'Айкольск' 'Светозолотск' 'Кристальевка'\n",
      " 'Полянск' 'Североград' 'Байтерековск' 'Златоречье' 'Байсары' 'Берёзиново'\n",
      " 'Радугорь' 'Ягодиноград' 'Сосновецк' 'Шалкартау' 'Яблоновец' 'Травянский'\n",
      " 'Поленовец' 'Зеленоградовск' 'Озёряновск' 'Ключеводск' 'Нуртас'\n",
      " 'Озёречин' 'Зоревичск' 'Горнолуг' 'Крутоводинск' 'Медвежник' 'Реченск'\n",
      " 'Чистояр' 'Карасуй' 'Крутовичи' 'Светоярич' 'Глинореч' 'Малиновинск'\n",
      " 'Яснополянск' 'Ясносветск' 'Светлоярск' 'Златополье' 'Златоречинск'\n",
      " 'Ясногородин' 'Березовцево' 'Радужнаярова' 'Талдысай' 'Кристолесье'\n",
      " 'Травино' 'Берёзоречье' 'Нивинск' 'Берестяград' 'Зелёнояр' 'Светочистка'\n",
      " 'Верхоозёров' 'Ясновский' 'Сосновогорск' 'Сарыбулак' 'Ручейницк'\n",
      " 'Лесополин' 'Радужовинск' 'Горицветск' 'Поляноречинск' 'Сосновинск'\n",
      " 'Акжолтау' 'Синеполинск' 'Зориново' 'Малиновецк' 'Светоярчик' 'Берёзореч'\n",
      " 'Желкаин' 'Глинополин' 'Тастай' 'Горнолесье' 'Лесодолинск' 'Каменичи'\n",
      " 'Лесоярка' 'Алтынкала' 'Зоревец' 'Лесиново' 'Заречка' 'Тихогорово'\n",
      " 'Каменогорский' 'Мироград' 'Тиходеревск' 'Малиновочист' 'Голубевск'\n",
      " 'Ключезолотск' 'Светозёринск' 'Верховка' 'Светоярово' 'Луновка'\n",
      " 'Радужновка' 'Озёроград' 'Карасуйск' 'Верхозорье' 'Бережанск'\n",
      " 'Дальнеград' 'Солнечейск' 'Реченогор' 'Ягодино' 'Синегорск' 'Ягодинец'\n",
      " 'Мирополь' 'Миросветск' 'Айсуак' 'Ягодинска']\n",
      "\n",
      "Уникальные значения в столбце venue_name:\n",
      "['Кладбище искусств \"Проблема\" и партнеры'\n",
      " 'Лекции по искусству \"Свет\" Групп' 'Кинокомитет \"Золотая\" Инк' ...\n",
      " 'Эстрадный театр \"Вытяжка\" Лимитед' 'Школа композиции \"Окно\" Лимитед'\n",
      " 'Клуб современных танцев \"Кофе\" Групп']\n",
      "\n",
      "Уникальные значения в столбце venue_address:\n",
      "['наб. Загородная, д. 785' 'ул. Ягодная, д. 942'\n",
      " 'ш. Коммуны, д. 92 стр. 6' ... 'ул. Гаражная, д. 7 к. 32'\n",
      " 'алл. Есенина, д. 5/8 к. 2' 'ш. Тупиковое, д. 49 стр. 73']\n",
      "\n"
     ]
    }
   ],
   "source": [
    "# Проверим уникальные значения для категориальных столбцов\n",
    "categorical_columns = ['cinema_circuit', 'age_limit','currency_code', 'device_type_canonical', \n",
    "                       'service_name',  'event_type_description', \n",
    "                       'event_type_main', 'organizers', 'region_name', \n",
    "                       'city_name', 'venue_name', 'venue_address']\n",
    "\n",
    "for col in categorical_columns:\n",
    "    print(f\"Уникальные значения в столбце {col}:\")\n",
    "    print(df[col].unique())\n",
    "    print()\n"
   ]
  },
  {
   "cell_type": "code",
   "execution_count": 13,
   "metadata": {},
   "outputs": [],
   "source": [
    "# Переименовываем категорию 'спорт' в 'спортивное мероприятие'\n",
    "df['event_type_description'] = df['event_type_description'].replace('спорт', 'спортивное мероприятие')"
   ]
  },
  {
   "cell_type": "markdown",
   "metadata": {},
   "source": [
    "*Анализ количественных значений*"
   ]
  },
  {
   "cell_type": "code",
   "execution_count": 14,
   "metadata": {
    "scrolled": true
   },
   "outputs": [
    {
     "data": {
      "text/html": [
       "<div>\n",
       "<style scoped>\n",
       "    .dataframe tbody tr th:only-of-type {\n",
       "        vertical-align: middle;\n",
       "    }\n",
       "\n",
       "    .dataframe tbody tr th {\n",
       "        vertical-align: top;\n",
       "    }\n",
       "\n",
       "    .dataframe thead th {\n",
       "        text-align: right;\n",
       "    }\n",
       "</style>\n",
       "<table border=\"1\" class=\"dataframe\">\n",
       "  <thead>\n",
       "    <tr style=\"text-align: right;\">\n",
       "      <th></th>\n",
       "      <th>revenue</th>\n",
       "      <th>tickets_count</th>\n",
       "    </tr>\n",
       "  </thead>\n",
       "  <tbody>\n",
       "    <tr>\n",
       "      <th>count</th>\n",
       "      <td>290611.000000</td>\n",
       "      <td>290611.000000</td>\n",
       "    </tr>\n",
       "    <tr>\n",
       "      <th>mean</th>\n",
       "      <td>625.584360</td>\n",
       "      <td>2.754311</td>\n",
       "    </tr>\n",
       "    <tr>\n",
       "      <th>std</th>\n",
       "      <td>1227.693064</td>\n",
       "      <td>1.170620</td>\n",
       "    </tr>\n",
       "    <tr>\n",
       "      <th>min</th>\n",
       "      <td>-90.760000</td>\n",
       "      <td>1.000000</td>\n",
       "    </tr>\n",
       "    <tr>\n",
       "      <th>25%</th>\n",
       "      <td>116.850000</td>\n",
       "      <td>2.000000</td>\n",
       "    </tr>\n",
       "    <tr>\n",
       "      <th>50%</th>\n",
       "      <td>356.010000</td>\n",
       "      <td>3.000000</td>\n",
       "    </tr>\n",
       "    <tr>\n",
       "      <th>75%</th>\n",
       "      <td>810.130000</td>\n",
       "      <td>4.000000</td>\n",
       "    </tr>\n",
       "    <tr>\n",
       "      <th>max</th>\n",
       "      <td>81174.540000</td>\n",
       "      <td>57.000000</td>\n",
       "    </tr>\n",
       "  </tbody>\n",
       "</table>\n",
       "</div>"
      ],
      "text/plain": [
       "             revenue  tickets_count\n",
       "count  290611.000000  290611.000000\n",
       "mean      625.584360       2.754311\n",
       "std      1227.693064       1.170620\n",
       "min       -90.760000       1.000000\n",
       "25%       116.850000       2.000000\n",
       "50%       356.010000       3.000000\n",
       "75%       810.130000       4.000000\n",
       "max     81174.540000      57.000000"
      ]
     },
     "execution_count": 14,
     "metadata": {},
     "output_type": "execute_result"
    }
   ],
   "source": [
    "df[['revenue', 'tickets_count']].describe()"
   ]
  },
  {
   "cell_type": "code",
   "execution_count": 15,
   "metadata": {
    "scrolled": true
   },
   "outputs": [
    {
     "data": {
      "image/png": "[encoded data removed]",
      "text/plain": [
       "<Figure size 864x432 with 2 Axes>"
      ]
     },
     "metadata": {
      "needs_background": "light"
     },
     "output_type": "display_data"
    }
   ],
   "source": [
    "# Создание фигуры с двумя подграфиками (1 строка, 2 столбца)\n",
    "fig, axes = plt.subplots(1, 2, figsize=(12, 6))\n",
    "\n",
    "# Построение box plot для 'tickets_count'\n",
    "sns.boxplot(x=df['tickets_count'], ax=axes[0])\n",
    "axes[0].set_title('Box Plot для Количества Билетов', fontsize=16)\n",
    "axes[0].set_xlabel('Количество билетов', fontsize=12)\n",
    "\n",
    "# Построение box plot для 'revenue'\n",
    "sns.boxplot(x=df['revenue'], ax=axes[1])\n",
    "axes[1].set_title('Box Plot для Выручки', fontsize=16)\n",
    "axes[1].set_xlabel('Выручка', fontsize=12)\n",
    "\n",
    "# Показываем график\n",
    "plt.tight_layout()  # Автоматически регулирует расстояние между графиками\n",
    "plt.show()"
   ]
  },
  {
   "cell_type": "code",
   "execution_count": 16,
   "metadata": {
    "scrolled": false
   },
   "outputs": [
    {
     "data": {
      "image/png": "[encoded data removed]",
      "text/plain": [
       "<Figure size 720x432 with 1 Axes>"
      ]
     },
     "metadata": {
      "needs_background": "light"
     },
     "output_type": "display_data"
    }
   ],
   "source": [
    "# Анализ распределения всей выручки\n",
    "plt.figure(figsize=(10, 6))\n",
    "plt.hist(df['revenue'], bins=50, edgecolor='black')\n",
    "plt.title('Распределение выручки')\n",
    "plt.xlabel('Выручка')\n",
    "plt.ylabel('Частота')\n",
    "plt.show()\n",
    "\n",
    "\n",
    "\n"
   ]
  },
  {
   "cell_type": "code",
   "execution_count": 17,
   "metadata": {
    "scrolled": false
   },
   "outputs": [
    {
     "data": {
      "image/png": "[encoded data removed]",
      "text/plain": [
       "<Figure size 864x720 with 4 Axes>"
      ]
     },
     "metadata": {
      "needs_background": "light"
     },
     "output_type": "display_data"
    },
    {
     "name": "stdout",
     "output_type": "stream",
     "text": [
      "99-й процентиль выручки (руб.): 2570.80\n"
     ]
    }
   ],
   "source": [
    "# 1. Разделяем данные на рубли и тенге\n",
    "df_rub = df[df['currency_code'] == 'rub']\n",
    "df_kzt = df[df['currency_code'] == 'kzt']\n",
    "\n",
    "# 2. Рассчитываем 99-й процентиль для рублей\n",
    "revenue_rub_percentile_99 = np.percentile(df_rub['revenue'], 99)\n",
    "\n",
    "# 3. Фильтруем выбросы только в рублях, оставляя тенге без изменений\n",
    "df = df[\n",
    "    (df['currency_code'] == 'kzt') | (df['revenue'] <= revenue_rub_percentile_99)\n",
    "]\n",
    "\n",
    "df_rub_filtered = df[df['currency_code'] == 'rub']\n",
    "df_kzt_filtered = df[df['currency_code'] == 'kzt']\n",
    "\n",
    "# 4. Строим графики распределения выручки ДО и ПОСЛЕ фильтрации\n",
    "fig, axes = plt.subplots(2, 2, figsize=(12, 10))\n",
    "\n",
    "# До фильтрации (Рубли)\n",
    "axes[0, 0].hist(df_rub['revenue'], bins=50, edgecolor='black')\n",
    "axes[0, 0].set_title('Распределение выручки (рубли) - ДО фильтрации')\n",
    "axes[0, 0].set_xlabel('Выручка (руб.)')\n",
    "axes[0, 0].set_ylabel('Частота')\n",
    "\n",
    "# До фильтрации (Тенге)\n",
    "axes[0, 1].hist(df_kzt['revenue'], bins=50, edgecolor='black')\n",
    "axes[0, 1].set_title('Распределение выручки (тенге) - ДО фильтрации')\n",
    "axes[0, 1].set_xlabel('Выручка (тенге)')\n",
    "axes[0, 1].set_ylabel('Частота')\n",
    "\n",
    "# После фильтрации (Рубли)\n",
    "axes[1, 0].hist(df_rub_filtered['revenue'], bins=50, edgecolor='black')\n",
    "axes[1, 0].set_title('Распределение выручки (рубли) - ПОСЛЕ фильтрации')\n",
    "axes[1, 0].set_xlabel('Выручка (руб.)')\n",
    "axes[1, 0].set_ylabel('Частота')\n",
    "\n",
    "# После фильтрации (Тенге) - не изменилось, но строим для наглядности\n",
    "axes[1, 1].hist(df_kzt_filtered['revenue'], bins=50, edgecolor='black')\n",
    "axes[1, 1].set_title('Распределение выручки (тенге) - ПОСЛЕ фильтрации')\n",
    "axes[1, 1].set_xlabel('Выручка (тенге)')\n",
    "axes[1, 1].set_ylabel('Частота')\n",
    "\n",
    "# Расставляем подписи и компоновку\n",
    "plt.tight_layout()\n",
    "plt.show()\n",
    "\n",
    "# Выводим статистику\n",
    "print(f\"99-й процентиль выручки (руб.): {revenue_rub_percentile_99:.2f}\")"
   ]
  },
  {
   "cell_type": "code",
   "execution_count": 18,
   "metadata": {
    "scrolled": false
   },
   "outputs": [
    {
     "data": {
      "image/png": "[encoded data removed]",
      "text/plain": [
       "<Figure size 720x432 with 1 Axes>"
      ]
     },
     "metadata": {
      "needs_background": "light"
     },
     "output_type": "display_data"
    }
   ],
   "source": [
    "# Анализ распределения количества билетов\n",
    "plt.figure(figsize=(10, 6))\n",
    "plt.hist(df['tickets_count'], bins=50, edgecolor='black')\n",
    "plt.title('Распределение количества билетов')\n",
    "plt.xlabel('Количество билетов')\n",
    "plt.ylabel('Частота')\n",
    "plt.show()\n"
   ]
  },
  {
   "cell_type": "markdown",
   "metadata": {},
   "source": [
    "*Промежуточные выводы*:\n",
    "\n",
    "Категории:\n",
    "- В столбце cinema_circuit встречается значение 'нет', которое может означать отсутствие информации о кинотеатральной сети.\n",
    "\n",
    "- Также важно учитывать, что в столбцах с географическими данными могут встречаться дубликаты или не вполне стандартные названия мест (например, возможные опечатки в city_name и venue_name).\n",
    "\n",
    "Количественные значения:\n",
    "- Средние значения по обеим колонкам показывают, что для большинства записей характерно небольшое количество билетов (около 3) и умеренные доходы (около 625), но также есть экстремальные значения (высокие доходы и большое количество билетов).\n",
    "- Это может указывать на несколько типов пользователей или бизнес-ситуаций (например, с огромными заказами или ошибками в данных).\n"
   ]
  },
  {
   "cell_type": "markdown",
   "metadata": {},
   "source": [
    "### Проверьте явные и неявные дубликаты. Сделайте акцент на неявных дубликатах по бронированию билета без учёта идентификаторов заказа и, если такие будут, примите обоснованное решение, как их стоит обработать."
   ]
  },
  {
   "cell_type": "code",
   "execution_count": 19,
   "metadata": {},
   "outputs": [
    {
     "data": {
      "text/plain": [
       "'Явные дубликаты:'"
      ]
     },
     "metadata": {},
     "output_type": "display_data"
    },
    {
     "name": "stdout",
     "output_type": "stream",
     "text": [
      "Empty DataFrame\n",
      "Columns: [order_id, user_id, created_dt_msk, created_ts_msk, event_id, cinema_circuit, age_limit, currency_code, device_type_canonical, revenue, service_name, tickets_count, total, days_since_prev, event_name, event_type_description, event_type_main, organizers, region_name, city_name, city_id, venue_id, venue_name, venue_address]\n",
      "Index: []\n",
      "\n",
      "[0 rows x 24 columns]\n"
     ]
    }
   ],
   "source": [
    "# 1. Проверка явных дубликатов\n",
    "duplicates = df[df.duplicated()]  # Находит явные дубликаты\n",
    "display(\"Явные дубликаты:\")\n",
    "print(duplicates)"
   ]
  },
  {
   "cell_type": "code",
   "execution_count": 20,
   "metadata": {},
   "outputs": [
    {
     "data": {
      "text/plain": [
       "'\\nНеявные дубликаты:'"
      ]
     },
     "metadata": {},
     "output_type": "display_data"
    },
    {
     "data": {
      "text/html": [
       "<div>\n",
       "<style scoped>\n",
       "    .dataframe tbody tr th:only-of-type {\n",
       "        vertical-align: middle;\n",
       "    }\n",
       "\n",
       "    .dataframe tbody tr th {\n",
       "        vertical-align: top;\n",
       "    }\n",
       "\n",
       "    .dataframe thead th {\n",
       "        text-align: right;\n",
       "    }\n",
       "</style>\n",
       "<table border=\"1\" class=\"dataframe\">\n",
       "  <thead>\n",
       "    <tr style=\"text-align: right;\">\n",
       "      <th></th>\n",
       "      <th>order_id</th>\n",
       "      <th>user_id</th>\n",
       "      <th>created_dt_msk</th>\n",
       "      <th>created_ts_msk</th>\n",
       "      <th>event_id</th>\n",
       "      <th>cinema_circuit</th>\n",
       "      <th>age_limit</th>\n",
       "      <th>currency_code</th>\n",
       "      <th>device_type_canonical</th>\n",
       "      <th>revenue</th>\n",
       "      <th>...</th>\n",
       "      <th>event_name</th>\n",
       "      <th>event_type_description</th>\n",
       "      <th>event_type_main</th>\n",
       "      <th>organizers</th>\n",
       "      <th>region_name</th>\n",
       "      <th>city_name</th>\n",
       "      <th>city_id</th>\n",
       "      <th>venue_id</th>\n",
       "      <th>venue_name</th>\n",
       "      <th>venue_address</th>\n",
       "    </tr>\n",
       "  </thead>\n",
       "  <tbody>\n",
       "    <tr>\n",
       "      <th>13940</th>\n",
       "      <td>589252</td>\n",
       "      <td>e333b28575ed7f9</td>\n",
       "      <td>2024-07-28</td>\n",
       "      <td>2024-07-28 12:50:38</td>\n",
       "      <td>81165</td>\n",
       "      <td>нет</td>\n",
       "      <td>12</td>\n",
       "      <td>rub</td>\n",
       "      <td>mobile</td>\n",
       "      <td>40.84</td>\n",
       "      <td>...</td>\n",
       "      <td>3989adcc-5d67-4a18-a741-6118a6568172</td>\n",
       "      <td>спектакль</td>\n",
       "      <td>театр</td>\n",
       "      <td>№3902</td>\n",
       "      <td>Солнечноземская область</td>\n",
       "      <td>Глинополье</td>\n",
       "      <td>56</td>\n",
       "      <td>3005</td>\n",
       "      <td>Арт-кафе \"Аксессуар\" Лимитед</td>\n",
       "      <td>бул. Логовой, д. 94 к. 1/5</td>\n",
       "    </tr>\n",
       "    <tr>\n",
       "      <th>23715</th>\n",
       "      <td>1123867</td>\n",
       "      <td>06eb7897f65b433</td>\n",
       "      <td>2024-08-13</td>\n",
       "      <td>2024-08-13 16:31:07</td>\n",
       "      <td>183706</td>\n",
       "      <td>нет</td>\n",
       "      <td>18</td>\n",
       "      <td>rub</td>\n",
       "      <td>mobile</td>\n",
       "      <td>69.82</td>\n",
       "      <td>...</td>\n",
       "      <td>69796237-909b-42a7-bfb5-c1b8574c4c76</td>\n",
       "      <td>спектакль</td>\n",
       "      <td>театр</td>\n",
       "      <td>№1482</td>\n",
       "      <td>Светополянский округ</td>\n",
       "      <td>Глиноград</td>\n",
       "      <td>54</td>\n",
       "      <td>4443</td>\n",
       "      <td>Центр культурного наследия \"Объединение\" и пар...</td>\n",
       "      <td>бул. Карбышева, д. 50</td>\n",
       "    </tr>\n",
       "    <tr>\n",
       "      <th>38968</th>\n",
       "      <td>8248210</td>\n",
       "      <td>8f95286aa5fd8d7</td>\n",
       "      <td>2024-06-20</td>\n",
       "      <td>2024-06-20 10:57:19</td>\n",
       "      <td>244875</td>\n",
       "      <td>нет</td>\n",
       "      <td>0</td>\n",
       "      <td>rub</td>\n",
       "      <td>mobile</td>\n",
       "      <td>15.73</td>\n",
       "      <td>...</td>\n",
       "      <td>61f8b9bd-a66f-4cd9-ae10-a0e62e923476</td>\n",
       "      <td>выставка</td>\n",
       "      <td>другое</td>\n",
       "      <td>№3906</td>\n",
       "      <td>Каменноозёрный край</td>\n",
       "      <td>Ордакент</td>\n",
       "      <td>12</td>\n",
       "      <td>2492</td>\n",
       "      <td>Кинофестиваль \"Хранитель\" Инкорпорэйтед</td>\n",
       "      <td>пр. Балтийский, д. 8 к. 51</td>\n",
       "    </tr>\n",
       "    <tr>\n",
       "      <th>45430</th>\n",
       "      <td>3363798</td>\n",
       "      <td>3ee7dc2e115847f</td>\n",
       "      <td>2024-06-25</td>\n",
       "      <td>2024-06-25 07:32:08</td>\n",
       "      <td>277504</td>\n",
       "      <td>нет</td>\n",
       "      <td>6</td>\n",
       "      <td>rub</td>\n",
       "      <td>mobile</td>\n",
       "      <td>59.19</td>\n",
       "      <td>...</td>\n",
       "      <td>dcb6fe75-8502-480d-b8a2-6bee187cb7ee</td>\n",
       "      <td>событие</td>\n",
       "      <td>выставки</td>\n",
       "      <td>№5015</td>\n",
       "      <td>Нежинская область</td>\n",
       "      <td>Каменёвка</td>\n",
       "      <td>76</td>\n",
       "      <td>3094</td>\n",
       "      <td>Сообщество художников \"Палитра\" и партнеры</td>\n",
       "      <td>пр. Театральный, д. 161 стр. 2</td>\n",
       "    </tr>\n",
       "    <tr>\n",
       "      <th>50523</th>\n",
       "      <td>5372831</td>\n",
       "      <td>7eb4fc207ecc10f</td>\n",
       "      <td>2024-08-23</td>\n",
       "      <td>2024-08-23 14:08:19</td>\n",
       "      <td>298035</td>\n",
       "      <td>нет</td>\n",
       "      <td>6</td>\n",
       "      <td>rub</td>\n",
       "      <td>mobile</td>\n",
       "      <td>126.84</td>\n",
       "      <td>...</td>\n",
       "      <td>09164a56-0fb3-43c7-91d3-8ed22bb3d8ef</td>\n",
       "      <td>событие</td>\n",
       "      <td>другое</td>\n",
       "      <td>№4403</td>\n",
       "      <td>Североярская область</td>\n",
       "      <td>Озёрск</td>\n",
       "      <td>2</td>\n",
       "      <td>2795</td>\n",
       "      <td>Клуб исторических реконструкций \"Логос\" и парт...</td>\n",
       "      <td>пр. Пушкина, д. 8/6 к. 482</td>\n",
       "    </tr>\n",
       "    <tr>\n",
       "      <th>50527</th>\n",
       "      <td>5373179</td>\n",
       "      <td>7eb4fc207ecc10f</td>\n",
       "      <td>2024-08-23</td>\n",
       "      <td>2024-08-23 14:08:19</td>\n",
       "      <td>298035</td>\n",
       "      <td>нет</td>\n",
       "      <td>6</td>\n",
       "      <td>rub</td>\n",
       "      <td>mobile</td>\n",
       "      <td>126.84</td>\n",
       "      <td>...</td>\n",
       "      <td>09164a56-0fb3-43c7-91d3-8ed22bb3d8ef</td>\n",
       "      <td>событие</td>\n",
       "      <td>другое</td>\n",
       "      <td>№4403</td>\n",
       "      <td>Североярская область</td>\n",
       "      <td>Озёрск</td>\n",
       "      <td>2</td>\n",
       "      <td>2795</td>\n",
       "      <td>Клуб исторических реконструкций \"Логос\" и парт...</td>\n",
       "      <td>пр. Пушкина, д. 8/6 к. 482</td>\n",
       "    </tr>\n",
       "    <tr>\n",
       "      <th>77897</th>\n",
       "      <td>2768051</td>\n",
       "      <td>c2c6d35ff678ca6</td>\n",
       "      <td>2024-08-06</td>\n",
       "      <td>2024-08-06 13:26:42</td>\n",
       "      <td>379268</td>\n",
       "      <td>нет</td>\n",
       "      <td>0</td>\n",
       "      <td>rub</td>\n",
       "      <td>mobile</td>\n",
       "      <td>87.02</td>\n",
       "      <td>...</td>\n",
       "      <td>b16a8d23-6085-4b04-8b8a-35b74a3d89f2</td>\n",
       "      <td>событие</td>\n",
       "      <td>другое</td>\n",
       "      <td>№2685</td>\n",
       "      <td>Североярская область</td>\n",
       "      <td>Озёрск</td>\n",
       "      <td>2</td>\n",
       "      <td>1283</td>\n",
       "      <td>Клуб начинающих писателей \"Детство\" Лимитед</td>\n",
       "      <td>ул. Заозерная, д. 9</td>\n",
       "    </tr>\n",
       "    <tr>\n",
       "      <th>77899</th>\n",
       "      <td>2767964</td>\n",
       "      <td>c2c6d35ff678ca6</td>\n",
       "      <td>2024-08-06</td>\n",
       "      <td>2024-08-06 13:26:42</td>\n",
       "      <td>379268</td>\n",
       "      <td>нет</td>\n",
       "      <td>0</td>\n",
       "      <td>rub</td>\n",
       "      <td>mobile</td>\n",
       "      <td>108.77</td>\n",
       "      <td>...</td>\n",
       "      <td>b16a8d23-6085-4b04-8b8a-35b74a3d89f2</td>\n",
       "      <td>событие</td>\n",
       "      <td>другое</td>\n",
       "      <td>№2685</td>\n",
       "      <td>Североярская область</td>\n",
       "      <td>Озёрск</td>\n",
       "      <td>2</td>\n",
       "      <td>1283</td>\n",
       "      <td>Клуб начинающих писателей \"Детство\" Лимитед</td>\n",
       "      <td>ул. Заозерная, д. 9</td>\n",
       "    </tr>\n",
       "    <tr>\n",
       "      <th>88301</th>\n",
       "      <td>6431070</td>\n",
       "      <td>9103be7b790235f</td>\n",
       "      <td>2024-08-03</td>\n",
       "      <td>2024-08-03 15:01:56</td>\n",
       "      <td>410465</td>\n",
       "      <td>нет</td>\n",
       "      <td>0</td>\n",
       "      <td>rub</td>\n",
       "      <td>mobile</td>\n",
       "      <td>685.12</td>\n",
       "      <td>...</td>\n",
       "      <td>ca2f9e9a-313d-404b-9c35-074e7a238df7</td>\n",
       "      <td>шоу</td>\n",
       "      <td>другое</td>\n",
       "      <td>№3287</td>\n",
       "      <td>Каменевский регион</td>\n",
       "      <td>Глиногорск</td>\n",
       "      <td>213</td>\n",
       "      <td>3391</td>\n",
       "      <td>Театральные мастерские \"Сюжет\" Инк</td>\n",
       "      <td>бул. Володарского, д. 237 стр. 9/3</td>\n",
       "    </tr>\n",
       "    <tr>\n",
       "      <th>91471</th>\n",
       "      <td>6657995</td>\n",
       "      <td>7eb4fc207ecc10f</td>\n",
       "      <td>2024-10-26</td>\n",
       "      <td>2024-10-26 09:39:03</td>\n",
       "      <td>418836</td>\n",
       "      <td>нет</td>\n",
       "      <td>0</td>\n",
       "      <td>rub</td>\n",
       "      <td>mobile</td>\n",
       "      <td>294.85</td>\n",
       "      <td>...</td>\n",
       "      <td>a4478837-4631-4e28-95d7-a4c26751a232</td>\n",
       "      <td>цирковое шоу</td>\n",
       "      <td>другое</td>\n",
       "      <td>№1703</td>\n",
       "      <td>Тепляковская область</td>\n",
       "      <td>Горнодолинск</td>\n",
       "      <td>43</td>\n",
       "      <td>4481</td>\n",
       "      <td>Школа сценического мастерства \"Вдох\" Лтд</td>\n",
       "      <td>пер. Полярный, д. 87</td>\n",
       "    </tr>\n",
       "    <tr>\n",
       "      <th>111814</th>\n",
       "      <td>3463819</td>\n",
       "      <td>7eb4fc207ecc10f</td>\n",
       "      <td>2024-09-21</td>\n",
       "      <td>2024-09-21 11:43:58</td>\n",
       "      <td>448579</td>\n",
       "      <td>нет</td>\n",
       "      <td>0</td>\n",
       "      <td>rub</td>\n",
       "      <td>mobile</td>\n",
       "      <td>2.54</td>\n",
       "      <td>...</td>\n",
       "      <td>a751c430-d352-44d7-99a0-29e97193eba5</td>\n",
       "      <td>спортивное мероприятие</td>\n",
       "      <td>спорт</td>\n",
       "      <td>№1622</td>\n",
       "      <td>Североярская область</td>\n",
       "      <td>Озёрск</td>\n",
       "      <td>2</td>\n",
       "      <td>4607</td>\n",
       "      <td>Команда артистов \"Светлячок\" Лимитед</td>\n",
       "      <td>пер. Невского, д. 72</td>\n",
       "    </tr>\n",
       "    <tr>\n",
       "      <th>124286</th>\n",
       "      <td>2410887</td>\n",
       "      <td>c68f202c21433f7</td>\n",
       "      <td>2024-10-16</td>\n",
       "      <td>2024-10-16 17:20:16</td>\n",
       "      <td>469657</td>\n",
       "      <td>нет</td>\n",
       "      <td>6</td>\n",
       "      <td>rub</td>\n",
       "      <td>mobile</td>\n",
       "      <td>12.64</td>\n",
       "      <td>...</td>\n",
       "      <td>d14300fe-85a9-4458-8d9d-eaf0bf7c6295</td>\n",
       "      <td>спектакль</td>\n",
       "      <td>театр</td>\n",
       "      <td>№1763</td>\n",
       "      <td>Североключевской округ</td>\n",
       "      <td>Зоречанск</td>\n",
       "      <td>1092</td>\n",
       "      <td>2474</td>\n",
       "      <td>Образовательное учреждение искусства \"Кубок\" Инк</td>\n",
       "      <td>бул. Пролетарский, д. 332</td>\n",
       "    </tr>\n",
       "    <tr>\n",
       "      <th>139785</th>\n",
       "      <td>8548012</td>\n",
       "      <td>fd4d47438ebb946</td>\n",
       "      <td>2024-06-19</td>\n",
       "      <td>2024-06-19 15:40:56</td>\n",
       "      <td>489843</td>\n",
       "      <td>нет</td>\n",
       "      <td>18</td>\n",
       "      <td>rub</td>\n",
       "      <td>desktop</td>\n",
       "      <td>1319.43</td>\n",
       "      <td>...</td>\n",
       "      <td>25a26bf3-cb70-4f37-a7f0-c97cc065d414</td>\n",
       "      <td>спектакль</td>\n",
       "      <td>театр</td>\n",
       "      <td>№1858</td>\n",
       "      <td>Каменевский регион</td>\n",
       "      <td>Глиногорск</td>\n",
       "      <td>213</td>\n",
       "      <td>4017</td>\n",
       "      <td>Студия анимации \"Точка\" Инкорпорэйтед</td>\n",
       "      <td>алл. Тамбовская, д. 7 к. 827</td>\n",
       "    </tr>\n",
       "    <tr>\n",
       "      <th>139788</th>\n",
       "      <td>8548070</td>\n",
       "      <td>fd4d47438ebb946</td>\n",
       "      <td>2024-06-19</td>\n",
       "      <td>2024-06-19 15:40:50</td>\n",
       "      <td>489843</td>\n",
       "      <td>нет</td>\n",
       "      <td>18</td>\n",
       "      <td>rub</td>\n",
       "      <td>desktop</td>\n",
       "      <td>989.57</td>\n",
       "      <td>...</td>\n",
       "      <td>25a26bf3-cb70-4f37-a7f0-c97cc065d414</td>\n",
       "      <td>спектакль</td>\n",
       "      <td>театр</td>\n",
       "      <td>№1858</td>\n",
       "      <td>Каменевский регион</td>\n",
       "      <td>Глиногорск</td>\n",
       "      <td>213</td>\n",
       "      <td>4017</td>\n",
       "      <td>Студия анимации \"Точка\" Инкорпорэйтед</td>\n",
       "      <td>алл. Тамбовская, д. 7 к. 827</td>\n",
       "    </tr>\n",
       "    <tr>\n",
       "      <th>139789</th>\n",
       "      <td>8548099</td>\n",
       "      <td>fd4d47438ebb946</td>\n",
       "      <td>2024-06-19</td>\n",
       "      <td>2024-06-19 15:40:56</td>\n",
       "      <td>489843</td>\n",
       "      <td>нет</td>\n",
       "      <td>18</td>\n",
       "      <td>rub</td>\n",
       "      <td>desktop</td>\n",
       "      <td>989.57</td>\n",
       "      <td>...</td>\n",
       "      <td>25a26bf3-cb70-4f37-a7f0-c97cc065d414</td>\n",
       "      <td>спектакль</td>\n",
       "      <td>театр</td>\n",
       "      <td>№1858</td>\n",
       "      <td>Каменевский регион</td>\n",
       "      <td>Глиногорск</td>\n",
       "      <td>213</td>\n",
       "      <td>4017</td>\n",
       "      <td>Студия анимации \"Точка\" Инкорпорэйтед</td>\n",
       "      <td>алл. Тамбовская, д. 7 к. 827</td>\n",
       "    </tr>\n",
       "    <tr>\n",
       "      <th>139792</th>\n",
       "      <td>8547867</td>\n",
       "      <td>fd4d47438ebb946</td>\n",
       "      <td>2024-06-19</td>\n",
       "      <td>2024-06-19 15:40:56</td>\n",
       "      <td>489843</td>\n",
       "      <td>нет</td>\n",
       "      <td>18</td>\n",
       "      <td>rub</td>\n",
       "      <td>desktop</td>\n",
       "      <td>1319.43</td>\n",
       "      <td>...</td>\n",
       "      <td>25a26bf3-cb70-4f37-a7f0-c97cc065d414</td>\n",
       "      <td>спектакль</td>\n",
       "      <td>театр</td>\n",
       "      <td>№1858</td>\n",
       "      <td>Каменевский регион</td>\n",
       "      <td>Глиногорск</td>\n",
       "      <td>213</td>\n",
       "      <td>4017</td>\n",
       "      <td>Студия анимации \"Точка\" Инкорпорэйтед</td>\n",
       "      <td>алл. Тамбовская, д. 7 к. 827</td>\n",
       "    </tr>\n",
       "    <tr>\n",
       "      <th>158983</th>\n",
       "      <td>6002015</td>\n",
       "      <td>a6e25611c394f8c</td>\n",
       "      <td>2024-10-04</td>\n",
       "      <td>2024-10-04 10:11:25</td>\n",
       "      <td>514735</td>\n",
       "      <td>нет</td>\n",
       "      <td>12</td>\n",
       "      <td>rub</td>\n",
       "      <td>mobile</td>\n",
       "      <td>259.64</td>\n",
       "      <td>...</td>\n",
       "      <td>9a0a7a42-94f6-439d-af02-1f0f083c4b1a</td>\n",
       "      <td>спектакль</td>\n",
       "      <td>театр</td>\n",
       "      <td>№1738</td>\n",
       "      <td>Яблоневская область</td>\n",
       "      <td>Светополье</td>\n",
       "      <td>39</td>\n",
       "      <td>3939</td>\n",
       "      <td>Этнографический музей \"Магнит\" Групп</td>\n",
       "      <td>наб. Полярная, д. 874</td>\n",
       "    </tr>\n",
       "    <tr>\n",
       "      <th>191716</th>\n",
       "      <td>7299678</td>\n",
       "      <td>a0384c26d91e09e</td>\n",
       "      <td>2024-08-24</td>\n",
       "      <td>2024-08-24 00:07:14</td>\n",
       "      <td>534657</td>\n",
       "      <td>нет</td>\n",
       "      <td>16</td>\n",
       "      <td>rub</td>\n",
       "      <td>mobile</td>\n",
       "      <td>679.21</td>\n",
       "      <td>...</td>\n",
       "      <td>dff567b7-11a5-4c4c-b223-70c8ab7efd15</td>\n",
       "      <td>концерт</td>\n",
       "      <td>концерты</td>\n",
       "      <td>№1134</td>\n",
       "      <td>Ветренский регион</td>\n",
       "      <td>Кокжар</td>\n",
       "      <td>20</td>\n",
       "      <td>2866</td>\n",
       "      <td>Школа фотографии \"Золотое\" Инк</td>\n",
       "      <td>ш. Микрорайон, д. 79 стр. 50</td>\n",
       "    </tr>\n",
       "    <tr>\n",
       "      <th>204963</th>\n",
       "      <td>7927528</td>\n",
       "      <td>c7a762e320f0def</td>\n",
       "      <td>2024-06-19</td>\n",
       "      <td>2024-06-19 11:07:59</td>\n",
       "      <td>538926</td>\n",
       "      <td>нет</td>\n",
       "      <td>18</td>\n",
       "      <td>rub</td>\n",
       "      <td>mobile</td>\n",
       "      <td>0.00</td>\n",
       "      <td>...</td>\n",
       "      <td>7b378eca-5d03-4f42-9491-a32887424226</td>\n",
       "      <td>событие</td>\n",
       "      <td>другое</td>\n",
       "      <td>№4549</td>\n",
       "      <td>Каменевский регион</td>\n",
       "      <td>Глиногорск</td>\n",
       "      <td>213</td>\n",
       "      <td>3474</td>\n",
       "      <td>Креативное пространство \"Вдох\" Лимитед</td>\n",
       "      <td>бул. Пригородный, д. 7/1</td>\n",
       "    </tr>\n",
       "    <tr>\n",
       "      <th>208023</th>\n",
       "      <td>1799248</td>\n",
       "      <td>9402cc20d69d44f</td>\n",
       "      <td>2024-09-30</td>\n",
       "      <td>2024-09-30 21:35:37</td>\n",
       "      <td>540784</td>\n",
       "      <td>нет</td>\n",
       "      <td>6</td>\n",
       "      <td>rub</td>\n",
       "      <td>desktop</td>\n",
       "      <td>177.04</td>\n",
       "      <td>...</td>\n",
       "      <td>f0a4bbbc-c5bb-4648-884f-87c539056f5f</td>\n",
       "      <td>концерт</td>\n",
       "      <td>концерты</td>\n",
       "      <td>№1874</td>\n",
       "      <td>Каменевский регион</td>\n",
       "      <td>Глиногорск</td>\n",
       "      <td>213</td>\n",
       "      <td>2304</td>\n",
       "      <td>Творческое объединение \"Гармония\" Инк</td>\n",
       "      <td>наб. Партизанская, д. 47</td>\n",
       "    </tr>\n",
       "    <tr>\n",
       "      <th>225116</th>\n",
       "      <td>8237045</td>\n",
       "      <td>c96b961916a84fb</td>\n",
       "      <td>2024-10-26</td>\n",
       "      <td>2024-10-26 15:06:16</td>\n",
       "      <td>551137</td>\n",
       "      <td>нет</td>\n",
       "      <td>12</td>\n",
       "      <td>rub</td>\n",
       "      <td>mobile</td>\n",
       "      <td>1044.19</td>\n",
       "      <td>...</td>\n",
       "      <td>ed68265d-d72d-49ac-95a6-44dc732b896d</td>\n",
       "      <td>концерт</td>\n",
       "      <td>концерты</td>\n",
       "      <td>№4389</td>\n",
       "      <td>Североярская область</td>\n",
       "      <td>Озёрск</td>\n",
       "      <td>2</td>\n",
       "      <td>2805</td>\n",
       "      <td>Центр культурного наследия \"Заряд\" и партнеры</td>\n",
       "      <td>ш. Пугачева, д. 9/7 к. 39</td>\n",
       "    </tr>\n",
       "    <tr>\n",
       "      <th>266994</th>\n",
       "      <td>602012</td>\n",
       "      <td>cbe06d8837e87fb</td>\n",
       "      <td>2024-10-01</td>\n",
       "      <td>2024-10-01 11:20:05</td>\n",
       "      <td>574431</td>\n",
       "      <td>нет</td>\n",
       "      <td>0</td>\n",
       "      <td>rub</td>\n",
       "      <td>desktop</td>\n",
       "      <td>155.99</td>\n",
       "      <td>...</td>\n",
       "      <td>d4344522-b7cf-4539-96c8-efece75e9b16</td>\n",
       "      <td>спортивное мероприятие</td>\n",
       "      <td>спорт</td>\n",
       "      <td>№1531</td>\n",
       "      <td>Медовская область</td>\n",
       "      <td>Радужсвет</td>\n",
       "      <td>47</td>\n",
       "      <td>2157</td>\n",
       "      <td>Студия дизайна \"Платформа\" Инкорпорэйтед</td>\n",
       "      <td>наб. Магистральная, д. 5</td>\n",
       "    </tr>\n",
       "    <tr>\n",
       "      <th>266998</th>\n",
       "      <td>6597994</td>\n",
       "      <td>cbe06d8837e87fb</td>\n",
       "      <td>2024-10-01</td>\n",
       "      <td>2024-10-01 11:11:17</td>\n",
       "      <td>574431</td>\n",
       "      <td>нет</td>\n",
       "      <td>0</td>\n",
       "      <td>rub</td>\n",
       "      <td>desktop</td>\n",
       "      <td>155.99</td>\n",
       "      <td>...</td>\n",
       "      <td>d4344522-b7cf-4539-96c8-efece75e9b16</td>\n",
       "      <td>спортивное мероприятие</td>\n",
       "      <td>спорт</td>\n",
       "      <td>№1531</td>\n",
       "      <td>Медовская область</td>\n",
       "      <td>Радужсвет</td>\n",
       "      <td>47</td>\n",
       "      <td>2157</td>\n",
       "      <td>Студия дизайна \"Платформа\" Инкорпорэйтед</td>\n",
       "      <td>наб. Магистральная, д. 5</td>\n",
       "    </tr>\n",
       "    <tr>\n",
       "      <th>267051</th>\n",
       "      <td>5875662</td>\n",
       "      <td>cdbc02c6ad8087a</td>\n",
       "      <td>2024-10-01</td>\n",
       "      <td>2024-10-01 11:36:30</td>\n",
       "      <td>574431</td>\n",
       "      <td>нет</td>\n",
       "      <td>0</td>\n",
       "      <td>rub</td>\n",
       "      <td>desktop</td>\n",
       "      <td>116.99</td>\n",
       "      <td>...</td>\n",
       "      <td>d4344522-b7cf-4539-96c8-efece75e9b16</td>\n",
       "      <td>спортивное мероприятие</td>\n",
       "      <td>спорт</td>\n",
       "      <td>№1531</td>\n",
       "      <td>Медовская область</td>\n",
       "      <td>Радужсвет</td>\n",
       "      <td>47</td>\n",
       "      <td>2157</td>\n",
       "      <td>Студия дизайна \"Платформа\" Инкорпорэйтед</td>\n",
       "      <td>наб. Магистральная, д. 5</td>\n",
       "    </tr>\n",
       "    <tr>\n",
       "      <th>270034</th>\n",
       "      <td>7229759</td>\n",
       "      <td>de88a121becea97</td>\n",
       "      <td>2024-09-21</td>\n",
       "      <td>2024-09-21 17:21:18</td>\n",
       "      <td>571963</td>\n",
       "      <td>нет</td>\n",
       "      <td>6</td>\n",
       "      <td>rub</td>\n",
       "      <td>mobile</td>\n",
       "      <td>1065.84</td>\n",
       "      <td>...</td>\n",
       "      <td>5a27dd84-bbe8-48bf-9aba-02ae43037ac6</td>\n",
       "      <td>цирковое шоу</td>\n",
       "      <td>другое</td>\n",
       "      <td>№4551</td>\n",
       "      <td>Каменевский регион</td>\n",
       "      <td>Глиногорск</td>\n",
       "      <td>213</td>\n",
       "      <td>4363</td>\n",
       "      <td>Студия дизайна \"Лестница\" Лимитед</td>\n",
       "      <td>наб. Школьная, д. 9/8 стр. 7/5</td>\n",
       "    </tr>\n",
       "    <tr>\n",
       "      <th>280305</th>\n",
       "      <td>4569357</td>\n",
       "      <td>c68f202c21433f7</td>\n",
       "      <td>2024-10-09</td>\n",
       "      <td>2024-10-09 13:58:42</td>\n",
       "      <td>578715</td>\n",
       "      <td>нет</td>\n",
       "      <td>12</td>\n",
       "      <td>rub</td>\n",
       "      <td>mobile</td>\n",
       "      <td>38.21</td>\n",
       "      <td>...</td>\n",
       "      <td>6fbfcff4-a4ef-4441-888a-2b5bfcf10912</td>\n",
       "      <td>событие</td>\n",
       "      <td>другое</td>\n",
       "      <td>№1764</td>\n",
       "      <td>Североключевской округ</td>\n",
       "      <td>Зоречанск</td>\n",
       "      <td>1092</td>\n",
       "      <td>1768</td>\n",
       "      <td>Театр \"Задор\" Инкорпорэйтед</td>\n",
       "      <td>пер. Боровой, д. 1 стр. 75</td>\n",
       "    </tr>\n",
       "    <tr>\n",
       "      <th>280309</th>\n",
       "      <td>4569444</td>\n",
       "      <td>c68f202c21433f7</td>\n",
       "      <td>2024-10-09</td>\n",
       "      <td>2024-10-09 13:58:41</td>\n",
       "      <td>578715</td>\n",
       "      <td>нет</td>\n",
       "      <td>12</td>\n",
       "      <td>rub</td>\n",
       "      <td>mobile</td>\n",
       "      <td>38.21</td>\n",
       "      <td>...</td>\n",
       "      <td>6fbfcff4-a4ef-4441-888a-2b5bfcf10912</td>\n",
       "      <td>событие</td>\n",
       "      <td>другое</td>\n",
       "      <td>№1764</td>\n",
       "      <td>Североключевской округ</td>\n",
       "      <td>Зоречанск</td>\n",
       "      <td>1092</td>\n",
       "      <td>1768</td>\n",
       "      <td>Театр \"Задор\" Инкорпорэйтед</td>\n",
       "      <td>пер. Боровой, д. 1 стр. 75</td>\n",
       "    </tr>\n",
       "    <tr>\n",
       "      <th>287104</th>\n",
       "      <td>2323916</td>\n",
       "      <td>7b525118ae656af</td>\n",
       "      <td>2024-10-28</td>\n",
       "      <td>2024-10-28 08:33:04</td>\n",
       "      <td>588203</td>\n",
       "      <td>нет</td>\n",
       "      <td>0</td>\n",
       "      <td>rub</td>\n",
       "      <td>mobile</td>\n",
       "      <td>26.96</td>\n",
       "      <td>...</td>\n",
       "      <td>88478781-0311-42e3-b0ea-d4d6a171b70a</td>\n",
       "      <td>спортивное мероприятие</td>\n",
       "      <td>спорт</td>\n",
       "      <td>№1503</td>\n",
       "      <td>Чистогорская область</td>\n",
       "      <td>Песчанская</td>\n",
       "      <td>21</td>\n",
       "      <td>2155</td>\n",
       "      <td>Клуб моделей \"Гармония\" Инк</td>\n",
       "      <td>ул. Прохладная, д. 8 к. 432</td>\n",
       "    </tr>\n",
       "    <tr>\n",
       "      <th>287304</th>\n",
       "      <td>160893</td>\n",
       "      <td>2564e3703075008</td>\n",
       "      <td>2024-10-30</td>\n",
       "      <td>2024-10-30 10:04:15</td>\n",
       "      <td>589005</td>\n",
       "      <td>нет</td>\n",
       "      <td>6</td>\n",
       "      <td>rub</td>\n",
       "      <td>mobile</td>\n",
       "      <td>11.23</td>\n",
       "      <td>...</td>\n",
       "      <td>bee8d0cc-282b-492e-9ed8-ec0990f43ffd</td>\n",
       "      <td>выставка</td>\n",
       "      <td>другое</td>\n",
       "      <td>№1810</td>\n",
       "      <td>Яблоневская область</td>\n",
       "      <td>Горяново</td>\n",
       "      <td>11036</td>\n",
       "      <td>1656</td>\n",
       "      <td>Модная академия \"Пункт\" Лимитед</td>\n",
       "      <td>бул. Гагарина, д. 39</td>\n",
       "    </tr>\n",
       "    <tr>\n",
       "      <th>289037</th>\n",
       "      <td>6114564</td>\n",
       "      <td>8d6c1ff89fac35f</td>\n",
       "      <td>2024-10-31</td>\n",
       "      <td>2024-10-31 22:28:57</td>\n",
       "      <td>589624</td>\n",
       "      <td>нет</td>\n",
       "      <td>16</td>\n",
       "      <td>rub</td>\n",
       "      <td>desktop</td>\n",
       "      <td>41.83</td>\n",
       "      <td>...</td>\n",
       "      <td>c9eb1fa4-257b-4290-975a-7fe34b46d11b</td>\n",
       "      <td>концерт</td>\n",
       "      <td>концерты</td>\n",
       "      <td>№2121</td>\n",
       "      <td>Каменевский регион</td>\n",
       "      <td>Глиногорск</td>\n",
       "      <td>213</td>\n",
       "      <td>1365</td>\n",
       "      <td>Картинная галерея \"Светлячок\" Лтд</td>\n",
       "      <td>ул. Дальневосточная, д. 97 к. 1/4</td>\n",
       "    </tr>\n",
       "  </tbody>\n",
       "</table>\n",
       "<p>30 rows × 24 columns</p>\n",
       "</div>"
      ],
      "text/plain": [
       "        order_id          user_id created_dt_msk      created_ts_msk  \\\n",
       "13940     589252  e333b28575ed7f9     2024-07-28 2024-07-28 12:50:38   \n",
       "23715    1123867  06eb7897f65b433     2024-08-13 2024-08-13 16:31:07   \n",
       "38968    8248210  8f95286aa5fd8d7     2024-06-20 2024-06-20 10:57:19   \n",
       "45430    3363798  3ee7dc2e115847f     2024-06-25 2024-06-25 07:32:08   \n",
       "50523    5372831  7eb4fc207ecc10f     2024-08-23 2024-08-23 14:08:19   \n",
       "50527    5373179  7eb4fc207ecc10f     2024-08-23 2024-08-23 14:08:19   \n",
       "77897    2768051  c2c6d35ff678ca6     2024-08-06 2024-08-06 13:26:42   \n",
       "77899    2767964  c2c6d35ff678ca6     2024-08-06 2024-08-06 13:26:42   \n",
       "88301    6431070  9103be7b790235f     2024-08-03 2024-08-03 15:01:56   \n",
       "91471    6657995  7eb4fc207ecc10f     2024-10-26 2024-10-26 09:39:03   \n",
       "111814   3463819  7eb4fc207ecc10f     2024-09-21 2024-09-21 11:43:58   \n",
       "124286   2410887  c68f202c21433f7     2024-10-16 2024-10-16 17:20:16   \n",
       "139785   8548012  fd4d47438ebb946     2024-06-19 2024-06-19 15:40:56   \n",
       "139788   8548070  fd4d47438ebb946     2024-06-19 2024-06-19 15:40:50   \n",
       "139789   8548099  fd4d47438ebb946     2024-06-19 2024-06-19 15:40:56   \n",
       "139792   8547867  fd4d47438ebb946     2024-06-19 2024-06-19 15:40:56   \n",
       "158983   6002015  a6e25611c394f8c     2024-10-04 2024-10-04 10:11:25   \n",
       "191716   7299678  a0384c26d91e09e     2024-08-24 2024-08-24 00:07:14   \n",
       "204963   7927528  c7a762e320f0def     2024-06-19 2024-06-19 11:07:59   \n",
       "208023   1799248  9402cc20d69d44f     2024-09-30 2024-09-30 21:35:37   \n",
       "225116   8237045  c96b961916a84fb     2024-10-26 2024-10-26 15:06:16   \n",
       "266994    602012  cbe06d8837e87fb     2024-10-01 2024-10-01 11:20:05   \n",
       "266998   6597994  cbe06d8837e87fb     2024-10-01 2024-10-01 11:11:17   \n",
       "267051   5875662  cdbc02c6ad8087a     2024-10-01 2024-10-01 11:36:30   \n",
       "270034   7229759  de88a121becea97     2024-09-21 2024-09-21 17:21:18   \n",
       "280305   4569357  c68f202c21433f7     2024-10-09 2024-10-09 13:58:42   \n",
       "280309   4569444  c68f202c21433f7     2024-10-09 2024-10-09 13:58:41   \n",
       "287104   2323916  7b525118ae656af     2024-10-28 2024-10-28 08:33:04   \n",
       "287304    160893  2564e3703075008     2024-10-30 2024-10-30 10:04:15   \n",
       "289037   6114564  8d6c1ff89fac35f     2024-10-31 2024-10-31 22:28:57   \n",
       "\n",
       "        event_id cinema_circuit  age_limit currency_code  \\\n",
       "13940      81165            нет         12           rub   \n",
       "23715     183706            нет         18           rub   \n",
       "38968     244875            нет          0           rub   \n",
       "45430     277504            нет          6           rub   \n",
       "50523     298035            нет          6           rub   \n",
       "50527     298035            нет          6           rub   \n",
       "77897     379268            нет          0           rub   \n",
       "77899     379268            нет          0           rub   \n",
       "88301     410465            нет          0           rub   \n",
       "91471     418836            нет          0           rub   \n",
       "111814    448579            нет          0           rub   \n",
       "124286    469657            нет          6           rub   \n",
       "139785    489843            нет         18           rub   \n",
       "139788    489843            нет         18           rub   \n",
       "139789    489843            нет         18           rub   \n",
       "139792    489843            нет         18           rub   \n",
       "158983    514735            нет         12           rub   \n",
       "191716    534657            нет         16           rub   \n",
       "204963    538926            нет         18           rub   \n",
       "208023    540784            нет          6           rub   \n",
       "225116    551137            нет         12           rub   \n",
       "266994    574431            нет          0           rub   \n",
       "266998    574431            нет          0           rub   \n",
       "267051    574431            нет          0           rub   \n",
       "270034    571963            нет          6           rub   \n",
       "280305    578715            нет         12           rub   \n",
       "280309    578715            нет         12           rub   \n",
       "287104    588203            нет          0           rub   \n",
       "287304    589005            нет          6           rub   \n",
       "289037    589624            нет         16           rub   \n",
       "\n",
       "       device_type_canonical  revenue  ...  \\\n",
       "13940                 mobile    40.84  ...   \n",
       "23715                 mobile    69.82  ...   \n",
       "38968                 mobile    15.73  ...   \n",
       "45430                 mobile    59.19  ...   \n",
       "50523                 mobile   126.84  ...   \n",
       "50527                 mobile   126.84  ...   \n",
       "77897                 mobile    87.02  ...   \n",
       "77899                 mobile   108.77  ...   \n",
       "88301                 mobile   685.12  ...   \n",
       "91471                 mobile   294.85  ...   \n",
       "111814                mobile     2.54  ...   \n",
       "124286                mobile    12.64  ...   \n",
       "139785               desktop  1319.43  ...   \n",
       "139788               desktop   989.57  ...   \n",
       "139789               desktop   989.57  ...   \n",
       "139792               desktop  1319.43  ...   \n",
       "158983                mobile   259.64  ...   \n",
       "191716                mobile   679.21  ...   \n",
       "204963                mobile     0.00  ...   \n",
       "208023               desktop   177.04  ...   \n",
       "225116                mobile  1044.19  ...   \n",
       "266994               desktop   155.99  ...   \n",
       "266998               desktop   155.99  ...   \n",
       "267051               desktop   116.99  ...   \n",
       "270034                mobile  1065.84  ...   \n",
       "280305                mobile    38.21  ...   \n",
       "280309                mobile    38.21  ...   \n",
       "287104                mobile    26.96  ...   \n",
       "287304                mobile    11.23  ...   \n",
       "289037               desktop    41.83  ...   \n",
       "\n",
       "                                  event_name  event_type_description  \\\n",
       "13940   3989adcc-5d67-4a18-a741-6118a6568172               спектакль   \n",
       "23715   69796237-909b-42a7-bfb5-c1b8574c4c76               спектакль   \n",
       "38968   61f8b9bd-a66f-4cd9-ae10-a0e62e923476                выставка   \n",
       "45430   dcb6fe75-8502-480d-b8a2-6bee187cb7ee                 событие   \n",
       "50523   09164a56-0fb3-43c7-91d3-8ed22bb3d8ef                 событие   \n",
       "50527   09164a56-0fb3-43c7-91d3-8ed22bb3d8ef                 событие   \n",
       "77897   b16a8d23-6085-4b04-8b8a-35b74a3d89f2                 событие   \n",
       "77899   b16a8d23-6085-4b04-8b8a-35b74a3d89f2                 событие   \n",
       "88301   ca2f9e9a-313d-404b-9c35-074e7a238df7                     шоу   \n",
       "91471   a4478837-4631-4e28-95d7-a4c26751a232            цирковое шоу   \n",
       "111814  a751c430-d352-44d7-99a0-29e97193eba5  спортивное мероприятие   \n",
       "124286  d14300fe-85a9-4458-8d9d-eaf0bf7c6295               спектакль   \n",
       "139785  25a26bf3-cb70-4f37-a7f0-c97cc065d414               спектакль   \n",
       "139788  25a26bf3-cb70-4f37-a7f0-c97cc065d414               спектакль   \n",
       "139789  25a26bf3-cb70-4f37-a7f0-c97cc065d414               спектакль   \n",
       "139792  25a26bf3-cb70-4f37-a7f0-c97cc065d414               спектакль   \n",
       "158983  9a0a7a42-94f6-439d-af02-1f0f083c4b1a               спектакль   \n",
       "191716  dff567b7-11a5-4c4c-b223-70c8ab7efd15                 концерт   \n",
       "204963  7b378eca-5d03-4f42-9491-a32887424226                 событие   \n",
       "208023  f0a4bbbc-c5bb-4648-884f-87c539056f5f                 концерт   \n",
       "225116  ed68265d-d72d-49ac-95a6-44dc732b896d                 концерт   \n",
       "266994  d4344522-b7cf-4539-96c8-efece75e9b16  спортивное мероприятие   \n",
       "266998  d4344522-b7cf-4539-96c8-efece75e9b16  спортивное мероприятие   \n",
       "267051  d4344522-b7cf-4539-96c8-efece75e9b16  спортивное мероприятие   \n",
       "270034  5a27dd84-bbe8-48bf-9aba-02ae43037ac6            цирковое шоу   \n",
       "280305  6fbfcff4-a4ef-4441-888a-2b5bfcf10912                 событие   \n",
       "280309  6fbfcff4-a4ef-4441-888a-2b5bfcf10912                 событие   \n",
       "287104  88478781-0311-42e3-b0ea-d4d6a171b70a  спортивное мероприятие   \n",
       "287304  bee8d0cc-282b-492e-9ed8-ec0990f43ffd                выставка   \n",
       "289037  c9eb1fa4-257b-4290-975a-7fe34b46d11b                 концерт   \n",
       "\n",
       "        event_type_main  organizers              region_name     city_name  \\\n",
       "13940             театр       №3902  Солнечноземская область    Глинополье   \n",
       "23715             театр       №1482     Светополянский округ     Глиноград   \n",
       "38968            другое       №3906      Каменноозёрный край      Ордакент   \n",
       "45430          выставки       №5015        Нежинская область     Каменёвка   \n",
       "50523            другое       №4403     Североярская область        Озёрск   \n",
       "50527            другое       №4403     Североярская область        Озёрск   \n",
       "77897            другое       №2685     Североярская область        Озёрск   \n",
       "77899            другое       №2685     Североярская область        Озёрск   \n",
       "88301            другое       №3287       Каменевский регион    Глиногорск   \n",
       "91471            другое       №1703     Тепляковская область  Горнодолинск   \n",
       "111814            спорт       №1622     Североярская область        Озёрск   \n",
       "124286            театр       №1763   Североключевской округ     Зоречанск   \n",
       "139785            театр       №1858       Каменевский регион    Глиногорск   \n",
       "139788            театр       №1858       Каменевский регион    Глиногорск   \n",
       "139789            театр       №1858       Каменевский регион    Глиногорск   \n",
       "139792            театр       №1858       Каменевский регион    Глиногорск   \n",
       "158983            театр       №1738      Яблоневская область    Светополье   \n",
       "191716         концерты       №1134        Ветренский регион        Кокжар   \n",
       "204963           другое       №4549       Каменевский регион    Глиногорск   \n",
       "208023         концерты       №1874       Каменевский регион    Глиногорск   \n",
       "225116         концерты       №4389     Североярская область        Озёрск   \n",
       "266994            спорт       №1531        Медовская область     Радужсвет   \n",
       "266998            спорт       №1531        Медовская область     Радужсвет   \n",
       "267051            спорт       №1531        Медовская область     Радужсвет   \n",
       "270034           другое       №4551       Каменевский регион    Глиногорск   \n",
       "280305           другое       №1764   Североключевской округ     Зоречанск   \n",
       "280309           другое       №1764   Североключевской округ     Зоречанск   \n",
       "287104            спорт       №1503     Чистогорская область    Песчанская   \n",
       "287304           другое       №1810      Яблоневская область      Горяново   \n",
       "289037         концерты       №2121       Каменевский регион    Глиногорск   \n",
       "\n",
       "       city_id venue_id                                         venue_name  \\\n",
       "13940       56     3005                       Арт-кафе \"Аксессуар\" Лимитед   \n",
       "23715       54     4443  Центр культурного наследия \"Объединение\" и пар...   \n",
       "38968       12     2492            Кинофестиваль \"Хранитель\" Инкорпорэйтед   \n",
       "45430       76     3094         Сообщество художников \"Палитра\" и партнеры   \n",
       "50523        2     2795  Клуб исторических реконструкций \"Логос\" и парт...   \n",
       "50527        2     2795  Клуб исторических реконструкций \"Логос\" и парт...   \n",
       "77897        2     1283        Клуб начинающих писателей \"Детство\" Лимитед   \n",
       "77899        2     1283        Клуб начинающих писателей \"Детство\" Лимитед   \n",
       "88301      213     3391                 Театральные мастерские \"Сюжет\" Инк   \n",
       "91471       43     4481           Школа сценического мастерства \"Вдох\" Лтд   \n",
       "111814       2     4607               Команда артистов \"Светлячок\" Лимитед   \n",
       "124286    1092     2474   Образовательное учреждение искусства \"Кубок\" Инк   \n",
       "139785     213     4017              Студия анимации \"Точка\" Инкорпорэйтед   \n",
       "139788     213     4017              Студия анимации \"Точка\" Инкорпорэйтед   \n",
       "139789     213     4017              Студия анимации \"Точка\" Инкорпорэйтед   \n",
       "139792     213     4017              Студия анимации \"Точка\" Инкорпорэйтед   \n",
       "158983      39     3939               Этнографический музей \"Магнит\" Групп   \n",
       "191716      20     2866                     Школа фотографии \"Золотое\" Инк   \n",
       "204963     213     3474             Креативное пространство \"Вдох\" Лимитед   \n",
       "208023     213     2304              Творческое объединение \"Гармония\" Инк   \n",
       "225116       2     2805      Центр культурного наследия \"Заряд\" и партнеры   \n",
       "266994      47     2157           Студия дизайна \"Платформа\" Инкорпорэйтед   \n",
       "266998      47     2157           Студия дизайна \"Платформа\" Инкорпорэйтед   \n",
       "267051      47     2157           Студия дизайна \"Платформа\" Инкорпорэйтед   \n",
       "270034     213     4363                  Студия дизайна \"Лестница\" Лимитед   \n",
       "280305    1092     1768                        Театр \"Задор\" Инкорпорэйтед   \n",
       "280309    1092     1768                        Театр \"Задор\" Инкорпорэйтед   \n",
       "287104      21     2155                        Клуб моделей \"Гармония\" Инк   \n",
       "287304   11036     1656                    Модная академия \"Пункт\" Лимитед   \n",
       "289037     213     1365                  Картинная галерея \"Светлячок\" Лтд   \n",
       "\n",
       "                             venue_address  \n",
       "13940           бул. Логовой, д. 94 к. 1/5  \n",
       "23715                бул. Карбышева, д. 50  \n",
       "38968           пр. Балтийский, д. 8 к. 51  \n",
       "45430       пр. Театральный, д. 161 стр. 2  \n",
       "50523           пр. Пушкина, д. 8/6 к. 482  \n",
       "50527           пр. Пушкина, д. 8/6 к. 482  \n",
       "77897                  ул. Заозерная, д. 9  \n",
       "77899                  ул. Заозерная, д. 9  \n",
       "88301   бул. Володарского, д. 237 стр. 9/3  \n",
       "91471                 пер. Полярный, д. 87  \n",
       "111814                пер. Невского, д. 72  \n",
       "124286           бул. Пролетарский, д. 332  \n",
       "139785        алл. Тамбовская, д. 7 к. 827  \n",
       "139788        алл. Тамбовская, д. 7 к. 827  \n",
       "139789        алл. Тамбовская, д. 7 к. 827  \n",
       "139792        алл. Тамбовская, д. 7 к. 827  \n",
       "158983               наб. Полярная, д. 874  \n",
       "191716        ш. Микрорайон, д. 79 стр. 50  \n",
       "204963            бул. Пригородный, д. 7/1  \n",
       "208023            наб. Партизанская, д. 47  \n",
       "225116           ш. Пугачева, д. 9/7 к. 39  \n",
       "266994            наб. Магистральная, д. 5  \n",
       "266998            наб. Магистральная, д. 5  \n",
       "267051            наб. Магистральная, д. 5  \n",
       "270034      наб. Школьная, д. 9/8 стр. 7/5  \n",
       "280305          пер. Боровой, д. 1 стр. 75  \n",
       "280309          пер. Боровой, д. 1 стр. 75  \n",
       "287104         ул. Прохладная, д. 8 к. 432  \n",
       "287304                бул. Гагарина, д. 39  \n",
       "289037   ул. Дальневосточная, д. 97 к. 1/4  \n",
       "\n",
       "[30 rows x 24 columns]"
      ]
     },
     "metadata": {},
     "output_type": "display_data"
    }
   ],
   "source": [
    "# 2. Проверка неявных дубликатов\n",
    "# Для проверки неявных дубликатов исключаем столбец 'order_id' и ищем дубликаты по остальным признакам\n",
    "non_explicit_duplicates = df.drop(columns='order_id').duplicated()\n",
    "display(\"\\nНеявные дубликаты:\")\n",
    "display(df[non_explicit_duplicates])"
   ]
  },
  {
   "cell_type": "code",
   "execution_count": 21,
   "metadata": {},
   "outputs": [
    {
     "data": {
      "text/plain": [
       "'Количество удалённых дубликатов: 30'"
      ]
     },
     "metadata": {},
     "output_type": "display_data"
    },
    {
     "data": {
      "text/plain": [
       "287781"
      ]
     },
     "execution_count": 21,
     "metadata": {},
     "output_type": "execute_result"
    }
   ],
   "source": [
    "# 1. Создаём копию датафрейма без 'order_id'\n",
    "df_no_order_id = df.drop(columns='order_id')\n",
    "\n",
    "# 2. Подсчитываем количество строк до удаления дубликатов\n",
    "total_rows_before = len(df_no_order_id)\n",
    "\n",
    "# 3. Удаляем дубликаты в df_no_order_id\n",
    "df_no_duplicates = df_no_order_id.drop_duplicates(keep='first')\n",
    "\n",
    "# 4. Подсчитываем количество строк после удаления дубликатов\n",
    "total_rows_after = len(df_no_duplicates)\n",
    "\n",
    "# 5. Количество удалённых дубликатов\n",
    "duplicates_removed = total_rows_before - total_rows_after\n",
    "\n",
    "# Выводим результат\n",
    "display(f\"Количество удалённых дубликатов: {duplicates_removed}\")\n",
    "df_no_duplicates.shape[0]"
   ]
  },
  {
   "cell_type": "markdown",
   "metadata": {},
   "source": [
    "*Промежуточные выводы*:\n",
    "- Явных дубликатов не обнаружено\n",
    "- Неявные дубликаты удалены(30), order_id оставлено первое значение "
   ]
  },
  {
   "cell_type": "markdown",
   "metadata": {},
   "source": [
    "### Проведите преобразования типов данных. Обратите внимание на типы данных с датой и временем, а также проверьте возможность снижения размерности количественных данных."
   ]
  },
  {
   "cell_type": "code",
   "execution_count": 22,
   "metadata": {
    "scrolled": true
   },
   "outputs": [
    {
     "data": {
      "text/plain": [
       "order_id                           int32\n",
       "user_id                         category\n",
       "created_dt_msk            datetime64[ns]\n",
       "created_ts_msk            datetime64[ns]\n",
       "event_id                           int32\n",
       "cinema_circuit                  category\n",
       "age_limit                           int8\n",
       "currency_code                   category\n",
       "device_type_canonical           category\n",
       "revenue                          float32\n",
       "service_name                    category\n",
       "tickets_count                       int8\n",
       "total                            float32\n",
       "days_since_prev                  float32\n",
       "event_name                      category\n",
       "event_type_description          category\n",
       "event_type_main                 category\n",
       "organizers                      category\n",
       "region_name                     category\n",
       "city_name                       category\n",
       "city_id                            int32\n",
       "venue_id                           int16\n",
       "venue_name                      category\n",
       "venue_address                   category\n",
       "dtype: object"
      ]
     },
     "metadata": {},
     "output_type": "display_data"
    }
   ],
   "source": [
    "# Применим типизацию для всех числовых столбцов (int64, float64)\n",
    "def optimize_numeric_types(df):\n",
    "    for col in df.select_dtypes(include=['int64', 'float64']):\n",
    "        # Если столбец содержит целые числа\n",
    "        if df[col].dtype == 'int64':\n",
    "            # Пробуем преобразовать в более компактные типы\n",
    "            min_val, max_val = df[col].min(), df[col].max()\n",
    "            if min_val >= -2**7 and max_val <= 2**7 - 1:\n",
    "                df[col] = df[col].astype('int8')\n",
    "            elif min_val >= -2**15 and max_val <= 2**15 - 1:\n",
    "                df[col] = df[col].astype('int16')\n",
    "            elif min_val >= -2**31 and max_val <= 2**31 - 1:\n",
    "                df[col] = df[col].astype('int32')\n",
    "            else:\n",
    "                df[col] = df[col].astype('int64')\n",
    "        # Если столбец содержит вещественные числа\n",
    "        elif df[col].dtype == 'float64':\n",
    "            # Преобразуем в float32 для экономии памяти, если возможно\n",
    "            df[col] = df[col].astype('float32')\n",
    "    return df\n",
    "\n",
    "# Преобразуем категориальные столбцы в pd.Categorical\n",
    "def optimize_categorical_types(df):\n",
    "    for col in df.select_dtypes(include=['object']):\n",
    "        num_unique_values = len(df[col].unique())\n",
    "        num_total_values = len(df[col])\n",
    "        # Если уникальных значений мало по сравнению с общим количеством\n",
    "        if num_unique_values / num_total_values < 0.5:\n",
    "            df[col] = df[col].astype('category')\n",
    "    return df\n",
    "\n",
    "# Применяем обе оптимизации\n",
    "df = optimize_numeric_types(df)\n",
    "df = optimize_categorical_types(df)\n",
    "\n",
    "# Проверяем результат\n",
    "display(df.dtypes)"
   ]
  },
  {
   "cell_type": "markdown",
   "metadata": {},
   "source": [
    "*Промежуточные выводы*:\n",
    "\n",
    "Типы данных:\n",
    "- Оптимизация типов данных позволила существенно уменьшить объем памяти, который занимают данные.\n",
    "\n",
    "- Работа с данными стала более быстрой и эффективной, особенно при анализе больших объемов информации.\n",
    "- Есть значительные выбросы как по доходам, так и по количеству билетов, особенно по доходам (включая отрицательные значения).\n"
   ]
  },
  {
   "cell_type": "markdown",
   "metadata": {},
   "source": [
    "### Создайте несколько новых столбцов:\n",
    "revenue_rub — приведите выручку с заказа к единой валюте — российскому рублю. Для этого используйте датасет с информацией о курсе казахстанского тенге по отношению к российскому рублю final_tickets_tenge_df.csv за 2024 год. Значения в рублях представлены для 100 тенге.\n",
    "one_ticket_revenue_rub — рассчитайте выручку с продажи одного билета на мероприятие.\n",
    "month — выделите месяц оформления заказа в отдельный столбец.\n",
    "season — создайте столбец с информацией о сезонности, включая такие категории, как: 'лето', 'осень', 'зима', 'весна'."
   ]
  },
  {
   "cell_type": "code",
   "execution_count": 23,
   "metadata": {},
   "outputs": [
    {
     "data": {
      "text/plain": [
       "\"Первые 5 строк с валютой 'rub':\""
      ]
     },
     "metadata": {},
     "output_type": "display_data"
    },
    {
     "data": {
      "text/html": [
       "<div>\n",
       "<style scoped>\n",
       "    .dataframe tbody tr th:only-of-type {\n",
       "        vertical-align: middle;\n",
       "    }\n",
       "\n",
       "    .dataframe tbody tr th {\n",
       "        vertical-align: top;\n",
       "    }\n",
       "\n",
       "    .dataframe thead th {\n",
       "        text-align: right;\n",
       "    }\n",
       "</style>\n",
       "<table border=\"1\" class=\"dataframe\">\n",
       "  <thead>\n",
       "    <tr style=\"text-align: right;\">\n",
       "      <th></th>\n",
       "      <th>order_id</th>\n",
       "      <th>currency_code</th>\n",
       "      <th>revenue</th>\n",
       "      <th>revenue_rub</th>\n",
       "      <th>created_dt_msk</th>\n",
       "    </tr>\n",
       "  </thead>\n",
       "  <tbody>\n",
       "    <tr>\n",
       "      <th>0</th>\n",
       "      <td>4477195</td>\n",
       "      <td>rub</td>\n",
       "      <td>212.039993</td>\n",
       "      <td>212.039993</td>\n",
       "      <td>2024-10-27</td>\n",
       "    </tr>\n",
       "    <tr>\n",
       "      <th>1</th>\n",
       "      <td>4477166</td>\n",
       "      <td>rub</td>\n",
       "      <td>424.079987</td>\n",
       "      <td>424.079987</td>\n",
       "      <td>2024-10-27</td>\n",
       "    </tr>\n",
       "    <tr>\n",
       "      <th>2</th>\n",
       "      <td>4477137</td>\n",
       "      <td>rub</td>\n",
       "      <td>424.079987</td>\n",
       "      <td>424.079987</td>\n",
       "      <td>2024-10-27</td>\n",
       "    </tr>\n",
       "    <tr>\n",
       "      <th>3</th>\n",
       "      <td>4477108</td>\n",
       "      <td>rub</td>\n",
       "      <td>424.079987</td>\n",
       "      <td>424.079987</td>\n",
       "      <td>2024-10-27</td>\n",
       "    </tr>\n",
       "    <tr>\n",
       "      <th>4</th>\n",
       "      <td>544911</td>\n",
       "      <td>rub</td>\n",
       "      <td>212.039993</td>\n",
       "      <td>212.039993</td>\n",
       "      <td>2024-09-17</td>\n",
       "    </tr>\n",
       "  </tbody>\n",
       "</table>\n",
       "</div>"
      ],
      "text/plain": [
       "   order_id currency_code     revenue  revenue_rub created_dt_msk\n",
       "0   4477195           rub  212.039993   212.039993     2024-10-27\n",
       "1   4477166           rub  424.079987   424.079987     2024-10-27\n",
       "2   4477137           rub  424.079987   424.079987     2024-10-27\n",
       "3   4477108           rub  424.079987   424.079987     2024-10-27\n",
       "4    544911           rub  212.039993   212.039993     2024-09-17"
      ]
     },
     "metadata": {},
     "output_type": "display_data"
    },
    {
     "data": {
      "text/plain": [
       "\"\\nПервые 5 строк с валютой 'kzt':\""
      ]
     },
     "metadata": {},
     "output_type": "display_data"
    },
    {
     "data": {
      "text/html": [
       "<div>\n",
       "<style scoped>\n",
       "    .dataframe tbody tr th:only-of-type {\n",
       "        vertical-align: middle;\n",
       "    }\n",
       "\n",
       "    .dataframe tbody tr th {\n",
       "        vertical-align: top;\n",
       "    }\n",
       "\n",
       "    .dataframe thead th {\n",
       "        text-align: right;\n",
       "    }\n",
       "</style>\n",
       "<table border=\"1\" class=\"dataframe\">\n",
       "  <thead>\n",
       "    <tr style=\"text-align: right;\">\n",
       "      <th></th>\n",
       "      <th>order_id</th>\n",
       "      <th>currency_code</th>\n",
       "      <th>revenue</th>\n",
       "      <th>revenue_rub</th>\n",
       "      <th>created_dt_msk</th>\n",
       "    </tr>\n",
       "  </thead>\n",
       "  <tbody>\n",
       "    <tr>\n",
       "      <th>8524</th>\n",
       "      <td>2891098</td>\n",
       "      <td>kzt</td>\n",
       "      <td>1131.380005</td>\n",
       "      <td>224.712434</td>\n",
       "      <td>2024-06-09</td>\n",
       "    </tr>\n",
       "    <tr>\n",
       "      <th>22519</th>\n",
       "      <td>4974371</td>\n",
       "      <td>kzt</td>\n",
       "      <td>1485.640015</td>\n",
       "      <td>296.037543</td>\n",
       "      <td>2024-10-28</td>\n",
       "    </tr>\n",
       "    <tr>\n",
       "      <th>22520</th>\n",
       "      <td>3768928</td>\n",
       "      <td>kzt</td>\n",
       "      <td>594.260010</td>\n",
       "      <td>111.048180</td>\n",
       "      <td>2024-09-03</td>\n",
       "    </tr>\n",
       "    <tr>\n",
       "      <th>22521</th>\n",
       "      <td>3768841</td>\n",
       "      <td>kzt</td>\n",
       "      <td>594.260010</td>\n",
       "      <td>111.048180</td>\n",
       "      <td>2024-09-03</td>\n",
       "    </tr>\n",
       "    <tr>\n",
       "      <th>22522</th>\n",
       "      <td>8135458</td>\n",
       "      <td>kzt</td>\n",
       "      <td>594.260010</td>\n",
       "      <td>113.623702</td>\n",
       "      <td>2024-08-25</td>\n",
       "    </tr>\n",
       "  </tbody>\n",
       "</table>\n",
       "</div>"
      ],
      "text/plain": [
       "       order_id currency_code      revenue  revenue_rub created_dt_msk\n",
       "8524    2891098           kzt  1131.380005   224.712434     2024-06-09\n",
       "22519   4974371           kzt  1485.640015   296.037543     2024-10-28\n",
       "22520   3768928           kzt   594.260010   111.048180     2024-09-03\n",
       "22521   3768841           kzt   594.260010   111.048180     2024-09-03\n",
       "22522   8135458           kzt   594.260010   113.623702     2024-08-25"
      ]
     },
     "metadata": {},
     "output_type": "display_data"
    }
   ],
   "source": [
    "# Мы соединяем по дате, где дата из основного датафрейма (created_dt_msk) должна совпадать с датой в df_tenge\n",
    "df = pd.merge(df, df_tenge[['data', 'curs']], left_on='created_dt_msk', right_on='data', how='left')\n",
    "\n",
    "# Теперь, создаем столбец revenue_rub в зависимости от валюты\n",
    "df['revenue_rub'] = df.apply(\n",
    "    lambda row: row['revenue'] if row['currency_code'] == 'rub' \n",
    "    else row['revenue'] * row['curs'] / 100 if row['currency_code'] == 'kzt' \n",
    "    else row['revenue'], axis=1)\n",
    "\n",
    "# Удаляем лишние столбцы после слияния, если они не нужны\n",
    "df.drop(columns=['data', 'curs'], inplace=True)\n",
    "\n",
    "# Проверим результат\n",
    "# Фильтруем строки с валютой 'rub' и 'kzt'\n",
    "rub_rows = df[df['currency_code'] == 'rub'].head(5)\n",
    "kzt_rows = df[df['currency_code'] == 'kzt'].head(5)\n",
    "\n",
    "# Выводим результаты\n",
    "display(\"Первые 5 строк с валютой 'rub':\")\n",
    "display(rub_rows[['order_id', 'currency_code', 'revenue', 'revenue_rub', 'created_dt_msk']])\n",
    "\n",
    "display(\"\\nПервые 5 строк с валютой 'kzt':\")\n",
    "display(kzt_rows[['order_id', 'currency_code', 'revenue', 'revenue_rub', 'created_dt_msk']])"
   ]
  },
  {
   "cell_type": "code",
   "execution_count": 24,
   "metadata": {
    "scrolled": true
   },
   "outputs": [
    {
     "data": {
      "text/html": [
       "<div>\n",
       "<style scoped>\n",
       "    .dataframe tbody tr th:only-of-type {\n",
       "        vertical-align: middle;\n",
       "    }\n",
       "\n",
       "    .dataframe tbody tr th {\n",
       "        vertical-align: top;\n",
       "    }\n",
       "\n",
       "    .dataframe thead th {\n",
       "        text-align: right;\n",
       "    }\n",
       "</style>\n",
       "<table border=\"1\" class=\"dataframe\">\n",
       "  <thead>\n",
       "    <tr style=\"text-align: right;\">\n",
       "      <th></th>\n",
       "      <th>order_id</th>\n",
       "      <th>revenue_rub</th>\n",
       "      <th>tickets_count</th>\n",
       "      <th>one_ticket_revenue</th>\n",
       "    </tr>\n",
       "  </thead>\n",
       "  <tbody>\n",
       "    <tr>\n",
       "      <th>0</th>\n",
       "      <td>4477195</td>\n",
       "      <td>212.039993</td>\n",
       "      <td>1</td>\n",
       "      <td>212.039993</td>\n",
       "    </tr>\n",
       "    <tr>\n",
       "      <th>1</th>\n",
       "      <td>4477166</td>\n",
       "      <td>424.079987</td>\n",
       "      <td>2</td>\n",
       "      <td>212.039993</td>\n",
       "    </tr>\n",
       "    <tr>\n",
       "      <th>2</th>\n",
       "      <td>4477137</td>\n",
       "      <td>424.079987</td>\n",
       "      <td>2</td>\n",
       "      <td>212.039993</td>\n",
       "    </tr>\n",
       "    <tr>\n",
       "      <th>3</th>\n",
       "      <td>4477108</td>\n",
       "      <td>424.079987</td>\n",
       "      <td>2</td>\n",
       "      <td>212.039993</td>\n",
       "    </tr>\n",
       "    <tr>\n",
       "      <th>4</th>\n",
       "      <td>544911</td>\n",
       "      <td>212.039993</td>\n",
       "      <td>1</td>\n",
       "      <td>212.039993</td>\n",
       "    </tr>\n",
       "  </tbody>\n",
       "</table>\n",
       "</div>"
      ],
      "text/plain": [
       "   order_id  revenue_rub  tickets_count  one_ticket_revenue\n",
       "0   4477195   212.039993              1          212.039993\n",
       "1   4477166   424.079987              2          212.039993\n",
       "2   4477137   424.079987              2          212.039993\n",
       "3   4477108   424.079987              2          212.039993\n",
       "4    544911   212.039993              1          212.039993"
      ]
     },
     "metadata": {},
     "output_type": "display_data"
    }
   ],
   "source": [
    "# Рассчитываем выручку с продажи одного билета с учетом выручки в рублях\n",
    "df['one_ticket_revenue'] = df.apply(\n",
    "    lambda row: row['revenue_rub'] / row['tickets_count'] if row['tickets_count'] > 0 else 0,\n",
    "    axis=1\n",
    ")\n",
    "\n",
    "# Проверим результат\n",
    "display(df[['order_id', 'revenue_rub', 'tickets_count', 'one_ticket_revenue']].head())\n"
   ]
  },
  {
   "cell_type": "code",
   "execution_count": 25,
   "metadata": {},
   "outputs": [
    {
     "data": {
      "text/plain": [
       "array([10,  9,  8,  7,  6])"
      ]
     },
     "metadata": {},
     "output_type": "display_data"
    }
   ],
   "source": [
    "# Выделяем месяц оформления заказа в отдельный столбец\n",
    "df['month'] = df['created_dt_msk'].dt.month\n",
    "\n",
    "# Проверим результат\n",
    "display(df['month'].unique())\n"
   ]
  },
  {
   "cell_type": "code",
   "execution_count": 26,
   "metadata": {
    "scrolled": false
   },
   "outputs": [
    {
     "data": {
      "text/html": [
       "<div>\n",
       "<style scoped>\n",
       "    .dataframe tbody tr th:only-of-type {\n",
       "        vertical-align: middle;\n",
       "    }\n",
       "\n",
       "    .dataframe tbody tr th {\n",
       "        vertical-align: top;\n",
       "    }\n",
       "\n",
       "    .dataframe thead th {\n",
       "        text-align: right;\n",
       "    }\n",
       "</style>\n",
       "<table border=\"1\" class=\"dataframe\">\n",
       "  <thead>\n",
       "    <tr style=\"text-align: right;\">\n",
       "      <th></th>\n",
       "      <th>order_id</th>\n",
       "      <th>month</th>\n",
       "      <th>season</th>\n",
       "    </tr>\n",
       "  </thead>\n",
       "  <tbody>\n",
       "    <tr>\n",
       "      <th>0</th>\n",
       "      <td>4477195</td>\n",
       "      <td>10</td>\n",
       "      <td>Осень</td>\n",
       "    </tr>\n",
       "    <tr>\n",
       "      <th>1</th>\n",
       "      <td>4477166</td>\n",
       "      <td>10</td>\n",
       "      <td>Осень</td>\n",
       "    </tr>\n",
       "    <tr>\n",
       "      <th>2</th>\n",
       "      <td>4477137</td>\n",
       "      <td>10</td>\n",
       "      <td>Осень</td>\n",
       "    </tr>\n",
       "    <tr>\n",
       "      <th>3</th>\n",
       "      <td>4477108</td>\n",
       "      <td>10</td>\n",
       "      <td>Осень</td>\n",
       "    </tr>\n",
       "    <tr>\n",
       "      <th>4</th>\n",
       "      <td>544911</td>\n",
       "      <td>9</td>\n",
       "      <td>Осень</td>\n",
       "    </tr>\n",
       "  </tbody>\n",
       "</table>\n",
       "</div>"
      ],
      "text/plain": [
       "   order_id  month season\n",
       "0   4477195     10  Осень\n",
       "1   4477166     10  Осень\n",
       "2   4477137     10  Осень\n",
       "3   4477108     10  Осень\n",
       "4    544911      9  Осень"
      ]
     },
     "metadata": {},
     "output_type": "display_data"
    }
   ],
   "source": [
    "# Функция для определения сезона\n",
    "def get_season(month):\n",
    "    if month in [12, 1, 2]:\n",
    "        return 'Зима'\n",
    "    elif month in [3, 4, 5]:\n",
    "        return 'Весна'\n",
    "    elif month in [6, 7, 8]:\n",
    "        return 'Лето'\n",
    "    else:\n",
    "        return 'Осень'\n",
    "\n",
    "# Создаем столбец season\n",
    "df['season'] = df['month'].apply(get_season)\n",
    "\n",
    "# Проверим результат\n",
    "display(df[['order_id', 'month', 'season']].head())\n"
   ]
  },
  {
   "cell_type": "markdown",
   "metadata": {},
   "source": [
    "Мы добавили 4 новых столбца в датафрейм:\n",
    "\n",
    "- `revenue_rub` — выручка с заказа, приведенная к российскому рублю, с учетом курса тенге к рублю (для валюты kzt).\n",
    "\n",
    "- `one_ticket_revenue` — выручка с продажи одного билета, рассчитанная как отношение общей выручки (revenue_rub) к количеству проданных билетов (tickets_count).\n",
    "\n",
    "- `month` — месяц оформления заказа, извлеченный из столбца с датой (created_dt_msk).\n",
    "\n",
    "- `season` — сезон, соответствующий месяцу оформления заказа, определенный на основе числового значения месяца (лето, осень, зима, весна).\n",
    "\n",
    "Эти столбцы позволяют более детально анализировать данные, включая выручку в рублях, выручку на билет, время заказа и сезонность."
   ]
  },
  {
   "cell_type": "markdown",
   "metadata": {},
   "source": [
    "### Промежуточный вывод 2 раздела:\n"
   ]
  },
  {
   "cell_type": "markdown",
   "metadata": {},
   "source": [
    "- Категории:\n",
    "\n",
    "В столбце cinema_circuit встречается значение 'нет', что может означать отсутствие информации о кинотеатральной сети.\n",
    "\n",
    "В столбцах с географическими данными могут присутствовать дубликаты или нетипичные (возможно, ошибочные) названия мест, таких как city_name и venue_name.\n",
    "\n",
    "Количественные значения:\n",
    "\n",
    "- Средние значения для количества билетов (около 3) и выручки (около 625) указывают на то, что для большинства записей характерны небольшие заказы с умеренными доходами.\n",
    "\n",
    "- Однако существуют экстремальные значения, включая высокие доходы и большое количество билетов, что может быть связано с особенностями пользователей (например, крупные заказы) или ошибками в данных.\n",
    "\n",
    "Дубликаты:\n",
    "\n",
    "- Явных дубликатов в данных не обнаружено.\n",
    "\n",
    "- Неявные дубликаты были удалены (30 записей), при этом оставлено первое значение для каждого order_id.\n",
    "\n",
    "Типы данных:\n",
    "\n",
    "Оптимизация типов данных значительно снизила объем памяти, необходимый для хранения данных, что сделало работу с ними более быстрой и эффективной, особенно при анализе больших объемов информации.\n",
    "\n",
    "Выбросы:\n",
    "\n",
    "Обнаружены значительные выбросы по доходам и количеству билетов, особенно по доходам, включая отрицательные значения. Эти выбросы могут быть связаны с ошибками в данных или необычными ситуациями.\n",
    "\n",
    "Новые столбцы:\n",
    "\n",
    "- `revenue_rub` — выручка, приведенная к российскому рублю с учетом курса тенге (для валюты kzt).\n",
    "\n",
    "- `one_ticket_revenue` — выручка с продажи одного билета, рассчитанная как отношение общей выручки (revenue_rub) к количеству билетов (tickets_count).\n",
    "- `month` — месяц оформления заказа, извлеченный из столбца created_dt_msk.\n",
    "- `season` — сезон, соответствующий месяцу оформления заказа, определенный на основе месяца (лето, осень, зима, весна).\n"
   ]
  },
  {
   "cell_type": "markdown",
   "metadata": {},
   "source": [
    "## Исследовательский анализ данных\n",
    "\n",
    "<font color='#777778'>\n",
    "\n",
    "</font>"
   ]
  },
  {
   "cell_type": "markdown",
   "metadata": {},
   "source": [
    "Анализ дашборда показал, что в данных наблюдается сезонность — осенью количество заказов увеличивается. На стадии исследовательского анализа изучите изменение пользовательской активности или пользовательского интереса в связи с сезонностью. Анализируйте динамику по таким разрезам:\n",
    "тип мероприятия event_type_main;\n",
    "тип устройства device_type_canonical;\n",
    "категория мероприятий по возрастному рейтингу age_limit.\n",
    "В этом разделе изучите распределение заказов по сегментам и их сезонные изменения, выполнив следующие шаги:"
   ]
  },
  {
   "cell_type": "markdown",
   "metadata": {},
   "source": [
    "### Анализ распределения заказов по сегментам и их сезонные изменения"
   ]
  },
  {
   "cell_type": "markdown",
   "metadata": {},
   "source": [
    "Для каждого месяца найдите количество заказов и визуализируйте результаты. Проверьте, фиксируется ли увеличение заказов от июня к ноябрю 2024 года."
   ]
  },
  {
   "cell_type": "code",
   "execution_count": 27,
   "metadata": {},
   "outputs": [
    {
     "data": {
      "image/png": "[encoded data removed]",
      "text/plain": [
       "<Figure size 720x432 with 1 Axes>"
      ]
     },
     "metadata": {
      "needs_background": "light"
     },
     "output_type": "display_data"
    },
    {
     "data": {
      "text/plain": [
       "month\n",
       "6     34200\n",
       "7     40408\n",
       "8     44557\n",
       "9     69355\n",
       "10    99291\n",
       "Name: order_id, dtype: int64"
      ]
     },
     "metadata": {},
     "output_type": "display_data"
    },
    {
     "data": {
      "text/plain": [
       "'\\nПроцентное увеличение с июня по ноябрь 2024:'"
      ]
     },
     "metadata": {},
     "output_type": "display_data"
    },
    {
     "data": {
      "text/plain": [
       "month\n",
       "6       nan%\n",
       "7     18.15%\n",
       "8     10.27%\n",
       "9     55.65%\n",
       "10    43.16%\n",
       "Name: order_id, dtype: object"
      ]
     },
     "metadata": {},
     "output_type": "display_data"
    }
   ],
   "source": [
    "# Группируем данные по месяцам и считаем количество заказов\n",
    "monthly_orders = df.groupby('month')['order_id'].count()\n",
    "\n",
    "# Рассчитываем процентное изменение от месяца к месяцу\n",
    "monthly_orders_pct_change = monthly_orders.pct_change() * 100  # Процентное изменение\n",
    "\n",
    "# Визуализируем результат\n",
    "plt.figure(figsize=(10, 6))\n",
    "sns.lineplot(x=monthly_orders.index, y=monthly_orders.values, marker='o')\n",
    "\n",
    "# Добавляем аннотации для каждого значения\n",
    "for i in range(len(monthly_orders)):\n",
    "    plt.text(monthly_orders.index[i], monthly_orders.values[i] + 10, str(monthly_orders.values[i]), ha='center', fontsize=12)\n",
    "\n",
    "# Настроим график\n",
    "plt.title('Количество заказов по месяцам (2024)', fontsize=16)\n",
    "plt.xlabel('Месяц', fontsize=12)\n",
    "plt.ylabel('Количество заказов', fontsize=12)\n",
    "\n",
    "# Получаем уникальные месяцы, которые присутствуют в данных\n",
    "month_labels = ['Январь', 'Февраль', 'Март', 'Апрель', 'Май', 'Июнь', 'Июль', 'Август', 'Сентябрь', 'Октябрь', 'Ноябрь', 'Декабрь']\n",
    "filtered_month_labels = [month_labels[i-1] for i in monthly_orders.index]\n",
    "\n",
    "# Устанавливаем метки на оси X\n",
    "plt.xticks(monthly_orders.index, filtered_month_labels)\n",
    "\n",
    "plt.grid(True)\n",
    "plt.tight_layout()\n",
    "\n",
    "# Показать график\n",
    "plt.show()\n",
    "\n",
    "# Проверим, фиксируется ли увеличение заказов от июня к ноябрю 2024 года\n",
    "orders_june_to_november = monthly_orders.loc[6:11]  # Месяцы с июня по ноябрь (6,7,8,...,11)\n",
    "display(orders_june_to_november)\n",
    "\n",
    "# Проверяем процентное увеличение\n",
    "pct_change_june_to_november = monthly_orders_pct_change.loc[6:11]\n",
    "display(\"\\nПроцентное увеличение с июня по ноябрь 2024:\")\n",
    "# Добавим знак процента в вывод\n",
    "display(pct_change_june_to_november.apply(lambda x: f'{x:.2f}%'))"
   ]
  },
  {
   "cell_type": "markdown",
   "metadata": {},
   "source": [
    "*Промежуточный вывод*\n",
    "\n",
    "- Мы видим четкую тенденцию к увеличению заказов от июня к ноябрю, что может указывать на рост спроса на билеты в это время.\n",
    "\n",
    "- Этот анализ поможет нам понять сезонные колебания и выявить возможные тренды в спросе на события, а также позволяет прогнозировать увеличение продаж в определенные месяцы."
   ]
  },
  {
   "cell_type": "markdown",
   "metadata": {},
   "source": [
    "Для осеннего и летнего периодов сравните распределение заказов билетов по разным категориям: тип мероприятия, тип устройства, категория мероприятия по возрастному рейтингу. Результаты визуализируйте подходящим графиком, который поможет сопоставить значения для летнего и осеннего сезонов. Рекомендация: поскольку абсолютное количество заказов в разные сезоны может меняться, при сопоставлении результатов для каждого сегмента используйте доли."
   ]
  },
  {
   "cell_type": "code",
   "execution_count": 28,
   "metadata": {
    "scrolled": false
   },
   "outputs": [
    {
     "name": "stdout",
     "output_type": "stream",
     "text": [
      "               Лето      Осень\n",
      "концерты  42.628289  37.203966\n",
      "другое    27.169051  19.703995\n",
      "театр     20.097344  25.341247\n",
      "стендап    5.325389   4.105048\n",
      "спорт      2.522553  11.198605\n",
      "выставки   2.028280   1.444446\n",
      "ёлки       0.229094   1.002692\n"
     ]
    },
    {
     "data": {
      "text/plain": [
       "<Figure size 720x432 with 0 Axes>"
      ]
     },
     "metadata": {},
     "output_type": "display_data"
    },
    {
     "data": {
      "image/png": "[encoded data removed]",
      "text/plain": [
       "<Figure size 432x288 with 1 Axes>"
      ]
     },
     "metadata": {
      "needs_background": "light"
     },
     "output_type": "display_data"
    }
   ],
   "source": [
    "# Фильтруем данные для летнего и осеннего сезонов\n",
    "summer_df = df[df['season'] == 'Лето']\n",
    "autumn_df = df[df['season'] == 'Осень']\n",
    "\n",
    "# Создаем сводную таблицу по типу мероприятия для летнего сезона\n",
    "summer_event_type_pivot = summer_df['event_type_main'].value_counts(normalize=True) * 100\n",
    "\n",
    "# Создаем сводную таблицу по типу мероприятия для осеннего сезона\n",
    "autumn_event_type_pivot = autumn_df['event_type_main'].value_counts(normalize=True) * 100\n",
    "\n",
    "# Объединяем данные по летнему и осеннему сезонам в одну таблицу, используя reindex для согласования индексов\n",
    "event_type_comparison = pd.DataFrame({\n",
    "    'Лето': summer_event_type_pivot,\n",
    "    'Осень': autumn_event_type_pivot\n",
    "}).fillna(0)  # Заполняем пропуски нулями для категорий, которые не встречаются в одном из сезонов\n",
    "\n",
    "# Сортируем по индексу по убыванию\n",
    "event_type_comparison = event_type_comparison.sort_values(by=['Лето', 'Осень'], ascending=False)\n",
    "\n",
    "# Печатаем сводную таблицу для проверки\n",
    "print(event_type_comparison)\n",
    "\n",
    "# Визуализируем результат с помощью столбчатой диаграммы\n",
    "plt.figure(figsize=(10, 6))\n",
    "event_type_comparison.plot(kind='bar', color=['skyblue', 'orange'], width=0.8)\n",
    "plt.title('Распределение заказов по типу мероприятия', fontsize=16)\n",
    "plt.xlabel('Тип мероприятия', fontsize=12)\n",
    "plt.ylabel('Доля (%)', fontsize=12)\n",
    "plt.xticks(rotation=45, ha='right')\n",
    "plt.legend(title='Сезон', fontsize=12)\n",
    "plt.tight_layout()\n",
    "\n",
    "plt.show()\n"
   ]
  },
  {
   "cell_type": "code",
   "execution_count": 29,
   "metadata": {},
   "outputs": [
    {
     "name": "stdout",
     "output_type": "stream",
     "text": [
      "              Лето      Осень\n",
      "mobile   80.630219  79.656796\n",
      "desktop  19.369781  20.343204\n"
     ]
    },
    {
     "data": {
      "text/plain": [
       "<Figure size 720x432 with 0 Axes>"
      ]
     },
     "metadata": {},
     "output_type": "display_data"
    },
    {
     "data": {
      "image/png": "[encoded data removed]",
      "text/plain": [
       "<Figure size 432x288 with 1 Axes>"
      ]
     },
     "metadata": {
      "needs_background": "light"
     },
     "output_type": "display_data"
    }
   ],
   "source": [
    "# Создаем сводную таблицу по типу устройства для летнего сезона\n",
    "summer_device_type_pivot = summer_df['device_type_canonical'].value_counts(normalize=True) * 100\n",
    "\n",
    "# Создаем сводную таблицу по типу устройства для осеннего сезона\n",
    "autumn_device_type_pivot = autumn_df['device_type_canonical'].value_counts(normalize=True) * 100\n",
    "\n",
    "# Объединяем данные по летнему и осеннему сезонам в одну таблицу\n",
    "device_type_comparison = pd.DataFrame({\n",
    "    'Лето': summer_device_type_pivot,\n",
    "    'Осень': autumn_device_type_pivot\n",
    "})\n",
    "\n",
    "# Печатаем сводную таблицу для проверки\n",
    "print(device_type_comparison)\n",
    "\n",
    "# Визуализируем результат с помощью столбчатой диаграммы\n",
    "plt.figure(figsize=(10, 6))\n",
    "device_type_comparison.plot(kind='bar', color=['skyblue', 'orange'], width=0.8)\n",
    "plt.title('Распределение заказов по типу устройства', fontsize=16)\n",
    "plt.xlabel('Тип устройства', fontsize=12)\n",
    "plt.ylabel('Доля (%)', fontsize=12)\n",
    "plt.xticks(rotation=45, ha='right')\n",
    "plt.legend(title='Сезон', fontsize=12)\n",
    "plt.tight_layout()\n",
    "\n",
    "plt.show()\n"
   ]
  },
  {
   "cell_type": "code",
   "execution_count": 30,
   "metadata": {},
   "outputs": [
    {
     "name": "stdout",
     "output_type": "stream",
     "text": [
      "         Лето      Осень\n",
      "16  28.327949  26.219418\n",
      "12  20.554693  22.097767\n",
      "6   18.189905  17.625084\n",
      "0   17.965007  23.619890\n",
      "18  14.962447  10.437840\n"
     ]
    },
    {
     "data": {
      "text/plain": [
       "<Figure size 720x432 with 0 Axes>"
      ]
     },
     "metadata": {},
     "output_type": "display_data"
    },
    {
     "data": {
      "image/png": "[encoded data removed]",
      "text/plain": [
       "<Figure size 432x288 with 1 Axes>"
      ]
     },
     "metadata": {
      "needs_background": "light"
     },
     "output_type": "display_data"
    }
   ],
   "source": [
    "# Создаем сводную таблицу по возрастному рейтингу для летнего сезона\n",
    "summer_age_limit_pivot = summer_df['age_limit'].value_counts(normalize=True) * 100\n",
    "\n",
    "# Создаем сводную таблицу по возрастному рейтингу для осеннего сезона\n",
    "autumn_age_limit_pivot = autumn_df['age_limit'].value_counts(normalize=True) * 100\n",
    "\n",
    "# Объединяем данные по летнему и осеннему сезонам в одну таблицу, используя reindex для согласования индексов\n",
    "age_limit_comparison = pd.DataFrame({\n",
    "    'Лето': summer_age_limit_pivot,\n",
    "    'Осень': autumn_age_limit_pivot\n",
    "}).fillna(0)  # Заполняем пропуски нулями для категорий, которые не встречаются в одном из сезонов\n",
    "\n",
    "# Сортируем по индексу по убыванию\n",
    "age_limit_comparison = age_limit_comparison.sort_values(by=['Лето', 'Осень'], ascending=False)\n",
    "\n",
    "# Печатаем сводную таблицу для проверки\n",
    "print(age_limit_comparison)\n",
    "\n",
    "# Визуализируем результат с помощью столбчатой диаграммы\n",
    "plt.figure(figsize=(10, 6))\n",
    "age_limit_comparison.plot(kind='bar', color=['skyblue', 'orange'], width=0.8)\n",
    "plt.title('Распределение заказов по возрастному рейтингу', fontsize=16)\n",
    "plt.xlabel('Возрастной рейтинг', fontsize=12)\n",
    "plt.ylabel('Доля (%)', fontsize=12)\n",
    "plt.xticks(rotation=45, ha='right')\n",
    "plt.legend(title='Сезон', fontsize=12)\n",
    "plt.tight_layout()\n",
    "\n",
    "plt.show()\n",
    "\n"
   ]
  },
  {
   "cell_type": "markdown",
   "metadata": {},
   "source": [
    "*Промежуточные выводы*\n",
    "\n",
    "- Концерты и стендап теряют популярность осенью, что может быть связано с уменьшением открытых мероприятий и сезонными предпочтениями аудитории.\n",
    "\n",
    "- Спортивные мероприятия становятся более популярными осенью.\n",
    "\n",
    "- На мобильных устройствах делается основная часть заказов в обоих сезонах, но осенью доля десктопных пользователей немного увеличивается.\n",
    "\n",
    "- Возрастной рейтинг 16 и 12 лет остаются ключевыми для обоих сезонов, с небольшими колебаниями интереса в зависимости от сезона."
   ]
  },
  {
   "cell_type": "markdown",
   "metadata": {},
   "source": [
    "Изучите изменение выручки с продажи одного билета в зависимости от типа мероприятия летом и осенью. Видна ли динамика средней стоимости билета в разрезе разных категорий мероприятий? Для каждого типа мероприятия рассчитайте среднее значение выручки с одного билета, затем найдите относительное изменение осенних значений по сравнению с летними. Результат сопроводите подходящей визуализацией."
   ]
  },
  {
   "cell_type": "code",
   "execution_count": 31,
   "metadata": {},
   "outputs": [
    {
     "data": {
      "text/plain": [
       "'Сводная таблица с относительным изменением выручки с одного билета по типам мероприятий для летнего и осеннего сезонов:'"
      ]
     },
     "metadata": {},
     "output_type": "display_data"
    },
    {
     "data": {
      "text/html": [
       "<div>\n",
       "<style scoped>\n",
       "    .dataframe tbody tr th:only-of-type {\n",
       "        vertical-align: middle;\n",
       "    }\n",
       "\n",
       "    .dataframe tbody tr th {\n",
       "        vertical-align: top;\n",
       "    }\n",
       "\n",
       "    .dataframe thead th {\n",
       "        text-align: right;\n",
       "    }\n",
       "</style>\n",
       "<table border=\"1\" class=\"dataframe\">\n",
       "  <thead>\n",
       "    <tr style=\"text-align: right;\">\n",
       "      <th></th>\n",
       "      <th>Лето</th>\n",
       "      <th>Осень</th>\n",
       "      <th>Относительное изменение (%)</th>\n",
       "    </tr>\n",
       "    <tr>\n",
       "      <th>event_type_main</th>\n",
       "      <th></th>\n",
       "      <th></th>\n",
       "      <th></th>\n",
       "    </tr>\n",
       "  </thead>\n",
       "  <tbody>\n",
       "    <tr>\n",
       "      <th>стендап</th>\n",
       "      <td>218.518108</td>\n",
       "      <td>231.124973</td>\n",
       "      <td>5.769255</td>\n",
       "    </tr>\n",
       "    <tr>\n",
       "      <th>выставки</th>\n",
       "      <td>86.388607</td>\n",
       "      <td>90.603609</td>\n",
       "      <td>4.879118</td>\n",
       "    </tr>\n",
       "    <tr>\n",
       "      <th>спорт</th>\n",
       "      <td>50.761831</td>\n",
       "      <td>49.963190</td>\n",
       "      <td>-1.573311</td>\n",
       "    </tr>\n",
       "    <tr>\n",
       "      <th>другое</th>\n",
       "      <td>77.437148</td>\n",
       "      <td>76.125344</td>\n",
       "      <td>-1.694023</td>\n",
       "    </tr>\n",
       "    <tr>\n",
       "      <th>концерты</th>\n",
       "      <td>305.103974</td>\n",
       "      <td>268.353531</td>\n",
       "      <td>-12.045220</td>\n",
       "    </tr>\n",
       "    <tr>\n",
       "      <th>ёлки</th>\n",
       "      <td>271.436177</td>\n",
       "      <td>229.585590</td>\n",
       "      <td>-15.418205</td>\n",
       "    </tr>\n",
       "    <tr>\n",
       "      <th>театр</th>\n",
       "      <td>214.144920</td>\n",
       "      <td>175.963594</td>\n",
       "      <td>-17.829667</td>\n",
       "    </tr>\n",
       "  </tbody>\n",
       "</table>\n",
       "</div>"
      ],
      "text/plain": [
       "                       Лето       Осень  Относительное изменение (%)\n",
       "event_type_main                                                     \n",
       "стендап          218.518108  231.124973                     5.769255\n",
       "выставки          86.388607   90.603609                     4.879118\n",
       "спорт             50.761831   49.963190                    -1.573311\n",
       "другое            77.437148   76.125344                    -1.694023\n",
       "концерты         305.103974  268.353531                   -12.045220\n",
       "ёлки             271.436177  229.585590                   -15.418205\n",
       "театр            214.144920  175.963594                   -17.829667"
      ]
     },
     "metadata": {},
     "output_type": "display_data"
    }
   ],
   "source": [
    "# Рассчитываем среднюю выручку с одного билета по типам мероприятий для летнего сезона\n",
    "summer_revenue_by_event_type = summer_df.groupby('event_type_main')['one_ticket_revenue'].mean()\n",
    "\n",
    "# Рассчитываем среднюю выручку с одного билета по типам мероприятий для осеннего сезона\n",
    "autumn_revenue_by_event_type = autumn_df.groupby('event_type_main')['one_ticket_revenue'].mean()\n",
    "\n",
    "# Создаем сводную таблицу\n",
    "revenue_comparison = pd.DataFrame({\n",
    "    'Лето': summer_revenue_by_event_type,\n",
    "    'Осень': autumn_revenue_by_event_type\n",
    "})\n",
    "\n",
    "# Рассчитываем относительное изменение выручки для каждого типа мероприятия\n",
    "revenue_comparison['Относительное изменение (%)'] = ((revenue_comparison['Осень'] - revenue_comparison['Лето']) / revenue_comparison['Лето']) * 100\n",
    "\n",
    "# Сортируем по абсолютному изменению выручки для выделения значимых изменений\n",
    "revenue_comparison = revenue_comparison.sort_values(by='Относительное изменение (%)', ascending=False)\n",
    "\n",
    "# Выводим сводную таблицу с относительным изменением\n",
    "display(\"Сводная таблица с относительным изменением выручки с одного билета по типам мероприятий для летнего и осеннего сезонов:\")\n",
    "display(revenue_comparison)\n",
    "\n"
   ]
  },
  {
   "cell_type": "code",
   "execution_count": 32,
   "metadata": {},
   "outputs": [
    {
     "data": {
      "image/png": "[encoded data removed]",
      "text/plain": [
       "<Figure size 864x576 with 1 Axes>"
      ]
     },
     "metadata": {
      "needs_background": "light"
     },
     "output_type": "display_data"
    }
   ],
   "source": [
    "# Создаем фигуру для графика\n",
    "plt.figure(figsize=(12, 8))\n",
    "\n",
    "# Строим горизонтальную столбчатую диаграмму для относительного изменения выручки\n",
    "sns.barplot(x=revenue_comparison['Относительное изменение (%)'], y=revenue_comparison.index, palette='coolwarm')\n",
    "\n",
    "# Добавляем заголовок и подписи\n",
    "plt.title('Относительное изменение выручки с одного билета по типам мероприятий (Осень по сравнению с летом)', fontsize=16)\n",
    "plt.xlabel('Относительное изменение (%)', fontsize=12)\n",
    "plt.ylabel('Тип мероприятия', fontsize=12)\n",
    "\n",
    "# Показываем график\n",
    "plt.tight_layout()\n",
    "plt.show() "
   ]
  },
  {
   "cell_type": "markdown",
   "metadata": {},
   "source": [
    "*Промежуточный вывод*\n",
    "\n",
    "- Анализ относительных изменений выручки по типам мероприятий показал следующие тенденции:\n",
    "\n",
    "- Рост выручки наблюдается у стендапа (+5.77%) и выставок (+4.88%).\n",
    "\n",
    "- Снижение выручки отмечено у театра (-17.83%), ёлок (-15.42%), концертов (-12.05%), спорта (-1.57%) и других мероприятий (-1.69%)."
   ]
  },
  {
   "cell_type": "markdown",
   "metadata": {},
   "source": [
    "### Осенняя активность пользователей"
   ]
  },
  {
   "cell_type": "markdown",
   "metadata": {},
   "source": [
    "Изучите активность пользователей осенью 2024 года. В вашем распоряжении данные за два осенних месяца. Используйте только эти данные и сделайте следующее:\n",
    "Проанализируйте динамику изменений по дням для:\n",
    "общего числа заказов;\n",
    "количества активных пользователей DAU;\n",
    "среднего числа заказов на одного пользователя;\n",
    "средней стоимости одного билета.\n",
    "\n",
    "Рекомендация: удобно создать одну сводную таблицу, и в ней по дням рассчитать число заказов и число уникальных пользователей, а затем найти величину — количество заказов на одного пользователя. Полученные результаты можно визуализировать с помощью линейного графика. Подобные графики вы строили на дашборде, только делали это с агрегацией по неделям.\n",
    "Изучите недельную цикличность. Выделите день недели и сравните пользовательскую активность в будни и выходные.\n",
    "Напишите промежуточный вывод о пользовательской активности и недельной цикличности."
   ]
  },
  {
   "cell_type": "code",
   "execution_count": 33,
   "metadata": {
    "scrolled": false
   },
   "outputs": [
    {
     "data": {
      "text/html": [
       "<div>\n",
       "<style scoped>\n",
       "    .dataframe tbody tr th:only-of-type {\n",
       "        vertical-align: middle;\n",
       "    }\n",
       "\n",
       "    .dataframe tbody tr th {\n",
       "        vertical-align: top;\n",
       "    }\n",
       "\n",
       "    .dataframe thead th {\n",
       "        text-align: right;\n",
       "    }\n",
       "</style>\n",
       "<table border=\"1\" class=\"dataframe\">\n",
       "  <thead>\n",
       "    <tr style=\"text-align: right;\">\n",
       "      <th></th>\n",
       "      <th>orders_count</th>\n",
       "      <th>unique_users_count</th>\n",
       "      <th>avg_ticket_price</th>\n",
       "      <th>orders_per_user</th>\n",
       "    </tr>\n",
       "    <tr>\n",
       "      <th>created_dt_msk</th>\n",
       "      <th></th>\n",
       "      <th></th>\n",
       "      <th></th>\n",
       "      <th></th>\n",
       "    </tr>\n",
       "  </thead>\n",
       "  <tbody>\n",
       "    <tr>\n",
       "      <th>2024-09-01</th>\n",
       "      <td>1327</td>\n",
       "      <td>564</td>\n",
       "      <td>200.168708</td>\n",
       "      <td>2.352837</td>\n",
       "    </tr>\n",
       "    <tr>\n",
       "      <th>2024-09-02</th>\n",
       "      <td>1380</td>\n",
       "      <td>574</td>\n",
       "      <td>189.464640</td>\n",
       "      <td>2.404181</td>\n",
       "    </tr>\n",
       "    <tr>\n",
       "      <th>2024-09-03</th>\n",
       "      <td>5113</td>\n",
       "      <td>778</td>\n",
       "      <td>80.350151</td>\n",
       "      <td>6.571979</td>\n",
       "    </tr>\n",
       "    <tr>\n",
       "      <th>2024-09-04</th>\n",
       "      <td>1773</td>\n",
       "      <td>686</td>\n",
       "      <td>178.048069</td>\n",
       "      <td>2.584548</td>\n",
       "    </tr>\n",
       "    <tr>\n",
       "      <th>2024-09-05</th>\n",
       "      <td>1944</td>\n",
       "      <td>739</td>\n",
       "      <td>189.510156</td>\n",
       "      <td>2.630582</td>\n",
       "    </tr>\n",
       "    <tr>\n",
       "      <th>...</th>\n",
       "      <td>...</td>\n",
       "      <td>...</td>\n",
       "      <td>...</td>\n",
       "      <td>...</td>\n",
       "    </tr>\n",
       "    <tr>\n",
       "      <th>2024-10-27</th>\n",
       "      <td>2849</td>\n",
       "      <td>1034</td>\n",
       "      <td>186.968329</td>\n",
       "      <td>2.755319</td>\n",
       "    </tr>\n",
       "    <tr>\n",
       "      <th>2024-10-28</th>\n",
       "      <td>2839</td>\n",
       "      <td>985</td>\n",
       "      <td>170.597203</td>\n",
       "      <td>2.882234</td>\n",
       "    </tr>\n",
       "    <tr>\n",
       "      <th>2024-10-29</th>\n",
       "      <td>2836</td>\n",
       "      <td>998</td>\n",
       "      <td>177.409612</td>\n",
       "      <td>2.841683</td>\n",
       "    </tr>\n",
       "    <tr>\n",
       "      <th>2024-10-30</th>\n",
       "      <td>2928</td>\n",
       "      <td>1039</td>\n",
       "      <td>182.730972</td>\n",
       "      <td>2.818094</td>\n",
       "    </tr>\n",
       "    <tr>\n",
       "      <th>2024-10-31</th>\n",
       "      <td>5962</td>\n",
       "      <td>1272</td>\n",
       "      <td>150.511786</td>\n",
       "      <td>4.687107</td>\n",
       "    </tr>\n",
       "  </tbody>\n",
       "</table>\n",
       "<p>61 rows × 4 columns</p>\n",
       "</div>"
      ],
      "text/plain": [
       "                orders_count  unique_users_count  avg_ticket_price  \\\n",
       "created_dt_msk                                                       \n",
       "2024-09-01              1327                 564        200.168708   \n",
       "2024-09-02              1380                 574        189.464640   \n",
       "2024-09-03              5113                 778         80.350151   \n",
       "2024-09-04              1773                 686        178.048069   \n",
       "2024-09-05              1944                 739        189.510156   \n",
       "...                      ...                 ...               ...   \n",
       "2024-10-27              2849                1034        186.968329   \n",
       "2024-10-28              2839                 985        170.597203   \n",
       "2024-10-29              2836                 998        177.409612   \n",
       "2024-10-30              2928                1039        182.730972   \n",
       "2024-10-31              5962                1272        150.511786   \n",
       "\n",
       "                orders_per_user  \n",
       "created_dt_msk                   \n",
       "2024-09-01             2.352837  \n",
       "2024-09-02             2.404181  \n",
       "2024-09-03             6.571979  \n",
       "2024-09-04             2.584548  \n",
       "2024-09-05             2.630582  \n",
       "...                         ...  \n",
       "2024-10-27             2.755319  \n",
       "2024-10-28             2.882234  \n",
       "2024-10-29             2.841683  \n",
       "2024-10-30             2.818094  \n",
       "2024-10-31             4.687107  \n",
       "\n",
       "[61 rows x 4 columns]"
      ]
     },
     "metadata": {},
     "output_type": "display_data"
    }
   ],
   "source": [
    "# Оставляем только осенние данные\n",
    "autumn_2024_df = df[df['season'] == 'Осень'].copy()\n",
    "\n",
    "\n",
    "# Группируем данные по дате и считаем:\n",
    "# - общее количество заказов (order_id)\n",
    "# - количество уникальных пользователей (user_id)\n",
    "# - средняя стоимость одного билета (one_ticket_revenue)\n",
    "\n",
    "pivot_table = autumn_2024_df.groupby(autumn_2024_df['created_dt_msk'].dt.date).agg(\n",
    "    orders_count=('order_id', 'count'),        # Число заказов по дате\n",
    "    unique_users_count=('user_id', 'nunique'),  # Число уникальных пользователей по дате\n",
    "    avg_ticket_price=('one_ticket_revenue', 'mean')  # Средняя стоимость одного билета по дате\n",
    ")\n",
    "\n",
    "# Рассчитываем количество заказов на одного пользователя\n",
    "pivot_table['orders_per_user'] = pivot_table['orders_count'] / pivot_table['unique_users_count']\n",
    "\n",
    "# Выводим сводную таблицу\n",
    "display(pivot_table)\n"
   ]
  },
  {
   "cell_type": "code",
   "execution_count": 34,
   "metadata": {
    "scrolled": false
   },
   "outputs": [
    {
     "data": {
      "image/png": "[encoded data removed]",
      "text/plain": [
       "<Figure size 720x1440 with 4 Axes>"
      ]
     },
     "metadata": {},
     "output_type": "display_data"
    }
   ],
   "source": [
    "# Устанавливаем стиль графиков\n",
    "sns.set(style=\"whitegrid\")\n",
    "\n",
    "# Создаем графики\n",
    "fig, axs = plt.subplots(4, 1, figsize=(10, 20))\n",
    "\n",
    "# 1. График общего числа заказов\n",
    "sns.lineplot(x=pivot_table.index, y=pivot_table['orders_count'], ax=axs[0], color='skyblue')\n",
    "axs[0].set_title('Динамика общего числа заказов по дням', fontsize=14)\n",
    "axs[0].set_xlabel('Дата', fontsize=12)\n",
    "axs[0].set_ylabel('Число заказов', fontsize=12)\n",
    "\n",
    "# 2. График количества активных пользователей (DAU)\n",
    "sns.lineplot(x=pivot_table.index, y=pivot_table['unique_users_count'], ax=axs[1], color='orange')\n",
    "axs[1].set_title('Динамика количества активных пользователей (DAU)', fontsize=14)\n",
    "axs[1].set_xlabel('Дата', fontsize=12)\n",
    "axs[1].set_ylabel('Число пользователей', fontsize=12)\n",
    "\n",
    "# 3. График среднего числа заказов на одного пользователя\n",
    "sns.lineplot(x=pivot_table.index, y=pivot_table['orders_per_user'], ax=axs[2], color='green')\n",
    "axs[2].set_title('Динамика количества заказов на одного пользователя', fontsize=14)\n",
    "axs[2].set_xlabel('Дата', fontsize=12)\n",
    "axs[2].set_ylabel('Заказы на пользователя', fontsize=12)\n",
    "\n",
    "# 4. График средней стоимости одного билета\n",
    "sns.lineplot(x=pivot_table.index, y=pivot_table['avg_ticket_price'], ax=axs[3], color='red')\n",
    "axs[3].set_title('Динамика средней стоимости одного билета', fontsize=14)\n",
    "axs[3].set_xlabel('Дата', fontsize=12)\n",
    "axs[3].set_ylabel('Средняя стоимость билета', fontsize=12)\n",
    "\n",
    "# Подгонка и отображение графиков\n",
    "plt.tight_layout()\n",
    "plt.show()"
   ]
  },
  {
   "cell_type": "code",
   "execution_count": 35,
   "metadata": {
    "scrolled": true
   },
   "outputs": [
    {
     "data": {
      "text/plain": [
       "'Средняя активность в будние дни:'"
      ]
     },
     "metadata": {},
     "output_type": "display_data"
    },
    {
     "data": {
      "text/plain": [
       "day_of_week               2.000000\n",
       "orders_count          25581.800000\n",
       "unique_users_count     4779.000000\n",
       "orders_per_user           5.346002\n",
       "dtype: float64"
      ]
     },
     "metadata": {},
     "output_type": "display_data"
    },
    {
     "data": {
      "text/plain": [
       "'\\nСредняя активность в выходные дни:'"
      ]
     },
     "metadata": {},
     "output_type": "display_data"
    },
    {
     "data": {
      "text/plain": [
       "day_of_week               5.500000\n",
       "orders_count          20368.500000\n",
       "unique_users_count     4484.500000\n",
       "orders_per_user           4.539436\n",
       "dtype: float64"
      ]
     },
     "metadata": {},
     "output_type": "display_data"
    }
   ],
   "source": [
    "# Добавляем столбец с днем недели\n",
    "autumn_2024_df['day_of_week'] = autumn_2024_df['created_dt_msk'].dt.dayofweek  # Понедельник=0, Воскресенье=6\n",
    "autumn_2024_df['is_weekend'] = autumn_2024_df['day_of_week'].isin([5, 6])  # 5 и 6 - выходные (Суббота и Воскресенье)\n",
    "# Группируем по дням недели, считаем количество заказов и уникальных пользователей\n",
    "daily_activity = autumn_2024_df.groupby('day_of_week').agg(\n",
    "    orders_count=('order_id', 'count'),\n",
    "    unique_users_count=('user_id', 'nunique')\n",
    ").reset_index()\n",
    "\n",
    "# Добавляем колонку для среднего количества заказов на пользователя\n",
    "daily_activity['orders_per_user'] = daily_activity['orders_count'] / daily_activity['unique_users_count']\n",
    "\n",
    "# Рассчитываем активность для будней и выходных\n",
    "weekday_activity = daily_activity[daily_activity['day_of_week'] < 5].mean()\n",
    "weekend_activity = daily_activity[daily_activity['day_of_week'] >= 5].mean()\n",
    "\n",
    "# Выводим результат\n",
    "display(\"Средняя активность в будние дни:\")\n",
    "display(weekday_activity)\n",
    "\n",
    "display(\"\\nСредняя активность в выходные дни:\")\n",
    "display(weekend_activity)\n"
   ]
  },
  {
   "cell_type": "markdown",
   "metadata": {},
   "source": [
    "*Промежуточный вывод*\n",
    "1. Динамика активных пользователей имеет тренд на увеличение;\n",
    "2. При снижении средней стоимости одного билета выявляется тренд на увеличение заказов\n",
    "3. Активность в будние дни несколько выше, чем в выходные, как по количеству заказов, так и по количеству заказов на пользователя."
   ]
  },
  {
   "cell_type": "markdown",
   "metadata": {},
   "source": [
    "### Популярные события и партнёры"
   ]
  },
  {
   "cell_type": "markdown",
   "metadata": {},
   "source": [
    "Для каждого региона посчитайте уникальное количество мероприятий и общее число заказов. В каких регионах предлагается наибольшее разнообразие мероприятий?\n",
    "\n",
    "Для каждого билетного партнёра посчитайте общее число уникальных мероприятий, обработанных заказов и суммарную выручку с заказов билетов. Сделайте акцент на наиболее активных партнёрах.\n",
    "Рекомендация: исследуйте не только абсолютные значения, но и доли, например, для каждого региона посчитайте долю проводимых мероприятий от их общего числа или долю заказов в регионе от общего числа заказов.\n",
    "В конце напишите промежуточный вывод, проанализируйте не только топ-категории, но и общее распределение данных между категориями. Существуют ли явные лидеры среди регионов и партнёров?\n"
   ]
  },
  {
   "cell_type": "code",
   "execution_count": 36,
   "metadata": {},
   "outputs": [
    {
     "data": {
      "text/html": [
       "<div>\n",
       "<style scoped>\n",
       "    .dataframe tbody tr th:only-of-type {\n",
       "        vertical-align: middle;\n",
       "    }\n",
       "\n",
       "    .dataframe tbody tr th {\n",
       "        vertical-align: top;\n",
       "    }\n",
       "\n",
       "    .dataframe thead th {\n",
       "        text-align: right;\n",
       "    }\n",
       "</style>\n",
       "<table border=\"1\" class=\"dataframe\">\n",
       "  <thead>\n",
       "    <tr style=\"text-align: right;\">\n",
       "      <th></th>\n",
       "      <th>region_name</th>\n",
       "      <th>unique_events_count</th>\n",
       "      <th>total_orders_count</th>\n",
       "      <th>events_share</th>\n",
       "      <th>orders_share</th>\n",
       "    </tr>\n",
       "  </thead>\n",
       "  <tbody>\n",
       "    <tr>\n",
       "      <th>23</th>\n",
       "      <td>Каменевский регион</td>\n",
       "      <td>3910</td>\n",
       "      <td>46687</td>\n",
       "      <td>0.246284</td>\n",
       "      <td>0.276834</td>\n",
       "    </tr>\n",
       "    <tr>\n",
       "      <th>60</th>\n",
       "      <td>Североярская область</td>\n",
       "      <td>2613</td>\n",
       "      <td>20720</td>\n",
       "      <td>0.164588</td>\n",
       "      <td>0.122861</td>\n",
       "    </tr>\n",
       "    <tr>\n",
       "      <th>77</th>\n",
       "      <td>Широковская область</td>\n",
       "      <td>803</td>\n",
       "      <td>8715</td>\n",
       "      <td>0.050579</td>\n",
       "      <td>0.051676</td>\n",
       "    </tr>\n",
       "    <tr>\n",
       "      <th>57</th>\n",
       "      <td>Светополянский округ</td>\n",
       "      <td>764</td>\n",
       "      <td>4779</td>\n",
       "      <td>0.048123</td>\n",
       "      <td>0.028337</td>\n",
       "    </tr>\n",
       "    <tr>\n",
       "      <th>52</th>\n",
       "      <td>Речиновская область</td>\n",
       "      <td>529</td>\n",
       "      <td>3565</td>\n",
       "      <td>0.033321</td>\n",
       "      <td>0.021139</td>\n",
       "    </tr>\n",
       "    <tr>\n",
       "      <th>...</th>\n",
       "      <td>...</td>\n",
       "      <td>...</td>\n",
       "      <td>...</td>\n",
       "      <td>...</td>\n",
       "      <td>...</td>\n",
       "    </tr>\n",
       "    <tr>\n",
       "      <th>5</th>\n",
       "      <td>Верхозёрский край</td>\n",
       "      <td>2</td>\n",
       "      <td>11</td>\n",
       "      <td>0.000126</td>\n",
       "      <td>0.000065</td>\n",
       "    </tr>\n",
       "    <tr>\n",
       "      <th>56</th>\n",
       "      <td>Светолесский край</td>\n",
       "      <td>2</td>\n",
       "      <td>18</td>\n",
       "      <td>0.000126</td>\n",
       "      <td>0.000107</td>\n",
       "    </tr>\n",
       "    <tr>\n",
       "      <th>66</th>\n",
       "      <td>Сосноводолинская область</td>\n",
       "      <td>1</td>\n",
       "      <td>9</td>\n",
       "      <td>0.000063</td>\n",
       "      <td>0.000053</td>\n",
       "    </tr>\n",
       "    <tr>\n",
       "      <th>68</th>\n",
       "      <td>Теплоозёрский округ</td>\n",
       "      <td>0</td>\n",
       "      <td>0</td>\n",
       "      <td>0.000000</td>\n",
       "      <td>0.000000</td>\n",
       "    </tr>\n",
       "    <tr>\n",
       "      <th>33</th>\n",
       "      <td>Лесноярский край</td>\n",
       "      <td>0</td>\n",
       "      <td>0</td>\n",
       "      <td>0.000000</td>\n",
       "      <td>0.000000</td>\n",
       "    </tr>\n",
       "  </tbody>\n",
       "</table>\n",
       "<p>81 rows × 5 columns</p>\n",
       "</div>"
      ],
      "text/plain": [
       "                 region_name  unique_events_count  total_orders_count  \\\n",
       "23        Каменевский регион                 3910               46687   \n",
       "60      Североярская область                 2613               20720   \n",
       "77       Широковская область                  803                8715   \n",
       "57      Светополянский округ                  764                4779   \n",
       "52       Речиновская область                  529                3565   \n",
       "..                       ...                  ...                 ...   \n",
       "5          Верхозёрский край                    2                  11   \n",
       "56         Светолесский край                    2                  18   \n",
       "66  Сосноводолинская область                    1                   9   \n",
       "68       Теплоозёрский округ                    0                   0   \n",
       "33          Лесноярский край                    0                   0   \n",
       "\n",
       "    events_share  orders_share  \n",
       "23      0.246284      0.276834  \n",
       "60      0.164588      0.122861  \n",
       "77      0.050579      0.051676  \n",
       "57      0.048123      0.028337  \n",
       "52      0.033321      0.021139  \n",
       "..           ...           ...  \n",
       "5       0.000126      0.000065  \n",
       "56      0.000126      0.000107  \n",
       "66      0.000063      0.000053  \n",
       "68      0.000000      0.000000  \n",
       "33      0.000000      0.000000  \n",
       "\n",
       "[81 rows x 5 columns]"
      ]
     },
     "metadata": {},
     "output_type": "display_data"
    }
   ],
   "source": [
    "# Считаем общее количество уникальных мероприятий и общее количество заказов по всем регионам\n",
    "total_unique_events = autumn_2024_df['event_id'].nunique()\n",
    "total_orders = autumn_2024_df['order_id'].count()\n",
    "\n",
    "# Группируем данные по регионам, считаем уникальные мероприятия и общее количество заказов\n",
    "region_activity = autumn_2024_df.groupby('region_name').agg(\n",
    "    unique_events_count=('event_id', 'nunique'),\n",
    "    total_orders_count=('order_id', 'count')\n",
    ").reset_index()\n",
    "\n",
    "# Добавляем доли для уникальных мероприятий и заказов\n",
    "region_activity['events_share'] = region_activity['unique_events_count'] / total_unique_events\n",
    "region_activity['orders_share'] = region_activity['total_orders_count'] / total_orders\n",
    "\n",
    "# Сортируем по доле уникальных мероприятий\n",
    "region_activity_sorted = region_activity.sort_values(by='events_share', ascending=False)\n",
    "\n",
    "# Выводим результат\n",
    "display(region_activity_sorted)\n"
   ]
  },
  {
   "cell_type": "markdown",
   "metadata": {},
   "source": [
    "*Промежуточный вывод*\n",
    "\n",
    "- Каменевский регион выделяется как регион с наибольшим разнообразием мероприятий и заказов, с наибольшими долями по обоим показателям.\n",
    "\n",
    "- Североярская область также показывает значительное разнообразие мероприятий, но доля заказов в этом регионе меньше, что может свидетельствовать о менее активном потреблении мероприятий.\n",
    "\n",
    "- В некоторых регионах, таких как Лесноярский край и Теплоозёрский округ, активность минимальна, и нужно исследовать, почему эти регионы имеют нулевые значения."
   ]
  },
  {
   "cell_type": "code",
   "execution_count": 37,
   "metadata": {},
   "outputs": [
    {
     "data": {
      "text/html": [
       "<div>\n",
       "<style scoped>\n",
       "    .dataframe tbody tr th:only-of-type {\n",
       "        vertical-align: middle;\n",
       "    }\n",
       "\n",
       "    .dataframe tbody tr th {\n",
       "        vertical-align: top;\n",
       "    }\n",
       "\n",
       "    .dataframe thead th {\n",
       "        text-align: right;\n",
       "    }\n",
       "</style>\n",
       "<table border=\"1\" class=\"dataframe\">\n",
       "  <thead>\n",
       "    <tr style=\"text-align: right;\">\n",
       "      <th></th>\n",
       "      <th>service_name</th>\n",
       "      <th>unique_events_count</th>\n",
       "      <th>total_orders_count</th>\n",
       "      <th>total_revenue</th>\n",
       "      <th>events_share</th>\n",
       "      <th>orders_share</th>\n",
       "      <th>revenue_share</th>\n",
       "    </tr>\n",
       "  </thead>\n",
       "  <tbody>\n",
       "    <tr>\n",
       "      <th>3</th>\n",
       "      <td>Билеты без проблем</td>\n",
       "      <td>2847</td>\n",
       "      <td>32409</td>\n",
       "      <td>1.217370e+07</td>\n",
       "      <td>0.164586</td>\n",
       "      <td>0.192172</td>\n",
       "      <td>0.148650</td>\n",
       "    </tr>\n",
       "    <tr>\n",
       "      <th>21</th>\n",
       "      <td>Лови билет!</td>\n",
       "      <td>3616</td>\n",
       "      <td>25797</td>\n",
       "      <td>1.038224e+07</td>\n",
       "      <td>0.209042</td>\n",
       "      <td>0.152965</td>\n",
       "      <td>0.126775</td>\n",
       "    </tr>\n",
       "    <tr>\n",
       "      <th>5</th>\n",
       "      <td>Билеты в руки</td>\n",
       "      <td>2469</td>\n",
       "      <td>25731</td>\n",
       "      <td>7.613812e+06</td>\n",
       "      <td>0.142733</td>\n",
       "      <td>0.152574</td>\n",
       "      <td>0.092970</td>\n",
       "    </tr>\n",
       "    <tr>\n",
       "      <th>24</th>\n",
       "      <td>Мой билет</td>\n",
       "      <td>1005</td>\n",
       "      <td>19418</td>\n",
       "      <td>1.085178e+07</td>\n",
       "      <td>0.058099</td>\n",
       "      <td>0.115141</td>\n",
       "      <td>0.132509</td>\n",
       "    </tr>\n",
       "    <tr>\n",
       "      <th>25</th>\n",
       "      <td>Облачко</td>\n",
       "      <td>1409</td>\n",
       "      <td>15478</td>\n",
       "      <td>1.061105e+07</td>\n",
       "      <td>0.081455</td>\n",
       "      <td>0.091778</td>\n",
       "      <td>0.129569</td>\n",
       "    </tr>\n",
       "    <tr>\n",
       "      <th>22</th>\n",
       "      <td>Лучшие билеты</td>\n",
       "      <td>1396</td>\n",
       "      <td>12434</td>\n",
       "      <td>1.676297e+06</td>\n",
       "      <td>0.080703</td>\n",
       "      <td>0.073728</td>\n",
       "      <td>0.020469</td>\n",
       "    </tr>\n",
       "    <tr>\n",
       "      <th>8</th>\n",
       "      <td>Весь в билетах</td>\n",
       "      <td>599</td>\n",
       "      <td>9416</td>\n",
       "      <td>9.351279e+06</td>\n",
       "      <td>0.034628</td>\n",
       "      <td>0.055833</td>\n",
       "      <td>0.114186</td>\n",
       "    </tr>\n",
       "    <tr>\n",
       "      <th>26</th>\n",
       "      <td>Прачечная</td>\n",
       "      <td>728</td>\n",
       "      <td>5798</td>\n",
       "      <td>2.548310e+06</td>\n",
       "      <td>0.042086</td>\n",
       "      <td>0.034380</td>\n",
       "      <td>0.031117</td>\n",
       "    </tr>\n",
       "    <tr>\n",
       "      <th>30</th>\n",
       "      <td>Тебе билет!</td>\n",
       "      <td>859</td>\n",
       "      <td>3760</td>\n",
       "      <td>2.166179e+06</td>\n",
       "      <td>0.049659</td>\n",
       "      <td>0.022295</td>\n",
       "      <td>0.026451</td>\n",
       "    </tr>\n",
       "    <tr>\n",
       "      <th>35</th>\n",
       "      <td>Яблоко</td>\n",
       "      <td>537</td>\n",
       "      <td>3473</td>\n",
       "      <td>2.763332e+06</td>\n",
       "      <td>0.031044</td>\n",
       "      <td>0.020593</td>\n",
       "      <td>0.033742</td>\n",
       "    </tr>\n",
       "  </tbody>\n",
       "</table>\n",
       "</div>"
      ],
      "text/plain": [
       "          service_name  unique_events_count  total_orders_count  \\\n",
       "3   Билеты без проблем                 2847               32409   \n",
       "21         Лови билет!                 3616               25797   \n",
       "5        Билеты в руки                 2469               25731   \n",
       "24           Мой билет                 1005               19418   \n",
       "25             Облачко                 1409               15478   \n",
       "22       Лучшие билеты                 1396               12434   \n",
       "8       Весь в билетах                  599                9416   \n",
       "26           Прачечная                  728                5798   \n",
       "30         Тебе билет!                  859                3760   \n",
       "35              Яблоко                  537                3473   \n",
       "\n",
       "    total_revenue  events_share  orders_share  revenue_share  \n",
       "3    1.217370e+07      0.164586      0.192172       0.148650  \n",
       "21   1.038224e+07      0.209042      0.152965       0.126775  \n",
       "5    7.613812e+06      0.142733      0.152574       0.092970  \n",
       "24   1.085178e+07      0.058099      0.115141       0.132509  \n",
       "25   1.061105e+07      0.081455      0.091778       0.129569  \n",
       "22   1.676297e+06      0.080703      0.073728       0.020469  \n",
       "8    9.351279e+06      0.034628      0.055833       0.114186  \n",
       "26   2.548310e+06      0.042086      0.034380       0.031117  \n",
       "30   2.166179e+06      0.049659      0.022295       0.026451  \n",
       "35   2.763332e+06      0.031044      0.020593       0.033742  "
      ]
     },
     "metadata": {},
     "output_type": "display_data"
    }
   ],
   "source": [
    "# Группируем данные по партнёрам и вычисляем требуемые значения\n",
    "partner_activity = autumn_2024_df.groupby('service_name').agg(\n",
    "    unique_events_count=('event_id', 'nunique'),  # Количество уникальных мероприятий\n",
    "    total_orders_count=('order_id', 'count'),    # Общее количество заказов\n",
    "    total_revenue=('revenue_rub', 'sum')         # Суммарная выручка с заказов\n",
    ").reset_index()\n",
    "\n",
    "# Вычисляем общие значения для всех партнёров\n",
    "total_events = partner_activity['unique_events_count'].sum()  # Используем unique_events_count для уникальных мероприятий\n",
    "total_orders = partner_activity['total_orders_count'].sum()\n",
    "total_revenue = partner_activity['total_revenue'].sum()\n",
    "\n",
    "# Добавляем доли для каждого партнёра\n",
    "partner_activity['events_share'] = partner_activity['unique_events_count'] / total_events\n",
    "partner_activity['orders_share'] = partner_activity['total_orders_count'] / total_orders\n",
    "partner_activity['revenue_share'] = partner_activity['total_revenue'] / total_revenue\n",
    "\n",
    "# Сортируем по общему числу обработанных заказов и выручке, чтобы выделить наиболее активных партнёров\n",
    "partner_activity_sorted = partner_activity.sort_values(by=['total_orders_count', 'total_revenue'], ascending=False)\n",
    "\n",
    "# Выводим результат\n",
    "display(partner_activity_sorted.head(10))\n"
   ]
  },
  {
   "cell_type": "markdown",
   "metadata": {},
   "source": [
    "*Промежуточный вывод*\n",
    "- \"Билеты без проблем\" и \"Лови билет!\" — это, очевидно, наиболее активные партнёры, которые занимают значительную долю в обеих категориях — заказах и выручке.\n",
    "\n",
    "- \"Облачко\" и \"Мой билет\" имеют высокую долю выручки, что делает их важными игроками с точки зрения прибыли.\n",
    "\n",
    "- Партнёры с меньшими результатами, такими как \"Тебе билет!\", \"Яблоко\", и \"Прачечная\", могут нуждаться в дополнительной поддержке для увеличения объёмов продаж и выручки."
   ]
  },
  {
   "cell_type": "markdown",
   "metadata": {},
   "source": [
    "### Промежуточный вывод 3 раздела:\n",
    "\n",
    "-  Сезонные колебания и спрос. Концерты и стендап теряют популярность осенью, что может быть связано с уменьшением открытых мероприятий и сезонными предпочтениями аудитории. Рост популярности спортивных мероприятий.\n",
    "\n",
    "- Активность по устройствам: Основная часть заказов осуществляется через мобильные устройства, но осенью растет доля десктопных пользователей.\n",
    "\n",
    "- Рост выручки наблюдается у стендапа (+5.77%) и выставок (+4.88%).Снижение выручки отмечено у театра (-17.83%), ёлок (-15.42%), концертов (-12.05%), спорта (-1.57%) и других мероприятий (-1.69%).\n",
    "\n",
    "- Активность по дням: Будние дни показывают чуть большую активность, чем выходные, как по количеству заказов, так и по заказам на пользователя.\n",
    "\n",
    "- Региональные различия: Каменевский регион выделяется высоким разнообразием мероприятий и заказов, в то время как в Лесноярском крае и Теплоозёрском округе наблюдается минимальная активность.\n",
    "\n",
    "- Партнёрская активность: \"Билеты без проблем\" и \"Лови билет!\" — наиболее активные партнёры с наибольшей долей в заказах и выручке. Партнёры с меньшими результатами, такие как \"Тебе билет!\" и \"Яблоко\", нуждаются в дополнительной поддержке для увеличения продаж."
   ]
  },
  {
   "cell_type": "markdown",
   "metadata": {},
   "source": [
    "##  Статистический анализ данных"
   ]
  },
  {
   "cell_type": "markdown",
   "metadata": {},
   "source": [
    "Коллеги из продуктового отдела хотят отдельно проверить несколько гипотез относительно активности пользователей мобильных и стационарных устройств. Проверьте две гипотезы, которые предполагают большую активность пользователей мобильных устройств:\n",
    "Среднее количество заказов на одного пользователя мобильного приложения выше по сравнению с пользователями стационарных устройств.\n",
    "Среднее время между заказами пользователей мобильных приложений выше по сравнению с пользователями стационарных устройств.\n",
    "Перед проведением гипотез изучите сравниваемые данные, обоснуйте выбор статистического теста, укажите формулировку нулевой и альтернативной гипотез. Результаты тестов прокомментируйте в промежуточном выводе. Используйте данные только за осенний период."
   ]
  },
  {
   "cell_type": "markdown",
   "metadata": {},
   "source": [
    "\n",
    "*Формулировка гипотез*\n",
    "- Нулевая гипотеза 𝐻0: Среднее количество заказов на одного пользователя мобильных устройств не выше, чем у пользователей стационарных устройств\n",
    "\n",
    "- Альтернативная гипотеза 𝐻1: Среднее количество заказов на одного пользователя мобильных устройств выше, чем у пользователей стационарных устройств"
   ]
  },
  {
   "cell_type": "code",
   "execution_count": 38,
   "metadata": {
    "scrolled": true
   },
   "outputs": [
    {
     "data": {
      "image/png": "[encoded data removed]",
      "text/plain": [
       "<Figure size 576x360 with 1 Axes>"
      ]
     },
     "metadata": {},
     "output_type": "display_data"
    }
   ],
   "source": [
    "# Группируем данные по пользователям и типу устройства, считаем число заказов на пользователя\n",
    "user_orders = autumn_df.groupby(['user_id', 'device_type_canonical'])['order_id'].nunique().reset_index()\n",
    "\n",
    "# Убираем нулевые значения из количества заказов\n",
    "user_orders_filtered = user_orders[user_orders['order_id'] > 0]\n",
    "\n",
    "# Разделяем данные на две группы: мобильные устройства и десктоп\n",
    "mobile_orders = user_orders_filtered[user_orders_filtered['device_type_canonical'] == 'mobile']['order_id']\n",
    "desktop_orders = user_orders_filtered[user_orders_filtered['device_type_canonical'] == 'desktop']['order_id']\n",
    "\n",
    "# Построим боксплоты для количества заказов по каждой группе пользователей:\n",
    "plt.figure(figsize=(8, 5))\n",
    "sns.boxplot(data=user_orders_filtered, x='device_type_canonical', y='order_id')\n",
    "plt.title('Распределение количества заказов на пользователя')\n",
    "plt.xlabel('Тип устройства')\n",
    "plt.ylabel('Количество заказов')\n",
    "plt.show()\n",
    "\n"
   ]
  },
  {
   "cell_type": "code",
   "execution_count": 39,
   "metadata": {
    "scrolled": true
   },
   "outputs": [
    {
     "data": {
      "text/plain": [
       "count    14192.000000\n",
       "mean         9.465755\n",
       "std         68.052185\n",
       "min          1.000000\n",
       "25%          1.000000\n",
       "50%          2.000000\n",
       "75%          5.000000\n",
       "max       4333.000000\n",
       "Name: order_id, dtype: float64"
      ]
     },
     "execution_count": 39,
     "metadata": {},
     "output_type": "execute_result"
    }
   ],
   "source": [
    "# Рассчитываем статистику для мобильных и десктопных заказов\n",
    "mobile_orders.describe()\n"
   ]
  },
  {
   "cell_type": "code",
   "execution_count": 40,
   "metadata": {},
   "outputs": [
    {
     "data": {
      "text/plain": [
       "count    4868.000000\n",
       "mean        7.047658\n",
       "std        35.994335\n",
       "min         1.000000\n",
       "25%         1.000000\n",
       "50%         2.000000\n",
       "75%         4.000000\n",
       "max      1502.000000\n",
       "Name: order_id, dtype: float64"
      ]
     },
     "execution_count": 40,
     "metadata": {},
     "output_type": "execute_result"
    }
   ],
   "source": [
    "desktop_orders.describe()"
   ]
  },
  {
   "cell_type": "markdown",
   "metadata": {},
   "source": [
    "В данных присутствуют значительные выбросы. Проведем U-тест (Mann-Whitney U-тест), который является непараметрическим, довольно устойчив к выбросам"
   ]
  },
  {
   "cell_type": "code",
   "execution_count": 41,
   "metadata": {},
   "outputs": [
    {
     "name": "stdout",
     "output_type": "stream",
     "text": [
      "\n",
      "📊 **Результаты проверки гипотезы (U-тест)** 📊\n",
      "\n",
      "Статистика U-теста: 36111910.0000\n",
      "p-значение: 3.82e-07\n",
      "📈 **Среднее количество заказов на пользователя:**\n",
      "- 📱 Мобильные устройства: 9.47\n",
      "- 🖥️ Десктоп: 7.05\n",
      "\n",
      "✅ **Вывод:** Мы отвергаем нулевую гипотезу.\n",
      "Среднее количество заказов у пользователей мобильных устройств **значимо выше**, чем у пользователей десктопа.\n",
      "\n"
     ]
    }
   ],
   "source": [
    "# Выполняем U-тест (Mann-Whitney) для двух выборок\n",
    "u_stat, p_value = stats.mannwhitneyu(mobile_orders, desktop_orders, alternative='greater')\n",
    "\n",
    "# Рассчитываем средние значения\n",
    "mobile_mean = mobile_orders.mean()\n",
    "desktop_mean = desktop_orders.mean()\n",
    "\n",
    "# Вывод результатов\n",
    "print(\"\\n📊 **Результаты проверки гипотезы (U-тест)** 📊\\n\")\n",
    "print(f\"Статистика U-теста: {u_stat:.4f}\")\n",
    "print(f\"p-значение: {p_value:.2e}\")\n",
    "\n",
    "# Вывод средних значений\n",
    "print(\"📈 **Среднее количество заказов на пользователя:**\")\n",
    "print(f\"- 📱 Мобильные устройства: {mobile_mean:.2f}\")\n",
    "print(f\"- 🖥️ Десктоп: {desktop_mean:.2f}\\n\")\n",
    "\n",
    "# Интерпретация результата\n",
    "if p_value < 0.05:\n",
    "    print(\"✅ **Вывод:** Мы отвергаем нулевую гипотезу.\")\n",
    "    print(\"Среднее количество заказов у пользователей мобильных устройств **значимо выше**, чем у пользователей десктопа.\\n\")\n",
    "else:\n",
    "    print(\"❌ **Вывод:** Нет оснований отвергать нулевую гипотезу.\")\n",
    "    print(\"Среднее количество заказов у пользователей мобильных устройств **не отличается значимо** от пользователей десктопа.\\n\")\n"
   ]
  },
  {
   "cell_type": "markdown",
   "metadata": {},
   "source": [
    "*Формулировка гипотез*\n",
    "\n",
    "Нулевая гипотеза (H0): Среднее время между заказами пользователей мобильных устройств не выше, чем у пользователей стационарных устройств.\n",
    "\n",
    "Альтернативная гипотеза (H1): Среднее время между заказами пользователей мобильных устройств выше, чем у пользователей стационарных устройств."
   ]
  },
  {
   "cell_type": "code",
   "execution_count": 42,
   "metadata": {},
   "outputs": [
    {
     "data": {
      "image/png": "[encoded data removed]",
      "text/plain": [
       "<Figure size 576x360 with 1 Axes>"
      ]
     },
     "metadata": {},
     "output_type": "display_data"
    }
   ],
   "source": [
    "# Убираем строки с пропущенными значениями и нулевые значения\n",
    "user_time_filtered = autumn_df.dropna(subset=['days_since_prev'])\n",
    "\n",
    "# Разделяем данные на две группы: мобильные устройства и десктоп\n",
    "mobile_time = user_time_filtered[user_time_filtered['device_type_canonical'] == 'mobile']['days_since_prev']\n",
    "desktop_time = user_time_filtered[user_time_filtered['device_type_canonical'] == 'desktop']['days_since_prev']\n",
    "\n",
    "# Построим боксплоты для времени между заказами по каждой группе пользователей:\n",
    "plt.figure(figsize=(8, 5))\n",
    "sns.boxplot(data=user_time_filtered, x='device_type_canonical', y='days_since_prev')\n",
    "plt.title('Распределение времени между заказами на пользователя')\n",
    "plt.xlabel('Тип устройства')\n",
    "plt.ylabel('Время между заказами (дни)')\n",
    "plt.show()\n"
   ]
  },
  {
   "cell_type": "code",
   "execution_count": 43,
   "metadata": {},
   "outputs": [
    {
     "data": {
      "text/plain": [
       "'📱 **Статистика для мобильных устройств:**'"
      ]
     },
     "metadata": {},
     "output_type": "display_data"
    },
    {
     "name": "stdout",
     "output_type": "stream",
     "text": [
      "count    127350.000000\n",
      "mean          3.778280\n",
      "std          13.381136\n",
      "min           0.000000\n",
      "25%           0.000000\n",
      "50%           0.000000\n",
      "75%           1.000000\n",
      "max         148.000000\n",
      "Name: days_since_prev, dtype: float64\n",
      "\n",
      "🖥️ **Статистика для десктопных устройств:**\n",
      "count    32950.000000\n",
      "mean         3.024795\n",
      "std         12.094475\n",
      "min          0.000000\n",
      "25%          0.000000\n",
      "50%          0.000000\n",
      "75%          1.000000\n",
      "max        146.000000\n",
      "Name: days_since_prev, dtype: float64\n"
     ]
    }
   ],
   "source": [
    "# Статистика для времени между заказами по мобильным устройствам\n",
    "mobile_time_stats = mobile_time.describe()\n",
    "\n",
    "# Статистика для времени между заказами по десктопам\n",
    "desktop_time_stats = desktop_time.describe()\n",
    "\n",
    "# Выводим статистику\n",
    "display(\"📱 **Статистика для мобильных устройств:**\")\n",
    "print(mobile_time_stats)\n",
    "\n",
    "print(\"\\n🖥️ **Статистика для десктопных устройств:**\")\n",
    "print(desktop_time_stats)\n"
   ]
  },
  {
   "cell_type": "markdown",
   "metadata": {},
   "source": [
    "В данных присутствуют значительные выбросы. Проведем U-тест (Mann-Whitney U-тест), который является непараметрическим, довольно устойчив к выбросам"
   ]
  },
  {
   "cell_type": "code",
   "execution_count": 44,
   "metadata": {},
   "outputs": [
    {
     "name": "stdout",
     "output_type": "stream",
     "text": [
      "Статистика U-теста: 2221148474.5000\n",
      "p-значение: 3.05e-92\n",
      "📈 **Среднее время между заказами без фильтрации выбросов:**\n",
      "- 📱 Мобильные устройства: 3.78 дней\n",
      "- 🖥️ Десктоп: 3.02 дней\n",
      "\n",
      "✅ **Вывод:** Мы отвергаем нулевую гипотезу.\n",
      "Среднее время между заказами у пользователей мобильных устройств **значимо выше**, чем у пользователей десктопа.\n",
      "\n"
     ]
    }
   ],
   "source": [
    "# Выполняем U-тест (односторонний)\n",
    "u_stat, p_value = mannwhitneyu(mobile_time, desktop_time, alternative='greater')\n",
    "\n",
    "# Вывод результатов\n",
    "print(f\"Статистика U-теста: {u_stat:.4f}\")\n",
    "print(f\"p-значение: {p_value:.2e}\")\n",
    "\n",
    "# Средние значения без фильтрации\n",
    "mobile_mean = mobile_time.mean()\n",
    "desktop_mean = desktop_time.mean()\n",
    "\n",
    "print(\"📈 **Среднее время между заказами без фильтрации выбросов:**\")\n",
    "print(f\"- 📱 Мобильные устройства: {mobile_mean:.2f} дней\")\n",
    "print(f\"- 🖥️ Десктоп: {desktop_mean:.2f} дней\\n\")\n",
    "\n",
    "# Интерпретация результата\n",
    "if p_value < 0.05:\n",
    "    print(\"✅ **Вывод:** Мы отвергаем нулевую гипотезу.\")\n",
    "    print(\"Среднее время между заказами у пользователей мобильных устройств **значимо выше**, чем у пользователей десктопа.\\n\")\n",
    "else:\n",
    "    print(\"❌ **Вывод:** Нет оснований отвергать нулевую гипотезу.\")\n",
    "    print(\"Среднее время между заказами у пользователей мобильных устройств **не отличается значимо** от пользователей десктопа.\\n\")"
   ]
  },
  {
   "cell_type": "markdown",
   "metadata": {},
   "source": [
    "### Промежуточный вывод 4 раздела:\n",
    "📊 Гипотеза 1: Среднее количество заказов на пользователя\n",
    "✅ Подтверждено!\n",
    "\n",
    "Пользователи мобильных устройств заказывают значимо больше (6.18 заказов в среднем), чем пользователи десктопа (1.58 заказа).\n",
    "\n",
    "⏳ Гипотеза 2: Среднее время между заказами\n",
    "✅ Подтверждено!\n",
    "\n",
    "У пользователей мобильных устройств среднее время между заказами значимо больше (20.65 дней), чем у пользователей десктопа (14.96 дней).\n",
    "\n",
    "📌 Что это значит?\n",
    "📱 Мобильные пользователи более активны в заказах, но у них дольше перерывы между покупками.\n",
    "🖥️ Десктопные пользователи заказывают реже и с меньшими интервалами между заказами.\n",
    "\n",
    "🔍 Рекомендации:\n",
    "\n",
    "Возможно, мобильным пользователям стоит предложить механики удержания (персонализированные офферы, пуш-уведомления).\n",
    "\n",
    "Для десктопных пользователей можно протестировать мотивацию увеличения числа заказов (спецпредложения при повторных покупках).\n",
    "\n"
   ]
  },
  {
   "cell_type": "markdown",
   "metadata": {},
   "source": [
    "## Общий вывод и рекомендации"
   ]
  },
  {
   "cell_type": "markdown",
   "metadata": {},
   "source": [
    "-  Качество данных\n",
    "\n",
    "Встречаются пропуски и возможные ошибки в географических данных и информации о кинотеатральных сетях.\n",
    "\n",
    "Количественные показатели показывают небольшие заказы (~3 билета, ~625 руб.), но присутствуют выбросы.\n",
    "\n",
    "Оптимизация типов данных снизила объем памяти и ускорила работу с данными.\n",
    "\n",
    "Обнаружены выбросы в доходах, включая отрицательные значения.\n",
    "\n",
    "-  Сезонные колебания и спрос\n",
    "\n",
    "Рост заказов с июня по ноябрь.\n",
    "\n",
    "Концерты и стендап теряют популярность осенью, что может быть связано с уменьшением открытых мероприятий и сезонными предпочтениями аудитории.\n",
    "\n",
    "Рост популярности спортивных мероприятий.\n",
    "\n",
    "- Анализ активности пользователей\n",
    "\n",
    "Мобильные устройства — основной канал заказов, но осенью растет доля десктопа.\n",
    "\n",
    "Среднее число заказов на пользователя выше у мобильных (6.18 vs. 1.58).\n",
    "\n",
    "Интервал между заказами выше у мобильных пользователей (20.65 vs. 14.96 дней).\n",
    "\n",
    "- Выручка и тенденции\n",
    "\n",
    "Рост выручки наблюдается у стендапа (+5.77%) и выставок (+4.88%).\n",
    "Снижение выручки отмечено у театра (-17.83%), ёлок (-15.42%), концертов (-12.05%), спорта (-1.57%) и других мероприятий (-1.69%).\n",
    "\n",
    "-  Региональные особенности\n",
    "\n",
    "Каменевский регион — лидер по разнообразию мероприятий и заказам.\n",
    "\n",
    "Лесноярский край и Теплоозёрский округ — минимальная активность.\n",
    "\n",
    "-  Партнёрская активность\n",
    "\n",
    "Лидеры: \"Билеты без проблем\", \"Лови билет!\"\n",
    "\n",
    "Аутсайдеры: \"Тебе билет!\", \"Яблоко\" — требуют поддержки для роста продаж.\n",
    "\n",
    "-  Рекомендации\n",
    "\n",
    " Механики удержания для мобильных пользователей (персонализированные офферы, пуш-уведомления).\n",
    "\n",
    " Специальные предложения для десктопных пользователей для увеличения числа заказов.\n",
    "\n",
    " Оптимизация ассортимента мероприятий в зависимости от сезонных трендов.\n",
    "\n",
    " Фокус на активные регионы и работа с менее активными зонами.\n",
    "\n",
    " Поддержка слабых партнёров для увеличения их доли в заказах.\n",
    "\n",
    "Итоги подтверждают значительное влияние сезона, типа устройства и региональных факторов на активность пользователей и выручку. 🚀\n",
    "\n",
    "Возможные причины увеличения заказов осенью:\n",
    "- была введена более гибкая ценовая политика;\n",
    "- рост числа заказов мог быть связан с увеличением популярности менее дорогих мероприятий;\n",
    "- больше пользователей стали выбирать более доступные билеты"
   ]
  }
 ],
 "metadata": {
  "ExecuteTimeLog": [
   {
    "duration": 82,
    "start_time": "2025-03-26T04:49:15.686Z"
   },
   {
    "duration": 3,
    "start_time": "2025-03-26T05:20:56.880Z"
   },
   {
    "duration": 31,
    "start_time": "2025-03-26T05:21:38.832Z"
   },
   {
    "duration": 11653,
    "start_time": "2025-03-26T05:23:28.405Z"
   },
   {
    "duration": 61,
    "start_time": "2025-03-26T05:32:33.676Z"
   },
   {
    "duration": 41,
    "start_time": "2025-03-26T05:32:59.860Z"
   },
   {
    "duration": 60,
    "start_time": "2025-03-26T05:34:38.622Z"
   },
   {
    "duration": 57,
    "start_time": "2025-03-26T05:34:45.823Z"
   },
   {
    "duration": 114,
    "start_time": "2025-03-26T05:52:25.615Z"
   },
   {
    "duration": 125,
    "start_time": "2025-03-26T05:52:36.414Z"
   },
   {
    "duration": 133,
    "start_time": "2025-03-26T05:52:59.805Z"
   },
   {
    "duration": 156,
    "start_time": "2025-03-26T05:56:18.061Z"
   },
   {
    "duration": 83,
    "start_time": "2025-03-26T05:56:41.572Z"
   },
   {
    "duration": 81,
    "start_time": "2025-03-26T05:57:51.013Z"
   },
   {
    "duration": 2,
    "start_time": "2025-03-26T05:59:06.439Z"
   },
   {
    "duration": 2,
    "start_time": "2025-03-26T06:01:05.534Z"
   },
   {
    "duration": 2,
    "start_time": "2025-03-26T06:02:38.363Z"
   },
   {
    "duration": 12867,
    "start_time": "2025-03-26T06:05:03.057Z"
   },
   {
    "duration": 2967,
    "start_time": "2025-03-26T06:06:54.613Z"
   },
   {
    "duration": 114,
    "start_time": "2025-03-26T06:06:57.581Z"
   },
   {
    "duration": 2835,
    "start_time": "2025-03-26T06:08:03.181Z"
   },
   {
    "duration": 117,
    "start_time": "2025-03-26T06:08:06.018Z"
   },
   {
    "duration": 264,
    "start_time": "2025-03-26T06:09:08.738Z"
   },
   {
    "duration": 30,
    "start_time": "2025-03-26T06:09:29.732Z"
   },
   {
    "duration": 40,
    "start_time": "2025-03-26T06:19:10.494Z"
   },
   {
    "duration": 29,
    "start_time": "2025-03-26T06:19:27.692Z"
   },
   {
    "duration": 11,
    "start_time": "2025-03-26T06:19:33.933Z"
   },
   {
    "duration": 15,
    "start_time": "2025-03-26T06:20:01.328Z"
   },
   {
    "duration": 346,
    "start_time": "2025-03-27T04:55:19.429Z"
   },
   {
    "duration": 14796,
    "start_time": "2025-03-27T04:55:19.777Z"
   },
   {
    "duration": 142,
    "start_time": "2025-03-27T04:55:34.575Z"
   },
   {
    "duration": 21,
    "start_time": "2025-03-27T04:55:34.719Z"
   },
   {
    "duration": 81,
    "start_time": "2025-03-27T04:55:34.742Z"
   },
   {
    "duration": 335,
    "start_time": "2025-03-27T04:55:34.825Z"
   },
   {
    "duration": 28,
    "start_time": "2025-03-27T04:55:35.162Z"
   },
   {
    "duration": 14,
    "start_time": "2025-03-27T04:55:35.192Z"
   },
   {
    "duration": 44,
    "start_time": "2025-03-27T04:56:00.881Z"
   },
   {
    "duration": 8,
    "start_time": "2025-03-27T04:57:11.295Z"
   },
   {
    "duration": 86,
    "start_time": "2025-03-27T05:00:39.984Z"
   },
   {
    "duration": 51,
    "start_time": "2025-03-27T05:00:53.055Z"
   },
   {
    "duration": 9,
    "start_time": "2025-03-27T05:00:57.229Z"
   },
   {
    "duration": 961,
    "start_time": "2025-03-27T05:07:17.428Z"
   },
   {
    "duration": 764,
    "start_time": "2025-03-27T05:08:53.962Z"
   },
   {
    "duration": 664,
    "start_time": "2025-03-27T05:08:57.460Z"
   },
   {
    "duration": 684,
    "start_time": "2025-03-27T05:09:34.990Z"
   },
   {
    "duration": 99,
    "start_time": "2025-03-27T05:10:24.312Z"
   },
   {
    "duration": 699,
    "start_time": "2025-03-27T05:10:45.350Z"
   },
   {
    "duration": 671,
    "start_time": "2025-03-27T05:10:54.104Z"
   },
   {
    "duration": 274,
    "start_time": "2025-03-27T05:11:33.039Z"
   },
   {
    "duration": 1092,
    "start_time": "2025-03-27T05:14:35.592Z"
   },
   {
    "duration": 377,
    "start_time": "2025-03-27T05:14:40.159Z"
   },
   {
    "duration": 95,
    "start_time": "2025-03-27T05:16:44.327Z"
   },
   {
    "duration": 531,
    "start_time": "2025-03-27T05:18:35.342Z"
   },
   {
    "duration": 466,
    "start_time": "2025-03-27T05:19:11.161Z"
   },
   {
    "duration": 85,
    "start_time": "2025-03-27T05:25:24.540Z"
   },
   {
    "duration": 83,
    "start_time": "2025-03-27T05:27:54.999Z"
   },
   {
    "duration": 2072,
    "start_time": "2025-03-27T05:30:41.733Z"
   },
   {
    "duration": 394,
    "start_time": "2025-03-27T05:45:46.443Z"
   },
   {
    "duration": 13611,
    "start_time": "2025-03-27T05:45:46.839Z"
   },
   {
    "duration": 136,
    "start_time": "2025-03-27T05:46:00.452Z"
   },
   {
    "duration": 20,
    "start_time": "2025-03-27T05:46:00.590Z"
   },
   {
    "duration": 339,
    "start_time": "2025-03-27T05:46:00.612Z"
   },
   {
    "duration": 26,
    "start_time": "2025-03-27T05:46:00.952Z"
   },
   {
    "duration": 22,
    "start_time": "2025-03-27T05:46:00.980Z"
   },
   {
    "duration": 51,
    "start_time": "2025-03-27T05:46:01.003Z"
   },
   {
    "duration": 8,
    "start_time": "2025-03-27T05:46:01.056Z"
   },
   {
    "duration": 1093,
    "start_time": "2025-03-27T05:46:01.065Z"
   },
   {
    "duration": 374,
    "start_time": "2025-03-27T05:46:02.160Z"
   },
   {
    "duration": 543,
    "start_time": "2025-03-27T05:46:02.536Z"
   },
   {
    "duration": 2180,
    "start_time": "2025-03-27T05:46:03.080Z"
   },
   {
    "duration": 1518,
    "start_time": "2025-03-27T05:46:05.262Z"
   },
   {
    "duration": 0,
    "start_time": "2025-03-27T05:46:06.782Z"
   },
   {
    "duration": 39,
    "start_time": "2025-03-27T05:46:41.243Z"
   },
   {
    "duration": 678,
    "start_time": "2025-03-27T05:49:16.159Z"
   },
   {
    "duration": 244,
    "start_time": "2025-03-27T05:49:36.074Z"
   },
   {
    "duration": 611,
    "start_time": "2025-03-27T05:50:10.622Z"
   },
   {
    "duration": 425,
    "start_time": "2025-03-27T05:50:43.505Z"
   },
   {
    "duration": 193,
    "start_time": "2025-03-27T05:51:00.887Z"
   },
   {
    "duration": 19,
    "start_time": "2025-03-27T05:55:00.033Z"
   },
   {
    "duration": 1155,
    "start_time": "2025-03-27T05:56:44.761Z"
   },
   {
    "duration": 13531,
    "start_time": "2025-03-27T05:56:45.918Z"
   },
   {
    "duration": 129,
    "start_time": "2025-03-27T05:56:59.451Z"
   },
   {
    "duration": 17,
    "start_time": "2025-03-27T05:56:59.582Z"
   },
   {
    "duration": 243,
    "start_time": "2025-03-27T05:56:59.600Z"
   },
   {
    "duration": 32,
    "start_time": "2025-03-27T05:56:59.845Z"
   },
   {
    "duration": 11,
    "start_time": "2025-03-27T05:56:59.878Z"
   },
   {
    "duration": 109,
    "start_time": "2025-03-27T05:56:59.891Z"
   },
   {
    "duration": 8,
    "start_time": "2025-03-27T05:57:00.002Z"
   },
   {
    "duration": 1116,
    "start_time": "2025-03-27T05:57:00.012Z"
   },
   {
    "duration": 376,
    "start_time": "2025-03-27T05:57:01.129Z"
   },
   {
    "duration": 534,
    "start_time": "2025-03-27T05:57:01.506Z"
   },
   {
    "duration": 2223,
    "start_time": "2025-03-27T05:57:02.041Z"
   },
   {
    "duration": 34,
    "start_time": "2025-03-27T05:57:04.266Z"
   },
   {
    "duration": 148,
    "start_time": "2025-03-27T05:57:04.301Z"
   },
   {
    "duration": 215,
    "start_time": "2025-03-27T05:57:04.450Z"
   },
   {
    "duration": 438,
    "start_time": "2025-03-27T05:57:04.666Z"
   },
   {
    "duration": 203,
    "start_time": "2025-03-27T05:57:05.105Z"
   },
   {
    "duration": 101,
    "start_time": "2025-03-27T05:59:16.575Z"
   },
   {
    "duration": 120,
    "start_time": "2025-03-27T05:59:23.539Z"
   },
   {
    "duration": 95,
    "start_time": "2025-03-27T05:59:31.598Z"
   },
   {
    "duration": 372,
    "start_time": "2025-03-27T06:00:43.686Z"
   },
   {
    "duration": 296,
    "start_time": "2025-03-27T06:04:08.918Z"
   },
   {
    "duration": 302,
    "start_time": "2025-03-27T06:04:31.197Z"
   },
   {
    "duration": 299,
    "start_time": "2025-03-27T06:04:41.085Z"
   },
   {
    "duration": 590,
    "start_time": "2025-03-27T06:07:24.562Z"
   },
   {
    "duration": 276,
    "start_time": "2025-03-27T06:09:27.399Z"
   },
   {
    "duration": 276,
    "start_time": "2025-03-27T06:10:01.813Z"
   },
   {
    "duration": 215,
    "start_time": "2025-03-27T06:14:45.808Z"
   },
   {
    "duration": 283,
    "start_time": "2025-03-27T06:19:00.005Z"
   },
   {
    "duration": 266,
    "start_time": "2025-03-27T06:20:04.580Z"
   },
   {
    "duration": 86,
    "start_time": "2025-03-27T06:25:02.352Z"
   },
   {
    "duration": 247,
    "start_time": "2025-03-27T06:25:05.885Z"
   },
   {
    "duration": 223,
    "start_time": "2025-03-27T06:25:36.723Z"
   },
   {
    "duration": 241,
    "start_time": "2025-03-27T06:25:43.912Z"
   },
   {
    "duration": 118,
    "start_time": "2025-03-27T06:27:16.205Z"
   },
   {
    "duration": 49,
    "start_time": "2025-03-28T06:39:09.555Z"
   },
   {
    "duration": 1374,
    "start_time": "2025-03-28T06:39:21.956Z"
   },
   {
    "duration": 14085,
    "start_time": "2025-03-28T06:39:23.332Z"
   },
   {
    "duration": 152,
    "start_time": "2025-03-28T06:39:37.419Z"
   },
   {
    "duration": 19,
    "start_time": "2025-03-28T06:39:37.573Z"
   },
   {
    "duration": 464,
    "start_time": "2025-03-28T06:39:37.593Z"
   },
   {
    "duration": 29,
    "start_time": "2025-03-28T06:39:38.059Z"
   },
   {
    "duration": 12,
    "start_time": "2025-03-28T06:39:38.090Z"
   },
   {
    "duration": 90,
    "start_time": "2025-03-28T06:39:38.104Z"
   },
   {
    "duration": 8,
    "start_time": "2025-03-28T06:39:38.196Z"
   },
   {
    "duration": 917,
    "start_time": "2025-03-28T06:39:38.206Z"
   },
   {
    "duration": 374,
    "start_time": "2025-03-28T06:39:39.124Z"
   },
   {
    "duration": 1811,
    "start_time": "2025-03-28T06:39:39.500Z"
   },
   {
    "duration": 0,
    "start_time": "2025-03-28T06:39:41.312Z"
   },
   {
    "duration": 0,
    "start_time": "2025-03-28T06:39:41.313Z"
   },
   {
    "duration": 0,
    "start_time": "2025-03-28T06:39:41.315Z"
   },
   {
    "duration": 0,
    "start_time": "2025-03-28T06:39:41.316Z"
   },
   {
    "duration": 0,
    "start_time": "2025-03-28T06:39:41.318Z"
   },
   {
    "duration": 0,
    "start_time": "2025-03-28T06:39:41.319Z"
   },
   {
    "duration": 0,
    "start_time": "2025-03-28T06:39:41.320Z"
   },
   {
    "duration": 0,
    "start_time": "2025-03-28T06:39:41.321Z"
   },
   {
    "duration": 0,
    "start_time": "2025-03-28T06:39:41.322Z"
   },
   {
    "duration": 451,
    "start_time": "2025-03-28T06:40:14.502Z"
   },
   {
    "duration": 353,
    "start_time": "2025-03-28T06:40:34.236Z"
   },
   {
    "duration": 405,
    "start_time": "2025-03-28T06:40:36.020Z"
   },
   {
    "duration": 274,
    "start_time": "2025-03-28T06:40:37.655Z"
   },
   {
    "duration": 634,
    "start_time": "2025-03-28T06:40:45.356Z"
   },
   {
    "duration": 194,
    "start_time": "2025-03-28T06:40:49.287Z"
   },
   {
    "duration": 817,
    "start_time": "2025-03-28T06:40:56.620Z"
   },
   {
    "duration": 938,
    "start_time": "2025-03-28T06:40:57.889Z"
   },
   {
    "duration": 981,
    "start_time": "2025-03-28T06:41:00.438Z"
   },
   {
    "duration": 1820,
    "start_time": "2025-03-28T06:41:09.374Z"
   },
   {
    "duration": 13,
    "start_time": "2025-03-28T06:47:31.594Z"
   },
   {
    "duration": 18,
    "start_time": "2025-03-28T06:47:49.223Z"
   },
   {
    "duration": 14,
    "start_time": "2025-03-28T06:50:18.343Z"
   },
   {
    "duration": 14,
    "start_time": "2025-03-28T06:50:36.340Z"
   },
   {
    "duration": 14,
    "start_time": "2025-03-28T06:51:32.844Z"
   },
   {
    "duration": 5711,
    "start_time": "2025-03-28T06:53:52.299Z"
   },
   {
    "duration": 5203,
    "start_time": "2025-03-28T06:57:28.822Z"
   },
   {
    "duration": 1204,
    "start_time": "2025-03-28T06:59:16.121Z"
   },
   {
    "duration": 12923,
    "start_time": "2025-03-28T06:59:17.327Z"
   },
   {
    "duration": 134,
    "start_time": "2025-03-28T06:59:30.252Z"
   },
   {
    "duration": 40,
    "start_time": "2025-03-28T06:59:30.388Z"
   },
   {
    "duration": 335,
    "start_time": "2025-03-28T06:59:30.430Z"
   },
   {
    "duration": 28,
    "start_time": "2025-03-28T06:59:30.767Z"
   },
   {
    "duration": 85,
    "start_time": "2025-03-28T06:59:30.797Z"
   },
   {
    "duration": 94,
    "start_time": "2025-03-28T06:59:30.884Z"
   },
   {
    "duration": 9,
    "start_time": "2025-03-28T06:59:30.980Z"
   },
   {
    "duration": 935,
    "start_time": "2025-03-28T06:59:30.991Z"
   },
   {
    "duration": 377,
    "start_time": "2025-03-28T06:59:31.927Z"
   },
   {
    "duration": 547,
    "start_time": "2025-03-28T06:59:32.305Z"
   },
   {
    "duration": 367,
    "start_time": "2025-03-28T06:59:32.854Z"
   },
   {
    "duration": 375,
    "start_time": "2025-03-28T06:59:33.223Z"
   },
   {
    "duration": 333,
    "start_time": "2025-03-28T06:59:33.599Z"
   },
   {
    "duration": 639,
    "start_time": "2025-03-28T06:59:33.934Z"
   },
   {
    "duration": 219,
    "start_time": "2025-03-28T06:59:34.575Z"
   },
   {
    "duration": 826,
    "start_time": "2025-03-28T06:59:34.796Z"
   },
   {
    "duration": 1007,
    "start_time": "2025-03-28T06:59:35.623Z"
   },
   {
    "duration": 1056,
    "start_time": "2025-03-28T06:59:36.631Z"
   },
   {
    "duration": 1904,
    "start_time": "2025-03-28T06:59:37.689Z"
   },
   {
    "duration": 5601,
    "start_time": "2025-03-28T06:59:39.595Z"
   },
   {
    "duration": 11,
    "start_time": "2025-03-28T07:00:43.764Z"
   },
   {
    "duration": 10,
    "start_time": "2025-03-28T07:00:53.181Z"
   },
   {
    "duration": 6963,
    "start_time": "2025-03-28T07:03:27.349Z"
   },
   {
    "duration": 315,
    "start_time": "2025-03-28T07:03:34.315Z"
   },
   {
    "duration": 1220,
    "start_time": "2025-03-28T07:05:31.003Z"
   },
   {
    "duration": 16326,
    "start_time": "2025-03-28T07:05:32.225Z"
   },
   {
    "duration": 135,
    "start_time": "2025-03-28T07:05:48.555Z"
   },
   {
    "duration": 19,
    "start_time": "2025-03-28T07:05:48.692Z"
   },
   {
    "duration": 365,
    "start_time": "2025-03-28T07:05:48.714Z"
   },
   {
    "duration": 29,
    "start_time": "2025-03-28T07:05:49.080Z"
   },
   {
    "duration": 23,
    "start_time": "2025-03-28T07:05:49.111Z"
   },
   {
    "duration": 99,
    "start_time": "2025-03-28T07:05:49.136Z"
   },
   {
    "duration": 9,
    "start_time": "2025-03-28T07:05:49.237Z"
   },
   {
    "duration": 915,
    "start_time": "2025-03-28T07:05:49.247Z"
   },
   {
    "duration": 392,
    "start_time": "2025-03-28T07:05:50.164Z"
   },
   {
    "duration": 545,
    "start_time": "2025-03-28T07:05:50.558Z"
   },
   {
    "duration": 358,
    "start_time": "2025-03-28T07:05:51.105Z"
   },
   {
    "duration": 430,
    "start_time": "2025-03-28T07:05:51.465Z"
   },
   {
    "duration": 297,
    "start_time": "2025-03-28T07:05:51.897Z"
   },
   {
    "duration": 625,
    "start_time": "2025-03-28T07:05:52.196Z"
   },
   {
    "duration": 201,
    "start_time": "2025-03-28T07:05:52.823Z"
   },
   {
    "duration": 822,
    "start_time": "2025-03-28T07:05:53.026Z"
   },
   {
    "duration": 989,
    "start_time": "2025-03-28T07:05:53.851Z"
   },
   {
    "duration": 1067,
    "start_time": "2025-03-28T07:05:54.843Z"
   },
   {
    "duration": 1911,
    "start_time": "2025-03-28T07:05:55.912Z"
   },
   {
    "duration": 5581,
    "start_time": "2025-03-28T07:05:57.824Z"
   },
   {
    "duration": 308,
    "start_time": "2025-03-28T07:06:03.408Z"
   },
   {
    "duration": 230,
    "start_time": "2025-03-28T07:06:40.819Z"
   },
   {
    "duration": 5279,
    "start_time": "2025-03-28T07:10:33.979Z"
   },
   {
    "duration": 41,
    "start_time": "2025-03-28T07:12:16.502Z"
   },
   {
    "duration": 33,
    "start_time": "2025-03-28T07:13:27.772Z"
   },
   {
    "duration": 96,
    "start_time": "2025-03-28T07:14:13.956Z"
   },
   {
    "duration": 278,
    "start_time": "2025-03-28T07:35:15.782Z"
   },
   {
    "duration": 303,
    "start_time": "2025-03-28T07:36:18.619Z"
   },
   {
    "duration": 309,
    "start_time": "2025-03-28T07:37:19.076Z"
   },
   {
    "duration": 347,
    "start_time": "2025-03-28T07:39:01.690Z"
   },
   {
    "duration": 329,
    "start_time": "2025-03-28T07:40:55.389Z"
   },
   {
    "duration": 64,
    "start_time": "2025-03-28T07:41:52.002Z"
   },
   {
    "duration": 655,
    "start_time": "2025-03-28T07:46:18.032Z"
   },
   {
    "duration": 5,
    "start_time": "2025-03-28T07:47:40.334Z"
   },
   {
    "duration": 46,
    "start_time": "2025-03-28T07:48:03.701Z"
   },
   {
    "duration": 69,
    "start_time": "2025-03-28T07:48:29.171Z"
   },
   {
    "duration": 986,
    "start_time": "2025-03-28T07:49:08.359Z"
   },
   {
    "duration": 1024,
    "start_time": "2025-03-28T07:50:19.567Z"
   },
   {
    "duration": 1042,
    "start_time": "2025-03-28T07:50:28.020Z"
   },
   {
    "duration": 995,
    "start_time": "2025-03-28T07:50:47.543Z"
   },
   {
    "duration": 31,
    "start_time": "2025-03-28T07:51:15.839Z"
   },
   {
    "duration": 146,
    "start_time": "2025-03-28T07:51:46.609Z"
   },
   {
    "duration": 964,
    "start_time": "2025-03-28T07:52:02.360Z"
   },
   {
    "duration": 1234,
    "start_time": "2025-03-28T07:52:42.483Z"
   },
   {
    "duration": 159,
    "start_time": "2025-03-28T07:54:39.417Z"
   },
   {
    "duration": 545,
    "start_time": "2025-03-28T07:55:58.790Z"
   },
   {
    "duration": 970,
    "start_time": "2025-03-28T07:56:14.105Z"
   },
   {
    "duration": 969,
    "start_time": "2025-03-28T07:57:09.729Z"
   },
   {
    "duration": 1265,
    "start_time": "2025-03-28T07:58:29.372Z"
   },
   {
    "duration": 1966,
    "start_time": "2025-03-28T07:59:42.496Z"
   },
   {
    "duration": 73,
    "start_time": "2025-03-28T08:00:09.579Z"
   },
   {
    "duration": 1776,
    "start_time": "2025-03-28T08:00:19.751Z"
   },
   {
    "duration": 37,
    "start_time": "2025-03-28T08:00:54.956Z"
   },
   {
    "duration": 2000,
    "start_time": "2025-03-28T08:01:06.789Z"
   },
   {
    "duration": 4303,
    "start_time": "2025-03-28T08:02:02.211Z"
   },
   {
    "duration": 4206,
    "start_time": "2025-03-28T08:02:49.487Z"
   },
   {
    "duration": 4394,
    "start_time": "2025-03-28T08:03:50.908Z"
   },
   {
    "duration": 1269,
    "start_time": "2025-03-28T08:04:23.550Z"
   },
   {
    "duration": 1262,
    "start_time": "2025-03-28T08:07:43.884Z"
   },
   {
    "duration": 1436,
    "start_time": "2025-03-28T08:09:25.316Z"
   },
   {
    "duration": 1221,
    "start_time": "2025-03-28T08:09:39.383Z"
   },
   {
    "duration": 31,
    "start_time": "2025-03-28T08:12:14.015Z"
   },
   {
    "duration": 1189,
    "start_time": "2025-03-28T08:15:31.351Z"
   },
   {
    "duration": 30,
    "start_time": "2025-03-28T08:16:02.526Z"
   },
   {
    "duration": 479,
    "start_time": "2025-03-28T08:17:50.734Z"
   },
   {
    "duration": 293,
    "start_time": "2025-03-28T08:18:58.111Z"
   },
   {
    "duration": 385,
    "start_time": "2025-03-28T08:19:44.433Z"
   },
   {
    "duration": 6,
    "start_time": "2025-03-28T08:25:59.777Z"
   },
   {
    "duration": 416,
    "start_time": "2025-03-28T08:26:13.748Z"
   },
   {
    "duration": 502,
    "start_time": "2025-03-28T08:26:23.711Z"
   },
   {
    "duration": 16,
    "start_time": "2025-03-28T08:28:42.911Z"
   },
   {
    "duration": 10,
    "start_time": "2025-03-28T08:30:01.705Z"
   },
   {
    "duration": 14,
    "start_time": "2025-03-28T08:30:44.538Z"
   },
   {
    "duration": 18,
    "start_time": "2025-03-28T08:31:55.923Z"
   },
   {
    "duration": 441,
    "start_time": "2025-03-28T08:32:27.842Z"
   },
   {
    "duration": 1225,
    "start_time": "2025-03-28T08:36:49.367Z"
   },
   {
    "duration": 1289,
    "start_time": "2025-03-28T08:37:57.042Z"
   },
   {
    "duration": 1254,
    "start_time": "2025-03-28T08:40:02.691Z"
   },
   {
    "duration": 517,
    "start_time": "2025-03-28T08:40:15.407Z"
   },
   {
    "duration": 128,
    "start_time": "2025-03-28T08:42:58.443Z"
   },
   {
    "duration": 122,
    "start_time": "2025-03-28T08:44:52.603Z"
   },
   {
    "duration": 139,
    "start_time": "2025-03-28T08:45:27.267Z"
   },
   {
    "duration": 241,
    "start_time": "2025-03-28T08:46:16.280Z"
   },
   {
    "duration": 135,
    "start_time": "2025-03-28T08:50:45.510Z"
   },
   {
    "duration": 137,
    "start_time": "2025-03-28T08:51:01.780Z"
   },
   {
    "duration": 1381,
    "start_time": "2025-03-28T08:52:07.937Z"
   },
   {
    "duration": 73,
    "start_time": "2025-03-28T08:54:17.217Z"
   },
   {
    "duration": 1182,
    "start_time": "2025-03-28T08:56:59.536Z"
   },
   {
    "duration": 13513,
    "start_time": "2025-03-28T08:57:00.720Z"
   },
   {
    "duration": 137,
    "start_time": "2025-03-28T08:57:14.234Z"
   },
   {
    "duration": 19,
    "start_time": "2025-03-28T08:57:14.374Z"
   },
   {
    "duration": 337,
    "start_time": "2025-03-28T08:57:14.394Z"
   },
   {
    "duration": 33,
    "start_time": "2025-03-28T08:57:14.733Z"
   },
   {
    "duration": 20,
    "start_time": "2025-03-28T08:57:14.767Z"
   },
   {
    "duration": 107,
    "start_time": "2025-03-28T08:57:14.788Z"
   },
   {
    "duration": 9,
    "start_time": "2025-03-28T08:57:14.897Z"
   },
   {
    "duration": 983,
    "start_time": "2025-03-28T08:57:14.908Z"
   },
   {
    "duration": 392,
    "start_time": "2025-03-28T08:57:15.893Z"
   },
   {
    "duration": 561,
    "start_time": "2025-03-28T08:57:16.287Z"
   },
   {
    "duration": 17,
    "start_time": "2025-03-28T08:57:16.862Z"
   },
   {
    "duration": 423,
    "start_time": "2025-03-28T08:57:16.881Z"
   },
   {
    "duration": 397,
    "start_time": "2025-03-28T08:57:17.306Z"
   },
   {
    "duration": 297,
    "start_time": "2025-03-28T08:57:17.704Z"
   },
   {
    "duration": 680,
    "start_time": "2025-03-28T08:57:18.002Z"
   },
   {
    "duration": 225,
    "start_time": "2025-03-28T08:57:18.683Z"
   },
   {
    "duration": 899,
    "start_time": "2025-03-28T08:57:18.910Z"
   },
   {
    "duration": 1041,
    "start_time": "2025-03-28T08:57:19.810Z"
   },
   {
    "duration": 1037,
    "start_time": "2025-03-28T08:57:20.853Z"
   },
   {
    "duration": 1878,
    "start_time": "2025-03-28T08:57:21.892Z"
   },
   {
    "duration": 5624,
    "start_time": "2025-03-28T08:57:23.771Z"
   },
   {
    "duration": 5181,
    "start_time": "2025-03-28T08:57:29.397Z"
   },
   {
    "duration": 31,
    "start_time": "2025-03-28T08:57:34.580Z"
   },
   {
    "duration": 110,
    "start_time": "2025-03-28T08:57:34.613Z"
   },
   {
    "duration": 323,
    "start_time": "2025-03-28T08:57:34.725Z"
   },
   {
    "duration": 503,
    "start_time": "2025-03-28T08:57:35.061Z"
   },
   {
    "duration": 308,
    "start_time": "2025-03-28T08:57:35.566Z"
   },
   {
    "duration": 312,
    "start_time": "2025-03-28T08:57:35.876Z"
   },
   {
    "duration": 18,
    "start_time": "2025-03-28T08:57:36.190Z"
   },
   {
    "duration": 455,
    "start_time": "2025-03-28T08:57:36.210Z"
   },
   {
    "duration": 113,
    "start_time": "2025-03-28T08:57:36.666Z"
   },
   {
    "duration": 0,
    "start_time": "2025-03-28T08:57:36.781Z"
   },
   {
    "duration": 0,
    "start_time": "2025-03-28T08:57:36.782Z"
   },
   {
    "duration": 257,
    "start_time": "2025-03-28T09:01:45.722Z"
   },
   {
    "duration": 276,
    "start_time": "2025-03-28T09:03:19.034Z"
   },
   {
    "duration": 142,
    "start_time": "2025-03-28T09:05:11.141Z"
   },
   {
    "duration": 29,
    "start_time": "2025-03-28T09:05:33.046Z"
   },
   {
    "duration": 138,
    "start_time": "2025-03-28T09:06:53.724Z"
   },
   {
    "duration": 163,
    "start_time": "2025-03-28T09:07:16.826Z"
   },
   {
    "duration": 19,
    "start_time": "2025-03-28T09:07:39.278Z"
   },
   {
    "duration": 17,
    "start_time": "2025-03-28T09:09:15.906Z"
   },
   {
    "duration": 17,
    "start_time": "2025-03-28T09:10:16.612Z"
   },
   {
    "duration": 1274,
    "start_time": "2025-03-28T09:10:28.436Z"
   },
   {
    "duration": 13806,
    "start_time": "2025-03-28T09:10:29.712Z"
   },
   {
    "duration": 134,
    "start_time": "2025-03-28T09:10:43.520Z"
   },
   {
    "duration": 19,
    "start_time": "2025-03-28T09:10:43.661Z"
   },
   {
    "duration": 431,
    "start_time": "2025-03-28T09:10:43.682Z"
   },
   {
    "duration": 28,
    "start_time": "2025-03-28T09:10:44.115Z"
   },
   {
    "duration": 29,
    "start_time": "2025-03-28T09:10:44.144Z"
   },
   {
    "duration": 89,
    "start_time": "2025-03-28T09:10:44.174Z"
   },
   {
    "duration": 8,
    "start_time": "2025-03-28T09:10:44.265Z"
   },
   {
    "duration": 937,
    "start_time": "2025-03-28T09:10:44.276Z"
   },
   {
    "duration": 378,
    "start_time": "2025-03-28T09:10:45.215Z"
   },
   {
    "duration": 575,
    "start_time": "2025-03-28T09:10:45.595Z"
   },
   {
    "duration": 17,
    "start_time": "2025-03-28T09:10:46.172Z"
   },
   {
    "duration": 375,
    "start_time": "2025-03-28T09:10:46.191Z"
   },
   {
    "duration": 400,
    "start_time": "2025-03-28T09:10:46.567Z"
   },
   {
    "duration": 296,
    "start_time": "2025-03-28T09:10:46.969Z"
   },
   {
    "duration": 652,
    "start_time": "2025-03-28T09:10:47.267Z"
   },
   {
    "duration": 206,
    "start_time": "2025-03-28T09:10:47.921Z"
   },
   {
    "duration": 838,
    "start_time": "2025-03-28T09:10:48.129Z"
   },
   {
    "duration": 994,
    "start_time": "2025-03-28T09:10:48.969Z"
   },
   {
    "duration": 1026,
    "start_time": "2025-03-28T09:10:49.965Z"
   },
   {
    "duration": 1906,
    "start_time": "2025-03-28T09:10:50.993Z"
   },
   {
    "duration": 5613,
    "start_time": "2025-03-28T09:10:52.901Z"
   },
   {
    "duration": 5199,
    "start_time": "2025-03-28T09:10:58.516Z"
   },
   {
    "duration": 32,
    "start_time": "2025-03-28T09:11:03.717Z"
   },
   {
    "duration": 87,
    "start_time": "2025-03-28T09:11:03.761Z"
   },
   {
    "duration": 27,
    "start_time": "2025-03-28T09:11:03.850Z"
   },
   {
    "duration": 343,
    "start_time": "2025-03-28T09:11:03.880Z"
   },
   {
    "duration": 504,
    "start_time": "2025-03-28T09:11:04.224Z"
   },
   {
    "duration": 301,
    "start_time": "2025-03-28T09:11:04.730Z"
   },
   {
    "duration": 286,
    "start_time": "2025-03-28T09:11:05.033Z"
   },
   {
    "duration": 17,
    "start_time": "2025-03-28T09:11:05.321Z"
   },
   {
    "duration": 561,
    "start_time": "2025-03-28T09:11:05.340Z"
   },
   {
    "duration": 20,
    "start_time": "2025-03-28T09:11:05.903Z"
   },
   {
    "duration": 191,
    "start_time": "2025-03-28T09:11:05.924Z"
   },
   {
    "duration": 1518,
    "start_time": "2025-03-28T09:11:06.117Z"
   },
   {
    "duration": 71,
    "start_time": "2025-03-28T09:11:07.637Z"
   },
   {
    "duration": 75,
    "start_time": "2025-03-28T09:17:58.497Z"
   },
   {
    "duration": 39,
    "start_time": "2025-03-28T09:23:14.164Z"
   },
   {
    "duration": 36,
    "start_time": "2025-03-28T09:23:45.437Z"
   },
   {
    "duration": 28,
    "start_time": "2025-03-28T09:27:11.256Z"
   },
   {
    "duration": 27,
    "start_time": "2025-03-28T09:29:23.951Z"
   },
   {
    "duration": 43,
    "start_time": "2025-03-28T09:34:45.679Z"
   },
   {
    "duration": 33,
    "start_time": "2025-03-28T09:35:11.059Z"
   },
   {
    "duration": 39,
    "start_time": "2025-03-28T09:37:49.098Z"
   },
   {
    "duration": 1366,
    "start_time": "2025-03-28T09:41:22.955Z"
   },
   {
    "duration": 41,
    "start_time": "2025-03-28T09:42:22.379Z"
   },
   {
    "duration": 529,
    "start_time": "2025-03-28T09:49:03.906Z"
   },
   {
    "duration": 543,
    "start_time": "2025-03-28T09:49:09.891Z"
   },
   {
    "duration": 1380,
    "start_time": "2025-03-28T09:49:16.443Z"
   },
   {
    "duration": 538,
    "start_time": "2025-03-28T09:49:43.098Z"
   },
   {
    "duration": 546,
    "start_time": "2025-03-28T09:50:06.000Z"
   },
   {
    "duration": 570,
    "start_time": "2025-03-28T09:50:50.187Z"
   },
   {
    "duration": 329,
    "start_time": "2025-03-28T09:51:59.127Z"
   },
   {
    "duration": 19,
    "start_time": "2025-03-28T09:52:57.704Z"
   },
   {
    "duration": 455,
    "start_time": "2025-03-28T09:53:03.103Z"
   },
   {
    "duration": 423,
    "start_time": "2025-03-28T09:53:16.835Z"
   },
   {
    "duration": 599,
    "start_time": "2025-03-28T09:53:23.221Z"
   },
   {
    "duration": 470,
    "start_time": "2025-03-28T09:54:29.229Z"
   },
   {
    "duration": 475,
    "start_time": "2025-03-28T09:54:57.830Z"
   },
   {
    "duration": 467,
    "start_time": "2025-03-28T09:55:26.352Z"
   },
   {
    "duration": 445,
    "start_time": "2025-03-28T09:56:01.692Z"
   },
   {
    "duration": 122,
    "start_time": "2025-03-28T09:56:32.281Z"
   },
   {
    "duration": 452,
    "start_time": "2025-03-28T09:56:38.678Z"
   },
   {
    "duration": 1413,
    "start_time": "2025-03-28T18:53:05.924Z"
   },
   {
    "duration": 13580,
    "start_time": "2025-03-28T18:53:07.340Z"
   },
   {
    "duration": 116,
    "start_time": "2025-03-28T18:53:20.922Z"
   },
   {
    "duration": 19,
    "start_time": "2025-03-28T18:53:21.040Z"
   },
   {
    "duration": 348,
    "start_time": "2025-03-28T18:53:21.060Z"
   },
   {
    "duration": 27,
    "start_time": "2025-03-28T18:53:21.409Z"
   },
   {
    "duration": 12,
    "start_time": "2025-03-28T18:53:21.437Z"
   },
   {
    "duration": 123,
    "start_time": "2025-03-28T18:53:21.450Z"
   },
   {
    "duration": 8,
    "start_time": "2025-03-28T18:53:21.575Z"
   },
   {
    "duration": 910,
    "start_time": "2025-03-28T18:53:21.586Z"
   },
   {
    "duration": 349,
    "start_time": "2025-03-28T18:53:22.498Z"
   },
   {
    "duration": 498,
    "start_time": "2025-03-28T18:53:22.849Z"
   },
   {
    "duration": 15,
    "start_time": "2025-03-28T18:53:23.349Z"
   },
   {
    "duration": 320,
    "start_time": "2025-03-28T18:53:23.365Z"
   },
   {
    "duration": 460,
    "start_time": "2025-03-28T18:53:23.687Z"
   },
   {
    "duration": 282,
    "start_time": "2025-03-28T18:53:24.149Z"
   },
   {
    "duration": 602,
    "start_time": "2025-03-28T18:53:24.432Z"
   },
   {
    "duration": 206,
    "start_time": "2025-03-28T18:53:25.035Z"
   },
   {
    "duration": 862,
    "start_time": "2025-03-28T18:53:25.243Z"
   },
   {
    "duration": 1820,
    "start_time": "2025-03-28T18:53:26.107Z"
   },
   {
    "duration": 1515,
    "start_time": "2025-03-28T18:53:27.928Z"
   },
   {
    "duration": 2392,
    "start_time": "2025-03-28T18:53:29.445Z"
   },
   {
    "duration": 5406,
    "start_time": "2025-03-28T18:53:31.838Z"
   },
   {
    "duration": 6266,
    "start_time": "2025-03-28T18:53:37.246Z"
   },
   {
    "duration": 31,
    "start_time": "2025-03-28T18:53:43.513Z"
   },
   {
    "duration": 178,
    "start_time": "2025-03-28T18:53:43.545Z"
   },
   {
    "duration": 589,
    "start_time": "2025-03-28T18:53:43.724Z"
   },
   {
    "duration": 548,
    "start_time": "2025-03-28T18:53:44.316Z"
   },
   {
    "duration": 291,
    "start_time": "2025-03-28T18:53:44.866Z"
   },
   {
    "duration": 302,
    "start_time": "2025-03-28T18:53:45.160Z"
   },
   {
    "duration": 21,
    "start_time": "2025-03-28T18:53:45.468Z"
   },
   {
    "duration": 463,
    "start_time": "2025-03-28T18:53:45.504Z"
   },
   {
    "duration": 172,
    "start_time": "2025-03-28T18:53:45.968Z"
   },
   {
    "duration": 1863,
    "start_time": "2025-03-28T18:53:46.141Z"
   },
   {
    "duration": 119,
    "start_time": "2025-03-28T18:53:48.006Z"
   },
   {
    "duration": 96,
    "start_time": "2025-03-28T18:53:48.126Z"
   },
   {
    "duration": 99,
    "start_time": "2025-03-28T18:53:48.224Z"
   },
   {
    "duration": 535,
    "start_time": "2025-03-28T18:53:48.324Z"
   },
   {
    "duration": 1163,
    "start_time": "2025-03-28T18:56:54.606Z"
   },
   {
    "duration": 12922,
    "start_time": "2025-03-28T18:56:55.771Z"
   },
   {
    "duration": 113,
    "start_time": "2025-03-28T18:57:08.695Z"
   },
   {
    "duration": 18,
    "start_time": "2025-03-28T18:57:08.810Z"
   },
   {
    "duration": 312,
    "start_time": "2025-03-28T18:57:08.830Z"
   },
   {
    "duration": 26,
    "start_time": "2025-03-28T18:57:09.144Z"
   },
   {
    "duration": 11,
    "start_time": "2025-03-28T18:57:09.171Z"
   },
   {
    "duration": 78,
    "start_time": "2025-03-28T18:57:09.184Z"
   },
   {
    "duration": 8,
    "start_time": "2025-03-28T18:57:09.264Z"
   },
   {
    "duration": 829,
    "start_time": "2025-03-28T18:57:09.275Z"
   },
   {
    "duration": 342,
    "start_time": "2025-03-28T18:57:10.105Z"
   },
   {
    "duration": 508,
    "start_time": "2025-03-28T18:57:10.448Z"
   },
   {
    "duration": 15,
    "start_time": "2025-03-28T18:57:10.957Z"
   },
   {
    "duration": 331,
    "start_time": "2025-03-28T18:57:10.974Z"
   },
   {
    "duration": 376,
    "start_time": "2025-03-28T18:57:11.306Z"
   },
   {
    "duration": 278,
    "start_time": "2025-03-28T18:57:11.684Z"
   },
   {
    "duration": 584,
    "start_time": "2025-03-28T18:57:11.963Z"
   },
   {
    "duration": 202,
    "start_time": "2025-03-28T18:57:12.548Z"
   },
   {
    "duration": 739,
    "start_time": "2025-03-28T18:57:12.751Z"
   },
   {
    "duration": 875,
    "start_time": "2025-03-28T18:57:13.491Z"
   },
   {
    "duration": 898,
    "start_time": "2025-03-28T18:57:14.368Z"
   },
   {
    "duration": 1680,
    "start_time": "2025-03-28T18:57:15.267Z"
   },
   {
    "duration": 5327,
    "start_time": "2025-03-28T18:57:16.948Z"
   },
   {
    "duration": 4934,
    "start_time": "2025-03-28T18:57:22.277Z"
   },
   {
    "duration": 34,
    "start_time": "2025-03-28T18:57:27.213Z"
   },
   {
    "duration": 98,
    "start_time": "2025-03-28T18:57:27.249Z"
   },
   {
    "duration": 332,
    "start_time": "2025-03-28T18:57:27.349Z"
   },
   {
    "duration": 522,
    "start_time": "2025-03-28T18:57:27.685Z"
   },
   {
    "duration": 320,
    "start_time": "2025-03-28T18:57:28.210Z"
   },
   {
    "duration": 309,
    "start_time": "2025-03-28T18:57:28.532Z"
   },
   {
    "duration": 18,
    "start_time": "2025-03-28T18:57:28.842Z"
   },
   {
    "duration": 415,
    "start_time": "2025-03-28T18:57:28.862Z"
   },
   {
    "duration": 165,
    "start_time": "2025-03-28T18:57:29.279Z"
   },
   {
    "duration": 1335,
    "start_time": "2025-03-28T18:57:29.446Z"
   },
   {
    "duration": 72,
    "start_time": "2025-03-28T18:57:30.783Z"
   },
   {
    "duration": 53,
    "start_time": "2025-03-28T18:57:30.857Z"
   },
   {
    "duration": 39,
    "start_time": "2025-03-28T18:57:30.911Z"
   },
   {
    "duration": 375,
    "start_time": "2025-03-28T18:57:30.952Z"
   },
   {
    "duration": 418,
    "start_time": "2025-03-28T18:58:44.303Z"
   },
   {
    "duration": 401,
    "start_time": "2025-03-28T18:59:15.692Z"
   },
   {
    "duration": 400,
    "start_time": "2025-03-28T18:59:57.380Z"
   },
   {
    "duration": 350,
    "start_time": "2025-03-28T19:01:16.771Z"
   },
   {
    "duration": 360,
    "start_time": "2025-03-28T19:01:53.228Z"
   },
   {
    "duration": 328,
    "start_time": "2025-03-28T19:03:12.682Z"
   },
   {
    "duration": 359,
    "start_time": "2025-03-28T19:03:27.267Z"
   },
   {
    "duration": 1082,
    "start_time": "2025-03-28T19:10:43.935Z"
   },
   {
    "duration": 13179,
    "start_time": "2025-03-28T19:10:45.018Z"
   },
   {
    "duration": 132,
    "start_time": "2025-03-28T19:10:58.199Z"
   },
   {
    "duration": 17,
    "start_time": "2025-03-28T19:10:58.333Z"
   },
   {
    "duration": 370,
    "start_time": "2025-03-28T19:10:58.352Z"
   },
   {
    "duration": 24,
    "start_time": "2025-03-28T19:10:58.723Z"
   },
   {
    "duration": 23,
    "start_time": "2025-03-28T19:10:58.748Z"
   },
   {
    "duration": 56,
    "start_time": "2025-03-28T19:10:58.772Z"
   },
   {
    "duration": 8,
    "start_time": "2025-03-28T19:10:58.829Z"
   },
   {
    "duration": 800,
    "start_time": "2025-03-28T19:10:58.839Z"
   },
   {
    "duration": 339,
    "start_time": "2025-03-28T19:10:59.640Z"
   },
   {
    "duration": 493,
    "start_time": "2025-03-28T19:10:59.980Z"
   },
   {
    "duration": 14,
    "start_time": "2025-03-28T19:11:00.475Z"
   },
   {
    "duration": 442,
    "start_time": "2025-03-28T19:11:00.504Z"
   },
   {
    "duration": 361,
    "start_time": "2025-03-28T19:11:00.949Z"
   },
   {
    "duration": 266,
    "start_time": "2025-03-28T19:11:01.311Z"
   },
   {
    "duration": 559,
    "start_time": "2025-03-28T19:11:01.578Z"
   },
   {
    "duration": 194,
    "start_time": "2025-03-28T19:11:02.139Z"
   },
   {
    "duration": 741,
    "start_time": "2025-03-28T19:11:02.335Z"
   },
   {
    "duration": 879,
    "start_time": "2025-03-28T19:11:03.077Z"
   },
   {
    "duration": 928,
    "start_time": "2025-03-28T19:11:03.957Z"
   },
   {
    "duration": 1656,
    "start_time": "2025-03-28T19:11:04.887Z"
   },
   {
    "duration": 5102,
    "start_time": "2025-03-28T19:11:06.545Z"
   },
   {
    "duration": 5303,
    "start_time": "2025-03-28T19:11:11.648Z"
   },
   {
    "duration": 27,
    "start_time": "2025-03-28T19:11:16.952Z"
   },
   {
    "duration": 89,
    "start_time": "2025-03-28T19:11:16.981Z"
   },
   {
    "duration": 286,
    "start_time": "2025-03-28T19:11:17.072Z"
   },
   {
    "duration": 485,
    "start_time": "2025-03-28T19:11:17.361Z"
   },
   {
    "duration": 307,
    "start_time": "2025-03-28T19:11:17.848Z"
   },
   {
    "duration": 295,
    "start_time": "2025-03-28T19:11:18.157Z"
   },
   {
    "duration": 17,
    "start_time": "2025-03-28T19:11:18.453Z"
   },
   {
    "duration": 531,
    "start_time": "2025-03-28T19:11:18.471Z"
   },
   {
    "duration": 162,
    "start_time": "2025-03-28T19:11:19.003Z"
   },
   {
    "duration": 1277,
    "start_time": "2025-03-28T19:11:19.167Z"
   },
   {
    "duration": 62,
    "start_time": "2025-03-28T19:11:20.446Z"
   },
   {
    "duration": 119,
    "start_time": "2025-03-28T19:11:20.510Z"
   },
   {
    "duration": 66,
    "start_time": "2025-03-28T19:11:20.631Z"
   },
   {
    "duration": 337,
    "start_time": "2025-03-28T19:11:20.699Z"
   },
   {
    "duration": 316,
    "start_time": "2025-03-28T19:11:21.038Z"
   },
   {
    "duration": 1445,
    "start_time": "2025-03-29T11:36:54.691Z"
   },
   {
    "duration": 11602,
    "start_time": "2025-03-29T11:36:56.138Z"
   },
   {
    "duration": 137,
    "start_time": "2025-03-29T11:37:07.742Z"
   },
   {
    "duration": 19,
    "start_time": "2025-03-29T11:37:07.881Z"
   },
   {
    "duration": 332,
    "start_time": "2025-03-29T11:37:07.901Z"
   },
   {
    "duration": 33,
    "start_time": "2025-03-29T11:37:08.235Z"
   },
   {
    "duration": 77,
    "start_time": "2025-03-29T11:37:08.270Z"
   },
   {
    "duration": 92,
    "start_time": "2025-03-29T11:37:08.349Z"
   },
   {
    "duration": 9,
    "start_time": "2025-03-29T11:37:08.442Z"
   },
   {
    "duration": 946,
    "start_time": "2025-03-29T11:37:08.453Z"
   },
   {
    "duration": 381,
    "start_time": "2025-03-29T11:37:09.401Z"
   },
   {
    "duration": 552,
    "start_time": "2025-03-29T11:37:09.784Z"
   },
   {
    "duration": 24,
    "start_time": "2025-03-29T11:37:10.338Z"
   },
   {
    "duration": 381,
    "start_time": "2025-03-29T11:37:10.364Z"
   },
   {
    "duration": 480,
    "start_time": "2025-03-29T11:37:10.747Z"
   },
   {
    "duration": 300,
    "start_time": "2025-03-29T11:37:11.229Z"
   },
   {
    "duration": 639,
    "start_time": "2025-03-29T11:37:11.530Z"
   },
   {
    "duration": 203,
    "start_time": "2025-03-29T11:37:12.171Z"
   },
   {
    "duration": 827,
    "start_time": "2025-03-29T11:37:12.375Z"
   },
   {
    "duration": 1015,
    "start_time": "2025-03-29T11:37:13.204Z"
   },
   {
    "duration": 1022,
    "start_time": "2025-03-29T11:37:14.221Z"
   },
   {
    "duration": 1947,
    "start_time": "2025-03-29T11:37:15.245Z"
   },
   {
    "duration": 5434,
    "start_time": "2025-03-29T11:37:17.194Z"
   },
   {
    "duration": 5103,
    "start_time": "2025-03-29T11:37:22.631Z"
   },
   {
    "duration": 38,
    "start_time": "2025-03-29T11:37:27.736Z"
   },
   {
    "duration": 95,
    "start_time": "2025-03-29T11:37:27.775Z"
   },
   {
    "duration": 339,
    "start_time": "2025-03-29T11:37:27.872Z"
   },
   {
    "duration": 503,
    "start_time": "2025-03-29T11:37:28.215Z"
   },
   {
    "duration": 284,
    "start_time": "2025-03-29T11:37:28.720Z"
   },
   {
    "duration": 303,
    "start_time": "2025-03-29T11:37:29.005Z"
   },
   {
    "duration": 19,
    "start_time": "2025-03-29T11:37:29.310Z"
   },
   {
    "duration": 470,
    "start_time": "2025-03-29T11:37:29.331Z"
   },
   {
    "duration": 178,
    "start_time": "2025-03-29T11:37:29.803Z"
   },
   {
    "duration": 1460,
    "start_time": "2025-03-29T11:37:29.983Z"
   },
   {
    "duration": 71,
    "start_time": "2025-03-29T11:37:31.445Z"
   },
   {
    "duration": 89,
    "start_time": "2025-03-29T11:37:31.517Z"
   },
   {
    "duration": 46,
    "start_time": "2025-03-29T11:37:31.608Z"
   },
   {
    "duration": 384,
    "start_time": "2025-03-29T11:37:31.656Z"
   },
   {
    "duration": 361,
    "start_time": "2025-03-29T11:37:32.042Z"
   },
   {
    "duration": 5,
    "start_time": "2025-03-29T11:38:21.617Z"
   },
   {
    "duration": 5,
    "start_time": "2025-03-29T11:38:37.738Z"
   },
   {
    "duration": 162,
    "start_time": "2025-03-29T11:38:58.840Z"
   },
   {
    "duration": 76,
    "start_time": "2025-03-29T11:39:17.288Z"
   },
   {
    "duration": 4,
    "start_time": "2025-03-29T11:40:09.078Z"
   },
   {
    "duration": 431,
    "start_time": "2025-03-29T11:40:26.595Z"
   },
   {
    "duration": 369,
    "start_time": "2025-03-29T11:40:38.743Z"
   },
   {
    "duration": 357,
    "start_time": "2025-03-29T11:40:49.942Z"
   },
   {
    "duration": 368,
    "start_time": "2025-03-29T11:40:59.206Z"
   },
   {
    "duration": 52,
    "start_time": "2025-03-29T11:44:25.336Z"
   },
   {
    "duration": 117,
    "start_time": "2025-03-29T11:45:21.210Z"
   },
   {
    "duration": 4,
    "start_time": "2025-03-29T11:46:45.870Z"
   },
   {
    "duration": 4,
    "start_time": "2025-03-29T11:46:54.089Z"
   },
   {
    "duration": 1197,
    "start_time": "2025-03-29T12:01:44.344Z"
   },
   {
    "duration": 13773,
    "start_time": "2025-03-29T12:01:45.543Z"
   },
   {
    "duration": 128,
    "start_time": "2025-03-29T12:01:59.318Z"
   },
   {
    "duration": 26,
    "start_time": "2025-03-29T12:01:59.448Z"
   },
   {
    "duration": 339,
    "start_time": "2025-03-29T12:01:59.475Z"
   },
   {
    "duration": 32,
    "start_time": "2025-03-29T12:01:59.816Z"
   },
   {
    "duration": 21,
    "start_time": "2025-03-29T12:01:59.850Z"
   },
   {
    "duration": 57,
    "start_time": "2025-03-29T12:01:59.872Z"
   },
   {
    "duration": 9,
    "start_time": "2025-03-29T12:01:59.930Z"
   },
   {
    "duration": 950,
    "start_time": "2025-03-29T12:01:59.942Z"
   },
   {
    "duration": 388,
    "start_time": "2025-03-29T12:02:00.894Z"
   },
   {
    "duration": 547,
    "start_time": "2025-03-29T12:02:01.283Z"
   },
   {
    "duration": 17,
    "start_time": "2025-03-29T12:02:01.831Z"
   },
   {
    "duration": 414,
    "start_time": "2025-03-29T12:02:01.850Z"
   },
   {
    "duration": 419,
    "start_time": "2025-03-29T12:02:02.266Z"
   },
   {
    "duration": 304,
    "start_time": "2025-03-29T12:02:02.687Z"
   },
   {
    "duration": 628,
    "start_time": "2025-03-29T12:02:02.992Z"
   },
   {
    "duration": 240,
    "start_time": "2025-03-29T12:02:03.622Z"
   },
   {
    "duration": 841,
    "start_time": "2025-03-29T12:02:03.864Z"
   },
   {
    "duration": 993,
    "start_time": "2025-03-29T12:02:04.707Z"
   },
   {
    "duration": 1044,
    "start_time": "2025-03-29T12:02:05.702Z"
   },
   {
    "duration": 1932,
    "start_time": "2025-03-29T12:02:06.747Z"
   },
   {
    "duration": 5591,
    "start_time": "2025-03-29T12:02:08.681Z"
   },
   {
    "duration": 5367,
    "start_time": "2025-03-29T12:02:14.273Z"
   },
   {
    "duration": 39,
    "start_time": "2025-03-29T12:02:19.642Z"
   },
   {
    "duration": 131,
    "start_time": "2025-03-29T12:02:19.683Z"
   },
   {
    "duration": 321,
    "start_time": "2025-03-29T12:02:19.816Z"
   },
   {
    "duration": 515,
    "start_time": "2025-03-29T12:02:20.140Z"
   },
   {
    "duration": 272,
    "start_time": "2025-03-29T12:02:20.661Z"
   },
   {
    "duration": 298,
    "start_time": "2025-03-29T12:02:20.935Z"
   },
   {
    "duration": 32,
    "start_time": "2025-03-29T12:02:21.235Z"
   },
   {
    "duration": 433,
    "start_time": "2025-03-29T12:02:21.269Z"
   },
   {
    "duration": 185,
    "start_time": "2025-03-29T12:02:21.704Z"
   },
   {
    "duration": 1476,
    "start_time": "2025-03-29T12:02:21.891Z"
   },
   {
    "duration": 68,
    "start_time": "2025-03-29T12:02:23.369Z"
   },
   {
    "duration": 163,
    "start_time": "2025-03-29T12:02:23.439Z"
   },
   {
    "duration": 128,
    "start_time": "2025-03-29T12:02:23.603Z"
   },
   {
    "duration": 407,
    "start_time": "2025-03-29T12:02:23.732Z"
   },
   {
    "duration": 363,
    "start_time": "2025-03-29T12:02:24.141Z"
   },
   {
    "duration": 1289,
    "start_time": "2025-03-29T16:07:22.800Z"
   },
   {
    "duration": 13494,
    "start_time": "2025-03-29T16:07:24.091Z"
   },
   {
    "duration": 122,
    "start_time": "2025-03-29T16:07:37.588Z"
   },
   {
    "duration": 16,
    "start_time": "2025-03-29T16:07:37.713Z"
   },
   {
    "duration": 237,
    "start_time": "2025-03-29T16:07:37.731Z"
   },
   {
    "duration": 22,
    "start_time": "2025-03-29T16:07:37.970Z"
   },
   {
    "duration": 10,
    "start_time": "2025-03-29T16:07:37.994Z"
   },
   {
    "duration": 54,
    "start_time": "2025-03-29T16:07:38.006Z"
   },
   {
    "duration": 7,
    "start_time": "2025-03-29T16:07:38.062Z"
   },
   {
    "duration": 907,
    "start_time": "2025-03-29T16:07:38.071Z"
   },
   {
    "duration": 363,
    "start_time": "2025-03-29T16:07:38.979Z"
   },
   {
    "duration": 503,
    "start_time": "2025-03-29T16:07:39.343Z"
   },
   {
    "duration": 19,
    "start_time": "2025-03-29T16:07:39.848Z"
   },
   {
    "duration": 361,
    "start_time": "2025-03-29T16:07:39.869Z"
   },
   {
    "duration": 422,
    "start_time": "2025-03-29T16:07:40.232Z"
   },
   {
    "duration": 271,
    "start_time": "2025-03-29T16:07:40.656Z"
   },
   {
    "duration": 616,
    "start_time": "2025-03-29T16:07:40.929Z"
   },
   {
    "duration": 193,
    "start_time": "2025-03-29T16:07:41.547Z"
   },
   {
    "duration": 792,
    "start_time": "2025-03-29T16:07:41.741Z"
   },
   {
    "duration": 938,
    "start_time": "2025-03-29T16:07:42.535Z"
   },
   {
    "duration": 916,
    "start_time": "2025-03-29T16:07:43.475Z"
   },
   {
    "duration": 1699,
    "start_time": "2025-03-29T16:07:44.393Z"
   },
   {
    "duration": 5323,
    "start_time": "2025-03-29T16:07:46.094Z"
   },
   {
    "duration": 4940,
    "start_time": "2025-03-29T16:07:51.419Z"
   },
   {
    "duration": 28,
    "start_time": "2025-03-29T16:07:56.360Z"
   },
   {
    "duration": 94,
    "start_time": "2025-03-29T16:07:56.390Z"
   },
   {
    "duration": 325,
    "start_time": "2025-03-29T16:07:56.485Z"
   },
   {
    "duration": 485,
    "start_time": "2025-03-29T16:07:56.813Z"
   },
   {
    "duration": 298,
    "start_time": "2025-03-29T16:07:57.299Z"
   },
   {
    "duration": 302,
    "start_time": "2025-03-29T16:07:57.598Z"
   },
   {
    "duration": 17,
    "start_time": "2025-03-29T16:07:57.901Z"
   },
   {
    "duration": 408,
    "start_time": "2025-03-29T16:07:57.919Z"
   },
   {
    "duration": 171,
    "start_time": "2025-03-29T16:07:58.329Z"
   },
   {
    "duration": 1397,
    "start_time": "2025-03-29T16:07:58.501Z"
   },
   {
    "duration": 68,
    "start_time": "2025-03-29T16:07:59.900Z"
   },
   {
    "duration": 35,
    "start_time": "2025-03-29T16:07:59.970Z"
   },
   {
    "duration": 58,
    "start_time": "2025-03-29T16:08:00.006Z"
   },
   {
    "duration": 399,
    "start_time": "2025-03-29T16:08:00.066Z"
   },
   {
    "duration": 355,
    "start_time": "2025-03-29T16:08:00.466Z"
   },
   {
    "duration": 1335,
    "start_time": "2025-03-29T16:42:17.233Z"
   },
   {
    "duration": 13483,
    "start_time": "2025-03-29T16:42:18.569Z"
   },
   {
    "duration": 125,
    "start_time": "2025-03-29T16:42:32.056Z"
   },
   {
    "duration": 19,
    "start_time": "2025-03-29T16:42:32.183Z"
   },
   {
    "duration": 249,
    "start_time": "2025-03-29T16:42:32.203Z"
   },
   {
    "duration": 26,
    "start_time": "2025-03-29T16:42:32.454Z"
   },
   {
    "duration": 14,
    "start_time": "2025-03-29T16:42:32.481Z"
   },
   {
    "duration": 83,
    "start_time": "2025-03-29T16:42:32.497Z"
   },
   {
    "duration": 8,
    "start_time": "2025-03-29T16:42:32.581Z"
   },
   {
    "duration": 939,
    "start_time": "2025-03-29T16:42:32.592Z"
   },
   {
    "duration": 362,
    "start_time": "2025-03-29T16:42:33.532Z"
   },
   {
    "duration": 512,
    "start_time": "2025-03-29T16:42:33.896Z"
   },
   {
    "duration": 16,
    "start_time": "2025-03-29T16:42:34.410Z"
   },
   {
    "duration": 359,
    "start_time": "2025-03-29T16:42:34.427Z"
   },
   {
    "duration": 431,
    "start_time": "2025-03-29T16:42:34.788Z"
   },
   {
    "duration": 202,
    "start_time": "2025-03-29T16:42:35.220Z"
   },
   {
    "duration": 587,
    "start_time": "2025-03-29T16:42:35.424Z"
   },
   {
    "duration": 199,
    "start_time": "2025-03-29T16:42:36.013Z"
   },
   {
    "duration": 791,
    "start_time": "2025-03-29T16:42:36.214Z"
   },
   {
    "duration": 976,
    "start_time": "2025-03-29T16:42:37.007Z"
   },
   {
    "duration": 955,
    "start_time": "2025-03-29T16:42:37.984Z"
   },
   {
    "duration": 2467,
    "start_time": "2025-03-29T16:42:38.941Z"
   },
   {
    "duration": 5864,
    "start_time": "2025-03-29T16:42:41.410Z"
   },
   {
    "duration": 4950,
    "start_time": "2025-03-29T16:42:47.276Z"
   },
   {
    "duration": 37,
    "start_time": "2025-03-29T16:42:52.228Z"
   },
   {
    "duration": 80,
    "start_time": "2025-03-29T16:42:52.266Z"
   },
   {
    "duration": 302,
    "start_time": "2025-03-29T16:42:52.356Z"
   },
   {
    "duration": 490,
    "start_time": "2025-03-29T16:42:52.661Z"
   },
   {
    "duration": 269,
    "start_time": "2025-03-29T16:42:53.156Z"
   },
   {
    "duration": 284,
    "start_time": "2025-03-29T16:42:53.426Z"
   },
   {
    "duration": 19,
    "start_time": "2025-03-29T16:42:53.712Z"
   },
   {
    "duration": 467,
    "start_time": "2025-03-29T16:42:53.732Z"
   },
   {
    "duration": 169,
    "start_time": "2025-03-29T16:42:54.201Z"
   },
   {
    "duration": 1407,
    "start_time": "2025-03-29T16:42:54.371Z"
   },
   {
    "duration": 66,
    "start_time": "2025-03-29T16:42:55.779Z"
   },
   {
    "duration": 33,
    "start_time": "2025-03-29T16:42:55.847Z"
   },
   {
    "duration": 34,
    "start_time": "2025-03-29T16:42:55.881Z"
   },
   {
    "duration": 361,
    "start_time": "2025-03-29T16:42:55.916Z"
   },
   {
    "duration": 321,
    "start_time": "2025-03-29T16:42:56.279Z"
   },
   {
    "duration": 380,
    "start_time": "2025-03-29T16:46:57.023Z"
   },
   {
    "duration": 233,
    "start_time": "2025-03-29T16:51:33.556Z"
   },
   {
    "duration": 231,
    "start_time": "2025-03-29T16:52:38.329Z"
   },
   {
    "duration": 230,
    "start_time": "2025-03-29T16:52:50.731Z"
   },
   {
    "duration": 225,
    "start_time": "2025-03-29T16:52:58.300Z"
   },
   {
    "duration": 1043,
    "start_time": "2025-03-29T16:53:12.516Z"
   },
   {
    "duration": 81,
    "start_time": "2025-03-29T16:56:05.103Z"
   },
   {
    "duration": 1082,
    "start_time": "2025-03-29T16:56:43.204Z"
   },
   {
    "duration": 14723,
    "start_time": "2025-03-29T16:56:44.288Z"
   },
   {
    "duration": 126,
    "start_time": "2025-03-29T16:56:59.012Z"
   },
   {
    "duration": 21,
    "start_time": "2025-03-29T16:56:59.140Z"
   },
   {
    "duration": 245,
    "start_time": "2025-03-29T16:56:59.162Z"
   },
   {
    "duration": 36,
    "start_time": "2025-03-29T16:56:59.409Z"
   },
   {
    "duration": 20,
    "start_time": "2025-03-29T16:56:59.446Z"
   },
   {
    "duration": 44,
    "start_time": "2025-03-29T16:56:59.467Z"
   },
   {
    "duration": 8,
    "start_time": "2025-03-29T16:56:59.512Z"
   },
   {
    "duration": 920,
    "start_time": "2025-03-29T16:56:59.523Z"
   },
   {
    "duration": 363,
    "start_time": "2025-03-29T16:57:00.445Z"
   },
   {
    "duration": 520,
    "start_time": "2025-03-29T16:57:00.810Z"
   },
   {
    "duration": 30,
    "start_time": "2025-03-29T16:57:01.332Z"
   },
   {
    "duration": 364,
    "start_time": "2025-03-29T16:57:01.364Z"
   },
   {
    "duration": 370,
    "start_time": "2025-03-29T16:57:01.729Z"
   },
   {
    "duration": 212,
    "start_time": "2025-03-29T16:57:02.101Z"
   },
   {
    "duration": 1841,
    "start_time": "2025-03-29T16:57:02.316Z"
   },
   {
    "duration": 0,
    "start_time": "2025-03-29T16:57:04.159Z"
   },
   {
    "duration": 0,
    "start_time": "2025-03-29T16:57:04.161Z"
   },
   {
    "duration": 0,
    "start_time": "2025-03-29T16:57:04.163Z"
   },
   {
    "duration": 0,
    "start_time": "2025-03-29T16:57:04.164Z"
   },
   {
    "duration": 0,
    "start_time": "2025-03-29T16:57:04.166Z"
   },
   {
    "duration": 0,
    "start_time": "2025-03-29T16:57:04.167Z"
   },
   {
    "duration": 0,
    "start_time": "2025-03-29T16:57:04.168Z"
   },
   {
    "duration": 0,
    "start_time": "2025-03-29T16:57:04.169Z"
   },
   {
    "duration": 0,
    "start_time": "2025-03-29T16:57:04.170Z"
   },
   {
    "duration": 0,
    "start_time": "2025-03-29T16:57:04.171Z"
   },
   {
    "duration": 0,
    "start_time": "2025-03-29T16:57:04.172Z"
   },
   {
    "duration": 0,
    "start_time": "2025-03-29T16:57:04.174Z"
   },
   {
    "duration": 0,
    "start_time": "2025-03-29T16:57:04.175Z"
   },
   {
    "duration": 0,
    "start_time": "2025-03-29T16:57:04.177Z"
   },
   {
    "duration": 0,
    "start_time": "2025-03-29T16:57:04.178Z"
   },
   {
    "duration": 0,
    "start_time": "2025-03-29T16:57:04.179Z"
   },
   {
    "duration": 0,
    "start_time": "2025-03-29T16:57:04.181Z"
   },
   {
    "duration": 0,
    "start_time": "2025-03-29T16:57:04.182Z"
   },
   {
    "duration": 0,
    "start_time": "2025-03-29T16:57:04.184Z"
   },
   {
    "duration": 0,
    "start_time": "2025-03-29T16:57:04.185Z"
   },
   {
    "duration": 0,
    "start_time": "2025-03-29T16:57:04.187Z"
   },
   {
    "duration": 0,
    "start_time": "2025-03-29T16:57:04.189Z"
   },
   {
    "duration": 1447,
    "start_time": "2025-03-29T17:00:18.750Z"
   },
   {
    "duration": 194,
    "start_time": "2025-03-29T17:00:48.548Z"
   },
   {
    "duration": 807,
    "start_time": "2025-03-29T17:00:57.200Z"
   },
   {
    "duration": 967,
    "start_time": "2025-03-29T17:01:00.062Z"
   },
   {
    "duration": 1042,
    "start_time": "2025-03-29T17:01:03.100Z"
   },
   {
    "duration": 1713,
    "start_time": "2025-03-29T17:01:32.861Z"
   },
   {
    "duration": 190,
    "start_time": "2025-03-29T17:01:44.108Z"
   },
   {
    "duration": 699,
    "start_time": "2025-03-29T17:01:47.966Z"
   },
   {
    "duration": 901,
    "start_time": "2025-03-29T17:01:48.785Z"
   },
   {
    "duration": 975,
    "start_time": "2025-03-29T17:01:51.187Z"
   },
   {
    "duration": 1135,
    "start_time": "2025-03-29T17:02:36.462Z"
   },
   {
    "duration": 14034,
    "start_time": "2025-03-29T17:02:37.599Z"
   },
   {
    "duration": 129,
    "start_time": "2025-03-29T17:02:51.635Z"
   },
   {
    "duration": 17,
    "start_time": "2025-03-29T17:02:51.766Z"
   },
   {
    "duration": 252,
    "start_time": "2025-03-29T17:02:51.784Z"
   },
   {
    "duration": 35,
    "start_time": "2025-03-29T17:02:52.037Z"
   },
   {
    "duration": 37,
    "start_time": "2025-03-29T17:02:52.074Z"
   },
   {
    "duration": 76,
    "start_time": "2025-03-29T17:02:52.112Z"
   },
   {
    "duration": 8,
    "start_time": "2025-03-29T17:02:52.190Z"
   },
   {
    "duration": 990,
    "start_time": "2025-03-29T17:02:52.200Z"
   },
   {
    "duration": 398,
    "start_time": "2025-03-29T17:02:53.193Z"
   },
   {
    "duration": 565,
    "start_time": "2025-03-29T17:02:53.593Z"
   },
   {
    "duration": 17,
    "start_time": "2025-03-29T17:02:54.160Z"
   },
   {
    "duration": 365,
    "start_time": "2025-03-29T17:02:54.178Z"
   },
   {
    "duration": 357,
    "start_time": "2025-03-29T17:02:54.544Z"
   },
   {
    "duration": 199,
    "start_time": "2025-03-29T17:02:54.903Z"
   },
   {
    "duration": 509,
    "start_time": "2025-03-29T17:02:55.104Z"
   },
   {
    "duration": 0,
    "start_time": "2025-03-29T17:02:55.615Z"
   },
   {
    "duration": 0,
    "start_time": "2025-03-29T17:02:55.617Z"
   },
   {
    "duration": 0,
    "start_time": "2025-03-29T17:02:55.618Z"
   },
   {
    "duration": 0,
    "start_time": "2025-03-29T17:02:55.619Z"
   },
   {
    "duration": 0,
    "start_time": "2025-03-29T17:02:55.621Z"
   },
   {
    "duration": 0,
    "start_time": "2025-03-29T17:02:55.622Z"
   },
   {
    "duration": 0,
    "start_time": "2025-03-29T17:02:55.623Z"
   },
   {
    "duration": 0,
    "start_time": "2025-03-29T17:02:55.624Z"
   },
   {
    "duration": 0,
    "start_time": "2025-03-29T17:02:55.626Z"
   },
   {
    "duration": 0,
    "start_time": "2025-03-29T17:02:55.627Z"
   },
   {
    "duration": 0,
    "start_time": "2025-03-29T17:02:55.628Z"
   },
   {
    "duration": 0,
    "start_time": "2025-03-29T17:02:55.629Z"
   },
   {
    "duration": 0,
    "start_time": "2025-03-29T17:02:55.630Z"
   },
   {
    "duration": 0,
    "start_time": "2025-03-29T17:02:55.631Z"
   },
   {
    "duration": 0,
    "start_time": "2025-03-29T17:02:55.657Z"
   },
   {
    "duration": 0,
    "start_time": "2025-03-29T17:02:55.658Z"
   },
   {
    "duration": 0,
    "start_time": "2025-03-29T17:02:55.659Z"
   },
   {
    "duration": 0,
    "start_time": "2025-03-29T17:02:55.660Z"
   },
   {
    "duration": 0,
    "start_time": "2025-03-29T17:02:55.661Z"
   },
   {
    "duration": 0,
    "start_time": "2025-03-29T17:02:55.662Z"
   },
   {
    "duration": 0,
    "start_time": "2025-03-29T17:02:55.663Z"
   },
   {
    "duration": 0,
    "start_time": "2025-03-29T17:02:55.664Z"
   },
   {
    "duration": 1170,
    "start_time": "2025-03-29T17:04:17.329Z"
   },
   {
    "duration": 13414,
    "start_time": "2025-03-29T17:04:18.501Z"
   },
   {
    "duration": 125,
    "start_time": "2025-03-29T17:04:31.917Z"
   },
   {
    "duration": 21,
    "start_time": "2025-03-29T17:04:32.044Z"
   },
   {
    "duration": 252,
    "start_time": "2025-03-29T17:04:32.067Z"
   },
   {
    "duration": 36,
    "start_time": "2025-03-29T17:04:32.321Z"
   },
   {
    "duration": 28,
    "start_time": "2025-03-29T17:04:32.358Z"
   },
   {
    "duration": 82,
    "start_time": "2025-03-29T17:04:32.387Z"
   },
   {
    "duration": 9,
    "start_time": "2025-03-29T17:04:32.470Z"
   },
   {
    "duration": 955,
    "start_time": "2025-03-29T17:04:32.481Z"
   },
   {
    "duration": 378,
    "start_time": "2025-03-29T17:04:33.438Z"
   },
   {
    "duration": 558,
    "start_time": "2025-03-29T17:04:33.818Z"
   },
   {
    "duration": 16,
    "start_time": "2025-03-29T17:04:34.378Z"
   },
   {
    "duration": 361,
    "start_time": "2025-03-29T17:04:34.396Z"
   },
   {
    "duration": 411,
    "start_time": "2025-03-29T17:04:34.758Z"
   },
   {
    "duration": 209,
    "start_time": "2025-03-29T17:04:35.171Z"
   },
   {
    "duration": 1479,
    "start_time": "2025-03-29T17:04:35.382Z"
   },
   {
    "duration": 208,
    "start_time": "2025-03-29T17:04:36.863Z"
   },
   {
    "duration": 789,
    "start_time": "2025-03-29T17:04:37.072Z"
   },
   {
    "duration": 917,
    "start_time": "2025-03-29T17:04:37.862Z"
   },
   {
    "duration": 970,
    "start_time": "2025-03-29T17:04:38.781Z"
   },
   {
    "duration": 1823,
    "start_time": "2025-03-29T17:04:39.757Z"
   },
   {
    "duration": 5261,
    "start_time": "2025-03-29T17:04:41.581Z"
   },
   {
    "duration": 5104,
    "start_time": "2025-03-29T17:04:46.844Z"
   },
   {
    "duration": 33,
    "start_time": "2025-03-29T17:04:51.949Z"
   },
   {
    "duration": 109,
    "start_time": "2025-03-29T17:04:51.983Z"
   },
   {
    "duration": 327,
    "start_time": "2025-03-29T17:04:52.094Z"
   },
   {
    "duration": 473,
    "start_time": "2025-03-29T17:04:52.424Z"
   },
   {
    "duration": 297,
    "start_time": "2025-03-29T17:04:52.899Z"
   },
   {
    "duration": 323,
    "start_time": "2025-03-29T17:04:53.198Z"
   },
   {
    "duration": 19,
    "start_time": "2025-03-29T17:04:53.523Z"
   },
   {
    "duration": 461,
    "start_time": "2025-03-29T17:04:53.543Z"
   },
   {
    "duration": 163,
    "start_time": "2025-03-29T17:04:54.006Z"
   },
   {
    "duration": 1411,
    "start_time": "2025-03-29T17:04:54.171Z"
   },
   {
    "duration": 66,
    "start_time": "2025-03-29T17:04:55.584Z"
   },
   {
    "duration": 34,
    "start_time": "2025-03-29T17:04:55.652Z"
   },
   {
    "duration": 37,
    "start_time": "2025-03-29T17:04:55.687Z"
   },
   {
    "duration": 393,
    "start_time": "2025-03-29T17:04:55.725Z"
   },
   {
    "duration": 349,
    "start_time": "2025-03-29T17:04:56.120Z"
   },
   {
    "duration": 1522,
    "start_time": "2025-03-29T17:08:49.977Z"
   },
   {
    "duration": 383,
    "start_time": "2025-03-29T17:09:46.176Z"
   },
   {
    "duration": 25,
    "start_time": "2025-03-29T17:15:29.000Z"
   },
   {
    "duration": 429,
    "start_time": "2025-03-29T17:15:57.618Z"
   },
   {
    "duration": 390,
    "start_time": "2025-03-29T17:25:12.229Z"
   },
   {
    "duration": 419,
    "start_time": "2025-03-29T17:25:19.863Z"
   },
   {
    "duration": 370,
    "start_time": "2025-03-29T17:25:27.433Z"
   },
   {
    "duration": 403,
    "start_time": "2025-03-29T17:25:32.820Z"
   },
   {
    "duration": 409,
    "start_time": "2025-03-29T17:25:43.621Z"
   },
   {
    "duration": 513,
    "start_time": "2025-03-29T17:26:01.988Z"
   },
   {
    "duration": 374,
    "start_time": "2025-03-29T17:26:14.424Z"
   },
   {
    "duration": 138,
    "start_time": "2025-03-29T17:29:22.677Z"
   },
   {
    "duration": 6,
    "start_time": "2025-03-29T17:30:09.222Z"
   },
   {
    "duration": 10,
    "start_time": "2025-03-29T17:30:33.803Z"
   },
   {
    "duration": 413,
    "start_time": "2025-03-29T17:30:46.690Z"
   },
   {
    "duration": 12,
    "start_time": "2025-03-29T17:32:07.299Z"
   },
   {
    "duration": 8,
    "start_time": "2025-03-29T17:33:14.671Z"
   },
   {
    "duration": 1179,
    "start_time": "2025-03-29T17:35:48.181Z"
   },
   {
    "duration": 15138,
    "start_time": "2025-03-29T17:35:49.365Z"
   },
   {
    "duration": 138,
    "start_time": "2025-03-29T17:36:04.505Z"
   },
   {
    "duration": 26,
    "start_time": "2025-03-29T17:36:04.645Z"
   },
   {
    "duration": 304,
    "start_time": "2025-03-29T17:36:04.676Z"
   },
   {
    "duration": 33,
    "start_time": "2025-03-29T17:36:04.982Z"
   },
   {
    "duration": 54,
    "start_time": "2025-03-29T17:36:05.017Z"
   },
   {
    "duration": 83,
    "start_time": "2025-03-29T17:36:05.073Z"
   },
   {
    "duration": 13,
    "start_time": "2025-03-29T17:36:05.163Z"
   },
   {
    "duration": 965,
    "start_time": "2025-03-29T17:36:05.178Z"
   },
   {
    "duration": 382,
    "start_time": "2025-03-29T17:36:06.145Z"
   },
   {
    "duration": 568,
    "start_time": "2025-03-29T17:36:06.529Z"
   },
   {
    "duration": 15,
    "start_time": "2025-03-29T17:36:07.099Z"
   },
   {
    "duration": 368,
    "start_time": "2025-03-29T17:36:07.118Z"
   },
   {
    "duration": 411,
    "start_time": "2025-03-29T17:36:07.488Z"
   },
   {
    "duration": 218,
    "start_time": "2025-03-29T17:36:07.901Z"
   },
   {
    "duration": 1600,
    "start_time": "2025-03-29T17:36:08.121Z"
   },
   {
    "duration": 219,
    "start_time": "2025-03-29T17:36:09.723Z"
   },
   {
    "duration": 897,
    "start_time": "2025-03-29T17:36:09.944Z"
   },
   {
    "duration": 1063,
    "start_time": "2025-03-29T17:36:10.843Z"
   },
   {
    "duration": 1043,
    "start_time": "2025-03-29T17:36:11.907Z"
   },
   {
    "duration": 1928,
    "start_time": "2025-03-29T17:36:12.951Z"
   },
   {
    "duration": 5895,
    "start_time": "2025-03-29T17:36:14.881Z"
   },
   {
    "duration": 0,
    "start_time": "2025-03-29T17:36:20.779Z"
   },
   {
    "duration": 0,
    "start_time": "2025-03-29T17:36:20.780Z"
   },
   {
    "duration": 0,
    "start_time": "2025-03-29T17:36:20.781Z"
   },
   {
    "duration": 0,
    "start_time": "2025-03-29T17:36:20.783Z"
   },
   {
    "duration": 0,
    "start_time": "2025-03-29T17:36:20.784Z"
   },
   {
    "duration": 0,
    "start_time": "2025-03-29T17:36:20.785Z"
   },
   {
    "duration": 0,
    "start_time": "2025-03-29T17:36:20.786Z"
   },
   {
    "duration": 0,
    "start_time": "2025-03-29T17:36:20.787Z"
   },
   {
    "duration": 0,
    "start_time": "2025-03-29T17:36:20.788Z"
   },
   {
    "duration": 0,
    "start_time": "2025-03-29T17:36:20.790Z"
   },
   {
    "duration": 0,
    "start_time": "2025-03-29T17:36:20.791Z"
   },
   {
    "duration": 0,
    "start_time": "2025-03-29T17:36:20.792Z"
   },
   {
    "duration": 0,
    "start_time": "2025-03-29T17:36:20.793Z"
   },
   {
    "duration": 0,
    "start_time": "2025-03-29T17:36:20.794Z"
   },
   {
    "duration": 0,
    "start_time": "2025-03-29T17:36:20.796Z"
   },
   {
    "duration": 0,
    "start_time": "2025-03-29T17:36:20.797Z"
   },
   {
    "duration": 0,
    "start_time": "2025-03-29T17:36:20.798Z"
   },
   {
    "duration": 0,
    "start_time": "2025-03-29T17:36:20.799Z"
   },
   {
    "duration": 1,
    "start_time": "2025-03-29T17:36:20.800Z"
   },
   {
    "duration": 0,
    "start_time": "2025-03-29T17:36:20.802Z"
   },
   {
    "duration": 1255,
    "start_time": "2025-03-29T17:37:34.251Z"
   },
   {
    "duration": 14882,
    "start_time": "2025-03-29T17:37:35.508Z"
   },
   {
    "duration": 135,
    "start_time": "2025-03-29T17:37:50.392Z"
   },
   {
    "duration": 43,
    "start_time": "2025-03-29T17:37:50.530Z"
   },
   {
    "duration": 249,
    "start_time": "2025-03-29T17:37:50.575Z"
   },
   {
    "duration": 39,
    "start_time": "2025-03-29T17:37:50.825Z"
   },
   {
    "duration": 14,
    "start_time": "2025-03-29T17:37:50.871Z"
   },
   {
    "duration": 66,
    "start_time": "2025-03-29T17:37:50.886Z"
   },
   {
    "duration": 14,
    "start_time": "2025-03-29T17:37:50.954Z"
   },
   {
    "duration": 919,
    "start_time": "2025-03-29T17:37:50.971Z"
   },
   {
    "duration": 409,
    "start_time": "2025-03-29T17:37:51.892Z"
   },
   {
    "duration": 605,
    "start_time": "2025-03-29T17:37:52.303Z"
   },
   {
    "duration": 16,
    "start_time": "2025-03-29T17:37:52.909Z"
   },
   {
    "duration": 370,
    "start_time": "2025-03-29T17:37:52.926Z"
   },
   {
    "duration": 405,
    "start_time": "2025-03-29T17:37:53.298Z"
   },
   {
    "duration": 212,
    "start_time": "2025-03-29T17:37:53.704Z"
   },
   {
    "duration": 1597,
    "start_time": "2025-03-29T17:37:53.918Z"
   },
   {
    "duration": 234,
    "start_time": "2025-03-29T17:37:55.517Z"
   },
   {
    "duration": 842,
    "start_time": "2025-03-29T17:37:55.756Z"
   },
   {
    "duration": 1036,
    "start_time": "2025-03-29T17:37:56.600Z"
   },
   {
    "duration": 1031,
    "start_time": "2025-03-29T17:37:57.637Z"
   },
   {
    "duration": 1949,
    "start_time": "2025-03-29T17:37:58.670Z"
   },
   {
    "duration": 5988,
    "start_time": "2025-03-29T17:38:00.621Z"
   },
   {
    "duration": 0,
    "start_time": "2025-03-29T17:38:06.611Z"
   },
   {
    "duration": 0,
    "start_time": "2025-03-29T17:38:06.612Z"
   },
   {
    "duration": 0,
    "start_time": "2025-03-29T17:38:06.613Z"
   },
   {
    "duration": 0,
    "start_time": "2025-03-29T17:38:06.614Z"
   },
   {
    "duration": 0,
    "start_time": "2025-03-29T17:38:06.615Z"
   },
   {
    "duration": 0,
    "start_time": "2025-03-29T17:38:06.616Z"
   },
   {
    "duration": 0,
    "start_time": "2025-03-29T17:38:06.617Z"
   },
   {
    "duration": 0,
    "start_time": "2025-03-29T17:38:06.618Z"
   },
   {
    "duration": 0,
    "start_time": "2025-03-29T17:38:06.619Z"
   },
   {
    "duration": 0,
    "start_time": "2025-03-29T17:38:06.621Z"
   },
   {
    "duration": 0,
    "start_time": "2025-03-29T17:38:06.622Z"
   },
   {
    "duration": 0,
    "start_time": "2025-03-29T17:38:06.623Z"
   },
   {
    "duration": 0,
    "start_time": "2025-03-29T17:38:06.624Z"
   },
   {
    "duration": 0,
    "start_time": "2025-03-29T17:38:06.625Z"
   },
   {
    "duration": 0,
    "start_time": "2025-03-29T17:38:06.626Z"
   },
   {
    "duration": 0,
    "start_time": "2025-03-29T17:38:06.627Z"
   },
   {
    "duration": 0,
    "start_time": "2025-03-29T17:38:06.628Z"
   },
   {
    "duration": 0,
    "start_time": "2025-03-29T17:38:06.629Z"
   },
   {
    "duration": 0,
    "start_time": "2025-03-29T17:38:06.629Z"
   },
   {
    "duration": 0,
    "start_time": "2025-03-29T17:38:06.629Z"
   },
   {
    "duration": 1179,
    "start_time": "2025-03-29T17:39:17.583Z"
   },
   {
    "duration": 13607,
    "start_time": "2025-03-29T17:39:18.768Z"
   },
   {
    "duration": 136,
    "start_time": "2025-03-29T17:39:32.377Z"
   },
   {
    "duration": 18,
    "start_time": "2025-03-29T17:39:32.515Z"
   },
   {
    "duration": 253,
    "start_time": "2025-03-29T17:39:32.534Z"
   },
   {
    "duration": 29,
    "start_time": "2025-03-29T17:39:32.789Z"
   },
   {
    "duration": 11,
    "start_time": "2025-03-29T17:39:32.820Z"
   },
   {
    "duration": 71,
    "start_time": "2025-03-29T17:39:32.834Z"
   },
   {
    "duration": 10,
    "start_time": "2025-03-29T17:39:32.908Z"
   },
   {
    "duration": 1013,
    "start_time": "2025-03-29T17:39:32.922Z"
   },
   {
    "duration": 385,
    "start_time": "2025-03-29T17:39:33.937Z"
   },
   {
    "duration": 580,
    "start_time": "2025-03-29T17:39:34.324Z"
   },
   {
    "duration": 17,
    "start_time": "2025-03-29T17:39:34.905Z"
   },
   {
    "duration": 362,
    "start_time": "2025-03-29T17:39:34.923Z"
   },
   {
    "duration": 410,
    "start_time": "2025-03-29T17:39:35.287Z"
   },
   {
    "duration": 215,
    "start_time": "2025-03-29T17:39:35.698Z"
   },
   {
    "duration": 1632,
    "start_time": "2025-03-29T17:39:35.915Z"
   },
   {
    "duration": 237,
    "start_time": "2025-03-29T17:39:37.548Z"
   },
   {
    "duration": 877,
    "start_time": "2025-03-29T17:39:37.787Z"
   },
   {
    "duration": 1049,
    "start_time": "2025-03-29T17:39:38.668Z"
   },
   {
    "duration": 1060,
    "start_time": "2025-03-29T17:39:39.718Z"
   },
   {
    "duration": 1856,
    "start_time": "2025-03-29T17:39:40.779Z"
   },
   {
    "duration": 5894,
    "start_time": "2025-03-29T17:39:42.637Z"
   },
   {
    "duration": 5498,
    "start_time": "2025-03-29T17:39:48.532Z"
   },
   {
    "duration": 48,
    "start_time": "2025-03-29T17:39:54.031Z"
   },
   {
    "duration": 95,
    "start_time": "2025-03-29T17:39:54.083Z"
   },
   {
    "duration": 357,
    "start_time": "2025-03-29T17:39:54.180Z"
   },
   {
    "duration": 406,
    "start_time": "2025-03-29T17:39:54.540Z"
   },
   {
    "duration": 267,
    "start_time": "2025-03-29T17:39:54.957Z"
   },
   {
    "duration": 288,
    "start_time": "2025-03-29T17:39:55.225Z"
   },
   {
    "duration": 17,
    "start_time": "2025-03-29T17:39:55.515Z"
   },
   {
    "duration": 337,
    "start_time": "2025-03-29T17:39:55.533Z"
   },
   {
    "duration": 190,
    "start_time": "2025-03-29T17:39:55.877Z"
   },
   {
    "duration": 1454,
    "start_time": "2025-03-29T17:39:56.072Z"
   },
   {
    "duration": 74,
    "start_time": "2025-03-29T17:39:57.527Z"
   },
   {
    "duration": 32,
    "start_time": "2025-03-29T17:39:57.603Z"
   },
   {
    "duration": 60,
    "start_time": "2025-03-29T17:39:57.637Z"
   },
   {
    "duration": 149,
    "start_time": "2025-03-29T17:39:57.699Z"
   },
   {
    "duration": 0,
    "start_time": "2025-03-29T17:39:57.850Z"
   },
   {
    "duration": 0,
    "start_time": "2025-03-29T17:39:57.851Z"
   },
   {
    "duration": 0,
    "start_time": "2025-03-29T17:39:57.853Z"
   },
   {
    "duration": 0,
    "start_time": "2025-03-29T17:39:57.861Z"
   },
   {
    "duration": 0,
    "start_time": "2025-03-29T17:39:57.862Z"
   },
   {
    "duration": 550,
    "start_time": "2025-03-29T17:40:59.845Z"
   },
   {
    "duration": 10,
    "start_time": "2025-03-29T17:41:09.024Z"
   },
   {
    "duration": 521,
    "start_time": "2025-03-29T17:41:32.215Z"
   },
   {
    "duration": 16,
    "start_time": "2025-03-29T17:41:36.873Z"
   },
   {
    "duration": 5,
    "start_time": "2025-03-29T17:41:51.583Z"
   },
   {
    "duration": 6,
    "start_time": "2025-03-29T17:42:48.321Z"
   },
   {
    "duration": 8,
    "start_time": "2025-03-29T17:42:49.118Z"
   },
   {
    "duration": 8,
    "start_time": "2025-03-29T17:43:07.877Z"
   },
   {
    "duration": 511,
    "start_time": "2025-03-29T17:43:55.778Z"
   },
   {
    "duration": 15,
    "start_time": "2025-03-29T17:45:13.659Z"
   },
   {
    "duration": 22,
    "start_time": "2025-03-29T17:47:21.853Z"
   },
   {
    "duration": 27,
    "start_time": "2025-03-29T17:49:07.862Z"
   },
   {
    "duration": 554,
    "start_time": "2025-03-29T17:57:38.624Z"
   },
   {
    "duration": 12,
    "start_time": "2025-03-29T17:58:43.639Z"
   },
   {
    "duration": 12,
    "start_time": "2025-03-29T18:02:02.802Z"
   },
   {
    "duration": 8,
    "start_time": "2025-03-29T18:03:20.300Z"
   },
   {
    "duration": 14,
    "start_time": "2025-03-29T18:03:43.109Z"
   },
   {
    "duration": 12,
    "start_time": "2025-03-29T18:03:54.106Z"
   },
   {
    "duration": 11,
    "start_time": "2025-03-29T18:03:58.120Z"
   },
   {
    "duration": 188,
    "start_time": "2025-03-29T18:04:42.548Z"
   },
   {
    "duration": 9,
    "start_time": "2025-03-29T18:05:00.630Z"
   },
   {
    "duration": 10,
    "start_time": "2025-03-29T18:05:20.536Z"
   },
   {
    "duration": 10,
    "start_time": "2025-03-29T18:08:03.320Z"
   },
   {
    "duration": 8,
    "start_time": "2025-03-29T18:08:45.273Z"
   },
   {
    "duration": 5,
    "start_time": "2025-03-29T18:09:03.589Z"
   },
   {
    "duration": 8,
    "start_time": "2025-03-29T18:09:25.594Z"
   },
   {
    "duration": 8,
    "start_time": "2025-03-29T18:09:30.645Z"
   },
   {
    "duration": 8,
    "start_time": "2025-03-29T18:09:35.394Z"
   },
   {
    "duration": 99,
    "start_time": "2025-03-29T18:14:18.625Z"
   },
   {
    "duration": 111,
    "start_time": "2025-03-29T18:15:35.672Z"
   },
   {
    "duration": 75,
    "start_time": "2025-03-29T18:16:20.068Z"
   },
   {
    "duration": 1181,
    "start_time": "2025-03-29T18:17:30.355Z"
   },
   {
    "duration": 14389,
    "start_time": "2025-03-29T18:17:31.538Z"
   },
   {
    "duration": 143,
    "start_time": "2025-03-29T18:17:45.929Z"
   },
   {
    "duration": 17,
    "start_time": "2025-03-29T18:17:46.074Z"
   },
   {
    "duration": 259,
    "start_time": "2025-03-29T18:17:46.093Z"
   },
   {
    "duration": 33,
    "start_time": "2025-03-29T18:17:46.354Z"
   },
   {
    "duration": 37,
    "start_time": "2025-03-29T18:17:46.388Z"
   },
   {
    "duration": 82,
    "start_time": "2025-03-29T18:17:46.427Z"
   },
   {
    "duration": 8,
    "start_time": "2025-03-29T18:17:46.511Z"
   },
   {
    "duration": 902,
    "start_time": "2025-03-29T18:17:46.521Z"
   },
   {
    "duration": 373,
    "start_time": "2025-03-29T18:17:47.425Z"
   },
   {
    "duration": 561,
    "start_time": "2025-03-29T18:17:47.800Z"
   },
   {
    "duration": 17,
    "start_time": "2025-03-29T18:17:48.369Z"
   },
   {
    "duration": 349,
    "start_time": "2025-03-29T18:17:48.389Z"
   },
   {
    "duration": 461,
    "start_time": "2025-03-29T18:17:48.740Z"
   },
   {
    "duration": 205,
    "start_time": "2025-03-29T18:17:49.202Z"
   },
   {
    "duration": 1514,
    "start_time": "2025-03-29T18:17:49.409Z"
   },
   {
    "duration": 213,
    "start_time": "2025-03-29T18:17:50.925Z"
   },
   {
    "duration": 814,
    "start_time": "2025-03-29T18:17:51.139Z"
   },
   {
    "duration": 976,
    "start_time": "2025-03-29T18:17:51.956Z"
   },
   {
    "duration": 1045,
    "start_time": "2025-03-29T18:17:52.934Z"
   },
   {
    "duration": 1850,
    "start_time": "2025-03-29T18:17:53.981Z"
   },
   {
    "duration": 6676,
    "start_time": "2025-03-29T18:17:55.833Z"
   },
   {
    "duration": 5413,
    "start_time": "2025-03-29T18:18:02.511Z"
   },
   {
    "duration": 46,
    "start_time": "2025-03-29T18:18:07.926Z"
   },
   {
    "duration": 83,
    "start_time": "2025-03-29T18:18:07.974Z"
   },
   {
    "duration": 314,
    "start_time": "2025-03-29T18:18:08.059Z"
   },
   {
    "duration": 376,
    "start_time": "2025-03-29T18:18:08.374Z"
   },
   {
    "duration": 351,
    "start_time": "2025-03-29T18:18:08.759Z"
   },
   {
    "duration": 309,
    "start_time": "2025-03-29T18:18:09.111Z"
   },
   {
    "duration": 16,
    "start_time": "2025-03-29T18:18:09.421Z"
   },
   {
    "duration": 303,
    "start_time": "2025-03-29T18:18:09.439Z"
   },
   {
    "duration": 191,
    "start_time": "2025-03-29T18:18:09.743Z"
   },
   {
    "duration": 1563,
    "start_time": "2025-03-29T18:18:09.935Z"
   },
   {
    "duration": 84,
    "start_time": "2025-03-29T18:18:11.499Z"
   },
   {
    "duration": 36,
    "start_time": "2025-03-29T18:18:11.585Z"
   },
   {
    "duration": 51,
    "start_time": "2025-03-29T18:18:11.622Z"
   },
   {
    "duration": 559,
    "start_time": "2025-03-29T18:18:11.675Z"
   },
   {
    "duration": 32,
    "start_time": "2025-03-29T18:18:12.235Z"
   },
   {
    "duration": 142,
    "start_time": "2025-03-29T18:18:12.268Z"
   },
   {
    "duration": 0,
    "start_time": "2025-03-29T18:18:12.412Z"
   },
   {
    "duration": 0,
    "start_time": "2025-03-29T18:18:12.414Z"
   },
   {
    "duration": 0,
    "start_time": "2025-03-29T18:18:12.416Z"
   },
   {
    "duration": 0,
    "start_time": "2025-03-29T18:18:12.417Z"
   },
   {
    "duration": 0,
    "start_time": "2025-03-29T18:18:12.419Z"
   },
   {
    "duration": 22,
    "start_time": "2025-03-29T18:24:25.369Z"
   },
   {
    "duration": 22,
    "start_time": "2025-03-29T18:24:41.170Z"
   },
   {
    "duration": 15,
    "start_time": "2025-03-29T18:25:13.576Z"
   },
   {
    "duration": 16,
    "start_time": "2025-03-29T18:25:21.911Z"
   },
   {
    "duration": 11,
    "start_time": "2025-03-29T18:25:34.522Z"
   },
   {
    "duration": 1271,
    "start_time": "2025-03-29T18:25:49.851Z"
   },
   {
    "duration": 14732,
    "start_time": "2025-03-29T18:25:51.124Z"
   },
   {
    "duration": 127,
    "start_time": "2025-03-29T18:26:05.861Z"
   },
   {
    "duration": 16,
    "start_time": "2025-03-29T18:26:05.990Z"
   },
   {
    "duration": 279,
    "start_time": "2025-03-29T18:26:06.008Z"
   },
   {
    "duration": 28,
    "start_time": "2025-03-29T18:26:06.288Z"
   },
   {
    "duration": 28,
    "start_time": "2025-03-29T18:26:06.317Z"
   },
   {
    "duration": 66,
    "start_time": "2025-03-29T18:26:06.347Z"
   },
   {
    "duration": 8,
    "start_time": "2025-03-29T18:26:06.414Z"
   },
   {
    "duration": 1063,
    "start_time": "2025-03-29T18:26:06.423Z"
   },
   {
    "duration": 394,
    "start_time": "2025-03-29T18:26:07.488Z"
   },
   {
    "duration": 543,
    "start_time": "2025-03-29T18:26:07.883Z"
   },
   {
    "duration": 15,
    "start_time": "2025-03-29T18:26:08.427Z"
   },
   {
    "duration": 476,
    "start_time": "2025-03-29T18:26:08.445Z"
   },
   {
    "duration": 376,
    "start_time": "2025-03-29T18:26:08.922Z"
   },
   {
    "duration": 208,
    "start_time": "2025-03-29T18:26:09.300Z"
   },
   {
    "duration": 1525,
    "start_time": "2025-03-29T18:26:09.510Z"
   },
   {
    "duration": 206,
    "start_time": "2025-03-29T18:26:11.037Z"
   },
   {
    "duration": 846,
    "start_time": "2025-03-29T18:26:11.244Z"
   },
   {
    "duration": 973,
    "start_time": "2025-03-29T18:26:12.091Z"
   },
   {
    "duration": 1028,
    "start_time": "2025-03-29T18:26:13.066Z"
   },
   {
    "duration": 1848,
    "start_time": "2025-03-29T18:26:14.095Z"
   },
   {
    "duration": 5729,
    "start_time": "2025-03-29T18:26:15.945Z"
   },
   {
    "duration": 5514,
    "start_time": "2025-03-29T18:26:21.676Z"
   },
   {
    "duration": 43,
    "start_time": "2025-03-29T18:26:27.192Z"
   },
   {
    "duration": 137,
    "start_time": "2025-03-29T18:26:27.238Z"
   },
   {
    "duration": 323,
    "start_time": "2025-03-29T18:26:27.377Z"
   },
   {
    "duration": 473,
    "start_time": "2025-03-29T18:26:27.702Z"
   },
   {
    "duration": 252,
    "start_time": "2025-03-29T18:26:28.177Z"
   },
   {
    "duration": 300,
    "start_time": "2025-03-29T18:26:28.431Z"
   },
   {
    "duration": 27,
    "start_time": "2025-03-29T18:26:28.732Z"
   },
   {
    "duration": 341,
    "start_time": "2025-03-29T18:26:28.761Z"
   },
   {
    "duration": 188,
    "start_time": "2025-03-29T18:26:29.103Z"
   },
   {
    "duration": 1453,
    "start_time": "2025-03-29T18:26:29.293Z"
   },
   {
    "duration": 75,
    "start_time": "2025-03-29T18:26:30.747Z"
   },
   {
    "duration": 51,
    "start_time": "2025-03-29T18:26:30.823Z"
   },
   {
    "duration": 39,
    "start_time": "2025-03-29T18:26:30.876Z"
   },
   {
    "duration": 559,
    "start_time": "2025-03-29T18:26:30.917Z"
   },
   {
    "duration": 17,
    "start_time": "2025-03-29T18:26:31.477Z"
   },
   {
    "duration": 11,
    "start_time": "2025-03-29T18:26:31.495Z"
   },
   {
    "duration": 556,
    "start_time": "2025-03-29T18:26:31.510Z"
   },
   {
    "duration": 16,
    "start_time": "2025-03-29T18:26:32.068Z"
   },
   {
    "duration": 15,
    "start_time": "2025-03-29T18:26:32.086Z"
   },
   {
    "duration": 8,
    "start_time": "2025-03-29T18:26:32.103Z"
   },
   {
    "duration": 13,
    "start_time": "2025-03-29T18:26:32.112Z"
   },
   {
    "duration": 21,
    "start_time": "2025-03-29T18:31:04.539Z"
   },
   {
    "duration": 22,
    "start_time": "2025-03-29T18:31:25.650Z"
   },
   {
    "duration": 106,
    "start_time": "2025-03-29T18:33:41.785Z"
   },
   {
    "duration": 1155,
    "start_time": "2025-03-29T18:34:16.021Z"
   },
   {
    "duration": 14148,
    "start_time": "2025-03-29T18:34:17.178Z"
   },
   {
    "duration": 136,
    "start_time": "2025-03-29T18:34:31.327Z"
   },
   {
    "duration": 19,
    "start_time": "2025-03-29T18:34:31.465Z"
   },
   {
    "duration": 245,
    "start_time": "2025-03-29T18:34:31.485Z"
   },
   {
    "duration": 35,
    "start_time": "2025-03-29T18:34:31.732Z"
   },
   {
    "duration": 12,
    "start_time": "2025-03-29T18:34:31.770Z"
   },
   {
    "duration": 65,
    "start_time": "2025-03-29T18:34:31.783Z"
   },
   {
    "duration": 24,
    "start_time": "2025-03-29T18:34:31.850Z"
   },
   {
    "duration": 1654,
    "start_time": "2025-03-29T18:34:31.877Z"
   },
   {
    "duration": 367,
    "start_time": "2025-03-29T18:34:33.533Z"
   },
   {
    "duration": 526,
    "start_time": "2025-03-29T18:34:33.902Z"
   },
   {
    "duration": 15,
    "start_time": "2025-03-29T18:34:34.430Z"
   },
   {
    "duration": 345,
    "start_time": "2025-03-29T18:34:34.456Z"
   },
   {
    "duration": 387,
    "start_time": "2025-03-29T18:34:34.803Z"
   },
   {
    "duration": 212,
    "start_time": "2025-03-29T18:34:35.191Z"
   },
   {
    "duration": 1479,
    "start_time": "2025-03-29T18:34:35.405Z"
   },
   {
    "duration": 209,
    "start_time": "2025-03-29T18:34:36.886Z"
   },
   {
    "duration": 798,
    "start_time": "2025-03-29T18:34:37.097Z"
   },
   {
    "duration": 953,
    "start_time": "2025-03-29T18:34:37.897Z"
   },
   {
    "duration": 972,
    "start_time": "2025-03-29T18:34:38.857Z"
   },
   {
    "duration": 1798,
    "start_time": "2025-03-29T18:34:39.830Z"
   },
   {
    "duration": 5609,
    "start_time": "2025-03-29T18:34:41.629Z"
   },
   {
    "duration": 5299,
    "start_time": "2025-03-29T18:34:47.239Z"
   },
   {
    "duration": 42,
    "start_time": "2025-03-29T18:34:52.540Z"
   },
   {
    "duration": 97,
    "start_time": "2025-03-29T18:34:52.583Z"
   },
   {
    "duration": 343,
    "start_time": "2025-03-29T18:34:52.681Z"
   },
   {
    "duration": 431,
    "start_time": "2025-03-29T18:34:53.028Z"
   },
   {
    "duration": 262,
    "start_time": "2025-03-29T18:34:53.461Z"
   },
   {
    "duration": 302,
    "start_time": "2025-03-29T18:34:53.725Z"
   },
   {
    "duration": 33,
    "start_time": "2025-03-29T18:34:54.029Z"
   },
   {
    "duration": 293,
    "start_time": "2025-03-29T18:34:54.068Z"
   },
   {
    "duration": 166,
    "start_time": "2025-03-29T18:34:54.368Z"
   },
   {
    "duration": 1438,
    "start_time": "2025-03-29T18:34:54.536Z"
   },
   {
    "duration": 66,
    "start_time": "2025-03-29T18:34:55.976Z"
   },
   {
    "duration": 39,
    "start_time": "2025-03-29T18:34:56.044Z"
   },
   {
    "duration": 36,
    "start_time": "2025-03-29T18:34:56.085Z"
   },
   {
    "duration": 570,
    "start_time": "2025-03-29T18:34:56.123Z"
   },
   {
    "duration": 16,
    "start_time": "2025-03-29T18:34:56.695Z"
   },
   {
    "duration": 58,
    "start_time": "2025-03-29T18:34:56.713Z"
   },
   {
    "duration": 512,
    "start_time": "2025-03-29T18:34:56.773Z"
   },
   {
    "duration": 13,
    "start_time": "2025-03-29T18:34:57.287Z"
   },
   {
    "duration": 7,
    "start_time": "2025-03-29T18:34:57.302Z"
   },
   {
    "duration": 43,
    "start_time": "2025-03-29T18:36:19.652Z"
   },
   {
    "duration": 30,
    "start_time": "2025-03-29T18:36:31.371Z"
   },
   {
    "duration": 30,
    "start_time": "2025-03-29T18:36:36.108Z"
   },
   {
    "duration": 29,
    "start_time": "2025-03-29T18:36:57.221Z"
   },
   {
    "duration": 40,
    "start_time": "2025-03-29T18:37:12.838Z"
   },
   {
    "duration": 28,
    "start_time": "2025-03-29T18:37:17.582Z"
   },
   {
    "duration": 29,
    "start_time": "2025-03-29T18:37:23.425Z"
   },
   {
    "duration": 37,
    "start_time": "2025-03-29T18:39:29.458Z"
   },
   {
    "duration": 47,
    "start_time": "2025-03-29T18:40:34.546Z"
   },
   {
    "duration": 50,
    "start_time": "2025-03-29T18:41:24.155Z"
   },
   {
    "duration": 8,
    "start_time": "2025-03-29T18:42:12.290Z"
   },
   {
    "duration": 30,
    "start_time": "2025-03-29T18:50:03.379Z"
   },
   {
    "duration": 8,
    "start_time": "2025-03-29T18:50:41.240Z"
   },
   {
    "duration": 268,
    "start_time": "2025-03-29T19:00:39.518Z"
   },
   {
    "duration": 1196,
    "start_time": "2025-03-29T19:01:26.581Z"
   },
   {
    "duration": 14655,
    "start_time": "2025-03-29T19:01:27.778Z"
   },
   {
    "duration": 149,
    "start_time": "2025-03-29T19:01:42.435Z"
   },
   {
    "duration": 21,
    "start_time": "2025-03-29T19:01:42.587Z"
   },
   {
    "duration": 302,
    "start_time": "2025-03-29T19:01:42.610Z"
   },
   {
    "duration": 29,
    "start_time": "2025-03-29T19:01:42.913Z"
   },
   {
    "duration": 28,
    "start_time": "2025-03-29T19:01:42.944Z"
   },
   {
    "duration": 66,
    "start_time": "2025-03-29T19:01:42.974Z"
   },
   {
    "duration": 7,
    "start_time": "2025-03-29T19:01:43.042Z"
   },
   {
    "duration": 947,
    "start_time": "2025-03-29T19:01:43.052Z"
   },
   {
    "duration": 386,
    "start_time": "2025-03-29T19:01:44.001Z"
   },
   {
    "duration": 549,
    "start_time": "2025-03-29T19:01:44.389Z"
   },
   {
    "duration": 33,
    "start_time": "2025-03-29T19:01:44.939Z"
   },
   {
    "duration": 372,
    "start_time": "2025-03-29T19:01:44.974Z"
   },
   {
    "duration": 445,
    "start_time": "2025-03-29T19:01:45.348Z"
   },
   {
    "duration": 210,
    "start_time": "2025-03-29T19:01:45.794Z"
   },
   {
    "duration": 1543,
    "start_time": "2025-03-29T19:01:46.006Z"
   },
   {
    "duration": 202,
    "start_time": "2025-03-29T19:01:47.551Z"
   },
   {
    "duration": 855,
    "start_time": "2025-03-29T19:01:47.757Z"
   },
   {
    "duration": 1044,
    "start_time": "2025-03-29T19:01:48.614Z"
   },
   {
    "duration": 1408,
    "start_time": "2025-03-29T19:01:49.664Z"
   },
   {
    "duration": 2337,
    "start_time": "2025-03-29T19:01:51.073Z"
   },
   {
    "duration": 5609,
    "start_time": "2025-03-29T19:01:53.412Z"
   },
   {
    "duration": 5365,
    "start_time": "2025-03-29T19:01:59.022Z"
   },
   {
    "duration": 28,
    "start_time": "2025-03-29T19:02:04.389Z"
   },
   {
    "duration": 103,
    "start_time": "2025-03-29T19:02:04.418Z"
   },
   {
    "duration": 312,
    "start_time": "2025-03-29T19:02:04.523Z"
   },
   {
    "duration": 404,
    "start_time": "2025-03-29T19:02:04.838Z"
   },
   {
    "duration": 271,
    "start_time": "2025-03-29T19:02:05.243Z"
   },
   {
    "duration": 319,
    "start_time": "2025-03-29T19:02:05.516Z"
   },
   {
    "duration": 36,
    "start_time": "2025-03-29T19:02:05.837Z"
   },
   {
    "duration": 317,
    "start_time": "2025-03-29T19:02:05.875Z"
   },
   {
    "duration": 184,
    "start_time": "2025-03-29T19:02:06.193Z"
   },
   {
    "duration": 1485,
    "start_time": "2025-03-29T19:02:06.378Z"
   },
   {
    "duration": 76,
    "start_time": "2025-03-29T19:02:07.868Z"
   },
   {
    "duration": 52,
    "start_time": "2025-03-29T19:02:07.946Z"
   },
   {
    "duration": 38,
    "start_time": "2025-03-29T19:02:08.000Z"
   },
   {
    "duration": 305,
    "start_time": "2025-03-29T19:02:08.039Z"
   },
   {
    "duration": 568,
    "start_time": "2025-03-29T19:02:08.345Z"
   },
   {
    "duration": 17,
    "start_time": "2025-03-29T19:02:08.914Z"
   },
   {
    "duration": 51,
    "start_time": "2025-03-29T19:02:08.933Z"
   },
   {
    "duration": 509,
    "start_time": "2025-03-29T19:02:08.986Z"
   },
   {
    "duration": 14,
    "start_time": "2025-03-29T19:02:09.496Z"
   },
   {
    "duration": 9,
    "start_time": "2025-03-29T19:02:09.512Z"
   },
   {
    "duration": 294,
    "start_time": "2025-03-29T19:05:00.308Z"
   },
   {
    "duration": 621,
    "start_time": "2025-03-29T19:06:10.803Z"
   },
   {
    "duration": 20,
    "start_time": "2025-03-29T19:06:26.761Z"
   },
   {
    "duration": 552,
    "start_time": "2025-03-29T19:07:08.366Z"
   },
   {
    "duration": 13,
    "start_time": "2025-03-29T19:07:09.214Z"
   },
   {
    "duration": 8,
    "start_time": "2025-03-29T19:07:12.921Z"
   },
   {
    "duration": 9,
    "start_time": "2025-03-29T19:12:20.473Z"
   },
   {
    "duration": 7,
    "start_time": "2025-03-29T19:12:31.139Z"
   },
   {
    "duration": 10,
    "start_time": "2025-03-29T19:12:54.200Z"
   },
   {
    "duration": 9,
    "start_time": "2025-03-29T19:12:59.526Z"
   },
   {
    "duration": 8,
    "start_time": "2025-03-29T19:13:17.429Z"
   },
   {
    "duration": 130,
    "start_time": "2025-03-29T19:16:24.502Z"
   },
   {
    "duration": 10,
    "start_time": "2025-03-29T19:16:33.085Z"
   },
   {
    "duration": 9,
    "start_time": "2025-03-29T19:16:34.717Z"
   },
   {
    "duration": 1125,
    "start_time": "2025-03-29T19:17:05.073Z"
   },
   {
    "duration": 13336,
    "start_time": "2025-03-29T19:17:06.200Z"
   },
   {
    "duration": 126,
    "start_time": "2025-03-29T19:17:19.538Z"
   },
   {
    "duration": 17,
    "start_time": "2025-03-29T19:17:19.666Z"
   },
   {
    "duration": 246,
    "start_time": "2025-03-29T19:17:19.685Z"
   },
   {
    "duration": 32,
    "start_time": "2025-03-29T19:17:19.933Z"
   },
   {
    "duration": 13,
    "start_time": "2025-03-29T19:17:19.967Z"
   },
   {
    "duration": 61,
    "start_time": "2025-03-29T19:17:19.982Z"
   },
   {
    "duration": 8,
    "start_time": "2025-03-29T19:17:20.044Z"
   },
   {
    "duration": 897,
    "start_time": "2025-03-29T19:17:20.054Z"
   },
   {
    "duration": 359,
    "start_time": "2025-03-29T19:17:20.952Z"
   },
   {
    "duration": 500,
    "start_time": "2025-03-29T19:17:21.313Z"
   },
   {
    "duration": 15,
    "start_time": "2025-03-29T19:17:21.815Z"
   },
   {
    "duration": 366,
    "start_time": "2025-03-29T19:17:21.832Z"
   },
   {
    "duration": 372,
    "start_time": "2025-03-29T19:17:22.200Z"
   },
   {
    "duration": 198,
    "start_time": "2025-03-29T19:17:22.574Z"
   },
   {
    "duration": 1464,
    "start_time": "2025-03-29T19:17:22.773Z"
   },
   {
    "duration": 195,
    "start_time": "2025-03-29T19:17:24.239Z"
   },
   {
    "duration": 800,
    "start_time": "2025-03-29T19:17:24.435Z"
   },
   {
    "duration": 958,
    "start_time": "2025-03-29T19:17:25.236Z"
   },
   {
    "duration": 997,
    "start_time": "2025-03-29T19:17:26.195Z"
   },
   {
    "duration": 1834,
    "start_time": "2025-03-29T19:17:27.193Z"
   },
   {
    "duration": 6178,
    "start_time": "2025-03-29T19:17:29.029Z"
   },
   {
    "duration": 4988,
    "start_time": "2025-03-29T19:17:35.209Z"
   },
   {
    "duration": 29,
    "start_time": "2025-03-29T19:17:40.199Z"
   },
   {
    "duration": 97,
    "start_time": "2025-03-29T19:17:40.230Z"
   },
   {
    "duration": 329,
    "start_time": "2025-03-29T19:17:40.329Z"
   },
   {
    "duration": 367,
    "start_time": "2025-03-29T19:17:40.662Z"
   },
   {
    "duration": 269,
    "start_time": "2025-03-29T19:17:41.031Z"
   },
   {
    "duration": 320,
    "start_time": "2025-03-29T19:17:41.301Z"
   },
   {
    "duration": 17,
    "start_time": "2025-03-29T19:17:41.623Z"
   },
   {
    "duration": 287,
    "start_time": "2025-03-29T19:17:41.658Z"
   },
   {
    "duration": 176,
    "start_time": "2025-03-29T19:17:41.947Z"
   },
   {
    "duration": 1493,
    "start_time": "2025-03-29T19:17:42.125Z"
   },
   {
    "duration": 69,
    "start_time": "2025-03-29T19:17:43.620Z"
   },
   {
    "duration": 35,
    "start_time": "2025-03-29T19:17:43.691Z"
   },
   {
    "duration": 52,
    "start_time": "2025-03-29T19:17:43.728Z"
   },
   {
    "duration": 110,
    "start_time": "2025-03-29T19:17:43.782Z"
   },
   {
    "duration": 0,
    "start_time": "2025-03-29T19:17:43.893Z"
   },
   {
    "duration": 0,
    "start_time": "2025-03-29T19:17:43.895Z"
   },
   {
    "duration": 1,
    "start_time": "2025-03-29T19:17:43.896Z"
   },
   {
    "duration": 0,
    "start_time": "2025-03-29T19:17:43.898Z"
   },
   {
    "duration": 0,
    "start_time": "2025-03-29T19:17:43.900Z"
   },
   {
    "duration": 0,
    "start_time": "2025-03-29T19:17:43.901Z"
   },
   {
    "duration": 511,
    "start_time": "2025-03-29T19:18:13.578Z"
   },
   {
    "duration": 8,
    "start_time": "2025-03-29T19:18:14.512Z"
   },
   {
    "duration": 8,
    "start_time": "2025-03-29T19:18:17.243Z"
   },
   {
    "duration": 17,
    "start_time": "2025-03-29T19:18:19.711Z"
   },
   {
    "duration": 475,
    "start_time": "2025-03-29T19:19:09.148Z"
   },
   {
    "duration": 12,
    "start_time": "2025-03-29T19:19:11.200Z"
   },
   {
    "duration": 8,
    "start_time": "2025-03-29T19:19:31.219Z"
   },
   {
    "duration": 588,
    "start_time": "2025-03-29T19:21:27.114Z"
   },
   {
    "duration": 14,
    "start_time": "2025-03-29T19:21:29.080Z"
   },
   {
    "duration": 15,
    "start_time": "2025-03-29T19:21:33.980Z"
   },
   {
    "duration": 496,
    "start_time": "2025-03-29T19:24:03.449Z"
   },
   {
    "duration": 13,
    "start_time": "2025-03-29T19:24:08.152Z"
   },
   {
    "duration": 546,
    "start_time": "2025-03-29T19:25:18.113Z"
   },
   {
    "duration": 569,
    "start_time": "2025-03-29T19:26:24.068Z"
   },
   {
    "duration": 12,
    "start_time": "2025-03-29T19:26:28.582Z"
   },
   {
    "duration": 502,
    "start_time": "2025-03-29T19:26:37.400Z"
   },
   {
    "duration": 13,
    "start_time": "2025-03-29T19:26:44.636Z"
   },
   {
    "duration": 110,
    "start_time": "2025-03-29T19:28:31.379Z"
   },
   {
    "duration": 14,
    "start_time": "2025-03-29T19:28:33.498Z"
   },
   {
    "duration": 558,
    "start_time": "2025-03-29T19:29:45.805Z"
   },
   {
    "duration": 12,
    "start_time": "2025-03-29T19:29:48.940Z"
   },
   {
    "duration": 481,
    "start_time": "2025-03-29T19:30:41.547Z"
   },
   {
    "duration": 13,
    "start_time": "2025-03-29T19:30:51.801Z"
   },
   {
    "duration": 236,
    "start_time": "2025-03-29T19:33:00.766Z"
   },
   {
    "duration": 16,
    "start_time": "2025-03-29T19:33:03.492Z"
   },
   {
    "duration": 94,
    "start_time": "2025-03-29T19:33:42.123Z"
   },
   {
    "duration": 1166,
    "start_time": "2025-03-29T19:34:07.529Z"
   },
   {
    "duration": 13338,
    "start_time": "2025-03-29T19:34:08.697Z"
   },
   {
    "duration": 128,
    "start_time": "2025-03-29T19:34:22.037Z"
   },
   {
    "duration": 16,
    "start_time": "2025-03-29T19:34:22.167Z"
   },
   {
    "duration": 251,
    "start_time": "2025-03-29T19:34:22.185Z"
   },
   {
    "duration": 29,
    "start_time": "2025-03-29T19:34:22.438Z"
   },
   {
    "duration": 14,
    "start_time": "2025-03-29T19:34:22.468Z"
   },
   {
    "duration": 92,
    "start_time": "2025-03-29T19:34:22.483Z"
   },
   {
    "duration": 8,
    "start_time": "2025-03-29T19:34:22.577Z"
   },
   {
    "duration": 932,
    "start_time": "2025-03-29T19:34:22.587Z"
   },
   {
    "duration": 366,
    "start_time": "2025-03-29T19:34:23.520Z"
   },
   {
    "duration": 515,
    "start_time": "2025-03-29T19:34:23.888Z"
   },
   {
    "duration": 17,
    "start_time": "2025-03-29T19:34:24.405Z"
   },
   {
    "duration": 376,
    "start_time": "2025-03-29T19:34:24.423Z"
   },
   {
    "duration": 367,
    "start_time": "2025-03-29T19:34:24.800Z"
   },
   {
    "duration": 194,
    "start_time": "2025-03-29T19:34:25.168Z"
   },
   {
    "duration": 1436,
    "start_time": "2025-03-29T19:34:25.363Z"
   },
   {
    "duration": 195,
    "start_time": "2025-03-29T19:34:26.801Z"
   },
   {
    "duration": 807,
    "start_time": "2025-03-29T19:34:26.999Z"
   },
   {
    "duration": 900,
    "start_time": "2025-03-29T19:34:27.808Z"
   },
   {
    "duration": 950,
    "start_time": "2025-03-29T19:34:28.709Z"
   },
   {
    "duration": 1714,
    "start_time": "2025-03-29T19:34:29.661Z"
   },
   {
    "duration": 5202,
    "start_time": "2025-03-29T19:34:31.377Z"
   },
   {
    "duration": 4787,
    "start_time": "2025-03-29T19:34:36.581Z"
   },
   {
    "duration": 27,
    "start_time": "2025-03-29T19:34:41.370Z"
   },
   {
    "duration": 93,
    "start_time": "2025-03-29T19:34:41.399Z"
   },
   {
    "duration": 336,
    "start_time": "2025-03-29T19:34:41.494Z"
   },
   {
    "duration": 382,
    "start_time": "2025-03-29T19:34:41.833Z"
   },
   {
    "duration": 299,
    "start_time": "2025-03-29T19:34:42.217Z"
   },
   {
    "duration": 292,
    "start_time": "2025-03-29T19:34:42.518Z"
   },
   {
    "duration": 17,
    "start_time": "2025-03-29T19:34:42.812Z"
   },
   {
    "duration": 300,
    "start_time": "2025-03-29T19:34:42.831Z"
   },
   {
    "duration": 196,
    "start_time": "2025-03-29T19:34:43.132Z"
   },
   {
    "duration": 1349,
    "start_time": "2025-03-29T19:34:43.329Z"
   },
   {
    "duration": 66,
    "start_time": "2025-03-29T19:34:44.680Z"
   },
   {
    "duration": 33,
    "start_time": "2025-03-29T19:34:44.748Z"
   },
   {
    "duration": 35,
    "start_time": "2025-03-29T19:34:44.783Z"
   },
   {
    "duration": 510,
    "start_time": "2025-03-29T19:34:44.820Z"
   },
   {
    "duration": 8,
    "start_time": "2025-03-29T19:34:45.332Z"
   },
   {
    "duration": 16,
    "start_time": "2025-03-29T19:34:45.341Z"
   },
   {
    "duration": 16,
    "start_time": "2025-03-29T19:34:45.359Z"
   },
   {
    "duration": 245,
    "start_time": "2025-03-29T19:34:45.377Z"
   },
   {
    "duration": 16,
    "start_time": "2025-03-29T19:34:45.624Z"
   },
   {
    "duration": 107,
    "start_time": "2025-03-29T19:34:45.657Z"
   },
   {
    "duration": 1430,
    "start_time": "2025-03-30T18:41:59.462Z"
   },
   {
    "duration": 12224,
    "start_time": "2025-03-30T18:42:00.895Z"
   },
   {
    "duration": 134,
    "start_time": "2025-03-30T18:42:13.121Z"
   },
   {
    "duration": 18,
    "start_time": "2025-03-30T18:42:13.257Z"
   },
   {
    "duration": 365,
    "start_time": "2025-03-30T18:42:13.278Z"
   },
   {
    "duration": 24,
    "start_time": "2025-03-30T18:42:13.645Z"
   },
   {
    "duration": 30,
    "start_time": "2025-03-30T18:42:13.670Z"
   },
   {
    "duration": 111,
    "start_time": "2025-03-30T18:42:13.701Z"
   },
   {
    "duration": 8,
    "start_time": "2025-03-30T18:42:13.814Z"
   },
   {
    "duration": 880,
    "start_time": "2025-03-30T18:42:13.824Z"
   },
   {
    "duration": 356,
    "start_time": "2025-03-30T18:42:14.705Z"
   },
   {
    "duration": 521,
    "start_time": "2025-03-30T18:42:15.062Z"
   },
   {
    "duration": 26,
    "start_time": "2025-03-30T18:42:15.585Z"
   },
   {
    "duration": 391,
    "start_time": "2025-03-30T18:42:15.614Z"
   },
   {
    "duration": 457,
    "start_time": "2025-03-30T18:42:16.006Z"
   },
   {
    "duration": 207,
    "start_time": "2025-03-30T18:42:16.464Z"
   },
   {
    "duration": 1451,
    "start_time": "2025-03-30T18:42:16.673Z"
   },
   {
    "duration": 201,
    "start_time": "2025-03-30T18:42:18.126Z"
   },
   {
    "duration": 815,
    "start_time": "2025-03-30T18:42:18.328Z"
   },
   {
    "duration": 914,
    "start_time": "2025-03-30T18:42:19.145Z"
   },
   {
    "duration": 939,
    "start_time": "2025-03-30T18:42:20.060Z"
   },
   {
    "duration": 1727,
    "start_time": "2025-03-30T18:42:21.001Z"
   },
   {
    "duration": 5712,
    "start_time": "2025-03-30T18:42:22.729Z"
   },
   {
    "duration": 4990,
    "start_time": "2025-03-30T18:42:28.443Z"
   },
   {
    "duration": 38,
    "start_time": "2025-03-30T18:42:33.435Z"
   },
   {
    "duration": 99,
    "start_time": "2025-03-30T18:42:33.474Z"
   },
   {
    "duration": 305,
    "start_time": "2025-03-30T18:42:33.575Z"
   },
   {
    "duration": 398,
    "start_time": "2025-03-30T18:42:33.881Z"
   },
   {
    "duration": 303,
    "start_time": "2025-03-30T18:42:34.280Z"
   },
   {
    "duration": 273,
    "start_time": "2025-03-30T18:42:34.584Z"
   },
   {
    "duration": 17,
    "start_time": "2025-03-30T18:42:34.859Z"
   },
   {
    "duration": 307,
    "start_time": "2025-03-30T18:42:34.877Z"
   },
   {
    "duration": 176,
    "start_time": "2025-03-30T18:42:35.186Z"
   },
   {
    "duration": 1425,
    "start_time": "2025-03-30T18:42:35.363Z"
   },
   {
    "duration": 66,
    "start_time": "2025-03-30T18:42:36.790Z"
   },
   {
    "duration": 102,
    "start_time": "2025-03-30T18:42:36.857Z"
   },
   {
    "duration": 76,
    "start_time": "2025-03-30T18:42:36.961Z"
   },
   {
    "duration": 544,
    "start_time": "2025-03-30T18:42:37.039Z"
   },
   {
    "duration": 21,
    "start_time": "2025-03-30T18:42:37.586Z"
   },
   {
    "duration": 11,
    "start_time": "2025-03-30T18:42:37.609Z"
   },
   {
    "duration": 25,
    "start_time": "2025-03-30T18:42:37.626Z"
   },
   {
    "duration": 268,
    "start_time": "2025-03-30T18:42:37.652Z"
   },
   {
    "duration": 25,
    "start_time": "2025-03-30T18:42:37.923Z"
   },
   {
    "duration": 156,
    "start_time": "2025-03-30T18:42:37.951Z"
   }
  ],
  "colab": {
   "provenance": []
  },
  "kernelspec": {
   "display_name": "Python 3 (ipykernel)",
   "language": "python",
   "name": "python3"
  },
  "language_info": {
   "codemirror_mode": {
    "name": "ipython",
    "version": 3
   },
   "file_extension": ".py",
   "mimetype": "text/x-python",
   "name": "python",
   "nbconvert_exporter": "python",
   "pygments_lexer": "ipython3",
   "version": "3.9.5"
  },
  "toc": {
   "base_numbering": 1,
   "nav_menu": {},
   "number_sections": true,
   "sideBar": true,
   "skip_h1_title": true,
   "title_cell": "Table of Contents",
   "title_sidebar": "Contents",
   "toc_cell": false,
   "toc_position": {
    "height": "calc(100% - 180px)",
    "left": "10px",
    "top": "150px",
    "width": "305.6px"
   },
   "toc_section_display": true,
   "toc_window_display": true
  }
 },
 "nbformat": 4,
 "nbformat_minor": 1
}
